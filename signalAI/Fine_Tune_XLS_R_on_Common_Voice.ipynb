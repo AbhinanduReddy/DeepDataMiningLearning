{
  "cells": [
    {
      "cell_type": "markdown",
      "metadata": {
        "id": "LBSYoWbi-45k"
      },
      "source": [
        "# **Fine-tuning XLS-R for Multi-Lingual ASR with 🤗 Transformers**\n",
        "\n",
        "ref: https://huggingface.co/blog/fine-tune-xlsr-wav2vec2\n",
        "Original colab link: https://colab.research.google.com/github/patrickvonplaten/notebooks/blob/master/Fine_Tune_XLS_R_on_Common_Voice.ipynb\n"
      ]
    },
    {
      "cell_type": "markdown",
      "metadata": {
        "id": "V7YOT2mnUiea"
      },
      "source": [
        "**Wav2Vec2** is a pretrained model for Automatic Speech Recognition (ASR) and was released in [September 2020](https://ai.facebook.com/blog/wav2vec-20-learning-the-structure-of-speech-from-raw-audio/) by *Alexei Baevski, Michael Auli, and Alex Conneau*.  Soon after the superior performance of Wav2Vec2 was demonstrated on one of the most popular English datasets for ASR, called [LibriSpeech](https://huggingface.co/datasets/librispeech_asr), *Facebook AI* presented a multi-lingual version of Wav2Vec2, called [XLSR](https://arxiv.org/abs/2006.13979). XLSR stands for *cross-lingual speech representations* and refers to model's ability to learn speech representations that are useful across multiple languages.\n",
        "\n",
        "XLSR's successor, simply called **XLS-R** (refering to the [*''XLM-R*](https://ai.facebook.com/blog/-xlm-r-state-of-the-art-cross-lingual-understanding-through-self-supervision/) *for Speech''*), was released in [November 2021](https://ai.facebook.com/blog/xls-r-self-supervised-speech-processing-for-128-languages) by *Arun Babu, Changhan Wang, Andros Tjandra, et al.* XLS-R used almost **half a million** hours of audio data in 128 languages for self-supervised pre-training and comes in sizes ranging from 300 milion up to **two billion** parameters. You can find the pretrained checkpoints on the 🤗 Hub:\n",
        "\n",
        "- [**Wav2Vec2-XLS-R-300M**](https://huggingface.co/facebook/wav2vec2-xls-r-300m)\n",
        "- [**Wav2Vec2-XLS-R-1B**](https://huggingface.co/facebook/wav2vec2-xls-r-1b)\n",
        "- [**Wav2Vec2-XLS-R-2B**](https://huggingface.co/facebook/wav2vec2-xls-r-2b)\n",
        "\n",
        "Similar to [BERT's masked language modeling objective](http://jalammar.github.io/illustrated-bert/), XLS-R learns contextualized speech representations by randomly masking feature vectors before passing them to a transformer network during self-supervised pre-training (*i.e.* diagram on the left below).\n",
        "\n",
        "For fine-tuning, a single linear layer is added on top of the pre-trained network to train the model on labeled data of audio downstream tasks such as speech recognition, speech translation and audio classification (*i.e.* diagram on the right below).\n",
        "\n",
        "![wav2vec2_structure](https://raw.githubusercontent.com/patrickvonplaten/scientific_images/master/xls_r.png)\n",
        "\n",
        "XLS-R shows impressive improvements over previous state-of-the-art results on both speech recognition, speech translation and speaker/language identification, *cf.* with Table 3-6, Table 7-10, and Table 11-12 respectively of the official [paper](https://ai.facebook.com/blog/xls-r-self-supervised-speech-processing-for-128-languages)."
      ]
    },
    {
      "cell_type": "markdown",
      "metadata": {
        "id": "nT_QrfWtsxIz"
      },
      "source": [
        "## Notebook Setup"
      ]
    },
    {
      "cell_type": "markdown",
      "metadata": {
        "id": "kruqixOYHaIo"
      },
      "source": [
        "\n",
        "In this notebook, we will give an in-detail explanation of how XLS-R - more specifically the pre-trained checkpoint [**Wav2Vec2-XLS-R-300M**](https://huggingface.co/facebook/wav2vec2-xls-r-300m) - can be fine-tuned for ASR.  \n",
        "\n",
        "For demonstration purposes, we fine-tune the model on the low resource ASR dataset of [Common Voice](https://huggingface.co/datasets/common_voice) that contains only *ca.* 4h of validated training data."
      ]
    },
    {
      "cell_type": "markdown",
      "metadata": {
        "id": "Gx9OdDYrCtQ1"
      },
      "source": [
        "XLS-R is fine-tuned using Connectionist Temporal Classification (CTC), which is an algorithm that is used to train neural networks for sequence-to-sequence problems, such as ASR and handwriting recognition.\n",
        "\n",
        "I highly recommend reading the well-written blog post [*Sequence Modeling with CTC (2017)*](https://distill.pub/2017/ctc/) by Awni Hannun."
      ]
    },
    {
      "cell_type": "markdown",
      "metadata": {
        "id": "wcHuXIaWyHZU"
      },
      "source": [
        "First, let's try to get a good GPU in our colab! With Google Colab's free version it's sadly becoming much harder to get access to a good GPU. With Google Colab Pro, however, one should easily get either a V100 or P100 GPU."
      ]
    },
    {
      "cell_type": "code",
      "execution_count": 1,
      "metadata": {
        "colab": {
          "base_uri": "https://localhost:8080/"
        },
        "id": "YELVqGxMxnbG",
        "outputId": "1ab7eb67-409d-4371-b99e-7eb1171cb5fb"
      },
      "outputs": [
        {
          "name": "stdout",
          "output_type": "stream",
          "text": [
            "Thu Jan 18 08:45:30 2024       \n",
            "+---------------------------------------------------------------------------------------+\n",
            "| NVIDIA-SMI 545.23.08              Driver Version: 545.23.08    CUDA Version: 12.3     |\n",
            "|-----------------------------------------+----------------------+----------------------+\n",
            "| GPU  Name                 Persistence-M | Bus-Id        Disp.A | Volatile Uncorr. ECC |\n",
            "| Fan  Temp   Perf          Pwr:Usage/Cap |         Memory-Usage | GPU-Util  Compute M. |\n",
            "|                                         |                      |               MIG M. |\n",
            "|=========================================+======================+======================|\n",
            "|   0  NVIDIA GeForce RTX 4090        On  | 00000000:01:00.0 Off |                  Off |\n",
            "|  0%   32C    P8              38W / 480W |     14MiB / 24564MiB |      0%      Default |\n",
            "|                                         |                      |                  N/A |\n",
            "+-----------------------------------------+----------------------+----------------------+\n",
            "                                                                                         \n",
            "+---------------------------------------------------------------------------------------+\n",
            "| Processes:                                                                            |\n",
            "|  GPU   GI   CI        PID   Type   Process name                            GPU Memory |\n",
            "|        ID   ID                                                             Usage      |\n",
            "|=======================================================================================|\n",
            "|    0   N/A  N/A      1842      G   /usr/lib/xorg/Xorg                            4MiB |\n",
            "+---------------------------------------------------------------------------------------+\n"
          ]
        }
      ],
      "source": [
        "gpu_info = !nvidia-smi\n",
        "gpu_info = '\\n'.join(gpu_info)\n",
        "if gpu_info.find('failed') >= 0:\n",
        "  print('Not connected to a GPU')\n",
        "else:\n",
        "  print(gpu_info)"
      ]
    },
    {
      "cell_type": "markdown",
      "metadata": {
        "id": "e335hPmdtASZ"
      },
      "source": [
        "Before we start, let's install `datasets` and `transformers`. Also, we need the `torchaudio` to load audio files and `jiwer` to evaluate our fine-tuned model using the [word error rate (WER)](https://huggingface.co/metrics/wer) metric ${}^1$."
      ]
    },
    {
      "cell_type": "code",
      "execution_count": null,
      "metadata": {
        "id": "c8eh87Hoee5d"
      },
      "outputs": [],
      "source": [
        "%%capture\n",
        "!pip install datasets==1.18.3\n",
        "!pip install transformers==4.11.3\n",
        "!pip install torchaudio==0.10.0+cu113 -f https://download.pytorch.org/whl/cu113/torch_stable.html\n",
        "!pip install jiwer"
      ]
    },
    {
      "cell_type": "markdown",
      "metadata": {
        "id": "0xxt_LwxDQlO"
      },
      "source": [
        "We strongly suggest to upload your training checkpoints directly to the [🤗 Hub](https://huggingface.co/) while training. The [🤗 Hub](https://huggingface.co/) has integrated version control so you can be sure that no model checkpoint is getting lost during training.\n",
        "\n",
        "To do so you have to store your authentication token from the Hugging Face website (sign up [here](https://huggingface.co/join) if you haven't already!)"
      ]
    },
    {
      "cell_type": "code",
      "execution_count": null,
      "metadata": {
        "colab": {
          "base_uri": "https://localhost:8080/",
          "height": 239,
          "referenced_widgets": [
            "b896566369e3403091e357af18648740",
            "26bf8a70fe5449a99ca1b06430b2fc8f",
            "dd5d9b3f70ee4a0dabe18e87ab38145c",
            "2d4eb3e5acc348948299c506db83ca90",
            "384228b409cb4bb0bbd77ef259b9a568",
            "0c01a04a8a924740af301c5c53a51315",
            "15f8964842df434ca0dee00d7dc1bd9a",
            "49f98244a8634be9b2305bb87731e765",
            "a28d3e82e04646b79c89f93cf40ee596",
            "4c3e043e600641538a479df6ad389784",
            "d11d94912b26401a860c80eba767907a",
            "6dd7aa6b17b34d18ba46d834ffd559bc",
            "4bf1f9d3031e4877aa6ef704e9a227d7",
            "bfb6a1e47f6e4f74af4db7e71227ef3e",
            "8541f8f949ea49b7a1335aaf31ca4f81",
            "c237b5686d3e48aeb226c87aa703f63d"
          ]
        },
        "id": "mlMSH3T3EazV",
        "outputId": "cecdacd4-9e12-4878-d5ae-fd2eeeb7d355"
      },
      "outputs": [
        {
          "data": {
            "application/vnd.jupyter.widget-view+json": {
              "model_id": "b896566369e3403091e357af18648740",
              "version_major": 2,
              "version_minor": 0
            },
            "text/plain": [
              "VBox(children=(HTML(value=\"<center>\\n<img src=https://huggingface.co/front/assets/huggingface_logo-noborder.sv…"
            ]
          },
          "metadata": {},
          "output_type": "display_data"
        }
      ],
      "source": [
        "from huggingface_hub import notebook_login\n",
        "\n",
        "notebook_login()"
      ]
    },
    {
      "cell_type": "markdown",
      "metadata": {
        "id": "ujdZ2TxhElk6"
      },
      "source": [
        "\n",
        "Then you need to install Git-LFS to upload your model checkpoints:"
      ]
    },
    {
      "cell_type": "code",
      "execution_count": null,
      "metadata": {
        "id": "WcR-d83OEkqb"
      },
      "outputs": [],
      "source": [
        "%%capture\n",
        "!apt install git-lfs"
      ]
    },
    {
      "cell_type": "markdown",
      "metadata": {
        "id": "Mn9swf6EQ9Vd"
      },
      "source": [
        "\n",
        "\n",
        "\n",
        "---\n",
        "\n",
        "${}^1$ In the [paper](https://arxiv.org/pdf/2006.13979.pdf), the model was evaluated using the phoneme error rate (PER), but by far the most common metric in ASR is the word error rate (WER). To keep this notebook as general as possible we decided to evaluate the model using WER."
      ]
    },
    {
      "cell_type": "markdown",
      "metadata": {
        "id": "0mW-C1Nt-j7k"
      },
      "source": [
        "## Prepare Data, Tokenizer, Feature Extractor"
      ]
    },
    {
      "cell_type": "markdown",
      "metadata": {
        "id": "BeBosnY9BH3e"
      },
      "source": [
        "ASR models transcribe speech to text, which means that we both need a feature extractor that processes the speech signal to the model's input format, *e.g.* a feature vector, and a tokenizer that processes the model's output format to text.\n",
        "\n",
        "In 🤗 Transformers, the XLS-R model is thus accompanied by both a tokenizer, called [Wav2Vec2CTCTokenizer](https://huggingface.co/transformers/master/model_doc/wav2vec2.html#wav2vec2ctctokenizer), and a feature extractor, called [Wav2Vec2FeatureExtractor](https://huggingface.co/transformers/master/model_doc/wav2vec2.html#wav2vec2featureextractor).\n",
        "\n",
        "Let's start by creating the tokenizer to decode the predicted output classes to the output transcription."
      ]
    },
    {
      "cell_type": "markdown",
      "metadata": {
        "id": "sEXEWEJGQPqD"
      },
      "source": [
        "### Create `Wav2Vec2CTCTokenizer`"
      ]
    },
    {
      "cell_type": "markdown",
      "metadata": {
        "id": "tWmMikuNEKl_"
      },
      "source": [
        "A pre-trained XLS-R model maps the speech signal to a sequence of context representations as illustrated in the figure above. However, for speech recognition the model has to to map this sequence of context representations to its corresponding transcription which means that a linear layer has to be added on top of the transformer block (shown in yellow in the diagram above). This linear layer is used to classifies each context representation to a token class analogous how, *e.g.*, after pretraining a linear layer is added on top of BERT's embeddings for further classification - *cf.* with *'BERT'* section of this [blog post](https://huggingface.co/blog/warm-starting-encoder-decoder)."
      ]
    },
    {
      "cell_type": "markdown",
      "metadata": {
        "id": "v5oRE8XjIUH3"
      },
      "source": [
        "The output size of this layer corresponds to the number of tokens in the vocabulary, which does **not** depend onXLS-R's pretraining task, but only on the labeled dataset used for fine-tuning. So in the first step, we will take a look at the chosen dataset of Common Voice and define a vocabulary based on the transcriptions."
      ]
    },
    {
      "cell_type": "markdown",
      "metadata": {
        "id": "idBczw8mWzgt"
      },
      "source": [
        "First, let's go to Common Voice [official website](https://commonvoice.mozilla.org/en/datasets) and pick a language to fine-tune XLS-R on. For this notebook, we will use Turkish.\n",
        "\n",
        "For each language-specific dataset, you can find a language code corresponding to your chosen language. On [Common Voice](https://commonvoice.mozilla.org/en/datasets), look for the field \"Version\". The language code then corresponds to the prefix before the underscore. For Turkish, *e.g.* the language code is `\"tr\"`.\n",
        "\n",
        "Great, now we can use 🤗 Datasets' simple API to download the data. The dataset name is `\"common_voice\"`, the configuration name corresponds to the language code, which is `\"tr\"` in our case."
      ]
    },
    {
      "cell_type": "markdown",
      "metadata": {
        "id": "bee4g9rpLxll"
      },
      "source": [
        "Common Voice has many different splits including `invalidated`, which refers to data that was not rated as \"clean enough\" to be considered useful. In this notebook, we will only make use of the splits `\"train\"`, `\"validation\"` and `\"test\"`.\n",
        "\n",
        "Because the Turkish dataset is so small, we will merge both the validation and training data into a training dataset and only use the test data for validation."
      ]
    },
    {
      "cell_type": "code",
      "execution_count": 8,
      "metadata": {},
      "outputs": [],
      "source": [
        "import os\n",
        "hfhome_dir=os.path.join(os.sep, 'DATA10T', 'Cache')\n",
        "#os.environ['TRANSFORMERS_CACHE'] = hfhome_dir\n",
        "os.environ['HF_HOME'] = hfhome_dir\n",
        "#os.environ['HF_HUB_CACHE'] = os.path.join(hfhome_dir, 'hub')\n",
        "os.environ['HF_DATASETS_CACHE'] = hfhome_dir\n",
        "#HF_HUB_OFFLINE=1\n",
        "mycache_dir = hfhome_dir"
      ]
    },
    {
      "cell_type": "code",
      "execution_count": 27,
      "metadata": {
        "colab": {
          "base_uri": "https://localhost:8080/"
        },
        "id": "2MMXcWFFgCXU",
        "outputId": "00961862-9e79-4e0e-c887-db62adafa553"
      },
      "outputs": [
        {
          "name": "stderr",
          "output_type": "stream",
          "text": [
            "/home/lkk/miniconda3/envs/mycondapy310/lib/python3.10/site-packages/datasets/load.py:1429: FutureWarning: The repository for mozilla-foundation/common_voice_11_0 contains custom code which must be executed to correctly load the dataset. You can inspect the repository content at https://hf.co/datasets/mozilla-foundation/common_voice_11_0\n",
            "You can avoid this message in future by passing the argument `trust_remote_code=True`.\n",
            "Passing `trust_remote_code=True` will be mandatory to load this dataset from the next major release of `datasets`.\n",
            "  warnings.warn(\n"
          ]
        },
        {
          "data": {
            "application/vnd.jupyter.widget-view+json": {
              "model_id": "a40d02055cdb4233b964d7a03a78573a",
              "version_major": 2,
              "version_minor": 0
            },
            "text/plain": [
              "Downloading builder script:   0%|          | 0.00/8.13k [00:00<?, ?B/s]"
            ]
          },
          "metadata": {},
          "output_type": "display_data"
        },
        {
          "data": {
            "application/vnd.jupyter.widget-view+json": {
              "model_id": "a8e5a42cfc33465aa48015c8ab806cbd",
              "version_major": 2,
              "version_minor": 0
            },
            "text/plain": [
              "Downloading readme:   0%|          | 0.00/14.4k [00:00<?, ?B/s]"
            ]
          },
          "metadata": {},
          "output_type": "display_data"
        },
        {
          "data": {
            "application/vnd.jupyter.widget-view+json": {
              "model_id": "31691907fc664a69a5b3e66b1314afa3",
              "version_major": 2,
              "version_minor": 0
            },
            "text/plain": [
              "Downloading extra modules:   0%|          | 0.00/3.44k [00:00<?, ?B/s]"
            ]
          },
          "metadata": {},
          "output_type": "display_data"
        },
        {
          "data": {
            "application/vnd.jupyter.widget-view+json": {
              "model_id": "105952e05db34d28a9d7e6b1d5e3db87",
              "version_major": 2,
              "version_minor": 0
            },
            "text/plain": [
              "Downloading extra modules:   0%|          | 0.00/60.9k [00:00<?, ?B/s]"
            ]
          },
          "metadata": {},
          "output_type": "display_data"
        }
      ],
      "source": [
        "from datasets import load_dataset, load_metric, Audio\n",
        "dataset_name = \"mozilla-foundation/common_voice_11_0\"\n",
        "Test_SAMPLES = 100\n",
        "Train_SAMPLES=1000\n",
        "train_dataset = load_dataset(dataset_name, \"en\", split=f\"train[:{Train_SAMPLES}]\", cache_dir=mycache_dir)\n",
        "test_dataset = load_dataset(dataset_name, \"en\", split=f\"test[:{Test_SAMPLES}]\", cache_dir=mycache_dir)"
      ]
    },
    {
      "cell_type": "code",
      "execution_count": 186,
      "metadata": {},
      "outputs": [
        {
          "name": "stderr",
          "output_type": "stream",
          "text": [
            "/home/lkk/miniconda3/envs/mycondapy310/lib/python3.10/site-packages/datasets/load.py:1429: FutureWarning: The repository for mozilla-foundation/common_voice_11_0 contains custom code which must be executed to correctly load the dataset. You can inspect the repository content at https://hf.co/datasets/mozilla-foundation/common_voice_11_0\n",
            "You can avoid this message in future by passing the argument `trust_remote_code=True`.\n",
            "Passing `trust_remote_code=True` will be mandatory to load this dataset from the next major release of `datasets`.\n",
            "  warnings.warn(\n"
          ]
        }
      ],
      "source": [
        "from datasets import load_dataset, load_metric, Audio\n",
        "dataset_name = \"mozilla-foundation/common_voice_11_0\"\n",
        "Test_SAMPLES = 200\n",
        "Train_SAMPLES=10000\n",
        "train_dataset = load_dataset(dataset_name, \"en\", split=f\"train[:{Train_SAMPLES}]\", cache_dir=mycache_dir)\n",
        "test_dataset = load_dataset(dataset_name, \"en\", split=f\"test[:{Test_SAMPLES}]\", cache_dir=mycache_dir)"
      ]
    },
    {
      "cell_type": "code",
      "execution_count": 10,
      "metadata": {},
      "outputs": [
        {
          "name": "stderr",
          "output_type": "stream",
          "text": [
            "Some weights of the model checkpoint at jonatasgrosman/wav2vec2-large-xlsr-53-english were not used when initializing Wav2Vec2ForCTC: ['wav2vec2.encoder.pos_conv_embed.conv.weight_v', 'wav2vec2.encoder.pos_conv_embed.conv.weight_g']\n",
            "- This IS expected if you are initializing Wav2Vec2ForCTC from the checkpoint of a model trained on another task or with another architecture (e.g. initializing a BertForSequenceClassification model from a BertForPreTraining model).\n",
            "- This IS NOT expected if you are initializing Wav2Vec2ForCTC from the checkpoint of a model that you expect to be exactly identical (initializing a BertForSequenceClassification model from a BertForSequenceClassification model).\n",
            "Some weights of Wav2Vec2ForCTC were not initialized from the model checkpoint at jonatasgrosman/wav2vec2-large-xlsr-53-english and are newly initialized: ['wav2vec2.encoder.pos_conv_embed.conv.parametrizations.weight.original0', 'wav2vec2.encoder.pos_conv_embed.conv.parametrizations.weight.original1']\n",
            "You should probably TRAIN this model on a down-stream task to be able to use it for predictions and inference.\n"
          ]
        }
      ],
      "source": [
        "import torch\n",
        "import librosa\n",
        "from datasets import load_dataset\n",
        "from transformers import Wav2Vec2ForCTC, Wav2Vec2Processor\n",
        "\n",
        "LANG_ID = \"en\"\n",
        "MODEL_ID = \"jonatasgrosman/wav2vec2-large-xlsr-53-english\" #https://huggingface.co/jonatasgrosman/wav2vec2-large-xlsr-53-english\n",
        "processor = Wav2Vec2Processor.from_pretrained(MODEL_ID, cache_dir=mycache_dir)\n",
        "model = Wav2Vec2ForCTC.from_pretrained(MODEL_ID, cache_dir=mycache_dir)"
      ]
    },
    {
      "cell_type": "code",
      "execution_count": 11,
      "metadata": {},
      "outputs": [
        {
          "data": {
            "text/plain": [
              "Dataset({\n",
              "    features: ['client_id', 'path', 'audio', 'sentence', 'up_votes', 'down_votes', 'age', 'gender', 'accent', 'locale', 'segment'],\n",
              "    num_rows: 100\n",
              "})"
            ]
          },
          "execution_count": 11,
          "metadata": {},
          "output_type": "execute_result"
        }
      ],
      "source": [
        "test_dataset"
      ]
    },
    {
      "cell_type": "code",
      "execution_count": 28,
      "metadata": {},
      "outputs": [
        {
          "data": {
            "text/plain": [
              "[{'path': '/DATA10T/Cache/downloads/extracted/ba5c265b423696aeece652c80df565d72d9f7c1cc9b807e127f44f989150f409/en_test_0/common_voice_en_27710027.mp3',\n",
              "  'array': array([-7.95807864e-13, -1.59161573e-12, -6.25277607e-12, ...,\n",
              "          1.52416442e-06,  1.94649760e-06,  1.25737506e-06]),\n",
              "  'sampling_rate': 48000},\n",
              " {'path': '/DATA10T/Cache/downloads/extracted/ba5c265b423696aeece652c80df565d72d9f7c1cc9b807e127f44f989150f409/en_test_0/common_voice_en_699711.mp3',\n",
              "  'array': array([ 0.00000000e+00, -7.05920511e-14, -5.47149741e-14, ...,\n",
              "         -8.53668247e-09,  2.06165751e-09,  1.62003939e-08]),\n",
              "  'sampling_rate': 48000},\n",
              " {'path': '/DATA10T/Cache/downloads/extracted/ba5c265b423696aeece652c80df565d72d9f7c1cc9b807e127f44f989150f409/en_test_0/common_voice_en_21953345.mp3',\n",
              "  'array': array([ 0.00000000e+00,  0.00000000e+00,  0.00000000e+00, ...,\n",
              "          4.44706211e-06,  1.88029878e-06, -5.69346810e-08]),\n",
              "  'sampling_rate': 48000},\n",
              " {'path': '/DATA10T/Cache/downloads/extracted/ba5c265b423696aeece652c80df565d72d9f7c1cc9b807e127f44f989150f409/en_test_0/common_voice_en_18132047.mp3',\n",
              "  'array': array([ 0.00000000e+00, -8.81545068e-14,  8.29455726e-14, ...,\n",
              "         -1.69993072e-07, -1.69268290e-07, -1.58188001e-07]),\n",
              "  'sampling_rate': 48000},\n",
              " {'path': '/DATA10T/Cache/downloads/extracted/ba5c265b423696aeece652c80df565d72d9f7c1cc9b807e127f44f989150f409/en_test_0/common_voice_en_27340672.mp3',\n",
              "  'array': array([ 1.70530257e-13,  2.89901436e-12,  2.61479727e-12, ...,\n",
              "         -4.97878500e-05, -6.20688006e-05, -3.78657860e-05]),\n",
              "  'sampling_rate': 48000},\n",
              " {'path': '/DATA10T/Cache/downloads/extracted/ba5c265b423696aeece652c80df565d72d9f7c1cc9b807e127f44f989150f409/en_test_0/common_voice_en_30533383.mp3',\n",
              "  'array': array([0., 0., 0., ..., 0., 0., 0.]),\n",
              "  'sampling_rate': 48000},\n",
              " {'path': '/DATA10T/Cache/downloads/extracted/ba5c265b423696aeece652c80df565d72d9f7c1cc9b807e127f44f989150f409/en_test_0/common_voice_en_17263741.mp3',\n",
              "  'array': array([ 0.00000000e+00,  0.00000000e+00,  0.00000000e+00, ...,\n",
              "          1.54652230e-06,  3.36470293e-07, -5.12976158e-07]),\n",
              "  'sampling_rate': 48000},\n",
              " {'path': '/DATA10T/Cache/downloads/extracted/ba5c265b423696aeece652c80df565d72d9f7c1cc9b807e127f44f989150f409/en_test_0/common_voice_en_17893917.mp3',\n",
              "  'array': array([ 0.00000000e+00, -1.98919271e-15,  4.96847080e-16, ...,\n",
              "          2.95693894e-06, -5.95047868e-06, -1.47020546e-05]),\n",
              "  'sampling_rate': 48000},\n",
              " {'path': '/DATA10T/Cache/downloads/extracted/ba5c265b423696aeece652c80df565d72d9f7c1cc9b807e127f44f989150f409/en_test_0/common_voice_en_17561821.mp3',\n",
              "  'array': array([0.00000000e+00, 0.00000000e+00, 0.00000000e+00, ...,\n",
              "         1.66726761e-06, 1.84703367e-06, 1.70227156e-06]),\n",
              "  'sampling_rate': 48000},\n",
              " {'path': '/DATA10T/Cache/downloads/extracted/ba5c265b423696aeece652c80df565d72d9f7c1cc9b807e127f44f989150f409/en_test_0/common_voice_en_59751.mp3',\n",
              "  'array': array([ 0.00000000e+00,  1.23710644e-16,  2.71943739e-16, ...,\n",
              "         -2.47510434e-06, -2.09052519e-06,  1.34417334e-07]),\n",
              "  'sampling_rate': 48000},\n",
              " {'path': '/DATA10T/Cache/downloads/extracted/ba5c265b423696aeece652c80df565d72d9f7c1cc9b807e127f44f989150f409/en_test_0/common_voice_en_17914141.mp3',\n",
              "  'array': array([ 0.00000000e+00, -2.67909609e-14,  7.52535919e-14, ...,\n",
              "         -6.20182755e-06, -9.22448817e-06, -2.40181225e-06]),\n",
              "  'sampling_rate': 48000},\n",
              " {'path': '/DATA10T/Cache/downloads/extracted/ba5c265b423696aeece652c80df565d72d9f7c1cc9b807e127f44f989150f409/en_test_0/common_voice_en_18064497.mp3',\n",
              "  'array': array([ 0.00000000e+00, -1.23756670e-15, -1.13704930e-15, ...,\n",
              "         -1.78553271e-13,  3.73532992e-14,  1.50724146e-13]),\n",
              "  'sampling_rate': 48000},\n",
              " {'path': '/DATA10T/Cache/downloads/extracted/ba5c265b423696aeece652c80df565d72d9f7c1cc9b807e127f44f989150f409/en_test_0/common_voice_en_18902772.mp3',\n",
              "  'array': array([ 0.00000000e+00, -2.34016528e-13, -3.75949055e-13, ...,\n",
              "          0.00000000e+00,  0.00000000e+00,  0.00000000e+00]),\n",
              "  'sampling_rate': 48000},\n",
              " {'path': '/DATA10T/Cache/downloads/extracted/ba5c265b423696aeece652c80df565d72d9f7c1cc9b807e127f44f989150f409/en_test_0/common_voice_en_30735068.mp3',\n",
              "  'array': array([ 0.00000000e+00,  1.63424829e-13,  1.70530257e-13, ...,\n",
              "         -1.69450359e-05, -1.12969428e-05, -4.24672908e-06]),\n",
              "  'sampling_rate': 48000},\n",
              " {'path': '/DATA10T/Cache/downloads/extracted/ba5c265b423696aeece652c80df565d72d9f7c1cc9b807e127f44f989150f409/en_test_0/common_voice_en_33532190.mp3',\n",
              "  'array': array([ 0.00000000e+00, -5.45696821e-12, -6.59383659e-12, ...,\n",
              "          1.90984974e-05,  1.03788825e-05,  9.44822023e-06]),\n",
              "  'sampling_rate': 48000},\n",
              " {'path': '/DATA10T/Cache/downloads/extracted/ba5c265b423696aeece652c80df565d72d9f7c1cc9b807e127f44f989150f409/en_test_0/common_voice_en_18295850.mp3',\n",
              "  'array': array([ 0.00000000e+00, -1.60925858e-14, -1.35344938e-15, ...,\n",
              "         -1.32064888e-04,  8.37206680e-05,  1.45013255e-05]),\n",
              "  'sampling_rate': 48000},\n",
              " {'path': '/DATA10T/Cache/downloads/extracted/ba5c265b423696aeece652c80df565d72d9f7c1cc9b807e127f44f989150f409/en_test_0/common_voice_en_665631.mp3',\n",
              "  'array': array([ 0.00000000e+00, -9.38605849e-15, -1.95430847e-14, ...,\n",
              "         -9.33998194e-08, -4.74903317e-08, -4.69614179e-08]),\n",
              "  'sampling_rate': 48000},\n",
              " {'path': '/DATA10T/Cache/downloads/extracted/ba5c265b423696aeece652c80df565d72d9f7c1cc9b807e127f44f989150f409/en_test_0/common_voice_en_32958651.mp3',\n",
              "  'array': array([-1.13686838e-12,  1.93267624e-12,  5.45696821e-12, ...,\n",
              "         -1.98522466e-05, -2.73250207e-05, -1.78225200e-05]),\n",
              "  'sampling_rate': 48000},\n",
              " {'path': '/DATA10T/Cache/downloads/extracted/ba5c265b423696aeece652c80df565d72d9f7c1cc9b807e127f44f989150f409/en_test_0/common_voice_en_32371106.mp3',\n",
              "  'array': array([-3.55271368e-15, -3.55271368e-15, -3.64153152e-14, ...,\n",
              "          1.11301142e-06,  8.88800969e-07,  4.89729246e-07]),\n",
              "  'sampling_rate': 48000},\n",
              " {'path': '/DATA10T/Cache/downloads/extracted/ba5c265b423696aeece652c80df565d72d9f7c1cc9b807e127f44f989150f409/en_test_0/common_voice_en_18297811.mp3',\n",
              "  'array': array([ 0.00000000e+00, -4.42889345e-15, -3.93709554e-15, ...,\n",
              "          0.00000000e+00,  0.00000000e+00,  0.00000000e+00]),\n",
              "  'sampling_rate': 48000},\n",
              " {'path': '/DATA10T/Cache/downloads/extracted/ba5c265b423696aeece652c80df565d72d9f7c1cc9b807e127f44f989150f409/en_test_0/common_voice_en_32643242.mp3',\n",
              "  'array': array([-1.73707929e-23,  2.56425990e-23, -1.69572026e-23, ...,\n",
              "          7.71652253e-08,  1.01633475e-06,  8.47302999e-07]),\n",
              "  'sampling_rate': 48000},\n",
              " {'path': '/DATA10T/Cache/downloads/extracted/ba5c265b423696aeece652c80df565d72d9f7c1cc9b807e127f44f989150f409/en_test_0/common_voice_en_456493.mp3',\n",
              "  'array': array([ 0.00000000e+00,  1.45164337e-14, -1.42604417e-14, ...,\n",
              "         -5.51653238e-06,  5.29890394e-06,  1.12383323e-05]),\n",
              "  'sampling_rate': 48000},\n",
              " {'path': '/DATA10T/Cache/downloads/extracted/ba5c265b423696aeece652c80df565d72d9f7c1cc9b807e127f44f989150f409/en_test_0/common_voice_en_18179121.mp3',\n",
              "  'array': array([ 0.00000000e+00,  2.97441352e-13,  2.83595304e-13, ...,\n",
              "          1.89433604e-06,  9.52209916e-07, -3.88014485e-07]),\n",
              "  'sampling_rate': 48000},\n",
              " {'path': '/DATA10T/Cache/downloads/extracted/ba5c265b423696aeece652c80df565d72d9f7c1cc9b807e127f44f989150f409/en_test_0/common_voice_en_496376.mp3',\n",
              "  'array': array([0., 0., 0., ..., 0., 0., 0.]),\n",
              "  'sampling_rate': 48000},\n",
              " {'path': '/DATA10T/Cache/downloads/extracted/ba5c265b423696aeece652c80df565d72d9f7c1cc9b807e127f44f989150f409/en_test_0/common_voice_en_32542964.mp3',\n",
              "  'array': array([-8.52651283e-14,  4.83169060e-13,  7.67386155e-13, ...,\n",
              "         -3.47910913e-07, -1.56945148e-07,  2.79248695e-08]),\n",
              "  'sampling_rate': 48000},\n",
              " {'path': '/DATA10T/Cache/downloads/extracted/ba5c265b423696aeece652c80df565d72d9f7c1cc9b807e127f44f989150f409/en_test_0/common_voice_en_23730890.mp3',\n",
              "  'array': array([ 0.00000000e+00, -5.19233745e-13, -3.00217587e-13, ...,\n",
              "         -4.92616709e-05, -9.45587308e-05, -1.00619909e-04]),\n",
              "  'sampling_rate': 48000},\n",
              " {'path': '/DATA10T/Cache/downloads/extracted/ba5c265b423696aeece652c80df565d72d9f7c1cc9b807e127f44f989150f409/en_test_0/common_voice_en_18274681.mp3',\n",
              "  'array': array([0.00000000e+00, 0.00000000e+00, 0.00000000e+00, ...,\n",
              "         2.51492178e-11, 1.75540884e-11, 8.67312559e-12]),\n",
              "  'sampling_rate': 48000},\n",
              " {'path': '/DATA10T/Cache/downloads/extracted/ba5c265b423696aeece652c80df565d72d9f7c1cc9b807e127f44f989150f409/en_test_0/common_voice_en_32548361.mp3',\n",
              "  'array': array([ 2.55795385e-13,  1.81898940e-12, -1.08002496e-12, ...,\n",
              "          1.22447509e-05,  1.06392545e-05,  7.47304102e-06]),\n",
              "  'sampling_rate': 48000},\n",
              " {'path': '/DATA10T/Cache/downloads/extracted/ba5c265b423696aeece652c80df565d72d9f7c1cc9b807e127f44f989150f409/en_test_0/common_voice_en_20141506.mp3',\n",
              "  'array': array([0.00000000e+00, 0.00000000e+00, 0.00000000e+00, ...,\n",
              "         6.08553069e-11, 6.68407760e-11, 5.88966931e-11]),\n",
              "  'sampling_rate': 48000},\n",
              " {'path': '/DATA10T/Cache/downloads/extracted/ba5c265b423696aeece652c80df565d72d9f7c1cc9b807e127f44f989150f409/en_test_0/common_voice_en_32830092.mp3',\n",
              "  'array': array([-6.21724894e-15, -6.83897383e-14, -9.05941988e-14, ...,\n",
              "          2.08166817e-17, -2.77555756e-17, -6.93889390e-18]),\n",
              "  'sampling_rate': 48000},\n",
              " {'path': '/DATA10T/Cache/downloads/extracted/ba5c265b423696aeece652c80df565d72d9f7c1cc9b807e127f44f989150f409/en_test_0/common_voice_en_572372.mp3',\n",
              "  'array': array([ 0.00000000e+00, -8.31876072e-14, -1.87723724e-13, ...,\n",
              "          0.00000000e+00,  0.00000000e+00,  0.00000000e+00]),\n",
              "  'sampling_rate': 48000},\n",
              " {'path': '/DATA10T/Cache/downloads/extracted/ba5c265b423696aeece652c80df565d72d9f7c1cc9b807e127f44f989150f409/en_test_0/common_voice_en_32642818.mp3',\n",
              "  'array': array([ 7.10542736e-15, -5.68434189e-14, -1.24344979e-13, ...,\n",
              "          5.44049271e-06,  6.44475313e-06,  1.74257730e-06]),\n",
              "  'sampling_rate': 48000},\n",
              " {'path': '/DATA10T/Cache/downloads/extracted/ba5c265b423696aeece652c80df565d72d9f7c1cc9b807e127f44f989150f409/en_test_0/common_voice_en_19595713.mp3',\n",
              "  'array': array([ 0.00000000e+00, -2.76441738e-13, -1.12082815e-13, ...,\n",
              "          1.68826503e-07,  1.98465585e-07,  2.47636081e-07]),\n",
              "  'sampling_rate': 48000},\n",
              " {'path': '/DATA10T/Cache/downloads/extracted/ba5c265b423696aeece652c80df565d72d9f7c1cc9b807e127f44f989150f409/en_test_0/common_voice_en_20888935.mp3',\n",
              "  'array': array([ 0.00000000e+00, -3.47563707e-14, -2.01189027e-14, ...,\n",
              "         -7.25068844e-07,  3.48187911e-07,  1.13206772e-06]),\n",
              "  'sampling_rate': 48000},\n",
              " {'path': '/DATA10T/Cache/downloads/extracted/ba5c265b423696aeece652c80df565d72d9f7c1cc9b807e127f44f989150f409/en_test_0/common_voice_en_18125649.mp3',\n",
              "  'array': array([ 0.00000000e+00,  1.13785655e-16,  3.12017821e-18, ...,\n",
              "         -1.19355009e-05, -3.66172048e-06, -3.44357295e-06]),\n",
              "  'sampling_rate': 48000},\n",
              " {'path': '/DATA10T/Cache/downloads/extracted/ba5c265b423696aeece652c80df565d72d9f7c1cc9b807e127f44f989150f409/en_test_0/common_voice_en_346569.mp3',\n",
              "  'array': array([ 0.00000000e+00, -1.10477193e-13, -4.10893751e-14, ...,\n",
              "          1.11196941e-05,  9.95956543e-06, -1.25815595e-05]),\n",
              "  'sampling_rate': 48000},\n",
              " {'path': '/DATA10T/Cache/downloads/extracted/ba5c265b423696aeece652c80df565d72d9f7c1cc9b807e127f44f989150f409/en_test_0/common_voice_en_15016096.mp3',\n",
              "  'array': array([ 0.00000000e+00,  7.73363578e-14,  1.25461883e-13, ...,\n",
              "         -7.84561053e-07, -9.18328283e-07,  2.69061672e-07]),\n",
              "  'sampling_rate': 48000},\n",
              " {'path': '/DATA10T/Cache/downloads/extracted/ba5c265b423696aeece652c80df565d72d9f7c1cc9b807e127f44f989150f409/en_test_0/common_voice_en_30136178.mp3',\n",
              "  'array': array([-1.56319402e-13, -4.12114787e-13, -1.56319402e-13, ...,\n",
              "          1.91966524e-06,  8.49775347e-07,  6.39494431e-08]),\n",
              "  'sampling_rate': 48000},\n",
              " {'path': '/DATA10T/Cache/downloads/extracted/ba5c265b423696aeece652c80df565d72d9f7c1cc9b807e127f44f989150f409/en_test_0/common_voice_en_19706560.mp3',\n",
              "  'array': array([ 0.00000000e+00, -1.00559968e-13,  6.35480113e-13, ...,\n",
              "         -4.80845338e-05, -2.48175093e-05,  3.00512493e-05]),\n",
              "  'sampling_rate': 48000},\n",
              " {'path': '/DATA10T/Cache/downloads/extracted/ba5c265b423696aeece652c80df565d72d9f7c1cc9b807e127f44f989150f409/en_test_0/common_voice_en_1885769.mp3',\n",
              "  'array': array([ 0.00000000e+00,  0.00000000e+00,  0.00000000e+00, ...,\n",
              "         -1.21885975e-07, -1.10426797e-07, -1.01997628e-07]),\n",
              "  'sampling_rate': 48000},\n",
              " {'path': '/DATA10T/Cache/downloads/extracted/ba5c265b423696aeece652c80df565d72d9f7c1cc9b807e127f44f989150f409/en_test_0/common_voice_en_32029891.mp3',\n",
              "  'array': array([-8.27180613e-25,  7.44462551e-24, -5.95570041e-23, ...,\n",
              "         -1.69348095e-06,  1.40851753e-05,  1.16830906e-05]),\n",
              "  'sampling_rate': 48000},\n",
              " {'path': '/DATA10T/Cache/downloads/extracted/ba5c265b423696aeece652c80df565d72d9f7c1cc9b807e127f44f989150f409/en_test_0/common_voice_en_20308606.mp3',\n",
              "  'array': array([ 0.00000000e+00, -6.28985389e-14, -5.24277650e-14, ...,\n",
              "         -1.32833790e-07, -9.81121175e-08, -8.21490005e-08]),\n",
              "  'sampling_rate': 48000},\n",
              " {'path': '/DATA10T/Cache/downloads/extracted/ba5c265b423696aeece652c80df565d72d9f7c1cc9b807e127f44f989150f409/en_test_0/common_voice_en_18891931.mp3',\n",
              "  'array': array([0., 0., 0., ..., 0., 0., 0.]),\n",
              "  'sampling_rate': 48000},\n",
              " {'path': '/DATA10T/Cache/downloads/extracted/ba5c265b423696aeece652c80df565d72d9f7c1cc9b807e127f44f989150f409/en_test_0/common_voice_en_32703291.mp3',\n",
              "  'array': array([ 0.00000000e+00,  2.48689958e-14,  0.00000000e+00, ...,\n",
              "         -1.36442395e-08, -2.15495675e-08, -1.40844350e-08]),\n",
              "  'sampling_rate': 48000},\n",
              " {'path': '/DATA10T/Cache/downloads/extracted/ba5c265b423696aeece652c80df565d72d9f7c1cc9b807e127f44f989150f409/en_test_0/common_voice_en_15735183.mp3',\n",
              "  'array': array([ 0.00000000e+00, -2.74631324e-14, -9.81692212e-14, ...,\n",
              "         -3.03378329e-07,  9.27499059e-06,  3.05300418e-05]),\n",
              "  'sampling_rate': 48000},\n",
              " {'path': '/DATA10T/Cache/downloads/extracted/ba5c265b423696aeece652c80df565d72d9f7c1cc9b807e127f44f989150f409/en_test_0/common_voice_en_12677.mp3',\n",
              "  'array': array([ 0.00000000e+00,  0.00000000e+00,  0.00000000e+00, ...,\n",
              "          1.96452602e-05, -1.20180688e-04,  3.02074477e-06]),\n",
              "  'sampling_rate': 48000},\n",
              " {'path': '/DATA10T/Cache/downloads/extracted/ba5c265b423696aeece652c80df565d72d9f7c1cc9b807e127f44f989150f409/en_test_0/common_voice_en_19909115.mp3',\n",
              "  'array': array([ 0.00000000e+00, -2.81239629e-15, -7.17510090e-15, ...,\n",
              "         -1.54903660e-07, -1.99639018e-07, -4.42587229e-08]),\n",
              "  'sampling_rate': 48000},\n",
              " {'path': '/DATA10T/Cache/downloads/extracted/ba5c265b423696aeece652c80df565d72d9f7c1cc9b807e127f44f989150f409/en_test_0/common_voice_en_21687614.mp3',\n",
              "  'array': array([0.00000000e+00, 4.37328193e-16, 5.41758419e-15, ...,\n",
              "         1.28444447e-06, 4.94945471e-06, 5.90786885e-06]),\n",
              "  'sampling_rate': 48000},\n",
              " {'path': '/DATA10T/Cache/downloads/extracted/ba5c265b423696aeece652c80df565d72d9f7c1cc9b807e127f44f989150f409/en_test_0/common_voice_en_24988400.mp3',\n",
              "  'array': array([-5.68434189e-13,  3.29691829e-12,  4.14956958e-12, ...,\n",
              "          1.45544254e-05, -4.36112496e-05, -3.01422187e-05]),\n",
              "  'sampling_rate': 48000},\n",
              " {'path': '/DATA10T/Cache/downloads/extracted/ba5c265b423696aeece652c80df565d72d9f7c1cc9b807e127f44f989150f409/en_test_0/common_voice_en_22005778.mp3',\n",
              "  'array': array([ 0.00000000e+00,  0.00000000e+00,  0.00000000e+00, ...,\n",
              "         -2.01668695e-06, -1.47798005e-06, -1.08543770e-06]),\n",
              "  'sampling_rate': 48000},\n",
              " {'path': '/DATA10T/Cache/downloads/extracted/ba5c265b423696aeece652c80df565d72d9f7c1cc9b807e127f44f989150f409/en_test_0/common_voice_en_26452532.mp3',\n",
              "  'array': array([ 2.84217094e-14,  6.60804744e-13,  1.03739239e-12, ...,\n",
              "          1.23440986e-06, -5.67961251e-07, -1.05059007e-06]),\n",
              "  'sampling_rate': 48000},\n",
              " {'path': '/DATA10T/Cache/downloads/extracted/ba5c265b423696aeece652c80df565d72d9f7c1cc9b807e127f44f989150f409/en_test_0/common_voice_en_601141.mp3',\n",
              "  'array': array([ 0.00000000e+00, -2.22343978e-16, -3.78719760e-16, ...,\n",
              "          1.34148377e-05,  1.40726706e-05,  3.31024012e-06]),\n",
              "  'sampling_rate': 48000},\n",
              " {'path': '/DATA10T/Cache/downloads/extracted/ba5c265b423696aeece652c80df565d72d9f7c1cc9b807e127f44f989150f409/en_test_0/common_voice_en_19688238.mp3',\n",
              "  'array': array([ 0.00000000e+00, -1.79350675e-13, -1.34086020e-13, ...,\n",
              "          3.10810174e-06,  1.78007076e-06,  6.23121923e-06]),\n",
              "  'sampling_rate': 48000},\n",
              " {'path': '/DATA10T/Cache/downloads/extracted/ba5c265b423696aeece652c80df565d72d9f7c1cc9b807e127f44f989150f409/en_test_0/common_voice_en_17260286.mp3',\n",
              "  'array': array([0.00000000e+00, 9.70849920e-14, 5.53054374e-14, ...,\n",
              "         1.94089468e-15, 2.19009516e-15, 2.43970116e-15]),\n",
              "  'sampling_rate': 48000},\n",
              " {'path': '/DATA10T/Cache/downloads/extracted/ba5c265b423696aeece652c80df565d72d9f7c1cc9b807e127f44f989150f409/en_test_0/common_voice_en_17941982.mp3',\n",
              "  'array': array([ 0.00000000e+00,  0.00000000e+00,  0.00000000e+00, ...,\n",
              "         -1.00912839e-05, -8.37233165e-06, -4.08446067e-06]),\n",
              "  'sampling_rate': 48000},\n",
              " {'path': '/DATA10T/Cache/downloads/extracted/ba5c265b423696aeece652c80df565d72d9f7c1cc9b807e127f44f989150f409/en_test_0/common_voice_en_30601019.mp3',\n",
              "  'array': array([ 0.00000000e+00,  6.82121026e-13,  6.53699317e-13, ...,\n",
              "         -1.71793290e-05, -4.04392340e-05, -3.02312037e-05]),\n",
              "  'sampling_rate': 48000},\n",
              " {'path': '/DATA10T/Cache/downloads/extracted/ba5c265b423696aeece652c80df565d72d9f7c1cc9b807e127f44f989150f409/en_test_0/common_voice_en_24993666.mp3',\n",
              "  'array': array([ 3.55271368e-15, -4.61852778e-14, -7.46069873e-14, ...,\n",
              "          1.91344793e-06,  4.58430577e-07,  6.04691195e-08]),\n",
              "  'sampling_rate': 48000},\n",
              " {'path': '/DATA10T/Cache/downloads/extracted/ba5c265b423696aeece652c80df565d72d9f7c1cc9b807e127f44f989150f409/en_test_0/common_voice_en_32689356.mp3',\n",
              "  'array': array([-1.42108547e-14, -7.95807864e-13, -1.36424205e-12, ...,\n",
              "         -7.54681423e-07, -2.41707969e-08,  3.13946259e-07]),\n",
              "  'sampling_rate': 48000},\n",
              " {'path': '/DATA10T/Cache/downloads/extracted/ba5c265b423696aeece652c80df565d72d9f7c1cc9b807e127f44f989150f409/en_test_0/common_voice_en_20274470.mp3',\n",
              "  'array': array([ 0.00000000e+00, -2.62204300e-15,  5.30996569e-15, ...,\n",
              "         -1.77427501e-06, -3.85840503e-05, -1.36723020e-05]),\n",
              "  'sampling_rate': 48000},\n",
              " {'path': '/DATA10T/Cache/downloads/extracted/ba5c265b423696aeece652c80df565d72d9f7c1cc9b807e127f44f989150f409/en_test_0/common_voice_en_18929193.mp3',\n",
              "  'array': array([ 0.00000000e+00, -6.14929233e-15,  1.07671914e-14, ...,\n",
              "         -1.75896457e-06, -7.84307190e-07,  6.91008722e-07]),\n",
              "  'sampling_rate': 48000},\n",
              " {'path': '/DATA10T/Cache/downloads/extracted/ba5c265b423696aeece652c80df565d72d9f7c1cc9b807e127f44f989150f409/en_test_0/common_voice_en_18001366.mp3',\n",
              "  'array': array([ 0.00000000e+00,  8.39769606e-14,  4.03935105e-14, ...,\n",
              "          2.43712429e-06, -1.98643488e-06, -8.38059634e-07]),\n",
              "  'sampling_rate': 48000},\n",
              " {'path': '/DATA10T/Cache/downloads/extracted/ba5c265b423696aeece652c80df565d72d9f7c1cc9b807e127f44f989150f409/en_test_0/common_voice_en_26555335.mp3',\n",
              "  'array': array([ 3.49483809e-23, -1.57164316e-23, -4.13590306e-24, ...,\n",
              "          0.00000000e+00,  0.00000000e+00,  0.00000000e+00]),\n",
              "  'sampling_rate': 48000},\n",
              " {'path': '/DATA10T/Cache/downloads/extracted/ba5c265b423696aeece652c80df565d72d9f7c1cc9b807e127f44f989150f409/en_test_0/common_voice_en_20789189.mp3',\n",
              "  'array': array([ 0.00000000e+00,  0.00000000e+00,  0.00000000e+00, ...,\n",
              "          1.95669185e-04,  1.99177361e-04, -4.67499485e-05]),\n",
              "  'sampling_rate': 48000},\n",
              " {'path': '/DATA10T/Cache/downloads/extracted/ba5c265b423696aeece652c80df565d72d9f7c1cc9b807e127f44f989150f409/en_test_0/common_voice_en_28715410.mp3',\n",
              "  'array': array([ 1.13686838e-13,  3.97903932e-13,  5.82645043e-13, ...,\n",
              "         -3.50124901e-06, -2.96358485e-06, -1.54715963e-06]),\n",
              "  'sampling_rate': 48000},\n",
              " {'path': '/DATA10T/Cache/downloads/extracted/ba5c265b423696aeece652c80df565d72d9f7c1cc9b807e127f44f989150f409/en_test_0/common_voice_en_22338655.mp3',\n",
              "  'array': array([ 0.00000000e+00,  0.00000000e+00,  0.00000000e+00, ...,\n",
              "         -1.64136060e-09, -2.37069742e-09, -3.53460372e-10]),\n",
              "  'sampling_rate': 48000},\n",
              " {'path': '/DATA10T/Cache/downloads/extracted/ba5c265b423696aeece652c80df565d72d9f7c1cc9b807e127f44f989150f409/en_test_0/common_voice_en_193576.mp3',\n",
              "  'array': array([ 0.00000000e+00,  8.97783313e-13,  6.75328500e-13, ...,\n",
              "         -6.27693908e-07, -5.11975315e-07,  1.30801823e-08]),\n",
              "  'sampling_rate': 48000},\n",
              " {'path': '/DATA10T/Cache/downloads/extracted/ba5c265b423696aeece652c80df565d72d9f7c1cc9b807e127f44f989150f409/en_test_0/common_voice_en_635431.mp3',\n",
              "  'array': array([ 0.00000000e+00, -8.02130931e-13,  1.66786900e-13, ...,\n",
              "          0.00000000e+00,  0.00000000e+00,  0.00000000e+00]),\n",
              "  'sampling_rate': 48000},\n",
              " {'path': '/DATA10T/Cache/downloads/extracted/ba5c265b423696aeece652c80df565d72d9f7c1cc9b807e127f44f989150f409/en_test_0/common_voice_en_17961589.mp3',\n",
              "  'array': array([ 0.00000000e+00,  3.07458811e-13, -6.50940890e-14, ...,\n",
              "         -1.14866339e-07,  4.12989777e-07,  1.40171983e-06]),\n",
              "  'sampling_rate': 48000},\n",
              " {'path': '/DATA10T/Cache/downloads/extracted/ba5c265b423696aeece652c80df565d72d9f7c1cc9b807e127f44f989150f409/en_test_0/common_voice_en_26949722.mp3',\n",
              "  'array': array([ 3.97903932e-13,  1.87583282e-12,  2.61479727e-12, ...,\n",
              "         -1.03620187e-05, -1.02573995e-05, -5.14435123e-06]),\n",
              "  'sampling_rate': 48000},\n",
              " {'path': '/DATA10T/Cache/downloads/extracted/ba5c265b423696aeece652c80df565d72d9f7c1cc9b807e127f44f989150f409/en_test_0/common_voice_en_155041.mp3',\n",
              "  'array': array([ 0.00000000e+00,  3.53890365e-16, -2.12911472e-15, ...,\n",
              "         -1.88210816e-08,  4.44874915e-10,  2.56797383e-09]),\n",
              "  'sampling_rate': 48000},\n",
              " {'path': '/DATA10T/Cache/downloads/extracted/ba5c265b423696aeece652c80df565d72d9f7c1cc9b807e127f44f989150f409/en_test_0/common_voice_en_25902308.mp3',\n",
              "  'array': array([ 1.77635684e-15, -2.33146835e-14, -3.59712260e-14, ...,\n",
              "         -2.77555756e-15, -9.99200722e-16,  6.66133815e-16]),\n",
              "  'sampling_rate': 48000},\n",
              " {'path': '/DATA10T/Cache/downloads/extracted/ba5c265b423696aeece652c80df565d72d9f7c1cc9b807e127f44f989150f409/en_test_0/common_voice_en_111075.mp3',\n",
              "  'array': array([0.00000000e+00, 4.73428805e-13, 3.72377883e-13, ...,\n",
              "         1.20562952e-04, 1.04920444e-04, 1.25131090e-04]),\n",
              "  'sampling_rate': 48000},\n",
              " {'path': '/DATA10T/Cache/downloads/extracted/ba5c265b423696aeece652c80df565d72d9f7c1cc9b807e127f44f989150f409/en_test_0/common_voice_en_25512283.mp3',\n",
              "  'array': array([-3.41060513e-13,  7.10542736e-13,  8.66862138e-13, ...,\n",
              "         -6.85924533e-06, -5.67019379e-06, -2.71746103e-06]),\n",
              "  'sampling_rate': 48000},\n",
              " {'path': '/DATA10T/Cache/downloads/extracted/ba5c265b423696aeece652c80df565d72d9f7c1cc9b807e127f44f989150f409/en_test_0/common_voice_en_31615499.mp3',\n",
              "  'array': array([-1.42108547e-14, -1.77635684e-14, -4.79616347e-14, ...,\n",
              "          1.93715987e-05,  1.44773840e-05,  5.63518097e-06]),\n",
              "  'sampling_rate': 48000},\n",
              " {'path': '/DATA10T/Cache/downloads/extracted/ba5c265b423696aeece652c80df565d72d9f7c1cc9b807e127f44f989150f409/en_test_0/common_voice_en_86584.mp3',\n",
              "  'array': array([ 0.00000000e+00, -1.58602176e-14, -1.51988763e-14, ...,\n",
              "          5.35374556e-06,  2.88515002e-06,  3.01583839e-07]),\n",
              "  'sampling_rate': 48000},\n",
              " {'path': '/DATA10T/Cache/downloads/extracted/ba5c265b423696aeece652c80df565d72d9f7c1cc9b807e127f44f989150f409/en_test_0/common_voice_en_19479960.mp3',\n",
              "  'array': array([0.00000000e+00, 8.93768913e-12, 8.28472360e-12, ...,\n",
              "         0.00000000e+00, 0.00000000e+00, 0.00000000e+00]),\n",
              "  'sampling_rate': 48000},\n",
              " {'path': '/DATA10T/Cache/downloads/extracted/ba5c265b423696aeece652c80df565d72d9f7c1cc9b807e127f44f989150f409/en_test_0/common_voice_en_193520.mp3',\n",
              "  'array': array([ 0.00000000e+00,  0.00000000e+00,  0.00000000e+00, ...,\n",
              "          3.49564016e-06,  3.97673375e-06, -1.14770683e-06]),\n",
              "  'sampling_rate': 48000},\n",
              " {'path': '/DATA10T/Cache/downloads/extracted/ba5c265b423696aeece652c80df565d72d9f7c1cc9b807e127f44f989150f409/en_test_0/common_voice_en_32766628.mp3',\n",
              "  'array': array([ 2.95585778e-12, -9.09494702e-13, -7.16227078e-12, ...,\n",
              "          1.62726246e-05,  2.39054261e-05,  1.56986116e-05]),\n",
              "  'sampling_rate': 48000},\n",
              " {'path': '/DATA10T/Cache/downloads/extracted/ba5c265b423696aeece652c80df565d72d9f7c1cc9b807e127f44f989150f409/en_test_0/common_voice_en_18987361.mp3',\n",
              "  'array': array([0.00000000e+00, 0.00000000e+00, 0.00000000e+00, ...,\n",
              "         7.49318406e-06, 7.97489292e-07, 7.18184765e-07]),\n",
              "  'sampling_rate': 48000},\n",
              " {'path': '/DATA10T/Cache/downloads/extracted/ba5c265b423696aeece652c80df565d72d9f7c1cc9b807e127f44f989150f409/en_test_0/common_voice_en_27366699.mp3',\n",
              "  'array': array([ 0.00000000e+00,  0.00000000e+00,  0.00000000e+00, ...,\n",
              "         -1.77369480e-10, -2.61299992e-11,  3.79153757e-11]),\n",
              "  'sampling_rate': 48000},\n",
              " {'path': '/DATA10T/Cache/downloads/extracted/ba5c265b423696aeece652c80df565d72d9f7c1cc9b807e127f44f989150f409/en_test_0/common_voice_en_30699821.mp3',\n",
              "  'array': array([-1.42108547e-14, -7.10542736e-15, -1.98951966e-13, ...,\n",
              "         -6.42731829e-05, -1.22506026e-05,  1.11410700e-05]),\n",
              "  'sampling_rate': 48000},\n",
              " {'path': '/DATA10T/Cache/downloads/extracted/ba5c265b423696aeece652c80df565d72d9f7c1cc9b807e127f44f989150f409/en_test_0/common_voice_en_28819598.mp3',\n",
              "  'array': array([-4.44089210e-16,  5.77315973e-15, -5.77315973e-15, ...,\n",
              "          1.51646527e-05,  2.00652503e-05,  9.92047717e-06]),\n",
              "  'sampling_rate': 48000},\n",
              " {'path': '/DATA10T/Cache/downloads/extracted/ba5c265b423696aeece652c80df565d72d9f7c1cc9b807e127f44f989150f409/en_test_0/common_voice_en_20233685.mp3',\n",
              "  'array': array([ 0.00000000e+00,  7.85638373e-14,  4.21043544e-14, ...,\n",
              "          3.74718252e-06, -1.19090294e-06, -2.24865198e-06]),\n",
              "  'sampling_rate': 48000},\n",
              " {'path': '/DATA10T/Cache/downloads/extracted/ba5c265b423696aeece652c80df565d72d9f7c1cc9b807e127f44f989150f409/en_test_0/common_voice_en_26957325.mp3',\n",
              "  'array': array([-5.68434189e-14, -1.98951966e-13, -1.13686838e-13, ...,\n",
              "          1.24086341e-06,  1.61431603e-06,  1.00610214e-06]),\n",
              "  'sampling_rate': 48000},\n",
              " {'path': '/DATA10T/Cache/downloads/extracted/ba5c265b423696aeece652c80df565d72d9f7c1cc9b807e127f44f989150f409/en_test_0/common_voice_en_33612242.mp3',\n",
              "  'array': array([ 0.00000000e+00,  0.00000000e+00,  0.00000000e+00, ...,\n",
              "          3.13791361e-06,  9.40625853e-07, -1.15996102e-08]),\n",
              "  'sampling_rate': 48000},\n",
              " {'path': '/DATA10T/Cache/downloads/extracted/ba5c265b423696aeece652c80df565d72d9f7c1cc9b807e127f44f989150f409/en_test_0/common_voice_en_18277778.mp3',\n",
              "  'array': array([ 0.00000000e+00, -3.50864303e-13, -3.27746782e-13, ...,\n",
              "          1.05359845e-06,  1.76052481e-06,  1.62645222e-06]),\n",
              "  'sampling_rate': 48000},\n",
              " {'path': '/DATA10T/Cache/downloads/extracted/ba5c265b423696aeece652c80df565d72d9f7c1cc9b807e127f44f989150f409/en_test_0/common_voice_en_24023123.mp3',\n",
              "  'array': array([ 5.08219768e-21,  5.08219768e-21,  6.77626358e-21, ...,\n",
              "         -3.88768967e-06, -5.88256080e-05, -5.37416490e-05]),\n",
              "  'sampling_rate': 48000},\n",
              " {'path': '/DATA10T/Cache/downloads/extracted/ba5c265b423696aeece652c80df565d72d9f7c1cc9b807e127f44f989150f409/en_test_0/common_voice_en_18319767.mp3',\n",
              "  'array': array([0., 0., 0., ..., 0., 0., 0.]),\n",
              "  'sampling_rate': 48000},\n",
              " {'path': '/DATA10T/Cache/downloads/extracted/ba5c265b423696aeece652c80df565d72d9f7c1cc9b807e127f44f989150f409/en_test_0/common_voice_en_17913515.mp3',\n",
              "  'array': array([ 0.00000000e+00,  6.15463338e-17,  2.45008912e-17, ...,\n",
              "         -1.32043169e-06, -1.84183511e-06, -7.45981538e-07]),\n",
              "  'sampling_rate': 48000},\n",
              " {'path': '/DATA10T/Cache/downloads/extracted/ba5c265b423696aeece652c80df565d72d9f7c1cc9b807e127f44f989150f409/en_test_0/common_voice_en_18208645.mp3',\n",
              "  'array': array([ 0.00000000e+00,  1.28558080e-13,  1.94363622e-13, ...,\n",
              "         -1.21228495e-05, -6.06805907e-06, -8.43268663e-06]),\n",
              "  'sampling_rate': 48000},\n",
              " {'path': '/DATA10T/Cache/downloads/extracted/ba5c265b423696aeece652c80df565d72d9f7c1cc9b807e127f44f989150f409/en_test_0/common_voice_en_21943181.mp3',\n",
              "  'array': array([0.00000000e+00, 1.57206767e-13, 2.38753787e-13, ...,\n",
              "         0.00000000e+00, 0.00000000e+00, 0.00000000e+00]),\n",
              "  'sampling_rate': 48000},\n",
              " {'path': '/DATA10T/Cache/downloads/extracted/ba5c265b423696aeece652c80df565d72d9f7c1cc9b807e127f44f989150f409/en_test_0/common_voice_en_34021941.mp3',\n",
              "  'array': array([ 2.84217094e-14, -8.38440428e-13, -1.09423581e-12, ...,\n",
              "          6.76346133e-07, -3.73471721e-07, -5.80468054e-07]),\n",
              "  'sampling_rate': 48000},\n",
              " {'path': '/DATA10T/Cache/downloads/extracted/ba5c265b423696aeece652c80df565d72d9f7c1cc9b807e127f44f989150f409/en_test_0/common_voice_en_159192.mp3',\n",
              "  'array': array([ 0.00000000e+00,  1.67083808e-13,  4.23313999e-14, ...,\n",
              "          5.02045168e-07, -9.92461537e-07, -5.28920873e-06]),\n",
              "  'sampling_rate': 48000},\n",
              " {'path': '/DATA10T/Cache/downloads/extracted/ba5c265b423696aeece652c80df565d72d9f7c1cc9b807e127f44f989150f409/en_test_0/common_voice_en_20586574.mp3',\n",
              "  'array': array([ 0.00000000e+00, -1.73446445e-14, -1.62721331e-14, ...,\n",
              "         -3.02037142e-06, -1.84534838e-06, -4.79816777e-07]),\n",
              "  'sampling_rate': 48000},\n",
              " {'path': '/DATA10T/Cache/downloads/extracted/ba5c265b423696aeece652c80df565d72d9f7c1cc9b807e127f44f989150f409/en_test_0/common_voice_en_31963137.mp3',\n",
              "  'array': array([ 0.00000000e+00, -1.70530257e-13, -1.53477231e-12, ...,\n",
              "         -5.21400398e-06, -1.52245048e-05, -1.44418591e-05]),\n",
              "  'sampling_rate': 48000},\n",
              " {'path': '/DATA10T/Cache/downloads/extracted/ba5c265b423696aeece652c80df565d72d9f7c1cc9b807e127f44f989150f409/en_test_0/common_voice_en_32850241.mp3',\n",
              "  'array': array([-1.42108547e-13, -8.81072992e-13, -1.64845915e-12, ...,\n",
              "         -7.23094581e-06,  1.48817371e-05,  1.60251639e-05]),\n",
              "  'sampling_rate': 48000},\n",
              " {'path': '/DATA10T/Cache/downloads/extracted/ba5c265b423696aeece652c80df565d72d9f7c1cc9b807e127f44f989150f409/en_test_0/common_voice_en_18339580.mp3',\n",
              "  'array': array([ 0.00000000e+00,  1.48890960e-14,  5.43193759e-15, ...,\n",
              "         -1.29733201e-06, -1.97156032e-06, -2.95973973e-06]),\n",
              "  'sampling_rate': 48000},\n",
              " {'path': '/DATA10T/Cache/downloads/extracted/ba5c265b423696aeece652c80df565d72d9f7c1cc9b807e127f44f989150f409/en_test_0/common_voice_en_638672.mp3',\n",
              "  'array': array([ 0.00000000e+00,  8.58599758e-14, -5.78099580e-14, ...,\n",
              "         -3.93214421e-08,  8.09091372e-09,  8.52376871e-08]),\n",
              "  'sampling_rate': 48000},\n",
              " {'path': '/DATA10T/Cache/downloads/extracted/ba5c265b423696aeece652c80df565d72d9f7c1cc9b807e127f44f989150f409/en_test_0/common_voice_en_217612.mp3',\n",
              "  'array': array([ 0.00000000e+00,  0.00000000e+00,  0.00000000e+00, ...,\n",
              "         -2.61633226e-09, -1.61462683e-08,  1.27662050e-08]),\n",
              "  'sampling_rate': 48000},\n",
              " {'path': '/DATA10T/Cache/downloads/extracted/ba5c265b423696aeece652c80df565d72d9f7c1cc9b807e127f44f989150f409/en_test_0/common_voice_en_25540199.mp3',\n",
              "  'array': array([ 1.42108547e-14,  6.25277607e-13,  1.13686838e-12, ...,\n",
              "         -8.30040790e-07,  3.53471478e-07,  7.08691005e-07]),\n",
              "  'sampling_rate': 48000}]"
            ]
          },
          "execution_count": 28,
          "metadata": {},
          "output_type": "execute_result"
        }
      ],
      "source": [
        "test_dataset['audio']"
      ]
    },
    {
      "cell_type": "code",
      "execution_count": 29,
      "metadata": {},
      "outputs": [
        {
          "data": {
            "text/plain": [
              "['Joe Keaton disapproved of films, and Buster also had reservations about the medium.',\n",
              " \"She'll be all right.\",\n",
              " 'six',\n",
              " \"All's well that ends well.\",\n",
              " 'It is a busy market town that serves a large surrounding area.',\n",
              " 'The team had Olympic Champion Carolina Marin in their squad for the season.',\n",
              " 'Do you mean it?',\n",
              " 'The new patch is less invasive than the old one, but still causes regressions.',\n",
              " 'How is Mozilla going to handle ambiguities like queue and cue?',\n",
              " \"I guess you must think I'm kinda batty.\",\n",
              " 'No one near the remote machine you could ring?',\n",
              " 'Sauce for the goose is sauce for the gander.',\n",
              " 'Groves started writing songs when she was four years old.',\n",
              " 'His uncle Mike Shula was the former head coach at Alabama.',\n",
              " 'The response was that the Board did not appoint individual officers.',\n",
              " 'The long-lived bridge still stands today.',\n",
              " 'There was nothing to hold him back except himself.',\n",
              " 'The meat processing and construction industries would be allowed to operate with reduced personnel.',\n",
              " 'Coles Branch is underlaid by the Deep River Basin.',\n",
              " 'We spoke often.',\n",
              " 'He was Protestant.',\n",
              " 'The electrician looked puzzled.',\n",
              " 'The ladder on the fire truck was not long enough.',\n",
              " 'I will tell her what we decided.',\n",
              " 'These and the other youth leaders are advised and supported by the adult leaders.',\n",
              " 'Enoxaparin belongs to the class of drugs known as low molecular weight heparins.',\n",
              " 'Good things come in small packages.',\n",
              " 'Boles is studying chemical engineering at the University College Dublin.',\n",
              " 'It is a member theater of the Union of the Theatres of Europe.',\n",
              " 'All three battalions were equipped with captured French tanks.',\n",
              " 'YOU WANNA TAKE THIS OUTSIDE?',\n",
              " 'She joined the \"K\" patrol line and patrolled off Unalaska Island.',\n",
              " 'The immersion in hot water also kills the silkworm pupa.',\n",
              " 'She married her business partner, Steve Lane.',\n",
              " 'The attack on our root server overstrained our senior administrator.',\n",
              " 'Do you want me?',\n",
              " 'That would be funny if he did.',\n",
              " 'Eight National Paralympic Committee quotas and three individual athlete quotas were secured.',\n",
              " 'Although she had flowers and applause, Mavis said she was not content.',\n",
              " 'Add the column and put the sum here.',\n",
              " 'They perfectly illuminate the flowerbeds of gardens.',\n",
              " 'A mansion was usually set on a one square.',\n",
              " 'Alston commented that he felt the cartoonist \"might have had some racial intent\".',\n",
              " 'He was the chief clerk of the Chicago and Northwestern Railroad.',\n",
              " 'Doing a handstand needs a lot of practice to learn.',\n",
              " 'Man in red tshirt and baseball cap viewed from above he is has a pile of posters',\n",
              " 'The two films were then released within one day of each other.',\n",
              " '‘What did he say his name was?’ asked the captain.',\n",
              " 'He has German ancestry from his paternal side.',\n",
              " 'yes',\n",
              " \"Since their inception, Harris has been the band's principal composer and lyricist.\",\n",
              " 'After experiencing a mind-blowing sensual orgy, Mike was sure he had taken an overdose.',\n",
              " 'Religious festivals include the Muslim Eids and the Christian Christmas and Easter.',\n",
              " 'What do you advise, sir?',\n",
              " 'Charles looked on, angry that there was nothing he could do.',\n",
              " 'She had made personal exhibitions and participated in group exhibitions as well.',\n",
              " 'The manifesto made apparent the philosophical changes that Abbas had undergone.',\n",
              " 'She was also appointed the Eleanor Easley Distinguished Professor of Medicine.',\n",
              " 'Karina Smirnoff of \"Dancing With The Stars\" hosted the following month.',\n",
              " 'It is inhibited by the pneumotaxic centre.',\n",
              " 'His wide grin earned many friends.',\n",
              " 'An important person in the life of Emile Claus was the painter Jenny Montigny.',\n",
              " \"In the United States, Federal Vehicle fleets refers to the federal government's vehicles.\",\n",
              " 'It was won by a woman from Vara, Sweden.',\n",
              " 'The prints are then delivered to the customer.',\n",
              " 'In spite of this, I still believed that there were men in Mars.',\n",
              " 'The land was ruined, and I had to find some other way to earn a living.',\n",
              " 'Footprints of mud and clay were on the floor.',\n",
              " \"Other well-known relatives in Handsome Lake's family included Governor Blacksnake, Red Jacket and Half-Town.\",\n",
              " 'I pointed out Mars, a bright dot of light.',\n",
              " 'He ended up running to the bars which fortified the windows of the first floor.',\n",
              " 'I know why I want to get back to my flock, he thought.',\n",
              " 'Many notable problem and study composers are also International Judges, including Genrikh Kasparyan.',\n",
              " 'Many of the supporting characters present an unflattering portrayal of colonial life in Virginia.',\n",
              " 'You should see the other guy, specifically, how good at fighting he is.',\n",
              " 'He is of African-American and Italian descent.',\n",
              " \"That's not Carson Sphinx.\",\n",
              " 'Some rules of thumb are also accepted in the codes.',\n",
              " 'Lorenz is listed as a Swiss heritage site of national significance.',\n",
              " 'I have never in life hit a tennis ball.',\n",
              " 'The warehouses of Megapolis Ukraine in six cities were blocked by activists.',\n",
              " 'He is the first known and undisputed member of the Gediminids.',\n",
              " 'Lion Rock is located north west of Wong Tai Sin.',\n",
              " 'At dusk the Greek western flank was broken.',\n",
              " 'Her father is sure to inherit.',\n",
              " 'We should not take for granted how fortunate we have been.',\n",
              " 'Topical and up-to-the-minute, E!',\n",
              " 'The farmer works the soil and produces grain.',\n",
              " \"Since I've gotten a dog, the regular visits of the fox have stopped.\",\n",
              " 'His speech ended with a standing ovation.',\n",
              " 'eight',\n",
              " 'The reserve is in pristine condition with almost no human habitation.',\n",
              " '\"The wind told me that you know about love\" the boy said to the sun.',\n",
              " 'Geils began playing jazz trumpet but eventually switched to blues guitar.',\n",
              " 'This is the context in which the film begins.',\n",
              " 'These qualities make her beloved by her hometown.',\n",
              " 'The little pink ones are so cute.',\n",
              " 'The students colored with their crayons.',\n",
              " 'It seemed to him that it fell to earth about one hundred miles east of here.',\n",
              " 'As such it is face uniform but with irregular face polygons.']"
            ]
          },
          "execution_count": 29,
          "metadata": {},
          "output_type": "execute_result"
        }
      ],
      "source": [
        "test_dataset['sentence']"
      ]
    },
    {
      "cell_type": "code",
      "execution_count": 30,
      "metadata": {},
      "outputs": [
        {
          "data": {
            "text/plain": [
              "{'client_id': '0013037a1d45cc33460806cc3f8ecee9d536c45639ba4cbbf1564f1c051f53ff3c9f89ef2f1bf04badf55b3a2e7654c086f903681a7b6299616cff6f67598eff',\n",
              " 'path': '/DATA10T/Cache/downloads/extracted/ba5c265b423696aeece652c80df565d72d9f7c1cc9b807e127f44f989150f409/en_test_0/common_voice_en_699711.mp3',\n",
              " 'audio': {'path': '/DATA10T/Cache/downloads/extracted/ba5c265b423696aeece652c80df565d72d9f7c1cc9b807e127f44f989150f409/en_test_0/common_voice_en_699711.mp3',\n",
              "  'array': array([ 0.00000000e+00, -7.05920511e-14, -5.47149741e-14, ...,\n",
              "         -8.53668247e-09,  2.06165751e-09,  1.62003939e-08]),\n",
              "  'sampling_rate': 48000},\n",
              " 'sentence': \"She'll be all right.\",\n",
              " 'up_votes': 2,\n",
              " 'down_votes': 1,\n",
              " 'age': '',\n",
              " 'gender': '',\n",
              " 'accent': '',\n",
              " 'locale': 'en',\n",
              " 'segment': ''}"
            ]
          },
          "execution_count": 30,
          "metadata": {},
          "output_type": "execute_result"
        }
      ],
      "source": [
        "sample=test_dataset[1]\n",
        "sample"
      ]
    },
    {
      "cell_type": "code",
      "execution_count": 31,
      "metadata": {},
      "outputs": [
        {
          "data": {
            "text/plain": [
              "48000"
            ]
          },
          "execution_count": 31,
          "metadata": {},
          "output_type": "execute_result"
        }
      ],
      "source": [
        "sample[\"audio\"][\"sampling_rate\"]"
      ]
    },
    {
      "cell_type": "code",
      "execution_count": 33,
      "metadata": {},
      "outputs": [
        {
          "data": {
            "text/plain": [
              "\"She'll be all right.\""
            ]
          },
          "execution_count": 33,
          "metadata": {},
          "output_type": "execute_result"
        }
      ],
      "source": [
        "sample['sentence']"
      ]
    },
    {
      "cell_type": "code",
      "execution_count": 34,
      "metadata": {},
      "outputs": [],
      "source": [
        "inputids=processor.tokenizer(sample['sentence'])"
      ]
    },
    {
      "cell_type": "code",
      "execution_count": 35,
      "metadata": {},
      "outputs": [
        {
          "data": {
            "text/plain": [
              "{'input_ids': [3, 14, 11, 5, 18, 18, 4, 8, 11, 4, 7, 18, 18, 4, 24, 15, 13, 14, 26, 3], 'attention_mask': [1, 1, 1, 1, 1, 1, 1, 1, 1, 1, 1, 1, 1, 1, 1, 1, 1, 1, 1, 1]}"
            ]
          },
          "execution_count": 35,
          "metadata": {},
          "output_type": "execute_result"
        }
      ],
      "source": [
        "inputids"
      ]
    },
    {
      "cell_type": "code",
      "execution_count": 40,
      "metadata": {},
      "outputs": [
        {
          "data": {
            "text/plain": [
              "\"<unk>he'l be al right<unk>\""
            ]
          },
          "execution_count": 40,
          "metadata": {},
          "output_type": "execute_result"
        }
      ],
      "source": [
        "decoded_str = processor.decode(inputids.input_ids)\n",
        "decoded_str"
      ]
    },
    {
      "cell_type": "markdown",
      "metadata": {},
      "source": [
        "S and . is replaced as <unk>"
      ]
    },
    {
      "cell_type": "code",
      "execution_count": 41,
      "metadata": {},
      "outputs": [
        {
          "data": {
            "text/plain": [
              "\"she'l be al right<unk>\""
            ]
          },
          "execution_count": 41,
          "metadata": {},
          "output_type": "execute_result"
        }
      ],
      "source": [
        "inputids=processor.tokenizer(sample['sentence'].lower())\n",
        "decoded_str = processor.decode(inputids.input_ids)\n",
        "decoded_str"
      ]
    },
    {
      "cell_type": "code",
      "execution_count": 43,
      "metadata": {},
      "outputs": [
        {
          "data": {
            "text/plain": [
              "\"she'll be all right<unk>\""
            ]
          },
          "execution_count": 43,
          "metadata": {},
          "output_type": "execute_result"
        }
      ],
      "source": [
        "decoded_str = processor.tokenizer.decode(inputids.input_ids, group_tokens=False)\n",
        "decoded_str"
      ]
    },
    {
      "cell_type": "code",
      "execution_count": 45,
      "metadata": {},
      "outputs": [
        {
          "data": {
            "text/plain": [
              "{'<pad>': 0,\n",
              " '<s>': 1,\n",
              " '</s>': 2,\n",
              " '<unk>': 3,\n",
              " '|': 4,\n",
              " \"'\": 5,\n",
              " '-': 6,\n",
              " 'a': 7,\n",
              " 'b': 8,\n",
              " 'c': 9,\n",
              " 'd': 10,\n",
              " 'e': 11,\n",
              " 'f': 12,\n",
              " 'g': 13,\n",
              " 'h': 14,\n",
              " 'i': 15,\n",
              " 'j': 16,\n",
              " 'k': 17,\n",
              " 'l': 18,\n",
              " 'm': 19,\n",
              " 'n': 20,\n",
              " 'o': 21,\n",
              " 'p': 22,\n",
              " 'q': 23,\n",
              " 'r': 24,\n",
              " 's': 25,\n",
              " 't': 26,\n",
              " 'u': 27,\n",
              " 'v': 28,\n",
              " 'w': 29,\n",
              " 'x': 30,\n",
              " 'y': 31,\n",
              " 'z': 32}"
            ]
          },
          "execution_count": 45,
          "metadata": {},
          "output_type": "execute_result"
        }
      ],
      "source": [
        "processor.tokenizer.encoder"
      ]
    },
    {
      "cell_type": "code",
      "execution_count": 46,
      "metadata": {},
      "outputs": [],
      "source": [
        "speech_array, sampling_rate = librosa.load(sample[\"path\"], sr=16_000)\n",
        "#sample[\"audio\"][\"array\"] is 48000\n",
        "inputs_sample = processor(speech_array, sampling_rate=sampling_rate, return_tensors=\"pt\")"
      ]
    },
    {
      "cell_type": "code",
      "execution_count": 47,
      "metadata": {},
      "outputs": [
        {
          "data": {
            "text/plain": [
              "{'input_values': tensor([[4.2237e-05, 4.2201e-05, 4.2325e-05,  ..., 4.2364e-05, 4.2385e-05,\n",
              "         4.2037e-05]]), 'attention_mask': tensor([[1, 1, 1,  ..., 1, 1, 1]], dtype=torch.int32)}"
            ]
          },
          "execution_count": 47,
          "metadata": {},
          "output_type": "execute_result"
        }
      ],
      "source": [
        "inputs_sample"
      ]
    },
    {
      "cell_type": "code",
      "execution_count": 48,
      "metadata": {},
      "outputs": [],
      "source": [
        "with torch.no_grad():\n",
        "    logits = model(inputs_sample.input_values, attention_mask=inputs_sample.attention_mask).logits"
      ]
    },
    {
      "cell_type": "code",
      "execution_count": 49,
      "metadata": {},
      "outputs": [
        {
          "data": {
            "text/plain": [
              "torch.Size([1, 108, 33])"
            ]
          },
          "execution_count": 49,
          "metadata": {},
          "output_type": "execute_result"
        }
      ],
      "source": [
        "logits.shape"
      ]
    },
    {
      "cell_type": "code",
      "execution_count": 50,
      "metadata": {},
      "outputs": [
        {
          "data": {
            "text/plain": [
              "torch.Size([1, 108])"
            ]
          },
          "execution_count": 50,
          "metadata": {},
          "output_type": "execute_result"
        }
      ],
      "source": [
        "predicted_ids = torch.argmax(logits, dim=-1)\n",
        "predicted_ids.shape"
      ]
    },
    {
      "cell_type": "code",
      "execution_count": 51,
      "metadata": {},
      "outputs": [
        {
          "data": {
            "text/plain": [
              "[\"she'll be all right\"]"
            ]
          },
          "execution_count": 51,
          "metadata": {},
          "output_type": "execute_result"
        }
      ],
      "source": [
        "predicted_sentences = processor.batch_decode(predicted_ids)\n",
        "predicted_sentences"
      ]
    },
    {
      "cell_type": "code",
      "execution_count": 52,
      "metadata": {},
      "outputs": [
        {
          "data": {
            "application/vnd.jupyter.widget-view+json": {
              "model_id": "fc2b5e80570d4b46810a33828a0dccf3",
              "version_major": 2,
              "version_minor": 0
            },
            "text/plain": [
              "Map:   0%|          | 0/100 [00:00<?, ? examples/s]"
            ]
          },
          "metadata": {},
          "output_type": "display_data"
        }
      ],
      "source": [
        "# Preprocessing the datasets.\n",
        "# We need to read the audio files as arrays\n",
        "def speech_file_to_array_fn(batch):\n",
        "    speech_array, sampling_rate = librosa.load(batch[\"path\"], sr=16_000)\n",
        "    batch[\"speech\"] = speech_array\n",
        "    batch[\"sentence\"] = batch[\"sentence\"]#.upper()\n",
        "    return batch\n",
        "\n",
        "test_dataset_new = test_dataset.map(speech_file_to_array_fn)\n",
        "inputs = processor(test_dataset_new[\"speech\"], sampling_rate=16_000, return_tensors=\"pt\", padding=True)\n",
        "\n",
        "with torch.no_grad():\n",
        "    logits = model(inputs.input_values, attention_mask=inputs.attention_mask).logits\n",
        "\n",
        "predicted_ids = torch.argmax(logits, dim=-1)\n",
        "predicted_sentences = processor.batch_decode(predicted_ids)\n"
      ]
    },
    {
      "cell_type": "code",
      "execution_count": 54,
      "metadata": {},
      "outputs": [
        {
          "data": {
            "text/plain": [
              "['joe keatson disapproved of films and buster also had reservations about the medium',\n",
              " \"she'll be all right\",\n",
              " 'six',\n",
              " 'all as well that ends well',\n",
              " 'it is a busy market town that serves a large surrounded area',\n",
              " 'the team at olympic chapion carolina marine in is quiet forty season',\n",
              " 'do you mean it',\n",
              " 'the new patch is less invasive than the old one but still causes regression',\n",
              " 'how is moslillar going to handle andbewooth his like q and q',\n",
              " 'christian ws sitin pam on te batty',\n",
              " 'no one near the remote machine you could ring',\n",
              " 'sauce for the guice is sauce for the gonder',\n",
              " 'grafs started writing songs when she was four years old',\n",
              " 'his uncle mike schula was the former edge coach at alabama',\n",
              " 'the response was that the ball did not appoint individual officers',\n",
              " 'the long-lived bleached still stands today',\n",
              " 'there was nothing to hold him back except himself',\n",
              " 'the mead processing and construction industries would be allowed to operate with readios personel',\n",
              " \"cole's branch is underlayd by the deep river basin\",\n",
              " 'we spoke off on',\n",
              " 'he was protestant',\n",
              " 'they decretion youp pozzls',\n",
              " 'a leader on the fighter truck was not long enough',\n",
              " 'i will tell her what we decided',\n",
              " 'these and the other leaders are advised and supported by the adult leaders',\n",
              " 'loimoni a oxparian belongs to a class of truks monars bonalgiagat apariska',\n",
              " 'good things come in small paggages',\n",
              " 'bowles is studying chemical engineering at the university college dublin',\n",
              " 'it is a member theatre of the union of the theatres of europe',\n",
              " 'all three battalions were equipped with captured frenge tanks',\n",
              " 'you want to take this outside',\n",
              " 'she joined the k patrol line and patrolled off inalaska island',\n",
              " 'the imergion in hotwater also kills the sick one upah',\n",
              " 'she married her benness partner stephen lee',\n",
              " 'the attak on your road serve war strained our senior administrator',\n",
              " 'do you want me',\n",
              " 'that would be funny if he did',\n",
              " 'eight national paralympic committee kotas and three individual athlete kotas were secured',\n",
              " 'although she had flowers and applause maybe said she was not content',\n",
              " 'add the column and put the sum here',\n",
              " 'they perfectly illuminate the flower beds of t gardens',\n",
              " 'a mantion was usually hit on a one square',\n",
              " 'arlstone commented that he felt the cartoonist might have had some racial intent',\n",
              " 'he is the chief clerk of the chipalo and northwestern railroad',\n",
              " 'doing a handstan needs a lot of practice to learn',\n",
              " 'man in red t-shirt and baseball cap views from above he is as a pile of postures',\n",
              " 'the two films were then released within one day each other',\n",
              " 'what did he say his name wos asked the captain',\n",
              " 'he has german ancestry from his paternal sight',\n",
              " 'yes',\n",
              " 'many mean the kapalloturman is a gereqyo bashanzachabilirsens',\n",
              " 'after experiencing a mind-blowing sensual orgy mikes was sure he had taken ot over those',\n",
              " 'religious festivals include the muslim eids and the christian christmas and easter',\n",
              " 'what are you advise sir',\n",
              " 'charles looked on angry that there was nothing he could do',\n",
              " 'she had more personal exhibitions and participated in group exhibitions as well',\n",
              " 'the mony feasts to made apparent the philosophical changes that allus has undergone',\n",
              " 'she was also appointed the elenor easiley distinguished professor of medicine',\n",
              " 'carinas wurenoug of dancing with the stars hosted the following month',\n",
              " 'it is inhibited by the neumotoxic center',\n",
              " 'his white green and many friends',\n",
              " 'an important verson in the life of gemir cross was the painter jenn montegni',\n",
              " \"in the united states federal vehicle fleets refer to the federal government's vehicles\",\n",
              " 'it was on by a woman frombara swated bupy',\n",
              " 'te pring are then delivered to the constals',\n",
              " 'in spite of this i still believe that there were men ion marce',\n",
              " 'teland swilled bu had to fend sima the later in ravi',\n",
              " 'footprints of mud and clay were on the floor',\n",
              " 'other wearming weluses ainhungsan los comedy in filbo basma blat milk wom prakes and harxhantan',\n",
              " 'i pointed out mars a bright dot of light',\n",
              " 'he ended up running to the bars which fortified the windows of the first floor',\n",
              " 'i know why i want to get back to my flock he thought',\n",
              " 'many notable problems and study composers  are also international judges including gendrik kasparian  ss',\n",
              " 'many of the supporting characters present an unflattering portrayal of colonial life in virginia',\n",
              " 'you should see the other guin specifili how go that fighting his',\n",
              " 'he is of african-american egitary descent',\n",
              " \"that's not carson spinks\",\n",
              " 'some rules of thumb are also accepted in the codes',\n",
              " 'lorrange is listed as a swiss heritage site of national significance',\n",
              " 'i have never in life head at tennis ball',\n",
              " 'the warehouses of megapolis ucraine in six cities were blocked by activists',\n",
              " 'he is the first known and undisputed member of the geminids',\n",
              " 'lion rock is located northwest of wong taising',\n",
              " 'at dusk the greek western flank was broker',\n",
              " 'her father is sure to inherit',\n",
              " 'we should not take for granted how fortunate we have been',\n",
              " 'topical and up to the minute e',\n",
              " 'the farmer works the soil and produces grain',\n",
              " \"since i've gotten a dog the regular visits of the fox have stopped\",\n",
              " 'his speech ended with a standing ovation',\n",
              " 'ahd',\n",
              " 'the reserve is in prestine condition with almost no human habitation',\n",
              " 'the wind told me that you know about love the boy said to the sun',\n",
              " 'jales began playing gaz trompetes but avan charlish richard to blues guitar',\n",
              " 'this is the context in which the film begins',\n",
              " 'these qualities make her beloved by her home ton',\n",
              " 'the little pink ones are so cute',\n",
              " 'the students colored with their craons',\n",
              " 'it seemed to him that it fell to earth about one hundred miles east here',\n",
              " 'as such it is base uniform but with irregular base polygons']"
            ]
          },
          "execution_count": 54,
          "metadata": {},
          "output_type": "execute_result"
        }
      ],
      "source": [
        "predicted_sentences"
      ]
    },
    {
      "cell_type": "code",
      "execution_count": 53,
      "metadata": {},
      "outputs": [
        {
          "name": "stdout",
          "output_type": "stream",
          "text": [
            "----------------------------------------------------------------------------------------------------\n",
            "Reference: Joe Keaton disapproved of films, and Buster also had reservations about the medium.\n",
            "Prediction: joe keatson disapproved of films and buster also had reservations about the medium\n",
            "----------------------------------------------------------------------------------------------------\n",
            "Reference: She'll be all right.\n",
            "Prediction: she'll be all right\n",
            "----------------------------------------------------------------------------------------------------\n",
            "Reference: six\n",
            "Prediction: six\n",
            "----------------------------------------------------------------------------------------------------\n",
            "Reference: All's well that ends well.\n",
            "Prediction: all as well that ends well\n",
            "----------------------------------------------------------------------------------------------------\n",
            "Reference: It is a busy market town that serves a large surrounding area.\n",
            "Prediction: it is a busy market town that serves a large surrounded area\n",
            "----------------------------------------------------------------------------------------------------\n",
            "Reference: The team had Olympic Champion Carolina Marin in their squad for the season.\n",
            "Prediction: the team at olympic chapion carolina marine in is quiet forty season\n",
            "----------------------------------------------------------------------------------------------------\n",
            "Reference: Do you mean it?\n",
            "Prediction: do you mean it\n",
            "----------------------------------------------------------------------------------------------------\n",
            "Reference: The new patch is less invasive than the old one, but still causes regressions.\n",
            "Prediction: the new patch is less invasive than the old one but still causes regression\n",
            "----------------------------------------------------------------------------------------------------\n",
            "Reference: How is Mozilla going to handle ambiguities like queue and cue?\n",
            "Prediction: how is moslillar going to handle andbewooth his like q and q\n",
            "----------------------------------------------------------------------------------------------------\n",
            "Reference: I guess you must think I'm kinda batty.\n",
            "Prediction: christian ws sitin pam on te batty\n",
            "----------------------------------------------------------------------------------------------------\n",
            "Reference: No one near the remote machine you could ring?\n",
            "Prediction: no one near the remote machine you could ring\n",
            "----------------------------------------------------------------------------------------------------\n",
            "Reference: Sauce for the goose is sauce for the gander.\n",
            "Prediction: sauce for the guice is sauce for the gonder\n",
            "----------------------------------------------------------------------------------------------------\n",
            "Reference: Groves started writing songs when she was four years old.\n",
            "Prediction: grafs started writing songs when she was four years old\n",
            "----------------------------------------------------------------------------------------------------\n",
            "Reference: His uncle Mike Shula was the former head coach at Alabama.\n",
            "Prediction: his uncle mike schula was the former edge coach at alabama\n",
            "----------------------------------------------------------------------------------------------------\n",
            "Reference: The response was that the Board did not appoint individual officers.\n",
            "Prediction: the response was that the ball did not appoint individual officers\n",
            "----------------------------------------------------------------------------------------------------\n",
            "Reference: The long-lived bridge still stands today.\n",
            "Prediction: the long-lived bleached still stands today\n",
            "----------------------------------------------------------------------------------------------------\n",
            "Reference: There was nothing to hold him back except himself.\n",
            "Prediction: there was nothing to hold him back except himself\n",
            "----------------------------------------------------------------------------------------------------\n",
            "Reference: The meat processing and construction industries would be allowed to operate with reduced personnel.\n",
            "Prediction: the mead processing and construction industries would be allowed to operate with readios personel\n",
            "----------------------------------------------------------------------------------------------------\n",
            "Reference: Coles Branch is underlaid by the Deep River Basin.\n",
            "Prediction: cole's branch is underlayd by the deep river basin\n",
            "----------------------------------------------------------------------------------------------------\n",
            "Reference: We spoke often.\n",
            "Prediction: we spoke off on\n",
            "----------------------------------------------------------------------------------------------------\n",
            "Reference: He was Protestant.\n",
            "Prediction: he was protestant\n",
            "----------------------------------------------------------------------------------------------------\n",
            "Reference: The electrician looked puzzled.\n",
            "Prediction: they decretion youp pozzls\n",
            "----------------------------------------------------------------------------------------------------\n",
            "Reference: The ladder on the fire truck was not long enough.\n",
            "Prediction: a leader on the fighter truck was not long enough\n",
            "----------------------------------------------------------------------------------------------------\n",
            "Reference: I will tell her what we decided.\n",
            "Prediction: i will tell her what we decided\n",
            "----------------------------------------------------------------------------------------------------\n",
            "Reference: These and the other youth leaders are advised and supported by the adult leaders.\n",
            "Prediction: these and the other leaders are advised and supported by the adult leaders\n",
            "----------------------------------------------------------------------------------------------------\n",
            "Reference: Enoxaparin belongs to the class of drugs known as low molecular weight heparins.\n",
            "Prediction: loimoni a oxparian belongs to a class of truks monars bonalgiagat apariska\n",
            "----------------------------------------------------------------------------------------------------\n",
            "Reference: Good things come in small packages.\n",
            "Prediction: good things come in small paggages\n",
            "----------------------------------------------------------------------------------------------------\n",
            "Reference: Boles is studying chemical engineering at the University College Dublin.\n",
            "Prediction: bowles is studying chemical engineering at the university college dublin\n",
            "----------------------------------------------------------------------------------------------------\n",
            "Reference: It is a member theater of the Union of the Theatres of Europe.\n",
            "Prediction: it is a member theatre of the union of the theatres of europe\n",
            "----------------------------------------------------------------------------------------------------\n",
            "Reference: All three battalions were equipped with captured French tanks.\n",
            "Prediction: all three battalions were equipped with captured frenge tanks\n",
            "----------------------------------------------------------------------------------------------------\n",
            "Reference: YOU WANNA TAKE THIS OUTSIDE?\n",
            "Prediction: you want to take this outside\n",
            "----------------------------------------------------------------------------------------------------\n",
            "Reference: She joined the \"K\" patrol line and patrolled off Unalaska Island.\n",
            "Prediction: she joined the k patrol line and patrolled off inalaska island\n",
            "----------------------------------------------------------------------------------------------------\n",
            "Reference: The immersion in hot water also kills the silkworm pupa.\n",
            "Prediction: the imergion in hotwater also kills the sick one upah\n",
            "----------------------------------------------------------------------------------------------------\n",
            "Reference: She married her business partner, Steve Lane.\n",
            "Prediction: she married her benness partner stephen lee\n",
            "----------------------------------------------------------------------------------------------------\n",
            "Reference: The attack on our root server overstrained our senior administrator.\n",
            "Prediction: the attak on your road serve war strained our senior administrator\n",
            "----------------------------------------------------------------------------------------------------\n",
            "Reference: Do you want me?\n",
            "Prediction: do you want me\n",
            "----------------------------------------------------------------------------------------------------\n",
            "Reference: That would be funny if he did.\n",
            "Prediction: that would be funny if he did\n",
            "----------------------------------------------------------------------------------------------------\n",
            "Reference: Eight National Paralympic Committee quotas and three individual athlete quotas were secured.\n",
            "Prediction: eight national paralympic committee kotas and three individual athlete kotas were secured\n",
            "----------------------------------------------------------------------------------------------------\n",
            "Reference: Although she had flowers and applause, Mavis said she was not content.\n",
            "Prediction: although she had flowers and applause maybe said she was not content\n",
            "----------------------------------------------------------------------------------------------------\n",
            "Reference: Add the column and put the sum here.\n",
            "Prediction: add the column and put the sum here\n",
            "----------------------------------------------------------------------------------------------------\n",
            "Reference: They perfectly illuminate the flowerbeds of gardens.\n",
            "Prediction: they perfectly illuminate the flower beds of t gardens\n",
            "----------------------------------------------------------------------------------------------------\n",
            "Reference: A mansion was usually set on a one square.\n",
            "Prediction: a mantion was usually hit on a one square\n",
            "----------------------------------------------------------------------------------------------------\n",
            "Reference: Alston commented that he felt the cartoonist \"might have had some racial intent\".\n",
            "Prediction: arlstone commented that he felt the cartoonist might have had some racial intent\n",
            "----------------------------------------------------------------------------------------------------\n",
            "Reference: He was the chief clerk of the Chicago and Northwestern Railroad.\n",
            "Prediction: he is the chief clerk of the chipalo and northwestern railroad\n",
            "----------------------------------------------------------------------------------------------------\n",
            "Reference: Doing a handstand needs a lot of practice to learn.\n",
            "Prediction: doing a handstan needs a lot of practice to learn\n",
            "----------------------------------------------------------------------------------------------------\n",
            "Reference: Man in red tshirt and baseball cap viewed from above he is has a pile of posters\n",
            "Prediction: man in red t-shirt and baseball cap views from above he is as a pile of postures\n",
            "----------------------------------------------------------------------------------------------------\n",
            "Reference: The two films were then released within one day of each other.\n",
            "Prediction: the two films were then released within one day each other\n",
            "----------------------------------------------------------------------------------------------------\n",
            "Reference: ‘What did he say his name was?’ asked the captain.\n",
            "Prediction: what did he say his name wos asked the captain\n",
            "----------------------------------------------------------------------------------------------------\n",
            "Reference: He has German ancestry from his paternal side.\n",
            "Prediction: he has german ancestry from his paternal sight\n",
            "----------------------------------------------------------------------------------------------------\n",
            "Reference: yes\n",
            "Prediction: yes\n",
            "----------------------------------------------------------------------------------------------------\n",
            "Reference: Since their inception, Harris has been the band's principal composer and lyricist.\n",
            "Prediction: many mean the kapalloturman is a gereqyo bashanzachabilirsens\n",
            "----------------------------------------------------------------------------------------------------\n",
            "Reference: After experiencing a mind-blowing sensual orgy, Mike was sure he had taken an overdose.\n",
            "Prediction: after experiencing a mind-blowing sensual orgy mikes was sure he had taken ot over those\n",
            "----------------------------------------------------------------------------------------------------\n",
            "Reference: Religious festivals include the Muslim Eids and the Christian Christmas and Easter.\n",
            "Prediction: religious festivals include the muslim eids and the christian christmas and easter\n",
            "----------------------------------------------------------------------------------------------------\n",
            "Reference: What do you advise, sir?\n",
            "Prediction: what are you advise sir\n",
            "----------------------------------------------------------------------------------------------------\n",
            "Reference: Charles looked on, angry that there was nothing he could do.\n",
            "Prediction: charles looked on angry that there was nothing he could do\n",
            "----------------------------------------------------------------------------------------------------\n",
            "Reference: She had made personal exhibitions and participated in group exhibitions as well.\n",
            "Prediction: she had more personal exhibitions and participated in group exhibitions as well\n",
            "----------------------------------------------------------------------------------------------------\n",
            "Reference: The manifesto made apparent the philosophical changes that Abbas had undergone.\n",
            "Prediction: the mony feasts to made apparent the philosophical changes that allus has undergone\n",
            "----------------------------------------------------------------------------------------------------\n",
            "Reference: She was also appointed the Eleanor Easley Distinguished Professor of Medicine.\n",
            "Prediction: she was also appointed the elenor easiley distinguished professor of medicine\n",
            "----------------------------------------------------------------------------------------------------\n",
            "Reference: Karina Smirnoff of \"Dancing With The Stars\" hosted the following month.\n",
            "Prediction: carinas wurenoug of dancing with the stars hosted the following month\n",
            "----------------------------------------------------------------------------------------------------\n",
            "Reference: It is inhibited by the pneumotaxic centre.\n",
            "Prediction: it is inhibited by the neumotoxic center\n",
            "----------------------------------------------------------------------------------------------------\n",
            "Reference: His wide grin earned many friends.\n",
            "Prediction: his white green and many friends\n",
            "----------------------------------------------------------------------------------------------------\n",
            "Reference: An important person in the life of Emile Claus was the painter Jenny Montigny.\n",
            "Prediction: an important verson in the life of gemir cross was the painter jenn montegni\n",
            "----------------------------------------------------------------------------------------------------\n",
            "Reference: In the United States, Federal Vehicle fleets refers to the federal government's vehicles.\n",
            "Prediction: in the united states federal vehicle fleets refer to the federal government's vehicles\n",
            "----------------------------------------------------------------------------------------------------\n",
            "Reference: It was won by a woman from Vara, Sweden.\n",
            "Prediction: it was on by a woman frombara swated bupy\n",
            "----------------------------------------------------------------------------------------------------\n",
            "Reference: The prints are then delivered to the customer.\n",
            "Prediction: te pring are then delivered to the constals\n",
            "----------------------------------------------------------------------------------------------------\n",
            "Reference: In spite of this, I still believed that there were men in Mars.\n",
            "Prediction: in spite of this i still believe that there were men ion marce\n",
            "----------------------------------------------------------------------------------------------------\n",
            "Reference: The land was ruined, and I had to find some other way to earn a living.\n",
            "Prediction: teland swilled bu had to fend sima the later in ravi\n",
            "----------------------------------------------------------------------------------------------------\n",
            "Reference: Footprints of mud and clay were on the floor.\n",
            "Prediction: footprints of mud and clay were on the floor\n",
            "----------------------------------------------------------------------------------------------------\n",
            "Reference: Other well-known relatives in Handsome Lake's family included Governor Blacksnake, Red Jacket and Half-Town.\n",
            "Prediction: other wearming weluses ainhungsan los comedy in filbo basma blat milk wom prakes and harxhantan\n",
            "----------------------------------------------------------------------------------------------------\n",
            "Reference: I pointed out Mars, a bright dot of light.\n",
            "Prediction: i pointed out mars a bright dot of light\n",
            "----------------------------------------------------------------------------------------------------\n",
            "Reference: He ended up running to the bars which fortified the windows of the first floor.\n",
            "Prediction: he ended up running to the bars which fortified the windows of the first floor\n",
            "----------------------------------------------------------------------------------------------------\n",
            "Reference: I know why I want to get back to my flock, he thought.\n",
            "Prediction: i know why i want to get back to my flock he thought\n",
            "----------------------------------------------------------------------------------------------------\n",
            "Reference: Many notable problem and study composers are also International Judges, including Genrikh Kasparyan.\n",
            "Prediction: many notable problems and study composers  are also international judges including gendrik kasparian  ss\n",
            "----------------------------------------------------------------------------------------------------\n",
            "Reference: Many of the supporting characters present an unflattering portrayal of colonial life in Virginia.\n",
            "Prediction: many of the supporting characters present an unflattering portrayal of colonial life in virginia\n",
            "----------------------------------------------------------------------------------------------------\n",
            "Reference: You should see the other guy, specifically, how good at fighting he is.\n",
            "Prediction: you should see the other guin specifili how go that fighting his\n",
            "----------------------------------------------------------------------------------------------------\n",
            "Reference: He is of African-American and Italian descent.\n",
            "Prediction: he is of african-american egitary descent\n",
            "----------------------------------------------------------------------------------------------------\n",
            "Reference: That's not Carson Sphinx.\n",
            "Prediction: that's not carson spinks\n",
            "----------------------------------------------------------------------------------------------------\n",
            "Reference: Some rules of thumb are also accepted in the codes.\n",
            "Prediction: some rules of thumb are also accepted in the codes\n",
            "----------------------------------------------------------------------------------------------------\n",
            "Reference: Lorenz is listed as a Swiss heritage site of national significance.\n",
            "Prediction: lorrange is listed as a swiss heritage site of national significance\n",
            "----------------------------------------------------------------------------------------------------\n",
            "Reference: I have never in life hit a tennis ball.\n",
            "Prediction: i have never in life head at tennis ball\n",
            "----------------------------------------------------------------------------------------------------\n",
            "Reference: The warehouses of Megapolis Ukraine in six cities were blocked by activists.\n",
            "Prediction: the warehouses of megapolis ucraine in six cities were blocked by activists\n",
            "----------------------------------------------------------------------------------------------------\n",
            "Reference: He is the first known and undisputed member of the Gediminids.\n",
            "Prediction: he is the first known and undisputed member of the geminids\n",
            "----------------------------------------------------------------------------------------------------\n",
            "Reference: Lion Rock is located north west of Wong Tai Sin.\n",
            "Prediction: lion rock is located northwest of wong taising\n",
            "----------------------------------------------------------------------------------------------------\n",
            "Reference: At dusk the Greek western flank was broken.\n",
            "Prediction: at dusk the greek western flank was broker\n",
            "----------------------------------------------------------------------------------------------------\n",
            "Reference: Her father is sure to inherit.\n",
            "Prediction: her father is sure to inherit\n",
            "----------------------------------------------------------------------------------------------------\n",
            "Reference: We should not take for granted how fortunate we have been.\n",
            "Prediction: we should not take for granted how fortunate we have been\n",
            "----------------------------------------------------------------------------------------------------\n",
            "Reference: Topical and up-to-the-minute, E!\n",
            "Prediction: topical and up to the minute e\n",
            "----------------------------------------------------------------------------------------------------\n",
            "Reference: The farmer works the soil and produces grain.\n",
            "Prediction: the farmer works the soil and produces grain\n",
            "----------------------------------------------------------------------------------------------------\n",
            "Reference: Since I've gotten a dog, the regular visits of the fox have stopped.\n",
            "Prediction: since i've gotten a dog the regular visits of the fox have stopped\n",
            "----------------------------------------------------------------------------------------------------\n",
            "Reference: His speech ended with a standing ovation.\n",
            "Prediction: his speech ended with a standing ovation\n",
            "----------------------------------------------------------------------------------------------------\n",
            "Reference: eight\n",
            "Prediction: ahd\n",
            "----------------------------------------------------------------------------------------------------\n",
            "Reference: The reserve is in pristine condition with almost no human habitation.\n",
            "Prediction: the reserve is in prestine condition with almost no human habitation\n",
            "----------------------------------------------------------------------------------------------------\n",
            "Reference: \"The wind told me that you know about love\" the boy said to the sun.\n",
            "Prediction: the wind told me that you know about love the boy said to the sun\n",
            "----------------------------------------------------------------------------------------------------\n",
            "Reference: Geils began playing jazz trumpet but eventually switched to blues guitar.\n",
            "Prediction: jales began playing gaz trompetes but avan charlish richard to blues guitar\n",
            "----------------------------------------------------------------------------------------------------\n",
            "Reference: This is the context in which the film begins.\n",
            "Prediction: this is the context in which the film begins\n",
            "----------------------------------------------------------------------------------------------------\n",
            "Reference: These qualities make her beloved by her hometown.\n",
            "Prediction: these qualities make her beloved by her home ton\n",
            "----------------------------------------------------------------------------------------------------\n",
            "Reference: The little pink ones are so cute.\n",
            "Prediction: the little pink ones are so cute\n",
            "----------------------------------------------------------------------------------------------------\n",
            "Reference: The students colored with their crayons.\n",
            "Prediction: the students colored with their craons\n",
            "----------------------------------------------------------------------------------------------------\n",
            "Reference: It seemed to him that it fell to earth about one hundred miles east of here.\n",
            "Prediction: it seemed to him that it fell to earth about one hundred miles east here\n",
            "----------------------------------------------------------------------------------------------------\n",
            "Reference: As such it is face uniform but with irregular face polygons.\n",
            "Prediction: as such it is base uniform but with irregular base polygons\n"
          ]
        }
      ],
      "source": [
        "for i, predicted_sentence in enumerate(predicted_sentences):\n",
        "    print(\"-\" * 100)\n",
        "    print(\"Reference:\", test_dataset[i][\"sentence\"])\n",
        "    print(\"Prediction:\", predicted_sentence)"
      ]
    },
    {
      "cell_type": "markdown",
      "metadata": {
        "id": "ri5y5N_HMANq"
      },
      "source": [
        "Many ASR datasets only provide the target text, `'sentence'` for each audio array `'audio'` and file `'path'`. Common Voice actually provides much more information about each audio file, such as the `'accent'`, etc. Keeping the notebook as general as possible, we only consider the transcribed text for fine-tuning.\n",
        "\n"
      ]
    },
    {
      "cell_type": "code",
      "execution_count": 187,
      "metadata": {
        "id": "kbyq6lDgQc2a"
      },
      "outputs": [],
      "source": [
        "train_dataset = train_dataset.remove_columns([\"accent\", \"age\", \"client_id\", \"down_votes\", \"gender\", \"locale\", \"segment\", \"up_votes\"])\n",
        "test_dataset = test_dataset.remove_columns([\"accent\", \"age\", \"client_id\", \"down_votes\", \"gender\", \"locale\", \"segment\", \"up_votes\"])"
      ]
    },
    {
      "cell_type": "markdown",
      "metadata": {
        "id": "Go9Hq4e4NDT9"
      },
      "source": [
        "Let's write a short function to display some random samples of the dataset and run it a couple of times to get a feeling for the transcriptions."
      ]
    },
    {
      "cell_type": "code",
      "execution_count": 188,
      "metadata": {
        "id": "72737oog2F6U"
      },
      "outputs": [],
      "source": [
        "from datasets import ClassLabel\n",
        "import random\n",
        "import pandas as pd\n",
        "from IPython.display import display, HTML\n",
        "\n",
        "def show_random_elements(dataset, num_examples=10):\n",
        "    assert num_examples <= len(dataset), \"Can't pick more elements than there are in the dataset.\"\n",
        "    picks = []\n",
        "    for _ in range(num_examples):\n",
        "        pick = random.randint(0, len(dataset)-1)\n",
        "        while pick in picks:\n",
        "            pick = random.randint(0, len(dataset)-1)\n",
        "        picks.append(pick)\n",
        "\n",
        "    df = pd.DataFrame(dataset[picks])\n",
        "    display(HTML(df.to_html()))"
      ]
    },
    {
      "cell_type": "code",
      "execution_count": 189,
      "metadata": {
        "colab": {
          "base_uri": "https://localhost:8080/",
          "height": 359
        },
        "id": "K_JUmf3G3b9S",
        "outputId": "e3a0d9c8-4b68-4255-fd29-8dba65632a24"
      },
      "outputs": [
        {
          "data": {
            "text/html": [
              "<table border=\"1\" class=\"dataframe\">\n",
              "  <thead>\n",
              "    <tr style=\"text-align: right;\">\n",
              "      <th></th>\n",
              "      <th>sentence</th>\n",
              "    </tr>\n",
              "  </thead>\n",
              "  <tbody>\n",
              "    <tr>\n",
              "      <th>0</th>\n",
              "      <td>They had a daughter, Ruth, and a son, Edward.</td>\n",
              "    </tr>\n",
              "    <tr>\n",
              "      <th>1</th>\n",
              "      <td>Bankstown has one of the most ethnically diverse communities in Australia.</td>\n",
              "    </tr>\n",
              "    <tr>\n",
              "      <th>2</th>\n",
              "      <td>His off-Broadway and cabaret contributions of music and lyrics were myriad.</td>\n",
              "    </tr>\n",
              "    <tr>\n",
              "      <th>3</th>\n",
              "      <td>He also participated in Commonwealth Games.</td>\n",
              "    </tr>\n",
              "    <tr>\n",
              "      <th>4</th>\n",
              "      <td>Almost all his spoken sentences begin with the words \"'ere listen\".</td>\n",
              "    </tr>\n",
              "    <tr>\n",
              "      <th>5</th>\n",
              "      <td>Sales of his records exceeded two million.</td>\n",
              "    </tr>\n",
              "    <tr>\n",
              "      <th>6</th>\n",
              "      <td>It is located in the Bsharri District of the North Governorate.</td>\n",
              "    </tr>\n",
              "    <tr>\n",
              "      <th>7</th>\n",
              "      <td>Its county seat is Clintwood.</td>\n",
              "    </tr>\n",
              "    <tr>\n",
              "      <th>8</th>\n",
              "      <td>Gynocriticism also examines the female struggle for identity and the social construct of gender.</td>\n",
              "    </tr>\n",
              "    <tr>\n",
              "      <th>9</th>\n",
              "      <td>He worked steadily as a radio announcer and actor.</td>\n",
              "    </tr>\n",
              "  </tbody>\n",
              "</table>"
            ],
            "text/plain": [
              "<IPython.core.display.HTML object>"
            ]
          },
          "metadata": {},
          "output_type": "display_data"
        }
      ],
      "source": [
        "show_random_elements(train_dataset.remove_columns([\"path\", \"audio\"]), num_examples=10)"
      ]
    },
    {
      "cell_type": "markdown",
      "metadata": {
        "id": "fowcOllGNNju"
      },
      "source": [
        "Alright! The transcriptions look fairly clean. Having translated the transcribed sentences, it seems that the language corresponds more to written-out text than noisy dialogue. This makes sense considering that [Common Voice](https://huggingface.co/datasets/common_voice) is a crowd-sourced read speech corpus."
      ]
    },
    {
      "cell_type": "markdown",
      "metadata": {
        "id": "vq7OR50LN49m"
      },
      "source": [
        "We can see that the transcriptions contain some special characters, such as `,.?!;:`. Without a language model, it is much harder to classify speech chunks to such special characters because they don't really correspond to a characteristic sound unit. *E.g.*, the letter `\"s\"` has a more or less clear sound, whereas the special character `\".\"` does not.\n",
        "Also in order to understand the meaning of a speech signal, it is usually not necessary to include special characters in the transcription.\n",
        "\n",
        "Let's simply remove all characters that don't contribute to the meaning of a word and cannot really be represented by an acoustic sound and normalize the text."
      ]
    },
    {
      "cell_type": "code",
      "execution_count": 190,
      "metadata": {
        "id": "svKzVJ_hQGK6"
      },
      "outputs": [],
      "source": [
        "import re\n",
        "chars_to_remove_regex = '[\\,\\?\\.\\!\\-\\;\\:\\\"\\“\\%\\‘\\”\\�\\']'\n",
        "\n",
        "\n",
        "def remove_special_characters(batch):\n",
        "    batch[\"sentence\"] = re.sub(chars_to_remove_regex, '', batch[\"sentence\"]).lower()\n",
        "    return batch"
      ]
    },
    {
      "cell_type": "code",
      "execution_count": 191,
      "metadata": {
        "colab": {
          "base_uri": "https://localhost:8080/"
        },
        "id": "XIHocAuTQbBR",
        "outputId": "32b09453-6f60-42c4-e417-4e87edad58dd"
      },
      "outputs": [],
      "source": [
        "train_dataset = train_dataset.map(remove_special_characters)\n",
        "test_dataset = test_dataset.map(remove_special_characters)"
      ]
    },
    {
      "cell_type": "markdown",
      "metadata": {
        "id": "TxnVS9gIhIma"
      },
      "source": [
        "Let's look at the processed text labels again."
      ]
    },
    {
      "cell_type": "code",
      "execution_count": 192,
      "metadata": {
        "colab": {
          "base_uri": "https://localhost:8080/",
          "height": 359
        },
        "id": "RBDRAAYxRE6n",
        "outputId": "5bbca4d5-57b3-48ca-e591-b5feeab0db3d"
      },
      "outputs": [
        {
          "data": {
            "text/html": [
              "<table border=\"1\" class=\"dataframe\">\n",
              "  <thead>\n",
              "    <tr style=\"text-align: right;\">\n",
              "      <th></th>\n",
              "      <th>sentence</th>\n",
              "    </tr>\n",
              "  </thead>\n",
              "  <tbody>\n",
              "    <tr>\n",
              "      <th>0</th>\n",
              "      <td>in the shows storyline helen helped run the robinson household</td>\n",
              "    </tr>\n",
              "    <tr>\n",
              "      <th>1</th>\n",
              "      <td>he promotes homeschooling and specifically unschooling and open source learning</td>\n",
              "    </tr>\n",
              "    <tr>\n",
              "      <th>2</th>\n",
              "      <td>the price varies depending on where its sold</td>\n",
              "    </tr>\n",
              "    <tr>\n",
              "      <th>3</th>\n",
              "      <td>phong reflection is an empirical model of local illumination</td>\n",
              "    </tr>\n",
              "    <tr>\n",
              "      <th>4</th>\n",
              "      <td>thereafter the class was highly respected</td>\n",
              "    </tr>\n",
              "    <tr>\n",
              "      <th>5</th>\n",
              "      <td>cigale is left to die in the snow at the close of the ballet</td>\n",
              "    </tr>\n",
              "    <tr>\n",
              "      <th>6</th>\n",
              "      <td>stuart russell was born in portsmouth england</td>\n",
              "    </tr>\n",
              "    <tr>\n",
              "      <th>7</th>\n",
              "      <td>however it can be attacked by many methods</td>\n",
              "    </tr>\n",
              "    <tr>\n",
              "      <th>8</th>\n",
              "      <td>in other words these primates developed the use of primitive technology</td>\n",
              "    </tr>\n",
              "    <tr>\n",
              "      <th>9</th>\n",
              "      <td>it is a solitary and mainly arboreal animal it is rather clumsy on the soil</td>\n",
              "    </tr>\n",
              "  </tbody>\n",
              "</table>"
            ],
            "text/plain": [
              "<IPython.core.display.HTML object>"
            ]
          },
          "metadata": {},
          "output_type": "display_data"
        }
      ],
      "source": [
        "show_random_elements(train_dataset.remove_columns([\"path\",\"audio\"]))"
      ]
    },
    {
      "cell_type": "markdown",
      "metadata": {
        "id": "jwfaptH5RJwA"
      },
      "source": [
        "Good! This looks better. We have removed most special characters from transcriptions and normalized them to lower-case only.\n",
        "\n",
        "Before finalizing the pre-processing, it is always advantageous to consult a native speaker of the target language to see whether the text can be further simplified.\n",
        "For this blog post, [Merve](https://twitter.com/mervenoyann) was kind enough to take a quick look and noted that \"hatted\" characters - like `â` - aren't really used anymore in Turkish and can be replaced by their \"un-hatted\" equivalent, *e.g.* `a`.\n",
        "\n",
        "This means that we should replace a sentence like `\"yargı sistemi hâlâ sağlıksız\"` to `\"yargı sistemi hala sağlıksız\"`.\n",
        "\n",
        "Let's write another short mapping function to further simplify the text labels. Remember - the simler the text labels, the easier it is for the model to learn to predict those labels.\n",
        "\n"
      ]
    },
    {
      "cell_type": "code",
      "execution_count": 193,
      "metadata": {
        "id": "aZcrz6z7lgGm"
      },
      "outputs": [],
      "source": [
        "def replace_hatted_characters(batch):\n",
        "    batch[\"sentence\"] = re.sub('[â]', 'a', batch[\"sentence\"])\n",
        "    batch[\"sentence\"] = re.sub('[î]', 'i', batch[\"sentence\"])\n",
        "    batch[\"sentence\"] = re.sub('[ô]', 'o', batch[\"sentence\"])\n",
        "    batch[\"sentence\"] = re.sub('[û]', 'u', batch[\"sentence\"])\n",
        "    return batch"
      ]
    },
    {
      "cell_type": "code",
      "execution_count": 194,
      "metadata": {
        "colab": {
          "base_uri": "https://localhost:8080/"
        },
        "id": "ieGhhND5mSwI",
        "outputId": "2f5cee33-a98a-45ae-a8b4-0f10d97f4d15"
      },
      "outputs": [
        {
          "data": {
            "application/vnd.jupyter.widget-view+json": {
              "model_id": "ae55cf4d1a9c48fab7adcfbf1ecfd2a0",
              "version_major": 2,
              "version_minor": 0
            },
            "text/plain": [
              "Map:   0%|          | 0/10000 [00:00<?, ? examples/s]"
            ]
          },
          "metadata": {},
          "output_type": "display_data"
        },
        {
          "data": {
            "application/vnd.jupyter.widget-view+json": {
              "model_id": "dd3b66c9f3044ac8ab9f0a72e19c484f",
              "version_major": 2,
              "version_minor": 0
            },
            "text/plain": [
              "Map:   0%|          | 0/200 [00:00<?, ? examples/s]"
            ]
          },
          "metadata": {},
          "output_type": "display_data"
        }
      ],
      "source": [
        "train_dataset = train_dataset.map(replace_hatted_characters)\n",
        "test_dataset = test_dataset.map(replace_hatted_characters)"
      ]
    },
    {
      "cell_type": "markdown",
      "metadata": {
        "id": "3ORHDb2Th2TW"
      },
      "source": [
        "In CTC, it is common to classify speech chunks into letters, so we will do the same here.\n",
        "Let's extract all distinct letters of the training and test data and build our vocabulary from this set of letters.\n",
        "\n",
        "We write a mapping function that concatenates all transcriptions into one long transcription and then transforms the string into a set of chars.\n",
        "It is important to pass the argument `batched=True` to the `map(...)` function so that the mapping function has access to all transcriptions at once."
      ]
    },
    {
      "cell_type": "code",
      "execution_count": 195,
      "metadata": {
        "id": "LwCshNbbeRZR"
      },
      "outputs": [],
      "source": [
        "def extract_all_chars(batch):\n",
        "  all_text = \" \".join(batch[\"sentence\"])\n",
        "  vocab = list(set(all_text))\n",
        "  return {\"vocab\": [vocab], \"all_text\": [all_text]}"
      ]
    },
    {
      "cell_type": "code",
      "execution_count": 196,
      "metadata": {
        "colab": {
          "base_uri": "https://localhost:8080/",
          "height": 81,
          "referenced_widgets": [
            "e78238c96d6a4152bf40f5d7a81e5495",
            "75b26f4a95d24e9d8939d1f7b376eb51",
            "f58af0561fc242238cfd0163f0ad5e5f",
            "a1419cc920324f62be58d6e48a82e275",
            "6ec3c80319fb45f3b6f7715049c9bce0",
            "02519344818c40d0b961c5ea210a5c62",
            "e575e46791b24f449b8afcb773e46dcc",
            "5cff6b2dd6944c59b8c2f205db5f49bf",
            "5ba2a38c71e64253a4fd39cf7d3b3326",
            "bc11f833cc9c441b9a58d69ea792fa9c",
            "4f81e460906a428f9f74a0aa469ba63f",
            "093927de0d86406290365759e88fd4e7",
            "f6e777f3a1684a7da3efc63281553b5e",
            "609781a3f55d4d3dbf0b3640972755fa",
            "8783792878a64402981a416989924348",
            "92e295e353624110880cff6835b9e119",
            "db7a9c27eabb4ba391bfb9d819d7a36e",
            "fd2ba2bf4b2946078a0761b773626b64",
            "a5777207c788498fb4ac4900af91d7cf",
            "890ff54dc35e460b9108e2690966fafe",
            "cc70741031664fa89bfe8e8e672c5b2b",
            "46c8681bd36f419495d33b06c96311ed"
          ]
        },
        "id": "_m6uUjjcfbjH",
        "outputId": "67fa96dd-2df9-4393-f551-4d599c42efff"
      },
      "outputs": [
        {
          "data": {
            "application/vnd.jupyter.widget-view+json": {
              "model_id": "fe65ddac332940678fc2b045f14bc56b",
              "version_major": 2,
              "version_minor": 0
            },
            "text/plain": [
              "Map:   0%|          | 0/10000 [00:00<?, ? examples/s]"
            ]
          },
          "metadata": {},
          "output_type": "display_data"
        },
        {
          "data": {
            "application/vnd.jupyter.widget-view+json": {
              "model_id": "8db332e928ab4f1ea7c372c80438d773",
              "version_major": 2,
              "version_minor": 0
            },
            "text/plain": [
              "Map:   0%|          | 0/200 [00:00<?, ? examples/s]"
            ]
          },
          "metadata": {},
          "output_type": "display_data"
        }
      ],
      "source": [
        "vocab_train = train_dataset.map(extract_all_chars, batched=True, batch_size=-1, keep_in_memory=True, remove_columns=train_dataset.column_names)\n",
        "vocab_test = test_dataset.map(extract_all_chars, batched=True, batch_size=-1, keep_in_memory=True, remove_columns=test_dataset.column_names)"
      ]
    },
    {
      "cell_type": "markdown",
      "metadata": {
        "id": "7oVgE8RZSJNP"
      },
      "source": [
        "Now, we create the union of all distinct letters in the training dataset and test dataset and convert the resulting list into an enumerated dictionary."
      ]
    },
    {
      "cell_type": "code",
      "execution_count": 197,
      "metadata": {
        "id": "aQfneNsmlJI0"
      },
      "outputs": [],
      "source": [
        "vocab_list = list(set(vocab_train[\"vocab\"][0]) | set(vocab_test[\"vocab\"][0]))"
      ]
    },
    {
      "cell_type": "code",
      "execution_count": 198,
      "metadata": {
        "colab": {
          "base_uri": "https://localhost:8080/"
        },
        "id": "_0kRndSvqaKk",
        "outputId": "63440dfc-3f58-42c1-db78-3369f96f103f"
      },
      "outputs": [
        {
          "data": {
            "text/plain": [
              "{' ': 0,\n",
              " '(': 1,\n",
              " ')': 2,\n",
              " 'a': 3,\n",
              " 'b': 4,\n",
              " 'c': 5,\n",
              " 'd': 6,\n",
              " 'e': 7,\n",
              " 'f': 8,\n",
              " 'g': 9,\n",
              " 'h': 10,\n",
              " 'i': 11,\n",
              " 'j': 12,\n",
              " 'k': 13,\n",
              " 'l': 14,\n",
              " 'm': 15,\n",
              " 'n': 16,\n",
              " 'o': 17,\n",
              " 'p': 18,\n",
              " 'q': 19,\n",
              " 'r': 20,\n",
              " 's': 21,\n",
              " 't': 22,\n",
              " 'u': 23,\n",
              " 'v': 24,\n",
              " 'w': 25,\n",
              " 'x': 26,\n",
              " 'y': 27,\n",
              " 'z': 28,\n",
              " 'á': 29,\n",
              " 'è': 30,\n",
              " 'é': 31,\n",
              " 'í': 32,\n",
              " 'ï': 33,\n",
              " 'ó': 34,\n",
              " 'ō': 35,\n",
              " 'ř': 36,\n",
              " 'ž': 37,\n",
              " '–': 38,\n",
              " '—': 39,\n",
              " '’': 40}"
            ]
          },
          "execution_count": 198,
          "metadata": {},
          "output_type": "execute_result"
        }
      ],
      "source": [
        "vocab_dict = {v: k for k, v in enumerate(sorted(vocab_list))}\n",
        "vocab_dict"
      ]
    },
    {
      "cell_type": "markdown",
      "metadata": {
        "id": "JOSzbvs9SXT1"
      },
      "source": [
        "Cool, we see that all letters of the alphabet occur in the dataset (which is not really surprising) and we also extracted the special characters `\"\"` and `'`. Note that we did not exclude those special characters because:\n",
        "\n",
        "The model has to learn to predict when a word is finished or else the model prediction would always be a sequence of chars which would make it impossible to separate words from each other.\n",
        "\n",
        "One should always keep in mind that pre-processing is a very important step before training your model. E.g., we don't want our model to differentiate between `a` and `A` just because we forgot to normalize the data. The difference between `a` and `A` does not depend on the \"sound\" of the letter at all, but more on grammatical rules - *e.g.* use a capitalized letter at the beginning of the sentence. So it is sensible to remove the difference between capitalized and non-capitalized letters so that the model has an easier time learning to transcribe speech."
      ]
    },
    {
      "cell_type": "markdown",
      "metadata": {
        "id": "b1fBRCn-TRaO"
      },
      "source": [
        "To make it clearer that `\" \"` has its own token class, we give it a more visible character `|`. In addition, we also add an \"unknown\" token so that the model can later deal with characters not encountered in Common Voice's training set."
      ]
    },
    {
      "cell_type": "code",
      "execution_count": 199,
      "metadata": {
        "id": "npbIbBoLgaFX"
      },
      "outputs": [],
      "source": [
        "vocab_dict[\"|\"] = vocab_dict[\" \"]\n",
        "del vocab_dict[\" \"]"
      ]
    },
    {
      "cell_type": "markdown",
      "metadata": {
        "id": "_9yCWg4Sd0cb"
      },
      "source": [
        "Finally, we also add a padding token that corresponds to CTC's \"*blank token*\". The \"blank token\" is a core component of the CTC algorithm. For more information, please take a look at the \"Alignment\" section [here](https://distill.pub/2017/ctc/)."
      ]
    },
    {
      "cell_type": "code",
      "execution_count": 200,
      "metadata": {
        "colab": {
          "base_uri": "https://localhost:8080/"
        },
        "id": "znF0bNunsjbl",
        "outputId": "314ca989-0587-485e-d7d2-3e6efe2158ee"
      },
      "outputs": [
        {
          "data": {
            "text/plain": [
              "43"
            ]
          },
          "execution_count": 200,
          "metadata": {},
          "output_type": "execute_result"
        }
      ],
      "source": [
        "vocab_dict[\"[UNK]\"] = len(vocab_dict)\n",
        "vocab_dict[\"[PAD]\"] = len(vocab_dict)\n",
        "len(vocab_dict)"
      ]
    },
    {
      "cell_type": "markdown",
      "metadata": {
        "id": "SFPGfet8U5sL"
      },
      "source": [
        "Cool, now our vocabulary is complete and consists of 39 tokens, which means that the linear layer that we will add on top of the pretrained XLS-R checkpoint will have an output dimension of 39."
      ]
    },
    {
      "cell_type": "markdown",
      "metadata": {
        "id": "1CujRgBNVRaD"
      },
      "source": [
        "Let's now save the vocabulary as a json file."
      ]
    },
    {
      "cell_type": "code",
      "execution_count": 201,
      "metadata": {
        "id": "ehyUoh9vk191"
      },
      "outputs": [],
      "source": [
        "import json\n",
        "with open('vocab.json', 'w') as vocab_file:\n",
        "    json.dump(vocab_dict, vocab_file)"
      ]
    },
    {
      "cell_type": "markdown",
      "metadata": {
        "id": "SHJDaKlIVVim"
      },
      "source": [
        "In a final step, we use the json file to load the vocabulary into an instance of the `Wav2Vec2CTCTokenizer` class."
      ]
    },
    {
      "cell_type": "code",
      "execution_count": 202,
      "metadata": {
        "colab": {
          "base_uri": "https://localhost:8080/"
        },
        "id": "xriFGEWQkO4M",
        "outputId": "95e57a04-c48e-4748-8d77-bac71dd2750e"
      },
      "outputs": [
        {
          "name": "stderr",
          "output_type": "stream",
          "text": [
            "Special tokens have been added in the vocabulary, make sure the associated word embeddings are fine-tuned or trained.\n"
          ]
        }
      ],
      "source": [
        "from transformers import Wav2Vec2CTCTokenizer, AutoTokenizer, AutoConfig\n",
        "\n",
        "tokenizer = Wav2Vec2CTCTokenizer.from_pretrained(\"./\", unk_token=\"[UNK]\", pad_token=\"[PAD]\", word_delimiter_token=\"|\")\n",
        "model_checkpoint=\"facebook/wav2vec2-xls-r-300m\"\n",
        "# config = AutoConfig.from_pretrained(model_checkpoint)\n",
        "# tokenizer = AutoTokenizer.from_pretrained(\n",
        "#                 \"./\", #vocab_filepath,\n",
        "#                 #**tokenizer_kwargs,\n",
        "#                 cache_dir = mycache_dir,\n",
        "#                 config=config,#None\n",
        "#                 # tokenizer_type=tokenizer_type, #'wav2vec2'\n",
        "#                 #do_lower_case=True,\n",
        "#                 unk_token=\"[UNK]\",\n",
        "#                 pad_token=\"[PAD]\",\n",
        "#                 word_delimiter_token=\"|\",\n",
        "#                 )"
      ]
    },
    {
      "cell_type": "code",
      "execution_count": 203,
      "metadata": {},
      "outputs": [
        {
          "data": {
            "text/plain": [
              "Wav2Vec2CTCTokenizer(name_or_path='./', vocab_size=43, model_max_length=1000000000000000019884624838656, is_fast=False, padding_side='right', truncation_side='right', special_tokens={'bos_token': '<s>', 'eos_token': '</s>', 'unk_token': '[UNK]', 'pad_token': '[PAD]', 'additional_special_tokens': [AddedToken(\"<s>\", rstrip=False, lstrip=False, single_word=False, normalized=True), AddedToken(\"</s>\", rstrip=False, lstrip=False, single_word=False, normalized=True)]}, clean_up_tokenization_spaces=True)"
            ]
          },
          "execution_count": 203,
          "metadata": {},
          "output_type": "execute_result"
        }
      ],
      "source": [
        "tokenizer"
      ]
    },
    {
      "cell_type": "code",
      "execution_count": 204,
      "metadata": {},
      "outputs": [
        {
          "data": {
            "text/plain": [
              "{'(': 1,\n",
              " ')': 2,\n",
              " 'a': 3,\n",
              " 'b': 4,\n",
              " 'c': 5,\n",
              " 'd': 6,\n",
              " 'e': 7,\n",
              " 'f': 8,\n",
              " 'g': 9,\n",
              " 'h': 10,\n",
              " 'i': 11,\n",
              " 'j': 12,\n",
              " 'k': 13,\n",
              " 'l': 14,\n",
              " 'm': 15,\n",
              " 'n': 16,\n",
              " 'o': 17,\n",
              " 'p': 18,\n",
              " 'q': 19,\n",
              " 'r': 20,\n",
              " 's': 21,\n",
              " 't': 22,\n",
              " 'u': 23,\n",
              " 'v': 24,\n",
              " 'w': 25,\n",
              " 'x': 26,\n",
              " 'y': 27,\n",
              " 'z': 28,\n",
              " 'á': 29,\n",
              " 'è': 30,\n",
              " 'é': 31,\n",
              " 'í': 32,\n",
              " 'ï': 33,\n",
              " 'ó': 34,\n",
              " 'ō': 35,\n",
              " 'ř': 36,\n",
              " 'ž': 37,\n",
              " '–': 38,\n",
              " '—': 39,\n",
              " '’': 40,\n",
              " '|': 0,\n",
              " '[UNK]': 41,\n",
              " '[PAD]': 42}"
            ]
          },
          "execution_count": 204,
          "metadata": {},
          "output_type": "execute_result"
        }
      ],
      "source": [
        "tokenizer.encoder"
      ]
    },
    {
      "cell_type": "code",
      "execution_count": 205,
      "metadata": {},
      "outputs": [
        {
          "data": {
            "text/plain": [
              "43"
            ]
          },
          "execution_count": 205,
          "metadata": {},
          "output_type": "execute_result"
        }
      ],
      "source": [
        "len(tokenizer.encoder)"
      ]
    },
    {
      "cell_type": "code",
      "execution_count": 206,
      "metadata": {},
      "outputs": [
        {
          "data": {
            "text/plain": [
              "\"She'll be all right.\""
            ]
          },
          "execution_count": 206,
          "metadata": {},
          "output_type": "execute_result"
        }
      ],
      "source": [
        "sample['sentence']"
      ]
    },
    {
      "cell_type": "code",
      "execution_count": 209,
      "metadata": {},
      "outputs": [
        {
          "data": {
            "text/plain": [
              "'she[UNK]l be al right[UNK]'"
            ]
          },
          "execution_count": 209,
          "metadata": {},
          "output_type": "execute_result"
        }
      ],
      "source": [
        "inputids=tokenizer(sample['sentence'].lower())\n",
        "decoded_str = tokenizer.decode(inputids.input_ids)\n",
        "decoded_str"
      ]
    },
    {
      "cell_type": "code",
      "execution_count": 210,
      "metadata": {},
      "outputs": [
        {
          "data": {
            "text/plain": [
              "'she[UNK]ll be all right[UNK]'"
            ]
          },
          "execution_count": 210,
          "metadata": {},
          "output_type": "execute_result"
        }
      ],
      "source": [
        "decoded_str = tokenizer.decode(inputids.input_ids, group_tokens=False)\n",
        "decoded_str"
      ]
    },
    {
      "cell_type": "code",
      "execution_count": 74,
      "metadata": {},
      "outputs": [
        {
          "data": {
            "text/plain": [
              "('./output/tokenizer_config.json',\n",
              " './output/special_tokens_map.json',\n",
              " './output/vocab.json',\n",
              " './output/added_tokens.json')"
            ]
          },
          "execution_count": 74,
          "metadata": {},
          "output_type": "execute_result"
        }
      ],
      "source": [
        "tokenizer.save_pretrained(\"./output\")"
      ]
    },
    {
      "cell_type": "markdown",
      "metadata": {
        "id": "KvL12DrNV4cx"
      },
      "source": [
        "If one wants to re-use the just created tokenizer with the fine-tuned model of this notebook, it is strongly advised to upload the `tokenizer` to the [🤗 Hub](https://huggingface.co/). Let's call the repo to which we will upload the files\n",
        "`\"wav2vec2-large-xlsr-turkish-demo-colab\"`:"
      ]
    },
    {
      "cell_type": "code",
      "execution_count": null,
      "metadata": {
        "id": "A1XApZBAF2zr"
      },
      "outputs": [],
      "source": [
        "repo_name = \"wav2vec2-large-xls-r-300m-turkish-colab\""
      ]
    },
    {
      "cell_type": "markdown",
      "metadata": {
        "id": "B1BiezWZF16d"
      },
      "source": [
        "and upload the tokenizer to the [🤗 Hub](https://huggingface.co/)."
      ]
    },
    {
      "cell_type": "code",
      "execution_count": null,
      "metadata": {
        "colab": {
          "base_uri": "https://localhost:8080/",
          "height": 199
        },
        "id": "zytE1175GAKM",
        "outputId": "bbe63dbe-0639-4468-9a3a-687bb8b3bb6e"
      },
      "outputs": [
        {
          "name": "stderr",
          "output_type": "stream",
          "text": [
            "/usr/local/lib/python3.7/dist-packages/huggingface_hub/hf_api.py:718: FutureWarning: `create_repo` now takes `token` as an optional positional argument. Be sure to adapt your code!\n",
            "  FutureWarning,\n",
            "/usr/local/lib/python3.7/dist-packages/huggingface_hub/hf_api.py:718: FutureWarning: `create_repo` now takes `token` as an optional positional argument. Be sure to adapt your code!\n",
            "  FutureWarning,\n",
            "Cloning https://huggingface.co/patrickvonplaten/wav2vec2-large-xls-r-300m-turkish-colab into local empty directory.\n",
            "To https://huggingface.co/patrickvonplaten/wav2vec2-large-xls-r-300m-turkish-colab\n",
            "   54dbd42..56ebe74  main -> main\n",
            "\n"
          ]
        },
        {
          "data": {
            "application/vnd.google.colaboratory.intrinsic+json": {
              "type": "string"
            },
            "text/plain": [
              "'https://huggingface.co/patrickvonplaten/wav2vec2-large-xls-r-300m-turkish-colab/commit/56ebe744b5acf5853233e4425bd914b938c4f013'"
            ]
          },
          "execution_count": 53,
          "metadata": {},
          "output_type": "execute_result"
        }
      ],
      "source": [
        "tokenizer.push_to_hub(repo_name)"
      ]
    },
    {
      "cell_type": "markdown",
      "metadata": {
        "id": "SwQM8lH_GGuP"
      },
      "source": [
        "Great, you can see the just created repository under `https://huggingface.co/<your-username>/wav2vec2-large-xls-r-300m-tr-colab`"
      ]
    },
    {
      "cell_type": "markdown",
      "metadata": {
        "id": "mYcIiR2FQ96i"
      },
      "source": [
        "### Create `Wav2Vec2FeatureExtractor`"
      ]
    },
    {
      "cell_type": "markdown",
      "metadata": {
        "id": "Y6mDEyW719rx"
      },
      "source": [
        "Speech is a continuous signal and to be treated by computers, it first has to be discretized, which is usually called **sampling**. The sampling rate hereby plays an important role in that it defines how many data points of the speech signal are measured per second. Therefore, sampling with a higher sampling rate results in a better approximation of the *real* speech signal but also necessitates more values per second.\n",
        "\n",
        "A pretrained checkpoint expects its input data to have been sampled more or less from the same distribution as the data it was trained on. The same speech signals sampled at two different rates have a very different distribution, *e.g.*, doubling the sampling rate results in data points being twice as long. Thus,\n",
        "before fine-tuning a pretrained checkpoint of an ASR model, it is crucial to verify that the sampling rate of the data that was used to pretrain the model matches the sampling rate of the dataset used to fine-tune the model.\n",
        "\n",
        "XLS-R was pretrained on audio data of [Babel](http://www.reading.ac.uk/AcaDepts/ll/speechlab/babel/r),\n",
        "[Multilingual LibriSpeech (MLS)](https://huggingface.co/datasets/multilingual_librispeech), [Common Voice](https://huggingface.co/datasets/common_voice), [VoxPopuli](https://arxiv.org/abs/2101.00390), and [VoxLingua107](https://arxiv.org/abs/2011.12998) at a sampling rate of 16kHz. Common Voice, in its original form, has a sampling rate of 48kHz, thus we will have to downsample the fine-tuning data to 16kHz in the following.\n",
        "\n"
      ]
    },
    {
      "cell_type": "markdown",
      "metadata": {
        "id": "KuUbPW7oV-B5"
      },
      "source": [
        "A `Wav2Vec2FeatureExtractor` object requires the following parameters to be instantiated:\n",
        "\n",
        "- `feature_size`: Speech models take a sequence of feature vectors as an input. While the length of this sequence obviously varies, the feature size should not. In the case of Wav2Vec2, the feature size is 1 because the model was trained on the raw speech signal ${}^2$.\n",
        "- `sampling_rate`: The sampling rate at which the model is trained on.\n",
        "- `padding_value`: For batched inference, shorter inputs need to be padded with a specific value\n",
        "- `do_normalize`: Whether the input should be *zero-mean-unit-variance* normalized or not. Usually, speech models perform better when normalizing the input\n",
        "- `return_attention_mask`: Whether the model should make use of an `attention_mask` for batched inference. In general, XLS-R models checkpoints should **always** use the `attention_mask`."
      ]
    },
    {
      "cell_type": "code",
      "execution_count": 211,
      "metadata": {
        "id": "kAR0-2KLkopp"
      },
      "outputs": [],
      "source": [
        "from transformers import Wav2Vec2FeatureExtractor, AutoFeatureExtractor\n",
        "\n",
        "# feature_extractor = Wav2Vec2FeatureExtractor(feature_size=1, sampling_rate=16000, padding_value=0.0, do_normalize=True, return_attention_mask=True)\n",
        "\n",
        "model_checkpoint=\"facebook/wav2vec2-xls-r-300m\"\n",
        "feature_extractor = AutoFeatureExtractor.from_pretrained(model_checkpoint, cache_dir=mycache_dir, do_normalize=True,return_attention_mask=True)"
      ]
    },
    {
      "cell_type": "markdown",
      "metadata": {
        "id": "qUETetgqYC3W"
      },
      "source": [
        "Great, XLS-R's feature extraction pipeline is thereby fully defined!\n",
        "\n",
        "For improved user-friendliness, the feature extractor and tokenizer are *wrapped* into a single `Wav2Vec2Processor` class so that one only needs a `model` and `processor` object."
      ]
    },
    {
      "cell_type": "code",
      "execution_count": 212,
      "metadata": {
        "id": "KYZtoW-tlZgl"
      },
      "outputs": [],
      "source": [
        "from transformers import Wav2Vec2Processor\n",
        "\n",
        "processor = Wav2Vec2Processor(feature_extractor=feature_extractor, tokenizer=tokenizer)"
      ]
    },
    {
      "cell_type": "markdown",
      "metadata": {
        "id": "DrKnYuvDIoOO"
      },
      "source": [
        "Next, we can prepare the dataset."
      ]
    },
    {
      "cell_type": "markdown",
      "metadata": {
        "id": "YFmShnl7RE35"
      },
      "source": [
        "### Preprocess Data\n",
        "\n",
        "So far, we have not looked at the actual values of the speech signal but just the transcription. In addition to `sentence`, our datasets include two more column names `path` and `audio`. `path` states the absolute path of the audio file. Let's take a look.\n"
      ]
    },
    {
      "cell_type": "code",
      "execution_count": 213,
      "metadata": {
        "colab": {
          "base_uri": "https://localhost:8080/",
          "height": 53
        },
        "id": "TTCS7W6XJ9BG",
        "outputId": "d4b375f8-a536-4be9-b995-578fd321acfe"
      },
      "outputs": [
        {
          "data": {
            "text/plain": [
              "'/DATA10T/Cache/downloads/extracted/b346aab12d7b8d3067d379267bbecbd285cb56b9272116d4588c4bf6e461e436/en_train_0/common_voice_en_19121553.mp3'"
            ]
          },
          "execution_count": 213,
          "metadata": {},
          "output_type": "execute_result"
        }
      ],
      "source": [
        "train_dataset[0][\"path\"]"
      ]
    },
    {
      "cell_type": "markdown",
      "metadata": {
        "id": "T6ndIjHGFp0W"
      },
      "source": [
        "XLS-R expects the input in the format of a 1-dimensional array of 16 kHz. This means that the audio file has to be loaded and resampled.\n",
        "\n",
        " Thankfully, `datasets` does this automatically by calling the other column `audio`. Let try it out."
      ]
    },
    {
      "cell_type": "code",
      "execution_count": 144,
      "metadata": {
        "colab": {
          "base_uri": "https://localhost:8080/"
        },
        "id": "qj_z5Zc3GAs9",
        "outputId": "6b0dca9c-aadc-493f-f754-b01d0f35fe28"
      },
      "outputs": [
        {
          "data": {
            "text/plain": [
              "{'path': '/DATA10T/Cache/downloads/extracted/b346aab12d7b8d3067d379267bbecbd285cb56b9272116d4588c4bf6e461e436/en_train_0/common_voice_en_19121553.mp3',\n",
              " 'array': array([ 0.00000000e+00,  1.96611932e-15, -7.55335397e-14, ...,\n",
              "         1.68718216e-05,  1.41903001e-07,  1.16676725e-04]),\n",
              " 'sampling_rate': 48000}"
            ]
          },
          "execution_count": 144,
          "metadata": {},
          "output_type": "execute_result"
        }
      ],
      "source": [
        "train_dataset[0][\"audio\"]"
      ]
    },
    {
      "cell_type": "code",
      "execution_count": 145,
      "metadata": {},
      "outputs": [
        {
          "data": {
            "application/vnd.jupyter.widget-view+json": {
              "model_id": "a0c9409e60af46798666b5968fddc9fe",
              "version_major": 2,
              "version_minor": 0
            },
            "text/plain": [
              "Map:   0%|          | 0/10000 [00:00<?, ? examples/s]"
            ]
          },
          "metadata": {},
          "output_type": "display_data"
        },
        {
          "data": {
            "application/vnd.jupyter.widget-view+json": {
              "model_id": "f09c9caede89436099fda5bb68185982",
              "version_major": 2,
              "version_minor": 0
            },
            "text/plain": [
              "Map:   0%|          | 0/200 [00:00<?, ? examples/s]"
            ]
          },
          "metadata": {},
          "output_type": "display_data"
        }
      ],
      "source": [
        "train_dataset = train_dataset.remove_columns([\"accent\", \"age\", \"client_id\", \"down_votes\", \"gender\", \"locale\", \"segment\", \"up_votes\"])\n",
        "test_dataset = test_dataset.remove_columns([\"accent\", \"age\", \"client_id\", \"down_votes\", \"gender\", \"locale\", \"segment\", \"up_votes\"])\n",
        "\n",
        "train_dataset = train_dataset.map(remove_special_characters)\n",
        "test_dataset = test_dataset.map(remove_special_characters)"
      ]
    },
    {
      "cell_type": "markdown",
      "metadata": {
        "id": "WUUTgI1bGHW-"
      },
      "source": [
        "Great, we can see that the audio file has automatically been loaded. This is thanks to the new [`\"Audio\"` feature](https://huggingface.co/docs/datasets/package_reference/main_classes.html?highlight=audio#datasets.Audio) introduced in `datasets == 4.13.3`, which loads and resamples audio files on-the-fly upon calling.\n",
        "\n",
        "In the example above we can see that the audio data is loaded with a sampling rate of 48kHz whereas 16kHz are expected by the model. We can set the audio feature to the correct sampling rate by making use of [`cast_column`](https://huggingface.co/docs/datasets/package_reference/main_classes.html?highlight=cast_column#datasets.DatasetDict.cast_column):"
      ]
    },
    {
      "cell_type": "code",
      "execution_count": 215,
      "metadata": {
        "id": "rrv65aj7G95i"
      },
      "outputs": [],
      "source": [
        "train_dataset = train_dataset.cast_column(\"audio\", Audio(sampling_rate=16_000))\n",
        "test_dataset = test_dataset.cast_column(\"audio\", Audio(sampling_rate=16_000))"
      ]
    },
    {
      "cell_type": "markdown",
      "metadata": {
        "id": "PcnO4x-NGBEi"
      },
      "source": [
        "Let's take a look at `\"audio\"` again."
      ]
    },
    {
      "cell_type": "code",
      "execution_count": 216,
      "metadata": {
        "colab": {
          "base_uri": "https://localhost:8080/"
        },
        "id": "aKtkc1o_HWHC",
        "outputId": "c2c1375e-4812-4112-d843-9e3da6dd327d"
      },
      "outputs": [
        {
          "data": {
            "text/plain": [
              "{'path': '/DATA10T/Cache/downloads/extracted/b346aab12d7b8d3067d379267bbecbd285cb56b9272116d4588c4bf6e461e436/en_train_0/common_voice_en_19121553.mp3',\n",
              " 'array': array([ 7.27595761e-11, -2.32830644e-10, -4.65661287e-10, ...,\n",
              "        -5.81125205e-05, -2.75571801e-05,  2.96054786e-05]),\n",
              " 'sampling_rate': 16000}"
            ]
          },
          "execution_count": 216,
          "metadata": {},
          "output_type": "execute_result"
        }
      ],
      "source": [
        "train_dataset[0][\"audio\"]"
      ]
    },
    {
      "cell_type": "markdown",
      "metadata": {
        "id": "SOckzFd4Mbzq"
      },
      "source": [
        "This seemed to have worked! Let's listen to a couple of audio files to better understand the dataset and verify that the audio was correctly loaded.\n",
        "\n",
        "**Note**: *You can click the following cell a couple of times to listen to different speech samples.*"
      ]
    },
    {
      "cell_type": "code",
      "execution_count": 217,
      "metadata": {
        "colab": {
          "base_uri": "https://localhost:8080/",
          "height": 92
        },
        "id": "dueM6U7Ev0OA",
        "outputId": "1a771d0a-085d-441b-cc1b-f05438425ce4"
      },
      "outputs": [
        {
          "name": "stdout",
          "output_type": "stream",
          "text": [
            "he then joined the canadian olympic team\n"
          ]
        },
        {
          "data": {
            "text/html": [
              "\n",
              "                <audio  controls=\"controls\" autoplay=\"autoplay\">\n",
              "                    <source src=\"data:audio/wav;base64,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\" type=\"audio/wav\" />\n",
              "                    Your browser does not support the audio element.\n",
              "                </audio>\n",
              "              "
            ],
            "text/plain": [
              "<IPython.lib.display.Audio object>"
            ]
          },
          "execution_count": 217,
          "metadata": {},
          "output_type": "execute_result"
        }
      ],
      "source": [
        "import IPython.display as ipd\n",
        "import numpy as np\n",
        "import random\n",
        "\n",
        "rand_int = random.randint(0, len(train_dataset)-1)\n",
        "\n",
        "print(train_dataset[rand_int][\"sentence\"])\n",
        "ipd.Audio(data=train_dataset[rand_int][\"audio\"][\"array\"], autoplay=True, rate=16000)"
      ]
    },
    {
      "cell_type": "markdown",
      "metadata": {
        "id": "gY8m3vARHYTa"
      },
      "source": [
        "It seems like the data is now correctly loaded and resampled."
      ]
    },
    {
      "cell_type": "markdown",
      "metadata": {
        "id": "1MaL9J2dNVtG"
      },
      "source": [
        "It can be heard, that the speakers change along with their speaking rate, accent, and background environment, etc. Overall, the recordings sound acceptably clear though, which is to be expected from a crowd-sourced read speech corpus.\n",
        "\n",
        "Let's do a final check that the data is correctly prepared, by printing the shape of the speech input, its transcription, and the corresponding sampling rate.\n",
        "\n",
        "**Note**: *You can click the following cell a couple of times to verify multiple samples.*"
      ]
    },
    {
      "cell_type": "code",
      "execution_count": 218,
      "metadata": {
        "colab": {
          "base_uri": "https://localhost:8080/"
        },
        "id": "1Po2g7YPuRTx",
        "outputId": "63478ae9-2927-4ec1-c13c-41fb3754e18e"
      },
      "outputs": [
        {
          "name": "stdout",
          "output_type": "stream",
          "text": [
            "Target text: it was an outpost of fort ellice and was mainly a source of pemmican\n",
            "Input array shape: (112128,)\n",
            "Sampling rate: 16000\n"
          ]
        }
      ],
      "source": [
        "rand_int = random.randint(0, len(train_dataset)-1)\n",
        "\n",
        "print(\"Target text:\", train_dataset[rand_int][\"sentence\"])\n",
        "print(\"Input array shape:\", train_dataset[rand_int][\"audio\"][\"array\"].shape)\n",
        "print(\"Sampling rate:\", train_dataset[rand_int][\"audio\"][\"sampling_rate\"])"
      ]
    },
    {
      "cell_type": "markdown",
      "metadata": {
        "id": "M9teZcSwOBJ4"
      },
      "source": [
        "Good! Everything looks fine - the data is a 1-dimensional array, the sampling rate always corresponds to 16kHz, and the target text is normalized."
      ]
    },
    {
      "cell_type": "markdown",
      "metadata": {
        "id": "k3Pbn5WvOYZF"
      },
      "source": [
        "Finally, we can leverage `Wav2Vec2Processor` to process the data to the format expected by `Wav2Vec2ForCTC` for training. To do so let's make use of Dataset's [`map(...)`](https://huggingface.co/docs/datasets/package_reference/main_classes.html?highlight=map#datasets.DatasetDict.map) function.\n",
        "\n",
        "First, we load and resample the audio data, simply by calling `batch[\"audio\"]`.\n",
        "Second, we extract the `input_values` from the loaded audio file. In our case, the `Wav2Vec2Processor` only normalizes the data. For other speech models, however, this step can include more complex feature extraction, such as [Log-Mel feature extraction](https://en.wikipedia.org/wiki/Mel-frequency_cepstrum).\n",
        "Third, we encode the transcriptions to label ids.\n",
        "\n",
        "**Note**: This mapping function is a good example of how the `Wav2Vec2Processor` class should be used. In \"normal\" context, calling `processor(...)` is redirected to `Wav2Vec2FeatureExtractor`'s call method. When wrapping the processor into the `as_target_processor` context, however, the same method is redirected to `Wav2Vec2CTCTokenizer`'s call method.\n",
        "For more information please check the [docs](https://huggingface.co/transformers/master/model_doc/wav2vec2.html#transformers.Wav2Vec2Processor.__call__)."
      ]
    },
    {
      "cell_type": "code",
      "execution_count": 219,
      "metadata": {
        "id": "eJY7I0XAwe9p"
      },
      "outputs": [],
      "source": [
        "def prepare_dataset(batch):\n",
        "    audio = batch[\"audio\"]\n",
        "\n",
        "    # batched output is \"un-batched\"\n",
        "    batch[\"input_values\"] = processor(audio[\"array\"], sampling_rate=audio[\"sampling_rate\"]).input_values[0]\n",
        "    batch[\"input_length\"] = len(batch[\"input_values\"])\n",
        "\n",
        "    # with processor.as_target_processor():\n",
        "    #     batch[\"labels\"] = processor(batch[\"sentence\"]).input_ids\n",
        "    batch[\"labels\"] = processor.tokenizer(batch[\"sentence\"]).input_ids\n",
        "    return batch"
      ]
    },
    {
      "cell_type": "markdown",
      "metadata": {
        "id": "q6Pg_WR3OGAP"
      },
      "source": [
        "Let's apply the data preparation function to all examples."
      ]
    },
    {
      "cell_type": "code",
      "execution_count": 220,
      "metadata": {
        "colab": {
          "base_uri": "https://localhost:8080/",
          "height": 81,
          "referenced_widgets": [
            "012b09b271a842d0a7f1cd1260654c82",
            "6a40faf77bf445308534e7acada6bf0d",
            "a62ff1ee03dc47c9834b43720df991ea",
            "03d00b443bfd445d9286f64fd8556031",
            "557063bf861648f7aefacf71aa53ea9b",
            "21af0f39c0ce40a5846b980f98481940",
            "f6e0ea791e5a44abb5d5891bb3e254ad",
            "6323e35581be4b338a904266a5e85005",
            "6da7072e7f634a3aa2927fca1bcf38c0",
            "716dc4ab4fe74abab49f3c0f009357f5",
            "8a669878b8354867944e577860910001",
            "3aa317d2b42e4674b38dafa87b5599c5",
            "0a7c2124936345febe50288a476a12a6",
            "bdcf9380af5d4601b9b2de84b06ecb40",
            "b9c5532ffabb44078de8a6f76a4b8be6",
            "7732bb1317f940faa455f992f4fd2b26",
            "f28c64f34f9540b6b6bdc765c84e2307",
            "02016dcc44994c15b69e7f2c4dd0d9c4",
            "bbfc45e0cf5644f6bc24118fa9c6c098",
            "eca458b185ae4570b1ec1e77389c871e",
            "fe156fa95ee9410daff8f7c9a8b0d3a3",
            "a5e2e1fe3ab94cc6ae1a73cc1ab6f9a8"
          ]
        },
        "id": "-np9xYK-wl8q",
        "outputId": "00d6940a-a7bf-4128-896b-76bc289e5b7f"
      },
      "outputs": [
        {
          "data": {
            "application/vnd.jupyter.widget-view+json": {
              "model_id": "9d134ac28c104e089d785c83b8b874c6",
              "version_major": 2,
              "version_minor": 0
            },
            "text/plain": [
              "Map:   0%|          | 0/10000 [00:00<?, ? examples/s]"
            ]
          },
          "metadata": {},
          "output_type": "display_data"
        },
        {
          "data": {
            "application/vnd.jupyter.widget-view+json": {
              "model_id": "5ab2e238113547f4ba5848fbfe908ef8",
              "version_major": 2,
              "version_minor": 0
            },
            "text/plain": [
              "Map:   0%|          | 0/200 [00:00<?, ? examples/s]"
            ]
          },
          "metadata": {},
          "output_type": "display_data"
        }
      ],
      "source": [
        "train_dataset = train_dataset.map(prepare_dataset, remove_columns=train_dataset.column_names)\n",
        "test_dataset =test_dataset.map(prepare_dataset, remove_columns=test_dataset.column_names)"
      ]
    },
    {
      "cell_type": "markdown",
      "metadata": {
        "id": "nKcEWHvKI1by"
      },
      "source": [
        "**Note**: Currently `datasets` make use of [`torchaudio`](https://pytorch.org/audio/stable/index.html) and [`librosa`](https://librosa.org/doc/latest/index.html) for audio loading and resampling. If you wish to implement your own costumized data loading/sampling, feel free to just make use of the `\"path\"` column instead and disregard the `\"audio\"` column."
      ]
    },
    {
      "cell_type": "markdown",
      "metadata": {
        "id": "24CxHd5ewI4T"
      },
      "source": [
        "Long input sequences require a lot of memory. XLS-R is based on `self-attention` the memory requirement scales quadratically with the input length for long input sequences (*cf.* with [this](https://www.reddit.com/r/MachineLearning/comments/genjvb/d_why_is_the_maximum_input_sequence_length_of/) reddit post). In case this demo crashes with an \"Out-of-memory\" error for you, you might want to uncomment the following lines to filter all sequences that are longer than 5 seconds for training."
      ]
    },
    {
      "cell_type": "code",
      "execution_count": null,
      "metadata": {
        "id": "tdHfbUJ_09iA"
      },
      "outputs": [],
      "source": [
        "#max_input_length_in_sec = 5.0\n",
        "#common_voice_train = common_voice_train.filter(lambda x: x < max_input_length_in_sec * processor.feature_extractor.sampling_rate, input_columns=[\"input_length\"])"
      ]
    },
    {
      "cell_type": "markdown",
      "metadata": {
        "id": "1ZWDCCKqwcfS"
      },
      "source": [
        "Awesome, now we are ready to start training!"
      ]
    },
    {
      "cell_type": "markdown",
      "metadata": {
        "id": "gYlQkKVoRUos"
      },
      "source": [
        "## Training\n",
        "\n",
        "The data is processed so that we are ready to start setting up the training pipeline. We will make use of 🤗's [Trainer](https://huggingface.co/transformers/master/main_classes/trainer.html?highlight=trainer) for which we essentially need to do the following:\n",
        "\n",
        "- Define a data collator. In contrast to most NLP models, XLS-R has a much larger input length than output length. *E.g.*, a sample of input length 50000 has an output length of no more than 100. Given the large input sizes, it is much more efficient to pad the training batches dynamically meaning that all training samples should only be padded to the longest sample in their batch and not the overall longest sample. Therefore, fine-tuning XLS-R requires a special padding data collator, which we will define below\n",
        "\n",
        "- Evaluation metric. During training, the model should be evaluated on the word error rate. We should define a `compute_metrics` function accordingly\n",
        "\n",
        "- Load a pretrained checkpoint. We need to load a pretrained checkpoint and configure it correctly for training.\n",
        "\n",
        "- Define the training configuration.\n",
        "\n",
        "After having fine-tuned the model, we will correctly evaluate it on the test data and verify that it has indeed learned to correctly transcribe speech."
      ]
    },
    {
      "cell_type": "markdown",
      "metadata": {
        "id": "Slk403unUS91"
      },
      "source": [
        "### Set-up Trainer\n",
        "\n",
        "Let's start by defining the data collator. The code for the data collator was copied from [this example](https://github.com/huggingface/transformers/blob/7e61d56a45c19284cfda0cee8995fb552f6b1f4e/examples/pytorch/speech-recognition/run_speech_recognition_ctc.py#L219).\n",
        "\n",
        "Without going into too many details, in contrast to the common data collators, this data collator treats the `input_values` and `labels` differently and thus applies to separate padding functions on them (again making use of XLS-R processor's context manager). This is necessary because in speech input and output are of different modalities meaning that they should not be treated by the same padding function.\n",
        "Analogous to the common data collators, the padding tokens in the labels with `-100` so that those tokens are **not** taken into account when computing the loss."
      ]
    },
    {
      "cell_type": "code",
      "execution_count": 221,
      "metadata": {
        "id": "tborvC9hx88e"
      },
      "outputs": [],
      "source": [
        "import torch\n",
        "\n",
        "from dataclasses import dataclass, field\n",
        "from typing import Any, Dict, List, Optional, Union\n",
        "\n",
        "@dataclass\n",
        "class DataCollatorCTCWithPadding:\n",
        "    \"\"\"\n",
        "    Data collator that will dynamically pad the inputs received.\n",
        "    Args:\n",
        "        processor (:class:`~transformers.Wav2Vec2Processor`)\n",
        "            The processor used for proccessing the data.\n",
        "        padding (:obj:`bool`, :obj:`str` or :class:`~transformers.tokenization_utils_base.PaddingStrategy`, `optional`, defaults to :obj:`True`):\n",
        "            Select a strategy to pad the returned sequences (according to the model's padding side and padding index)\n",
        "            among:\n",
        "            * :obj:`True` or :obj:`'longest'`: Pad to the longest sequence in the batch (or no padding if only a single\n",
        "              sequence if provided).\n",
        "            * :obj:`'max_length'`: Pad to a maximum length specified with the argument :obj:`max_length` or to the\n",
        "              maximum acceptable input length for the model if that argument is not provided.\n",
        "            * :obj:`False` or :obj:`'do_not_pad'` (default): No padding (i.e., can output a batch with sequences of\n",
        "              different lengths).\n",
        "    \"\"\"\n",
        "\n",
        "    processor: Wav2Vec2Processor\n",
        "    padding: Union[bool, str] = True\n",
        "\n",
        "    def __call__(self, features: List[Dict[str, Union[List[int], torch.Tensor]]]) -> Dict[str, torch.Tensor]:\n",
        "        # split inputs and labels since they have to be of different lenghts and need\n",
        "        # different padding methods\n",
        "        input_features = [{\"input_values\": feature[\"input_values\"]} for feature in features]\n",
        "        label_features = [{\"input_ids\": feature[\"labels\"]} for feature in features]\n",
        "\n",
        "        batch = self.processor.pad(\n",
        "            input_features,\n",
        "            padding=self.padding,\n",
        "            return_tensors=\"pt\",\n",
        "        )\n",
        "        with self.processor.as_target_processor():\n",
        "            labels_batch = self.processor.pad(\n",
        "                label_features,\n",
        "                padding=self.padding,\n",
        "                return_tensors=\"pt\",\n",
        "            )\n",
        "\n",
        "        # replace padding with -100 to ignore loss correctly\n",
        "        labels = labels_batch[\"input_ids\"].masked_fill(labels_batch.attention_mask.ne(1), -100)\n",
        "\n",
        "        batch[\"labels\"] = labels\n",
        "\n",
        "        return batch"
      ]
    },
    {
      "cell_type": "code",
      "execution_count": 222,
      "metadata": {
        "id": "lbQf5GuZyQ4_"
      },
      "outputs": [],
      "source": [
        "data_collator = DataCollatorCTCWithPadding(processor=processor, padding=True)"
      ]
    },
    {
      "cell_type": "markdown",
      "metadata": {
        "id": "xO-Zdj-5cxXp"
      },
      "source": [
        "Next, the evaluation metric is defined. As mentioned earlier, the\n",
        "predominant metric in ASR is the word error rate (WER), hence we will use it in this notebook as well."
      ]
    },
    {
      "cell_type": "code",
      "execution_count": 223,
      "metadata": {
        "colab": {
          "base_uri": "https://localhost:8080/",
          "height": 49,
          "referenced_widgets": [
            "7c81059d35534b799623afe872095cac",
            "379128a308ab43ee9e785e234bb94049",
            "ff8e746cf8ef4f988617b8d4c0dd3c9c",
            "0204a7bc668746a68f6e5e5632753c1c",
            "84361b363998428a87b9e50b6625cca9",
            "c0919f3c8d594911815ce63273f7fe51",
            "69f2a9e473534148b96b2e9bd639a087",
            "5cd8c74ba2e845d498afdc1c25009767",
            "3f0c587f7b764d96837c8e16254aab12",
            "d3b5f5a0d35642e0b606ac63c38f88fa",
            "7ce84a97d72848c0967f732734afdd68"
          ]
        },
        "id": "9Xsux2gmyXso",
        "outputId": "18ceeb9e-1a0d-4ee8-f511-a12ad3608bf1"
      },
      "outputs": [
        {
          "name": "stderr",
          "output_type": "stream",
          "text": [
            "/home/lkk/miniconda3/envs/mycondapy310/lib/python3.10/site-packages/datasets/load.py:752: FutureWarning: The repository for wer contains custom code which must be executed to correctly load the metric. You can inspect the repository content at https://raw.githubusercontent.com/huggingface/datasets/2.16.1/metrics/wer/wer.py\n",
            "You can avoid this message in future by passing the argument `trust_remote_code=True`.\n",
            "Passing `trust_remote_code=True` will be mandatory to load this metric from the next major release of `datasets`.\n",
            "  warnings.warn(\n"
          ]
        }
      ],
      "source": [
        "wer_metric = load_metric(\"wer\")"
      ]
    },
    {
      "cell_type": "markdown",
      "metadata": {
        "id": "E1qZU5p-deqB"
      },
      "source": [
        "The model will return a sequence of logit vectors:\n",
        "$\\mathbf{y}_1, \\ldots, \\mathbf{y}_m$ with $\\mathbf{y}_1 = f_{\\theta}(x_1, \\ldots, x_n)[0]$ and $n >> m$.\n",
        "\n",
        "A logit vector $\\mathbf{y}_1$ contains the log-odds for each word in the vocabulary we defined earlier, thus $\\text{len}(\\mathbf{y}_i) =$ `config.vocab_size`. We are interested in the most likely prediction of the model and thus take the `argmax(...)` of the logits. Also, we transform the encoded labels back to the original string by replacing `-100` with the `pad_token_id` and decoding the ids while making sure that consecutive tokens are **not** grouped to the same token in CTC style ${}^1$."
      ]
    },
    {
      "cell_type": "code",
      "execution_count": 224,
      "metadata": {
        "id": "1XZ-kjweyTy_"
      },
      "outputs": [],
      "source": [
        "def compute_metrics(pred):\n",
        "    pred_logits = pred.predictions\n",
        "    pred_ids = np.argmax(pred_logits, axis=-1)\n",
        "\n",
        "    pred.label_ids[pred.label_ids == -100] = processor.tokenizer.pad_token_id\n",
        "\n",
        "    pred_str = processor.batch_decode(pred_ids)\n",
        "    # we do not want to group tokens when computing the metrics\n",
        "    label_str = processor.batch_decode(pred.label_ids, group_tokens=False)\n",
        "\n",
        "    wer = wer_metric.compute(predictions=pred_str, references=label_str)\n",
        "\n",
        "    return {\"wer\": wer}"
      ]
    },
    {
      "cell_type": "markdown",
      "metadata": {
        "id": "Xmgrx4bRwLIH"
      },
      "source": [
        "Now, we can load the pretrained checkpoint of [Wav2Vec2-XLS-R-300M](https://huggingface.co/facebook/wav2vec2-xls-r-300m). The tokenizer's `pad_token_id` must be to define the model's `pad_token_id` or in the case of `Wav2Vec2ForCTC` also CTC's *blank token* ${}^2$. To save GPU memory, we enable PyTorch's [gradient checkpointing](https://pytorch.org/docs/stable/checkpoint.html) and also set the loss reduction to \"*mean*\".\n",
        "\n",
        "Because the dataset is quite small (~6h of training data) and because Common Voice is quite noisy, fine-tuning Facebook's [wav2vec2-xls-r-300m checkpoint](https://huggingface.co/facebook/wav2vec2-xls-r-300m) seems to require some hyper-parameter tuning. Therefore, I had to play around a bit with different values for dropout, [SpecAugment](https://arxiv.org/abs/1904.08779)'s masking dropout rate, layer dropout, and the learning rate until training seemed to be stable enough.\n",
        "\n",
        "**Note**: When using this notebook to train XLS-R on another language of Common Voice those hyper-parameter settings might not work very well. Feel free to adapt those depending on your use case."
      ]
    },
    {
      "cell_type": "code",
      "execution_count": 225,
      "metadata": {
        "colab": {
          "base_uri": "https://localhost:8080/",
          "height": 191,
          "referenced_widgets": [
            "1ca82f9af3ae423096661a1ffd8a165f",
            "ce429683f48349c083e5fc3253a897d7",
            "acc35dfdfca542828d1bb02cbde15dfe",
            "aa92ff120d9c4dd68ae941d7a1f33a81",
            "731a283141f642b9ab5bf9f7053381d2",
            "4246da00789f44e2abce952906bde6f1",
            "059588e34a88476eb6bbc1860ddc27ef",
            "6ae3b3139e6641fc9e62ae5744349add",
            "92c30a7c6102443cad2f6f03211c32e0",
            "ad95ae421231492e814238bde2ecb551",
            "136f973d9623421eb38e09c73c6b6810",
            "367c85905a024248bce6c620b822b2ee",
            "7ea310732a56432da1a095a8d30edc1c",
            "2d2b8b8d5774494aa73d872e9a4c10d9",
            "f4af6a0756e241e49e5d325f1bdb18b4",
            "2b7e52a9be904663ae74226691de6ebd",
            "771530ea22364f1ea8963e2d542fcf49",
            "1cdac9cda666466ca1e09f32661d40ed",
            "3ec9917890f4452883bcaeac444d056c",
            "e9531fcd48b74929bfdb45cd3f3315e7",
            "349c9e8b2a8846c1bff5a03d2a28066a",
            "de1e5c31eacf4fa59cfa51926354acca"
          ]
        },
        "id": "e7cqAWIayn6w",
        "outputId": "3e6cebea-78ef-45df-87b0-f63b78ba9644"
      },
      "outputs": [
        {
          "name": "stderr",
          "output_type": "stream",
          "text": [
            "Some weights of Wav2Vec2ForCTC were not initialized from the model checkpoint at facebook/wav2vec2-xls-r-300m and are newly initialized: ['lm_head.weight', 'lm_head.bias', 'wav2vec2.encoder.pos_conv_embed.conv.parametrizations.weight.original0', 'wav2vec2.encoder.pos_conv_embed.conv.parametrizations.weight.original1']\n",
            "You should probably TRAIN this model on a down-stream task to be able to use it for predictions and inference.\n"
          ]
        }
      ],
      "source": [
        "from transformers import Wav2Vec2ForCTC\n",
        "\n",
        "model = Wav2Vec2ForCTC.from_pretrained(\n",
        "    \"facebook/wav2vec2-xls-r-300m\",\n",
        "    cache_dir = mycache_dir,\n",
        "    # attention_dropout=0.0,\n",
        "    # hidden_dropout=0.0,\n",
        "    # feat_proj_dropout=0.0,\n",
        "    # mask_time_prob=0.05,\n",
        "    # layerdrop=0.0,\n",
        "    ctc_loss_reduction=\"mean\",\n",
        "    pad_token_id=processor.tokenizer.pad_token_id,\n",
        "    vocab_size=len(processor.tokenizer),\n",
        ")"
      ]
    },
    {
      "cell_type": "markdown",
      "metadata": {
        "id": "1DwR3XLSzGDD"
      },
      "source": [
        "The first component of XLS-R consists of a stack of CNN layers that are used to extract acoustically meaningful - but contextually independent - features from the raw speech signal. This part of the model has already been sufficiently trained during pretraining and as stated in the [paper](https://arxiv.org/pdf/2006.13979.pdf) does not need to be fine-tuned anymore.\n",
        "Thus, we can set the `requires_grad` to `False` for all parameters of the *feature extraction* part."
      ]
    },
    {
      "cell_type": "code",
      "execution_count": 226,
      "metadata": {
        "id": "oGI8zObtZ3V0"
      },
      "outputs": [],
      "source": [
        "model.freeze_feature_encoder()#model.freeze_feature_extractor()"
      ]
    },
    {
      "cell_type": "code",
      "execution_count": 227,
      "metadata": {},
      "outputs": [],
      "source": [
        "model.freeze_base_model()"
      ]
    },
    {
      "cell_type": "markdown",
      "metadata": {
        "id": "lD4aGhQM0K-D"
      },
      "source": [
        "In a final step, we define all parameters related to training.\n",
        "To give more explanation on some of the parameters:\n",
        "- `group_by_length` makes training more efficient by grouping training samples of similar input length into one batch. This can significantly speed up training time by heavily reducing the overall number of useless padding tokens that are passed through the model\n",
        "- `learning_rate` and `weight_decay` were heuristically tuned until fine-tuning has become stable. Note that those parameters strongly depend on the Common Voice dataset and might be suboptimal for other speech datasets.\n",
        "\n",
        "For more explanations on other parameters, one can take a look at the [docs](https://huggingface.co/transformers/master/main_classes/trainer.html?highlight=trainer#trainingarguments).\n",
        "\n",
        "During training, a checkpoint will be uploaded asynchronously to the hub every 400 training steps. It allows you to also play around with the demo widget even while your model is still training.\n",
        "\n",
        "**Note**: If one does not want to upload the model checkpoints to the hub, simply set `push_to_hub=False`."
      ]
    },
    {
      "cell_type": "code",
      "execution_count": 164,
      "metadata": {
        "id": "KbeKSV7uzGPP"
      },
      "outputs": [],
      "source": [
        "from transformers import TrainingArguments\n",
        "\n",
        "training_args = TrainingArguments(\n",
        "  output_dir=\"/DATA10T/output/wave2vec2xls2\",\n",
        "  group_by_length=True,\n",
        "  per_device_train_batch_size=16,\n",
        "  gradient_accumulation_steps=2,\n",
        "  evaluation_strategy=\"steps\",\n",
        "  num_train_epochs=30,\n",
        "  gradient_checkpointing=True,\n",
        "  fp16=True,\n",
        "  save_steps=400,\n",
        "  eval_steps=400,\n",
        "  logging_steps=400,\n",
        "  learning_rate=3e-4,\n",
        "  warmup_steps=500,\n",
        "  save_total_limit=2,\n",
        "  push_to_hub=False,\n",
        ")"
      ]
    },
    {
      "cell_type": "code",
      "execution_count": 228,
      "metadata": {},
      "outputs": [],
      "source": [
        "training_args = TrainingArguments(\n",
        "    output_dir=\"/DATA10T/output/wave2vec2xls2\",\n",
        "    group_by_length=True,#makes training more efficient by grouping training samples of similar input length into one batch.\n",
        "    evaluation_strategy=\"epoch\",\n",
        "    save_strategy=\"epoch\",\n",
        "    learning_rate=3e-4,\n",
        "    per_device_train_batch_size=16,\n",
        "    gradient_accumulation_steps=2,\n",
        "    per_device_eval_batch_size=16,\n",
        "    num_train_epochs=10,\n",
        "    warmup_ratio=0.1,\n",
        "    #warmup_steps=500,\n",
        "    logging_steps=100,\n",
        "    save_total_limit=2,\n",
        "    load_best_model_at_end=True,\n",
        "    #metric_for_best_model=myEvaluator.#\"accuracy\",\n",
        "    fp16=True,\n",
        "    push_to_hub=False,\n",
        "    #gradient_checkpointing=True,#reduce GPU memory, or use model.gradient_checkpointing_enable()\n",
        ")"
      ]
    },
    {
      "cell_type": "code",
      "execution_count": 229,
      "metadata": {},
      "outputs": [],
      "source": [
        "model.gradient_checkpointing_enable()"
      ]
    },
    {
      "cell_type": "markdown",
      "metadata": {
        "id": "OsW-WZcL1ZtN"
      },
      "source": [
        "Now, all instances can be passed to Trainer and we are ready to start training!"
      ]
    },
    {
      "cell_type": "code",
      "execution_count": 230,
      "metadata": {
        "colab": {
          "base_uri": "https://localhost:8080/"
        },
        "id": "rY7vBmFCPFgC",
        "outputId": "c47ecc78-5259-44db-c121-5bd7945defb8"
      },
      "outputs": [],
      "source": [
        "from transformers import Trainer\n",
        "\n",
        "trainer = Trainer(\n",
        "    model=model,\n",
        "    data_collator=data_collator,\n",
        "    args=training_args,\n",
        "    compute_metrics=compute_metrics,\n",
        "    train_dataset=train_dataset,\n",
        "    eval_dataset=test_dataset,\n",
        "    tokenizer=processor.feature_extractor,\n",
        ")"
      ]
    },
    {
      "cell_type": "markdown",
      "metadata": {
        "id": "UoXBx1JAA0DX"
      },
      "source": [
        "\n",
        "\n",
        "---\n",
        "\n",
        "${}^1$ To allow models to become independent of the speaker rate, in CTC, consecutive tokens that are identical are simply grouped as a single token. However, the encoded labels should not be grouped when decoding since they don't correspond to the predicted tokens of the model, which is why the `group_tokens=False` parameter has to be passed. If we wouldn't pass this parameter a word like `\"hello\"` would incorrectly be encoded, and decoded as `\"helo\"`.\n",
        "\n",
        "${}^2$ The blank token allows the model to predict a word, such as `\"hello\"` by forcing it to insert the blank token between the two l's. A CTC-conform prediction of `\"hello\"` of our model would be `[PAD] [PAD] \"h\" \"e\" \"e\" \"l\" \"l\" [PAD] \"l\" \"o\" \"o\" [PAD]`."
      ]
    },
    {
      "cell_type": "markdown",
      "metadata": {
        "id": "rpvZHM1xReIW"
      },
      "source": [
        "### Training"
      ]
    },
    {
      "cell_type": "markdown",
      "metadata": {
        "id": "j-3oKSzZ1hGq"
      },
      "source": [
        "Training will take multiple hours depending on the GPU allocated to this notebook. While the trained model yields somewhat satisfying results on *Common Voice*'s test data of Turkish, it is by no means an optimally fine-tuned model. The purpose of this notebook is just to demonstrate how to fine-tune XLS-R on an ASR dataset.\n",
        "\n",
        "In case you want to use this google colab to fine-tune your model, you should make sure that your training doesn't stop due to inactivity. A simple hack to prevent this is to paste the following code into the console of this tab (*right mouse click -> inspect -> Console tab and insert code*)."
      ]
    },
    {
      "cell_type": "markdown",
      "metadata": {
        "id": "VYYAvgkW4P0m"
      },
      "source": [
        "```javascript\n",
        "function ConnectButton(){\n",
        "    console.log(\"Connect pushed\");\n",
        "    document.querySelector(\"#top-toolbar > colab-connect-button\").shadowRoot.querySelector(\"#connect\").click()\n",
        "}\n",
        "setInterval(ConnectButton,60000);\n",
        "```"
      ]
    },
    {
      "cell_type": "markdown",
      "metadata": {
        "id": "7bGgLV2r0yvZ"
      },
      "source": [
        "Depending on what GPU was allocated to your google colab it might be possible that you are seeing an `\"out-of-memory\"` error here. In this case, it's probably best to reduce `per_device_train_batch_size` to 8 or even less and increase [`gradient_accumulation`](https://huggingface.co/transformers/master/main_classes/trainer.html#trainingarguments)."
      ]
    },
    {
      "cell_type": "code",
      "execution_count": 98,
      "metadata": {},
      "outputs": [
        {
          "name": "stderr",
          "output_type": "stream",
          "text": [
            "/home/lkk/miniconda3/envs/mycondapy310/lib/python3.10/site-packages/transformers/models/wav2vec2/processing_wav2vec2.py:155: UserWarning: `as_target_processor` is deprecated and will be removed in v5 of Transformers. You can process your labels by using the argument `text` of the regular `__call__` method (either in the same call as your audio inputs, or in a separate call.\n",
            "  warnings.warn(\n",
            "/home/lkk/miniconda3/envs/mycondapy310/lib/python3.10/site-packages/torch/utils/checkpoint.py:429: UserWarning: torch.utils.checkpoint: please pass in use_reentrant=True or use_reentrant=False explicitly. The default value of use_reentrant will be updated to be False in the future. To maintain current behavior, pass use_reentrant=True. It is recommended that you use use_reentrant=False. Refer to docs for more details on the differences between the two variants.\n",
            "  warnings.warn(\n"
          ]
        },
        {
          "data": {
            "text/html": [
              "\n",
              "    <div>\n",
              "      \n",
              "      <progress value='930' max='930' style='width:300px; height:20px; vertical-align: middle;'></progress>\n",
              "      [930/930 14:48, Epoch 29/30]\n",
              "    </div>\n",
              "    <table border=\"1\" class=\"dataframe\">\n",
              "  <thead>\n",
              " <tr style=\"text-align: left;\">\n",
              "      <th>Step</th>\n",
              "      <th>Training Loss</th>\n",
              "      <th>Validation Loss</th>\n",
              "      <th>Wer</th>\n",
              "    </tr>\n",
              "  </thead>\n",
              "  <tbody>\n",
              "    <tr>\n",
              "      <td>400</td>\n",
              "      <td>4.730600</td>\n",
              "      <td>3.071480</td>\n",
              "      <td>1.000000</td>\n",
              "    </tr>\n",
              "    <tr>\n",
              "      <td>800</td>\n",
              "      <td>1.443700</td>\n",
              "      <td>1.352002</td>\n",
              "      <td>0.607292</td>\n",
              "    </tr>\n",
              "  </tbody>\n",
              "</table><p>"
            ],
            "text/plain": [
              "<IPython.core.display.HTML object>"
            ]
          },
          "metadata": {},
          "output_type": "display_data"
        },
        {
          "name": "stderr",
          "output_type": "stream",
          "text": [
            "/home/lkk/miniconda3/envs/mycondapy310/lib/python3.10/site-packages/transformers/models/wav2vec2/processing_wav2vec2.py:155: UserWarning: `as_target_processor` is deprecated and will be removed in v5 of Transformers. You can process your labels by using the argument `text` of the regular `__call__` method (either in the same call as your audio inputs, or in a separate call.\n",
            "  warnings.warn(\n",
            "/home/lkk/miniconda3/envs/mycondapy310/lib/python3.10/site-packages/torch/utils/checkpoint.py:429: UserWarning: torch.utils.checkpoint: please pass in use_reentrant=True or use_reentrant=False explicitly. The default value of use_reentrant will be updated to be False in the future. To maintain current behavior, pass use_reentrant=True. It is recommended that you use use_reentrant=False. Refer to docs for more details on the differences between the two variants.\n",
            "  warnings.warn(\n",
            "/home/lkk/miniconda3/envs/mycondapy310/lib/python3.10/site-packages/transformers/models/wav2vec2/processing_wav2vec2.py:155: UserWarning: `as_target_processor` is deprecated and will be removed in v5 of Transformers. You can process your labels by using the argument `text` of the regular `__call__` method (either in the same call as your audio inputs, or in a separate call.\n",
            "  warnings.warn(\n",
            "/home/lkk/miniconda3/envs/mycondapy310/lib/python3.10/site-packages/torch/utils/checkpoint.py:429: UserWarning: torch.utils.checkpoint: please pass in use_reentrant=True or use_reentrant=False explicitly. The default value of use_reentrant will be updated to be False in the future. To maintain current behavior, pass use_reentrant=True. It is recommended that you use use_reentrant=False. Refer to docs for more details on the differences between the two variants.\n",
            "  warnings.warn(\n"
          ]
        },
        {
          "data": {
            "text/plain": [
              "TrainOutput(global_step=930, training_loss=2.702474581810736, metrics={'train_runtime': 890.2617, 'train_samples_per_second': 33.698, 'train_steps_per_second': 1.045, 'total_flos': 5.859490420327576e+18, 'train_loss': 2.702474581810736, 'epoch': 29.52})"
            ]
          },
          "execution_count": 98,
          "metadata": {},
          "output_type": "execute_result"
        }
      ],
      "source": [
        "trainer.train()"
      ]
    },
    {
      "cell_type": "code",
      "execution_count": 231,
      "metadata": {},
      "outputs": [],
      "source": [
        "trainer.train()#new"
      ]
    },
    {
      "cell_type": "code",
      "execution_count": 127,
      "metadata": {},
      "outputs": [
        {
          "name": "stderr",
          "output_type": "stream",
          "text": [
            "/home/lkk/miniconda3/envs/mycondapy310/lib/python3.10/site-packages/transformers/models/wav2vec2/processing_wav2vec2.py:155: UserWarning: `as_target_processor` is deprecated and will be removed in v5 of Transformers. You can process your labels by using the argument `text` of the regular `__call__` method (either in the same call as your audio inputs, or in a separate call.\n",
            "  warnings.warn(\n"
          ]
        },
        {
          "data": {
            "text/html": [
              "\n",
              "    <div>\n",
              "      \n",
              "      <progress value='13' max='13' style='width:300px; height:20px; vertical-align: middle;'></progress>\n",
              "      [13/13 00:01]\n",
              "    </div>\n",
              "    "
            ],
            "text/plain": [
              "<IPython.core.display.HTML object>"
            ]
          },
          "metadata": {},
          "output_type": "display_data"
        },
        {
          "data": {
            "text/plain": [
              "{'eval_loss': 1.3340829610824585,\n",
              " 'eval_wer': 0.5916666666666667,\n",
              " 'eval_runtime': 2.2799,\n",
              " 'eval_samples_per_second': 43.861,\n",
              " 'eval_steps_per_second': 5.702,\n",
              " 'epoch': 29.52}"
            ]
          },
          "execution_count": 127,
          "metadata": {},
          "output_type": "execute_result"
        }
      ],
      "source": [
        "trainer.evaluate()"
      ]
    },
    {
      "cell_type": "code",
      "execution_count": null,
      "metadata": {
        "colab": {
          "background_save": true,
          "base_uri": "https://localhost:8080/",
          "height": 311
        },
        "id": "9fRr9TG5pGBl",
        "outputId": "122ea040-7b24-452a-c7d4-7e72e1c46973"
      },
      "outputs": [
        {
          "name": "stderr",
          "output_type": "stream",
          "text": [
            "The following columns in the training set  don't have a corresponding argument in `Wav2Vec2ForCTC.forward` and have been ignored: input_length.\n",
            "***** Running training *****\n",
            "  Num examples = 3478\n",
            "  Num Epochs = 30\n",
            "  Instantaneous batch size per device = 16\n",
            "  Total train batch size (w. parallel, distributed & accumulation) = 32\n",
            "  Gradient Accumulation steps = 2\n",
            "  Total optimization steps = 3270\n",
            "/usr/local/lib/python3.7/dist-packages/transformers/feature_extraction_utils.py:158: UserWarning: Creating a tensor from a list of numpy.ndarrays is extremely slow. Please consider converting the list to a single numpy.ndarray with numpy.array() before converting to a tensor. (Triggered internally at  ../torch/csrc/utils/tensor_new.cpp:201.)\n",
            "  tensor = as_tensor(value)\n",
            "/usr/local/lib/python3.7/dist-packages/transformers/models/wav2vec2/modeling_wav2vec2.py:882: UserWarning: __floordiv__ is deprecated, and its behavior will change in a future version of pytorch. It currently rounds toward 0 (like the 'trunc' function NOT 'floor'). This results in incorrect rounding for negative values. To keep the current behavior, use torch.div(a, b, rounding_mode='trunc'), or for actual floor division, use torch.div(a, b, rounding_mode='floor').\n",
            "  return (input_length - kernel_size) // stride + 1\n"
          ]
        },
        {
          "data": {
            "text/html": [
              "\n",
              "    <div>\n",
              "      \n",
              "      <progress value='3270' max='3270' style='width:300px; height:20px; vertical-align: middle;'></progress>\n",
              "      [3270/3270 4:41:48, Epoch 30/30]\n",
              "    </div>\n",
              "    <table border=\"1\" class=\"dataframe\">\n",
              "  <thead>\n",
              "    <tr style=\"text-align: left;\">\n",
              "      <th>Step</th>\n",
              "      <th>Training Loss</th>\n",
              "      <th>Validation Loss</th>\n",
              "      <th>Wer</th>\n",
              "    </tr>\n",
              "  </thead>\n",
              "  <tbody>\n",
              "    <tr>\n",
              "      <td>400</td>\n",
              "      <td>3.765200</td>\n",
              "      <td>0.625533</td>\n",
              "      <td>0.693290</td>\n",
              "    </tr>\n",
              "    <tr>\n",
              "      <td>800</td>\n",
              "      <td>0.371600</td>\n",
              "      <td>0.405785</td>\n",
              "      <td>0.456337</td>\n",
              "    </tr>\n",
              "    <tr>\n",
              "      <td>1200</td>\n",
              "      <td>0.177900</td>\n",
              "      <td>0.412796</td>\n",
              "      <td>0.408028</td>\n",
              "    </tr>\n",
              "    <tr>\n",
              "      <td>1600</td>\n",
              "      <td>0.122600</td>\n",
              "      <td>0.399832</td>\n",
              "      <td>0.394137</td>\n",
              "    </tr>\n",
              "    <tr>\n",
              "      <td>2000</td>\n",
              "      <td>0.092700</td>\n",
              "      <td>0.408412</td>\n",
              "      <td>0.371259</td>\n",
              "    </tr>\n",
              "    <tr>\n",
              "      <td>2400</td>\n",
              "      <td>0.073700</td>\n",
              "      <td>0.394867</td>\n",
              "      <td>0.351956</td>\n",
              "    </tr>\n",
              "    <tr>\n",
              "      <td>2800</td>\n",
              "      <td>0.058100</td>\n",
              "      <td>0.369830</td>\n",
              "      <td>0.331120</td>\n",
              "    </tr>\n",
              "    <tr>\n",
              "      <td>3200</td>\n",
              "      <td>0.045300</td>\n",
              "      <td>0.359626</td>\n",
              "      <td>0.324175</td>\n",
              "    </tr>\n",
              "  </tbody>\n",
              "</table><p>"
            ],
            "text/plain": [
              "<IPython.core.display.HTML object>"
            ]
          },
          "metadata": {},
          "output_type": "display_data"
        },
        {
          "name": "stderr",
          "output_type": "stream",
          "text": [
            "The following columns in the evaluation set  don't have a corresponding argument in `Wav2Vec2ForCTC.forward` and have been ignored: input_length.\n",
            "***** Running Evaluation *****\n",
            "  Num examples = 1647\n",
            "  Batch size = 8\n",
            "Saving model checkpoint to wav2vec2-large-xls-r-300m-turkish-colab/checkpoint-400\n",
            "Configuration saved in wav2vec2-large-xls-r-300m-turkish-colab/checkpoint-400/config.json\n",
            "Model weights saved in wav2vec2-large-xls-r-300m-turkish-colab/checkpoint-400/pytorch_model.bin\n",
            "Configuration saved in wav2vec2-large-xls-r-300m-turkish-colab/checkpoint-400/preprocessor_config.json\n",
            "Configuration saved in wav2vec2-large-xls-r-300m-turkish-colab/preprocessor_config.json\n",
            "/usr/local/lib/python3.7/dist-packages/transformers/models/wav2vec2/modeling_wav2vec2.py:882: UserWarning: __floordiv__ is deprecated, and its behavior will change in a future version of pytorch. It currently rounds toward 0 (like the 'trunc' function NOT 'floor'). This results in incorrect rounding for negative values. To keep the current behavior, use torch.div(a, b, rounding_mode='trunc'), or for actual floor division, use torch.div(a, b, rounding_mode='floor').\n",
            "  return (input_length - kernel_size) // stride + 1\n",
            "The following columns in the evaluation set  don't have a corresponding argument in `Wav2Vec2ForCTC.forward` and have been ignored: input_length.\n",
            "***** Running Evaluation *****\n",
            "  Num examples = 1647\n",
            "  Batch size = 8\n",
            "Saving model checkpoint to wav2vec2-large-xls-r-300m-turkish-colab/checkpoint-800\n",
            "Configuration saved in wav2vec2-large-xls-r-300m-turkish-colab/checkpoint-800/config.json\n",
            "Model weights saved in wav2vec2-large-xls-r-300m-turkish-colab/checkpoint-800/pytorch_model.bin\n",
            "Configuration saved in wav2vec2-large-xls-r-300m-turkish-colab/checkpoint-800/preprocessor_config.json\n",
            "/usr/local/lib/python3.7/dist-packages/transformers/models/wav2vec2/modeling_wav2vec2.py:882: UserWarning: __floordiv__ is deprecated, and its behavior will change in a future version of pytorch. It currently rounds toward 0 (like the 'trunc' function NOT 'floor'). This results in incorrect rounding for negative values. To keep the current behavior, use torch.div(a, b, rounding_mode='trunc'), or for actual floor division, use torch.div(a, b, rounding_mode='floor').\n",
            "  return (input_length - kernel_size) // stride + 1\n",
            "The following columns in the evaluation set  don't have a corresponding argument in `Wav2Vec2ForCTC.forward` and have been ignored: input_length.\n",
            "***** Running Evaluation *****\n",
            "  Num examples = 1647\n",
            "  Batch size = 8\n",
            "Saving model checkpoint to wav2vec2-large-xls-r-300m-turkish-colab/checkpoint-1200\n",
            "Configuration saved in wav2vec2-large-xls-r-300m-turkish-colab/checkpoint-1200/config.json\n",
            "Model weights saved in wav2vec2-large-xls-r-300m-turkish-colab/checkpoint-1200/pytorch_model.bin\n",
            "Configuration saved in wav2vec2-large-xls-r-300m-turkish-colab/checkpoint-1200/preprocessor_config.json\n",
            "Deleting older checkpoint [wav2vec2-large-xls-r-300m-turkish-colab/checkpoint-400] due to args.save_total_limit\n",
            "/usr/local/lib/python3.7/dist-packages/transformers/models/wav2vec2/modeling_wav2vec2.py:882: UserWarning: __floordiv__ is deprecated, and its behavior will change in a future version of pytorch. It currently rounds toward 0 (like the 'trunc' function NOT 'floor'). This results in incorrect rounding for negative values. To keep the current behavior, use torch.div(a, b, rounding_mode='trunc'), or for actual floor division, use torch.div(a, b, rounding_mode='floor').\n",
            "  return (input_length - kernel_size) // stride + 1\n",
            "The following columns in the evaluation set  don't have a corresponding argument in `Wav2Vec2ForCTC.forward` and have been ignored: input_length.\n",
            "***** Running Evaluation *****\n",
            "  Num examples = 1647\n",
            "  Batch size = 8\n",
            "Saving model checkpoint to wav2vec2-large-xls-r-300m-turkish-colab/checkpoint-1600\n",
            "Configuration saved in wav2vec2-large-xls-r-300m-turkish-colab/checkpoint-1600/config.json\n",
            "Model weights saved in wav2vec2-large-xls-r-300m-turkish-colab/checkpoint-1600/pytorch_model.bin\n",
            "Configuration saved in wav2vec2-large-xls-r-300m-turkish-colab/checkpoint-1600/preprocessor_config.json\n",
            "Deleting older checkpoint [wav2vec2-large-xls-r-300m-turkish-colab/checkpoint-800] due to args.save_total_limit\n",
            "/usr/local/lib/python3.7/dist-packages/transformers/models/wav2vec2/modeling_wav2vec2.py:882: UserWarning: __floordiv__ is deprecated, and its behavior will change in a future version of pytorch. It currently rounds toward 0 (like the 'trunc' function NOT 'floor'). This results in incorrect rounding for negative values. To keep the current behavior, use torch.div(a, b, rounding_mode='trunc'), or for actual floor division, use torch.div(a, b, rounding_mode='floor').\n",
            "  return (input_length - kernel_size) // stride + 1\n",
            "The following columns in the evaluation set  don't have a corresponding argument in `Wav2Vec2ForCTC.forward` and have been ignored: input_length.\n",
            "***** Running Evaluation *****\n",
            "  Num examples = 1647\n",
            "  Batch size = 8\n",
            "Saving model checkpoint to wav2vec2-large-xls-r-300m-turkish-colab/checkpoint-2000\n",
            "Configuration saved in wav2vec2-large-xls-r-300m-turkish-colab/checkpoint-2000/config.json\n",
            "Model weights saved in wav2vec2-large-xls-r-300m-turkish-colab/checkpoint-2000/pytorch_model.bin\n",
            "Configuration saved in wav2vec2-large-xls-r-300m-turkish-colab/checkpoint-2000/preprocessor_config.json\n",
            "Deleting older checkpoint [wav2vec2-large-xls-r-300m-turkish-colab/checkpoint-1200] due to args.save_total_limit\n",
            "/usr/local/lib/python3.7/dist-packages/transformers/models/wav2vec2/modeling_wav2vec2.py:882: UserWarning: __floordiv__ is deprecated, and its behavior will change in a future version of pytorch. It currently rounds toward 0 (like the 'trunc' function NOT 'floor'). This results in incorrect rounding for negative values. To keep the current behavior, use torch.div(a, b, rounding_mode='trunc'), or for actual floor division, use torch.div(a, b, rounding_mode='floor').\n",
            "  return (input_length - kernel_size) // stride + 1\n",
            "The following columns in the evaluation set  don't have a corresponding argument in `Wav2Vec2ForCTC.forward` and have been ignored: input_length.\n",
            "***** Running Evaluation *****\n",
            "  Num examples = 1647\n",
            "  Batch size = 8\n",
            "Saving model checkpoint to wav2vec2-large-xls-r-300m-turkish-colab/checkpoint-2400\n",
            "Configuration saved in wav2vec2-large-xls-r-300m-turkish-colab/checkpoint-2400/config.json\n",
            "Model weights saved in wav2vec2-large-xls-r-300m-turkish-colab/checkpoint-2400/pytorch_model.bin\n",
            "Configuration saved in wav2vec2-large-xls-r-300m-turkish-colab/checkpoint-2400/preprocessor_config.json\n",
            "Deleting older checkpoint [wav2vec2-large-xls-r-300m-turkish-colab/checkpoint-1600] due to args.save_total_limit\n",
            "/usr/local/lib/python3.7/dist-packages/transformers/models/wav2vec2/modeling_wav2vec2.py:882: UserWarning: __floordiv__ is deprecated, and its behavior will change in a future version of pytorch. It currently rounds toward 0 (like the 'trunc' function NOT 'floor'). This results in incorrect rounding for negative values. To keep the current behavior, use torch.div(a, b, rounding_mode='trunc'), or for actual floor division, use torch.div(a, b, rounding_mode='floor').\n",
            "  return (input_length - kernel_size) // stride + 1\n",
            "The following columns in the evaluation set  don't have a corresponding argument in `Wav2Vec2ForCTC.forward` and have been ignored: input_length.\n",
            "***** Running Evaluation *****\n",
            "  Num examples = 1647\n",
            "  Batch size = 8\n",
            "Saving model checkpoint to wav2vec2-large-xls-r-300m-turkish-colab/checkpoint-2800\n",
            "Configuration saved in wav2vec2-large-xls-r-300m-turkish-colab/checkpoint-2800/config.json\n",
            "Model weights saved in wav2vec2-large-xls-r-300m-turkish-colab/checkpoint-2800/pytorch_model.bin\n",
            "Configuration saved in wav2vec2-large-xls-r-300m-turkish-colab/checkpoint-2800/preprocessor_config.json\n",
            "Deleting older checkpoint [wav2vec2-large-xls-r-300m-turkish-colab/checkpoint-2000] due to args.save_total_limit\n",
            "/usr/local/lib/python3.7/dist-packages/transformers/models/wav2vec2/modeling_wav2vec2.py:882: UserWarning: __floordiv__ is deprecated, and its behavior will change in a future version of pytorch. It currently rounds toward 0 (like the 'trunc' function NOT 'floor'). This results in incorrect rounding for negative values. To keep the current behavior, use torch.div(a, b, rounding_mode='trunc'), or for actual floor division, use torch.div(a, b, rounding_mode='floor').\n",
            "  return (input_length - kernel_size) // stride + 1\n",
            "The following columns in the evaluation set  don't have a corresponding argument in `Wav2Vec2ForCTC.forward` and have been ignored: input_length.\n",
            "***** Running Evaluation *****\n",
            "  Num examples = 1647\n",
            "  Batch size = 8\n",
            "Saving model checkpoint to wav2vec2-large-xls-r-300m-turkish-colab/checkpoint-3200\n",
            "Configuration saved in wav2vec2-large-xls-r-300m-turkish-colab/checkpoint-3200/config.json\n",
            "Model weights saved in wav2vec2-large-xls-r-300m-turkish-colab/checkpoint-3200/pytorch_model.bin\n",
            "Configuration saved in wav2vec2-large-xls-r-300m-turkish-colab/checkpoint-3200/preprocessor_config.json\n",
            "Deleting older checkpoint [wav2vec2-large-xls-r-300m-turkish-colab/checkpoint-2400] due to args.save_total_limit\n",
            "/usr/local/lib/python3.7/dist-packages/transformers/models/wav2vec2/modeling_wav2vec2.py:882: UserWarning: __floordiv__ is deprecated, and its behavior will change in a future version of pytorch. It currently rounds toward 0 (like the 'trunc' function NOT 'floor'). This results in incorrect rounding for negative values. To keep the current behavior, use torch.div(a, b, rounding_mode='trunc'), or for actual floor division, use torch.div(a, b, rounding_mode='floor').\n",
            "  return (input_length - kernel_size) // stride + 1\n",
            "\n",
            "\n",
            "Training completed. Do not forget to share your model on huggingface.co/models =)\n",
            "\n",
            "\n"
          ]
        },
        {
          "data": {
            "text/plain": [
              "TrainOutput(global_step=3270, training_loss=0.5767540113641582, metrics={'train_runtime': 16918.4457, 'train_samples_per_second': 6.167, 'train_steps_per_second': 0.193, 'total_flos': 1.2873093995838829e+19, 'train_loss': 0.5767540113641582, 'epoch': 30.0})"
            ]
          },
          "execution_count": null,
          "metadata": {},
          "output_type": "execute_result"
        }
      ],
      "source": [
        "trainer.train()"
      ]
    },
    {
      "cell_type": "markdown",
      "metadata": {
        "id": "a9q4mgMZplr_"
      },
      "source": [
        "The training loss and validation WER go down nicely."
      ]
    },
    {
      "cell_type": "markdown",
      "metadata": {
        "id": "4Ya7WEy0pd13"
      },
      "source": [
        "You can now upload the result of the training to the 🤗 Hub, just execute this instruction:"
      ]
    },
    {
      "cell_type": "code",
      "execution_count": null,
      "metadata": {
        "colab": {
          "background_save": true,
          "referenced_widgets": [
            "2d2f71d2c70d466cb9a0d3317fb3095e",
            "2e894a5b95cb489db8b27c6617fd9533"
          ]
        },
        "id": "ArG1Thf6NBWm",
        "outputId": "62ef1c3d-786c-4e25-f9c5-4020e71aa298"
      },
      "outputs": [
        {
          "name": "stderr",
          "output_type": "stream",
          "text": [
            "Saving model checkpoint to wav2vec2-large-xls-r-300m-turkish-colab\n",
            "Configuration saved in wav2vec2-large-xls-r-300m-turkish-colab/config.json\n",
            "Model weights saved in wav2vec2-large-xls-r-300m-turkish-colab/pytorch_model.bin\n",
            "Configuration saved in wav2vec2-large-xls-r-300m-turkish-colab/preprocessor_config.json\n",
            "Several commits (2) will be pushed upstream.\n",
            "The progress bars may be unreliable.\n"
          ]
        },
        {
          "data": {
            "application/vnd.jupyter.widget-view+json": {
              "model_id": "2d2f71d2c70d466cb9a0d3317fb3095e",
              "version_major": 2,
              "version_minor": 0
            },
            "text/plain": [
              "Upload file pytorch_model.bin:   0%|          | 3.35k/1.18G [00:00<?, ?B/s]"
            ]
          },
          "metadata": {},
          "output_type": "display_data"
        },
        {
          "data": {
            "application/vnd.jupyter.widget-view+json": {
              "model_id": "2e894a5b95cb489db8b27c6617fd9533",
              "version_major": 2,
              "version_minor": 0
            },
            "text/plain": [
              "Upload file runs/Nov12_14-33-48_c2d4142f9305/events.out.tfevents.1636727730.c2d4142f9305.1468.0:  41%|####1   …"
            ]
          },
          "metadata": {},
          "output_type": "display_data"
        },
        {
          "name": "stderr",
          "output_type": "stream",
          "text": [
            "To https://huggingface.co/patrickvonplaten/wav2vec2-large-xls-r-300m-turkish-colab\n",
            "   56ebe74..fe76946  main -> main\n",
            "\n",
            "Dropping the following result as it does not have all the necessary field:\n",
            "{'dataset': {'name': 'common_voice', 'type': 'common_voice', 'args': 'tr'}}\n",
            "To https://huggingface.co/patrickvonplaten/wav2vec2-large-xls-r-300m-turkish-colab\n",
            "   fe76946..5f0d67b  main -> main\n",
            "\n"
          ]
        },
        {
          "data": {
            "application/vnd.google.colaboratory.intrinsic+json": {
              "type": "string"
            },
            "text/plain": [
              "'https://huggingface.co/patrickvonplaten/wav2vec2-large-xls-r-300m-turkish-colab/commit/fe769461e4e2fb9534740e6c278a0cfabf268474'"
            ]
          },
          "execution_count": null,
          "metadata": {},
          "output_type": "execute_result"
        }
      ],
      "source": [
        "trainer.push_to_hub()"
      ]
    },
    {
      "cell_type": "markdown",
      "metadata": {
        "id": "RHIVc44_fY2N"
      },
      "source": [
        "You can now share this model with all your friends, family, favorite pets: they can all load it with the identifier \"your-username/the-name-you-picked\" so for instance:"
      ]
    },
    {
      "cell_type": "markdown",
      "metadata": {
        "id": "5lWWIKyBpx1h"
      },
      "source": [
        "```python\n",
        "from transformers import AutoModelForCTC, Wav2Vec2Processor\n",
        "\n",
        "model = AutoModelForCTC.from_pretrained(\"patrickvonplaten/wav2vec2-large-xls-r-300m-tr-colab\")\n",
        "processor = Wav2Vec2Processor.from_pretrained(\"patrickvonplaten/wav2vec2-large-xls-r-300m-tr-colab\")\n",
        "```"
      ]
    },
    {
      "cell_type": "markdown",
      "metadata": {
        "id": "pmi1cX0fRBit"
      },
      "source": [
        "For more examples of how XLS-R can be fine-tuned, please take a look at the [official speech recognition examples](https://github.com/huggingface/transformers/tree/master/examples/pytorch/speech-recognition#examples)."
      ]
    },
    {
      "cell_type": "markdown",
      "metadata": {
        "id": "L8b8Qkoy3KyS"
      },
      "source": [
        "### Evaluation\n",
        "\n",
        "As a final check, let's load the model and verify that it indeed has learned to transcribe Turkish speech.\n",
        "\n",
        "Let's first load the pretrained checkpoint."
      ]
    },
    {
      "cell_type": "code",
      "execution_count": null,
      "metadata": {
        "colab": {
          "background_save": true
        },
        "id": "R351I9IQp_9D",
        "outputId": "f2a2ee99-7db6-4962-e140-0107054102d3"
      },
      "outputs": [
        {
          "name": "stderr",
          "output_type": "stream",
          "text": [
            "loading configuration file wav2vec2-large-xls-r-300m-turkish-colab/config.json\n",
            "Model config Wav2Vec2Config {\n",
            "  \"_name_or_path\": \"facebook/wav2vec2-xls-r-300m\",\n",
            "  \"activation_dropout\": 0.0,\n",
            "  \"apply_spec_augment\": true,\n",
            "  \"architectures\": [\n",
            "    \"Wav2Vec2ForCTC\"\n",
            "  ],\n",
            "  \"attention_dropout\": 0.0,\n",
            "  \"bos_token_id\": 1,\n",
            "  \"classifier_proj_size\": 256,\n",
            "  \"codevector_dim\": 768,\n",
            "  \"contrastive_logits_temperature\": 0.1,\n",
            "  \"conv_bias\": true,\n",
            "  \"conv_dim\": [\n",
            "    512,\n",
            "    512,\n",
            "    512,\n",
            "    512,\n",
            "    512,\n",
            "    512,\n",
            "    512\n",
            "  ],\n",
            "  \"conv_kernel\": [\n",
            "    10,\n",
            "    3,\n",
            "    3,\n",
            "    3,\n",
            "    3,\n",
            "    2,\n",
            "    2\n",
            "  ],\n",
            "  \"conv_stride\": [\n",
            "    5,\n",
            "    2,\n",
            "    2,\n",
            "    2,\n",
            "    2,\n",
            "    2,\n",
            "    2\n",
            "  ],\n",
            "  \"ctc_loss_reduction\": \"mean\",\n",
            "  \"ctc_zero_infinity\": false,\n",
            "  \"diversity_loss_weight\": 0.1,\n",
            "  \"do_stable_layer_norm\": true,\n",
            "  \"eos_token_id\": 2,\n",
            "  \"feat_extract_activation\": \"gelu\",\n",
            "  \"feat_extract_dropout\": 0.0,\n",
            "  \"feat_extract_norm\": \"layer\",\n",
            "  \"feat_proj_dropout\": 0.0,\n",
            "  \"feat_quantizer_dropout\": 0.0,\n",
            "  \"final_dropout\": 0.0,\n",
            "  \"gradient_checkpointing\": false,\n",
            "  \"hidden_act\": \"gelu\",\n",
            "  \"hidden_dropout\": 0.0,\n",
            "  \"hidden_size\": 1024,\n",
            "  \"initializer_range\": 0.02,\n",
            "  \"intermediate_size\": 4096,\n",
            "  \"layer_norm_eps\": 1e-05,\n",
            "  \"layerdrop\": 0.0,\n",
            "  \"mask_feature_length\": 10,\n",
            "  \"mask_feature_prob\": 0.0,\n",
            "  \"mask_time_length\": 10,\n",
            "  \"mask_time_prob\": 0.05,\n",
            "  \"model_type\": \"wav2vec2\",\n",
            "  \"num_attention_heads\": 16,\n",
            "  \"num_codevector_groups\": 2,\n",
            "  \"num_codevectors_per_group\": 320,\n",
            "  \"num_conv_pos_embedding_groups\": 16,\n",
            "  \"num_conv_pos_embeddings\": 128,\n",
            "  \"num_feat_extract_layers\": 7,\n",
            "  \"num_hidden_layers\": 24,\n",
            "  \"num_negatives\": 100,\n",
            "  \"pad_token_id\": 36,\n",
            "  \"proj_codevector_dim\": 768,\n",
            "  \"torch_dtype\": \"float32\",\n",
            "  \"transformers_version\": \"4.11.3\",\n",
            "  \"use_weighted_layer_sum\": false,\n",
            "  \"vocab_size\": 39\n",
            "}\n",
            "\n",
            "loading weights file wav2vec2-large-xls-r-300m-turkish-colab/pytorch_model.bin\n",
            "All model checkpoint weights were used when initializing Wav2Vec2ForCTC.\n",
            "\n",
            "All the weights of Wav2Vec2ForCTC were initialized from the model checkpoint at wav2vec2-large-xls-r-300m-turkish-colab.\n",
            "If your task is similar to the task the model of the checkpoint was trained on, you can already use Wav2Vec2ForCTC for predictions without further training.\n",
            "loading feature extractor configuration file wav2vec2-large-xls-r-300m-turkish-colab/preprocessor_config.json\n",
            "Feature extractor Wav2Vec2FeatureExtractor {\n",
            "  \"do_normalize\": true,\n",
            "  \"feature_extractor_type\": \"Wav2Vec2FeatureExtractor\",\n",
            "  \"feature_size\": 1,\n",
            "  \"padding_side\": \"right\",\n",
            "  \"padding_value\": 0.0,\n",
            "  \"return_attention_mask\": true,\n",
            "  \"sampling_rate\": 16000\n",
            "}\n",
            "\n",
            "Didn't find file wav2vec2-large-xls-r-300m-turkish-colab/tokenizer.json. We won't load it.\n",
            "loading file wav2vec2-large-xls-r-300m-turkish-colab/vocab.json\n",
            "loading file wav2vec2-large-xls-r-300m-turkish-colab/tokenizer_config.json\n",
            "loading file wav2vec2-large-xls-r-300m-turkish-colab/added_tokens.json\n",
            "loading file wav2vec2-large-xls-r-300m-turkish-colab/special_tokens_map.json\n",
            "loading file None\n",
            "Adding <s> to the vocabulary\n",
            "Adding </s> to the vocabulary\n"
          ]
        }
      ],
      "source": [
        "model = Wav2Vec2ForCTC.from_pretrained(repo_name).to(\"cuda\")\n",
        "processor = Wav2Vec2Processor.from_pretrained(repo_name)"
      ]
    },
    {
      "cell_type": "code",
      "execution_count": 99,
      "metadata": {},
      "outputs": [
        {
          "data": {
            "text/plain": [
              "Wav2Vec2ForCTC(\n",
              "  (wav2vec2): Wav2Vec2Model(\n",
              "    (feature_extractor): Wav2Vec2FeatureEncoder(\n",
              "      (conv_layers): ModuleList(\n",
              "        (0): Wav2Vec2LayerNormConvLayer(\n",
              "          (conv): Conv1d(1, 512, kernel_size=(10,), stride=(5,))\n",
              "          (layer_norm): LayerNorm((512,), eps=1e-05, elementwise_affine=True)\n",
              "          (activation): GELUActivation()\n",
              "        )\n",
              "        (1-4): 4 x Wav2Vec2LayerNormConvLayer(\n",
              "          (conv): Conv1d(512, 512, kernel_size=(3,), stride=(2,))\n",
              "          (layer_norm): LayerNorm((512,), eps=1e-05, elementwise_affine=True)\n",
              "          (activation): GELUActivation()\n",
              "        )\n",
              "        (5-6): 2 x Wav2Vec2LayerNormConvLayer(\n",
              "          (conv): Conv1d(512, 512, kernel_size=(2,), stride=(2,))\n",
              "          (layer_norm): LayerNorm((512,), eps=1e-05, elementwise_affine=True)\n",
              "          (activation): GELUActivation()\n",
              "        )\n",
              "      )\n",
              "    )\n",
              "    (feature_projection): Wav2Vec2FeatureProjection(\n",
              "      (layer_norm): LayerNorm((512,), eps=1e-05, elementwise_affine=True)\n",
              "      (projection): Linear(in_features=512, out_features=1024, bias=True)\n",
              "      (dropout): Dropout(p=0.1, inplace=False)\n",
              "    )\n",
              "    (encoder): Wav2Vec2EncoderStableLayerNorm(\n",
              "      (pos_conv_embed): Wav2Vec2PositionalConvEmbedding(\n",
              "        (conv): ParametrizedConv1d(\n",
              "          1024, 1024, kernel_size=(128,), stride=(1,), padding=(64,), groups=16\n",
              "          (parametrizations): ModuleDict(\n",
              "            (weight): ParametrizationList(\n",
              "              (0): _WeightNorm()\n",
              "            )\n",
              "          )\n",
              "        )\n",
              "        (padding): Wav2Vec2SamePadLayer()\n",
              "        (activation): GELUActivation()\n",
              "      )\n",
              "      (layer_norm): LayerNorm((1024,), eps=1e-05, elementwise_affine=True)\n",
              "      (dropout): Dropout(p=0.1, inplace=False)\n",
              "      (layers): ModuleList(\n",
              "        (0-23): 24 x Wav2Vec2EncoderLayerStableLayerNorm(\n",
              "          (attention): Wav2Vec2Attention(\n",
              "            (k_proj): Linear(in_features=1024, out_features=1024, bias=True)\n",
              "            (v_proj): Linear(in_features=1024, out_features=1024, bias=True)\n",
              "            (q_proj): Linear(in_features=1024, out_features=1024, bias=True)\n",
              "            (out_proj): Linear(in_features=1024, out_features=1024, bias=True)\n",
              "          )\n",
              "          (dropout): Dropout(p=0.1, inplace=False)\n",
              "          (layer_norm): LayerNorm((1024,), eps=1e-05, elementwise_affine=True)\n",
              "          (feed_forward): Wav2Vec2FeedForward(\n",
              "            (intermediate_dropout): Dropout(p=0.0, inplace=False)\n",
              "            (intermediate_dense): Linear(in_features=1024, out_features=4096, bias=True)\n",
              "            (intermediate_act_fn): GELUActivation()\n",
              "            (output_dense): Linear(in_features=4096, out_features=1024, bias=True)\n",
              "            (output_dropout): Dropout(p=0.1, inplace=False)\n",
              "          )\n",
              "          (final_layer_norm): LayerNorm((1024,), eps=1e-05, elementwise_affine=True)\n",
              "        )\n",
              "      )\n",
              "    )\n",
              "  )\n",
              "  (dropout): Dropout(p=0.0, inplace=False)\n",
              "  (lm_head): Linear(in_features=1024, out_features=33, bias=True)\n",
              ")"
            ]
          },
          "execution_count": 99,
          "metadata": {},
          "output_type": "execute_result"
        }
      ],
      "source": [
        "model"
      ]
    },
    {
      "cell_type": "code",
      "execution_count": 100,
      "metadata": {},
      "outputs": [
        {
          "data": {
            "text/plain": [
              "Wav2Vec2Processor:\n",
              "- feature_extractor: Wav2Vec2FeatureExtractor {\n",
              "  \"do_normalize\": true,\n",
              "  \"feature_extractor_type\": \"Wav2Vec2FeatureExtractor\",\n",
              "  \"feature_size\": 1,\n",
              "  \"padding_side\": \"right\",\n",
              "  \"padding_value\": 0.0,\n",
              "  \"return_attention_mask\": true,\n",
              "  \"sampling_rate\": 16000\n",
              "}\n",
              "\n",
              "- tokenizer: Wav2Vec2CTCTokenizer(name_or_path='./', vocab_size=31, model_max_length=1000000000000000019884624838656, is_fast=False, padding_side='right', truncation_side='right', special_tokens={'bos_token': '<s>', 'eos_token': '</s>', 'unk_token': '[UNK]', 'pad_token': '[PAD]', 'additional_special_tokens': [AddedToken(\"<s>\", rstrip=False, lstrip=False, single_word=False, normalized=True), AddedToken(\"</s>\", rstrip=False, lstrip=False, single_word=False, normalized=True)]}, clean_up_tokenization_spaces=True)"
            ]
          },
          "execution_count": 100,
          "metadata": {},
          "output_type": "execute_result"
        }
      ],
      "source": [
        "processor"
      ]
    },
    {
      "cell_type": "code",
      "execution_count": 101,
      "metadata": {},
      "outputs": [
        {
          "data": {
            "text/plain": [
              "{'input_values': [1.9871007680194452e-05,\n",
              "  1.9876821170328185e-05,\n",
              "  1.987294490390923e-05,\n",
              "  1.9871007680194452e-05,\n",
              "  1.98671332327649e-05,\n",
              "  1.9851631805067882e-05,\n",
              "  1.9876821170328185e-05,\n",
              "  1.987488394661341e-05,\n",
              "  1.9865196009050123e-05,\n",
              "  1.984678783628624e-05,\n",
              "  1.9871007680194452e-05,\n",
              "  1.9868100935127586e-05,\n",
              "  1.987294490390923e-05,\n",
              "  1.987294490390923e-05,\n",
              "  1.9863256966345944e-05,\n",
              "  1.9876821170328185e-05,\n",
              "  1.98923207790358e-05,\n",
              "  1.985938251891639e-05,\n",
              "  1.987294490390923e-05,\n",
              "  1.9876821170328185e-05,\n",
              "  1.9900071492884308e-05,\n",
              "  1.9869070456479676e-05,\n",
              "  1.9888446331606247e-05,\n",
              "  1.9898134269169532e-05,\n",
              "  1.9894258002750576e-05,\n",
              "  1.9882632841472514e-05,\n",
              "  1.988650910789147e-05,\n",
              "  1.989329030038789e-05,\n",
              "  1.9906852685380727e-05,\n",
              "  1.9891836927854456e-05,\n",
              "  1.9888446331606247e-05,\n",
              "  1.9891353076673113e-05,\n",
              "  1.9891353076673113e-05,\n",
              "  1.9897164747817442e-05,\n",
              "  1.9908789909095503e-05,\n",
              "  1.9907822206732817e-05,\n",
              "  1.9899101971532218e-05,\n",
              "  1.9884571884176694e-05,\n",
              "  1.9891353076673113e-05,\n",
              "  1.988117946893908e-05,\n",
              "  1.9897164747817442e-05,\n",
              "  1.9876821170328185e-05,\n",
              "  1.9880695617757738e-05,\n",
              "  1.9901041014236398e-05,\n",
              "  1.9904431610484608e-05,\n",
              "  1.9884571884176694e-05,\n",
              "  1.9882632841472514e-05,\n",
              "  1.991169665416237e-05,\n",
              "  1.9903462089132518e-05,\n",
              "  1.9838553271256387e-05,\n",
              "  1.9856475773849525e-05,\n",
              "  1.9942697690567002e-05,\n",
              "  1.9945362510043196e-05,\n",
              "  1.9861805412801914e-05,\n",
              "  1.990455166378524e-05,\n",
              "  1.996425271499902e-05,\n",
              "  2.0007606508443132e-05,\n",
              "  1.996885475818999e-05,\n",
              "  1.9871007680194452e-05,\n",
              "  1.9914603399229236e-05,\n",
              "  2.005895112233702e-05,\n",
              "  2.0026012862217613e-05,\n",
              "  1.982160029001534e-05,\n",
              "  1.9761535440920852e-05,\n",
              "  1.9971277652075514e-05,\n",
              "  2.0034247427247465e-05,\n",
              "  1.9838553271256387e-05,\n",
              "  1.990491546166595e-05,\n",
              "  1.992332181544043e-05,\n",
              "  1.984872687899042e-05,\n",
              "  1.9709221305674873e-05,\n",
              "  1.971212805074174e-05,\n",
              "  1.9805131159955636e-05,\n",
              "  1.965981391549576e-05,\n",
              "  1.9630750102805905e-05,\n",
              "  1.9772192899836227e-05,\n",
              "  1.9915572920581326e-05,\n",
              "  1.9845820133923553e-05,\n",
              "  1.9644312487798743e-05,\n",
              "  2.0097702872590162e-05,\n",
              "  2.0097702872590162e-05,\n",
              "  1.947380769706797e-05,\n",
              "  1.958618486241903e-05,\n",
              "  2.0427089111763053e-05,\n",
              "  2.053171738225501e-05,\n",
              "  1.978381806111429e-05,\n",
              "  1.993107252928894e-05,\n",
              "  2.0399964341777377e-05,\n",
              "  2.0446464986889623e-05,\n",
              "  2.0310835679993033e-05,\n",
              "  1.9721815988305025e-05,\n",
              "  1.9690814951900393e-05,\n",
              "  2.0833978851442225e-05,\n",
              "  2.0783601939911023e-05,\n",
              "  1.9249049728387035e-05,\n",
              "  1.8962289686896838e-05,\n",
              "  2.0795227101189084e-05,\n",
              "  2.0303084966144525e-05,\n",
              "  1.850114858825691e-05,\n",
              "  1.913667074404657e-05,\n",
              "  1.9996949049527757e-05,\n",
              "  1.9857445295201614e-05,\n",
              "  1.8342268958804198e-05,\n",
              "  1.8361643014941365e-05,\n",
              "  1.9686938685481437e-05,\n",
              "  1.847402199928183e-05,\n",
              "  1.8388769603916444e-05,\n",
              "  1.9380804587854072e-05,\n",
              "  2.0946357835782692e-05,\n",
              "  2.0795227101189084e-05,\n",
              "  1.9314926248625852e-05,\n",
              "  2.2469284886028618e-05,\n",
              "  2.1996518626110628e-05,\n",
              "  1.7817186744650826e-05,\n",
              "  1.9289738702354953e-05,\n",
              "  2.4409757315879688e-05,\n",
              "  2.5827086574281566e-05,\n",
              "  2.0360728740342893e-05,\n",
              "  1.7913096598931588e-05,\n",
              "  2.296191087225452e-05,\n",
              "  2.451632281008642e-05,\n",
              "  2.3583384972880594e-05,\n",
              "  2.0107390810153447e-05,\n",
              "  1.6908468751353212e-05,\n",
              "  2.3798455003998242e-05,\n",
              "  2.5848399673122913e-05,\n",
              "  1.5517296560574323e-05,\n",
              "  1.3986618796479888e-05,\n",
              "  2.4840866899467073e-05,\n",
              "  2.367057641095016e-05,\n",
              "  1.415324913978111e-05,\n",
              "  2.0097702872590162e-05,\n",
              "  2.2484784494736232e-05,\n",
              "  1.595131107023917e-05,\n",
              "  1.086713655240601e-05,\n",
              "  1.1324402294121683e-05,\n",
              "  1.9097918993793428e-05,\n",
              "  9.549591595714446e-06,\n",
              "  8.425802661804482e-06,\n",
              "  2.3352815333055332e-05,\n",
              "  2.0756475350935943e-05,\n",
              "  8.185545084415935e-06,\n",
              "  -8.125139743242471e-07,\n",
              "  2.2329779312713072e-05,\n",
              "  3.761330299312249e-05,\n",
              "  8.47230421641143e-06,\n",
              "  7.4415193012100644e-06,\n",
              "  3.100232788710855e-05,\n",
              "  2.2942051145946607e-05,\n",
              "  7.798031219863333e-06,\n",
              "  1.8121385437552817e-05,\n",
              "  1.7144851881312206e-05,\n",
              "  1.3982743439555634e-05,\n",
              "  2.5484137950115837e-05,\n",
              "  1.7158414266305044e-05,\n",
              "  2.891750591516029e-05,\n",
              "  5.074225555290468e-05,\n",
              "  4.6611363359261304e-05,\n",
              "  2.985528772114776e-05,\n",
              "  2.355432116019074e-05,\n",
              "  5.1604471082100645e-05,\n",
              "  3.712503894348629e-05,\n",
              "  1.2227308616274968e-05,\n",
              "  3.568542524590157e-05,\n",
              "  4.744839316117577e-05,\n",
              "  4.5956465328345075e-05,\n",
              "  1.4688017472508363e-05,\n",
              "  1.7456799469073303e-05,\n",
              "  4.966012420482002e-05,\n",
              "  1.980319393624086e-05,\n",
              "  1.0340118933527265e-05,\n",
              "  3.203892629244365e-05,\n",
              "  4.700953286373988e-05,\n",
              "  4.2205338104395196e-05,\n",
              "  1.2747545042657293e-05,\n",
              "  2.7909971322515048e-05,\n",
              "  6.181060598464683e-05,\n",
              "  6.123998900875449e-05,\n",
              "  5.936539309914224e-05,\n",
              "  5.2315557695692405e-05,\n",
              "  9.021604455483612e-06,\n",
              "  4.786568752024323e-06,\n",
              "  4.4417796743800864e-05,\n",
              "  7.418317545671016e-05,\n",
              "  9.649885760154575e-05,\n",
              "  1.1324887054797728e-05,\n",
              "  -6.430802022805437e-05,\n",
              "  -1.277408046007622e-05,\n",
              "  2.7985051929135807e-05,\n",
              "  6.851894431747496e-05,\n",
              "  6.860709981992841e-05,\n",
              "  5.1538110710680485e-05,\n",
              "  0.00010720833233790472,\n",
              "  0.00013327774649951607,\n",
              "  9.344815771328285e-05,\n",
              "  3.0714600143255666e-05,\n",
              "  4.68138387077488e-05,\n",
              "  9.026376937981695e-05,\n",
              "  7.373632251983508e-05,\n",
              "  8.332727884408087e-05,\n",
              "  6.261081580305472e-05,\n",
              "  1.3757016859017313e-05,\n",
              "  1.3110354302625638e-05,\n",
              "  2.8501171982497908e-05,\n",
              "  5.090186095912941e-05,\n",
              "  8.768340921960771e-05,\n",
              "  9.199268242809922e-05,\n",
              "  4.024306690553203e-05,\n",
              "  6.727525942551438e-06,\n",
              "  -3.2076117349788547e-05,\n",
              "  -2.2275906303548254e-05,\n",
              "  4.821470065508038e-05,\n",
              "  2.2980802896199748e-05,\n",
              "  -3.904870027326979e-06,\n",
              "  -7.944696335471235e-06,\n",
              "  -2.5438983357162215e-05,\n",
              "  -2.011842661886476e-05,\n",
              "  4.3762888708442915e-06,\n",
              "  6.603740621358156e-05,\n",
              "  5.1895105571020395e-05,\n",
              "  6.939908053027466e-05,\n",
              "  0.00010175644274568185,\n",
              "  6.367857849909342e-07,\n",
              "  3.413730883039534e-05,\n",
              "  0.00010764082981040701,\n",
              "  2.8390488296281546e-05,\n",
              "  9.479838809056673e-06,\n",
              "  5.0040856876876205e-05,\n",
              "  2.0664600697273272e-07,\n",
              "  -4.448526306077838e-05,\n",
              "  -1.8516058844397776e-05,\n",
              "  -7.705381722189486e-05,\n",
              "  -9.171344572678208e-05,\n",
              "  -3.200345963705331e-05,\n",
              "  -7.915026071714237e-05,\n",
              "  -3.549689063220285e-05,\n",
              "  8.535106462659314e-05,\n",
              "  6.526819197461009e-05,\n",
              "  1.6288197457470233e-06,\n",
              "  4.7497800551354885e-05,\n",
              "  7.948411803226918e-05,\n",
              "  1.5076499948918354e-05,\n",
              "  1.340244216407882e-05,\n",
              "  -3.144931542919949e-05,\n",
              "  -9.690708975540474e-05,\n",
              "  -4.627060843631625e-05,\n",
              "  7.347062819462735e-06,\n",
              "  4.980641097063199e-05,\n",
              "  1.193473599414574e-05,\n",
              "  1.2238683666510042e-06,\n",
              "  6.0076479712734e-05,\n",
              "  3.249134897487238e-05,\n",
              "  6.907841452630237e-05,\n",
              "  0.0001405058428645134,\n",
              "  9.761974069988355e-05,\n",
              "  2.6075096684508026e-05,\n",
              "  4.626260124496184e-05,\n",
              "  4.071728471899405e-05,\n",
              "  -3.990485492977314e-05,\n",
              "  3.1300711270887405e-05,\n",
              "  5.956205859547481e-05,\n",
              "  -4.925167377223261e-05,\n",
              "  -4.762024400406517e-05,\n",
              "  7.108257705112919e-06,\n",
              "  3.924085831386037e-05,\n",
              "  5.567530024563894e-05,\n",
              "  3.9025788282742724e-05,\n",
              "  -4.816276486963034e-05,\n",
              "  -4.18036688643042e-05,\n",
              "  5.279607648844831e-05,\n",
              "  -2.66790266323369e-05,\n",
              "  -5.9788162616314366e-05,\n",
              "  -2.951587248389842e-06,\n",
              "  -4.700603676610626e-05,\n",
              "  -5.6378044973826036e-05,\n",
              "  4.136055940762162e-05,\n",
              "  0.00011073318455601111,\n",
              "  6.432459485949948e-05,\n",
              "  8.957883983384818e-05,\n",
              "  9.793168283067644e-05,\n",
              "  2.6412231818540022e-05,\n",
              "  8.415171032538638e-05,\n",
              "  0.00012365869770292193,\n",
              "  0.00011273372365394607,\n",
              "  2.7899313863599673e-05,\n",
              "  -7.730860670562834e-05,\n",
              "  -4.4060936488676816e-05,\n",
              "  -5.367223275243305e-05,\n",
              "  -2.4927465346991085e-05,\n",
              "  5.2860013965982944e-05,\n",
              "  4.886837814410683e-06,\n",
              "  -1.5558363884338178e-05,\n",
              "  0.00011304276995360851,\n",
              "  0.00017065728025045246,\n",
              "  3.5502325772540644e-05,\n",
              "  2.9845599783584476e-05,\n",
              "  3.617272523115389e-05,\n",
              "  -9.552463598083705e-05,\n",
              "  -7.25596328265965e-05,\n",
              "  -6.51368172839284e-05,\n",
              "  -0.0001349289232166484,\n",
              "  -8.54512327350676e-05,\n",
              "  -6.279526860453188e-05,\n",
              "  -0.00014533752982970327,\n",
              "  -7.128955621737987e-05,\n",
              "  4.306561459088698e-05,\n",
              "  -9.463916649110615e-05,\n",
              "  -8.222711767302826e-05,\n",
              "  4.128693035454489e-05,\n",
              "  1.468414302507881e-05,\n",
              "  8.613771933596581e-05,\n",
              "  0.00010686193127185106,\n",
              "  4.0035261918092147e-05,\n",
              "  -6.4295190895791166e-06,\n",
              "  -3.327450394863263e-05,\n",
              "  -3.563252175808884e-05,\n",
              "  -7.081679359544069e-05,\n",
              "  3.5964185371994972e-06,\n",
              "  1.6259384210570715e-05,\n",
              "  -9.647016850067303e-05,\n",
              "  -0.00014712590200360864,\n",
              "  -0.0002009979943977669,\n",
              "  -0.0001522023230791092,\n",
              "  -3.272616959293373e-05,\n",
              "  3.016117261722684e-06,\n",
              "  -1.8285489204572514e-05,\n",
              "  -5.8145105867879465e-05,\n",
              "  -0.00013564775872509927,\n",
              "  -0.00017560424748808146,\n",
              "  -9.55207651713863e-05,\n",
              "  -6.903810572111979e-05,\n",
              "  -6.749217391188722e-06,\n",
              "  4.1015671740751714e-05,\n",
              "  -0.00010957974154734984,\n",
              "  -0.00016098725609481335,\n",
              "  -2.865146961994469e-05,\n",
              "  0.0001190686016343534,\n",
              "  9.519777813693509e-05,\n",
              "  5.276507363305427e-05,\n",
              "  0.0001434896985301748,\n",
              "  0.00015988925588317215,\n",
              "  0.0001849381224019453,\n",
              "  4.930433078698115e-06,\n",
              "  -0.00024109399237204343,\n",
              "  -0.00010016317537520081,\n",
              "  4.701437501353212e-05,\n",
              "  0.00011809981515398249,\n",
              "  0.0001119306034524925,\n",
              "  -4.3601732613751665e-05,\n",
              "  -7.019289478193969e-05,\n",
              "  -1.5638772310921922e-05,\n",
              "  3.049080987693742e-05,\n",
              "  0.00010139024379896,\n",
              "  9.295795462094247e-05,\n",
              "  -2.1451471184263937e-05,\n",
              "  -3.8223046431085095e-05,\n",
              "  3.557498348527588e-05,\n",
              "  5.622169192065485e-05,\n",
              "  2.2167023416841403e-05,\n",
              "  -6.503897020593286e-05,\n",
              "  -7.2684852057136595e-06,\n",
              "  4.707637708634138e-05,\n",
              "  -7.171194738475606e-05,\n",
              "  -5.528138353838585e-05,\n",
              "  4.395664745970862e-06,\n",
              "  5.8329766034148633e-05,\n",
              "  4.767677637573797e-06,\n",
              "  -6.744929851265624e-05,\n",
              "  5.7422985264565796e-05,\n",
              "  5.7694243878358975e-05,\n",
              "  8.755188900977373e-06,\n",
              "  1.78617519850377e-05,\n",
              "  8.387076377402991e-05,\n",
              "  0.0001874821464298293,\n",
              "  0.0001235424424521625,\n",
              "  0.0001137170402216725,\n",
              "  0.0001268963678739965,\n",
              "  1.9369177607586607e-05,\n",
              "  9.270994632970542e-05,\n",
              "  7.904622179921716e-05,\n",
              "  -5.764934030594304e-06,\n",
              "  8.314611477544531e-05,\n",
              "  0.00010683092841645703,\n",
              "  -6.956512515898794e-05,\n",
              "  -1.704932037682738e-05,\n",
              "  0.00011284513311693445,\n",
              "  -1.1856643141072709e-05,\n",
              "  -0.00012138339661760256,\n",
              "  -0.00017924688290804625,\n",
              "  -7.340925367316231e-05,\n",
              "  -2.8194202968734317e-05,\n",
              "  -7.615284994244576e-05,\n",
              "  -2.586912341939751e-05,\n",
              "  -3.755652505788021e-05,\n",
              "  -0.00014179758727550507,\n",
              "  -0.00022477193851955235,\n",
              "  -0.0002596326230559498,\n",
              "  -7.052615546854213e-05,\n",
              "  -0.00011843829997815192,\n",
              "  -0.00014244861085899174,\n",
              "  -2.7837690140586346e-05,\n",
              "  -1.3577201571024489e-05,\n",
              "  -3.2317344448529184e-05,\n",
              "  -6.81855744915083e-05,\n",
              "  -4.167966471868567e-05,\n",
              "  -0.00013809296069666743,\n",
              "  -0.00015170243568718433,\n",
              "  -7.925295358290896e-05,\n",
              "  4.188370076008141e-05,\n",
              "  3.4311691706534475e-05,\n",
              "  -8.72124801389873e-05,\n",
              "  -0.0002852782781701535,\n",
              "  -0.0001331172970822081,\n",
              "  7.410155376419425e-05,\n",
              "  0.00013679734547622502,\n",
              "  -0.00010249987826682627,\n",
              "  -0.00037109016557224095,\n",
              "  -0.0005060426774434745,\n",
              "  -0.00032305208151228726,\n",
              "  -0.00025571195874363184,\n",
              "  -0.000530548975802958,\n",
              "  -0.0006494516273960471,\n",
              "  -0.0004935220931656659,\n",
              "  1.2662291737797204e-05,\n",
              "  0.0002377920172875747,\n",
              "  4.1623581637395546e-05,\n",
              "  -0.0005333666922524571,\n",
              "  -0.0007647155434824526,\n",
              "  -0.0008579647983424366,\n",
              "  -0.000859540537931025,\n",
              "  -0.0011355028254911304,\n",
              "  -0.0010794674744829535,\n",
              "  -0.001421639695763588,\n",
              "  -0.0010149362497031689,\n",
              "  -0.000640995625872165,\n",
              "  -0.0009241985389962792,\n",
              "  -0.0014270119136199355,\n",
              "  -0.0018761858809739351,\n",
              "  -0.001569391810335219,\n",
              "  -0.0013415779685601592,\n",
              "  -0.0009429492056369781,\n",
              "  -0.0014026026474311948,\n",
              "  -0.0019787552300840616,\n",
              "  -0.002568438183516264,\n",
              "  -0.0020341852214187384,\n",
              "  -0.0016919947229325771,\n",
              "  -0.0011853971518576145,\n",
              "  -0.001883127260953188,\n",
              "  -0.002265258226543665,\n",
              "  -0.0016701812855899334,\n",
              "  -0.001817859709262848,\n",
              "  -0.001780733815394342,\n",
              "  -0.0016650308389216661,\n",
              "  -0.001557396026328206,\n",
              "  -0.0017491161124780774,\n",
              "  -0.0013459024485200644,\n",
              "  -0.0016566884005442262,\n",
              "  -0.0020749324467033148,\n",
              "  -0.0023612547665834427,\n",
              "  -0.0019125588005408645,\n",
              "  -0.0023198137059807777,\n",
              "  -0.002976920921355486,\n",
              "  -0.002838698448613286,\n",
              "  -0.002629272174090147,\n",
              "  -0.0023003765381872654,\n",
              "  -0.0021915587130934,\n",
              "  -0.0023685824126005173,\n",
              "  -0.0026155973318964243,\n",
              "  -0.0020135436207056046,\n",
              "  -0.0016220887191593647,\n",
              "  -0.0020318066235631704,\n",
              "  -0.00242966553196311,\n",
              "  -0.0025687478482723236,\n",
              "  -0.0014498236123472452,\n",
              "  0.00010327355994377285,\n",
              "  -0.00013569038128480315,\n",
              "  -0.0007234404911287129,\n",
              "  0.00016718516417313367,\n",
              "  0.0011331831337884068,\n",
              "  0.0009163326467387378,\n",
              "  0.0002360908401897177,\n",
              "  -0.0004573467595037073,\n",
              "  0.0007566568092443049,\n",
              "  0.00183133187238127,\n",
              "  0.0013188484590500593,\n",
              "  0.0007863616337999701,\n",
              "  0.000977607211098075,\n",
              "  0.002217134227976203,\n",
              "  0.0031997861806303263,\n",
              "  0.0021757627837359905,\n",
              "  0.0009523200569674373,\n",
              "  0.000214557207073085,\n",
              "  -0.0004042545333504677,\n",
              "  0.0009369071922264993,\n",
              "  0.0003543201892171055,\n",
              "  3.3852487831609324e-05,\n",
              "  0.00036931451177224517,\n",
              "  0.00013335428957361728,\n",
              "  0.001024458440952003,\n",
              "  0.0007265833555720747,\n",
              "  0.00012769731984008104,\n",
              "  0.0002628921065479517,\n",
              "  4.930554860038683e-05,\n",
              "  -0.0010613480117172003,\n",
              "  -0.001610302715562284,\n",
              "  -0.002058834070339799,\n",
              "  -0.0011474222410470247,\n",
              "  -0.0005396197084337473,\n",
              "  7.26813159417361e-05,\n",
              "  0.0007621996919624507,\n",
              "  0.0010743323946371675,\n",
              "  0.0005273749120533466,\n",
              "  -0.0006265011616051197,\n",
              "  -0.00043032062239944935,\n",
              "  -5.795935066998936e-06,\n",
              "  0.000934045878238976,\n",
              "  0.00028446121723391116,\n",
              "  0.0005313691799528897,\n",
              "  0.00027885971940122545,\n",
              "  0.0002024556597461924,\n",
              "  -0.00012407274334691465,\n",
              "  -0.0008220180752687156,\n",
              "  -0.0009329466847702861,\n",
              "  -0.0012756198411807418,\n",
              "  -0.0017088394379243255,\n",
              "  -0.0017569375922903419,\n",
              "  -0.0021378109231591225,\n",
              "  -0.002185306278988719,\n",
              "  -0.0016076015308499336,\n",
              "  -0.0013943781377747655,\n",
              "  -0.0009310071473009884,\n",
              "  -0.0017922748811542988,\n",
              "  -0.0010149929439648986,\n",
              "  -0.0015249139396473765,\n",
              "  -0.0012199680786579847,\n",
              "  -0.0012130452087149024,\n",
              "  -0.0030649984255433083,\n",
              "  -0.0038320771418511868,\n",
              "  -0.0032576157245785,\n",
              "  -0.0021286741830408573,\n",
              "  -0.0001513507595518604,\n",
              "  4.2441235564183444e-05,\n",
              "  5.859715020051226e-05,\n",
              "  -0.0006652786396443844,\n",
              "  -0.0008017123909667134,\n",
              "  0.0004953527241013944,\n",
              "  -0.0005213988479226828,\n",
              "  0.0005572938243858516,\n",
              "  0.0017065041465684772,\n",
              "  0.002970439847558737,\n",
              "  0.002618402475491166,\n",
              "  0.0019597504287958145,\n",
              "  0.0016920131165534258,\n",
              "  0.001791417016647756,\n",
              "  0.0019933658186346292,\n",
              "  0.0033903541043400764,\n",
              "  0.004144742619246244,\n",
              "  0.004381443839520216,\n",
              "  0.002976231276988983,\n",
              "  0.0030218239407986403,\n",
              "  0.0035157392267137766,\n",
              "  0.0020215045660734177,\n",
              "  0.002832410391420126,\n",
              "  0.0031354371458292007,\n",
              "  0.004671002272516489,\n",
              "  0.004642305430024862,\n",
              "  0.0033337620552629232,\n",
              "  0.0014514339854940772,\n",
              "  -0.00037329705082811415,\n",
              "  -9.55798604991287e-05,\n",
              "  0.0017438826616853476,\n",
              "  0.0012935292907059193,\n",
              "  0.0020215418189764023,\n",
              "  0.001457382459193468,\n",
              "  0.0012055599363520741,\n",
              "  0.001743170665577054,\n",
              "  0.0014979168772697449,\n",
              "  0.0013734069652855396,\n",
              "  0.0004073043819516897,\n",
              "  0.0004725010658148676,\n",
              "  -0.00033762550447136164,\n",
              "  -0.00106404151301831,\n",
              "  -0.0013959718635305762,\n",
              "  -0.001228448818437755,\n",
              "  -0.0018254363676533103,\n",
              "  -0.0012479504803195596,\n",
              "  -0.001164784305728972,\n",
              "  -0.0001366204087389633,\n",
              "  -0.00041689714998938143,\n",
              "  0.000496425200253725,\n",
              "  0.001192925963550806,\n",
              "  0.000457057700259611,\n",
              "  -0.0005156394327059388,\n",
              "  -0.001034314394928515,\n",
              "  0.0008084392757155001,\n",
              "  0.0021986626088619232,\n",
              "  0.003381457645446062,\n",
              "  0.0028660765383392572,\n",
              "  0.002836276777088642,\n",
              "  0.0009304207051172853,\n",
              "  -0.0005427033174782991,\n",
              "  -0.0011634106049314141,\n",
              "  -0.0011224271729588509,\n",
              "  -0.0001816843287087977,\n",
              "  -0.00029878696659579873,\n",
              "  -0.00038093593320809305,\n",
              "  0.0007165017304942012,\n",
              "  0.0005911566549912095,\n",
              "  0.00041543878614902496,\n",
              "  0.0013150237500667572,\n",
              "  -7.333949906751513e-05,\n",
              "  0.0019471392733976245,\n",
              "  0.001350020058453083,\n",
              "  -0.0014823301462456584,\n",
              "  -0.0017097888048738241,\n",
              "  -0.0019178562797605991,\n",
              "  0.0010532778687775135,\n",
              "  0.0039703575894236565,\n",
              "  0.004350175149738789,\n",
              "  0.0035029160790145397,\n",
              "  0.0036972693633288145,\n",
              "  0.0058209546841681,\n",
              "  0.008054868318140507,\n",
              "  0.006377858109772205,\n",
              "  0.004465239588171244,\n",
              "  0.004812662955373526,\n",
              "  0.007553269155323505,\n",
              "  0.01021585613489151,\n",
              "  0.008586256764829159,\n",
              "  0.008014516904950142,\n",
              "  0.01119944266974926,\n",
              "  0.012953795492649078,\n",
              "  0.010577093809843063,\n",
              "  0.00870303250849247,\n",
              "  0.00691511994227767,\n",
              "  0.00662561459466815,\n",
              "  0.00840402115136385,\n",
              "  0.007585953921079636,\n",
              "  0.005653479602187872,\n",
              "  0.005278904922306538,\n",
              "  0.006139831617474556,\n",
              "  0.006389800924807787,\n",
              "  0.005395178683102131,\n",
              "  0.0036852448247373104,\n",
              "  0.0013273039367049932,\n",
              "  0.0031118104234337807,\n",
              "  0.00346857076510787,\n",
              "  0.0023197876289486885,\n",
              "  0.0016285181045532227,\n",
              "  0.0032190275378525257,\n",
              "  0.00435094628483057,\n",
              "  0.0032892217859625816,\n",
              "  0.004686540924012661,\n",
              "  0.005453336518257856,\n",
              "  0.004799020476639271,\n",
              "  0.005976068787276745,\n",
              "  0.0020757936872541904,\n",
              "  -0.01058118138462305,\n",
              "  -0.012147161178290844,\n",
              "  -0.013316924683749676,\n",
              "  -0.018923962488770485,\n",
              "  -0.027314677834510803,\n",
              "  -0.033275704830884933,\n",
              "  -0.034854527562856674,\n",
              "  -0.032999858260154724,\n",
              "  -0.03187312185764313,\n",
              "  -0.03602590784430504,\n",
              "  -0.03703337535262108,\n",
              "  -0.037441153079271317,\n",
              "  -0.03839798644185066,\n",
              "  -0.03968384489417076,\n",
              "  -0.03740042820572853,\n",
              "  -0.041238971054553986,\n",
              "  -0.04370196536183357,\n",
              "  -0.045314110815525055,\n",
              "  -0.046963170170784,\n",
              "  -0.04527974873781204,\n",
              "  -0.042566727846860886,\n",
              "  -0.042103953659534454,\n",
              "  -0.038511134684085846,\n",
              "  -0.02908238209784031,\n",
              "  -0.023428497835993767,\n",
              "  -0.02138346992433071,\n",
              "  -0.024334587156772614,\n",
              "  -0.024731077253818512,\n",
              "  -0.025829048827290535,\n",
              "  -0.031302984803915024,\n",
              "  -0.03418033942580223,\n",
              "  -0.030829481780529022,\n",
              "  -0.023701241239905357,\n",
              "  -0.021982301026582718,\n",
              "  -0.022198934108018875,\n",
              "  -0.013876492157578468,\n",
              "  -0.004465356469154358,\n",
              "  0.0033132031094282866,\n",
              "  0.008051433600485325,\n",
              "  0.009054478257894516,\n",
              "  0.011796682141721249,\n",
              "  0.01422924641519785,\n",
              "  0.00914737954735756,\n",
              "  -0.00036356903729029,\n",
              "  -0.010824615135788918,\n",
              "  -0.011189728043973446,\n",
              "  -0.0071350689977407455,\n",
              "  0.0003838735865429044,\n",
              "  0.012557988055050373,\n",
              "  0.017634358257055283,\n",
              "  0.02124851755797863,\n",
              "  0.020017648115754128,\n",
              "  0.02079172618687153,\n",
              "  0.020934373140335083,\n",
              "  0.01907932758331299,\n",
              "  0.017490161582827568,\n",
              "  0.015097066760063171,\n",
              "  0.009120085276663303,\n",
              "  0.0049889725632965565,\n",
              "  0.0042099179700016975,\n",
              "  0.004559704102575779,\n",
              "  -0.0010965310502797365,\n",
              "  -0.013747693970799446,\n",
              "  -0.017075415700674057,\n",
              "  -0.01795993745326996,\n",
              "  -0.019757844507694244,\n",
              "  -0.030982108786702156,\n",
              "  -0.0458768755197525,\n",
              "  -0.05589177832007408,\n",
              "  -0.06430280953645706,\n",
              "  -0.06816612929105759,\n",
              "  -0.07125309109687805,\n",
              "  -0.07369806617498398,\n",
              "  -0.06758313626050949,\n",
              "  -0.05841110274195671,\n",
              "  -0.06038571521639824,\n",
              "  -0.06127842143177986,\n",
              "  -0.06560666859149933,\n",
              "  -0.07031464576721191,\n",
              "  -0.0704546570777893,\n",
              "  -0.07353772968053818,\n",
              "  -0.07437759637832642,\n",
              "  -0.07299786061048508,\n",
              "  -0.06854543089866638,\n",
              "  -0.06697617471218109,\n",
              "  -0.06461306661367416,\n",
              "  -0.058474570512771606,\n",
              "  -0.049491483718156815,\n",
              "  -0.04689464718103409,\n",
              "  -0.04159319028258324,\n",
              "  -0.03801529482007027,\n",
              "  -0.035663310438394547,\n",
              "  -0.03324980288743973,\n",
              "  -0.037415266036987305,\n",
              "  -0.03191213682293892,\n",
              "  -0.02660440467298031,\n",
              "  -0.027360916137695312,\n",
              "  -0.02878464013338089,\n",
              "  -0.02249874919652939,\n",
              "  -0.012554996646940708,\n",
              "  -0.0018093548715114594,\n",
              "  0.010437553748488426,\n",
              "  0.018786314874887466,\n",
              "  0.02224903739988804,\n",
              "  0.02563665807247162,\n",
              "  0.024541370570659637,\n",
              "  0.02700164169073105,\n",
              "  0.031464919447898865,\n",
              "  0.03409609943628311,\n",
              "  0.047516241669654846,\n",
              "  0.06171002611517906,\n",
              "  0.06688766926527023,\n",
              "  0.06937476992607117,\n",
              "  0.06465902179479599,\n",
              "  0.0711081475019455,\n",
              "  0.0900808647274971,\n",
              "  0.0909106582403183,\n",
              "  0.08178086578845978,\n",
              "  0.07339536398649216,\n",
              "  0.06646156311035156,\n",
              "  0.06388996541500092,\n",
              "  0.0567227303981781,\n",
              "  0.05378006771206856,\n",
              "  0.07289507985115051,\n",
              "  0.08003794401884079,\n",
              "  0.08321113139390945,\n",
              "  0.07704472541809082,\n",
              "  0.06638189405202866,\n",
              "  0.06331939995288849,\n",
              "  0.056571800261735916,\n",
              "  0.044740427285432816,\n",
              "  0.03125930204987526,\n",
              "  0.022857919335365295,\n",
              "  0.013522679917514324,\n",
              "  0.005878506228327751,\n",
              "  0.005173177924007177,\n",
              "  0.007782049011439085,\n",
              "  -0.004193154163658619,\n",
              "  -0.007620868738740683,\n",
              "  -0.023243695497512817,\n",
              "  -0.029867736622691154,\n",
              "  -0.02095196768641472,\n",
              "  -0.017838405445218086,\n",
              "  -0.011533405631780624,\n",
              "  -0.010044761933386326,\n",
              "  -0.014378593303263187,\n",
              "  -0.02392943575978279,\n",
              "  -0.03404669836163521,\n",
              "  -0.026799211278557777,\n",
              "  -0.012010738253593445,\n",
              "  -0.0074979038909077644,\n",
              "  0.004800613969564438,\n",
              "  0.013342002406716347,\n",
              "  0.020234713330864906,\n",
              "  0.026917582377791405,\n",
              "  0.02887616492807865,\n",
              "  0.02361356094479561,\n",
              "  0.03378995507955551,\n",
              "  0.04854991286993027,\n",
              "  0.05203251168131828,\n",
              "  0.054780229926109314,\n",
              "  0.06064782291650772,\n",
              "  0.0647478699684143,\n",
              "  0.07034710794687271,\n",
              "  0.0755932554602623,\n",
              "  0.07486110180616379,\n",
              "  0.06837763637304306,\n",
              "  0.061148278415203094,\n",
              "  0.054481394588947296,\n",
              "  0.05126521363854408,\n",
              "  0.04228920117020607,\n",
              "  0.018386922776699066,\n",
              "  0.0046739825047552586,\n",
              "  -0.009252522140741348,\n",
              "  -0.011500781401991844,\n",
              "  -0.016830135136842728,\n",
              "  -0.028826553374528885,\n",
              "  -0.03660555183887482,\n",
              "  -0.03827647119760513,\n",
              "  -0.04129371792078018,\n",
              "  -0.0501016229391098,\n",
              "  -0.08724792301654816,\n",
              "  -0.12636469304561615,\n",
              "  -0.14424258470535278,\n",
              "  -0.15803909301757812,\n",
              "  -0.1573271006345749,\n",
              "  -0.1729474514722824,\n",
              "  -0.19894073903560638,\n",
              "  -0.21244430541992188,\n",
              "  -0.21035295724868774,\n",
              "  -0.21747297048568726,\n",
              "  -0.22567543387413025,\n",
              "  -0.23722587525844574,\n",
              "  -0.2527931332588196,\n",
              "  -0.25984981656074524,\n",
              "  -0.2558051645755768,\n",
              "  -0.2586679756641388,\n",
              "  -0.2650839686393738,\n",
              "  -0.27472442388534546,\n",
              "  -0.287720263004303,\n",
              "  -0.28793850541114807,\n",
              "  -0.2854868173599243,\n",
              "  -0.2758657932281494,\n",
              "  -0.2611391544342041,\n",
              "  -0.25575724244117737,\n",
              "  -0.27103492617607117,\n",
              "  -0.2794129550457001,\n",
              "  -0.2812364995479584,\n",
              "  -0.2763140797615051,\n",
              "  -0.2689463794231415,\n",
              "  -0.2762732207775116,\n",
              "  -0.27969399094581604,\n",
              "  -0.26874053478240967,\n",
              "  -0.272430419921875,\n",
              "  -0.27951526641845703,\n",
              "  -0.27495086193084717,\n",
              "  -0.26433640718460083,\n",
              "  -0.24889037013053894,\n",
              "  -0.23581819236278534,\n",
              "  -0.23303015530109406,\n",
              "  -0.22488486766815186,\n",
              "  -0.20635321736335754,\n",
              "  -0.18541312217712402,\n",
              "  -0.15488232672214508,\n",
              "  -0.1341177523136139,\n",
              "  -0.11328217387199402,\n",
              "  -0.08671363443136215,\n",
              "  -0.05064931884407997,\n",
              "  -0.015934810042381287,\n",
              "  0.020801793783903122,\n",
              "  0.05991346016526222,\n",
              "  0.10268711298704147,\n",
              "  0.15339593589305878,\n",
              "  0.19685856997966766,\n",
              "  0.2307186722755432,\n",
              "  0.2632990777492523,\n",
              "  0.2892645299434662,\n",
              "  0.3121275007724762,\n",
              "  0.3435281813144684,\n",
              "  0.36826997995376587,\n",
              "  0.39330819249153137,\n",
              "  0.41941702365875244,\n",
              "  0.4504171907901764,\n",
              "  0.48188936710357666,\n",
              "  0.506225049495697,\n",
              "  0.5147456526756287,\n",
              "  0.518253743648529,\n",
              "  0.5224383473396301,\n",
              "  0.5203130841255188,\n",
              "  0.5187642574310303,\n",
              "  0.5145847797393799,\n",
              "  0.49914059042930603,\n",
              "  0.48035892844200134,\n",
              "  0.45923560857772827,\n",
              "  0.43046435713768005,\n",
              "  0.4112527668476105,\n",
              "  0.3895089626312256,\n",
              "  0.36989328265190125,\n",
              "  0.35326501727104187,\n",
              "  0.3255783021450043,\n",
              "  0.3006666600704193,\n",
              "  0.2701358199119568,\n",
              "  0.23559832572937012,\n",
              "  0.21310120820999146,\n",
              "  0.18939408659934998,\n",
              "  0.15939776599407196,\n",
              "  0.12744645774364471,\n",
              "  0.09795139729976654,\n",
              "  0.06740397214889526,\n",
              "  0.036973852664232254,\n",
              "  0.002749539678916335,\n",
              "  -0.033107683062553406,\n",
              "  -0.06574074178934097,\n",
              "  -0.10775449872016907,\n",
              "  -0.15131650865077972,\n",
              "  -0.19456997513771057,\n",
              "  -0.2335900515317917,\n",
              "  -0.26706916093826294,\n",
              "  -0.30209189653396606,\n",
              "  -0.3356330096721649,\n",
              "  -0.3650587499141693,\n",
              "  -0.38836395740509033,\n",
              "  -0.4162081778049469,\n",
              "  -0.4505482017993927,\n",
              "  -0.4822111129760742,\n",
              "  -0.5155393481254578,\n",
              "  -0.539977490901947,\n",
              "  -0.5644629597663879,\n",
              "  -0.5926416516304016,\n",
              "  -0.6103677153587341,\n",
              "  -0.6284804940223694,\n",
              "  -0.6308848261833191,\n",
              "  -0.6180633902549744,\n",
              "  -0.6068230867385864,\n",
              "  -0.5845407843589783,\n",
              "  -0.5560322999954224,\n",
              "  -0.5278276205062866,\n",
              "  -0.4975632131099701,\n",
              "  -0.47116872668266296,\n",
              "  -0.43668437004089355,\n",
              "  -0.3986886143684387,\n",
              "  -0.3654344081878662,\n",
              "  -0.3228556215763092,\n",
              "  -0.2737347483634949,\n",
              "  -0.21762537956237793,\n",
              "  -0.16623333096504211,\n",
              "  -0.12414850294589996,\n",
              "  -0.07817498594522476,\n",
              "  -0.027979539707303047,\n",
              "  0.02674180641770363,\n",
              "  0.07307422161102295,\n",
              "  0.11012085527181625,\n",
              "  0.14180104434490204,\n",
              "  0.16982223093509674,\n",
              "  0.195820614695549,\n",
              "  0.20416395366191864,\n",
              "  0.2023787945508957,\n",
              "  0.20668211579322815,\n",
              "  0.21722359955310822,\n",
              "  0.22213564813137054,\n",
              "  0.2121734619140625,\n",
              "  0.1923941820859909,\n",
              "  0.17215877771377563,\n",
              "  0.15883812308311462,\n",
              "  0.13694354891777039,\n",
              "  0.10968059301376343,\n",
              "  0.0876728966832161,\n",
              "  0.06372183561325073,\n",
              "  0.04564451798796654,\n",
              "  0.02900005504488945,\n",
              "  0.016686223447322845,\n",
              "  0.01334486622363329,\n",
              "  0.013333224691450596,\n",
              "  0.017280567437410355,\n",
              "  0.0276077501475811,\n",
              "  0.05251658335328102,\n",
              "  0.0809875875711441,\n",
              "  0.10667366534471512,\n",
              "  0.1320205181837082,\n",
              "  0.15394224226474762,\n",
              "  0.18610072135925293,\n",
              "  0.2239566296339035,\n",
              "  0.25935378670692444,\n",
              "  ...],\n",
              " 'input_length': 100800,\n",
              " 'labels': [10,\n",
              "  15,\n",
              "  5,\n",
              "  0,\n",
              "  11,\n",
              "  5,\n",
              "  1,\n",
              "  20,\n",
              "  15,\n",
              "  14,\n",
              "  0,\n",
              "  4,\n",
              "  9,\n",
              "  19,\n",
              "  1,\n",
              "  16,\n",
              "  16,\n",
              "  18,\n",
              "  15,\n",
              "  22,\n",
              "  5,\n",
              "  4,\n",
              "  0,\n",
              "  15,\n",
              "  6,\n",
              "  0,\n",
              "  6,\n",
              "  9,\n",
              "  12,\n",
              "  13,\n",
              "  19,\n",
              "  0,\n",
              "  1,\n",
              "  14,\n",
              "  4,\n",
              "  0,\n",
              "  2,\n",
              "  21,\n",
              "  19,\n",
              "  20,\n",
              "  5,\n",
              "  18,\n",
              "  0,\n",
              "  1,\n",
              "  12,\n",
              "  19,\n",
              "  15,\n",
              "  0,\n",
              "  8,\n",
              "  1,\n",
              "  4,\n",
              "  0,\n",
              "  18,\n",
              "  5,\n",
              "  19,\n",
              "  5,\n",
              "  18,\n",
              "  22,\n",
              "  1,\n",
              "  20,\n",
              "  9,\n",
              "  15,\n",
              "  14,\n",
              "  19,\n",
              "  0,\n",
              "  1,\n",
              "  2,\n",
              "  15,\n",
              "  21,\n",
              "  20,\n",
              "  0,\n",
              "  20,\n",
              "  8,\n",
              "  5,\n",
              "  0,\n",
              "  13,\n",
              "  5,\n",
              "  4,\n",
              "  9,\n",
              "  21,\n",
              "  13]}"
            ]
          },
          "execution_count": 101,
          "metadata": {},
          "output_type": "execute_result"
        }
      ],
      "source": [
        "onesample=test_dataset[0]\n",
        "onesample"
      ]
    },
    {
      "cell_type": "code",
      "execution_count": 117,
      "metadata": {},
      "outputs": [
        {
          "data": {
            "text/plain": [
              "[10,\n",
              " 15,\n",
              " 5,\n",
              " 0,\n",
              " 11,\n",
              " 5,\n",
              " 1,\n",
              " 20,\n",
              " 15,\n",
              " 14,\n",
              " 0,\n",
              " 4,\n",
              " 9,\n",
              " 19,\n",
              " 1,\n",
              " 16,\n",
              " 16,\n",
              " 18,\n",
              " 15,\n",
              " 22,\n",
              " 5,\n",
              " 4,\n",
              " 0,\n",
              " 15,\n",
              " 6,\n",
              " 0,\n",
              " 6,\n",
              " 9,\n",
              " 12,\n",
              " 13,\n",
              " 19,\n",
              " 0,\n",
              " 1,\n",
              " 14,\n",
              " 4,\n",
              " 0,\n",
              " 2,\n",
              " 21,\n",
              " 19,\n",
              " 20,\n",
              " 5,\n",
              " 18,\n",
              " 0,\n",
              " 1,\n",
              " 12,\n",
              " 19,\n",
              " 15,\n",
              " 0,\n",
              " 8,\n",
              " 1,\n",
              " 4,\n",
              " 0,\n",
              " 18,\n",
              " 5,\n",
              " 19,\n",
              " 5,\n",
              " 18,\n",
              " 22,\n",
              " 1,\n",
              " 20,\n",
              " 9,\n",
              " 15,\n",
              " 14,\n",
              " 19,\n",
              " 0,\n",
              " 1,\n",
              " 2,\n",
              " 15,\n",
              " 21,\n",
              " 20,\n",
              " 0,\n",
              " 20,\n",
              " 8,\n",
              " 5,\n",
              " 0,\n",
              " 13,\n",
              " 5,\n",
              " 4,\n",
              " 9,\n",
              " 21,\n",
              " 13]"
            ]
          },
          "execution_count": 117,
          "metadata": {},
          "output_type": "execute_result"
        }
      ],
      "source": [
        "onesample['labels']"
      ]
    },
    {
      "cell_type": "code",
      "execution_count": 103,
      "metadata": {},
      "outputs": [
        {
          "data": {
            "text/plain": [
              "100800"
            ]
          },
          "execution_count": 103,
          "metadata": {},
          "output_type": "execute_result"
        }
      ],
      "source": [
        "len(onesample[\"input_values\"]) #list"
      ]
    },
    {
      "cell_type": "code",
      "execution_count": 104,
      "metadata": {},
      "outputs": [
        {
          "name": "stderr",
          "output_type": "stream",
          "text": [
            "It is strongly recommended to pass the ``sampling_rate`` argument to this function. Failing to do so can result in silent errors that might be hard to debug.\n"
          ]
        }
      ],
      "source": [
        "input_dict = processor(onesample[\"input_values\"], return_tensors=\"pt\", padding=True)"
      ]
    },
    {
      "cell_type": "code",
      "execution_count": 106,
      "metadata": {},
      "outputs": [
        {
          "data": {
            "text/plain": [
              "torch.Size([1, 100800])"
            ]
          },
          "execution_count": 106,
          "metadata": {},
          "output_type": "execute_result"
        }
      ],
      "source": [
        "input_dict.input_values.shape"
      ]
    },
    {
      "cell_type": "code",
      "execution_count": 107,
      "metadata": {},
      "outputs": [],
      "source": [
        "model=model.cuda()"
      ]
    },
    {
      "cell_type": "markdown",
      "metadata": {
        "id": "jD7TZ1YS3S_K"
      },
      "source": [
        "\n",
        "Now, we will just take the first example of the test set, run it through the model and take the `argmax(...)` of the logits to retrieve the predicted token ids."
      ]
    },
    {
      "cell_type": "code",
      "execution_count": 108,
      "metadata": {
        "colab": {
          "background_save": true
        },
        "id": "pax07TnL3WZn",
        "outputId": "867787ff-0cb7-41e9-f926-96f7b53e7134"
      },
      "outputs": [
        {
          "name": "stderr",
          "output_type": "stream",
          "text": [
            "/home/lkk/miniconda3/envs/mycondapy310/lib/python3.10/site-packages/torch/utils/checkpoint.py:429: UserWarning: torch.utils.checkpoint: please pass in use_reentrant=True or use_reentrant=False explicitly. The default value of use_reentrant will be updated to be False in the future. To maintain current behavior, pass use_reentrant=True. It is recommended that you use use_reentrant=False. Refer to docs for more details on the differences between the two variants.\n",
            "  warnings.warn(\n"
          ]
        }
      ],
      "source": [
        "logits = model(input_dict.input_values.to(\"cuda\")).logits"
      ]
    },
    {
      "cell_type": "code",
      "execution_count": 109,
      "metadata": {},
      "outputs": [
        {
          "data": {
            "text/plain": [
              "torch.Size([1, 314, 33])"
            ]
          },
          "execution_count": 109,
          "metadata": {},
          "output_type": "execute_result"
        }
      ],
      "source": [
        "logits.shape"
      ]
    },
    {
      "cell_type": "code",
      "execution_count": 110,
      "metadata": {},
      "outputs": [
        {
          "data": {
            "text/plain": [
              "torch.Size([1, 314])"
            ]
          },
          "execution_count": 110,
          "metadata": {},
          "output_type": "execute_result"
        }
      ],
      "source": [
        "pred_ids = torch.argmax(logits, dim=-1)\n",
        "pred_ids.shape"
      ]
    },
    {
      "cell_type": "code",
      "execution_count": 111,
      "metadata": {},
      "outputs": [],
      "source": [
        "pred_id=pred_ids[0]"
      ]
    },
    {
      "cell_type": "code",
      "execution_count": 112,
      "metadata": {},
      "outputs": [
        {
          "data": {
            "text/plain": [
              "torch.Size([314])"
            ]
          },
          "execution_count": 112,
          "metadata": {},
          "output_type": "execute_result"
        }
      ],
      "source": [
        "pred_id.shape"
      ]
    },
    {
      "cell_type": "code",
      "execution_count": 116,
      "metadata": {},
      "outputs": [
        {
          "data": {
            "text/plain": [
              "['[PAD]',\n",
              " '[PAD]',\n",
              " '[PAD]',\n",
              " '[PAD]',\n",
              " '[PAD]',\n",
              " '[PAD]',\n",
              " '[PAD]',\n",
              " '[PAD]',\n",
              " '[PAD]',\n",
              " '[PAD]',\n",
              " '[PAD]',\n",
              " '[PAD]',\n",
              " '[PAD]',\n",
              " '[PAD]',\n",
              " '[PAD]',\n",
              " '[PAD]',\n",
              " '[PAD]',\n",
              " '[PAD]',\n",
              " '[PAD]',\n",
              " '[PAD]',\n",
              " '[PAD]',\n",
              " '[PAD]',\n",
              " '[PAD]',\n",
              " '[PAD]',\n",
              " '[PAD]',\n",
              " '[PAD]',\n",
              " '[PAD]',\n",
              " '[PAD]',\n",
              " '[PAD]',\n",
              " '[PAD]',\n",
              " '[PAD]',\n",
              " '[PAD]',\n",
              " '[PAD]',\n",
              " '[PAD]',\n",
              " '[PAD]',\n",
              " '[PAD]',\n",
              " '[PAD]',\n",
              " '[PAD]',\n",
              " 'j',\n",
              " '[PAD]',\n",
              " '[PAD]',\n",
              " '[PAD]',\n",
              " '[PAD]',\n",
              " 'o',\n",
              " 'o',\n",
              " 'o',\n",
              " 'l',\n",
              " 'l',\n",
              " 'l',\n",
              " '[PAD]',\n",
              " '[PAD]',\n",
              " '[PAD]',\n",
              " '[PAD]',\n",
              " 'c',\n",
              " '[PAD]',\n",
              " '[PAD]',\n",
              " '[PAD]',\n",
              " '[PAD]',\n",
              " 'a',\n",
              " 'a',\n",
              " '[PAD]',\n",
              " '[PAD]',\n",
              " 't',\n",
              " 'e',\n",
              " 's',\n",
              " 's',\n",
              " '',\n",
              " '[PAD]',\n",
              " '[PAD]',\n",
              " 'o',\n",
              " 'o',\n",
              " 'n',\n",
              " '[PAD]',\n",
              " '',\n",
              " '[PAD]',\n",
              " 'd',\n",
              " '[PAD]',\n",
              " 'i',\n",
              " 's',\n",
              " 's',\n",
              " '[PAD]',\n",
              " '[PAD]',\n",
              " '[PAD]',\n",
              " '[PAD]',\n",
              " 'a',\n",
              " 'p',\n",
              " '[PAD]',\n",
              " '[PAD]',\n",
              " 'p',\n",
              " 'p',\n",
              " '[PAD]',\n",
              " 'r',\n",
              " 'r',\n",
              " '[PAD]',\n",
              " '[PAD]',\n",
              " '[PAD]',\n",
              " 'o',\n",
              " 'o',\n",
              " 'o',\n",
              " '[PAD]',\n",
              " '[PAD]',\n",
              " 'v',\n",
              " 'e',\n",
              " 'e',\n",
              " 'd',\n",
              " '',\n",
              " '',\n",
              " '[PAD]',\n",
              " '[PAD]',\n",
              " 'o',\n",
              " 'o',\n",
              " 'f',\n",
              " '',\n",
              " '',\n",
              " '[PAD]',\n",
              " '[PAD]',\n",
              " '[PAD]',\n",
              " 'f',\n",
              " 'f',\n",
              " '[PAD]',\n",
              " '[PAD]',\n",
              " 'i',\n",
              " 'i',\n",
              " 'i',\n",
              " 'l',\n",
              " 'r',\n",
              " '[PAD]',\n",
              " '[PAD]',\n",
              " '[PAD]',\n",
              " 'm',\n",
              " 'm',\n",
              " '[PAD]',\n",
              " '[PAD]',\n",
              " 's',\n",
              " 's',\n",
              " '',\n",
              " '',\n",
              " '[PAD]',\n",
              " '[PAD]',\n",
              " '[PAD]',\n",
              " '[PAD]',\n",
              " 'a',\n",
              " 'a',\n",
              " 'n',\n",
              " 'n',\n",
              " 'd',\n",
              " 'd',\n",
              " '',\n",
              " '[PAD]',\n",
              " 'b',\n",
              " '[PAD]',\n",
              " '[PAD]',\n",
              " '[PAD]',\n",
              " 'u',\n",
              " '[PAD]',\n",
              " '[PAD]',\n",
              " 's',\n",
              " '[PAD]',\n",
              " '[PAD]',\n",
              " '[PAD]',\n",
              " 't',\n",
              " '[PAD]',\n",
              " '[PAD]',\n",
              " 'e',\n",
              " 'e',\n",
              " 'r',\n",
              " 'r',\n",
              " '',\n",
              " '',\n",
              " '[PAD]',\n",
              " 'a',\n",
              " 'a',\n",
              " 'l',\n",
              " 'l',\n",
              " '[PAD]',\n",
              " '[PAD]',\n",
              " 's',\n",
              " '[PAD]',\n",
              " '[PAD]',\n",
              " 'o',\n",
              " 'o',\n",
              " '',\n",
              " '',\n",
              " '',\n",
              " 'h',\n",
              " 'h',\n",
              " '[PAD]',\n",
              " '[PAD]',\n",
              " '[PAD]',\n",
              " 'a',\n",
              " 'a',\n",
              " '[PAD]',\n",
              " 'd',\n",
              " 'd',\n",
              " '',\n",
              " 'r',\n",
              " 'r',\n",
              " '[PAD]',\n",
              " 'e',\n",
              " '[PAD]',\n",
              " '[PAD]',\n",
              " '[PAD]',\n",
              " '[PAD]',\n",
              " '[PAD]',\n",
              " '[PAD]',\n",
              " 'e',\n",
              " 'r',\n",
              " 'r',\n",
              " '[PAD]',\n",
              " '[PAD]',\n",
              " '[PAD]',\n",
              " 'v',\n",
              " '[PAD]',\n",
              " '[PAD]',\n",
              " '[PAD]',\n",
              " 'a',\n",
              " 'a',\n",
              " '[PAD]',\n",
              " '[PAD]',\n",
              " 't',\n",
              " 't',\n",
              " 'i',\n",
              " 'i',\n",
              " '[PAD]',\n",
              " 'o',\n",
              " 'o',\n",
              " 'n',\n",
              " '[PAD]',\n",
              " '[PAD]',\n",
              " '[PAD]',\n",
              " '',\n",
              " '',\n",
              " '[PAD]',\n",
              " '[PAD]',\n",
              " '[PAD]',\n",
              " '[PAD]',\n",
              " '[PAD]',\n",
              " '[PAD]',\n",
              " '[PAD]',\n",
              " '[PAD]',\n",
              " '[PAD]',\n",
              " 'o',\n",
              " 'u',\n",
              " 'f',\n",
              " 'f',\n",
              " '',\n",
              " '',\n",
              " 't',\n",
              " 'h',\n",
              " 'e',\n",
              " 'e',\n",
              " '',\n",
              " '[PAD]',\n",
              " 'm',\n",
              " '[PAD]',\n",
              " '[PAD]',\n",
              " 'e',\n",
              " 'e',\n",
              " 'e',\n",
              " 'e',\n",
              " '[PAD]',\n",
              " '[PAD]',\n",
              " '[PAD]',\n",
              " 'd',\n",
              " 'i',\n",
              " 'i',\n",
              " '[PAD]',\n",
              " '[PAD]',\n",
              " 'n',\n",
              " 'n',\n",
              " '[PAD]',\n",
              " '[PAD]',\n",
              " '[PAD]',\n",
              " '[PAD]',\n",
              " '[PAD]',\n",
              " '[PAD]',\n",
              " '[PAD]',\n",
              " '[PAD]',\n",
              " '[PAD]',\n",
              " '[PAD]',\n",
              " '[PAD]',\n",
              " '[PAD]',\n",
              " '[PAD]',\n",
              " '[PAD]',\n",
              " '[PAD]',\n",
              " '[PAD]',\n",
              " '[PAD]',\n",
              " '[PAD]',\n",
              " '[PAD]',\n",
              " '[PAD]',\n",
              " '[PAD]',\n",
              " '[PAD]',\n",
              " '[PAD]',\n",
              " '[PAD]',\n",
              " '[PAD]',\n",
              " '[PAD]',\n",
              " '[PAD]',\n",
              " '[PAD]',\n",
              " '[PAD]',\n",
              " '[PAD]',\n",
              " '[PAD]',\n",
              " '[PAD]',\n",
              " '[PAD]',\n",
              " '[PAD]',\n",
              " '[PAD]',\n",
              " '[PAD]',\n",
              " '[PAD]',\n",
              " '[PAD]',\n",
              " '[PAD]',\n",
              " '[PAD]',\n",
              " '[PAD]',\n",
              " '[PAD]',\n",
              " '[PAD]',\n",
              " '[PAD]']"
            ]
          },
          "execution_count": 116,
          "metadata": {},
          "output_type": "execute_result"
        }
      ],
      "source": [
        "predicted_sentence = processor.batch_decode(pred_id)\n",
        "predicted_sentence"
      ]
    },
    {
      "cell_type": "code",
      "execution_count": 115,
      "metadata": {},
      "outputs": [
        {
          "data": {
            "text/plain": [
              "['jolcates on disapproved of filrms and buster also had reervation ouf the medin']"
            ]
          },
          "execution_count": 115,
          "metadata": {},
          "output_type": "execute_result"
        }
      ],
      "source": [
        "predicted_sentence = processor.batch_decode(pred_ids)\n",
        "predicted_sentence"
      ]
    },
    {
      "cell_type": "code",
      "execution_count": 121,
      "metadata": {},
      "outputs": [
        {
          "data": {
            "text/plain": [
              "81"
            ]
          },
          "execution_count": 121,
          "metadata": {},
          "output_type": "execute_result"
        }
      ],
      "source": [
        "len(onesample['labels'])"
      ]
    },
    {
      "cell_type": "code",
      "execution_count": 126,
      "metadata": {},
      "outputs": [
        {
          "data": {
            "text/plain": [
              "['joe keaton disapproved of films and buster also had reservations about the medium']"
            ]
          },
          "execution_count": 126,
          "metadata": {},
          "output_type": "execute_result"
        }
      ],
      "source": [
        "label_str=processor.batch_decode([onesample['labels']],group_tokens=False)\n",
        "label_str"
      ]
    },
    {
      "cell_type": "code",
      "execution_count": 123,
      "metadata": {},
      "outputs": [
        {
          "data": {
            "text/plain": [
              "['j',\n",
              " 'o',\n",
              " 'e',\n",
              " '',\n",
              " 'k',\n",
              " 'e',\n",
              " 'a',\n",
              " 't',\n",
              " 'o',\n",
              " 'n',\n",
              " '',\n",
              " 'd',\n",
              " 'i',\n",
              " 's',\n",
              " 'a',\n",
              " 'p',\n",
              " 'p',\n",
              " 'r',\n",
              " 'o',\n",
              " 'v',\n",
              " 'e',\n",
              " 'd',\n",
              " '',\n",
              " 'o',\n",
              " 'f',\n",
              " '',\n",
              " 'f',\n",
              " 'i',\n",
              " 'l',\n",
              " 'm',\n",
              " 's',\n",
              " '',\n",
              " 'a',\n",
              " 'n',\n",
              " 'd',\n",
              " '',\n",
              " 'b',\n",
              " 'u',\n",
              " 's',\n",
              " 't',\n",
              " 'e',\n",
              " 'r',\n",
              " '',\n",
              " 'a',\n",
              " 'l',\n",
              " 's',\n",
              " 'o',\n",
              " '',\n",
              " 'h',\n",
              " 'a',\n",
              " 'd',\n",
              " '',\n",
              " 'r',\n",
              " 'e',\n",
              " 's',\n",
              " 'e',\n",
              " 'r',\n",
              " 'v',\n",
              " 'a',\n",
              " 't',\n",
              " 'i',\n",
              " 'o',\n",
              " 'n',\n",
              " 's',\n",
              " '',\n",
              " 'a',\n",
              " 'b',\n",
              " 'o',\n",
              " 'u',\n",
              " 't',\n",
              " '',\n",
              " 't',\n",
              " 'h',\n",
              " 'e',\n",
              " '',\n",
              " 'm',\n",
              " 'e',\n",
              " 'd',\n",
              " 'i',\n",
              " 'u',\n",
              " 'm']"
            ]
          },
          "execution_count": 123,
          "metadata": {},
          "output_type": "execute_result"
        }
      ],
      "source": [
        "label_str=processor.batch_decode(onesample['labels'],group_tokens=False)\n",
        "label_str"
      ]
    },
    {
      "cell_type": "code",
      "execution_count": 124,
      "metadata": {},
      "outputs": [
        {
          "data": {
            "text/plain": [
              "'joe keaton disapproved of films and buster also had reservations about the medium'"
            ]
          },
          "execution_count": 124,
          "metadata": {},
          "output_type": "execute_result"
        }
      ],
      "source": [
        "label_str=processor.decode(onesample['labels'],group_tokens=False)\n",
        "label_str"
      ]
    },
    {
      "cell_type": "code",
      "execution_count": 125,
      "metadata": {},
      "outputs": [
        {
          "data": {
            "text/plain": [
              "'joe keaton disapproved of films and buster also had reservations about the medium'"
            ]
          },
          "execution_count": 125,
          "metadata": {},
          "output_type": "execute_result"
        }
      ],
      "source": [
        "label_str=processor.tokenizer.decode(onesample['labels'],group_tokens=False)\n",
        "label_str"
      ]
    },
    {
      "cell_type": "markdown",
      "metadata": {
        "id": "7nkzSQu53Zs2"
      },
      "source": [
        "We adapted `common_voice_test` quite a bit so that the dataset instance does not contain the original sentence label anymore. Thus, we re-use the original dataset to get the label of the first example."
      ]
    },
    {
      "cell_type": "code",
      "execution_count": null,
      "metadata": {
        "colab": {
          "background_save": true,
          "referenced_widgets": [
            "54097a6c744849128d7cc3da8aad6609",
            "b8827ecbec9e44f09216f62c1ee12840",
            "8728bb32478240b7abe576375b01e640",
            "19b8a530352a423794395979e6415bea",
            "5fc8ec04870e4bb7b63b20844c355ab6"
          ]
        },
        "id": "fe2AE-2xqKHx",
        "outputId": "1d8321b3-4f41-4d71-e74e-f33f32a7b261"
      },
      "outputs": [
        {
          "name": "stderr",
          "output_type": "stream",
          "text": [
            "Using custom data configuration tr-ad9f7b76efa9f3a0\n"
          ]
        },
        {
          "name": "stdout",
          "output_type": "stream",
          "text": [
            "Downloading and preparing dataset common_voice/tr (download: 592.09 MiB, generated: 2.89 MiB, post-processed: Unknown size, total: 594.98 MiB) to /root/.cache/huggingface/datasets/common_voice/tr-ad9f7b76efa9f3a0/6.1.0/f7a9d973839b7706e9e281c19b7e512f31badf3c0fdbd21c671f3c4bf9acf3b9...\n"
          ]
        },
        {
          "data": {
            "application/vnd.jupyter.widget-view+json": {
              "model_id": "54097a6c744849128d7cc3da8aad6609",
              "version_major": 2,
              "version_minor": 0
            },
            "text/plain": [
              "0 examples [00:00, ? examples/s]"
            ]
          },
          "metadata": {},
          "output_type": "display_data"
        },
        {
          "data": {
            "application/vnd.jupyter.widget-view+json": {
              "model_id": "b8827ecbec9e44f09216f62c1ee12840",
              "version_major": 2,
              "version_minor": 0
            },
            "text/plain": [
              "0 examples [00:00, ? examples/s]"
            ]
          },
          "metadata": {},
          "output_type": "display_data"
        },
        {
          "data": {
            "application/vnd.jupyter.widget-view+json": {
              "model_id": "8728bb32478240b7abe576375b01e640",
              "version_major": 2,
              "version_minor": 0
            },
            "text/plain": [
              "0 examples [00:00, ? examples/s]"
            ]
          },
          "metadata": {},
          "output_type": "display_data"
        },
        {
          "data": {
            "application/vnd.jupyter.widget-view+json": {
              "model_id": "19b8a530352a423794395979e6415bea",
              "version_major": 2,
              "version_minor": 0
            },
            "text/plain": [
              "0 examples [00:00, ? examples/s]"
            ]
          },
          "metadata": {},
          "output_type": "display_data"
        },
        {
          "data": {
            "application/vnd.jupyter.widget-view+json": {
              "model_id": "5fc8ec04870e4bb7b63b20844c355ab6",
              "version_major": 2,
              "version_minor": 0
            },
            "text/plain": [
              "0 examples [00:00, ? examples/s]"
            ]
          },
          "metadata": {},
          "output_type": "display_data"
        },
        {
          "name": "stdout",
          "output_type": "stream",
          "text": [
            "Dataset common_voice downloaded and prepared to /root/.cache/huggingface/datasets/common_voice/tr-ad9f7b76efa9f3a0/6.1.0/f7a9d973839b7706e9e281c19b7e512f31badf3c0fdbd21c671f3c4bf9acf3b9. Subsequent calls will reuse this data.\n"
          ]
        }
      ],
      "source": [
        "common_voice_test_transcription = load_dataset(\"common_voice\", \"tr\", data_dir=\"./cv-corpus-6.1-2020-12-11\", split=\"test\")"
      ]
    },
    {
      "cell_type": "markdown",
      "metadata": {
        "id": "epu8kCQZ3h70"
      },
      "source": [
        "\n",
        "Finally, we can decode the example."
      ]
    },
    {
      "cell_type": "code",
      "execution_count": null,
      "metadata": {
        "colab": {
          "background_save": true
        },
        "id": "K4xWqmk_qMn0",
        "outputId": "d9e40b3c-f02a-48a1-d081-6d7e8b37dcaf"
      },
      "outputs": [
        {
          "name": "stdout",
          "output_type": "stream",
          "text": [
            "Prediction:\n",
            "ha ta küçük şeyleri için bir büyük biş şeylir koğoluyor ve yeneküçük şeyler için bir birmizi incilkiyoruz\n",
            "\n",
            "Reference:\n",
            "hayatta küçük şeyleri kovalıyor ve yine küçük şeyler için birbirimizi incitiyoruz.\n"
          ]
        }
      ],
      "source": [
        "print(\"Prediction:\")\n",
        "print(processor.decode(pred_ids))\n",
        "\n",
        "print(\"\\nReference:\")\n",
        "print(common_voice_test_transcription[0][\"sentence\"].lower())"
      ]
    },
    {
      "cell_type": "markdown",
      "metadata": {
        "id": "HwhyoMml3oOT"
      },
      "source": [
        "Alright! The transcription can definitely be recognized from our prediction, but it is not perfect yet. Training the model a bit longer, spending more time on the data preprocessing, and especially using a language model for decoding would certainly improve the model's overall performance.\n",
        "\n",
        "For a demonstration model on a low-resource language, the results are quite acceptable however 🤗."
      ]
    }
  ],
  "metadata": {
    "accelerator": "GPU",
    "colab": {
      "machine_shape": "hm",
      "name": "Copy of Fine-Tune XLS-R on Common Voice.ipynb",
      "provenance": [],
      "toc_visible": true
    },
    "kernelspec": {
      "display_name": "mycondapy310",
      "language": "python",
      "name": "mycondapy310"
    },
    "language_info": {
      "codemirror_mode": {
        "name": "ipython",
        "version": 3
      },
      "file_extension": ".py",
      "mimetype": "text/x-python",
      "name": "python",
      "nbconvert_exporter": "python",
      "pygments_lexer": "ipython3",
      "version": "3.10.13"
    },
    "widgets": {
      "application/vnd.jupyter.widget-state+json": {
        "012b09b271a842d0a7f1cd1260654c82": {
          "model_module": "@jupyter-widgets/controls",
          "model_module_version": "1.5.0",
          "model_name": "HBoxModel",
          "state": {
            "_dom_classes": [],
            "_model_module": "@jupyter-widgets/controls",
            "_model_module_version": "1.5.0",
            "_model_name": "HBoxModel",
            "_view_count": null,
            "_view_module": "@jupyter-widgets/controls",
            "_view_module_version": "1.5.0",
            "_view_name": "HBoxView",
            "box_style": "",
            "children": [
              "IPY_MODEL_6a40faf77bf445308534e7acada6bf0d",
              "IPY_MODEL_a62ff1ee03dc47c9834b43720df991ea",
              "IPY_MODEL_03d00b443bfd445d9286f64fd8556031"
            ],
            "layout": "IPY_MODEL_557063bf861648f7aefacf71aa53ea9b"
          }
        },
        "02016dcc44994c15b69e7f2c4dd0d9c4": {
          "model_module": "@jupyter-widgets/controls",
          "model_module_version": "1.5.0",
          "model_name": "DescriptionStyleModel",
          "state": {
            "_model_module": "@jupyter-widgets/controls",
            "_model_module_version": "1.5.0",
            "_model_name": "DescriptionStyleModel",
            "_view_count": null,
            "_view_module": "@jupyter-widgets/base",
            "_view_module_version": "1.2.0",
            "_view_name": "StyleView",
            "description_width": ""
          }
        },
        "0204a7bc668746a68f6e5e5632753c1c": {
          "model_module": "@jupyter-widgets/controls",
          "model_module_version": "1.5.0",
          "model_name": "HTMLModel",
          "state": {
            "_dom_classes": [],
            "_model_module": "@jupyter-widgets/controls",
            "_model_module_version": "1.5.0",
            "_model_name": "HTMLModel",
            "_view_count": null,
            "_view_module": "@jupyter-widgets/controls",
            "_view_module_version": "1.5.0",
            "_view_name": "HTMLView",
            "description": "",
            "description_tooltip": null,
            "layout": "IPY_MODEL_d3b5f5a0d35642e0b606ac63c38f88fa",
            "placeholder": "​",
            "style": "IPY_MODEL_7ce84a97d72848c0967f732734afdd68",
            "value": " 4.55k/? [00:00&lt;00:00, 87.8kB/s]"
          }
        },
        "02519344818c40d0b961c5ea210a5c62": {
          "model_module": "@jupyter-widgets/base",
          "model_module_version": "1.2.0",
          "model_name": "LayoutModel",
          "state": {
            "_model_module": "@jupyter-widgets/base",
            "_model_module_version": "1.2.0",
            "_model_name": "LayoutModel",
            "_view_count": null,
            "_view_module": "@jupyter-widgets/base",
            "_view_module_version": "1.2.0",
            "_view_name": "LayoutView",
            "align_content": null,
            "align_items": null,
            "align_self": null,
            "border": null,
            "bottom": null,
            "display": null,
            "flex": null,
            "flex_flow": null,
            "grid_area": null,
            "grid_auto_columns": null,
            "grid_auto_flow": null,
            "grid_auto_rows": null,
            "grid_column": null,
            "grid_gap": null,
            "grid_row": null,
            "grid_template_areas": null,
            "grid_template_columns": null,
            "grid_template_rows": null,
            "height": null,
            "justify_content": null,
            "justify_items": null,
            "left": null,
            "margin": null,
            "max_height": null,
            "max_width": null,
            "min_height": null,
            "min_width": null,
            "object_fit": null,
            "object_position": null,
            "order": null,
            "overflow": null,
            "overflow_x": null,
            "overflow_y": null,
            "padding": null,
            "right": null,
            "top": null,
            "visibility": null,
            "width": null
          }
        },
        "03d00b443bfd445d9286f64fd8556031": {
          "model_module": "@jupyter-widgets/controls",
          "model_module_version": "1.5.0",
          "model_name": "HTMLModel",
          "state": {
            "_dom_classes": [],
            "_model_module": "@jupyter-widgets/controls",
            "_model_module_version": "1.5.0",
            "_model_name": "HTMLModel",
            "_view_count": null,
            "_view_module": "@jupyter-widgets/controls",
            "_view_module_version": "1.5.0",
            "_view_name": "HTMLView",
            "description": "",
            "description_tooltip": null,
            "layout": "IPY_MODEL_716dc4ab4fe74abab49f3c0f009357f5",
            "placeholder": "​",
            "style": "IPY_MODEL_8a669878b8354867944e577860910001",
            "value": " 3478/3478 [00:39&lt;00:00, 86.00ex/s]"
          }
        },
        "059588e34a88476eb6bbc1860ddc27ef": {
          "model_module": "@jupyter-widgets/controls",
          "model_module_version": "1.5.0",
          "model_name": "DescriptionStyleModel",
          "state": {
            "_model_module": "@jupyter-widgets/controls",
            "_model_module_version": "1.5.0",
            "_model_name": "DescriptionStyleModel",
            "_view_count": null,
            "_view_module": "@jupyter-widgets/base",
            "_view_module_version": "1.2.0",
            "_view_name": "StyleView",
            "description_width": ""
          }
        },
        "093927de0d86406290365759e88fd4e7": {
          "model_module": "@jupyter-widgets/controls",
          "model_module_version": "1.5.0",
          "model_name": "HBoxModel",
          "state": {
            "_dom_classes": [],
            "_model_module": "@jupyter-widgets/controls",
            "_model_module_version": "1.5.0",
            "_model_name": "HBoxModel",
            "_view_count": null,
            "_view_module": "@jupyter-widgets/controls",
            "_view_module_version": "1.5.0",
            "_view_name": "HBoxView",
            "box_style": "",
            "children": [
              "IPY_MODEL_f6e777f3a1684a7da3efc63281553b5e",
              "IPY_MODEL_609781a3f55d4d3dbf0b3640972755fa",
              "IPY_MODEL_8783792878a64402981a416989924348"
            ],
            "layout": "IPY_MODEL_92e295e353624110880cff6835b9e119"
          }
        },
        "0a7c2124936345febe50288a476a12a6": {
          "model_module": "@jupyter-widgets/controls",
          "model_module_version": "1.5.0",
          "model_name": "HTMLModel",
          "state": {
            "_dom_classes": [],
            "_model_module": "@jupyter-widgets/controls",
            "_model_module_version": "1.5.0",
            "_model_name": "HTMLModel",
            "_view_count": null,
            "_view_module": "@jupyter-widgets/controls",
            "_view_module_version": "1.5.0",
            "_view_name": "HTMLView",
            "description": "",
            "description_tooltip": null,
            "layout": "IPY_MODEL_f28c64f34f9540b6b6bdc765c84e2307",
            "placeholder": "​",
            "style": "IPY_MODEL_02016dcc44994c15b69e7f2c4dd0d9c4",
            "value": "100%"
          }
        },
        "0c01a04a8a924740af301c5c53a51315": {
          "model_module": "@jupyter-widgets/base",
          "model_module_version": "1.2.0",
          "model_name": "LayoutModel",
          "state": {
            "_model_module": "@jupyter-widgets/base",
            "_model_module_version": "1.2.0",
            "_model_name": "LayoutModel",
            "_view_count": null,
            "_view_module": "@jupyter-widgets/base",
            "_view_module_version": "1.2.0",
            "_view_name": "LayoutView",
            "align_content": null,
            "align_items": null,
            "align_self": null,
            "border": null,
            "bottom": null,
            "display": null,
            "flex": null,
            "flex_flow": null,
            "grid_area": null,
            "grid_auto_columns": null,
            "grid_auto_flow": null,
            "grid_auto_rows": null,
            "grid_column": null,
            "grid_gap": null,
            "grid_row": null,
            "grid_template_areas": null,
            "grid_template_columns": null,
            "grid_template_rows": null,
            "height": null,
            "justify_content": null,
            "justify_items": null,
            "left": null,
            "margin": null,
            "max_height": null,
            "max_width": null,
            "min_height": null,
            "min_width": null,
            "object_fit": null,
            "object_position": null,
            "order": null,
            "overflow": null,
            "overflow_x": null,
            "overflow_y": null,
            "padding": null,
            "right": null,
            "top": null,
            "visibility": null,
            "width": null
          }
        },
        "136f973d9623421eb38e09c73c6b6810": {
          "model_module": "@jupyter-widgets/controls",
          "model_module_version": "1.5.0",
          "model_name": "DescriptionStyleModel",
          "state": {
            "_model_module": "@jupyter-widgets/controls",
            "_model_module_version": "1.5.0",
            "_model_name": "DescriptionStyleModel",
            "_view_count": null,
            "_view_module": "@jupyter-widgets/base",
            "_view_module_version": "1.2.0",
            "_view_name": "StyleView",
            "description_width": ""
          }
        },
        "15f8964842df434ca0dee00d7dc1bd9a": {
          "model_module": "@jupyter-widgets/controls",
          "model_module_version": "1.5.0",
          "model_name": "DescriptionStyleModel",
          "state": {
            "_model_module": "@jupyter-widgets/controls",
            "_model_module_version": "1.5.0",
            "_model_name": "DescriptionStyleModel",
            "_view_count": null,
            "_view_module": "@jupyter-widgets/base",
            "_view_module_version": "1.2.0",
            "_view_name": "StyleView",
            "description_width": ""
          }
        },
        "1ca82f9af3ae423096661a1ffd8a165f": {
          "model_module": "@jupyter-widgets/controls",
          "model_module_version": "1.5.0",
          "model_name": "HBoxModel",
          "state": {
            "_dom_classes": [],
            "_model_module": "@jupyter-widgets/controls",
            "_model_module_version": "1.5.0",
            "_model_name": "HBoxModel",
            "_view_count": null,
            "_view_module": "@jupyter-widgets/controls",
            "_view_module_version": "1.5.0",
            "_view_name": "HBoxView",
            "box_style": "",
            "children": [
              "IPY_MODEL_ce429683f48349c083e5fc3253a897d7",
              "IPY_MODEL_acc35dfdfca542828d1bb02cbde15dfe",
              "IPY_MODEL_aa92ff120d9c4dd68ae941d7a1f33a81"
            ],
            "layout": "IPY_MODEL_731a283141f642b9ab5bf9f7053381d2"
          }
        },
        "1cdac9cda666466ca1e09f32661d40ed": {
          "model_module": "@jupyter-widgets/controls",
          "model_module_version": "1.5.0",
          "model_name": "DescriptionStyleModel",
          "state": {
            "_model_module": "@jupyter-widgets/controls",
            "_model_module_version": "1.5.0",
            "_model_name": "DescriptionStyleModel",
            "_view_count": null,
            "_view_module": "@jupyter-widgets/base",
            "_view_module_version": "1.2.0",
            "_view_name": "StyleView",
            "description_width": ""
          }
        },
        "21af0f39c0ce40a5846b980f98481940": {
          "model_module": "@jupyter-widgets/base",
          "model_module_version": "1.2.0",
          "model_name": "LayoutModel",
          "state": {
            "_model_module": "@jupyter-widgets/base",
            "_model_module_version": "1.2.0",
            "_model_name": "LayoutModel",
            "_view_count": null,
            "_view_module": "@jupyter-widgets/base",
            "_view_module_version": "1.2.0",
            "_view_name": "LayoutView",
            "align_content": null,
            "align_items": null,
            "align_self": null,
            "border": null,
            "bottom": null,
            "display": null,
            "flex": null,
            "flex_flow": null,
            "grid_area": null,
            "grid_auto_columns": null,
            "grid_auto_flow": null,
            "grid_auto_rows": null,
            "grid_column": null,
            "grid_gap": null,
            "grid_row": null,
            "grid_template_areas": null,
            "grid_template_columns": null,
            "grid_template_rows": null,
            "height": null,
            "justify_content": null,
            "justify_items": null,
            "left": null,
            "margin": null,
            "max_height": null,
            "max_width": null,
            "min_height": null,
            "min_width": null,
            "object_fit": null,
            "object_position": null,
            "order": null,
            "overflow": null,
            "overflow_x": null,
            "overflow_y": null,
            "padding": null,
            "right": null,
            "top": null,
            "visibility": null,
            "width": null
          }
        },
        "26bf8a70fe5449a99ca1b06430b2fc8f": {
          "model_module": "@jupyter-widgets/controls",
          "model_module_version": "1.5.0",
          "model_name": "HTMLModel",
          "state": {
            "_dom_classes": [],
            "_model_module": "@jupyter-widgets/controls",
            "_model_module_version": "1.5.0",
            "_model_name": "HTMLModel",
            "_view_count": null,
            "_view_module": "@jupyter-widgets/controls",
            "_view_module_version": "1.5.0",
            "_view_name": "HTMLView",
            "description": "",
            "description_tooltip": null,
            "layout": "IPY_MODEL_0c01a04a8a924740af301c5c53a51315",
            "placeholder": "​",
            "style": "IPY_MODEL_15f8964842df434ca0dee00d7dc1bd9a",
            "value": "<center>\n<img src=https://huggingface.co/front/assets/huggingface_logo-noborder.svg alt='Hugging Face'>\n<br>\n<b>The AI community building the future</b>\n<br>\nImmediately click login after typing your password or it might be stored in plain text in this notebook file.\n</center>"
          }
        },
        "2b7e52a9be904663ae74226691de6ebd": {
          "model_module": "@jupyter-widgets/base",
          "model_module_version": "1.2.0",
          "model_name": "LayoutModel",
          "state": {
            "_model_module": "@jupyter-widgets/base",
            "_model_module_version": "1.2.0",
            "_model_name": "LayoutModel",
            "_view_count": null,
            "_view_module": "@jupyter-widgets/base",
            "_view_module_version": "1.2.0",
            "_view_name": "LayoutView",
            "align_content": null,
            "align_items": null,
            "align_self": null,
            "border": null,
            "bottom": null,
            "display": null,
            "flex": null,
            "flex_flow": null,
            "grid_area": null,
            "grid_auto_columns": null,
            "grid_auto_flow": null,
            "grid_auto_rows": null,
            "grid_column": null,
            "grid_gap": null,
            "grid_row": null,
            "grid_template_areas": null,
            "grid_template_columns": null,
            "grid_template_rows": null,
            "height": null,
            "justify_content": null,
            "justify_items": null,
            "left": null,
            "margin": null,
            "max_height": null,
            "max_width": null,
            "min_height": null,
            "min_width": null,
            "object_fit": null,
            "object_position": null,
            "order": null,
            "overflow": null,
            "overflow_x": null,
            "overflow_y": null,
            "padding": null,
            "right": null,
            "top": null,
            "visibility": null,
            "width": null
          }
        },
        "2d2b8b8d5774494aa73d872e9a4c10d9": {
          "model_module": "@jupyter-widgets/controls",
          "model_module_version": "1.5.0",
          "model_name": "FloatProgressModel",
          "state": {
            "_dom_classes": [],
            "_model_module": "@jupyter-widgets/controls",
            "_model_module_version": "1.5.0",
            "_model_name": "FloatProgressModel",
            "_view_count": null,
            "_view_module": "@jupyter-widgets/controls",
            "_view_module_version": "1.5.0",
            "_view_name": "ProgressView",
            "bar_style": "success",
            "description": "",
            "description_tooltip": null,
            "layout": "IPY_MODEL_3ec9917890f4452883bcaeac444d056c",
            "max": 1269737156,
            "min": 0,
            "orientation": "horizontal",
            "style": "IPY_MODEL_e9531fcd48b74929bfdb45cd3f3315e7",
            "value": 1269737156
          }
        },
        "2d4eb3e5acc348948299c506db83ca90": {
          "model_module": "@jupyter-widgets/controls",
          "model_module_version": "1.5.0",
          "model_name": "ButtonModel",
          "state": {
            "_dom_classes": [],
            "_model_module": "@jupyter-widgets/controls",
            "_model_module_version": "1.5.0",
            "_model_name": "ButtonModel",
            "_view_count": null,
            "_view_module": "@jupyter-widgets/controls",
            "_view_module_version": "1.5.0",
            "_view_name": "ButtonView",
            "button_style": "",
            "description": "Login",
            "disabled": false,
            "icon": "",
            "layout": "IPY_MODEL_d11d94912b26401a860c80eba767907a",
            "style": "IPY_MODEL_6dd7aa6b17b34d18ba46d834ffd559bc",
            "tooltip": ""
          }
        },
        "349c9e8b2a8846c1bff5a03d2a28066a": {
          "model_module": "@jupyter-widgets/base",
          "model_module_version": "1.2.0",
          "model_name": "LayoutModel",
          "state": {
            "_model_module": "@jupyter-widgets/base",
            "_model_module_version": "1.2.0",
            "_model_name": "LayoutModel",
            "_view_count": null,
            "_view_module": "@jupyter-widgets/base",
            "_view_module_version": "1.2.0",
            "_view_name": "LayoutView",
            "align_content": null,
            "align_items": null,
            "align_self": null,
            "border": null,
            "bottom": null,
            "display": null,
            "flex": null,
            "flex_flow": null,
            "grid_area": null,
            "grid_auto_columns": null,
            "grid_auto_flow": null,
            "grid_auto_rows": null,
            "grid_column": null,
            "grid_gap": null,
            "grid_row": null,
            "grid_template_areas": null,
            "grid_template_columns": null,
            "grid_template_rows": null,
            "height": null,
            "justify_content": null,
            "justify_items": null,
            "left": null,
            "margin": null,
            "max_height": null,
            "max_width": null,
            "min_height": null,
            "min_width": null,
            "object_fit": null,
            "object_position": null,
            "order": null,
            "overflow": null,
            "overflow_x": null,
            "overflow_y": null,
            "padding": null,
            "right": null,
            "top": null,
            "visibility": null,
            "width": null
          }
        },
        "367c85905a024248bce6c620b822b2ee": {
          "model_module": "@jupyter-widgets/controls",
          "model_module_version": "1.5.0",
          "model_name": "HBoxModel",
          "state": {
            "_dom_classes": [],
            "_model_module": "@jupyter-widgets/controls",
            "_model_module_version": "1.5.0",
            "_model_name": "HBoxModel",
            "_view_count": null,
            "_view_module": "@jupyter-widgets/controls",
            "_view_module_version": "1.5.0",
            "_view_name": "HBoxView",
            "box_style": "",
            "children": [
              "IPY_MODEL_7ea310732a56432da1a095a8d30edc1c",
              "IPY_MODEL_2d2b8b8d5774494aa73d872e9a4c10d9",
              "IPY_MODEL_f4af6a0756e241e49e5d325f1bdb18b4"
            ],
            "layout": "IPY_MODEL_2b7e52a9be904663ae74226691de6ebd"
          }
        },
        "379128a308ab43ee9e785e234bb94049": {
          "model_module": "@jupyter-widgets/controls",
          "model_module_version": "1.5.0",
          "model_name": "HTMLModel",
          "state": {
            "_dom_classes": [],
            "_model_module": "@jupyter-widgets/controls",
            "_model_module_version": "1.5.0",
            "_model_name": "HTMLModel",
            "_view_count": null,
            "_view_module": "@jupyter-widgets/controls",
            "_view_module_version": "1.5.0",
            "_view_name": "HTMLView",
            "description": "",
            "description_tooltip": null,
            "layout": "IPY_MODEL_c0919f3c8d594911815ce63273f7fe51",
            "placeholder": "​",
            "style": "IPY_MODEL_69f2a9e473534148b96b2e9bd639a087",
            "value": "Downloading: "
          }
        },
        "384228b409cb4bb0bbd77ef259b9a568": {
          "model_module": "@jupyter-widgets/base",
          "model_module_version": "1.2.0",
          "model_name": "LayoutModel",
          "state": {
            "_model_module": "@jupyter-widgets/base",
            "_model_module_version": "1.2.0",
            "_model_name": "LayoutModel",
            "_view_count": null,
            "_view_module": "@jupyter-widgets/base",
            "_view_module_version": "1.2.0",
            "_view_name": "LayoutView",
            "align_content": null,
            "align_items": "center",
            "align_self": null,
            "border": null,
            "bottom": null,
            "display": "flex",
            "flex": null,
            "flex_flow": "column",
            "grid_area": null,
            "grid_auto_columns": null,
            "grid_auto_flow": null,
            "grid_auto_rows": null,
            "grid_column": null,
            "grid_gap": null,
            "grid_row": null,
            "grid_template_areas": null,
            "grid_template_columns": null,
            "grid_template_rows": null,
            "height": null,
            "justify_content": null,
            "justify_items": null,
            "left": null,
            "margin": null,
            "max_height": null,
            "max_width": null,
            "min_height": null,
            "min_width": null,
            "object_fit": null,
            "object_position": null,
            "order": null,
            "overflow": null,
            "overflow_x": null,
            "overflow_y": null,
            "padding": null,
            "right": null,
            "top": null,
            "visibility": null,
            "width": "50%"
          }
        },
        "3aa317d2b42e4674b38dafa87b5599c5": {
          "model_module": "@jupyter-widgets/controls",
          "model_module_version": "1.5.0",
          "model_name": "HBoxModel",
          "state": {
            "_dom_classes": [],
            "_model_module": "@jupyter-widgets/controls",
            "_model_module_version": "1.5.0",
            "_model_name": "HBoxModel",
            "_view_count": null,
            "_view_module": "@jupyter-widgets/controls",
            "_view_module_version": "1.5.0",
            "_view_name": "HBoxView",
            "box_style": "",
            "children": [
              "IPY_MODEL_0a7c2124936345febe50288a476a12a6",
              "IPY_MODEL_bdcf9380af5d4601b9b2de84b06ecb40",
              "IPY_MODEL_b9c5532ffabb44078de8a6f76a4b8be6"
            ],
            "layout": "IPY_MODEL_7732bb1317f940faa455f992f4fd2b26"
          }
        },
        "3ec9917890f4452883bcaeac444d056c": {
          "model_module": "@jupyter-widgets/base",
          "model_module_version": "1.2.0",
          "model_name": "LayoutModel",
          "state": {
            "_model_module": "@jupyter-widgets/base",
            "_model_module_version": "1.2.0",
            "_model_name": "LayoutModel",
            "_view_count": null,
            "_view_module": "@jupyter-widgets/base",
            "_view_module_version": "1.2.0",
            "_view_name": "LayoutView",
            "align_content": null,
            "align_items": null,
            "align_self": null,
            "border": null,
            "bottom": null,
            "display": null,
            "flex": null,
            "flex_flow": null,
            "grid_area": null,
            "grid_auto_columns": null,
            "grid_auto_flow": null,
            "grid_auto_rows": null,
            "grid_column": null,
            "grid_gap": null,
            "grid_row": null,
            "grid_template_areas": null,
            "grid_template_columns": null,
            "grid_template_rows": null,
            "height": null,
            "justify_content": null,
            "justify_items": null,
            "left": null,
            "margin": null,
            "max_height": null,
            "max_width": null,
            "min_height": null,
            "min_width": null,
            "object_fit": null,
            "object_position": null,
            "order": null,
            "overflow": null,
            "overflow_x": null,
            "overflow_y": null,
            "padding": null,
            "right": null,
            "top": null,
            "visibility": null,
            "width": null
          }
        },
        "3f0c587f7b764d96837c8e16254aab12": {
          "model_module": "@jupyter-widgets/controls",
          "model_module_version": "1.5.0",
          "model_name": "ProgressStyleModel",
          "state": {
            "_model_module": "@jupyter-widgets/controls",
            "_model_module_version": "1.5.0",
            "_model_name": "ProgressStyleModel",
            "_view_count": null,
            "_view_module": "@jupyter-widgets/base",
            "_view_module_version": "1.2.0",
            "_view_name": "StyleView",
            "bar_color": null,
            "description_width": ""
          }
        },
        "4246da00789f44e2abce952906bde6f1": {
          "model_module": "@jupyter-widgets/base",
          "model_module_version": "1.2.0",
          "model_name": "LayoutModel",
          "state": {
            "_model_module": "@jupyter-widgets/base",
            "_model_module_version": "1.2.0",
            "_model_name": "LayoutModel",
            "_view_count": null,
            "_view_module": "@jupyter-widgets/base",
            "_view_module_version": "1.2.0",
            "_view_name": "LayoutView",
            "align_content": null,
            "align_items": null,
            "align_self": null,
            "border": null,
            "bottom": null,
            "display": null,
            "flex": null,
            "flex_flow": null,
            "grid_area": null,
            "grid_auto_columns": null,
            "grid_auto_flow": null,
            "grid_auto_rows": null,
            "grid_column": null,
            "grid_gap": null,
            "grid_row": null,
            "grid_template_areas": null,
            "grid_template_columns": null,
            "grid_template_rows": null,
            "height": null,
            "justify_content": null,
            "justify_items": null,
            "left": null,
            "margin": null,
            "max_height": null,
            "max_width": null,
            "min_height": null,
            "min_width": null,
            "object_fit": null,
            "object_position": null,
            "order": null,
            "overflow": null,
            "overflow_x": null,
            "overflow_y": null,
            "padding": null,
            "right": null,
            "top": null,
            "visibility": null,
            "width": null
          }
        },
        "46c8681bd36f419495d33b06c96311ed": {
          "model_module": "@jupyter-widgets/controls",
          "model_module_version": "1.5.0",
          "model_name": "DescriptionStyleModel",
          "state": {
            "_model_module": "@jupyter-widgets/controls",
            "_model_module_version": "1.5.0",
            "_model_name": "DescriptionStyleModel",
            "_view_count": null,
            "_view_module": "@jupyter-widgets/base",
            "_view_module_version": "1.2.0",
            "_view_name": "StyleView",
            "description_width": ""
          }
        },
        "49f98244a8634be9b2305bb87731e765": {
          "model_module": "@jupyter-widgets/controls",
          "model_module_version": "1.5.0",
          "model_name": "TextModel",
          "state": {
            "_dom_classes": [],
            "_model_module": "@jupyter-widgets/controls",
            "_model_module_version": "1.5.0",
            "_model_name": "TextModel",
            "_view_count": null,
            "_view_module": "@jupyter-widgets/controls",
            "_view_module_version": "1.5.0",
            "_view_name": "TextView",
            "continuous_update": true,
            "description": "Username:",
            "description_tooltip": null,
            "disabled": false,
            "layout": "IPY_MODEL_4bf1f9d3031e4877aa6ef704e9a227d7",
            "placeholder": "​",
            "style": "IPY_MODEL_bfb6a1e47f6e4f74af4db7e71227ef3e",
            "value": ""
          }
        },
        "4bf1f9d3031e4877aa6ef704e9a227d7": {
          "model_module": "@jupyter-widgets/base",
          "model_module_version": "1.2.0",
          "model_name": "LayoutModel",
          "state": {
            "_model_module": "@jupyter-widgets/base",
            "_model_module_version": "1.2.0",
            "_model_name": "LayoutModel",
            "_view_count": null,
            "_view_module": "@jupyter-widgets/base",
            "_view_module_version": "1.2.0",
            "_view_name": "LayoutView",
            "align_content": null,
            "align_items": null,
            "align_self": null,
            "border": null,
            "bottom": null,
            "display": null,
            "flex": null,
            "flex_flow": null,
            "grid_area": null,
            "grid_auto_columns": null,
            "grid_auto_flow": null,
            "grid_auto_rows": null,
            "grid_column": null,
            "grid_gap": null,
            "grid_row": null,
            "grid_template_areas": null,
            "grid_template_columns": null,
            "grid_template_rows": null,
            "height": null,
            "justify_content": null,
            "justify_items": null,
            "left": null,
            "margin": null,
            "max_height": null,
            "max_width": null,
            "min_height": null,
            "min_width": null,
            "object_fit": null,
            "object_position": null,
            "order": null,
            "overflow": null,
            "overflow_x": null,
            "overflow_y": null,
            "padding": null,
            "right": null,
            "top": null,
            "visibility": null,
            "width": null
          }
        },
        "4c3e043e600641538a479df6ad389784": {
          "model_module": "@jupyter-widgets/base",
          "model_module_version": "1.2.0",
          "model_name": "LayoutModel",
          "state": {
            "_model_module": "@jupyter-widgets/base",
            "_model_module_version": "1.2.0",
            "_model_name": "LayoutModel",
            "_view_count": null,
            "_view_module": "@jupyter-widgets/base",
            "_view_module_version": "1.2.0",
            "_view_name": "LayoutView",
            "align_content": null,
            "align_items": null,
            "align_self": null,
            "border": null,
            "bottom": null,
            "display": null,
            "flex": null,
            "flex_flow": null,
            "grid_area": null,
            "grid_auto_columns": null,
            "grid_auto_flow": null,
            "grid_auto_rows": null,
            "grid_column": null,
            "grid_gap": null,
            "grid_row": null,
            "grid_template_areas": null,
            "grid_template_columns": null,
            "grid_template_rows": null,
            "height": null,
            "justify_content": null,
            "justify_items": null,
            "left": null,
            "margin": null,
            "max_height": null,
            "max_width": null,
            "min_height": null,
            "min_width": null,
            "object_fit": null,
            "object_position": null,
            "order": null,
            "overflow": null,
            "overflow_x": null,
            "overflow_y": null,
            "padding": null,
            "right": null,
            "top": null,
            "visibility": null,
            "width": null
          }
        },
        "4f81e460906a428f9f74a0aa469ba63f": {
          "model_module": "@jupyter-widgets/controls",
          "model_module_version": "1.5.0",
          "model_name": "DescriptionStyleModel",
          "state": {
            "_model_module": "@jupyter-widgets/controls",
            "_model_module_version": "1.5.0",
            "_model_name": "DescriptionStyleModel",
            "_view_count": null,
            "_view_module": "@jupyter-widgets/base",
            "_view_module_version": "1.2.0",
            "_view_name": "StyleView",
            "description_width": ""
          }
        },
        "557063bf861648f7aefacf71aa53ea9b": {
          "model_module": "@jupyter-widgets/base",
          "model_module_version": "1.2.0",
          "model_name": "LayoutModel",
          "state": {
            "_model_module": "@jupyter-widgets/base",
            "_model_module_version": "1.2.0",
            "_model_name": "LayoutModel",
            "_view_count": null,
            "_view_module": "@jupyter-widgets/base",
            "_view_module_version": "1.2.0",
            "_view_name": "LayoutView",
            "align_content": null,
            "align_items": null,
            "align_self": null,
            "border": null,
            "bottom": null,
            "display": null,
            "flex": null,
            "flex_flow": null,
            "grid_area": null,
            "grid_auto_columns": null,
            "grid_auto_flow": null,
            "grid_auto_rows": null,
            "grid_column": null,
            "grid_gap": null,
            "grid_row": null,
            "grid_template_areas": null,
            "grid_template_columns": null,
            "grid_template_rows": null,
            "height": null,
            "justify_content": null,
            "justify_items": null,
            "left": null,
            "margin": null,
            "max_height": null,
            "max_width": null,
            "min_height": null,
            "min_width": null,
            "object_fit": null,
            "object_position": null,
            "order": null,
            "overflow": null,
            "overflow_x": null,
            "overflow_y": null,
            "padding": null,
            "right": null,
            "top": null,
            "visibility": null,
            "width": null
          }
        },
        "5ba2a38c71e64253a4fd39cf7d3b3326": {
          "model_module": "@jupyter-widgets/controls",
          "model_module_version": "1.5.0",
          "model_name": "ProgressStyleModel",
          "state": {
            "_model_module": "@jupyter-widgets/controls",
            "_model_module_version": "1.5.0",
            "_model_name": "ProgressStyleModel",
            "_view_count": null,
            "_view_module": "@jupyter-widgets/base",
            "_view_module_version": "1.2.0",
            "_view_name": "StyleView",
            "bar_color": null,
            "description_width": ""
          }
        },
        "5cd8c74ba2e845d498afdc1c25009767": {
          "model_module": "@jupyter-widgets/base",
          "model_module_version": "1.2.0",
          "model_name": "LayoutModel",
          "state": {
            "_model_module": "@jupyter-widgets/base",
            "_model_module_version": "1.2.0",
            "_model_name": "LayoutModel",
            "_view_count": null,
            "_view_module": "@jupyter-widgets/base",
            "_view_module_version": "1.2.0",
            "_view_name": "LayoutView",
            "align_content": null,
            "align_items": null,
            "align_self": null,
            "border": null,
            "bottom": null,
            "display": null,
            "flex": null,
            "flex_flow": null,
            "grid_area": null,
            "grid_auto_columns": null,
            "grid_auto_flow": null,
            "grid_auto_rows": null,
            "grid_column": null,
            "grid_gap": null,
            "grid_row": null,
            "grid_template_areas": null,
            "grid_template_columns": null,
            "grid_template_rows": null,
            "height": null,
            "justify_content": null,
            "justify_items": null,
            "left": null,
            "margin": null,
            "max_height": null,
            "max_width": null,
            "min_height": null,
            "min_width": null,
            "object_fit": null,
            "object_position": null,
            "order": null,
            "overflow": null,
            "overflow_x": null,
            "overflow_y": null,
            "padding": null,
            "right": null,
            "top": null,
            "visibility": null,
            "width": null
          }
        },
        "5cff6b2dd6944c59b8c2f205db5f49bf": {
          "model_module": "@jupyter-widgets/base",
          "model_module_version": "1.2.0",
          "model_name": "LayoutModel",
          "state": {
            "_model_module": "@jupyter-widgets/base",
            "_model_module_version": "1.2.0",
            "_model_name": "LayoutModel",
            "_view_count": null,
            "_view_module": "@jupyter-widgets/base",
            "_view_module_version": "1.2.0",
            "_view_name": "LayoutView",
            "align_content": null,
            "align_items": null,
            "align_self": null,
            "border": null,
            "bottom": null,
            "display": null,
            "flex": null,
            "flex_flow": null,
            "grid_area": null,
            "grid_auto_columns": null,
            "grid_auto_flow": null,
            "grid_auto_rows": null,
            "grid_column": null,
            "grid_gap": null,
            "grid_row": null,
            "grid_template_areas": null,
            "grid_template_columns": null,
            "grid_template_rows": null,
            "height": null,
            "justify_content": null,
            "justify_items": null,
            "left": null,
            "margin": null,
            "max_height": null,
            "max_width": null,
            "min_height": null,
            "min_width": null,
            "object_fit": null,
            "object_position": null,
            "order": null,
            "overflow": null,
            "overflow_x": null,
            "overflow_y": null,
            "padding": null,
            "right": null,
            "top": null,
            "visibility": null,
            "width": null
          }
        },
        "609781a3f55d4d3dbf0b3640972755fa": {
          "model_module": "@jupyter-widgets/controls",
          "model_module_version": "1.5.0",
          "model_name": "FloatProgressModel",
          "state": {
            "_dom_classes": [],
            "_model_module": "@jupyter-widgets/controls",
            "_model_module_version": "1.5.0",
            "_model_name": "FloatProgressModel",
            "_view_count": null,
            "_view_module": "@jupyter-widgets/controls",
            "_view_module_version": "1.5.0",
            "_view_name": "ProgressView",
            "bar_style": "success",
            "description": "",
            "description_tooltip": null,
            "layout": "IPY_MODEL_a5777207c788498fb4ac4900af91d7cf",
            "max": 1,
            "min": 0,
            "orientation": "horizontal",
            "style": "IPY_MODEL_890ff54dc35e460b9108e2690966fafe",
            "value": 1
          }
        },
        "6323e35581be4b338a904266a5e85005": {
          "model_module": "@jupyter-widgets/base",
          "model_module_version": "1.2.0",
          "model_name": "LayoutModel",
          "state": {
            "_model_module": "@jupyter-widgets/base",
            "_model_module_version": "1.2.0",
            "_model_name": "LayoutModel",
            "_view_count": null,
            "_view_module": "@jupyter-widgets/base",
            "_view_module_version": "1.2.0",
            "_view_name": "LayoutView",
            "align_content": null,
            "align_items": null,
            "align_self": null,
            "border": null,
            "bottom": null,
            "display": null,
            "flex": null,
            "flex_flow": null,
            "grid_area": null,
            "grid_auto_columns": null,
            "grid_auto_flow": null,
            "grid_auto_rows": null,
            "grid_column": null,
            "grid_gap": null,
            "grid_row": null,
            "grid_template_areas": null,
            "grid_template_columns": null,
            "grid_template_rows": null,
            "height": null,
            "justify_content": null,
            "justify_items": null,
            "left": null,
            "margin": null,
            "max_height": null,
            "max_width": null,
            "min_height": null,
            "min_width": null,
            "object_fit": null,
            "object_position": null,
            "order": null,
            "overflow": null,
            "overflow_x": null,
            "overflow_y": null,
            "padding": null,
            "right": null,
            "top": null,
            "visibility": null,
            "width": null
          }
        },
        "69f2a9e473534148b96b2e9bd639a087": {
          "model_module": "@jupyter-widgets/controls",
          "model_module_version": "1.5.0",
          "model_name": "DescriptionStyleModel",
          "state": {
            "_model_module": "@jupyter-widgets/controls",
            "_model_module_version": "1.5.0",
            "_model_name": "DescriptionStyleModel",
            "_view_count": null,
            "_view_module": "@jupyter-widgets/base",
            "_view_module_version": "1.2.0",
            "_view_name": "StyleView",
            "description_width": ""
          }
        },
        "6a40faf77bf445308534e7acada6bf0d": {
          "model_module": "@jupyter-widgets/controls",
          "model_module_version": "1.5.0",
          "model_name": "HTMLModel",
          "state": {
            "_dom_classes": [],
            "_model_module": "@jupyter-widgets/controls",
            "_model_module_version": "1.5.0",
            "_model_name": "HTMLModel",
            "_view_count": null,
            "_view_module": "@jupyter-widgets/controls",
            "_view_module_version": "1.5.0",
            "_view_name": "HTMLView",
            "description": "",
            "description_tooltip": null,
            "layout": "IPY_MODEL_21af0f39c0ce40a5846b980f98481940",
            "placeholder": "​",
            "style": "IPY_MODEL_f6e0ea791e5a44abb5d5891bb3e254ad",
            "value": "100%"
          }
        },
        "6ae3b3139e6641fc9e62ae5744349add": {
          "model_module": "@jupyter-widgets/base",
          "model_module_version": "1.2.0",
          "model_name": "LayoutModel",
          "state": {
            "_model_module": "@jupyter-widgets/base",
            "_model_module_version": "1.2.0",
            "_model_name": "LayoutModel",
            "_view_count": null,
            "_view_module": "@jupyter-widgets/base",
            "_view_module_version": "1.2.0",
            "_view_name": "LayoutView",
            "align_content": null,
            "align_items": null,
            "align_self": null,
            "border": null,
            "bottom": null,
            "display": null,
            "flex": null,
            "flex_flow": null,
            "grid_area": null,
            "grid_auto_columns": null,
            "grid_auto_flow": null,
            "grid_auto_rows": null,
            "grid_column": null,
            "grid_gap": null,
            "grid_row": null,
            "grid_template_areas": null,
            "grid_template_columns": null,
            "grid_template_rows": null,
            "height": null,
            "justify_content": null,
            "justify_items": null,
            "left": null,
            "margin": null,
            "max_height": null,
            "max_width": null,
            "min_height": null,
            "min_width": null,
            "object_fit": null,
            "object_position": null,
            "order": null,
            "overflow": null,
            "overflow_x": null,
            "overflow_y": null,
            "padding": null,
            "right": null,
            "top": null,
            "visibility": null,
            "width": null
          }
        },
        "6da7072e7f634a3aa2927fca1bcf38c0": {
          "model_module": "@jupyter-widgets/controls",
          "model_module_version": "1.5.0",
          "model_name": "ProgressStyleModel",
          "state": {
            "_model_module": "@jupyter-widgets/controls",
            "_model_module_version": "1.5.0",
            "_model_name": "ProgressStyleModel",
            "_view_count": null,
            "_view_module": "@jupyter-widgets/base",
            "_view_module_version": "1.2.0",
            "_view_name": "StyleView",
            "bar_color": null,
            "description_width": ""
          }
        },
        "6dd7aa6b17b34d18ba46d834ffd559bc": {
          "model_module": "@jupyter-widgets/controls",
          "model_module_version": "1.5.0",
          "model_name": "ButtonStyleModel",
          "state": {
            "_model_module": "@jupyter-widgets/controls",
            "_model_module_version": "1.5.0",
            "_model_name": "ButtonStyleModel",
            "_view_count": null,
            "_view_module": "@jupyter-widgets/base",
            "_view_module_version": "1.2.0",
            "_view_name": "StyleView",
            "button_color": null,
            "font_weight": ""
          }
        },
        "6ec3c80319fb45f3b6f7715049c9bce0": {
          "model_module": "@jupyter-widgets/base",
          "model_module_version": "1.2.0",
          "model_name": "LayoutModel",
          "state": {
            "_model_module": "@jupyter-widgets/base",
            "_model_module_version": "1.2.0",
            "_model_name": "LayoutModel",
            "_view_count": null,
            "_view_module": "@jupyter-widgets/base",
            "_view_module_version": "1.2.0",
            "_view_name": "LayoutView",
            "align_content": null,
            "align_items": null,
            "align_self": null,
            "border": null,
            "bottom": null,
            "display": null,
            "flex": null,
            "flex_flow": null,
            "grid_area": null,
            "grid_auto_columns": null,
            "grid_auto_flow": null,
            "grid_auto_rows": null,
            "grid_column": null,
            "grid_gap": null,
            "grid_row": null,
            "grid_template_areas": null,
            "grid_template_columns": null,
            "grid_template_rows": null,
            "height": null,
            "justify_content": null,
            "justify_items": null,
            "left": null,
            "margin": null,
            "max_height": null,
            "max_width": null,
            "min_height": null,
            "min_width": null,
            "object_fit": null,
            "object_position": null,
            "order": null,
            "overflow": null,
            "overflow_x": null,
            "overflow_y": null,
            "padding": null,
            "right": null,
            "top": null,
            "visibility": null,
            "width": null
          }
        },
        "716dc4ab4fe74abab49f3c0f009357f5": {
          "model_module": "@jupyter-widgets/base",
          "model_module_version": "1.2.0",
          "model_name": "LayoutModel",
          "state": {
            "_model_module": "@jupyter-widgets/base",
            "_model_module_version": "1.2.0",
            "_model_name": "LayoutModel",
            "_view_count": null,
            "_view_module": "@jupyter-widgets/base",
            "_view_module_version": "1.2.0",
            "_view_name": "LayoutView",
            "align_content": null,
            "align_items": null,
            "align_self": null,
            "border": null,
            "bottom": null,
            "display": null,
            "flex": null,
            "flex_flow": null,
            "grid_area": null,
            "grid_auto_columns": null,
            "grid_auto_flow": null,
            "grid_auto_rows": null,
            "grid_column": null,
            "grid_gap": null,
            "grid_row": null,
            "grid_template_areas": null,
            "grid_template_columns": null,
            "grid_template_rows": null,
            "height": null,
            "justify_content": null,
            "justify_items": null,
            "left": null,
            "margin": null,
            "max_height": null,
            "max_width": null,
            "min_height": null,
            "min_width": null,
            "object_fit": null,
            "object_position": null,
            "order": null,
            "overflow": null,
            "overflow_x": null,
            "overflow_y": null,
            "padding": null,
            "right": null,
            "top": null,
            "visibility": null,
            "width": null
          }
        },
        "731a283141f642b9ab5bf9f7053381d2": {
          "model_module": "@jupyter-widgets/base",
          "model_module_version": "1.2.0",
          "model_name": "LayoutModel",
          "state": {
            "_model_module": "@jupyter-widgets/base",
            "_model_module_version": "1.2.0",
            "_model_name": "LayoutModel",
            "_view_count": null,
            "_view_module": "@jupyter-widgets/base",
            "_view_module_version": "1.2.0",
            "_view_name": "LayoutView",
            "align_content": null,
            "align_items": null,
            "align_self": null,
            "border": null,
            "bottom": null,
            "display": null,
            "flex": null,
            "flex_flow": null,
            "grid_area": null,
            "grid_auto_columns": null,
            "grid_auto_flow": null,
            "grid_auto_rows": null,
            "grid_column": null,
            "grid_gap": null,
            "grid_row": null,
            "grid_template_areas": null,
            "grid_template_columns": null,
            "grid_template_rows": null,
            "height": null,
            "justify_content": null,
            "justify_items": null,
            "left": null,
            "margin": null,
            "max_height": null,
            "max_width": null,
            "min_height": null,
            "min_width": null,
            "object_fit": null,
            "object_position": null,
            "order": null,
            "overflow": null,
            "overflow_x": null,
            "overflow_y": null,
            "padding": null,
            "right": null,
            "top": null,
            "visibility": null,
            "width": null
          }
        },
        "75b26f4a95d24e9d8939d1f7b376eb51": {
          "model_module": "@jupyter-widgets/controls",
          "model_module_version": "1.5.0",
          "model_name": "HTMLModel",
          "state": {
            "_dom_classes": [],
            "_model_module": "@jupyter-widgets/controls",
            "_model_module_version": "1.5.0",
            "_model_name": "HTMLModel",
            "_view_count": null,
            "_view_module": "@jupyter-widgets/controls",
            "_view_module_version": "1.5.0",
            "_view_name": "HTMLView",
            "description": "",
            "description_tooltip": null,
            "layout": "IPY_MODEL_02519344818c40d0b961c5ea210a5c62",
            "placeholder": "​",
            "style": "IPY_MODEL_e575e46791b24f449b8afcb773e46dcc",
            "value": "100%"
          }
        },
        "771530ea22364f1ea8963e2d542fcf49": {
          "model_module": "@jupyter-widgets/base",
          "model_module_version": "1.2.0",
          "model_name": "LayoutModel",
          "state": {
            "_model_module": "@jupyter-widgets/base",
            "_model_module_version": "1.2.0",
            "_model_name": "LayoutModel",
            "_view_count": null,
            "_view_module": "@jupyter-widgets/base",
            "_view_module_version": "1.2.0",
            "_view_name": "LayoutView",
            "align_content": null,
            "align_items": null,
            "align_self": null,
            "border": null,
            "bottom": null,
            "display": null,
            "flex": null,
            "flex_flow": null,
            "grid_area": null,
            "grid_auto_columns": null,
            "grid_auto_flow": null,
            "grid_auto_rows": null,
            "grid_column": null,
            "grid_gap": null,
            "grid_row": null,
            "grid_template_areas": null,
            "grid_template_columns": null,
            "grid_template_rows": null,
            "height": null,
            "justify_content": null,
            "justify_items": null,
            "left": null,
            "margin": null,
            "max_height": null,
            "max_width": null,
            "min_height": null,
            "min_width": null,
            "object_fit": null,
            "object_position": null,
            "order": null,
            "overflow": null,
            "overflow_x": null,
            "overflow_y": null,
            "padding": null,
            "right": null,
            "top": null,
            "visibility": null,
            "width": null
          }
        },
        "7732bb1317f940faa455f992f4fd2b26": {
          "model_module": "@jupyter-widgets/base",
          "model_module_version": "1.2.0",
          "model_name": "LayoutModel",
          "state": {
            "_model_module": "@jupyter-widgets/base",
            "_model_module_version": "1.2.0",
            "_model_name": "LayoutModel",
            "_view_count": null,
            "_view_module": "@jupyter-widgets/base",
            "_view_module_version": "1.2.0",
            "_view_name": "LayoutView",
            "align_content": null,
            "align_items": null,
            "align_self": null,
            "border": null,
            "bottom": null,
            "display": null,
            "flex": null,
            "flex_flow": null,
            "grid_area": null,
            "grid_auto_columns": null,
            "grid_auto_flow": null,
            "grid_auto_rows": null,
            "grid_column": null,
            "grid_gap": null,
            "grid_row": null,
            "grid_template_areas": null,
            "grid_template_columns": null,
            "grid_template_rows": null,
            "height": null,
            "justify_content": null,
            "justify_items": null,
            "left": null,
            "margin": null,
            "max_height": null,
            "max_width": null,
            "min_height": null,
            "min_width": null,
            "object_fit": null,
            "object_position": null,
            "order": null,
            "overflow": null,
            "overflow_x": null,
            "overflow_y": null,
            "padding": null,
            "right": null,
            "top": null,
            "visibility": null,
            "width": null
          }
        },
        "7c81059d35534b799623afe872095cac": {
          "model_module": "@jupyter-widgets/controls",
          "model_module_version": "1.5.0",
          "model_name": "HBoxModel",
          "state": {
            "_dom_classes": [],
            "_model_module": "@jupyter-widgets/controls",
            "_model_module_version": "1.5.0",
            "_model_name": "HBoxModel",
            "_view_count": null,
            "_view_module": "@jupyter-widgets/controls",
            "_view_module_version": "1.5.0",
            "_view_name": "HBoxView",
            "box_style": "",
            "children": [
              "IPY_MODEL_379128a308ab43ee9e785e234bb94049",
              "IPY_MODEL_ff8e746cf8ef4f988617b8d4c0dd3c9c",
              "IPY_MODEL_0204a7bc668746a68f6e5e5632753c1c"
            ],
            "layout": "IPY_MODEL_84361b363998428a87b9e50b6625cca9"
          }
        },
        "7ce84a97d72848c0967f732734afdd68": {
          "model_module": "@jupyter-widgets/controls",
          "model_module_version": "1.5.0",
          "model_name": "DescriptionStyleModel",
          "state": {
            "_model_module": "@jupyter-widgets/controls",
            "_model_module_version": "1.5.0",
            "_model_name": "DescriptionStyleModel",
            "_view_count": null,
            "_view_module": "@jupyter-widgets/base",
            "_view_module_version": "1.2.0",
            "_view_name": "StyleView",
            "description_width": ""
          }
        },
        "7ea310732a56432da1a095a8d30edc1c": {
          "model_module": "@jupyter-widgets/controls",
          "model_module_version": "1.5.0",
          "model_name": "HTMLModel",
          "state": {
            "_dom_classes": [],
            "_model_module": "@jupyter-widgets/controls",
            "_model_module_version": "1.5.0",
            "_model_name": "HTMLModel",
            "_view_count": null,
            "_view_module": "@jupyter-widgets/controls",
            "_view_module_version": "1.5.0",
            "_view_name": "HTMLView",
            "description": "",
            "description_tooltip": null,
            "layout": "IPY_MODEL_771530ea22364f1ea8963e2d542fcf49",
            "placeholder": "​",
            "style": "IPY_MODEL_1cdac9cda666466ca1e09f32661d40ed",
            "value": "Downloading: 100%"
          }
        },
        "84361b363998428a87b9e50b6625cca9": {
          "model_module": "@jupyter-widgets/base",
          "model_module_version": "1.2.0",
          "model_name": "LayoutModel",
          "state": {
            "_model_module": "@jupyter-widgets/base",
            "_model_module_version": "1.2.0",
            "_model_name": "LayoutModel",
            "_view_count": null,
            "_view_module": "@jupyter-widgets/base",
            "_view_module_version": "1.2.0",
            "_view_name": "LayoutView",
            "align_content": null,
            "align_items": null,
            "align_self": null,
            "border": null,
            "bottom": null,
            "display": null,
            "flex": null,
            "flex_flow": null,
            "grid_area": null,
            "grid_auto_columns": null,
            "grid_auto_flow": null,
            "grid_auto_rows": null,
            "grid_column": null,
            "grid_gap": null,
            "grid_row": null,
            "grid_template_areas": null,
            "grid_template_columns": null,
            "grid_template_rows": null,
            "height": null,
            "justify_content": null,
            "justify_items": null,
            "left": null,
            "margin": null,
            "max_height": null,
            "max_width": null,
            "min_height": null,
            "min_width": null,
            "object_fit": null,
            "object_position": null,
            "order": null,
            "overflow": null,
            "overflow_x": null,
            "overflow_y": null,
            "padding": null,
            "right": null,
            "top": null,
            "visibility": null,
            "width": null
          }
        },
        "8541f8f949ea49b7a1335aaf31ca4f81": {
          "model_module": "@jupyter-widgets/base",
          "model_module_version": "1.2.0",
          "model_name": "LayoutModel",
          "state": {
            "_model_module": "@jupyter-widgets/base",
            "_model_module_version": "1.2.0",
            "_model_name": "LayoutModel",
            "_view_count": null,
            "_view_module": "@jupyter-widgets/base",
            "_view_module_version": "1.2.0",
            "_view_name": "LayoutView",
            "align_content": null,
            "align_items": null,
            "align_self": null,
            "border": null,
            "bottom": null,
            "display": null,
            "flex": null,
            "flex_flow": null,
            "grid_area": null,
            "grid_auto_columns": null,
            "grid_auto_flow": null,
            "grid_auto_rows": null,
            "grid_column": null,
            "grid_gap": null,
            "grid_row": null,
            "grid_template_areas": null,
            "grid_template_columns": null,
            "grid_template_rows": null,
            "height": null,
            "justify_content": null,
            "justify_items": null,
            "left": null,
            "margin": null,
            "max_height": null,
            "max_width": null,
            "min_height": null,
            "min_width": null,
            "object_fit": null,
            "object_position": null,
            "order": null,
            "overflow": null,
            "overflow_x": null,
            "overflow_y": null,
            "padding": null,
            "right": null,
            "top": null,
            "visibility": null,
            "width": null
          }
        },
        "8783792878a64402981a416989924348": {
          "model_module": "@jupyter-widgets/controls",
          "model_module_version": "1.5.0",
          "model_name": "HTMLModel",
          "state": {
            "_dom_classes": [],
            "_model_module": "@jupyter-widgets/controls",
            "_model_module_version": "1.5.0",
            "_model_name": "HTMLModel",
            "_view_count": null,
            "_view_module": "@jupyter-widgets/controls",
            "_view_module_version": "1.5.0",
            "_view_name": "HTMLView",
            "description": "",
            "description_tooltip": null,
            "layout": "IPY_MODEL_cc70741031664fa89bfe8e8e672c5b2b",
            "placeholder": "​",
            "style": "IPY_MODEL_46c8681bd36f419495d33b06c96311ed",
            "value": " 1/1 [00:00&lt;00:00, 18.54ba/s]"
          }
        },
        "890ff54dc35e460b9108e2690966fafe": {
          "model_module": "@jupyter-widgets/controls",
          "model_module_version": "1.5.0",
          "model_name": "ProgressStyleModel",
          "state": {
            "_model_module": "@jupyter-widgets/controls",
            "_model_module_version": "1.5.0",
            "_model_name": "ProgressStyleModel",
            "_view_count": null,
            "_view_module": "@jupyter-widgets/base",
            "_view_module_version": "1.2.0",
            "_view_name": "StyleView",
            "bar_color": null,
            "description_width": ""
          }
        },
        "8a669878b8354867944e577860910001": {
          "model_module": "@jupyter-widgets/controls",
          "model_module_version": "1.5.0",
          "model_name": "DescriptionStyleModel",
          "state": {
            "_model_module": "@jupyter-widgets/controls",
            "_model_module_version": "1.5.0",
            "_model_name": "DescriptionStyleModel",
            "_view_count": null,
            "_view_module": "@jupyter-widgets/base",
            "_view_module_version": "1.2.0",
            "_view_name": "StyleView",
            "description_width": ""
          }
        },
        "92c30a7c6102443cad2f6f03211c32e0": {
          "model_module": "@jupyter-widgets/controls",
          "model_module_version": "1.5.0",
          "model_name": "ProgressStyleModel",
          "state": {
            "_model_module": "@jupyter-widgets/controls",
            "_model_module_version": "1.5.0",
            "_model_name": "ProgressStyleModel",
            "_view_count": null,
            "_view_module": "@jupyter-widgets/base",
            "_view_module_version": "1.2.0",
            "_view_name": "StyleView",
            "bar_color": null,
            "description_width": ""
          }
        },
        "92e295e353624110880cff6835b9e119": {
          "model_module": "@jupyter-widgets/base",
          "model_module_version": "1.2.0",
          "model_name": "LayoutModel",
          "state": {
            "_model_module": "@jupyter-widgets/base",
            "_model_module_version": "1.2.0",
            "_model_name": "LayoutModel",
            "_view_count": null,
            "_view_module": "@jupyter-widgets/base",
            "_view_module_version": "1.2.0",
            "_view_name": "LayoutView",
            "align_content": null,
            "align_items": null,
            "align_self": null,
            "border": null,
            "bottom": null,
            "display": null,
            "flex": null,
            "flex_flow": null,
            "grid_area": null,
            "grid_auto_columns": null,
            "grid_auto_flow": null,
            "grid_auto_rows": null,
            "grid_column": null,
            "grid_gap": null,
            "grid_row": null,
            "grid_template_areas": null,
            "grid_template_columns": null,
            "grid_template_rows": null,
            "height": null,
            "justify_content": null,
            "justify_items": null,
            "left": null,
            "margin": null,
            "max_height": null,
            "max_width": null,
            "min_height": null,
            "min_width": null,
            "object_fit": null,
            "object_position": null,
            "order": null,
            "overflow": null,
            "overflow_x": null,
            "overflow_y": null,
            "padding": null,
            "right": null,
            "top": null,
            "visibility": null,
            "width": null
          }
        },
        "a1419cc920324f62be58d6e48a82e275": {
          "model_module": "@jupyter-widgets/controls",
          "model_module_version": "1.5.0",
          "model_name": "HTMLModel",
          "state": {
            "_dom_classes": [],
            "_model_module": "@jupyter-widgets/controls",
            "_model_module_version": "1.5.0",
            "_model_name": "HTMLModel",
            "_view_count": null,
            "_view_module": "@jupyter-widgets/controls",
            "_view_module_version": "1.5.0",
            "_view_name": "HTMLView",
            "description": "",
            "description_tooltip": null,
            "layout": "IPY_MODEL_bc11f833cc9c441b9a58d69ea792fa9c",
            "placeholder": "​",
            "style": "IPY_MODEL_4f81e460906a428f9f74a0aa469ba63f",
            "value": " 1/1 [00:00&lt;00:00, 12.65ba/s]"
          }
        },
        "a28d3e82e04646b79c89f93cf40ee596": {
          "model_module": "@jupyter-widgets/controls",
          "model_module_version": "1.5.0",
          "model_name": "PasswordModel",
          "state": {
            "_dom_classes": [],
            "_model_module": "@jupyter-widgets/controls",
            "_model_module_version": "1.5.0",
            "_model_name": "PasswordModel",
            "_view_count": null,
            "_view_module": "@jupyter-widgets/controls",
            "_view_module_version": "1.5.0",
            "_view_name": "PasswordView",
            "continuous_update": true,
            "description": "Password:",
            "description_tooltip": null,
            "disabled": false,
            "layout": "IPY_MODEL_8541f8f949ea49b7a1335aaf31ca4f81",
            "placeholder": "​",
            "style": "IPY_MODEL_c237b5686d3e48aeb226c87aa703f63d",
            "value": ""
          }
        },
        "a5777207c788498fb4ac4900af91d7cf": {
          "model_module": "@jupyter-widgets/base",
          "model_module_version": "1.2.0",
          "model_name": "LayoutModel",
          "state": {
            "_model_module": "@jupyter-widgets/base",
            "_model_module_version": "1.2.0",
            "_model_name": "LayoutModel",
            "_view_count": null,
            "_view_module": "@jupyter-widgets/base",
            "_view_module_version": "1.2.0",
            "_view_name": "LayoutView",
            "align_content": null,
            "align_items": null,
            "align_self": null,
            "border": null,
            "bottom": null,
            "display": null,
            "flex": null,
            "flex_flow": null,
            "grid_area": null,
            "grid_auto_columns": null,
            "grid_auto_flow": null,
            "grid_auto_rows": null,
            "grid_column": null,
            "grid_gap": null,
            "grid_row": null,
            "grid_template_areas": null,
            "grid_template_columns": null,
            "grid_template_rows": null,
            "height": null,
            "justify_content": null,
            "justify_items": null,
            "left": null,
            "margin": null,
            "max_height": null,
            "max_width": null,
            "min_height": null,
            "min_width": null,
            "object_fit": null,
            "object_position": null,
            "order": null,
            "overflow": null,
            "overflow_x": null,
            "overflow_y": null,
            "padding": null,
            "right": null,
            "top": null,
            "visibility": null,
            "width": null
          }
        },
        "a5e2e1fe3ab94cc6ae1a73cc1ab6f9a8": {
          "model_module": "@jupyter-widgets/controls",
          "model_module_version": "1.5.0",
          "model_name": "DescriptionStyleModel",
          "state": {
            "_model_module": "@jupyter-widgets/controls",
            "_model_module_version": "1.5.0",
            "_model_name": "DescriptionStyleModel",
            "_view_count": null,
            "_view_module": "@jupyter-widgets/base",
            "_view_module_version": "1.2.0",
            "_view_name": "StyleView",
            "description_width": ""
          }
        },
        "a62ff1ee03dc47c9834b43720df991ea": {
          "model_module": "@jupyter-widgets/controls",
          "model_module_version": "1.5.0",
          "model_name": "FloatProgressModel",
          "state": {
            "_dom_classes": [],
            "_model_module": "@jupyter-widgets/controls",
            "_model_module_version": "1.5.0",
            "_model_name": "FloatProgressModel",
            "_view_count": null,
            "_view_module": "@jupyter-widgets/controls",
            "_view_module_version": "1.5.0",
            "_view_name": "ProgressView",
            "bar_style": "success",
            "description": "",
            "description_tooltip": null,
            "layout": "IPY_MODEL_6323e35581be4b338a904266a5e85005",
            "max": 3478,
            "min": 0,
            "orientation": "horizontal",
            "style": "IPY_MODEL_6da7072e7f634a3aa2927fca1bcf38c0",
            "value": 3478
          }
        },
        "aa92ff120d9c4dd68ae941d7a1f33a81": {
          "model_module": "@jupyter-widgets/controls",
          "model_module_version": "1.5.0",
          "model_name": "HTMLModel",
          "state": {
            "_dom_classes": [],
            "_model_module": "@jupyter-widgets/controls",
            "_model_module_version": "1.5.0",
            "_model_name": "HTMLModel",
            "_view_count": null,
            "_view_module": "@jupyter-widgets/controls",
            "_view_module_version": "1.5.0",
            "_view_name": "HTMLView",
            "description": "",
            "description_tooltip": null,
            "layout": "IPY_MODEL_ad95ae421231492e814238bde2ecb551",
            "placeholder": "​",
            "style": "IPY_MODEL_136f973d9623421eb38e09c73c6b6810",
            "value": " 1.53k/1.53k [00:00&lt;00:00, 36.6kB/s]"
          }
        },
        "acc35dfdfca542828d1bb02cbde15dfe": {
          "model_module": "@jupyter-widgets/controls",
          "model_module_version": "1.5.0",
          "model_name": "FloatProgressModel",
          "state": {
            "_dom_classes": [],
            "_model_module": "@jupyter-widgets/controls",
            "_model_module_version": "1.5.0",
            "_model_name": "FloatProgressModel",
            "_view_count": null,
            "_view_module": "@jupyter-widgets/controls",
            "_view_module_version": "1.5.0",
            "_view_name": "ProgressView",
            "bar_style": "success",
            "description": "",
            "description_tooltip": null,
            "layout": "IPY_MODEL_6ae3b3139e6641fc9e62ae5744349add",
            "max": 1568,
            "min": 0,
            "orientation": "horizontal",
            "style": "IPY_MODEL_92c30a7c6102443cad2f6f03211c32e0",
            "value": 1568
          }
        },
        "ad95ae421231492e814238bde2ecb551": {
          "model_module": "@jupyter-widgets/base",
          "model_module_version": "1.2.0",
          "model_name": "LayoutModel",
          "state": {
            "_model_module": "@jupyter-widgets/base",
            "_model_module_version": "1.2.0",
            "_model_name": "LayoutModel",
            "_view_count": null,
            "_view_module": "@jupyter-widgets/base",
            "_view_module_version": "1.2.0",
            "_view_name": "LayoutView",
            "align_content": null,
            "align_items": null,
            "align_self": null,
            "border": null,
            "bottom": null,
            "display": null,
            "flex": null,
            "flex_flow": null,
            "grid_area": null,
            "grid_auto_columns": null,
            "grid_auto_flow": null,
            "grid_auto_rows": null,
            "grid_column": null,
            "grid_gap": null,
            "grid_row": null,
            "grid_template_areas": null,
            "grid_template_columns": null,
            "grid_template_rows": null,
            "height": null,
            "justify_content": null,
            "justify_items": null,
            "left": null,
            "margin": null,
            "max_height": null,
            "max_width": null,
            "min_height": null,
            "min_width": null,
            "object_fit": null,
            "object_position": null,
            "order": null,
            "overflow": null,
            "overflow_x": null,
            "overflow_y": null,
            "padding": null,
            "right": null,
            "top": null,
            "visibility": null,
            "width": null
          }
        },
        "b896566369e3403091e357af18648740": {
          "model_module": "@jupyter-widgets/controls",
          "model_module_version": "1.5.0",
          "model_name": "VBoxModel",
          "state": {
            "_dom_classes": [],
            "_model_module": "@jupyter-widgets/controls",
            "_model_module_version": "1.5.0",
            "_model_name": "VBoxModel",
            "_view_count": null,
            "_view_module": "@jupyter-widgets/controls",
            "_view_module_version": "1.5.0",
            "_view_name": "VBoxView",
            "box_style": "",
            "children": [
              "IPY_MODEL_26bf8a70fe5449a99ca1b06430b2fc8f",
              "IPY_MODEL_dd5d9b3f70ee4a0dabe18e87ab38145c",
              "IPY_MODEL_2d4eb3e5acc348948299c506db83ca90"
            ],
            "layout": "IPY_MODEL_384228b409cb4bb0bbd77ef259b9a568"
          }
        },
        "b9c5532ffabb44078de8a6f76a4b8be6": {
          "model_module": "@jupyter-widgets/controls",
          "model_module_version": "1.5.0",
          "model_name": "HTMLModel",
          "state": {
            "_dom_classes": [],
            "_model_module": "@jupyter-widgets/controls",
            "_model_module_version": "1.5.0",
            "_model_name": "HTMLModel",
            "_view_count": null,
            "_view_module": "@jupyter-widgets/controls",
            "_view_module_version": "1.5.0",
            "_view_name": "HTMLView",
            "description": "",
            "description_tooltip": null,
            "layout": "IPY_MODEL_fe156fa95ee9410daff8f7c9a8b0d3a3",
            "placeholder": "​",
            "style": "IPY_MODEL_a5e2e1fe3ab94cc6ae1a73cc1ab6f9a8",
            "value": " 1647/1647 [00:20&lt;00:00, 89.86ex/s]"
          }
        },
        "bbfc45e0cf5644f6bc24118fa9c6c098": {
          "model_module": "@jupyter-widgets/base",
          "model_module_version": "1.2.0",
          "model_name": "LayoutModel",
          "state": {
            "_model_module": "@jupyter-widgets/base",
            "_model_module_version": "1.2.0",
            "_model_name": "LayoutModel",
            "_view_count": null,
            "_view_module": "@jupyter-widgets/base",
            "_view_module_version": "1.2.0",
            "_view_name": "LayoutView",
            "align_content": null,
            "align_items": null,
            "align_self": null,
            "border": null,
            "bottom": null,
            "display": null,
            "flex": null,
            "flex_flow": null,
            "grid_area": null,
            "grid_auto_columns": null,
            "grid_auto_flow": null,
            "grid_auto_rows": null,
            "grid_column": null,
            "grid_gap": null,
            "grid_row": null,
            "grid_template_areas": null,
            "grid_template_columns": null,
            "grid_template_rows": null,
            "height": null,
            "justify_content": null,
            "justify_items": null,
            "left": null,
            "margin": null,
            "max_height": null,
            "max_width": null,
            "min_height": null,
            "min_width": null,
            "object_fit": null,
            "object_position": null,
            "order": null,
            "overflow": null,
            "overflow_x": null,
            "overflow_y": null,
            "padding": null,
            "right": null,
            "top": null,
            "visibility": null,
            "width": null
          }
        },
        "bc11f833cc9c441b9a58d69ea792fa9c": {
          "model_module": "@jupyter-widgets/base",
          "model_module_version": "1.2.0",
          "model_name": "LayoutModel",
          "state": {
            "_model_module": "@jupyter-widgets/base",
            "_model_module_version": "1.2.0",
            "_model_name": "LayoutModel",
            "_view_count": null,
            "_view_module": "@jupyter-widgets/base",
            "_view_module_version": "1.2.0",
            "_view_name": "LayoutView",
            "align_content": null,
            "align_items": null,
            "align_self": null,
            "border": null,
            "bottom": null,
            "display": null,
            "flex": null,
            "flex_flow": null,
            "grid_area": null,
            "grid_auto_columns": null,
            "grid_auto_flow": null,
            "grid_auto_rows": null,
            "grid_column": null,
            "grid_gap": null,
            "grid_row": null,
            "grid_template_areas": null,
            "grid_template_columns": null,
            "grid_template_rows": null,
            "height": null,
            "justify_content": null,
            "justify_items": null,
            "left": null,
            "margin": null,
            "max_height": null,
            "max_width": null,
            "min_height": null,
            "min_width": null,
            "object_fit": null,
            "object_position": null,
            "order": null,
            "overflow": null,
            "overflow_x": null,
            "overflow_y": null,
            "padding": null,
            "right": null,
            "top": null,
            "visibility": null,
            "width": null
          }
        },
        "bdcf9380af5d4601b9b2de84b06ecb40": {
          "model_module": "@jupyter-widgets/controls",
          "model_module_version": "1.5.0",
          "model_name": "FloatProgressModel",
          "state": {
            "_dom_classes": [],
            "_model_module": "@jupyter-widgets/controls",
            "_model_module_version": "1.5.0",
            "_model_name": "FloatProgressModel",
            "_view_count": null,
            "_view_module": "@jupyter-widgets/controls",
            "_view_module_version": "1.5.0",
            "_view_name": "ProgressView",
            "bar_style": "success",
            "description": "",
            "description_tooltip": null,
            "layout": "IPY_MODEL_bbfc45e0cf5644f6bc24118fa9c6c098",
            "max": 1647,
            "min": 0,
            "orientation": "horizontal",
            "style": "IPY_MODEL_eca458b185ae4570b1ec1e77389c871e",
            "value": 1647
          }
        },
        "bfb6a1e47f6e4f74af4db7e71227ef3e": {
          "model_module": "@jupyter-widgets/controls",
          "model_module_version": "1.5.0",
          "model_name": "DescriptionStyleModel",
          "state": {
            "_model_module": "@jupyter-widgets/controls",
            "_model_module_version": "1.5.0",
            "_model_name": "DescriptionStyleModel",
            "_view_count": null,
            "_view_module": "@jupyter-widgets/base",
            "_view_module_version": "1.2.0",
            "_view_name": "StyleView",
            "description_width": ""
          }
        },
        "c0919f3c8d594911815ce63273f7fe51": {
          "model_module": "@jupyter-widgets/base",
          "model_module_version": "1.2.0",
          "model_name": "LayoutModel",
          "state": {
            "_model_module": "@jupyter-widgets/base",
            "_model_module_version": "1.2.0",
            "_model_name": "LayoutModel",
            "_view_count": null,
            "_view_module": "@jupyter-widgets/base",
            "_view_module_version": "1.2.0",
            "_view_name": "LayoutView",
            "align_content": null,
            "align_items": null,
            "align_self": null,
            "border": null,
            "bottom": null,
            "display": null,
            "flex": null,
            "flex_flow": null,
            "grid_area": null,
            "grid_auto_columns": null,
            "grid_auto_flow": null,
            "grid_auto_rows": null,
            "grid_column": null,
            "grid_gap": null,
            "grid_row": null,
            "grid_template_areas": null,
            "grid_template_columns": null,
            "grid_template_rows": null,
            "height": null,
            "justify_content": null,
            "justify_items": null,
            "left": null,
            "margin": null,
            "max_height": null,
            "max_width": null,
            "min_height": null,
            "min_width": null,
            "object_fit": null,
            "object_position": null,
            "order": null,
            "overflow": null,
            "overflow_x": null,
            "overflow_y": null,
            "padding": null,
            "right": null,
            "top": null,
            "visibility": null,
            "width": null
          }
        },
        "c237b5686d3e48aeb226c87aa703f63d": {
          "model_module": "@jupyter-widgets/controls",
          "model_module_version": "1.5.0",
          "model_name": "DescriptionStyleModel",
          "state": {
            "_model_module": "@jupyter-widgets/controls",
            "_model_module_version": "1.5.0",
            "_model_name": "DescriptionStyleModel",
            "_view_count": null,
            "_view_module": "@jupyter-widgets/base",
            "_view_module_version": "1.2.0",
            "_view_name": "StyleView",
            "description_width": ""
          }
        },
        "cc70741031664fa89bfe8e8e672c5b2b": {
          "model_module": "@jupyter-widgets/base",
          "model_module_version": "1.2.0",
          "model_name": "LayoutModel",
          "state": {
            "_model_module": "@jupyter-widgets/base",
            "_model_module_version": "1.2.0",
            "_model_name": "LayoutModel",
            "_view_count": null,
            "_view_module": "@jupyter-widgets/base",
            "_view_module_version": "1.2.0",
            "_view_name": "LayoutView",
            "align_content": null,
            "align_items": null,
            "align_self": null,
            "border": null,
            "bottom": null,
            "display": null,
            "flex": null,
            "flex_flow": null,
            "grid_area": null,
            "grid_auto_columns": null,
            "grid_auto_flow": null,
            "grid_auto_rows": null,
            "grid_column": null,
            "grid_gap": null,
            "grid_row": null,
            "grid_template_areas": null,
            "grid_template_columns": null,
            "grid_template_rows": null,
            "height": null,
            "justify_content": null,
            "justify_items": null,
            "left": null,
            "margin": null,
            "max_height": null,
            "max_width": null,
            "min_height": null,
            "min_width": null,
            "object_fit": null,
            "object_position": null,
            "order": null,
            "overflow": null,
            "overflow_x": null,
            "overflow_y": null,
            "padding": null,
            "right": null,
            "top": null,
            "visibility": null,
            "width": null
          }
        },
        "ce429683f48349c083e5fc3253a897d7": {
          "model_module": "@jupyter-widgets/controls",
          "model_module_version": "1.5.0",
          "model_name": "HTMLModel",
          "state": {
            "_dom_classes": [],
            "_model_module": "@jupyter-widgets/controls",
            "_model_module_version": "1.5.0",
            "_model_name": "HTMLModel",
            "_view_count": null,
            "_view_module": "@jupyter-widgets/controls",
            "_view_module_version": "1.5.0",
            "_view_name": "HTMLView",
            "description": "",
            "description_tooltip": null,
            "layout": "IPY_MODEL_4246da00789f44e2abce952906bde6f1",
            "placeholder": "​",
            "style": "IPY_MODEL_059588e34a88476eb6bbc1860ddc27ef",
            "value": "Downloading: 100%"
          }
        },
        "d11d94912b26401a860c80eba767907a": {
          "model_module": "@jupyter-widgets/base",
          "model_module_version": "1.2.0",
          "model_name": "LayoutModel",
          "state": {
            "_model_module": "@jupyter-widgets/base",
            "_model_module_version": "1.2.0",
            "_model_name": "LayoutModel",
            "_view_count": null,
            "_view_module": "@jupyter-widgets/base",
            "_view_module_version": "1.2.0",
            "_view_name": "LayoutView",
            "align_content": null,
            "align_items": null,
            "align_self": null,
            "border": null,
            "bottom": null,
            "display": null,
            "flex": null,
            "flex_flow": null,
            "grid_area": null,
            "grid_auto_columns": null,
            "grid_auto_flow": null,
            "grid_auto_rows": null,
            "grid_column": null,
            "grid_gap": null,
            "grid_row": null,
            "grid_template_areas": null,
            "grid_template_columns": null,
            "grid_template_rows": null,
            "height": null,
            "justify_content": null,
            "justify_items": null,
            "left": null,
            "margin": null,
            "max_height": null,
            "max_width": null,
            "min_height": null,
            "min_width": null,
            "object_fit": null,
            "object_position": null,
            "order": null,
            "overflow": null,
            "overflow_x": null,
            "overflow_y": null,
            "padding": null,
            "right": null,
            "top": null,
            "visibility": null,
            "width": null
          }
        },
        "d3b5f5a0d35642e0b606ac63c38f88fa": {
          "model_module": "@jupyter-widgets/base",
          "model_module_version": "1.2.0",
          "model_name": "LayoutModel",
          "state": {
            "_model_module": "@jupyter-widgets/base",
            "_model_module_version": "1.2.0",
            "_model_name": "LayoutModel",
            "_view_count": null,
            "_view_module": "@jupyter-widgets/base",
            "_view_module_version": "1.2.0",
            "_view_name": "LayoutView",
            "align_content": null,
            "align_items": null,
            "align_self": null,
            "border": null,
            "bottom": null,
            "display": null,
            "flex": null,
            "flex_flow": null,
            "grid_area": null,
            "grid_auto_columns": null,
            "grid_auto_flow": null,
            "grid_auto_rows": null,
            "grid_column": null,
            "grid_gap": null,
            "grid_row": null,
            "grid_template_areas": null,
            "grid_template_columns": null,
            "grid_template_rows": null,
            "height": null,
            "justify_content": null,
            "justify_items": null,
            "left": null,
            "margin": null,
            "max_height": null,
            "max_width": null,
            "min_height": null,
            "min_width": null,
            "object_fit": null,
            "object_position": null,
            "order": null,
            "overflow": null,
            "overflow_x": null,
            "overflow_y": null,
            "padding": null,
            "right": null,
            "top": null,
            "visibility": null,
            "width": null
          }
        },
        "db7a9c27eabb4ba391bfb9d819d7a36e": {
          "model_module": "@jupyter-widgets/base",
          "model_module_version": "1.2.0",
          "model_name": "LayoutModel",
          "state": {
            "_model_module": "@jupyter-widgets/base",
            "_model_module_version": "1.2.0",
            "_model_name": "LayoutModel",
            "_view_count": null,
            "_view_module": "@jupyter-widgets/base",
            "_view_module_version": "1.2.0",
            "_view_name": "LayoutView",
            "align_content": null,
            "align_items": null,
            "align_self": null,
            "border": null,
            "bottom": null,
            "display": null,
            "flex": null,
            "flex_flow": null,
            "grid_area": null,
            "grid_auto_columns": null,
            "grid_auto_flow": null,
            "grid_auto_rows": null,
            "grid_column": null,
            "grid_gap": null,
            "grid_row": null,
            "grid_template_areas": null,
            "grid_template_columns": null,
            "grid_template_rows": null,
            "height": null,
            "justify_content": null,
            "justify_items": null,
            "left": null,
            "margin": null,
            "max_height": null,
            "max_width": null,
            "min_height": null,
            "min_width": null,
            "object_fit": null,
            "object_position": null,
            "order": null,
            "overflow": null,
            "overflow_x": null,
            "overflow_y": null,
            "padding": null,
            "right": null,
            "top": null,
            "visibility": null,
            "width": null
          }
        },
        "dd5d9b3f70ee4a0dabe18e87ab38145c": {
          "model_module": "@jupyter-widgets/controls",
          "model_module_version": "1.5.0",
          "model_name": "HBoxModel",
          "state": {
            "_dom_classes": [],
            "_model_module": "@jupyter-widgets/controls",
            "_model_module_version": "1.5.0",
            "_model_name": "HBoxModel",
            "_view_count": null,
            "_view_module": "@jupyter-widgets/controls",
            "_view_module_version": "1.5.0",
            "_view_name": "HBoxView",
            "box_style": "",
            "children": [
              "IPY_MODEL_49f98244a8634be9b2305bb87731e765",
              "IPY_MODEL_a28d3e82e04646b79c89f93cf40ee596"
            ],
            "layout": "IPY_MODEL_4c3e043e600641538a479df6ad389784"
          }
        },
        "de1e5c31eacf4fa59cfa51926354acca": {
          "model_module": "@jupyter-widgets/controls",
          "model_module_version": "1.5.0",
          "model_name": "DescriptionStyleModel",
          "state": {
            "_model_module": "@jupyter-widgets/controls",
            "_model_module_version": "1.5.0",
            "_model_name": "DescriptionStyleModel",
            "_view_count": null,
            "_view_module": "@jupyter-widgets/base",
            "_view_module_version": "1.2.0",
            "_view_name": "StyleView",
            "description_width": ""
          }
        },
        "e575e46791b24f449b8afcb773e46dcc": {
          "model_module": "@jupyter-widgets/controls",
          "model_module_version": "1.5.0",
          "model_name": "DescriptionStyleModel",
          "state": {
            "_model_module": "@jupyter-widgets/controls",
            "_model_module_version": "1.5.0",
            "_model_name": "DescriptionStyleModel",
            "_view_count": null,
            "_view_module": "@jupyter-widgets/base",
            "_view_module_version": "1.2.0",
            "_view_name": "StyleView",
            "description_width": ""
          }
        },
        "e78238c96d6a4152bf40f5d7a81e5495": {
          "model_module": "@jupyter-widgets/controls",
          "model_module_version": "1.5.0",
          "model_name": "HBoxModel",
          "state": {
            "_dom_classes": [],
            "_model_module": "@jupyter-widgets/controls",
            "_model_module_version": "1.5.0",
            "_model_name": "HBoxModel",
            "_view_count": null,
            "_view_module": "@jupyter-widgets/controls",
            "_view_module_version": "1.5.0",
            "_view_name": "HBoxView",
            "box_style": "",
            "children": [
              "IPY_MODEL_75b26f4a95d24e9d8939d1f7b376eb51",
              "IPY_MODEL_f58af0561fc242238cfd0163f0ad5e5f",
              "IPY_MODEL_a1419cc920324f62be58d6e48a82e275"
            ],
            "layout": "IPY_MODEL_6ec3c80319fb45f3b6f7715049c9bce0"
          }
        },
        "e9531fcd48b74929bfdb45cd3f3315e7": {
          "model_module": "@jupyter-widgets/controls",
          "model_module_version": "1.5.0",
          "model_name": "ProgressStyleModel",
          "state": {
            "_model_module": "@jupyter-widgets/controls",
            "_model_module_version": "1.5.0",
            "_model_name": "ProgressStyleModel",
            "_view_count": null,
            "_view_module": "@jupyter-widgets/base",
            "_view_module_version": "1.2.0",
            "_view_name": "StyleView",
            "bar_color": null,
            "description_width": ""
          }
        },
        "eca458b185ae4570b1ec1e77389c871e": {
          "model_module": "@jupyter-widgets/controls",
          "model_module_version": "1.5.0",
          "model_name": "ProgressStyleModel",
          "state": {
            "_model_module": "@jupyter-widgets/controls",
            "_model_module_version": "1.5.0",
            "_model_name": "ProgressStyleModel",
            "_view_count": null,
            "_view_module": "@jupyter-widgets/base",
            "_view_module_version": "1.2.0",
            "_view_name": "StyleView",
            "bar_color": null,
            "description_width": ""
          }
        },
        "f28c64f34f9540b6b6bdc765c84e2307": {
          "model_module": "@jupyter-widgets/base",
          "model_module_version": "1.2.0",
          "model_name": "LayoutModel",
          "state": {
            "_model_module": "@jupyter-widgets/base",
            "_model_module_version": "1.2.0",
            "_model_name": "LayoutModel",
            "_view_count": null,
            "_view_module": "@jupyter-widgets/base",
            "_view_module_version": "1.2.0",
            "_view_name": "LayoutView",
            "align_content": null,
            "align_items": null,
            "align_self": null,
            "border": null,
            "bottom": null,
            "display": null,
            "flex": null,
            "flex_flow": null,
            "grid_area": null,
            "grid_auto_columns": null,
            "grid_auto_flow": null,
            "grid_auto_rows": null,
            "grid_column": null,
            "grid_gap": null,
            "grid_row": null,
            "grid_template_areas": null,
            "grid_template_columns": null,
            "grid_template_rows": null,
            "height": null,
            "justify_content": null,
            "justify_items": null,
            "left": null,
            "margin": null,
            "max_height": null,
            "max_width": null,
            "min_height": null,
            "min_width": null,
            "object_fit": null,
            "object_position": null,
            "order": null,
            "overflow": null,
            "overflow_x": null,
            "overflow_y": null,
            "padding": null,
            "right": null,
            "top": null,
            "visibility": null,
            "width": null
          }
        },
        "f4af6a0756e241e49e5d325f1bdb18b4": {
          "model_module": "@jupyter-widgets/controls",
          "model_module_version": "1.5.0",
          "model_name": "HTMLModel",
          "state": {
            "_dom_classes": [],
            "_model_module": "@jupyter-widgets/controls",
            "_model_module_version": "1.5.0",
            "_model_name": "HTMLModel",
            "_view_count": null,
            "_view_module": "@jupyter-widgets/controls",
            "_view_module_version": "1.5.0",
            "_view_name": "HTMLView",
            "description": "",
            "description_tooltip": null,
            "layout": "IPY_MODEL_349c9e8b2a8846c1bff5a03d2a28066a",
            "placeholder": "​",
            "style": "IPY_MODEL_de1e5c31eacf4fa59cfa51926354acca",
            "value": " 1.18G/1.18G [00:39&lt;00:00, 35.4MB/s]"
          }
        },
        "f58af0561fc242238cfd0163f0ad5e5f": {
          "model_module": "@jupyter-widgets/controls",
          "model_module_version": "1.5.0",
          "model_name": "FloatProgressModel",
          "state": {
            "_dom_classes": [],
            "_model_module": "@jupyter-widgets/controls",
            "_model_module_version": "1.5.0",
            "_model_name": "FloatProgressModel",
            "_view_count": null,
            "_view_module": "@jupyter-widgets/controls",
            "_view_module_version": "1.5.0",
            "_view_name": "ProgressView",
            "bar_style": "success",
            "description": "",
            "description_tooltip": null,
            "layout": "IPY_MODEL_5cff6b2dd6944c59b8c2f205db5f49bf",
            "max": 1,
            "min": 0,
            "orientation": "horizontal",
            "style": "IPY_MODEL_5ba2a38c71e64253a4fd39cf7d3b3326",
            "value": 1
          }
        },
        "f6e0ea791e5a44abb5d5891bb3e254ad": {
          "model_module": "@jupyter-widgets/controls",
          "model_module_version": "1.5.0",
          "model_name": "DescriptionStyleModel",
          "state": {
            "_model_module": "@jupyter-widgets/controls",
            "_model_module_version": "1.5.0",
            "_model_name": "DescriptionStyleModel",
            "_view_count": null,
            "_view_module": "@jupyter-widgets/base",
            "_view_module_version": "1.2.0",
            "_view_name": "StyleView",
            "description_width": ""
          }
        },
        "f6e777f3a1684a7da3efc63281553b5e": {
          "model_module": "@jupyter-widgets/controls",
          "model_module_version": "1.5.0",
          "model_name": "HTMLModel",
          "state": {
            "_dom_classes": [],
            "_model_module": "@jupyter-widgets/controls",
            "_model_module_version": "1.5.0",
            "_model_name": "HTMLModel",
            "_view_count": null,
            "_view_module": "@jupyter-widgets/controls",
            "_view_module_version": "1.5.0",
            "_view_name": "HTMLView",
            "description": "",
            "description_tooltip": null,
            "layout": "IPY_MODEL_db7a9c27eabb4ba391bfb9d819d7a36e",
            "placeholder": "​",
            "style": "IPY_MODEL_fd2ba2bf4b2946078a0761b773626b64",
            "value": "100%"
          }
        },
        "fd2ba2bf4b2946078a0761b773626b64": {
          "model_module": "@jupyter-widgets/controls",
          "model_module_version": "1.5.0",
          "model_name": "DescriptionStyleModel",
          "state": {
            "_model_module": "@jupyter-widgets/controls",
            "_model_module_version": "1.5.0",
            "_model_name": "DescriptionStyleModel",
            "_view_count": null,
            "_view_module": "@jupyter-widgets/base",
            "_view_module_version": "1.2.0",
            "_view_name": "StyleView",
            "description_width": ""
          }
        },
        "fe156fa95ee9410daff8f7c9a8b0d3a3": {
          "model_module": "@jupyter-widgets/base",
          "model_module_version": "1.2.0",
          "model_name": "LayoutModel",
          "state": {
            "_model_module": "@jupyter-widgets/base",
            "_model_module_version": "1.2.0",
            "_model_name": "LayoutModel",
            "_view_count": null,
            "_view_module": "@jupyter-widgets/base",
            "_view_module_version": "1.2.0",
            "_view_name": "LayoutView",
            "align_content": null,
            "align_items": null,
            "align_self": null,
            "border": null,
            "bottom": null,
            "display": null,
            "flex": null,
            "flex_flow": null,
            "grid_area": null,
            "grid_auto_columns": null,
            "grid_auto_flow": null,
            "grid_auto_rows": null,
            "grid_column": null,
            "grid_gap": null,
            "grid_row": null,
            "grid_template_areas": null,
            "grid_template_columns": null,
            "grid_template_rows": null,
            "height": null,
            "justify_content": null,
            "justify_items": null,
            "left": null,
            "margin": null,
            "max_height": null,
            "max_width": null,
            "min_height": null,
            "min_width": null,
            "object_fit": null,
            "object_position": null,
            "order": null,
            "overflow": null,
            "overflow_x": null,
            "overflow_y": null,
            "padding": null,
            "right": null,
            "top": null,
            "visibility": null,
            "width": null
          }
        },
        "ff8e746cf8ef4f988617b8d4c0dd3c9c": {
          "model_module": "@jupyter-widgets/controls",
          "model_module_version": "1.5.0",
          "model_name": "FloatProgressModel",
          "state": {
            "_dom_classes": [],
            "_model_module": "@jupyter-widgets/controls",
            "_model_module_version": "1.5.0",
            "_model_name": "FloatProgressModel",
            "_view_count": null,
            "_view_module": "@jupyter-widgets/controls",
            "_view_module_version": "1.5.0",
            "_view_name": "ProgressView",
            "bar_style": "success",
            "description": "",
            "description_tooltip": null,
            "layout": "IPY_MODEL_5cd8c74ba2e845d498afdc1c25009767",
            "max": 1947,
            "min": 0,
            "orientation": "horizontal",
            "style": "IPY_MODEL_3f0c587f7b764d96837c8e16254aab12",
            "value": 1947
          }
        }
      }
    }
  },
  "nbformat": 4,
  "nbformat_minor": 0
}
