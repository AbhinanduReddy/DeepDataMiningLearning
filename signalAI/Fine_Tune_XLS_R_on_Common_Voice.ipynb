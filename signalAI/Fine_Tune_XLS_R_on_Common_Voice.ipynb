{
  "cells": [
    {
      "cell_type": "markdown",
      "metadata": {
        "id": "LBSYoWbi-45k"
      },
      "source": [
        "# **Fine-tuning XLS-R for Multi-Lingual ASR with 🤗 Transformers**\n",
        "\n",
        "ref: https://huggingface.co/blog/fine-tune-xlsr-wav2vec2\n",
        "Original colab link: https://colab.research.google.com/github/patrickvonplaten/notebooks/blob/master/Fine_Tune_XLS_R_on_Common_Voice.ipynb\n"
      ]
    },
    {
      "cell_type": "markdown",
      "metadata": {
        "id": "V7YOT2mnUiea"
      },
      "source": [
        "**Wav2Vec2** is a pretrained model for Automatic Speech Recognition (ASR) and was released in [September 2020](https://ai.facebook.com/blog/wav2vec-20-learning-the-structure-of-speech-from-raw-audio/) by *Alexei Baevski, Michael Auli, and Alex Conneau*.  Soon after the superior performance of Wav2Vec2 was demonstrated on one of the most popular English datasets for ASR, called [LibriSpeech](https://huggingface.co/datasets/librispeech_asr), *Facebook AI* presented a multi-lingual version of Wav2Vec2, called [XLSR](https://arxiv.org/abs/2006.13979). XLSR stands for *cross-lingual speech representations* and refers to model's ability to learn speech representations that are useful across multiple languages.\n",
        "\n",
        "XLSR's successor, simply called **XLS-R** (refering to the [*''XLM-R*](https://ai.facebook.com/blog/-xlm-r-state-of-the-art-cross-lingual-understanding-through-self-supervision/) *for Speech''*), was released in [November 2021](https://ai.facebook.com/blog/xls-r-self-supervised-speech-processing-for-128-languages) by *Arun Babu, Changhan Wang, Andros Tjandra, et al.* XLS-R used almost **half a million** hours of audio data in 128 languages for self-supervised pre-training and comes in sizes ranging from 300 milion up to **two billion** parameters. You can find the pretrained checkpoints on the 🤗 Hub:\n",
        "\n",
        "- [**Wav2Vec2-XLS-R-300M**](https://huggingface.co/facebook/wav2vec2-xls-r-300m)\n",
        "- [**Wav2Vec2-XLS-R-1B**](https://huggingface.co/facebook/wav2vec2-xls-r-1b)\n",
        "- [**Wav2Vec2-XLS-R-2B**](https://huggingface.co/facebook/wav2vec2-xls-r-2b)\n",
        "\n",
        "Similar to [BERT's masked language modeling objective](http://jalammar.github.io/illustrated-bert/), XLS-R learns contextualized speech representations by randomly masking feature vectors before passing them to a transformer network during self-supervised pre-training (*i.e.* diagram on the left below).\n",
        "\n",
        "For fine-tuning, a single linear layer is added on top of the pre-trained network to train the model on labeled data of audio downstream tasks such as speech recognition, speech translation and audio classification (*i.e.* diagram on the right below).\n",
        "\n",
        "![wav2vec2_structure](https://raw.githubusercontent.com/patrickvonplaten/scientific_images/master/xls_r.png)\n",
        "\n",
        "XLS-R shows impressive improvements over previous state-of-the-art results on both speech recognition, speech translation and speaker/language identification, *cf.* with Table 3-6, Table 7-10, and Table 11-12 respectively of the official [paper](https://ai.facebook.com/blog/xls-r-self-supervised-speech-processing-for-128-languages)."
      ]
    },
    {
      "cell_type": "markdown",
      "metadata": {
        "id": "nT_QrfWtsxIz"
      },
      "source": [
        "## Notebook Setup"
      ]
    },
    {
      "cell_type": "markdown",
      "metadata": {
        "id": "kruqixOYHaIo"
      },
      "source": [
        "\n",
        "In this notebook, we will give an in-detail explanation of how XLS-R - more specifically the pre-trained checkpoint [**Wav2Vec2-XLS-R-300M**](https://huggingface.co/facebook/wav2vec2-xls-r-300m) - can be fine-tuned for ASR.  \n",
        "\n",
        "For demonstration purposes, we fine-tune the model on the low resource ASR dataset of [Common Voice](https://huggingface.co/datasets/common_voice) that contains only *ca.* 4h of validated training data."
      ]
    },
    {
      "cell_type": "markdown",
      "metadata": {
        "id": "Gx9OdDYrCtQ1"
      },
      "source": [
        "XLS-R is fine-tuned using Connectionist Temporal Classification (CTC), which is an algorithm that is used to train neural networks for sequence-to-sequence problems, such as ASR and handwriting recognition.\n",
        "\n",
        "I highly recommend reading the well-written blog post [*Sequence Modeling with CTC (2017)*](https://distill.pub/2017/ctc/) by Awni Hannun."
      ]
    },
    {
      "cell_type": "markdown",
      "metadata": {
        "id": "wcHuXIaWyHZU"
      },
      "source": [
        "First, let's try to get a good GPU in our colab! With Google Colab's free version it's sadly becoming much harder to get access to a good GPU. With Google Colab Pro, however, one should easily get either a V100 or P100 GPU."
      ]
    },
    {
      "cell_type": "code",
      "execution_count": 1,
      "metadata": {
        "colab": {
          "base_uri": "https://localhost:8080/"
        },
        "id": "YELVqGxMxnbG",
        "outputId": "1ab7eb67-409d-4371-b99e-7eb1171cb5fb"
      },
      "outputs": [
        {
          "name": "stdout",
          "output_type": "stream",
          "text": [
            "Thu Jan 18 08:45:30 2024       \n",
            "+---------------------------------------------------------------------------------------+\n",
            "| NVIDIA-SMI 545.23.08              Driver Version: 545.23.08    CUDA Version: 12.3     |\n",
            "|-----------------------------------------+----------------------+----------------------+\n",
            "| GPU  Name                 Persistence-M | Bus-Id        Disp.A | Volatile Uncorr. ECC |\n",
            "| Fan  Temp   Perf          Pwr:Usage/Cap |         Memory-Usage | GPU-Util  Compute M. |\n",
            "|                                         |                      |               MIG M. |\n",
            "|=========================================+======================+======================|\n",
            "|   0  NVIDIA GeForce RTX 4090        On  | 00000000:01:00.0 Off |                  Off |\n",
            "|  0%   32C    P8              38W / 480W |     14MiB / 24564MiB |      0%      Default |\n",
            "|                                         |                      |                  N/A |\n",
            "+-----------------------------------------+----------------------+----------------------+\n",
            "                                                                                         \n",
            "+---------------------------------------------------------------------------------------+\n",
            "| Processes:                                                                            |\n",
            "|  GPU   GI   CI        PID   Type   Process name                            GPU Memory |\n",
            "|        ID   ID                                                             Usage      |\n",
            "|=======================================================================================|\n",
            "|    0   N/A  N/A      1842      G   /usr/lib/xorg/Xorg                            4MiB |\n",
            "+---------------------------------------------------------------------------------------+\n"
          ]
        }
      ],
      "source": [
        "gpu_info = !nvidia-smi\n",
        "gpu_info = '\\n'.join(gpu_info)\n",
        "if gpu_info.find('failed') >= 0:\n",
        "  print('Not connected to a GPU')\n",
        "else:\n",
        "  print(gpu_info)"
      ]
    },
    {
      "cell_type": "markdown",
      "metadata": {
        "id": "e335hPmdtASZ"
      },
      "source": [
        "Before we start, let's install `datasets` and `transformers`. Also, we need the `torchaudio` to load audio files and `jiwer` to evaluate our fine-tuned model using the [word error rate (WER)](https://huggingface.co/metrics/wer) metric ${}^1$."
      ]
    },
    {
      "cell_type": "code",
      "execution_count": null,
      "metadata": {
        "id": "c8eh87Hoee5d"
      },
      "outputs": [],
      "source": [
        "%%capture\n",
        "!pip install datasets==1.18.3\n",
        "!pip install transformers==4.11.3\n",
        "!pip install torchaudio==0.10.0+cu113 -f https://download.pytorch.org/whl/cu113/torch_stable.html\n",
        "!pip install jiwer"
      ]
    },
    {
      "cell_type": "markdown",
      "metadata": {
        "id": "0xxt_LwxDQlO"
      },
      "source": [
        "We strongly suggest to upload your training checkpoints directly to the [🤗 Hub](https://huggingface.co/) while training. The [🤗 Hub](https://huggingface.co/) has integrated version control so you can be sure that no model checkpoint is getting lost during training.\n",
        "\n",
        "To do so you have to store your authentication token from the Hugging Face website (sign up [here](https://huggingface.co/join) if you haven't already!)"
      ]
    },
    {
      "cell_type": "code",
      "execution_count": null,
      "metadata": {
        "colab": {
          "base_uri": "https://localhost:8080/",
          "height": 239,
          "referenced_widgets": [
            "b896566369e3403091e357af18648740",
            "26bf8a70fe5449a99ca1b06430b2fc8f",
            "dd5d9b3f70ee4a0dabe18e87ab38145c",
            "2d4eb3e5acc348948299c506db83ca90",
            "384228b409cb4bb0bbd77ef259b9a568",
            "0c01a04a8a924740af301c5c53a51315",
            "15f8964842df434ca0dee00d7dc1bd9a",
            "49f98244a8634be9b2305bb87731e765",
            "a28d3e82e04646b79c89f93cf40ee596",
            "4c3e043e600641538a479df6ad389784",
            "d11d94912b26401a860c80eba767907a",
            "6dd7aa6b17b34d18ba46d834ffd559bc",
            "4bf1f9d3031e4877aa6ef704e9a227d7",
            "bfb6a1e47f6e4f74af4db7e71227ef3e",
            "8541f8f949ea49b7a1335aaf31ca4f81",
            "c237b5686d3e48aeb226c87aa703f63d"
          ]
        },
        "id": "mlMSH3T3EazV",
        "outputId": "cecdacd4-9e12-4878-d5ae-fd2eeeb7d355"
      },
      "outputs": [
        {
          "data": {
            "application/vnd.jupyter.widget-view+json": {
              "model_id": "b896566369e3403091e357af18648740",
              "version_major": 2,
              "version_minor": 0
            },
            "text/plain": [
              "VBox(children=(HTML(value=\"<center>\\n<img src=https://huggingface.co/front/assets/huggingface_logo-noborder.sv…"
            ]
          },
          "metadata": {},
          "output_type": "display_data"
        }
      ],
      "source": [
        "from huggingface_hub import notebook_login\n",
        "\n",
        "notebook_login()"
      ]
    },
    {
      "cell_type": "markdown",
      "metadata": {
        "id": "ujdZ2TxhElk6"
      },
      "source": [
        "\n",
        "Then you need to install Git-LFS to upload your model checkpoints:"
      ]
    },
    {
      "cell_type": "code",
      "execution_count": null,
      "metadata": {
        "id": "WcR-d83OEkqb"
      },
      "outputs": [],
      "source": [
        "%%capture\n",
        "!apt install git-lfs"
      ]
    },
    {
      "cell_type": "markdown",
      "metadata": {
        "id": "Mn9swf6EQ9Vd"
      },
      "source": [
        "\n",
        "\n",
        "\n",
        "---\n",
        "\n",
        "${}^1$ In the [paper](https://arxiv.org/pdf/2006.13979.pdf), the model was evaluated using the phoneme error rate (PER), but by far the most common metric in ASR is the word error rate (WER). To keep this notebook as general as possible we decided to evaluate the model using WER."
      ]
    },
    {
      "cell_type": "markdown",
      "metadata": {
        "id": "0mW-C1Nt-j7k"
      },
      "source": [
        "## Prepare Data, Tokenizer, Feature Extractor"
      ]
    },
    {
      "cell_type": "markdown",
      "metadata": {
        "id": "BeBosnY9BH3e"
      },
      "source": [
        "ASR models transcribe speech to text, which means that we both need a feature extractor that processes the speech signal to the model's input format, *e.g.* a feature vector, and a tokenizer that processes the model's output format to text.\n",
        "\n",
        "In 🤗 Transformers, the XLS-R model is thus accompanied by both a tokenizer, called [Wav2Vec2CTCTokenizer](https://huggingface.co/transformers/master/model_doc/wav2vec2.html#wav2vec2ctctokenizer), and a feature extractor, called [Wav2Vec2FeatureExtractor](https://huggingface.co/transformers/master/model_doc/wav2vec2.html#wav2vec2featureextractor).\n",
        "\n",
        "Let's start by creating the tokenizer to decode the predicted output classes to the output transcription."
      ]
    },
    {
      "cell_type": "markdown",
      "metadata": {
        "id": "sEXEWEJGQPqD"
      },
      "source": [
        "### Create `Wav2Vec2CTCTokenizer`"
      ]
    },
    {
      "cell_type": "markdown",
      "metadata": {
        "id": "tWmMikuNEKl_"
      },
      "source": [
        "A pre-trained XLS-R model maps the speech signal to a sequence of context representations as illustrated in the figure above. However, for speech recognition the model has to to map this sequence of context representations to its corresponding transcription which means that a linear layer has to be added on top of the transformer block (shown in yellow in the diagram above). This linear layer is used to classifies each context representation to a token class analogous how, *e.g.*, after pretraining a linear layer is added on top of BERT's embeddings for further classification - *cf.* with *'BERT'* section of this [blog post](https://huggingface.co/blog/warm-starting-encoder-decoder)."
      ]
    },
    {
      "cell_type": "markdown",
      "metadata": {
        "id": "v5oRE8XjIUH3"
      },
      "source": [
        "The output size of this layer corresponds to the number of tokens in the vocabulary, which does **not** depend onXLS-R's pretraining task, but only on the labeled dataset used for fine-tuning. So in the first step, we will take a look at the chosen dataset of Common Voice and define a vocabulary based on the transcriptions."
      ]
    },
    {
      "cell_type": "markdown",
      "metadata": {
        "id": "idBczw8mWzgt"
      },
      "source": [
        "First, let's go to Common Voice [official website](https://commonvoice.mozilla.org/en/datasets) and pick a language to fine-tune XLS-R on. For this notebook, we will use Turkish.\n",
        "\n",
        "For each language-specific dataset, you can find a language code corresponding to your chosen language. On [Common Voice](https://commonvoice.mozilla.org/en/datasets), look for the field \"Version\". The language code then corresponds to the prefix before the underscore. For Turkish, *e.g.* the language code is `\"tr\"`.\n",
        "\n",
        "Great, now we can use 🤗 Datasets' simple API to download the data. The dataset name is `\"common_voice\"`, the configuration name corresponds to the language code, which is `\"tr\"` in our case."
      ]
    },
    {
      "cell_type": "markdown",
      "metadata": {
        "id": "bee4g9rpLxll"
      },
      "source": [
        "Common Voice has many different splits including `invalidated`, which refers to data that was not rated as \"clean enough\" to be considered useful. In this notebook, we will only make use of the splits `\"train\"`, `\"validation\"` and `\"test\"`.\n",
        "\n",
        "Because the Turkish dataset is so small, we will merge both the validation and training data into a training dataset and only use the test data for validation."
      ]
    },
    {
      "cell_type": "code",
      "execution_count": 8,
      "metadata": {},
      "outputs": [],
      "source": [
        "import os\n",
        "hfhome_dir=os.path.join(os.sep, 'DATA10T', 'Cache')\n",
        "#os.environ['TRANSFORMERS_CACHE'] = hfhome_dir\n",
        "os.environ['HF_HOME'] = hfhome_dir\n",
        "#os.environ['HF_HUB_CACHE'] = os.path.join(hfhome_dir, 'hub')\n",
        "os.environ['HF_DATASETS_CACHE'] = hfhome_dir\n",
        "#HF_HUB_OFFLINE=1\n",
        "mycache_dir = hfhome_dir"
      ]
    },
    {
      "cell_type": "code",
      "execution_count": 27,
      "metadata": {
        "colab": {
          "base_uri": "https://localhost:8080/"
        },
        "id": "2MMXcWFFgCXU",
        "outputId": "00961862-9e79-4e0e-c887-db62adafa553"
      },
      "outputs": [
        {
          "name": "stderr",
          "output_type": "stream",
          "text": [
            "/home/lkk/miniconda3/envs/mycondapy310/lib/python3.10/site-packages/datasets/load.py:1429: FutureWarning: The repository for mozilla-foundation/common_voice_11_0 contains custom code which must be executed to correctly load the dataset. You can inspect the repository content at https://hf.co/datasets/mozilla-foundation/common_voice_11_0\n",
            "You can avoid this message in future by passing the argument `trust_remote_code=True`.\n",
            "Passing `trust_remote_code=True` will be mandatory to load this dataset from the next major release of `datasets`.\n",
            "  warnings.warn(\n"
          ]
        },
        {
          "data": {
            "application/vnd.jupyter.widget-view+json": {
              "model_id": "a40d02055cdb4233b964d7a03a78573a",
              "version_major": 2,
              "version_minor": 0
            },
            "text/plain": [
              "Downloading builder script:   0%|          | 0.00/8.13k [00:00<?, ?B/s]"
            ]
          },
          "metadata": {},
          "output_type": "display_data"
        },
        {
          "data": {
            "application/vnd.jupyter.widget-view+json": {
              "model_id": "a8e5a42cfc33465aa48015c8ab806cbd",
              "version_major": 2,
              "version_minor": 0
            },
            "text/plain": [
              "Downloading readme:   0%|          | 0.00/14.4k [00:00<?, ?B/s]"
            ]
          },
          "metadata": {},
          "output_type": "display_data"
        },
        {
          "data": {
            "application/vnd.jupyter.widget-view+json": {
              "model_id": "31691907fc664a69a5b3e66b1314afa3",
              "version_major": 2,
              "version_minor": 0
            },
            "text/plain": [
              "Downloading extra modules:   0%|          | 0.00/3.44k [00:00<?, ?B/s]"
            ]
          },
          "metadata": {},
          "output_type": "display_data"
        },
        {
          "data": {
            "application/vnd.jupyter.widget-view+json": {
              "model_id": "105952e05db34d28a9d7e6b1d5e3db87",
              "version_major": 2,
              "version_minor": 0
            },
            "text/plain": [
              "Downloading extra modules:   0%|          | 0.00/60.9k [00:00<?, ?B/s]"
            ]
          },
          "metadata": {},
          "output_type": "display_data"
        }
      ],
      "source": [
        "from datasets import load_dataset, load_metric, Audio\n",
        "dataset_name = \"mozilla-foundation/common_voice_11_0\"\n",
        "Test_SAMPLES = 100\n",
        "Train_SAMPLES=1000\n",
        "train_dataset = load_dataset(dataset_name, \"en\", split=f\"train[:{Train_SAMPLES}]\", cache_dir=mycache_dir)\n",
        "test_dataset = load_dataset(dataset_name, \"en\", split=f\"test[:{Test_SAMPLES}]\", cache_dir=mycache_dir)"
      ]
    },
    {
      "cell_type": "code",
      "execution_count": 10,
      "metadata": {},
      "outputs": [
        {
          "name": "stderr",
          "output_type": "stream",
          "text": [
            "Some weights of the model checkpoint at jonatasgrosman/wav2vec2-large-xlsr-53-english were not used when initializing Wav2Vec2ForCTC: ['wav2vec2.encoder.pos_conv_embed.conv.weight_v', 'wav2vec2.encoder.pos_conv_embed.conv.weight_g']\n",
            "- This IS expected if you are initializing Wav2Vec2ForCTC from the checkpoint of a model trained on another task or with another architecture (e.g. initializing a BertForSequenceClassification model from a BertForPreTraining model).\n",
            "- This IS NOT expected if you are initializing Wav2Vec2ForCTC from the checkpoint of a model that you expect to be exactly identical (initializing a BertForSequenceClassification model from a BertForSequenceClassification model).\n",
            "Some weights of Wav2Vec2ForCTC were not initialized from the model checkpoint at jonatasgrosman/wav2vec2-large-xlsr-53-english and are newly initialized: ['wav2vec2.encoder.pos_conv_embed.conv.parametrizations.weight.original0', 'wav2vec2.encoder.pos_conv_embed.conv.parametrizations.weight.original1']\n",
            "You should probably TRAIN this model on a down-stream task to be able to use it for predictions and inference.\n"
          ]
        }
      ],
      "source": [
        "import torch\n",
        "import librosa\n",
        "from datasets import load_dataset\n",
        "from transformers import Wav2Vec2ForCTC, Wav2Vec2Processor\n",
        "\n",
        "LANG_ID = \"en\"\n",
        "MODEL_ID = \"jonatasgrosman/wav2vec2-large-xlsr-53-english\" #https://huggingface.co/jonatasgrosman/wav2vec2-large-xlsr-53-english\n",
        "processor = Wav2Vec2Processor.from_pretrained(MODEL_ID, cache_dir=mycache_dir)\n",
        "model = Wav2Vec2ForCTC.from_pretrained(MODEL_ID, cache_dir=mycache_dir)"
      ]
    },
    {
      "cell_type": "code",
      "execution_count": 11,
      "metadata": {},
      "outputs": [
        {
          "data": {
            "text/plain": [
              "Dataset({\n",
              "    features: ['client_id', 'path', 'audio', 'sentence', 'up_votes', 'down_votes', 'age', 'gender', 'accent', 'locale', 'segment'],\n",
              "    num_rows: 100\n",
              "})"
            ]
          },
          "execution_count": 11,
          "metadata": {},
          "output_type": "execute_result"
        }
      ],
      "source": [
        "test_dataset"
      ]
    },
    {
      "cell_type": "code",
      "execution_count": 28,
      "metadata": {},
      "outputs": [
        {
          "data": {
            "text/plain": [
              "[{'path': '/DATA10T/Cache/downloads/extracted/ba5c265b423696aeece652c80df565d72d9f7c1cc9b807e127f44f989150f409/en_test_0/common_voice_en_27710027.mp3',\n",
              "  'array': array([-7.95807864e-13, -1.59161573e-12, -6.25277607e-12, ...,\n",
              "          1.52416442e-06,  1.94649760e-06,  1.25737506e-06]),\n",
              "  'sampling_rate': 48000},\n",
              " {'path': '/DATA10T/Cache/downloads/extracted/ba5c265b423696aeece652c80df565d72d9f7c1cc9b807e127f44f989150f409/en_test_0/common_voice_en_699711.mp3',\n",
              "  'array': array([ 0.00000000e+00, -7.05920511e-14, -5.47149741e-14, ...,\n",
              "         -8.53668247e-09,  2.06165751e-09,  1.62003939e-08]),\n",
              "  'sampling_rate': 48000},\n",
              " {'path': '/DATA10T/Cache/downloads/extracted/ba5c265b423696aeece652c80df565d72d9f7c1cc9b807e127f44f989150f409/en_test_0/common_voice_en_21953345.mp3',\n",
              "  'array': array([ 0.00000000e+00,  0.00000000e+00,  0.00000000e+00, ...,\n",
              "          4.44706211e-06,  1.88029878e-06, -5.69346810e-08]),\n",
              "  'sampling_rate': 48000},\n",
              " {'path': '/DATA10T/Cache/downloads/extracted/ba5c265b423696aeece652c80df565d72d9f7c1cc9b807e127f44f989150f409/en_test_0/common_voice_en_18132047.mp3',\n",
              "  'array': array([ 0.00000000e+00, -8.81545068e-14,  8.29455726e-14, ...,\n",
              "         -1.69993072e-07, -1.69268290e-07, -1.58188001e-07]),\n",
              "  'sampling_rate': 48000},\n",
              " {'path': '/DATA10T/Cache/downloads/extracted/ba5c265b423696aeece652c80df565d72d9f7c1cc9b807e127f44f989150f409/en_test_0/common_voice_en_27340672.mp3',\n",
              "  'array': array([ 1.70530257e-13,  2.89901436e-12,  2.61479727e-12, ...,\n",
              "         -4.97878500e-05, -6.20688006e-05, -3.78657860e-05]),\n",
              "  'sampling_rate': 48000},\n",
              " {'path': '/DATA10T/Cache/downloads/extracted/ba5c265b423696aeece652c80df565d72d9f7c1cc9b807e127f44f989150f409/en_test_0/common_voice_en_30533383.mp3',\n",
              "  'array': array([0., 0., 0., ..., 0., 0., 0.]),\n",
              "  'sampling_rate': 48000},\n",
              " {'path': '/DATA10T/Cache/downloads/extracted/ba5c265b423696aeece652c80df565d72d9f7c1cc9b807e127f44f989150f409/en_test_0/common_voice_en_17263741.mp3',\n",
              "  'array': array([ 0.00000000e+00,  0.00000000e+00,  0.00000000e+00, ...,\n",
              "          1.54652230e-06,  3.36470293e-07, -5.12976158e-07]),\n",
              "  'sampling_rate': 48000},\n",
              " {'path': '/DATA10T/Cache/downloads/extracted/ba5c265b423696aeece652c80df565d72d9f7c1cc9b807e127f44f989150f409/en_test_0/common_voice_en_17893917.mp3',\n",
              "  'array': array([ 0.00000000e+00, -1.98919271e-15,  4.96847080e-16, ...,\n",
              "          2.95693894e-06, -5.95047868e-06, -1.47020546e-05]),\n",
              "  'sampling_rate': 48000},\n",
              " {'path': '/DATA10T/Cache/downloads/extracted/ba5c265b423696aeece652c80df565d72d9f7c1cc9b807e127f44f989150f409/en_test_0/common_voice_en_17561821.mp3',\n",
              "  'array': array([0.00000000e+00, 0.00000000e+00, 0.00000000e+00, ...,\n",
              "         1.66726761e-06, 1.84703367e-06, 1.70227156e-06]),\n",
              "  'sampling_rate': 48000},\n",
              " {'path': '/DATA10T/Cache/downloads/extracted/ba5c265b423696aeece652c80df565d72d9f7c1cc9b807e127f44f989150f409/en_test_0/common_voice_en_59751.mp3',\n",
              "  'array': array([ 0.00000000e+00,  1.23710644e-16,  2.71943739e-16, ...,\n",
              "         -2.47510434e-06, -2.09052519e-06,  1.34417334e-07]),\n",
              "  'sampling_rate': 48000},\n",
              " {'path': '/DATA10T/Cache/downloads/extracted/ba5c265b423696aeece652c80df565d72d9f7c1cc9b807e127f44f989150f409/en_test_0/common_voice_en_17914141.mp3',\n",
              "  'array': array([ 0.00000000e+00, -2.67909609e-14,  7.52535919e-14, ...,\n",
              "         -6.20182755e-06, -9.22448817e-06, -2.40181225e-06]),\n",
              "  'sampling_rate': 48000},\n",
              " {'path': '/DATA10T/Cache/downloads/extracted/ba5c265b423696aeece652c80df565d72d9f7c1cc9b807e127f44f989150f409/en_test_0/common_voice_en_18064497.mp3',\n",
              "  'array': array([ 0.00000000e+00, -1.23756670e-15, -1.13704930e-15, ...,\n",
              "         -1.78553271e-13,  3.73532992e-14,  1.50724146e-13]),\n",
              "  'sampling_rate': 48000},\n",
              " {'path': '/DATA10T/Cache/downloads/extracted/ba5c265b423696aeece652c80df565d72d9f7c1cc9b807e127f44f989150f409/en_test_0/common_voice_en_18902772.mp3',\n",
              "  'array': array([ 0.00000000e+00, -2.34016528e-13, -3.75949055e-13, ...,\n",
              "          0.00000000e+00,  0.00000000e+00,  0.00000000e+00]),\n",
              "  'sampling_rate': 48000},\n",
              " {'path': '/DATA10T/Cache/downloads/extracted/ba5c265b423696aeece652c80df565d72d9f7c1cc9b807e127f44f989150f409/en_test_0/common_voice_en_30735068.mp3',\n",
              "  'array': array([ 0.00000000e+00,  1.63424829e-13,  1.70530257e-13, ...,\n",
              "         -1.69450359e-05, -1.12969428e-05, -4.24672908e-06]),\n",
              "  'sampling_rate': 48000},\n",
              " {'path': '/DATA10T/Cache/downloads/extracted/ba5c265b423696aeece652c80df565d72d9f7c1cc9b807e127f44f989150f409/en_test_0/common_voice_en_33532190.mp3',\n",
              "  'array': array([ 0.00000000e+00, -5.45696821e-12, -6.59383659e-12, ...,\n",
              "          1.90984974e-05,  1.03788825e-05,  9.44822023e-06]),\n",
              "  'sampling_rate': 48000},\n",
              " {'path': '/DATA10T/Cache/downloads/extracted/ba5c265b423696aeece652c80df565d72d9f7c1cc9b807e127f44f989150f409/en_test_0/common_voice_en_18295850.mp3',\n",
              "  'array': array([ 0.00000000e+00, -1.60925858e-14, -1.35344938e-15, ...,\n",
              "         -1.32064888e-04,  8.37206680e-05,  1.45013255e-05]),\n",
              "  'sampling_rate': 48000},\n",
              " {'path': '/DATA10T/Cache/downloads/extracted/ba5c265b423696aeece652c80df565d72d9f7c1cc9b807e127f44f989150f409/en_test_0/common_voice_en_665631.mp3',\n",
              "  'array': array([ 0.00000000e+00, -9.38605849e-15, -1.95430847e-14, ...,\n",
              "         -9.33998194e-08, -4.74903317e-08, -4.69614179e-08]),\n",
              "  'sampling_rate': 48000},\n",
              " {'path': '/DATA10T/Cache/downloads/extracted/ba5c265b423696aeece652c80df565d72d9f7c1cc9b807e127f44f989150f409/en_test_0/common_voice_en_32958651.mp3',\n",
              "  'array': array([-1.13686838e-12,  1.93267624e-12,  5.45696821e-12, ...,\n",
              "         -1.98522466e-05, -2.73250207e-05, -1.78225200e-05]),\n",
              "  'sampling_rate': 48000},\n",
              " {'path': '/DATA10T/Cache/downloads/extracted/ba5c265b423696aeece652c80df565d72d9f7c1cc9b807e127f44f989150f409/en_test_0/common_voice_en_32371106.mp3',\n",
              "  'array': array([-3.55271368e-15, -3.55271368e-15, -3.64153152e-14, ...,\n",
              "          1.11301142e-06,  8.88800969e-07,  4.89729246e-07]),\n",
              "  'sampling_rate': 48000},\n",
              " {'path': '/DATA10T/Cache/downloads/extracted/ba5c265b423696aeece652c80df565d72d9f7c1cc9b807e127f44f989150f409/en_test_0/common_voice_en_18297811.mp3',\n",
              "  'array': array([ 0.00000000e+00, -4.42889345e-15, -3.93709554e-15, ...,\n",
              "          0.00000000e+00,  0.00000000e+00,  0.00000000e+00]),\n",
              "  'sampling_rate': 48000},\n",
              " {'path': '/DATA10T/Cache/downloads/extracted/ba5c265b423696aeece652c80df565d72d9f7c1cc9b807e127f44f989150f409/en_test_0/common_voice_en_32643242.mp3',\n",
              "  'array': array([-1.73707929e-23,  2.56425990e-23, -1.69572026e-23, ...,\n",
              "          7.71652253e-08,  1.01633475e-06,  8.47302999e-07]),\n",
              "  'sampling_rate': 48000},\n",
              " {'path': '/DATA10T/Cache/downloads/extracted/ba5c265b423696aeece652c80df565d72d9f7c1cc9b807e127f44f989150f409/en_test_0/common_voice_en_456493.mp3',\n",
              "  'array': array([ 0.00000000e+00,  1.45164337e-14, -1.42604417e-14, ...,\n",
              "         -5.51653238e-06,  5.29890394e-06,  1.12383323e-05]),\n",
              "  'sampling_rate': 48000},\n",
              " {'path': '/DATA10T/Cache/downloads/extracted/ba5c265b423696aeece652c80df565d72d9f7c1cc9b807e127f44f989150f409/en_test_0/common_voice_en_18179121.mp3',\n",
              "  'array': array([ 0.00000000e+00,  2.97441352e-13,  2.83595304e-13, ...,\n",
              "          1.89433604e-06,  9.52209916e-07, -3.88014485e-07]),\n",
              "  'sampling_rate': 48000},\n",
              " {'path': '/DATA10T/Cache/downloads/extracted/ba5c265b423696aeece652c80df565d72d9f7c1cc9b807e127f44f989150f409/en_test_0/common_voice_en_496376.mp3',\n",
              "  'array': array([0., 0., 0., ..., 0., 0., 0.]),\n",
              "  'sampling_rate': 48000},\n",
              " {'path': '/DATA10T/Cache/downloads/extracted/ba5c265b423696aeece652c80df565d72d9f7c1cc9b807e127f44f989150f409/en_test_0/common_voice_en_32542964.mp3',\n",
              "  'array': array([-8.52651283e-14,  4.83169060e-13,  7.67386155e-13, ...,\n",
              "         -3.47910913e-07, -1.56945148e-07,  2.79248695e-08]),\n",
              "  'sampling_rate': 48000},\n",
              " {'path': '/DATA10T/Cache/downloads/extracted/ba5c265b423696aeece652c80df565d72d9f7c1cc9b807e127f44f989150f409/en_test_0/common_voice_en_23730890.mp3',\n",
              "  'array': array([ 0.00000000e+00, -5.19233745e-13, -3.00217587e-13, ...,\n",
              "         -4.92616709e-05, -9.45587308e-05, -1.00619909e-04]),\n",
              "  'sampling_rate': 48000},\n",
              " {'path': '/DATA10T/Cache/downloads/extracted/ba5c265b423696aeece652c80df565d72d9f7c1cc9b807e127f44f989150f409/en_test_0/common_voice_en_18274681.mp3',\n",
              "  'array': array([0.00000000e+00, 0.00000000e+00, 0.00000000e+00, ...,\n",
              "         2.51492178e-11, 1.75540884e-11, 8.67312559e-12]),\n",
              "  'sampling_rate': 48000},\n",
              " {'path': '/DATA10T/Cache/downloads/extracted/ba5c265b423696aeece652c80df565d72d9f7c1cc9b807e127f44f989150f409/en_test_0/common_voice_en_32548361.mp3',\n",
              "  'array': array([ 2.55795385e-13,  1.81898940e-12, -1.08002496e-12, ...,\n",
              "          1.22447509e-05,  1.06392545e-05,  7.47304102e-06]),\n",
              "  'sampling_rate': 48000},\n",
              " {'path': '/DATA10T/Cache/downloads/extracted/ba5c265b423696aeece652c80df565d72d9f7c1cc9b807e127f44f989150f409/en_test_0/common_voice_en_20141506.mp3',\n",
              "  'array': array([0.00000000e+00, 0.00000000e+00, 0.00000000e+00, ...,\n",
              "         6.08553069e-11, 6.68407760e-11, 5.88966931e-11]),\n",
              "  'sampling_rate': 48000},\n",
              " {'path': '/DATA10T/Cache/downloads/extracted/ba5c265b423696aeece652c80df565d72d9f7c1cc9b807e127f44f989150f409/en_test_0/common_voice_en_32830092.mp3',\n",
              "  'array': array([-6.21724894e-15, -6.83897383e-14, -9.05941988e-14, ...,\n",
              "          2.08166817e-17, -2.77555756e-17, -6.93889390e-18]),\n",
              "  'sampling_rate': 48000},\n",
              " {'path': '/DATA10T/Cache/downloads/extracted/ba5c265b423696aeece652c80df565d72d9f7c1cc9b807e127f44f989150f409/en_test_0/common_voice_en_572372.mp3',\n",
              "  'array': array([ 0.00000000e+00, -8.31876072e-14, -1.87723724e-13, ...,\n",
              "          0.00000000e+00,  0.00000000e+00,  0.00000000e+00]),\n",
              "  'sampling_rate': 48000},\n",
              " {'path': '/DATA10T/Cache/downloads/extracted/ba5c265b423696aeece652c80df565d72d9f7c1cc9b807e127f44f989150f409/en_test_0/common_voice_en_32642818.mp3',\n",
              "  'array': array([ 7.10542736e-15, -5.68434189e-14, -1.24344979e-13, ...,\n",
              "          5.44049271e-06,  6.44475313e-06,  1.74257730e-06]),\n",
              "  'sampling_rate': 48000},\n",
              " {'path': '/DATA10T/Cache/downloads/extracted/ba5c265b423696aeece652c80df565d72d9f7c1cc9b807e127f44f989150f409/en_test_0/common_voice_en_19595713.mp3',\n",
              "  'array': array([ 0.00000000e+00, -2.76441738e-13, -1.12082815e-13, ...,\n",
              "          1.68826503e-07,  1.98465585e-07,  2.47636081e-07]),\n",
              "  'sampling_rate': 48000},\n",
              " {'path': '/DATA10T/Cache/downloads/extracted/ba5c265b423696aeece652c80df565d72d9f7c1cc9b807e127f44f989150f409/en_test_0/common_voice_en_20888935.mp3',\n",
              "  'array': array([ 0.00000000e+00, -3.47563707e-14, -2.01189027e-14, ...,\n",
              "         -7.25068844e-07,  3.48187911e-07,  1.13206772e-06]),\n",
              "  'sampling_rate': 48000},\n",
              " {'path': '/DATA10T/Cache/downloads/extracted/ba5c265b423696aeece652c80df565d72d9f7c1cc9b807e127f44f989150f409/en_test_0/common_voice_en_18125649.mp3',\n",
              "  'array': array([ 0.00000000e+00,  1.13785655e-16,  3.12017821e-18, ...,\n",
              "         -1.19355009e-05, -3.66172048e-06, -3.44357295e-06]),\n",
              "  'sampling_rate': 48000},\n",
              " {'path': '/DATA10T/Cache/downloads/extracted/ba5c265b423696aeece652c80df565d72d9f7c1cc9b807e127f44f989150f409/en_test_0/common_voice_en_346569.mp3',\n",
              "  'array': array([ 0.00000000e+00, -1.10477193e-13, -4.10893751e-14, ...,\n",
              "          1.11196941e-05,  9.95956543e-06, -1.25815595e-05]),\n",
              "  'sampling_rate': 48000},\n",
              " {'path': '/DATA10T/Cache/downloads/extracted/ba5c265b423696aeece652c80df565d72d9f7c1cc9b807e127f44f989150f409/en_test_0/common_voice_en_15016096.mp3',\n",
              "  'array': array([ 0.00000000e+00,  7.73363578e-14,  1.25461883e-13, ...,\n",
              "         -7.84561053e-07, -9.18328283e-07,  2.69061672e-07]),\n",
              "  'sampling_rate': 48000},\n",
              " {'path': '/DATA10T/Cache/downloads/extracted/ba5c265b423696aeece652c80df565d72d9f7c1cc9b807e127f44f989150f409/en_test_0/common_voice_en_30136178.mp3',\n",
              "  'array': array([-1.56319402e-13, -4.12114787e-13, -1.56319402e-13, ...,\n",
              "          1.91966524e-06,  8.49775347e-07,  6.39494431e-08]),\n",
              "  'sampling_rate': 48000},\n",
              " {'path': '/DATA10T/Cache/downloads/extracted/ba5c265b423696aeece652c80df565d72d9f7c1cc9b807e127f44f989150f409/en_test_0/common_voice_en_19706560.mp3',\n",
              "  'array': array([ 0.00000000e+00, -1.00559968e-13,  6.35480113e-13, ...,\n",
              "         -4.80845338e-05, -2.48175093e-05,  3.00512493e-05]),\n",
              "  'sampling_rate': 48000},\n",
              " {'path': '/DATA10T/Cache/downloads/extracted/ba5c265b423696aeece652c80df565d72d9f7c1cc9b807e127f44f989150f409/en_test_0/common_voice_en_1885769.mp3',\n",
              "  'array': array([ 0.00000000e+00,  0.00000000e+00,  0.00000000e+00, ...,\n",
              "         -1.21885975e-07, -1.10426797e-07, -1.01997628e-07]),\n",
              "  'sampling_rate': 48000},\n",
              " {'path': '/DATA10T/Cache/downloads/extracted/ba5c265b423696aeece652c80df565d72d9f7c1cc9b807e127f44f989150f409/en_test_0/common_voice_en_32029891.mp3',\n",
              "  'array': array([-8.27180613e-25,  7.44462551e-24, -5.95570041e-23, ...,\n",
              "         -1.69348095e-06,  1.40851753e-05,  1.16830906e-05]),\n",
              "  'sampling_rate': 48000},\n",
              " {'path': '/DATA10T/Cache/downloads/extracted/ba5c265b423696aeece652c80df565d72d9f7c1cc9b807e127f44f989150f409/en_test_0/common_voice_en_20308606.mp3',\n",
              "  'array': array([ 0.00000000e+00, -6.28985389e-14, -5.24277650e-14, ...,\n",
              "         -1.32833790e-07, -9.81121175e-08, -8.21490005e-08]),\n",
              "  'sampling_rate': 48000},\n",
              " {'path': '/DATA10T/Cache/downloads/extracted/ba5c265b423696aeece652c80df565d72d9f7c1cc9b807e127f44f989150f409/en_test_0/common_voice_en_18891931.mp3',\n",
              "  'array': array([0., 0., 0., ..., 0., 0., 0.]),\n",
              "  'sampling_rate': 48000},\n",
              " {'path': '/DATA10T/Cache/downloads/extracted/ba5c265b423696aeece652c80df565d72d9f7c1cc9b807e127f44f989150f409/en_test_0/common_voice_en_32703291.mp3',\n",
              "  'array': array([ 0.00000000e+00,  2.48689958e-14,  0.00000000e+00, ...,\n",
              "         -1.36442395e-08, -2.15495675e-08, -1.40844350e-08]),\n",
              "  'sampling_rate': 48000},\n",
              " {'path': '/DATA10T/Cache/downloads/extracted/ba5c265b423696aeece652c80df565d72d9f7c1cc9b807e127f44f989150f409/en_test_0/common_voice_en_15735183.mp3',\n",
              "  'array': array([ 0.00000000e+00, -2.74631324e-14, -9.81692212e-14, ...,\n",
              "         -3.03378329e-07,  9.27499059e-06,  3.05300418e-05]),\n",
              "  'sampling_rate': 48000},\n",
              " {'path': '/DATA10T/Cache/downloads/extracted/ba5c265b423696aeece652c80df565d72d9f7c1cc9b807e127f44f989150f409/en_test_0/common_voice_en_12677.mp3',\n",
              "  'array': array([ 0.00000000e+00,  0.00000000e+00,  0.00000000e+00, ...,\n",
              "          1.96452602e-05, -1.20180688e-04,  3.02074477e-06]),\n",
              "  'sampling_rate': 48000},\n",
              " {'path': '/DATA10T/Cache/downloads/extracted/ba5c265b423696aeece652c80df565d72d9f7c1cc9b807e127f44f989150f409/en_test_0/common_voice_en_19909115.mp3',\n",
              "  'array': array([ 0.00000000e+00, -2.81239629e-15, -7.17510090e-15, ...,\n",
              "         -1.54903660e-07, -1.99639018e-07, -4.42587229e-08]),\n",
              "  'sampling_rate': 48000},\n",
              " {'path': '/DATA10T/Cache/downloads/extracted/ba5c265b423696aeece652c80df565d72d9f7c1cc9b807e127f44f989150f409/en_test_0/common_voice_en_21687614.mp3',\n",
              "  'array': array([0.00000000e+00, 4.37328193e-16, 5.41758419e-15, ...,\n",
              "         1.28444447e-06, 4.94945471e-06, 5.90786885e-06]),\n",
              "  'sampling_rate': 48000},\n",
              " {'path': '/DATA10T/Cache/downloads/extracted/ba5c265b423696aeece652c80df565d72d9f7c1cc9b807e127f44f989150f409/en_test_0/common_voice_en_24988400.mp3',\n",
              "  'array': array([-5.68434189e-13,  3.29691829e-12,  4.14956958e-12, ...,\n",
              "          1.45544254e-05, -4.36112496e-05, -3.01422187e-05]),\n",
              "  'sampling_rate': 48000},\n",
              " {'path': '/DATA10T/Cache/downloads/extracted/ba5c265b423696aeece652c80df565d72d9f7c1cc9b807e127f44f989150f409/en_test_0/common_voice_en_22005778.mp3',\n",
              "  'array': array([ 0.00000000e+00,  0.00000000e+00,  0.00000000e+00, ...,\n",
              "         -2.01668695e-06, -1.47798005e-06, -1.08543770e-06]),\n",
              "  'sampling_rate': 48000},\n",
              " {'path': '/DATA10T/Cache/downloads/extracted/ba5c265b423696aeece652c80df565d72d9f7c1cc9b807e127f44f989150f409/en_test_0/common_voice_en_26452532.mp3',\n",
              "  'array': array([ 2.84217094e-14,  6.60804744e-13,  1.03739239e-12, ...,\n",
              "          1.23440986e-06, -5.67961251e-07, -1.05059007e-06]),\n",
              "  'sampling_rate': 48000},\n",
              " {'path': '/DATA10T/Cache/downloads/extracted/ba5c265b423696aeece652c80df565d72d9f7c1cc9b807e127f44f989150f409/en_test_0/common_voice_en_601141.mp3',\n",
              "  'array': array([ 0.00000000e+00, -2.22343978e-16, -3.78719760e-16, ...,\n",
              "          1.34148377e-05,  1.40726706e-05,  3.31024012e-06]),\n",
              "  'sampling_rate': 48000},\n",
              " {'path': '/DATA10T/Cache/downloads/extracted/ba5c265b423696aeece652c80df565d72d9f7c1cc9b807e127f44f989150f409/en_test_0/common_voice_en_19688238.mp3',\n",
              "  'array': array([ 0.00000000e+00, -1.79350675e-13, -1.34086020e-13, ...,\n",
              "          3.10810174e-06,  1.78007076e-06,  6.23121923e-06]),\n",
              "  'sampling_rate': 48000},\n",
              " {'path': '/DATA10T/Cache/downloads/extracted/ba5c265b423696aeece652c80df565d72d9f7c1cc9b807e127f44f989150f409/en_test_0/common_voice_en_17260286.mp3',\n",
              "  'array': array([0.00000000e+00, 9.70849920e-14, 5.53054374e-14, ...,\n",
              "         1.94089468e-15, 2.19009516e-15, 2.43970116e-15]),\n",
              "  'sampling_rate': 48000},\n",
              " {'path': '/DATA10T/Cache/downloads/extracted/ba5c265b423696aeece652c80df565d72d9f7c1cc9b807e127f44f989150f409/en_test_0/common_voice_en_17941982.mp3',\n",
              "  'array': array([ 0.00000000e+00,  0.00000000e+00,  0.00000000e+00, ...,\n",
              "         -1.00912839e-05, -8.37233165e-06, -4.08446067e-06]),\n",
              "  'sampling_rate': 48000},\n",
              " {'path': '/DATA10T/Cache/downloads/extracted/ba5c265b423696aeece652c80df565d72d9f7c1cc9b807e127f44f989150f409/en_test_0/common_voice_en_30601019.mp3',\n",
              "  'array': array([ 0.00000000e+00,  6.82121026e-13,  6.53699317e-13, ...,\n",
              "         -1.71793290e-05, -4.04392340e-05, -3.02312037e-05]),\n",
              "  'sampling_rate': 48000},\n",
              " {'path': '/DATA10T/Cache/downloads/extracted/ba5c265b423696aeece652c80df565d72d9f7c1cc9b807e127f44f989150f409/en_test_0/common_voice_en_24993666.mp3',\n",
              "  'array': array([ 3.55271368e-15, -4.61852778e-14, -7.46069873e-14, ...,\n",
              "          1.91344793e-06,  4.58430577e-07,  6.04691195e-08]),\n",
              "  'sampling_rate': 48000},\n",
              " {'path': '/DATA10T/Cache/downloads/extracted/ba5c265b423696aeece652c80df565d72d9f7c1cc9b807e127f44f989150f409/en_test_0/common_voice_en_32689356.mp3',\n",
              "  'array': array([-1.42108547e-14, -7.95807864e-13, -1.36424205e-12, ...,\n",
              "         -7.54681423e-07, -2.41707969e-08,  3.13946259e-07]),\n",
              "  'sampling_rate': 48000},\n",
              " {'path': '/DATA10T/Cache/downloads/extracted/ba5c265b423696aeece652c80df565d72d9f7c1cc9b807e127f44f989150f409/en_test_0/common_voice_en_20274470.mp3',\n",
              "  'array': array([ 0.00000000e+00, -2.62204300e-15,  5.30996569e-15, ...,\n",
              "         -1.77427501e-06, -3.85840503e-05, -1.36723020e-05]),\n",
              "  'sampling_rate': 48000},\n",
              " {'path': '/DATA10T/Cache/downloads/extracted/ba5c265b423696aeece652c80df565d72d9f7c1cc9b807e127f44f989150f409/en_test_0/common_voice_en_18929193.mp3',\n",
              "  'array': array([ 0.00000000e+00, -6.14929233e-15,  1.07671914e-14, ...,\n",
              "         -1.75896457e-06, -7.84307190e-07,  6.91008722e-07]),\n",
              "  'sampling_rate': 48000},\n",
              " {'path': '/DATA10T/Cache/downloads/extracted/ba5c265b423696aeece652c80df565d72d9f7c1cc9b807e127f44f989150f409/en_test_0/common_voice_en_18001366.mp3',\n",
              "  'array': array([ 0.00000000e+00,  8.39769606e-14,  4.03935105e-14, ...,\n",
              "          2.43712429e-06, -1.98643488e-06, -8.38059634e-07]),\n",
              "  'sampling_rate': 48000},\n",
              " {'path': '/DATA10T/Cache/downloads/extracted/ba5c265b423696aeece652c80df565d72d9f7c1cc9b807e127f44f989150f409/en_test_0/common_voice_en_26555335.mp3',\n",
              "  'array': array([ 3.49483809e-23, -1.57164316e-23, -4.13590306e-24, ...,\n",
              "          0.00000000e+00,  0.00000000e+00,  0.00000000e+00]),\n",
              "  'sampling_rate': 48000},\n",
              " {'path': '/DATA10T/Cache/downloads/extracted/ba5c265b423696aeece652c80df565d72d9f7c1cc9b807e127f44f989150f409/en_test_0/common_voice_en_20789189.mp3',\n",
              "  'array': array([ 0.00000000e+00,  0.00000000e+00,  0.00000000e+00, ...,\n",
              "          1.95669185e-04,  1.99177361e-04, -4.67499485e-05]),\n",
              "  'sampling_rate': 48000},\n",
              " {'path': '/DATA10T/Cache/downloads/extracted/ba5c265b423696aeece652c80df565d72d9f7c1cc9b807e127f44f989150f409/en_test_0/common_voice_en_28715410.mp3',\n",
              "  'array': array([ 1.13686838e-13,  3.97903932e-13,  5.82645043e-13, ...,\n",
              "         -3.50124901e-06, -2.96358485e-06, -1.54715963e-06]),\n",
              "  'sampling_rate': 48000},\n",
              " {'path': '/DATA10T/Cache/downloads/extracted/ba5c265b423696aeece652c80df565d72d9f7c1cc9b807e127f44f989150f409/en_test_0/common_voice_en_22338655.mp3',\n",
              "  'array': array([ 0.00000000e+00,  0.00000000e+00,  0.00000000e+00, ...,\n",
              "         -1.64136060e-09, -2.37069742e-09, -3.53460372e-10]),\n",
              "  'sampling_rate': 48000},\n",
              " {'path': '/DATA10T/Cache/downloads/extracted/ba5c265b423696aeece652c80df565d72d9f7c1cc9b807e127f44f989150f409/en_test_0/common_voice_en_193576.mp3',\n",
              "  'array': array([ 0.00000000e+00,  8.97783313e-13,  6.75328500e-13, ...,\n",
              "         -6.27693908e-07, -5.11975315e-07,  1.30801823e-08]),\n",
              "  'sampling_rate': 48000},\n",
              " {'path': '/DATA10T/Cache/downloads/extracted/ba5c265b423696aeece652c80df565d72d9f7c1cc9b807e127f44f989150f409/en_test_0/common_voice_en_635431.mp3',\n",
              "  'array': array([ 0.00000000e+00, -8.02130931e-13,  1.66786900e-13, ...,\n",
              "          0.00000000e+00,  0.00000000e+00,  0.00000000e+00]),\n",
              "  'sampling_rate': 48000},\n",
              " {'path': '/DATA10T/Cache/downloads/extracted/ba5c265b423696aeece652c80df565d72d9f7c1cc9b807e127f44f989150f409/en_test_0/common_voice_en_17961589.mp3',\n",
              "  'array': array([ 0.00000000e+00,  3.07458811e-13, -6.50940890e-14, ...,\n",
              "         -1.14866339e-07,  4.12989777e-07,  1.40171983e-06]),\n",
              "  'sampling_rate': 48000},\n",
              " {'path': '/DATA10T/Cache/downloads/extracted/ba5c265b423696aeece652c80df565d72d9f7c1cc9b807e127f44f989150f409/en_test_0/common_voice_en_26949722.mp3',\n",
              "  'array': array([ 3.97903932e-13,  1.87583282e-12,  2.61479727e-12, ...,\n",
              "         -1.03620187e-05, -1.02573995e-05, -5.14435123e-06]),\n",
              "  'sampling_rate': 48000},\n",
              " {'path': '/DATA10T/Cache/downloads/extracted/ba5c265b423696aeece652c80df565d72d9f7c1cc9b807e127f44f989150f409/en_test_0/common_voice_en_155041.mp3',\n",
              "  'array': array([ 0.00000000e+00,  3.53890365e-16, -2.12911472e-15, ...,\n",
              "         -1.88210816e-08,  4.44874915e-10,  2.56797383e-09]),\n",
              "  'sampling_rate': 48000},\n",
              " {'path': '/DATA10T/Cache/downloads/extracted/ba5c265b423696aeece652c80df565d72d9f7c1cc9b807e127f44f989150f409/en_test_0/common_voice_en_25902308.mp3',\n",
              "  'array': array([ 1.77635684e-15, -2.33146835e-14, -3.59712260e-14, ...,\n",
              "         -2.77555756e-15, -9.99200722e-16,  6.66133815e-16]),\n",
              "  'sampling_rate': 48000},\n",
              " {'path': '/DATA10T/Cache/downloads/extracted/ba5c265b423696aeece652c80df565d72d9f7c1cc9b807e127f44f989150f409/en_test_0/common_voice_en_111075.mp3',\n",
              "  'array': array([0.00000000e+00, 4.73428805e-13, 3.72377883e-13, ...,\n",
              "         1.20562952e-04, 1.04920444e-04, 1.25131090e-04]),\n",
              "  'sampling_rate': 48000},\n",
              " {'path': '/DATA10T/Cache/downloads/extracted/ba5c265b423696aeece652c80df565d72d9f7c1cc9b807e127f44f989150f409/en_test_0/common_voice_en_25512283.mp3',\n",
              "  'array': array([-3.41060513e-13,  7.10542736e-13,  8.66862138e-13, ...,\n",
              "         -6.85924533e-06, -5.67019379e-06, -2.71746103e-06]),\n",
              "  'sampling_rate': 48000},\n",
              " {'path': '/DATA10T/Cache/downloads/extracted/ba5c265b423696aeece652c80df565d72d9f7c1cc9b807e127f44f989150f409/en_test_0/common_voice_en_31615499.mp3',\n",
              "  'array': array([-1.42108547e-14, -1.77635684e-14, -4.79616347e-14, ...,\n",
              "          1.93715987e-05,  1.44773840e-05,  5.63518097e-06]),\n",
              "  'sampling_rate': 48000},\n",
              " {'path': '/DATA10T/Cache/downloads/extracted/ba5c265b423696aeece652c80df565d72d9f7c1cc9b807e127f44f989150f409/en_test_0/common_voice_en_86584.mp3',\n",
              "  'array': array([ 0.00000000e+00, -1.58602176e-14, -1.51988763e-14, ...,\n",
              "          5.35374556e-06,  2.88515002e-06,  3.01583839e-07]),\n",
              "  'sampling_rate': 48000},\n",
              " {'path': '/DATA10T/Cache/downloads/extracted/ba5c265b423696aeece652c80df565d72d9f7c1cc9b807e127f44f989150f409/en_test_0/common_voice_en_19479960.mp3',\n",
              "  'array': array([0.00000000e+00, 8.93768913e-12, 8.28472360e-12, ...,\n",
              "         0.00000000e+00, 0.00000000e+00, 0.00000000e+00]),\n",
              "  'sampling_rate': 48000},\n",
              " {'path': '/DATA10T/Cache/downloads/extracted/ba5c265b423696aeece652c80df565d72d9f7c1cc9b807e127f44f989150f409/en_test_0/common_voice_en_193520.mp3',\n",
              "  'array': array([ 0.00000000e+00,  0.00000000e+00,  0.00000000e+00, ...,\n",
              "          3.49564016e-06,  3.97673375e-06, -1.14770683e-06]),\n",
              "  'sampling_rate': 48000},\n",
              " {'path': '/DATA10T/Cache/downloads/extracted/ba5c265b423696aeece652c80df565d72d9f7c1cc9b807e127f44f989150f409/en_test_0/common_voice_en_32766628.mp3',\n",
              "  'array': array([ 2.95585778e-12, -9.09494702e-13, -7.16227078e-12, ...,\n",
              "          1.62726246e-05,  2.39054261e-05,  1.56986116e-05]),\n",
              "  'sampling_rate': 48000},\n",
              " {'path': '/DATA10T/Cache/downloads/extracted/ba5c265b423696aeece652c80df565d72d9f7c1cc9b807e127f44f989150f409/en_test_0/common_voice_en_18987361.mp3',\n",
              "  'array': array([0.00000000e+00, 0.00000000e+00, 0.00000000e+00, ...,\n",
              "         7.49318406e-06, 7.97489292e-07, 7.18184765e-07]),\n",
              "  'sampling_rate': 48000},\n",
              " {'path': '/DATA10T/Cache/downloads/extracted/ba5c265b423696aeece652c80df565d72d9f7c1cc9b807e127f44f989150f409/en_test_0/common_voice_en_27366699.mp3',\n",
              "  'array': array([ 0.00000000e+00,  0.00000000e+00,  0.00000000e+00, ...,\n",
              "         -1.77369480e-10, -2.61299992e-11,  3.79153757e-11]),\n",
              "  'sampling_rate': 48000},\n",
              " {'path': '/DATA10T/Cache/downloads/extracted/ba5c265b423696aeece652c80df565d72d9f7c1cc9b807e127f44f989150f409/en_test_0/common_voice_en_30699821.mp3',\n",
              "  'array': array([-1.42108547e-14, -7.10542736e-15, -1.98951966e-13, ...,\n",
              "         -6.42731829e-05, -1.22506026e-05,  1.11410700e-05]),\n",
              "  'sampling_rate': 48000},\n",
              " {'path': '/DATA10T/Cache/downloads/extracted/ba5c265b423696aeece652c80df565d72d9f7c1cc9b807e127f44f989150f409/en_test_0/common_voice_en_28819598.mp3',\n",
              "  'array': array([-4.44089210e-16,  5.77315973e-15, -5.77315973e-15, ...,\n",
              "          1.51646527e-05,  2.00652503e-05,  9.92047717e-06]),\n",
              "  'sampling_rate': 48000},\n",
              " {'path': '/DATA10T/Cache/downloads/extracted/ba5c265b423696aeece652c80df565d72d9f7c1cc9b807e127f44f989150f409/en_test_0/common_voice_en_20233685.mp3',\n",
              "  'array': array([ 0.00000000e+00,  7.85638373e-14,  4.21043544e-14, ...,\n",
              "          3.74718252e-06, -1.19090294e-06, -2.24865198e-06]),\n",
              "  'sampling_rate': 48000},\n",
              " {'path': '/DATA10T/Cache/downloads/extracted/ba5c265b423696aeece652c80df565d72d9f7c1cc9b807e127f44f989150f409/en_test_0/common_voice_en_26957325.mp3',\n",
              "  'array': array([-5.68434189e-14, -1.98951966e-13, -1.13686838e-13, ...,\n",
              "          1.24086341e-06,  1.61431603e-06,  1.00610214e-06]),\n",
              "  'sampling_rate': 48000},\n",
              " {'path': '/DATA10T/Cache/downloads/extracted/ba5c265b423696aeece652c80df565d72d9f7c1cc9b807e127f44f989150f409/en_test_0/common_voice_en_33612242.mp3',\n",
              "  'array': array([ 0.00000000e+00,  0.00000000e+00,  0.00000000e+00, ...,\n",
              "          3.13791361e-06,  9.40625853e-07, -1.15996102e-08]),\n",
              "  'sampling_rate': 48000},\n",
              " {'path': '/DATA10T/Cache/downloads/extracted/ba5c265b423696aeece652c80df565d72d9f7c1cc9b807e127f44f989150f409/en_test_0/common_voice_en_18277778.mp3',\n",
              "  'array': array([ 0.00000000e+00, -3.50864303e-13, -3.27746782e-13, ...,\n",
              "          1.05359845e-06,  1.76052481e-06,  1.62645222e-06]),\n",
              "  'sampling_rate': 48000},\n",
              " {'path': '/DATA10T/Cache/downloads/extracted/ba5c265b423696aeece652c80df565d72d9f7c1cc9b807e127f44f989150f409/en_test_0/common_voice_en_24023123.mp3',\n",
              "  'array': array([ 5.08219768e-21,  5.08219768e-21,  6.77626358e-21, ...,\n",
              "         -3.88768967e-06, -5.88256080e-05, -5.37416490e-05]),\n",
              "  'sampling_rate': 48000},\n",
              " {'path': '/DATA10T/Cache/downloads/extracted/ba5c265b423696aeece652c80df565d72d9f7c1cc9b807e127f44f989150f409/en_test_0/common_voice_en_18319767.mp3',\n",
              "  'array': array([0., 0., 0., ..., 0., 0., 0.]),\n",
              "  'sampling_rate': 48000},\n",
              " {'path': '/DATA10T/Cache/downloads/extracted/ba5c265b423696aeece652c80df565d72d9f7c1cc9b807e127f44f989150f409/en_test_0/common_voice_en_17913515.mp3',\n",
              "  'array': array([ 0.00000000e+00,  6.15463338e-17,  2.45008912e-17, ...,\n",
              "         -1.32043169e-06, -1.84183511e-06, -7.45981538e-07]),\n",
              "  'sampling_rate': 48000},\n",
              " {'path': '/DATA10T/Cache/downloads/extracted/ba5c265b423696aeece652c80df565d72d9f7c1cc9b807e127f44f989150f409/en_test_0/common_voice_en_18208645.mp3',\n",
              "  'array': array([ 0.00000000e+00,  1.28558080e-13,  1.94363622e-13, ...,\n",
              "         -1.21228495e-05, -6.06805907e-06, -8.43268663e-06]),\n",
              "  'sampling_rate': 48000},\n",
              " {'path': '/DATA10T/Cache/downloads/extracted/ba5c265b423696aeece652c80df565d72d9f7c1cc9b807e127f44f989150f409/en_test_0/common_voice_en_21943181.mp3',\n",
              "  'array': array([0.00000000e+00, 1.57206767e-13, 2.38753787e-13, ...,\n",
              "         0.00000000e+00, 0.00000000e+00, 0.00000000e+00]),\n",
              "  'sampling_rate': 48000},\n",
              " {'path': '/DATA10T/Cache/downloads/extracted/ba5c265b423696aeece652c80df565d72d9f7c1cc9b807e127f44f989150f409/en_test_0/common_voice_en_34021941.mp3',\n",
              "  'array': array([ 2.84217094e-14, -8.38440428e-13, -1.09423581e-12, ...,\n",
              "          6.76346133e-07, -3.73471721e-07, -5.80468054e-07]),\n",
              "  'sampling_rate': 48000},\n",
              " {'path': '/DATA10T/Cache/downloads/extracted/ba5c265b423696aeece652c80df565d72d9f7c1cc9b807e127f44f989150f409/en_test_0/common_voice_en_159192.mp3',\n",
              "  'array': array([ 0.00000000e+00,  1.67083808e-13,  4.23313999e-14, ...,\n",
              "          5.02045168e-07, -9.92461537e-07, -5.28920873e-06]),\n",
              "  'sampling_rate': 48000},\n",
              " {'path': '/DATA10T/Cache/downloads/extracted/ba5c265b423696aeece652c80df565d72d9f7c1cc9b807e127f44f989150f409/en_test_0/common_voice_en_20586574.mp3',\n",
              "  'array': array([ 0.00000000e+00, -1.73446445e-14, -1.62721331e-14, ...,\n",
              "         -3.02037142e-06, -1.84534838e-06, -4.79816777e-07]),\n",
              "  'sampling_rate': 48000},\n",
              " {'path': '/DATA10T/Cache/downloads/extracted/ba5c265b423696aeece652c80df565d72d9f7c1cc9b807e127f44f989150f409/en_test_0/common_voice_en_31963137.mp3',\n",
              "  'array': array([ 0.00000000e+00, -1.70530257e-13, -1.53477231e-12, ...,\n",
              "         -5.21400398e-06, -1.52245048e-05, -1.44418591e-05]),\n",
              "  'sampling_rate': 48000},\n",
              " {'path': '/DATA10T/Cache/downloads/extracted/ba5c265b423696aeece652c80df565d72d9f7c1cc9b807e127f44f989150f409/en_test_0/common_voice_en_32850241.mp3',\n",
              "  'array': array([-1.42108547e-13, -8.81072992e-13, -1.64845915e-12, ...,\n",
              "         -7.23094581e-06,  1.48817371e-05,  1.60251639e-05]),\n",
              "  'sampling_rate': 48000},\n",
              " {'path': '/DATA10T/Cache/downloads/extracted/ba5c265b423696aeece652c80df565d72d9f7c1cc9b807e127f44f989150f409/en_test_0/common_voice_en_18339580.mp3',\n",
              "  'array': array([ 0.00000000e+00,  1.48890960e-14,  5.43193759e-15, ...,\n",
              "         -1.29733201e-06, -1.97156032e-06, -2.95973973e-06]),\n",
              "  'sampling_rate': 48000},\n",
              " {'path': '/DATA10T/Cache/downloads/extracted/ba5c265b423696aeece652c80df565d72d9f7c1cc9b807e127f44f989150f409/en_test_0/common_voice_en_638672.mp3',\n",
              "  'array': array([ 0.00000000e+00,  8.58599758e-14, -5.78099580e-14, ...,\n",
              "         -3.93214421e-08,  8.09091372e-09,  8.52376871e-08]),\n",
              "  'sampling_rate': 48000},\n",
              " {'path': '/DATA10T/Cache/downloads/extracted/ba5c265b423696aeece652c80df565d72d9f7c1cc9b807e127f44f989150f409/en_test_0/common_voice_en_217612.mp3',\n",
              "  'array': array([ 0.00000000e+00,  0.00000000e+00,  0.00000000e+00, ...,\n",
              "         -2.61633226e-09, -1.61462683e-08,  1.27662050e-08]),\n",
              "  'sampling_rate': 48000},\n",
              " {'path': '/DATA10T/Cache/downloads/extracted/ba5c265b423696aeece652c80df565d72d9f7c1cc9b807e127f44f989150f409/en_test_0/common_voice_en_25540199.mp3',\n",
              "  'array': array([ 1.42108547e-14,  6.25277607e-13,  1.13686838e-12, ...,\n",
              "         -8.30040790e-07,  3.53471478e-07,  7.08691005e-07]),\n",
              "  'sampling_rate': 48000}]"
            ]
          },
          "execution_count": 28,
          "metadata": {},
          "output_type": "execute_result"
        }
      ],
      "source": [
        "test_dataset['audio']"
      ]
    },
    {
      "cell_type": "code",
      "execution_count": 29,
      "metadata": {},
      "outputs": [
        {
          "data": {
            "text/plain": [
              "['Joe Keaton disapproved of films, and Buster also had reservations about the medium.',\n",
              " \"She'll be all right.\",\n",
              " 'six',\n",
              " \"All's well that ends well.\",\n",
              " 'It is a busy market town that serves a large surrounding area.',\n",
              " 'The team had Olympic Champion Carolina Marin in their squad for the season.',\n",
              " 'Do you mean it?',\n",
              " 'The new patch is less invasive than the old one, but still causes regressions.',\n",
              " 'How is Mozilla going to handle ambiguities like queue and cue?',\n",
              " \"I guess you must think I'm kinda batty.\",\n",
              " 'No one near the remote machine you could ring?',\n",
              " 'Sauce for the goose is sauce for the gander.',\n",
              " 'Groves started writing songs when she was four years old.',\n",
              " 'His uncle Mike Shula was the former head coach at Alabama.',\n",
              " 'The response was that the Board did not appoint individual officers.',\n",
              " 'The long-lived bridge still stands today.',\n",
              " 'There was nothing to hold him back except himself.',\n",
              " 'The meat processing and construction industries would be allowed to operate with reduced personnel.',\n",
              " 'Coles Branch is underlaid by the Deep River Basin.',\n",
              " 'We spoke often.',\n",
              " 'He was Protestant.',\n",
              " 'The electrician looked puzzled.',\n",
              " 'The ladder on the fire truck was not long enough.',\n",
              " 'I will tell her what we decided.',\n",
              " 'These and the other youth leaders are advised and supported by the adult leaders.',\n",
              " 'Enoxaparin belongs to the class of drugs known as low molecular weight heparins.',\n",
              " 'Good things come in small packages.',\n",
              " 'Boles is studying chemical engineering at the University College Dublin.',\n",
              " 'It is a member theater of the Union of the Theatres of Europe.',\n",
              " 'All three battalions were equipped with captured French tanks.',\n",
              " 'YOU WANNA TAKE THIS OUTSIDE?',\n",
              " 'She joined the \"K\" patrol line and patrolled off Unalaska Island.',\n",
              " 'The immersion in hot water also kills the silkworm pupa.',\n",
              " 'She married her business partner, Steve Lane.',\n",
              " 'The attack on our root server overstrained our senior administrator.',\n",
              " 'Do you want me?',\n",
              " 'That would be funny if he did.',\n",
              " 'Eight National Paralympic Committee quotas and three individual athlete quotas were secured.',\n",
              " 'Although she had flowers and applause, Mavis said she was not content.',\n",
              " 'Add the column and put the sum here.',\n",
              " 'They perfectly illuminate the flowerbeds of gardens.',\n",
              " 'A mansion was usually set on a one square.',\n",
              " 'Alston commented that he felt the cartoonist \"might have had some racial intent\".',\n",
              " 'He was the chief clerk of the Chicago and Northwestern Railroad.',\n",
              " 'Doing a handstand needs a lot of practice to learn.',\n",
              " 'Man in red tshirt and baseball cap viewed from above he is has a pile of posters',\n",
              " 'The two films were then released within one day of each other.',\n",
              " '‘What did he say his name was?’ asked the captain.',\n",
              " 'He has German ancestry from his paternal side.',\n",
              " 'yes',\n",
              " \"Since their inception, Harris has been the band's principal composer and lyricist.\",\n",
              " 'After experiencing a mind-blowing sensual orgy, Mike was sure he had taken an overdose.',\n",
              " 'Religious festivals include the Muslim Eids and the Christian Christmas and Easter.',\n",
              " 'What do you advise, sir?',\n",
              " 'Charles looked on, angry that there was nothing he could do.',\n",
              " 'She had made personal exhibitions and participated in group exhibitions as well.',\n",
              " 'The manifesto made apparent the philosophical changes that Abbas had undergone.',\n",
              " 'She was also appointed the Eleanor Easley Distinguished Professor of Medicine.',\n",
              " 'Karina Smirnoff of \"Dancing With The Stars\" hosted the following month.',\n",
              " 'It is inhibited by the pneumotaxic centre.',\n",
              " 'His wide grin earned many friends.',\n",
              " 'An important person in the life of Emile Claus was the painter Jenny Montigny.',\n",
              " \"In the United States, Federal Vehicle fleets refers to the federal government's vehicles.\",\n",
              " 'It was won by a woman from Vara, Sweden.',\n",
              " 'The prints are then delivered to the customer.',\n",
              " 'In spite of this, I still believed that there were men in Mars.',\n",
              " 'The land was ruined, and I had to find some other way to earn a living.',\n",
              " 'Footprints of mud and clay were on the floor.',\n",
              " \"Other well-known relatives in Handsome Lake's family included Governor Blacksnake, Red Jacket and Half-Town.\",\n",
              " 'I pointed out Mars, a bright dot of light.',\n",
              " 'He ended up running to the bars which fortified the windows of the first floor.',\n",
              " 'I know why I want to get back to my flock, he thought.',\n",
              " 'Many notable problem and study composers are also International Judges, including Genrikh Kasparyan.',\n",
              " 'Many of the supporting characters present an unflattering portrayal of colonial life in Virginia.',\n",
              " 'You should see the other guy, specifically, how good at fighting he is.',\n",
              " 'He is of African-American and Italian descent.',\n",
              " \"That's not Carson Sphinx.\",\n",
              " 'Some rules of thumb are also accepted in the codes.',\n",
              " 'Lorenz is listed as a Swiss heritage site of national significance.',\n",
              " 'I have never in life hit a tennis ball.',\n",
              " 'The warehouses of Megapolis Ukraine in six cities were blocked by activists.',\n",
              " 'He is the first known and undisputed member of the Gediminids.',\n",
              " 'Lion Rock is located north west of Wong Tai Sin.',\n",
              " 'At dusk the Greek western flank was broken.',\n",
              " 'Her father is sure to inherit.',\n",
              " 'We should not take for granted how fortunate we have been.',\n",
              " 'Topical and up-to-the-minute, E!',\n",
              " 'The farmer works the soil and produces grain.',\n",
              " \"Since I've gotten a dog, the regular visits of the fox have stopped.\",\n",
              " 'His speech ended with a standing ovation.',\n",
              " 'eight',\n",
              " 'The reserve is in pristine condition with almost no human habitation.',\n",
              " '\"The wind told me that you know about love\" the boy said to the sun.',\n",
              " 'Geils began playing jazz trumpet but eventually switched to blues guitar.',\n",
              " 'This is the context in which the film begins.',\n",
              " 'These qualities make her beloved by her hometown.',\n",
              " 'The little pink ones are so cute.',\n",
              " 'The students colored with their crayons.',\n",
              " 'It seemed to him that it fell to earth about one hundred miles east of here.',\n",
              " 'As such it is face uniform but with irregular face polygons.']"
            ]
          },
          "execution_count": 29,
          "metadata": {},
          "output_type": "execute_result"
        }
      ],
      "source": [
        "test_dataset['sentence']"
      ]
    },
    {
      "cell_type": "code",
      "execution_count": 30,
      "metadata": {},
      "outputs": [
        {
          "data": {
            "text/plain": [
              "{'client_id': '0013037a1d45cc33460806cc3f8ecee9d536c45639ba4cbbf1564f1c051f53ff3c9f89ef2f1bf04badf55b3a2e7654c086f903681a7b6299616cff6f67598eff',\n",
              " 'path': '/DATA10T/Cache/downloads/extracted/ba5c265b423696aeece652c80df565d72d9f7c1cc9b807e127f44f989150f409/en_test_0/common_voice_en_699711.mp3',\n",
              " 'audio': {'path': '/DATA10T/Cache/downloads/extracted/ba5c265b423696aeece652c80df565d72d9f7c1cc9b807e127f44f989150f409/en_test_0/common_voice_en_699711.mp3',\n",
              "  'array': array([ 0.00000000e+00, -7.05920511e-14, -5.47149741e-14, ...,\n",
              "         -8.53668247e-09,  2.06165751e-09,  1.62003939e-08]),\n",
              "  'sampling_rate': 48000},\n",
              " 'sentence': \"She'll be all right.\",\n",
              " 'up_votes': 2,\n",
              " 'down_votes': 1,\n",
              " 'age': '',\n",
              " 'gender': '',\n",
              " 'accent': '',\n",
              " 'locale': 'en',\n",
              " 'segment': ''}"
            ]
          },
          "execution_count": 30,
          "metadata": {},
          "output_type": "execute_result"
        }
      ],
      "source": [
        "sample=test_dataset[1]\n",
        "sample"
      ]
    },
    {
      "cell_type": "code",
      "execution_count": 31,
      "metadata": {},
      "outputs": [
        {
          "data": {
            "text/plain": [
              "48000"
            ]
          },
          "execution_count": 31,
          "metadata": {},
          "output_type": "execute_result"
        }
      ],
      "source": [
        "sample[\"audio\"][\"sampling_rate\"]"
      ]
    },
    {
      "cell_type": "code",
      "execution_count": 33,
      "metadata": {},
      "outputs": [
        {
          "data": {
            "text/plain": [
              "\"She'll be all right.\""
            ]
          },
          "execution_count": 33,
          "metadata": {},
          "output_type": "execute_result"
        }
      ],
      "source": [
        "sample['sentence']"
      ]
    },
    {
      "cell_type": "code",
      "execution_count": 34,
      "metadata": {},
      "outputs": [],
      "source": [
        "inputids=processor.tokenizer(sample['sentence'])"
      ]
    },
    {
      "cell_type": "code",
      "execution_count": 35,
      "metadata": {},
      "outputs": [
        {
          "data": {
            "text/plain": [
              "{'input_ids': [3, 14, 11, 5, 18, 18, 4, 8, 11, 4, 7, 18, 18, 4, 24, 15, 13, 14, 26, 3], 'attention_mask': [1, 1, 1, 1, 1, 1, 1, 1, 1, 1, 1, 1, 1, 1, 1, 1, 1, 1, 1, 1]}"
            ]
          },
          "execution_count": 35,
          "metadata": {},
          "output_type": "execute_result"
        }
      ],
      "source": [
        "inputids"
      ]
    },
    {
      "cell_type": "code",
      "execution_count": 40,
      "metadata": {},
      "outputs": [
        {
          "data": {
            "text/plain": [
              "\"<unk>he'l be al right<unk>\""
            ]
          },
          "execution_count": 40,
          "metadata": {},
          "output_type": "execute_result"
        }
      ],
      "source": [
        "decoded_str = processor.decode(inputids.input_ids)\n",
        "decoded_str"
      ]
    },
    {
      "cell_type": "markdown",
      "metadata": {},
      "source": [
        "S and . is replaced as <unk>"
      ]
    },
    {
      "cell_type": "code",
      "execution_count": 41,
      "metadata": {},
      "outputs": [
        {
          "data": {
            "text/plain": [
              "\"she'l be al right<unk>\""
            ]
          },
          "execution_count": 41,
          "metadata": {},
          "output_type": "execute_result"
        }
      ],
      "source": [
        "inputids=processor.tokenizer(sample['sentence'].lower())\n",
        "decoded_str = processor.decode(inputids.input_ids)\n",
        "decoded_str"
      ]
    },
    {
      "cell_type": "code",
      "execution_count": 43,
      "metadata": {},
      "outputs": [
        {
          "data": {
            "text/plain": [
              "\"she'll be all right<unk>\""
            ]
          },
          "execution_count": 43,
          "metadata": {},
          "output_type": "execute_result"
        }
      ],
      "source": [
        "decoded_str = processor.tokenizer.decode(inputids.input_ids, group_tokens=False)\n",
        "decoded_str"
      ]
    },
    {
      "cell_type": "code",
      "execution_count": 45,
      "metadata": {},
      "outputs": [
        {
          "data": {
            "text/plain": [
              "{'<pad>': 0,\n",
              " '<s>': 1,\n",
              " '</s>': 2,\n",
              " '<unk>': 3,\n",
              " '|': 4,\n",
              " \"'\": 5,\n",
              " '-': 6,\n",
              " 'a': 7,\n",
              " 'b': 8,\n",
              " 'c': 9,\n",
              " 'd': 10,\n",
              " 'e': 11,\n",
              " 'f': 12,\n",
              " 'g': 13,\n",
              " 'h': 14,\n",
              " 'i': 15,\n",
              " 'j': 16,\n",
              " 'k': 17,\n",
              " 'l': 18,\n",
              " 'm': 19,\n",
              " 'n': 20,\n",
              " 'o': 21,\n",
              " 'p': 22,\n",
              " 'q': 23,\n",
              " 'r': 24,\n",
              " 's': 25,\n",
              " 't': 26,\n",
              " 'u': 27,\n",
              " 'v': 28,\n",
              " 'w': 29,\n",
              " 'x': 30,\n",
              " 'y': 31,\n",
              " 'z': 32}"
            ]
          },
          "execution_count": 45,
          "metadata": {},
          "output_type": "execute_result"
        }
      ],
      "source": [
        "processor.tokenizer.encoder"
      ]
    },
    {
      "cell_type": "code",
      "execution_count": 46,
      "metadata": {},
      "outputs": [],
      "source": [
        "speech_array, sampling_rate = librosa.load(sample[\"path\"], sr=16_000)\n",
        "#sample[\"audio\"][\"array\"] is 48000\n",
        "inputs_sample = processor(speech_array, sampling_rate=sampling_rate, return_tensors=\"pt\")"
      ]
    },
    {
      "cell_type": "code",
      "execution_count": 47,
      "metadata": {},
      "outputs": [
        {
          "data": {
            "text/plain": [
              "{'input_values': tensor([[4.2237e-05, 4.2201e-05, 4.2325e-05,  ..., 4.2364e-05, 4.2385e-05,\n",
              "         4.2037e-05]]), 'attention_mask': tensor([[1, 1, 1,  ..., 1, 1, 1]], dtype=torch.int32)}"
            ]
          },
          "execution_count": 47,
          "metadata": {},
          "output_type": "execute_result"
        }
      ],
      "source": [
        "inputs_sample"
      ]
    },
    {
      "cell_type": "code",
      "execution_count": 48,
      "metadata": {},
      "outputs": [],
      "source": [
        "with torch.no_grad():\n",
        "    logits = model(inputs_sample.input_values, attention_mask=inputs_sample.attention_mask).logits"
      ]
    },
    {
      "cell_type": "code",
      "execution_count": 49,
      "metadata": {},
      "outputs": [
        {
          "data": {
            "text/plain": [
              "torch.Size([1, 108, 33])"
            ]
          },
          "execution_count": 49,
          "metadata": {},
          "output_type": "execute_result"
        }
      ],
      "source": [
        "logits.shape"
      ]
    },
    {
      "cell_type": "code",
      "execution_count": 50,
      "metadata": {},
      "outputs": [
        {
          "data": {
            "text/plain": [
              "torch.Size([1, 108])"
            ]
          },
          "execution_count": 50,
          "metadata": {},
          "output_type": "execute_result"
        }
      ],
      "source": [
        "predicted_ids = torch.argmax(logits, dim=-1)\n",
        "predicted_ids.shape"
      ]
    },
    {
      "cell_type": "code",
      "execution_count": 51,
      "metadata": {},
      "outputs": [
        {
          "data": {
            "text/plain": [
              "[\"she'll be all right\"]"
            ]
          },
          "execution_count": 51,
          "metadata": {},
          "output_type": "execute_result"
        }
      ],
      "source": [
        "predicted_sentences = processor.batch_decode(predicted_ids)\n",
        "predicted_sentences"
      ]
    },
    {
      "cell_type": "code",
      "execution_count": 52,
      "metadata": {},
      "outputs": [
        {
          "data": {
            "application/vnd.jupyter.widget-view+json": {
              "model_id": "fc2b5e80570d4b46810a33828a0dccf3",
              "version_major": 2,
              "version_minor": 0
            },
            "text/plain": [
              "Map:   0%|          | 0/100 [00:00<?, ? examples/s]"
            ]
          },
          "metadata": {},
          "output_type": "display_data"
        }
      ],
      "source": [
        "# Preprocessing the datasets.\n",
        "# We need to read the audio files as arrays\n",
        "def speech_file_to_array_fn(batch):\n",
        "    speech_array, sampling_rate = librosa.load(batch[\"path\"], sr=16_000)\n",
        "    batch[\"speech\"] = speech_array\n",
        "    batch[\"sentence\"] = batch[\"sentence\"]#.upper()\n",
        "    return batch\n",
        "\n",
        "test_dataset_new = test_dataset.map(speech_file_to_array_fn)\n",
        "inputs = processor(test_dataset_new[\"speech\"], sampling_rate=16_000, return_tensors=\"pt\", padding=True)\n",
        "\n",
        "with torch.no_grad():\n",
        "    logits = model(inputs.input_values, attention_mask=inputs.attention_mask).logits\n",
        "\n",
        "predicted_ids = torch.argmax(logits, dim=-1)\n",
        "predicted_sentences = processor.batch_decode(predicted_ids)\n"
      ]
    },
    {
      "cell_type": "code",
      "execution_count": 54,
      "metadata": {},
      "outputs": [
        {
          "data": {
            "text/plain": [
              "['joe keatson disapproved of films and buster also had reservations about the medium',\n",
              " \"she'll be all right\",\n",
              " 'six',\n",
              " 'all as well that ends well',\n",
              " 'it is a busy market town that serves a large surrounded area',\n",
              " 'the team at olympic chapion carolina marine in is quiet forty season',\n",
              " 'do you mean it',\n",
              " 'the new patch is less invasive than the old one but still causes regression',\n",
              " 'how is moslillar going to handle andbewooth his like q and q',\n",
              " 'christian ws sitin pam on te batty',\n",
              " 'no one near the remote machine you could ring',\n",
              " 'sauce for the guice is sauce for the gonder',\n",
              " 'grafs started writing songs when she was four years old',\n",
              " 'his uncle mike schula was the former edge coach at alabama',\n",
              " 'the response was that the ball did not appoint individual officers',\n",
              " 'the long-lived bleached still stands today',\n",
              " 'there was nothing to hold him back except himself',\n",
              " 'the mead processing and construction industries would be allowed to operate with readios personel',\n",
              " \"cole's branch is underlayd by the deep river basin\",\n",
              " 'we spoke off on',\n",
              " 'he was protestant',\n",
              " 'they decretion youp pozzls',\n",
              " 'a leader on the fighter truck was not long enough',\n",
              " 'i will tell her what we decided',\n",
              " 'these and the other leaders are advised and supported by the adult leaders',\n",
              " 'loimoni a oxparian belongs to a class of truks monars bonalgiagat apariska',\n",
              " 'good things come in small paggages',\n",
              " 'bowles is studying chemical engineering at the university college dublin',\n",
              " 'it is a member theatre of the union of the theatres of europe',\n",
              " 'all three battalions were equipped with captured frenge tanks',\n",
              " 'you want to take this outside',\n",
              " 'she joined the k patrol line and patrolled off inalaska island',\n",
              " 'the imergion in hotwater also kills the sick one upah',\n",
              " 'she married her benness partner stephen lee',\n",
              " 'the attak on your road serve war strained our senior administrator',\n",
              " 'do you want me',\n",
              " 'that would be funny if he did',\n",
              " 'eight national paralympic committee kotas and three individual athlete kotas were secured',\n",
              " 'although she had flowers and applause maybe said she was not content',\n",
              " 'add the column and put the sum here',\n",
              " 'they perfectly illuminate the flower beds of t gardens',\n",
              " 'a mantion was usually hit on a one square',\n",
              " 'arlstone commented that he felt the cartoonist might have had some racial intent',\n",
              " 'he is the chief clerk of the chipalo and northwestern railroad',\n",
              " 'doing a handstan needs a lot of practice to learn',\n",
              " 'man in red t-shirt and baseball cap views from above he is as a pile of postures',\n",
              " 'the two films were then released within one day each other',\n",
              " 'what did he say his name wos asked the captain',\n",
              " 'he has german ancestry from his paternal sight',\n",
              " 'yes',\n",
              " 'many mean the kapalloturman is a gereqyo bashanzachabilirsens',\n",
              " 'after experiencing a mind-blowing sensual orgy mikes was sure he had taken ot over those',\n",
              " 'religious festivals include the muslim eids and the christian christmas and easter',\n",
              " 'what are you advise sir',\n",
              " 'charles looked on angry that there was nothing he could do',\n",
              " 'she had more personal exhibitions and participated in group exhibitions as well',\n",
              " 'the mony feasts to made apparent the philosophical changes that allus has undergone',\n",
              " 'she was also appointed the elenor easiley distinguished professor of medicine',\n",
              " 'carinas wurenoug of dancing with the stars hosted the following month',\n",
              " 'it is inhibited by the neumotoxic center',\n",
              " 'his white green and many friends',\n",
              " 'an important verson in the life of gemir cross was the painter jenn montegni',\n",
              " \"in the united states federal vehicle fleets refer to the federal government's vehicles\",\n",
              " 'it was on by a woman frombara swated bupy',\n",
              " 'te pring are then delivered to the constals',\n",
              " 'in spite of this i still believe that there were men ion marce',\n",
              " 'teland swilled bu had to fend sima the later in ravi',\n",
              " 'footprints of mud and clay were on the floor',\n",
              " 'other wearming weluses ainhungsan los comedy in filbo basma blat milk wom prakes and harxhantan',\n",
              " 'i pointed out mars a bright dot of light',\n",
              " 'he ended up running to the bars which fortified the windows of the first floor',\n",
              " 'i know why i want to get back to my flock he thought',\n",
              " 'many notable problems and study composers  are also international judges including gendrik kasparian  ss',\n",
              " 'many of the supporting characters present an unflattering portrayal of colonial life in virginia',\n",
              " 'you should see the other guin specifili how go that fighting his',\n",
              " 'he is of african-american egitary descent',\n",
              " \"that's not carson spinks\",\n",
              " 'some rules of thumb are also accepted in the codes',\n",
              " 'lorrange is listed as a swiss heritage site of national significance',\n",
              " 'i have never in life head at tennis ball',\n",
              " 'the warehouses of megapolis ucraine in six cities were blocked by activists',\n",
              " 'he is the first known and undisputed member of the geminids',\n",
              " 'lion rock is located northwest of wong taising',\n",
              " 'at dusk the greek western flank was broker',\n",
              " 'her father is sure to inherit',\n",
              " 'we should not take for granted how fortunate we have been',\n",
              " 'topical and up to the minute e',\n",
              " 'the farmer works the soil and produces grain',\n",
              " \"since i've gotten a dog the regular visits of the fox have stopped\",\n",
              " 'his speech ended with a standing ovation',\n",
              " 'ahd',\n",
              " 'the reserve is in prestine condition with almost no human habitation',\n",
              " 'the wind told me that you know about love the boy said to the sun',\n",
              " 'jales began playing gaz trompetes but avan charlish richard to blues guitar',\n",
              " 'this is the context in which the film begins',\n",
              " 'these qualities make her beloved by her home ton',\n",
              " 'the little pink ones are so cute',\n",
              " 'the students colored with their craons',\n",
              " 'it seemed to him that it fell to earth about one hundred miles east here',\n",
              " 'as such it is base uniform but with irregular base polygons']"
            ]
          },
          "execution_count": 54,
          "metadata": {},
          "output_type": "execute_result"
        }
      ],
      "source": [
        "predicted_sentences"
      ]
    },
    {
      "cell_type": "code",
      "execution_count": 53,
      "metadata": {},
      "outputs": [
        {
          "name": "stdout",
          "output_type": "stream",
          "text": [
            "----------------------------------------------------------------------------------------------------\n",
            "Reference: Joe Keaton disapproved of films, and Buster also had reservations about the medium.\n",
            "Prediction: joe keatson disapproved of films and buster also had reservations about the medium\n",
            "----------------------------------------------------------------------------------------------------\n",
            "Reference: She'll be all right.\n",
            "Prediction: she'll be all right\n",
            "----------------------------------------------------------------------------------------------------\n",
            "Reference: six\n",
            "Prediction: six\n",
            "----------------------------------------------------------------------------------------------------\n",
            "Reference: All's well that ends well.\n",
            "Prediction: all as well that ends well\n",
            "----------------------------------------------------------------------------------------------------\n",
            "Reference: It is a busy market town that serves a large surrounding area.\n",
            "Prediction: it is a busy market town that serves a large surrounded area\n",
            "----------------------------------------------------------------------------------------------------\n",
            "Reference: The team had Olympic Champion Carolina Marin in their squad for the season.\n",
            "Prediction: the team at olympic chapion carolina marine in is quiet forty season\n",
            "----------------------------------------------------------------------------------------------------\n",
            "Reference: Do you mean it?\n",
            "Prediction: do you mean it\n",
            "----------------------------------------------------------------------------------------------------\n",
            "Reference: The new patch is less invasive than the old one, but still causes regressions.\n",
            "Prediction: the new patch is less invasive than the old one but still causes regression\n",
            "----------------------------------------------------------------------------------------------------\n",
            "Reference: How is Mozilla going to handle ambiguities like queue and cue?\n",
            "Prediction: how is moslillar going to handle andbewooth his like q and q\n",
            "----------------------------------------------------------------------------------------------------\n",
            "Reference: I guess you must think I'm kinda batty.\n",
            "Prediction: christian ws sitin pam on te batty\n",
            "----------------------------------------------------------------------------------------------------\n",
            "Reference: No one near the remote machine you could ring?\n",
            "Prediction: no one near the remote machine you could ring\n",
            "----------------------------------------------------------------------------------------------------\n",
            "Reference: Sauce for the goose is sauce for the gander.\n",
            "Prediction: sauce for the guice is sauce for the gonder\n",
            "----------------------------------------------------------------------------------------------------\n",
            "Reference: Groves started writing songs when she was four years old.\n",
            "Prediction: grafs started writing songs when she was four years old\n",
            "----------------------------------------------------------------------------------------------------\n",
            "Reference: His uncle Mike Shula was the former head coach at Alabama.\n",
            "Prediction: his uncle mike schula was the former edge coach at alabama\n",
            "----------------------------------------------------------------------------------------------------\n",
            "Reference: The response was that the Board did not appoint individual officers.\n",
            "Prediction: the response was that the ball did not appoint individual officers\n",
            "----------------------------------------------------------------------------------------------------\n",
            "Reference: The long-lived bridge still stands today.\n",
            "Prediction: the long-lived bleached still stands today\n",
            "----------------------------------------------------------------------------------------------------\n",
            "Reference: There was nothing to hold him back except himself.\n",
            "Prediction: there was nothing to hold him back except himself\n",
            "----------------------------------------------------------------------------------------------------\n",
            "Reference: The meat processing and construction industries would be allowed to operate with reduced personnel.\n",
            "Prediction: the mead processing and construction industries would be allowed to operate with readios personel\n",
            "----------------------------------------------------------------------------------------------------\n",
            "Reference: Coles Branch is underlaid by the Deep River Basin.\n",
            "Prediction: cole's branch is underlayd by the deep river basin\n",
            "----------------------------------------------------------------------------------------------------\n",
            "Reference: We spoke often.\n",
            "Prediction: we spoke off on\n",
            "----------------------------------------------------------------------------------------------------\n",
            "Reference: He was Protestant.\n",
            "Prediction: he was protestant\n",
            "----------------------------------------------------------------------------------------------------\n",
            "Reference: The electrician looked puzzled.\n",
            "Prediction: they decretion youp pozzls\n",
            "----------------------------------------------------------------------------------------------------\n",
            "Reference: The ladder on the fire truck was not long enough.\n",
            "Prediction: a leader on the fighter truck was not long enough\n",
            "----------------------------------------------------------------------------------------------------\n",
            "Reference: I will tell her what we decided.\n",
            "Prediction: i will tell her what we decided\n",
            "----------------------------------------------------------------------------------------------------\n",
            "Reference: These and the other youth leaders are advised and supported by the adult leaders.\n",
            "Prediction: these and the other leaders are advised and supported by the adult leaders\n",
            "----------------------------------------------------------------------------------------------------\n",
            "Reference: Enoxaparin belongs to the class of drugs known as low molecular weight heparins.\n",
            "Prediction: loimoni a oxparian belongs to a class of truks monars bonalgiagat apariska\n",
            "----------------------------------------------------------------------------------------------------\n",
            "Reference: Good things come in small packages.\n",
            "Prediction: good things come in small paggages\n",
            "----------------------------------------------------------------------------------------------------\n",
            "Reference: Boles is studying chemical engineering at the University College Dublin.\n",
            "Prediction: bowles is studying chemical engineering at the university college dublin\n",
            "----------------------------------------------------------------------------------------------------\n",
            "Reference: It is a member theater of the Union of the Theatres of Europe.\n",
            "Prediction: it is a member theatre of the union of the theatres of europe\n",
            "----------------------------------------------------------------------------------------------------\n",
            "Reference: All three battalions were equipped with captured French tanks.\n",
            "Prediction: all three battalions were equipped with captured frenge tanks\n",
            "----------------------------------------------------------------------------------------------------\n",
            "Reference: YOU WANNA TAKE THIS OUTSIDE?\n",
            "Prediction: you want to take this outside\n",
            "----------------------------------------------------------------------------------------------------\n",
            "Reference: She joined the \"K\" patrol line and patrolled off Unalaska Island.\n",
            "Prediction: she joined the k patrol line and patrolled off inalaska island\n",
            "----------------------------------------------------------------------------------------------------\n",
            "Reference: The immersion in hot water also kills the silkworm pupa.\n",
            "Prediction: the imergion in hotwater also kills the sick one upah\n",
            "----------------------------------------------------------------------------------------------------\n",
            "Reference: She married her business partner, Steve Lane.\n",
            "Prediction: she married her benness partner stephen lee\n",
            "----------------------------------------------------------------------------------------------------\n",
            "Reference: The attack on our root server overstrained our senior administrator.\n",
            "Prediction: the attak on your road serve war strained our senior administrator\n",
            "----------------------------------------------------------------------------------------------------\n",
            "Reference: Do you want me?\n",
            "Prediction: do you want me\n",
            "----------------------------------------------------------------------------------------------------\n",
            "Reference: That would be funny if he did.\n",
            "Prediction: that would be funny if he did\n",
            "----------------------------------------------------------------------------------------------------\n",
            "Reference: Eight National Paralympic Committee quotas and three individual athlete quotas were secured.\n",
            "Prediction: eight national paralympic committee kotas and three individual athlete kotas were secured\n",
            "----------------------------------------------------------------------------------------------------\n",
            "Reference: Although she had flowers and applause, Mavis said she was not content.\n",
            "Prediction: although she had flowers and applause maybe said she was not content\n",
            "----------------------------------------------------------------------------------------------------\n",
            "Reference: Add the column and put the sum here.\n",
            "Prediction: add the column and put the sum here\n",
            "----------------------------------------------------------------------------------------------------\n",
            "Reference: They perfectly illuminate the flowerbeds of gardens.\n",
            "Prediction: they perfectly illuminate the flower beds of t gardens\n",
            "----------------------------------------------------------------------------------------------------\n",
            "Reference: A mansion was usually set on a one square.\n",
            "Prediction: a mantion was usually hit on a one square\n",
            "----------------------------------------------------------------------------------------------------\n",
            "Reference: Alston commented that he felt the cartoonist \"might have had some racial intent\".\n",
            "Prediction: arlstone commented that he felt the cartoonist might have had some racial intent\n",
            "----------------------------------------------------------------------------------------------------\n",
            "Reference: He was the chief clerk of the Chicago and Northwestern Railroad.\n",
            "Prediction: he is the chief clerk of the chipalo and northwestern railroad\n",
            "----------------------------------------------------------------------------------------------------\n",
            "Reference: Doing a handstand needs a lot of practice to learn.\n",
            "Prediction: doing a handstan needs a lot of practice to learn\n",
            "----------------------------------------------------------------------------------------------------\n",
            "Reference: Man in red tshirt and baseball cap viewed from above he is has a pile of posters\n",
            "Prediction: man in red t-shirt and baseball cap views from above he is as a pile of postures\n",
            "----------------------------------------------------------------------------------------------------\n",
            "Reference: The two films were then released within one day of each other.\n",
            "Prediction: the two films were then released within one day each other\n",
            "----------------------------------------------------------------------------------------------------\n",
            "Reference: ‘What did he say his name was?’ asked the captain.\n",
            "Prediction: what did he say his name wos asked the captain\n",
            "----------------------------------------------------------------------------------------------------\n",
            "Reference: He has German ancestry from his paternal side.\n",
            "Prediction: he has german ancestry from his paternal sight\n",
            "----------------------------------------------------------------------------------------------------\n",
            "Reference: yes\n",
            "Prediction: yes\n",
            "----------------------------------------------------------------------------------------------------\n",
            "Reference: Since their inception, Harris has been the band's principal composer and lyricist.\n",
            "Prediction: many mean the kapalloturman is a gereqyo bashanzachabilirsens\n",
            "----------------------------------------------------------------------------------------------------\n",
            "Reference: After experiencing a mind-blowing sensual orgy, Mike was sure he had taken an overdose.\n",
            "Prediction: after experiencing a mind-blowing sensual orgy mikes was sure he had taken ot over those\n",
            "----------------------------------------------------------------------------------------------------\n",
            "Reference: Religious festivals include the Muslim Eids and the Christian Christmas and Easter.\n",
            "Prediction: religious festivals include the muslim eids and the christian christmas and easter\n",
            "----------------------------------------------------------------------------------------------------\n",
            "Reference: What do you advise, sir?\n",
            "Prediction: what are you advise sir\n",
            "----------------------------------------------------------------------------------------------------\n",
            "Reference: Charles looked on, angry that there was nothing he could do.\n",
            "Prediction: charles looked on angry that there was nothing he could do\n",
            "----------------------------------------------------------------------------------------------------\n",
            "Reference: She had made personal exhibitions and participated in group exhibitions as well.\n",
            "Prediction: she had more personal exhibitions and participated in group exhibitions as well\n",
            "----------------------------------------------------------------------------------------------------\n",
            "Reference: The manifesto made apparent the philosophical changes that Abbas had undergone.\n",
            "Prediction: the mony feasts to made apparent the philosophical changes that allus has undergone\n",
            "----------------------------------------------------------------------------------------------------\n",
            "Reference: She was also appointed the Eleanor Easley Distinguished Professor of Medicine.\n",
            "Prediction: she was also appointed the elenor easiley distinguished professor of medicine\n",
            "----------------------------------------------------------------------------------------------------\n",
            "Reference: Karina Smirnoff of \"Dancing With The Stars\" hosted the following month.\n",
            "Prediction: carinas wurenoug of dancing with the stars hosted the following month\n",
            "----------------------------------------------------------------------------------------------------\n",
            "Reference: It is inhibited by the pneumotaxic centre.\n",
            "Prediction: it is inhibited by the neumotoxic center\n",
            "----------------------------------------------------------------------------------------------------\n",
            "Reference: His wide grin earned many friends.\n",
            "Prediction: his white green and many friends\n",
            "----------------------------------------------------------------------------------------------------\n",
            "Reference: An important person in the life of Emile Claus was the painter Jenny Montigny.\n",
            "Prediction: an important verson in the life of gemir cross was the painter jenn montegni\n",
            "----------------------------------------------------------------------------------------------------\n",
            "Reference: In the United States, Federal Vehicle fleets refers to the federal government's vehicles.\n",
            "Prediction: in the united states federal vehicle fleets refer to the federal government's vehicles\n",
            "----------------------------------------------------------------------------------------------------\n",
            "Reference: It was won by a woman from Vara, Sweden.\n",
            "Prediction: it was on by a woman frombara swated bupy\n",
            "----------------------------------------------------------------------------------------------------\n",
            "Reference: The prints are then delivered to the customer.\n",
            "Prediction: te pring are then delivered to the constals\n",
            "----------------------------------------------------------------------------------------------------\n",
            "Reference: In spite of this, I still believed that there were men in Mars.\n",
            "Prediction: in spite of this i still believe that there were men ion marce\n",
            "----------------------------------------------------------------------------------------------------\n",
            "Reference: The land was ruined, and I had to find some other way to earn a living.\n",
            "Prediction: teland swilled bu had to fend sima the later in ravi\n",
            "----------------------------------------------------------------------------------------------------\n",
            "Reference: Footprints of mud and clay were on the floor.\n",
            "Prediction: footprints of mud and clay were on the floor\n",
            "----------------------------------------------------------------------------------------------------\n",
            "Reference: Other well-known relatives in Handsome Lake's family included Governor Blacksnake, Red Jacket and Half-Town.\n",
            "Prediction: other wearming weluses ainhungsan los comedy in filbo basma blat milk wom prakes and harxhantan\n",
            "----------------------------------------------------------------------------------------------------\n",
            "Reference: I pointed out Mars, a bright dot of light.\n",
            "Prediction: i pointed out mars a bright dot of light\n",
            "----------------------------------------------------------------------------------------------------\n",
            "Reference: He ended up running to the bars which fortified the windows of the first floor.\n",
            "Prediction: he ended up running to the bars which fortified the windows of the first floor\n",
            "----------------------------------------------------------------------------------------------------\n",
            "Reference: I know why I want to get back to my flock, he thought.\n",
            "Prediction: i know why i want to get back to my flock he thought\n",
            "----------------------------------------------------------------------------------------------------\n",
            "Reference: Many notable problem and study composers are also International Judges, including Genrikh Kasparyan.\n",
            "Prediction: many notable problems and study composers  are also international judges including gendrik kasparian  ss\n",
            "----------------------------------------------------------------------------------------------------\n",
            "Reference: Many of the supporting characters present an unflattering portrayal of colonial life in Virginia.\n",
            "Prediction: many of the supporting characters present an unflattering portrayal of colonial life in virginia\n",
            "----------------------------------------------------------------------------------------------------\n",
            "Reference: You should see the other guy, specifically, how good at fighting he is.\n",
            "Prediction: you should see the other guin specifili how go that fighting his\n",
            "----------------------------------------------------------------------------------------------------\n",
            "Reference: He is of African-American and Italian descent.\n",
            "Prediction: he is of african-american egitary descent\n",
            "----------------------------------------------------------------------------------------------------\n",
            "Reference: That's not Carson Sphinx.\n",
            "Prediction: that's not carson spinks\n",
            "----------------------------------------------------------------------------------------------------\n",
            "Reference: Some rules of thumb are also accepted in the codes.\n",
            "Prediction: some rules of thumb are also accepted in the codes\n",
            "----------------------------------------------------------------------------------------------------\n",
            "Reference: Lorenz is listed as a Swiss heritage site of national significance.\n",
            "Prediction: lorrange is listed as a swiss heritage site of national significance\n",
            "----------------------------------------------------------------------------------------------------\n",
            "Reference: I have never in life hit a tennis ball.\n",
            "Prediction: i have never in life head at tennis ball\n",
            "----------------------------------------------------------------------------------------------------\n",
            "Reference: The warehouses of Megapolis Ukraine in six cities were blocked by activists.\n",
            "Prediction: the warehouses of megapolis ucraine in six cities were blocked by activists\n",
            "----------------------------------------------------------------------------------------------------\n",
            "Reference: He is the first known and undisputed member of the Gediminids.\n",
            "Prediction: he is the first known and undisputed member of the geminids\n",
            "----------------------------------------------------------------------------------------------------\n",
            "Reference: Lion Rock is located north west of Wong Tai Sin.\n",
            "Prediction: lion rock is located northwest of wong taising\n",
            "----------------------------------------------------------------------------------------------------\n",
            "Reference: At dusk the Greek western flank was broken.\n",
            "Prediction: at dusk the greek western flank was broker\n",
            "----------------------------------------------------------------------------------------------------\n",
            "Reference: Her father is sure to inherit.\n",
            "Prediction: her father is sure to inherit\n",
            "----------------------------------------------------------------------------------------------------\n",
            "Reference: We should not take for granted how fortunate we have been.\n",
            "Prediction: we should not take for granted how fortunate we have been\n",
            "----------------------------------------------------------------------------------------------------\n",
            "Reference: Topical and up-to-the-minute, E!\n",
            "Prediction: topical and up to the minute e\n",
            "----------------------------------------------------------------------------------------------------\n",
            "Reference: The farmer works the soil and produces grain.\n",
            "Prediction: the farmer works the soil and produces grain\n",
            "----------------------------------------------------------------------------------------------------\n",
            "Reference: Since I've gotten a dog, the regular visits of the fox have stopped.\n",
            "Prediction: since i've gotten a dog the regular visits of the fox have stopped\n",
            "----------------------------------------------------------------------------------------------------\n",
            "Reference: His speech ended with a standing ovation.\n",
            "Prediction: his speech ended with a standing ovation\n",
            "----------------------------------------------------------------------------------------------------\n",
            "Reference: eight\n",
            "Prediction: ahd\n",
            "----------------------------------------------------------------------------------------------------\n",
            "Reference: The reserve is in pristine condition with almost no human habitation.\n",
            "Prediction: the reserve is in prestine condition with almost no human habitation\n",
            "----------------------------------------------------------------------------------------------------\n",
            "Reference: \"The wind told me that you know about love\" the boy said to the sun.\n",
            "Prediction: the wind told me that you know about love the boy said to the sun\n",
            "----------------------------------------------------------------------------------------------------\n",
            "Reference: Geils began playing jazz trumpet but eventually switched to blues guitar.\n",
            "Prediction: jales began playing gaz trompetes but avan charlish richard to blues guitar\n",
            "----------------------------------------------------------------------------------------------------\n",
            "Reference: This is the context in which the film begins.\n",
            "Prediction: this is the context in which the film begins\n",
            "----------------------------------------------------------------------------------------------------\n",
            "Reference: These qualities make her beloved by her hometown.\n",
            "Prediction: these qualities make her beloved by her home ton\n",
            "----------------------------------------------------------------------------------------------------\n",
            "Reference: The little pink ones are so cute.\n",
            "Prediction: the little pink ones are so cute\n",
            "----------------------------------------------------------------------------------------------------\n",
            "Reference: The students colored with their crayons.\n",
            "Prediction: the students colored with their craons\n",
            "----------------------------------------------------------------------------------------------------\n",
            "Reference: It seemed to him that it fell to earth about one hundred miles east of here.\n",
            "Prediction: it seemed to him that it fell to earth about one hundred miles east here\n",
            "----------------------------------------------------------------------------------------------------\n",
            "Reference: As such it is face uniform but with irregular face polygons.\n",
            "Prediction: as such it is base uniform but with irregular base polygons\n"
          ]
        }
      ],
      "source": [
        "for i, predicted_sentence in enumerate(predicted_sentences):\n",
        "    print(\"-\" * 100)\n",
        "    print(\"Reference:\", test_dataset[i][\"sentence\"])\n",
        "    print(\"Prediction:\", predicted_sentence)"
      ]
    },
    {
      "cell_type": "markdown",
      "metadata": {
        "id": "ri5y5N_HMANq"
      },
      "source": [
        "Many ASR datasets only provide the target text, `'sentence'` for each audio array `'audio'` and file `'path'`. Common Voice actually provides much more information about each audio file, such as the `'accent'`, etc. Keeping the notebook as general as possible, we only consider the transcribed text for fine-tuning.\n",
        "\n"
      ]
    },
    {
      "cell_type": "code",
      "execution_count": 55,
      "metadata": {
        "id": "kbyq6lDgQc2a"
      },
      "outputs": [],
      "source": [
        "train_dataset = train_dataset.remove_columns([\"accent\", \"age\", \"client_id\", \"down_votes\", \"gender\", \"locale\", \"segment\", \"up_votes\"])\n",
        "test_dataset = test_dataset.remove_columns([\"accent\", \"age\", \"client_id\", \"down_votes\", \"gender\", \"locale\", \"segment\", \"up_votes\"])"
      ]
    },
    {
      "cell_type": "markdown",
      "metadata": {
        "id": "Go9Hq4e4NDT9"
      },
      "source": [
        "Let's write a short function to display some random samples of the dataset and run it a couple of times to get a feeling for the transcriptions."
      ]
    },
    {
      "cell_type": "code",
      "execution_count": 56,
      "metadata": {
        "id": "72737oog2F6U"
      },
      "outputs": [],
      "source": [
        "from datasets import ClassLabel\n",
        "import random\n",
        "import pandas as pd\n",
        "from IPython.display import display, HTML\n",
        "\n",
        "def show_random_elements(dataset, num_examples=10):\n",
        "    assert num_examples <= len(dataset), \"Can't pick more elements than there are in the dataset.\"\n",
        "    picks = []\n",
        "    for _ in range(num_examples):\n",
        "        pick = random.randint(0, len(dataset)-1)\n",
        "        while pick in picks:\n",
        "            pick = random.randint(0, len(dataset)-1)\n",
        "        picks.append(pick)\n",
        "\n",
        "    df = pd.DataFrame(dataset[picks])\n",
        "    display(HTML(df.to_html()))"
      ]
    },
    {
      "cell_type": "code",
      "execution_count": 57,
      "metadata": {
        "colab": {
          "base_uri": "https://localhost:8080/",
          "height": 359
        },
        "id": "K_JUmf3G3b9S",
        "outputId": "e3a0d9c8-4b68-4255-fd29-8dba65632a24"
      },
      "outputs": [
        {
          "data": {
            "text/html": [
              "<table border=\"1\" class=\"dataframe\">\n",
              "  <thead>\n",
              "    <tr style=\"text-align: right;\">\n",
              "      <th></th>\n",
              "      <th>sentence</th>\n",
              "    </tr>\n",
              "  </thead>\n",
              "  <tbody>\n",
              "    <tr>\n",
              "      <th>0</th>\n",
              "      <td>The genes for the shortened tail may be dominant or recessive.</td>\n",
              "    </tr>\n",
              "    <tr>\n",
              "      <th>1</th>\n",
              "      <td>Crosskill planned several additional subdivisions, some of which were wildly optimistic.</td>\n",
              "    </tr>\n",
              "    <tr>\n",
              "      <th>2</th>\n",
              "      <td>A standard example of absurdity is found in dealing with arithmetic.</td>\n",
              "    </tr>\n",
              "    <tr>\n",
              "      <th>3</th>\n",
              "      <td>It was really cheap! Only a couple of quid!</td>\n",
              "    </tr>\n",
              "    <tr>\n",
              "      <th>4</th>\n",
              "      <td>A contingent of the United States Marine Corps was responsible for ground defense.</td>\n",
              "    </tr>\n",
              "    <tr>\n",
              "      <th>5</th>\n",
              "      <td>Paterson ascended to the governor's office during the busiest legislative period of the year.</td>\n",
              "    </tr>\n",
              "    <tr>\n",
              "      <th>6</th>\n",
              "      <td>His petition was denied.</td>\n",
              "    </tr>\n",
              "    <tr>\n",
              "      <th>7</th>\n",
              "      <td>See your email client to check your emails have been sent correctly</td>\n",
              "    </tr>\n",
              "    <tr>\n",
              "      <th>8</th>\n",
              "      <td>Ambulance service is covered by County of Simcoe Paramedic Services Angus Paramedic Station.</td>\n",
              "    </tr>\n",
              "    <tr>\n",
              "      <th>9</th>\n",
              "      <td>He was a member of the commission for the trial of Lady Jane Grey.</td>\n",
              "    </tr>\n",
              "  </tbody>\n",
              "</table>"
            ],
            "text/plain": [
              "<IPython.core.display.HTML object>"
            ]
          },
          "metadata": {},
          "output_type": "display_data"
        }
      ],
      "source": [
        "show_random_elements(train_dataset.remove_columns([\"path\", \"audio\"]), num_examples=10)"
      ]
    },
    {
      "cell_type": "markdown",
      "metadata": {
        "id": "fowcOllGNNju"
      },
      "source": [
        "Alright! The transcriptions look fairly clean. Having translated the transcribed sentences, it seems that the language corresponds more to written-out text than noisy dialogue. This makes sense considering that [Common Voice](https://huggingface.co/datasets/common_voice) is a crowd-sourced read speech corpus."
      ]
    },
    {
      "cell_type": "markdown",
      "metadata": {
        "id": "vq7OR50LN49m"
      },
      "source": [
        "We can see that the transcriptions contain some special characters, such as `,.?!;:`. Without a language model, it is much harder to classify speech chunks to such special characters because they don't really correspond to a characteristic sound unit. *E.g.*, the letter `\"s\"` has a more or less clear sound, whereas the special character `\".\"` does not.\n",
        "Also in order to understand the meaning of a speech signal, it is usually not necessary to include special characters in the transcription.\n",
        "\n",
        "Let's simply remove all characters that don't contribute to the meaning of a word and cannot really be represented by an acoustic sound and normalize the text."
      ]
    },
    {
      "cell_type": "code",
      "execution_count": 58,
      "metadata": {
        "id": "svKzVJ_hQGK6"
      },
      "outputs": [],
      "source": [
        "import re\n",
        "chars_to_remove_regex = '[\\,\\?\\.\\!\\-\\;\\:\\\"\\“\\%\\‘\\”\\�\\']'\n",
        "\n",
        "def remove_special_characters(batch):\n",
        "    batch[\"sentence\"] = re.sub(chars_to_remove_regex, '', batch[\"sentence\"]).lower()\n",
        "    return batch"
      ]
    },
    {
      "cell_type": "code",
      "execution_count": 59,
      "metadata": {
        "colab": {
          "base_uri": "https://localhost:8080/"
        },
        "id": "XIHocAuTQbBR",
        "outputId": "32b09453-6f60-42c4-e417-4e87edad58dd"
      },
      "outputs": [
        {
          "data": {
            "application/vnd.jupyter.widget-view+json": {
              "model_id": "f2abfe9d8a3841048563ef8549dc081c",
              "version_major": 2,
              "version_minor": 0
            },
            "text/plain": [
              "Map:   0%|          | 0/1000 [00:00<?, ? examples/s]"
            ]
          },
          "metadata": {},
          "output_type": "display_data"
        },
        {
          "data": {
            "application/vnd.jupyter.widget-view+json": {
              "model_id": "9260051c5d5640689db24e70324e0cc9",
              "version_major": 2,
              "version_minor": 0
            },
            "text/plain": [
              "Map:   0%|          | 0/100 [00:00<?, ? examples/s]"
            ]
          },
          "metadata": {},
          "output_type": "display_data"
        }
      ],
      "source": [
        "train_dataset = train_dataset.map(remove_special_characters)\n",
        "test_dataset = test_dataset.map(remove_special_characters)"
      ]
    },
    {
      "cell_type": "markdown",
      "metadata": {
        "id": "TxnVS9gIhIma"
      },
      "source": [
        "Let's look at the processed text labels again."
      ]
    },
    {
      "cell_type": "code",
      "execution_count": 60,
      "metadata": {
        "colab": {
          "base_uri": "https://localhost:8080/",
          "height": 359
        },
        "id": "RBDRAAYxRE6n",
        "outputId": "5bbca4d5-57b3-48ca-e591-b5feeab0db3d"
      },
      "outputs": [
        {
          "data": {
            "text/html": [
              "<table border=\"1\" class=\"dataframe\">\n",
              "  <thead>\n",
              "    <tr style=\"text-align: right;\">\n",
              "      <th></th>\n",
              "      <th>sentence</th>\n",
              "    </tr>\n",
              "  </thead>\n",
              "  <tbody>\n",
              "    <tr>\n",
              "      <th>0</th>\n",
              "      <td>oh where are you going</td>\n",
              "    </tr>\n",
              "    <tr>\n",
              "      <th>1</th>\n",
              "      <td>attention tends to be either visual or auditory</td>\n",
              "    </tr>\n",
              "    <tr>\n",
              "      <th>2</th>\n",
              "      <td>soon after devlin joined ray lewington and watford</td>\n",
              "    </tr>\n",
              "    <tr>\n",
              "      <th>3</th>\n",
              "      <td>mount akagi is mentioned in the street racing manga and anime series initial d</td>\n",
              "    </tr>\n",
              "    <tr>\n",
              "      <th>4</th>\n",
              "      <td>his catholic perspective was integral to his philosophy</td>\n",
              "    </tr>\n",
              "    <tr>\n",
              "      <th>5</th>\n",
              "      <td>there are very few parties that operate on a national level in belgium</td>\n",
              "    </tr>\n",
              "    <tr>\n",
              "      <th>6</th>\n",
              "      <td>the iberia parish school system operates the public schools in the area</td>\n",
              "    </tr>\n",
              "    <tr>\n",
              "      <th>7</th>\n",
              "      <td>tarkovsky is mainly known as a film director</td>\n",
              "    </tr>\n",
              "    <tr>\n",
              "      <th>8</th>\n",
              "      <td>he is most known for his hoop dance the hoop of life</td>\n",
              "    </tr>\n",
              "    <tr>\n",
              "      <th>9</th>\n",
              "      <td>willison has two side platforms</td>\n",
              "    </tr>\n",
              "  </tbody>\n",
              "</table>"
            ],
            "text/plain": [
              "<IPython.core.display.HTML object>"
            ]
          },
          "metadata": {},
          "output_type": "display_data"
        }
      ],
      "source": [
        "show_random_elements(train_dataset.remove_columns([\"path\",\"audio\"]))"
      ]
    },
    {
      "cell_type": "markdown",
      "metadata": {
        "id": "jwfaptH5RJwA"
      },
      "source": [
        "Good! This looks better. We have removed most special characters from transcriptions and normalized them to lower-case only.\n",
        "\n",
        "Before finalizing the pre-processing, it is always advantageous to consult a native speaker of the target language to see whether the text can be further simplified.\n",
        "For this blog post, [Merve](https://twitter.com/mervenoyann) was kind enough to take a quick look and noted that \"hatted\" characters - like `â` - aren't really used anymore in Turkish and can be replaced by their \"un-hatted\" equivalent, *e.g.* `a`.\n",
        "\n",
        "This means that we should replace a sentence like `\"yargı sistemi hâlâ sağlıksız\"` to `\"yargı sistemi hala sağlıksız\"`.\n",
        "\n",
        "Let's write another short mapping function to further simplify the text labels. Remember - the simler the text labels, the easier it is for the model to learn to predict those labels.\n",
        "\n"
      ]
    },
    {
      "cell_type": "code",
      "execution_count": 61,
      "metadata": {
        "id": "aZcrz6z7lgGm"
      },
      "outputs": [],
      "source": [
        "def replace_hatted_characters(batch):\n",
        "    batch[\"sentence\"] = re.sub('[â]', 'a', batch[\"sentence\"])\n",
        "    batch[\"sentence\"] = re.sub('[î]', 'i', batch[\"sentence\"])\n",
        "    batch[\"sentence\"] = re.sub('[ô]', 'o', batch[\"sentence\"])\n",
        "    batch[\"sentence\"] = re.sub('[û]', 'u', batch[\"sentence\"])\n",
        "    return batch"
      ]
    },
    {
      "cell_type": "code",
      "execution_count": 62,
      "metadata": {
        "colab": {
          "base_uri": "https://localhost:8080/"
        },
        "id": "ieGhhND5mSwI",
        "outputId": "2f5cee33-a98a-45ae-a8b4-0f10d97f4d15"
      },
      "outputs": [
        {
          "data": {
            "application/vnd.jupyter.widget-view+json": {
              "model_id": "bfc71a75415b4a72a103fe5f6fc6b603",
              "version_major": 2,
              "version_minor": 0
            },
            "text/plain": [
              "Map:   0%|          | 0/1000 [00:00<?, ? examples/s]"
            ]
          },
          "metadata": {},
          "output_type": "display_data"
        },
        {
          "data": {
            "application/vnd.jupyter.widget-view+json": {
              "model_id": "c779e69af1934f9ea2b8f375e5517a97",
              "version_major": 2,
              "version_minor": 0
            },
            "text/plain": [
              "Map:   0%|          | 0/100 [00:00<?, ? examples/s]"
            ]
          },
          "metadata": {},
          "output_type": "display_data"
        }
      ],
      "source": [
        "train_dataset = train_dataset.map(replace_hatted_characters)\n",
        "test_dataset = test_dataset.map(replace_hatted_characters)"
      ]
    },
    {
      "cell_type": "markdown",
      "metadata": {
        "id": "3ORHDb2Th2TW"
      },
      "source": [
        "In CTC, it is common to classify speech chunks into letters, so we will do the same here.\n",
        "Let's extract all distinct letters of the training and test data and build our vocabulary from this set of letters.\n",
        "\n",
        "We write a mapping function that concatenates all transcriptions into one long transcription and then transforms the string into a set of chars.\n",
        "It is important to pass the argument `batched=True` to the `map(...)` function so that the mapping function has access to all transcriptions at once."
      ]
    },
    {
      "cell_type": "code",
      "execution_count": 63,
      "metadata": {
        "id": "LwCshNbbeRZR"
      },
      "outputs": [],
      "source": [
        "def extract_all_chars(batch):\n",
        "  all_text = \" \".join(batch[\"sentence\"])\n",
        "  vocab = list(set(all_text))\n",
        "  return {\"vocab\": [vocab], \"all_text\": [all_text]}"
      ]
    },
    {
      "cell_type": "code",
      "execution_count": 64,
      "metadata": {
        "colab": {
          "base_uri": "https://localhost:8080/",
          "height": 81,
          "referenced_widgets": [
            "e78238c96d6a4152bf40f5d7a81e5495",
            "75b26f4a95d24e9d8939d1f7b376eb51",
            "f58af0561fc242238cfd0163f0ad5e5f",
            "a1419cc920324f62be58d6e48a82e275",
            "6ec3c80319fb45f3b6f7715049c9bce0",
            "02519344818c40d0b961c5ea210a5c62",
            "e575e46791b24f449b8afcb773e46dcc",
            "5cff6b2dd6944c59b8c2f205db5f49bf",
            "5ba2a38c71e64253a4fd39cf7d3b3326",
            "bc11f833cc9c441b9a58d69ea792fa9c",
            "4f81e460906a428f9f74a0aa469ba63f",
            "093927de0d86406290365759e88fd4e7",
            "f6e777f3a1684a7da3efc63281553b5e",
            "609781a3f55d4d3dbf0b3640972755fa",
            "8783792878a64402981a416989924348",
            "92e295e353624110880cff6835b9e119",
            "db7a9c27eabb4ba391bfb9d819d7a36e",
            "fd2ba2bf4b2946078a0761b773626b64",
            "a5777207c788498fb4ac4900af91d7cf",
            "890ff54dc35e460b9108e2690966fafe",
            "cc70741031664fa89bfe8e8e672c5b2b",
            "46c8681bd36f419495d33b06c96311ed"
          ]
        },
        "id": "_m6uUjjcfbjH",
        "outputId": "67fa96dd-2df9-4393-f551-4d599c42efff"
      },
      "outputs": [
        {
          "data": {
            "application/vnd.jupyter.widget-view+json": {
              "model_id": "ecc89117cbd44307917a1794200fc55a",
              "version_major": 2,
              "version_minor": 0
            },
            "text/plain": [
              "Map:   0%|          | 0/1000 [00:00<?, ? examples/s]"
            ]
          },
          "metadata": {},
          "output_type": "display_data"
        },
        {
          "data": {
            "application/vnd.jupyter.widget-view+json": {
              "model_id": "ac58a5f49113452d964ba14862bbe723",
              "version_major": 2,
              "version_minor": 0
            },
            "text/plain": [
              "Map:   0%|          | 0/100 [00:00<?, ? examples/s]"
            ]
          },
          "metadata": {},
          "output_type": "display_data"
        }
      ],
      "source": [
        "vocab_train = train_dataset.map(extract_all_chars, batched=True, batch_size=-1, keep_in_memory=True, remove_columns=train_dataset.column_names)\n",
        "vocab_test = test_dataset.map(extract_all_chars, batched=True, batch_size=-1, keep_in_memory=True, remove_columns=test_dataset.column_names)"
      ]
    },
    {
      "cell_type": "markdown",
      "metadata": {
        "id": "7oVgE8RZSJNP"
      },
      "source": [
        "Now, we create the union of all distinct letters in the training dataset and test dataset and convert the resulting list into an enumerated dictionary."
      ]
    },
    {
      "cell_type": "code",
      "execution_count": 65,
      "metadata": {
        "id": "aQfneNsmlJI0"
      },
      "outputs": [],
      "source": [
        "vocab_list = list(set(vocab_train[\"vocab\"][0]) | set(vocab_test[\"vocab\"][0]))"
      ]
    },
    {
      "cell_type": "code",
      "execution_count": 66,
      "metadata": {
        "colab": {
          "base_uri": "https://localhost:8080/"
        },
        "id": "_0kRndSvqaKk",
        "outputId": "63440dfc-3f58-42c1-db78-3369f96f103f"
      },
      "outputs": [
        {
          "data": {
            "text/plain": [
              "{' ': 0,\n",
              " 'a': 1,\n",
              " 'b': 2,\n",
              " 'c': 3,\n",
              " 'd': 4,\n",
              " 'e': 5,\n",
              " 'f': 6,\n",
              " 'g': 7,\n",
              " 'h': 8,\n",
              " 'i': 9,\n",
              " 'j': 10,\n",
              " 'k': 11,\n",
              " 'l': 12,\n",
              " 'm': 13,\n",
              " 'n': 14,\n",
              " 'o': 15,\n",
              " 'p': 16,\n",
              " 'q': 17,\n",
              " 'r': 18,\n",
              " 's': 19,\n",
              " 't': 20,\n",
              " 'u': 21,\n",
              " 'v': 22,\n",
              " 'w': 23,\n",
              " 'x': 24,\n",
              " 'y': 25,\n",
              " 'z': 26,\n",
              " '—': 27,\n",
              " '’': 28}"
            ]
          },
          "execution_count": 66,
          "metadata": {},
          "output_type": "execute_result"
        }
      ],
      "source": [
        "vocab_dict = {v: k for k, v in enumerate(sorted(vocab_list))}\n",
        "vocab_dict"
      ]
    },
    {
      "cell_type": "markdown",
      "metadata": {
        "id": "JOSzbvs9SXT1"
      },
      "source": [
        "Cool, we see that all letters of the alphabet occur in the dataset (which is not really surprising) and we also extracted the special characters `\"\"` and `'`. Note that we did not exclude those special characters because:\n",
        "\n",
        "The model has to learn to predict when a word is finished or else the model prediction would always be a sequence of chars which would make it impossible to separate words from each other.\n",
        "\n",
        "One should always keep in mind that pre-processing is a very important step before training your model. E.g., we don't want our model to differentiate between `a` and `A` just because we forgot to normalize the data. The difference between `a` and `A` does not depend on the \"sound\" of the letter at all, but more on grammatical rules - *e.g.* use a capitalized letter at the beginning of the sentence. So it is sensible to remove the difference between capitalized and non-capitalized letters so that the model has an easier time learning to transcribe speech."
      ]
    },
    {
      "cell_type": "markdown",
      "metadata": {
        "id": "b1fBRCn-TRaO"
      },
      "source": [
        "To make it clearer that `\" \"` has its own token class, we give it a more visible character `|`. In addition, we also add an \"unknown\" token so that the model can later deal with characters not encountered in Common Voice's training set."
      ]
    },
    {
      "cell_type": "code",
      "execution_count": 67,
      "metadata": {
        "id": "npbIbBoLgaFX"
      },
      "outputs": [],
      "source": [
        "vocab_dict[\"|\"] = vocab_dict[\" \"]\n",
        "del vocab_dict[\" \"]"
      ]
    },
    {
      "cell_type": "markdown",
      "metadata": {
        "id": "_9yCWg4Sd0cb"
      },
      "source": [
        "Finally, we also add a padding token that corresponds to CTC's \"*blank token*\". The \"blank token\" is a core component of the CTC algorithm. For more information, please take a look at the \"Alignment\" section [here](https://distill.pub/2017/ctc/)."
      ]
    },
    {
      "cell_type": "code",
      "execution_count": 68,
      "metadata": {
        "colab": {
          "base_uri": "https://localhost:8080/"
        },
        "id": "znF0bNunsjbl",
        "outputId": "314ca989-0587-485e-d7d2-3e6efe2158ee"
      },
      "outputs": [
        {
          "data": {
            "text/plain": [
              "31"
            ]
          },
          "execution_count": 68,
          "metadata": {},
          "output_type": "execute_result"
        }
      ],
      "source": [
        "vocab_dict[\"[UNK]\"] = len(vocab_dict)\n",
        "vocab_dict[\"[PAD]\"] = len(vocab_dict)\n",
        "len(vocab_dict)"
      ]
    },
    {
      "cell_type": "markdown",
      "metadata": {
        "id": "SFPGfet8U5sL"
      },
      "source": [
        "Cool, now our vocabulary is complete and consists of 39 tokens, which means that the linear layer that we will add on top of the pretrained XLS-R checkpoint will have an output dimension of 39."
      ]
    },
    {
      "cell_type": "markdown",
      "metadata": {
        "id": "1CujRgBNVRaD"
      },
      "source": [
        "Let's now save the vocabulary as a json file."
      ]
    },
    {
      "cell_type": "code",
      "execution_count": 69,
      "metadata": {
        "id": "ehyUoh9vk191"
      },
      "outputs": [],
      "source": [
        "import json\n",
        "with open('vocab.json', 'w') as vocab_file:\n",
        "    json.dump(vocab_dict, vocab_file)"
      ]
    },
    {
      "cell_type": "markdown",
      "metadata": {
        "id": "SHJDaKlIVVim"
      },
      "source": [
        "In a final step, we use the json file to load the vocabulary into an instance of the `Wav2Vec2CTCTokenizer` class."
      ]
    },
    {
      "cell_type": "code",
      "execution_count": 70,
      "metadata": {
        "colab": {
          "base_uri": "https://localhost:8080/"
        },
        "id": "xriFGEWQkO4M",
        "outputId": "95e57a04-c48e-4748-8d77-bac71dd2750e"
      },
      "outputs": [
        {
          "name": "stderr",
          "output_type": "stream",
          "text": [
            "Special tokens have been added in the vocabulary, make sure the associated word embeddings are fine-tuned or trained.\n"
          ]
        }
      ],
      "source": [
        "from transformers import Wav2Vec2CTCTokenizer\n",
        "\n",
        "tokenizer = Wav2Vec2CTCTokenizer.from_pretrained(\"./\", unk_token=\"[UNK]\", pad_token=\"[PAD]\", word_delimiter_token=\"|\")"
      ]
    },
    {
      "cell_type": "code",
      "execution_count": 71,
      "metadata": {},
      "outputs": [
        {
          "data": {
            "text/plain": [
              "Wav2Vec2CTCTokenizer(name_or_path='./', vocab_size=31, model_max_length=1000000000000000019884624838656, is_fast=False, padding_side='right', truncation_side='right', special_tokens={'bos_token': '<s>', 'eos_token': '</s>', 'unk_token': '[UNK]', 'pad_token': '[PAD]', 'additional_special_tokens': [AddedToken(\"<s>\", rstrip=False, lstrip=False, single_word=False, normalized=True), AddedToken(\"</s>\", rstrip=False, lstrip=False, single_word=False, normalized=True)]}, clean_up_tokenization_spaces=True)"
            ]
          },
          "execution_count": 71,
          "metadata": {},
          "output_type": "execute_result"
        }
      ],
      "source": [
        "tokenizer"
      ]
    },
    {
      "cell_type": "code",
      "execution_count": 72,
      "metadata": {},
      "outputs": [
        {
          "data": {
            "text/plain": [
              "{'a': 1,\n",
              " 'b': 2,\n",
              " 'c': 3,\n",
              " 'd': 4,\n",
              " 'e': 5,\n",
              " 'f': 6,\n",
              " 'g': 7,\n",
              " 'h': 8,\n",
              " 'i': 9,\n",
              " 'j': 10,\n",
              " 'k': 11,\n",
              " 'l': 12,\n",
              " 'm': 13,\n",
              " 'n': 14,\n",
              " 'o': 15,\n",
              " 'p': 16,\n",
              " 'q': 17,\n",
              " 'r': 18,\n",
              " 's': 19,\n",
              " 't': 20,\n",
              " 'u': 21,\n",
              " 'v': 22,\n",
              " 'w': 23,\n",
              " 'x': 24,\n",
              " 'y': 25,\n",
              " 'z': 26,\n",
              " '—': 27,\n",
              " '’': 28,\n",
              " '|': 0,\n",
              " '[UNK]': 29,\n",
              " '[PAD]': 30}"
            ]
          },
          "execution_count": 72,
          "metadata": {},
          "output_type": "execute_result"
        }
      ],
      "source": [
        "tokenizer.encoder"
      ]
    },
    {
      "cell_type": "code",
      "execution_count": 73,
      "metadata": {},
      "outputs": [
        {
          "data": {
            "text/plain": [
              "31"
            ]
          },
          "execution_count": 73,
          "metadata": {},
          "output_type": "execute_result"
        }
      ],
      "source": [
        "len(tokenizer.encoder)"
      ]
    },
    {
      "cell_type": "code",
      "execution_count": 74,
      "metadata": {},
      "outputs": [
        {
          "data": {
            "text/plain": [
              "('./output/tokenizer_config.json',\n",
              " './output/special_tokens_map.json',\n",
              " './output/vocab.json',\n",
              " './output/added_tokens.json')"
            ]
          },
          "execution_count": 74,
          "metadata": {},
          "output_type": "execute_result"
        }
      ],
      "source": [
        "tokenizer.save_pretrained(\"./output\")"
      ]
    },
    {
      "cell_type": "markdown",
      "metadata": {
        "id": "KvL12DrNV4cx"
      },
      "source": [
        "If one wants to re-use the just created tokenizer with the fine-tuned model of this notebook, it is strongly advised to upload the `tokenizer` to the [🤗 Hub](https://huggingface.co/). Let's call the repo to which we will upload the files\n",
        "`\"wav2vec2-large-xlsr-turkish-demo-colab\"`:"
      ]
    },
    {
      "cell_type": "code",
      "execution_count": null,
      "metadata": {
        "id": "A1XApZBAF2zr"
      },
      "outputs": [],
      "source": [
        "repo_name = \"wav2vec2-large-xls-r-300m-turkish-colab\""
      ]
    },
    {
      "cell_type": "markdown",
      "metadata": {
        "id": "B1BiezWZF16d"
      },
      "source": [
        "and upload the tokenizer to the [🤗 Hub](https://huggingface.co/)."
      ]
    },
    {
      "cell_type": "code",
      "execution_count": null,
      "metadata": {
        "colab": {
          "base_uri": "https://localhost:8080/",
          "height": 199
        },
        "id": "zytE1175GAKM",
        "outputId": "bbe63dbe-0639-4468-9a3a-687bb8b3bb6e"
      },
      "outputs": [
        {
          "name": "stderr",
          "output_type": "stream",
          "text": [
            "/usr/local/lib/python3.7/dist-packages/huggingface_hub/hf_api.py:718: FutureWarning: `create_repo` now takes `token` as an optional positional argument. Be sure to adapt your code!\n",
            "  FutureWarning,\n",
            "/usr/local/lib/python3.7/dist-packages/huggingface_hub/hf_api.py:718: FutureWarning: `create_repo` now takes `token` as an optional positional argument. Be sure to adapt your code!\n",
            "  FutureWarning,\n",
            "Cloning https://huggingface.co/patrickvonplaten/wav2vec2-large-xls-r-300m-turkish-colab into local empty directory.\n",
            "To https://huggingface.co/patrickvonplaten/wav2vec2-large-xls-r-300m-turkish-colab\n",
            "   54dbd42..56ebe74  main -> main\n",
            "\n"
          ]
        },
        {
          "data": {
            "application/vnd.google.colaboratory.intrinsic+json": {
              "type": "string"
            },
            "text/plain": [
              "'https://huggingface.co/patrickvonplaten/wav2vec2-large-xls-r-300m-turkish-colab/commit/56ebe744b5acf5853233e4425bd914b938c4f013'"
            ]
          },
          "execution_count": 53,
          "metadata": {},
          "output_type": "execute_result"
        }
      ],
      "source": [
        "tokenizer.push_to_hub(repo_name)"
      ]
    },
    {
      "cell_type": "markdown",
      "metadata": {
        "id": "SwQM8lH_GGuP"
      },
      "source": [
        "Great, you can see the just created repository under `https://huggingface.co/<your-username>/wav2vec2-large-xls-r-300m-tr-colab`"
      ]
    },
    {
      "cell_type": "markdown",
      "metadata": {
        "id": "mYcIiR2FQ96i"
      },
      "source": [
        "### Create `Wav2Vec2FeatureExtractor`"
      ]
    },
    {
      "cell_type": "markdown",
      "metadata": {
        "id": "Y6mDEyW719rx"
      },
      "source": [
        "Speech is a continuous signal and to be treated by computers, it first has to be discretized, which is usually called **sampling**. The sampling rate hereby plays an important role in that it defines how many data points of the speech signal are measured per second. Therefore, sampling with a higher sampling rate results in a better approximation of the *real* speech signal but also necessitates more values per second.\n",
        "\n",
        "A pretrained checkpoint expects its input data to have been sampled more or less from the same distribution as the data it was trained on. The same speech signals sampled at two different rates have a very different distribution, *e.g.*, doubling the sampling rate results in data points being twice as long. Thus,\n",
        "before fine-tuning a pretrained checkpoint of an ASR model, it is crucial to verify that the sampling rate of the data that was used to pretrain the model matches the sampling rate of the dataset used to fine-tune the model.\n",
        "\n",
        "XLS-R was pretrained on audio data of [Babel](http://www.reading.ac.uk/AcaDepts/ll/speechlab/babel/r),\n",
        "[Multilingual LibriSpeech (MLS)](https://huggingface.co/datasets/multilingual_librispeech), [Common Voice](https://huggingface.co/datasets/common_voice), [VoxPopuli](https://arxiv.org/abs/2101.00390), and [VoxLingua107](https://arxiv.org/abs/2011.12998) at a sampling rate of 16kHz. Common Voice, in its original form, has a sampling rate of 48kHz, thus we will have to downsample the fine-tuning data to 16kHz in the following.\n",
        "\n"
      ]
    },
    {
      "cell_type": "markdown",
      "metadata": {
        "id": "KuUbPW7oV-B5"
      },
      "source": [
        "A `Wav2Vec2FeatureExtractor` object requires the following parameters to be instantiated:\n",
        "\n",
        "- `feature_size`: Speech models take a sequence of feature vectors as an input. While the length of this sequence obviously varies, the feature size should not. In the case of Wav2Vec2, the feature size is 1 because the model was trained on the raw speech signal ${}^2$.\n",
        "- `sampling_rate`: The sampling rate at which the model is trained on.\n",
        "- `padding_value`: For batched inference, shorter inputs need to be padded with a specific value\n",
        "- `do_normalize`: Whether the input should be *zero-mean-unit-variance* normalized or not. Usually, speech models perform better when normalizing the input\n",
        "- `return_attention_mask`: Whether the model should make use of an `attention_mask` for batched inference. In general, XLS-R models checkpoints should **always** use the `attention_mask`."
      ]
    },
    {
      "cell_type": "code",
      "execution_count": 75,
      "metadata": {
        "id": "kAR0-2KLkopp"
      },
      "outputs": [],
      "source": [
        "from transformers import Wav2Vec2FeatureExtractor\n",
        "\n",
        "feature_extractor = Wav2Vec2FeatureExtractor(feature_size=1, sampling_rate=16000, padding_value=0.0, do_normalize=True, return_attention_mask=True)"
      ]
    },
    {
      "cell_type": "markdown",
      "metadata": {
        "id": "qUETetgqYC3W"
      },
      "source": [
        "Great, XLS-R's feature extraction pipeline is thereby fully defined!\n",
        "\n",
        "For improved user-friendliness, the feature extractor and tokenizer are *wrapped* into a single `Wav2Vec2Processor` class so that one only needs a `model` and `processor` object."
      ]
    },
    {
      "cell_type": "code",
      "execution_count": 76,
      "metadata": {
        "id": "KYZtoW-tlZgl"
      },
      "outputs": [],
      "source": [
        "from transformers import Wav2Vec2Processor\n",
        "\n",
        "processor = Wav2Vec2Processor(feature_extractor=feature_extractor, tokenizer=tokenizer)"
      ]
    },
    {
      "cell_type": "markdown",
      "metadata": {
        "id": "DrKnYuvDIoOO"
      },
      "source": [
        "Next, we can prepare the dataset."
      ]
    },
    {
      "cell_type": "markdown",
      "metadata": {
        "id": "YFmShnl7RE35"
      },
      "source": [
        "### Preprocess Data\n",
        "\n",
        "So far, we have not looked at the actual values of the speech signal but just the transcription. In addition to `sentence`, our datasets include two more column names `path` and `audio`. `path` states the absolute path of the audio file. Let's take a look.\n"
      ]
    },
    {
      "cell_type": "code",
      "execution_count": 77,
      "metadata": {
        "colab": {
          "base_uri": "https://localhost:8080/",
          "height": 53
        },
        "id": "TTCS7W6XJ9BG",
        "outputId": "d4b375f8-a536-4be9-b995-578fd321acfe"
      },
      "outputs": [
        {
          "data": {
            "text/plain": [
              "'/DATA10T/Cache/downloads/extracted/b346aab12d7b8d3067d379267bbecbd285cb56b9272116d4588c4bf6e461e436/en_train_0/common_voice_en_19121553.mp3'"
            ]
          },
          "execution_count": 77,
          "metadata": {},
          "output_type": "execute_result"
        }
      ],
      "source": [
        "train_dataset[0][\"path\"]"
      ]
    },
    {
      "cell_type": "markdown",
      "metadata": {
        "id": "T6ndIjHGFp0W"
      },
      "source": [
        "XLS-R expects the input in the format of a 1-dimensional array of 16 kHz. This means that the audio file has to be loaded and resampled.\n",
        "\n",
        " Thankfully, `datasets` does this automatically by calling the other column `audio`. Let try it out."
      ]
    },
    {
      "cell_type": "code",
      "execution_count": 78,
      "metadata": {
        "colab": {
          "base_uri": "https://localhost:8080/"
        },
        "id": "qj_z5Zc3GAs9",
        "outputId": "6b0dca9c-aadc-493f-f754-b01d0f35fe28"
      },
      "outputs": [
        {
          "data": {
            "text/plain": [
              "{'path': '/DATA10T/Cache/downloads/extracted/b346aab12d7b8d3067d379267bbecbd285cb56b9272116d4588c4bf6e461e436/en_train_0/common_voice_en_19121553.mp3',\n",
              " 'array': array([ 0.00000000e+00,  1.96611932e-15, -7.55335397e-14, ...,\n",
              "         1.68718216e-05,  1.41903001e-07,  1.16676725e-04]),\n",
              " 'sampling_rate': 48000}"
            ]
          },
          "execution_count": 78,
          "metadata": {},
          "output_type": "execute_result"
        }
      ],
      "source": [
        "train_dataset[0][\"audio\"]"
      ]
    },
    {
      "cell_type": "markdown",
      "metadata": {
        "id": "WUUTgI1bGHW-"
      },
      "source": [
        "Great, we can see that the audio file has automatically been loaded. This is thanks to the new [`\"Audio\"` feature](https://huggingface.co/docs/datasets/package_reference/main_classes.html?highlight=audio#datasets.Audio) introduced in `datasets == 4.13.3`, which loads and resamples audio files on-the-fly upon calling.\n",
        "\n",
        "In the example above we can see that the audio data is loaded with a sampling rate of 48kHz whereas 16kHz are expected by the model. We can set the audio feature to the correct sampling rate by making use of [`cast_column`](https://huggingface.co/docs/datasets/package_reference/main_classes.html?highlight=cast_column#datasets.DatasetDict.cast_column):"
      ]
    },
    {
      "cell_type": "code",
      "execution_count": 83,
      "metadata": {
        "id": "rrv65aj7G95i"
      },
      "outputs": [],
      "source": [
        "train_dataset = train_dataset.cast_column(\"audio\", Audio(sampling_rate=16_000))\n",
        "test_dataset = test_dataset.cast_column(\"audio\", Audio(sampling_rate=16_000))"
      ]
    },
    {
      "cell_type": "markdown",
      "metadata": {
        "id": "PcnO4x-NGBEi"
      },
      "source": [
        "Let's take a look at `\"audio\"` again."
      ]
    },
    {
      "cell_type": "code",
      "execution_count": 84,
      "metadata": {
        "colab": {
          "base_uri": "https://localhost:8080/"
        },
        "id": "aKtkc1o_HWHC",
        "outputId": "c2c1375e-4812-4112-d843-9e3da6dd327d"
      },
      "outputs": [
        {
          "data": {
            "text/plain": [
              "{'path': '/DATA10T/Cache/downloads/extracted/b346aab12d7b8d3067d379267bbecbd285cb56b9272116d4588c4bf6e461e436/en_train_0/common_voice_en_19121553.mp3',\n",
              " 'array': array([ 7.27595761e-11, -2.32830644e-10, -4.65661287e-10, ...,\n",
              "        -5.81125205e-05, -2.75571801e-05,  2.96054786e-05]),\n",
              " 'sampling_rate': 16000}"
            ]
          },
          "execution_count": 84,
          "metadata": {},
          "output_type": "execute_result"
        }
      ],
      "source": [
        "train_dataset[0][\"audio\"]"
      ]
    },
    {
      "cell_type": "markdown",
      "metadata": {
        "id": "SOckzFd4Mbzq"
      },
      "source": [
        "This seemed to have worked! Let's listen to a couple of audio files to better understand the dataset and verify that the audio was correctly loaded.\n",
        "\n",
        "**Note**: *You can click the following cell a couple of times to listen to different speech samples.*"
      ]
    },
    {
      "cell_type": "code",
      "execution_count": 85,
      "metadata": {
        "colab": {
          "base_uri": "https://localhost:8080/",
          "height": 92
        },
        "id": "dueM6U7Ev0OA",
        "outputId": "1a771d0a-085d-441b-cc1b-f05438425ce4"
      },
      "outputs": [
        {
          "name": "stdout",
          "output_type": "stream",
          "text": [
            "to plants horror sea of love became his biggestselling single\n"
          ]
        },
        {
          "data": {
            "text/html": [
              "\n",
              "                <audio  controls=\"controls\" autoplay=\"autoplay\">\n",
              "                    <source src=\"data:audio/wav;base64,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\" type=\"audio/wav\" />\n",
              "                    Your browser does not support the audio element.\n",
              "                </audio>\n",
              "              "
            ],
            "text/plain": [
              "<IPython.lib.display.Audio object>"
            ]
          },
          "execution_count": 85,
          "metadata": {},
          "output_type": "execute_result"
        }
      ],
      "source": [
        "import IPython.display as ipd\n",
        "import numpy as np\n",
        "import random\n",
        "\n",
        "rand_int = random.randint(0, len(train_dataset)-1)\n",
        "\n",
        "print(train_dataset[rand_int][\"sentence\"])\n",
        "ipd.Audio(data=train_dataset[rand_int][\"audio\"][\"array\"], autoplay=True, rate=16000)"
      ]
    },
    {
      "cell_type": "markdown",
      "metadata": {
        "id": "gY8m3vARHYTa"
      },
      "source": [
        "It seems like the data is now correctly loaded and resampled."
      ]
    },
    {
      "cell_type": "markdown",
      "metadata": {
        "id": "1MaL9J2dNVtG"
      },
      "source": [
        "It can be heard, that the speakers change along with their speaking rate, accent, and background environment, etc. Overall, the recordings sound acceptably clear though, which is to be expected from a crowd-sourced read speech corpus.\n",
        "\n",
        "Let's do a final check that the data is correctly prepared, by printing the shape of the speech input, its transcription, and the corresponding sampling rate.\n",
        "\n",
        "**Note**: *You can click the following cell a couple of times to verify multiple samples.*"
      ]
    },
    {
      "cell_type": "code",
      "execution_count": 86,
      "metadata": {
        "colab": {
          "base_uri": "https://localhost:8080/"
        },
        "id": "1Po2g7YPuRTx",
        "outputId": "63478ae9-2927-4ec1-c13c-41fb3754e18e"
      },
      "outputs": [
        {
          "name": "stdout",
          "output_type": "stream",
          "text": [
            "Target text: the sidings now formed part of jolimont yard\n",
            "Input array shape: (84672,)\n",
            "Sampling rate: 16000\n"
          ]
        }
      ],
      "source": [
        "rand_int = random.randint(0, len(train_dataset)-1)\n",
        "\n",
        "print(\"Target text:\", train_dataset[rand_int][\"sentence\"])\n",
        "print(\"Input array shape:\", train_dataset[rand_int][\"audio\"][\"array\"].shape)\n",
        "print(\"Sampling rate:\", train_dataset[rand_int][\"audio\"][\"sampling_rate\"])"
      ]
    },
    {
      "cell_type": "markdown",
      "metadata": {
        "id": "M9teZcSwOBJ4"
      },
      "source": [
        "Good! Everything looks fine - the data is a 1-dimensional array, the sampling rate always corresponds to 16kHz, and the target text is normalized."
      ]
    },
    {
      "cell_type": "markdown",
      "metadata": {
        "id": "k3Pbn5WvOYZF"
      },
      "source": [
        "Finally, we can leverage `Wav2Vec2Processor` to process the data to the format expected by `Wav2Vec2ForCTC` for training. To do so let's make use of Dataset's [`map(...)`](https://huggingface.co/docs/datasets/package_reference/main_classes.html?highlight=map#datasets.DatasetDict.map) function.\n",
        "\n",
        "First, we load and resample the audio data, simply by calling `batch[\"audio\"]`.\n",
        "Second, we extract the `input_values` from the loaded audio file. In our case, the `Wav2Vec2Processor` only normalizes the data. For other speech models, however, this step can include more complex feature extraction, such as [Log-Mel feature extraction](https://en.wikipedia.org/wiki/Mel-frequency_cepstrum).\n",
        "Third, we encode the transcriptions to label ids.\n",
        "\n",
        "**Note**: This mapping function is a good example of how the `Wav2Vec2Processor` class should be used. In \"normal\" context, calling `processor(...)` is redirected to `Wav2Vec2FeatureExtractor`'s call method. When wrapping the processor into the `as_target_processor` context, however, the same method is redirected to `Wav2Vec2CTCTokenizer`'s call method.\n",
        "For more information please check the [docs](https://huggingface.co/transformers/master/model_doc/wav2vec2.html#transformers.Wav2Vec2Processor.__call__)."
      ]
    },
    {
      "cell_type": "code",
      "execution_count": 87,
      "metadata": {
        "id": "eJY7I0XAwe9p"
      },
      "outputs": [],
      "source": [
        "def prepare_dataset(batch):\n",
        "    audio = batch[\"audio\"]\n",
        "\n",
        "    # batched output is \"un-batched\"\n",
        "    batch[\"input_values\"] = processor(audio[\"array\"], sampling_rate=audio[\"sampling_rate\"]).input_values[0]\n",
        "    batch[\"input_length\"] = len(batch[\"input_values\"])\n",
        "\n",
        "    with processor.as_target_processor():\n",
        "        batch[\"labels\"] = processor(batch[\"sentence\"]).input_ids\n",
        "    return batch"
      ]
    },
    {
      "cell_type": "markdown",
      "metadata": {
        "id": "q6Pg_WR3OGAP"
      },
      "source": [
        "Let's apply the data preparation function to all examples."
      ]
    },
    {
      "cell_type": "code",
      "execution_count": 88,
      "metadata": {
        "colab": {
          "base_uri": "https://localhost:8080/",
          "height": 81,
          "referenced_widgets": [
            "012b09b271a842d0a7f1cd1260654c82",
            "6a40faf77bf445308534e7acada6bf0d",
            "a62ff1ee03dc47c9834b43720df991ea",
            "03d00b443bfd445d9286f64fd8556031",
            "557063bf861648f7aefacf71aa53ea9b",
            "21af0f39c0ce40a5846b980f98481940",
            "f6e0ea791e5a44abb5d5891bb3e254ad",
            "6323e35581be4b338a904266a5e85005",
            "6da7072e7f634a3aa2927fca1bcf38c0",
            "716dc4ab4fe74abab49f3c0f009357f5",
            "8a669878b8354867944e577860910001",
            "3aa317d2b42e4674b38dafa87b5599c5",
            "0a7c2124936345febe50288a476a12a6",
            "bdcf9380af5d4601b9b2de84b06ecb40",
            "b9c5532ffabb44078de8a6f76a4b8be6",
            "7732bb1317f940faa455f992f4fd2b26",
            "f28c64f34f9540b6b6bdc765c84e2307",
            "02016dcc44994c15b69e7f2c4dd0d9c4",
            "bbfc45e0cf5644f6bc24118fa9c6c098",
            "eca458b185ae4570b1ec1e77389c871e",
            "fe156fa95ee9410daff8f7c9a8b0d3a3",
            "a5e2e1fe3ab94cc6ae1a73cc1ab6f9a8"
          ]
        },
        "id": "-np9xYK-wl8q",
        "outputId": "00d6940a-a7bf-4128-896b-76bc289e5b7f"
      },
      "outputs": [
        {
          "data": {
            "application/vnd.jupyter.widget-view+json": {
              "model_id": "dbe61ff8fb5e4db1876d37d5b8551d46",
              "version_major": 2,
              "version_minor": 0
            },
            "text/plain": [
              "Map:   0%|          | 0/1000 [00:00<?, ? examples/s]"
            ]
          },
          "metadata": {},
          "output_type": "display_data"
        },
        {
          "name": "stderr",
          "output_type": "stream",
          "text": [
            "/home/lkk/miniconda3/envs/mycondapy310/lib/python3.10/site-packages/transformers/models/wav2vec2/processing_wav2vec2.py:155: UserWarning: `as_target_processor` is deprecated and will be removed in v5 of Transformers. You can process your labels by using the argument `text` of the regular `__call__` method (either in the same call as your audio inputs, or in a separate call.\n",
            "  warnings.warn(\n"
          ]
        },
        {
          "data": {
            "application/vnd.jupyter.widget-view+json": {
              "model_id": "7be82e4a541548ffa5c93da7865eecc6",
              "version_major": 2,
              "version_minor": 0
            },
            "text/plain": [
              "Map:   0%|          | 0/100 [00:00<?, ? examples/s]"
            ]
          },
          "metadata": {},
          "output_type": "display_data"
        }
      ],
      "source": [
        "train_dataset = train_dataset.map(prepare_dataset, remove_columns=train_dataset.column_names)\n",
        "test_dataset =test_dataset.map(prepare_dataset, remove_columns=test_dataset.column_names)"
      ]
    },
    {
      "cell_type": "markdown",
      "metadata": {
        "id": "nKcEWHvKI1by"
      },
      "source": [
        "**Note**: Currently `datasets` make use of [`torchaudio`](https://pytorch.org/audio/stable/index.html) and [`librosa`](https://librosa.org/doc/latest/index.html) for audio loading and resampling. If you wish to implement your own costumized data loading/sampling, feel free to just make use of the `\"path\"` column instead and disregard the `\"audio\"` column."
      ]
    },
    {
      "cell_type": "markdown",
      "metadata": {
        "id": "24CxHd5ewI4T"
      },
      "source": [
        "Long input sequences require a lot of memory. XLS-R is based on `self-attention` the memory requirement scales quadratically with the input length for long input sequences (*cf.* with [this](https://www.reddit.com/r/MachineLearning/comments/genjvb/d_why_is_the_maximum_input_sequence_length_of/) reddit post). In case this demo crashes with an \"Out-of-memory\" error for you, you might want to uncomment the following lines to filter all sequences that are longer than 5 seconds for training."
      ]
    },
    {
      "cell_type": "code",
      "execution_count": null,
      "metadata": {
        "id": "tdHfbUJ_09iA"
      },
      "outputs": [],
      "source": [
        "#max_input_length_in_sec = 5.0\n",
        "#common_voice_train = common_voice_train.filter(lambda x: x < max_input_length_in_sec * processor.feature_extractor.sampling_rate, input_columns=[\"input_length\"])"
      ]
    },
    {
      "cell_type": "markdown",
      "metadata": {
        "id": "1ZWDCCKqwcfS"
      },
      "source": [
        "Awesome, now we are ready to start training!"
      ]
    },
    {
      "cell_type": "markdown",
      "metadata": {
        "id": "gYlQkKVoRUos"
      },
      "source": [
        "## Training\n",
        "\n",
        "The data is processed so that we are ready to start setting up the training pipeline. We will make use of 🤗's [Trainer](https://huggingface.co/transformers/master/main_classes/trainer.html?highlight=trainer) for which we essentially need to do the following:\n",
        "\n",
        "- Define a data collator. In contrast to most NLP models, XLS-R has a much larger input length than output length. *E.g.*, a sample of input length 50000 has an output length of no more than 100. Given the large input sizes, it is much more efficient to pad the training batches dynamically meaning that all training samples should only be padded to the longest sample in their batch and not the overall longest sample. Therefore, fine-tuning XLS-R requires a special padding data collator, which we will define below\n",
        "\n",
        "- Evaluation metric. During training, the model should be evaluated on the word error rate. We should define a `compute_metrics` function accordingly\n",
        "\n",
        "- Load a pretrained checkpoint. We need to load a pretrained checkpoint and configure it correctly for training.\n",
        "\n",
        "- Define the training configuration.\n",
        "\n",
        "After having fine-tuned the model, we will correctly evaluate it on the test data and verify that it has indeed learned to correctly transcribe speech."
      ]
    },
    {
      "cell_type": "markdown",
      "metadata": {
        "id": "Slk403unUS91"
      },
      "source": [
        "### Set-up Trainer\n",
        "\n",
        "Let's start by defining the data collator. The code for the data collator was copied from [this example](https://github.com/huggingface/transformers/blob/7e61d56a45c19284cfda0cee8995fb552f6b1f4e/examples/pytorch/speech-recognition/run_speech_recognition_ctc.py#L219).\n",
        "\n",
        "Without going into too many details, in contrast to the common data collators, this data collator treats the `input_values` and `labels` differently and thus applies to separate padding functions on them (again making use of XLS-R processor's context manager). This is necessary because in speech input and output are of different modalities meaning that they should not be treated by the same padding function.\n",
        "Analogous to the common data collators, the padding tokens in the labels with `-100` so that those tokens are **not** taken into account when computing the loss."
      ]
    },
    {
      "cell_type": "code",
      "execution_count": 89,
      "metadata": {
        "id": "tborvC9hx88e"
      },
      "outputs": [],
      "source": [
        "import torch\n",
        "\n",
        "from dataclasses import dataclass, field\n",
        "from typing import Any, Dict, List, Optional, Union\n",
        "\n",
        "@dataclass\n",
        "class DataCollatorCTCWithPadding:\n",
        "    \"\"\"\n",
        "    Data collator that will dynamically pad the inputs received.\n",
        "    Args:\n",
        "        processor (:class:`~transformers.Wav2Vec2Processor`)\n",
        "            The processor used for proccessing the data.\n",
        "        padding (:obj:`bool`, :obj:`str` or :class:`~transformers.tokenization_utils_base.PaddingStrategy`, `optional`, defaults to :obj:`True`):\n",
        "            Select a strategy to pad the returned sequences (according to the model's padding side and padding index)\n",
        "            among:\n",
        "            * :obj:`True` or :obj:`'longest'`: Pad to the longest sequence in the batch (or no padding if only a single\n",
        "              sequence if provided).\n",
        "            * :obj:`'max_length'`: Pad to a maximum length specified with the argument :obj:`max_length` or to the\n",
        "              maximum acceptable input length for the model if that argument is not provided.\n",
        "            * :obj:`False` or :obj:`'do_not_pad'` (default): No padding (i.e., can output a batch with sequences of\n",
        "              different lengths).\n",
        "    \"\"\"\n",
        "\n",
        "    processor: Wav2Vec2Processor\n",
        "    padding: Union[bool, str] = True\n",
        "\n",
        "    def __call__(self, features: List[Dict[str, Union[List[int], torch.Tensor]]]) -> Dict[str, torch.Tensor]:\n",
        "        # split inputs and labels since they have to be of different lenghts and need\n",
        "        # different padding methods\n",
        "        input_features = [{\"input_values\": feature[\"input_values\"]} for feature in features]\n",
        "        label_features = [{\"input_ids\": feature[\"labels\"]} for feature in features]\n",
        "\n",
        "        batch = self.processor.pad(\n",
        "            input_features,\n",
        "            padding=self.padding,\n",
        "            return_tensors=\"pt\",\n",
        "        )\n",
        "        with self.processor.as_target_processor():\n",
        "            labels_batch = self.processor.pad(\n",
        "                label_features,\n",
        "                padding=self.padding,\n",
        "                return_tensors=\"pt\",\n",
        "            )\n",
        "\n",
        "        # replace padding with -100 to ignore loss correctly\n",
        "        labels = labels_batch[\"input_ids\"].masked_fill(labels_batch.attention_mask.ne(1), -100)\n",
        "\n",
        "        batch[\"labels\"] = labels\n",
        "\n",
        "        return batch"
      ]
    },
    {
      "cell_type": "code",
      "execution_count": 90,
      "metadata": {
        "id": "lbQf5GuZyQ4_"
      },
      "outputs": [],
      "source": [
        "data_collator = DataCollatorCTCWithPadding(processor=processor, padding=True)"
      ]
    },
    {
      "cell_type": "markdown",
      "metadata": {
        "id": "xO-Zdj-5cxXp"
      },
      "source": [
        "Next, the evaluation metric is defined. As mentioned earlier, the\n",
        "predominant metric in ASR is the word error rate (WER), hence we will use it in this notebook as well."
      ]
    },
    {
      "cell_type": "code",
      "execution_count": 91,
      "metadata": {
        "colab": {
          "base_uri": "https://localhost:8080/",
          "height": 49,
          "referenced_widgets": [
            "7c81059d35534b799623afe872095cac",
            "379128a308ab43ee9e785e234bb94049",
            "ff8e746cf8ef4f988617b8d4c0dd3c9c",
            "0204a7bc668746a68f6e5e5632753c1c",
            "84361b363998428a87b9e50b6625cca9",
            "c0919f3c8d594911815ce63273f7fe51",
            "69f2a9e473534148b96b2e9bd639a087",
            "5cd8c74ba2e845d498afdc1c25009767",
            "3f0c587f7b764d96837c8e16254aab12",
            "d3b5f5a0d35642e0b606ac63c38f88fa",
            "7ce84a97d72848c0967f732734afdd68"
          ]
        },
        "id": "9Xsux2gmyXso",
        "outputId": "18ceeb9e-1a0d-4ee8-f511-a12ad3608bf1"
      },
      "outputs": [
        {
          "name": "stderr",
          "output_type": "stream",
          "text": [
            "/tmp/ipykernel_2572284/24688115.py:1: FutureWarning: load_metric is deprecated and will be removed in the next major version of datasets. Use 'evaluate.load' instead, from the new library 🤗 Evaluate: https://huggingface.co/docs/evaluate\n",
            "  wer_metric = load_metric(\"wer\")\n",
            "/home/lkk/miniconda3/envs/mycondapy310/lib/python3.10/site-packages/datasets/load.py:752: FutureWarning: The repository for wer contains custom code which must be executed to correctly load the metric. You can inspect the repository content at https://raw.githubusercontent.com/huggingface/datasets/2.16.1/metrics/wer/wer.py\n",
            "You can avoid this message in future by passing the argument `trust_remote_code=True`.\n",
            "Passing `trust_remote_code=True` will be mandatory to load this metric from the next major release of `datasets`.\n",
            "  warnings.warn(\n"
          ]
        },
        {
          "data": {
            "application/vnd.jupyter.widget-view+json": {
              "model_id": "5470ed5df1044f888a65e9c589d2b064",
              "version_major": 2,
              "version_minor": 0
            },
            "text/plain": [
              "Downloading builder script:   0%|          | 0.00/1.90k [00:00<?, ?B/s]"
            ]
          },
          "metadata": {},
          "output_type": "display_data"
        }
      ],
      "source": [
        "wer_metric = load_metric(\"wer\")"
      ]
    },
    {
      "cell_type": "markdown",
      "metadata": {
        "id": "E1qZU5p-deqB"
      },
      "source": [
        "The model will return a sequence of logit vectors:\n",
        "$\\mathbf{y}_1, \\ldots, \\mathbf{y}_m$ with $\\mathbf{y}_1 = f_{\\theta}(x_1, \\ldots, x_n)[0]$ and $n >> m$.\n",
        "\n",
        "A logit vector $\\mathbf{y}_1$ contains the log-odds for each word in the vocabulary we defined earlier, thus $\\text{len}(\\mathbf{y}_i) =$ `config.vocab_size`. We are interested in the most likely prediction of the model and thus take the `argmax(...)` of the logits. Also, we transform the encoded labels back to the original string by replacing `-100` with the `pad_token_id` and decoding the ids while making sure that consecutive tokens are **not** grouped to the same token in CTC style ${}^1$."
      ]
    },
    {
      "cell_type": "code",
      "execution_count": 92,
      "metadata": {
        "id": "1XZ-kjweyTy_"
      },
      "outputs": [],
      "source": [
        "def compute_metrics(pred):\n",
        "    pred_logits = pred.predictions\n",
        "    pred_ids = np.argmax(pred_logits, axis=-1)\n",
        "\n",
        "    pred.label_ids[pred.label_ids == -100] = processor.tokenizer.pad_token_id\n",
        "\n",
        "    pred_str = processor.batch_decode(pred_ids)\n",
        "    # we do not want to group tokens when computing the metrics\n",
        "    label_str = processor.batch_decode(pred.label_ids, group_tokens=False)\n",
        "\n",
        "    wer = wer_metric.compute(predictions=pred_str, references=label_str)\n",
        "\n",
        "    return {\"wer\": wer}"
      ]
    },
    {
      "cell_type": "markdown",
      "metadata": {
        "id": "Xmgrx4bRwLIH"
      },
      "source": [
        "Now, we can load the pretrained checkpoint of [Wav2Vec2-XLS-R-300M](https://huggingface.co/facebook/wav2vec2-xls-r-300m). The tokenizer's `pad_token_id` must be to define the model's `pad_token_id` or in the case of `Wav2Vec2ForCTC` also CTC's *blank token* ${}^2$. To save GPU memory, we enable PyTorch's [gradient checkpointing](https://pytorch.org/docs/stable/checkpoint.html) and also set the loss reduction to \"*mean*\".\n",
        "\n",
        "Because the dataset is quite small (~6h of training data) and because Common Voice is quite noisy, fine-tuning Facebook's [wav2vec2-xls-r-300m checkpoint](https://huggingface.co/facebook/wav2vec2-xls-r-300m) seems to require some hyper-parameter tuning. Therefore, I had to play around a bit with different values for dropout, [SpecAugment](https://arxiv.org/abs/1904.08779)'s masking dropout rate, layer dropout, and the learning rate until training seemed to be stable enough.\n",
        "\n",
        "**Note**: When using this notebook to train XLS-R on another language of Common Voice those hyper-parameter settings might not work very well. Feel free to adapt those depending on your use case."
      ]
    },
    {
      "cell_type": "code",
      "execution_count": 94,
      "metadata": {
        "colab": {
          "base_uri": "https://localhost:8080/",
          "height": 191,
          "referenced_widgets": [
            "1ca82f9af3ae423096661a1ffd8a165f",
            "ce429683f48349c083e5fc3253a897d7",
            "acc35dfdfca542828d1bb02cbde15dfe",
            "aa92ff120d9c4dd68ae941d7a1f33a81",
            "731a283141f642b9ab5bf9f7053381d2",
            "4246da00789f44e2abce952906bde6f1",
            "059588e34a88476eb6bbc1860ddc27ef",
            "6ae3b3139e6641fc9e62ae5744349add",
            "92c30a7c6102443cad2f6f03211c32e0",
            "ad95ae421231492e814238bde2ecb551",
            "136f973d9623421eb38e09c73c6b6810",
            "367c85905a024248bce6c620b822b2ee",
            "7ea310732a56432da1a095a8d30edc1c",
            "2d2b8b8d5774494aa73d872e9a4c10d9",
            "f4af6a0756e241e49e5d325f1bdb18b4",
            "2b7e52a9be904663ae74226691de6ebd",
            "771530ea22364f1ea8963e2d542fcf49",
            "1cdac9cda666466ca1e09f32661d40ed",
            "3ec9917890f4452883bcaeac444d056c",
            "e9531fcd48b74929bfdb45cd3f3315e7",
            "349c9e8b2a8846c1bff5a03d2a28066a",
            "de1e5c31eacf4fa59cfa51926354acca"
          ]
        },
        "id": "e7cqAWIayn6w",
        "outputId": "3e6cebea-78ef-45df-87b0-f63b78ba9644"
      },
      "outputs": [
        {
          "data": {
            "application/vnd.jupyter.widget-view+json": {
              "model_id": "3859a03805614275ba8296f94baa7ac5",
              "version_major": 2,
              "version_minor": 0
            },
            "text/plain": [
              "pytorch_model.bin:   0%|          | 0.00/1.27G [00:00<?, ?B/s]"
            ]
          },
          "metadata": {},
          "output_type": "display_data"
        },
        {
          "name": "stderr",
          "output_type": "stream",
          "text": [
            "Some weights of Wav2Vec2ForCTC were not initialized from the model checkpoint at facebook/wav2vec2-xls-r-300m and are newly initialized: ['lm_head.weight', 'lm_head.bias', 'wav2vec2.encoder.pos_conv_embed.conv.parametrizations.weight.original0', 'wav2vec2.encoder.pos_conv_embed.conv.parametrizations.weight.original1']\n",
            "You should probably TRAIN this model on a down-stream task to be able to use it for predictions and inference.\n"
          ]
        }
      ],
      "source": [
        "from transformers import Wav2Vec2ForCTC\n",
        "\n",
        "model = Wav2Vec2ForCTC.from_pretrained(\n",
        "    \"facebook/wav2vec2-xls-r-300m\",\n",
        "    cache_dir = mycache_dir,\n",
        "    # attention_dropout=0.0,\n",
        "    # hidden_dropout=0.0,\n",
        "    # feat_proj_dropout=0.0,\n",
        "    # mask_time_prob=0.05,\n",
        "    # layerdrop=0.0,\n",
        "    ctc_loss_reduction=\"mean\",\n",
        "    pad_token_id=processor.tokenizer.pad_token_id,\n",
        "    vocab_size=len(processor.tokenizer),\n",
        ")"
      ]
    },
    {
      "cell_type": "markdown",
      "metadata": {
        "id": "1DwR3XLSzGDD"
      },
      "source": [
        "The first component of XLS-R consists of a stack of CNN layers that are used to extract acoustically meaningful - but contextually independent - features from the raw speech signal. This part of the model has already been sufficiently trained during pretraining and as stated in the [paper](https://arxiv.org/pdf/2006.13979.pdf) does not need to be fine-tuned anymore.\n",
        "Thus, we can set the `requires_grad` to `False` for all parameters of the *feature extraction* part."
      ]
    },
    {
      "cell_type": "code",
      "execution_count": 95,
      "metadata": {
        "id": "oGI8zObtZ3V0"
      },
      "outputs": [
        {
          "name": "stderr",
          "output_type": "stream",
          "text": [
            "/home/lkk/miniconda3/envs/mycondapy310/lib/python3.10/site-packages/transformers/models/wav2vec2/modeling_wav2vec2.py:1925: FutureWarning: The method `freeze_feature_extractor` is deprecated and will be removed in Transformers v5.Please use the equivalent `freeze_feature_encoder` method instead.\n",
            "  warnings.warn(\n"
          ]
        }
      ],
      "source": [
        "model.freeze_feature_extractor()"
      ]
    },
    {
      "cell_type": "markdown",
      "metadata": {
        "id": "lD4aGhQM0K-D"
      },
      "source": [
        "In a final step, we define all parameters related to training.\n",
        "To give more explanation on some of the parameters:\n",
        "- `group_by_length` makes training more efficient by grouping training samples of similar input length into one batch. This can significantly speed up training time by heavily reducing the overall number of useless padding tokens that are passed through the model\n",
        "- `learning_rate` and `weight_decay` were heuristically tuned until fine-tuning has become stable. Note that those parameters strongly depend on the Common Voice dataset and might be suboptimal for other speech datasets.\n",
        "\n",
        "For more explanations on other parameters, one can take a look at the [docs](https://huggingface.co/transformers/master/main_classes/trainer.html?highlight=trainer#trainingarguments).\n",
        "\n",
        "During training, a checkpoint will be uploaded asynchronously to the hub every 400 training steps. It allows you to also play around with the demo widget even while your model is still training.\n",
        "\n",
        "**Note**: If one does not want to upload the model checkpoints to the hub, simply set `push_to_hub=False`."
      ]
    },
    {
      "cell_type": "code",
      "execution_count": 96,
      "metadata": {
        "id": "KbeKSV7uzGPP"
      },
      "outputs": [],
      "source": [
        "from transformers import TrainingArguments\n",
        "\n",
        "training_args = TrainingArguments(\n",
        "  output_dir=\"/DATA10T/output/wave2vec2xls\",\n",
        "  group_by_length=True,\n",
        "  per_device_train_batch_size=16,\n",
        "  gradient_accumulation_steps=2,\n",
        "  evaluation_strategy=\"steps\",\n",
        "  num_train_epochs=30,\n",
        "  gradient_checkpointing=True,\n",
        "  fp16=True,\n",
        "  save_steps=400,\n",
        "  eval_steps=400,\n",
        "  logging_steps=400,\n",
        "  learning_rate=3e-4,\n",
        "  warmup_steps=500,\n",
        "  save_total_limit=2,\n",
        "  push_to_hub=False,\n",
        ")"
      ]
    },
    {
      "cell_type": "markdown",
      "metadata": {
        "id": "OsW-WZcL1ZtN"
      },
      "source": [
        "Now, all instances can be passed to Trainer and we are ready to start training!"
      ]
    },
    {
      "cell_type": "code",
      "execution_count": 97,
      "metadata": {
        "colab": {
          "base_uri": "https://localhost:8080/"
        },
        "id": "rY7vBmFCPFgC",
        "outputId": "c47ecc78-5259-44db-c121-5bd7945defb8"
      },
      "outputs": [],
      "source": [
        "from transformers import Trainer\n",
        "\n",
        "trainer = Trainer(\n",
        "    model=model,\n",
        "    data_collator=data_collator,\n",
        "    args=training_args,\n",
        "    compute_metrics=compute_metrics,\n",
        "    train_dataset=train_dataset,\n",
        "    eval_dataset=test_dataset,\n",
        "    tokenizer=processor.feature_extractor,\n",
        ")"
      ]
    },
    {
      "cell_type": "markdown",
      "metadata": {
        "id": "UoXBx1JAA0DX"
      },
      "source": [
        "\n",
        "\n",
        "---\n",
        "\n",
        "${}^1$ To allow models to become independent of the speaker rate, in CTC, consecutive tokens that are identical are simply grouped as a single token. However, the encoded labels should not be grouped when decoding since they don't correspond to the predicted tokens of the model, which is why the `group_tokens=False` parameter has to be passed. If we wouldn't pass this parameter a word like `\"hello\"` would incorrectly be encoded, and decoded as `\"helo\"`.\n",
        "\n",
        "${}^2$ The blank token allows the model to predict a word, such as `\"hello\"` by forcing it to insert the blank token between the two l's. A CTC-conform prediction of `\"hello\"` of our model would be `[PAD] [PAD] \"h\" \"e\" \"e\" \"l\" \"l\" [PAD] \"l\" \"o\" \"o\" [PAD]`."
      ]
    },
    {
      "cell_type": "markdown",
      "metadata": {
        "id": "rpvZHM1xReIW"
      },
      "source": [
        "### Training"
      ]
    },
    {
      "cell_type": "markdown",
      "metadata": {
        "id": "j-3oKSzZ1hGq"
      },
      "source": [
        "Training will take multiple hours depending on the GPU allocated to this notebook. While the trained model yields somewhat satisfying results on *Common Voice*'s test data of Turkish, it is by no means an optimally fine-tuned model. The purpose of this notebook is just to demonstrate how to fine-tune XLS-R on an ASR dataset.\n",
        "\n",
        "In case you want to use this google colab to fine-tune your model, you should make sure that your training doesn't stop due to inactivity. A simple hack to prevent this is to paste the following code into the console of this tab (*right mouse click -> inspect -> Console tab and insert code*)."
      ]
    },
    {
      "cell_type": "markdown",
      "metadata": {
        "id": "VYYAvgkW4P0m"
      },
      "source": [
        "```javascript\n",
        "function ConnectButton(){\n",
        "    console.log(\"Connect pushed\");\n",
        "    document.querySelector(\"#top-toolbar > colab-connect-button\").shadowRoot.querySelector(\"#connect\").click()\n",
        "}\n",
        "setInterval(ConnectButton,60000);\n",
        "```"
      ]
    },
    {
      "cell_type": "markdown",
      "metadata": {
        "id": "7bGgLV2r0yvZ"
      },
      "source": [
        "Depending on what GPU was allocated to your google colab it might be possible that you are seeing an `\"out-of-memory\"` error here. In this case, it's probably best to reduce `per_device_train_batch_size` to 8 or even less and increase [`gradient_accumulation`](https://huggingface.co/transformers/master/main_classes/trainer.html#trainingarguments)."
      ]
    },
    {
      "cell_type": "code",
      "execution_count": 98,
      "metadata": {},
      "outputs": [
        {
          "name": "stderr",
          "output_type": "stream",
          "text": [
            "/home/lkk/miniconda3/envs/mycondapy310/lib/python3.10/site-packages/transformers/models/wav2vec2/processing_wav2vec2.py:155: UserWarning: `as_target_processor` is deprecated and will be removed in v5 of Transformers. You can process your labels by using the argument `text` of the regular `__call__` method (either in the same call as your audio inputs, or in a separate call.\n",
            "  warnings.warn(\n",
            "/home/lkk/miniconda3/envs/mycondapy310/lib/python3.10/site-packages/torch/utils/checkpoint.py:429: UserWarning: torch.utils.checkpoint: please pass in use_reentrant=True or use_reentrant=False explicitly. The default value of use_reentrant will be updated to be False in the future. To maintain current behavior, pass use_reentrant=True. It is recommended that you use use_reentrant=False. Refer to docs for more details on the differences between the two variants.\n",
            "  warnings.warn(\n"
          ]
        },
        {
          "data": {
            "text/html": [
              "\n",
              "    <div>\n",
              "      \n",
              "      <progress value='930' max='930' style='width:300px; height:20px; vertical-align: middle;'></progress>\n",
              "      [930/930 14:48, Epoch 29/30]\n",
              "    </div>\n",
              "    <table border=\"1\" class=\"dataframe\">\n",
              "  <thead>\n",
              " <tr style=\"text-align: left;\">\n",
              "      <th>Step</th>\n",
              "      <th>Training Loss</th>\n",
              "      <th>Validation Loss</th>\n",
              "      <th>Wer</th>\n",
              "    </tr>\n",
              "  </thead>\n",
              "  <tbody>\n",
              "    <tr>\n",
              "      <td>400</td>\n",
              "      <td>4.730600</td>\n",
              "      <td>3.071480</td>\n",
              "      <td>1.000000</td>\n",
              "    </tr>\n",
              "    <tr>\n",
              "      <td>800</td>\n",
              "      <td>1.443700</td>\n",
              "      <td>1.352002</td>\n",
              "      <td>0.607292</td>\n",
              "    </tr>\n",
              "  </tbody>\n",
              "</table><p>"
            ],
            "text/plain": [
              "<IPython.core.display.HTML object>"
            ]
          },
          "metadata": {},
          "output_type": "display_data"
        },
        {
          "name": "stderr",
          "output_type": "stream",
          "text": [
            "/home/lkk/miniconda3/envs/mycondapy310/lib/python3.10/site-packages/transformers/models/wav2vec2/processing_wav2vec2.py:155: UserWarning: `as_target_processor` is deprecated and will be removed in v5 of Transformers. You can process your labels by using the argument `text` of the regular `__call__` method (either in the same call as your audio inputs, or in a separate call.\n",
            "  warnings.warn(\n",
            "/home/lkk/miniconda3/envs/mycondapy310/lib/python3.10/site-packages/torch/utils/checkpoint.py:429: UserWarning: torch.utils.checkpoint: please pass in use_reentrant=True or use_reentrant=False explicitly. The default value of use_reentrant will be updated to be False in the future. To maintain current behavior, pass use_reentrant=True. It is recommended that you use use_reentrant=False. Refer to docs for more details on the differences between the two variants.\n",
            "  warnings.warn(\n",
            "/home/lkk/miniconda3/envs/mycondapy310/lib/python3.10/site-packages/transformers/models/wav2vec2/processing_wav2vec2.py:155: UserWarning: `as_target_processor` is deprecated and will be removed in v5 of Transformers. You can process your labels by using the argument `text` of the regular `__call__` method (either in the same call as your audio inputs, or in a separate call.\n",
            "  warnings.warn(\n",
            "/home/lkk/miniconda3/envs/mycondapy310/lib/python3.10/site-packages/torch/utils/checkpoint.py:429: UserWarning: torch.utils.checkpoint: please pass in use_reentrant=True or use_reentrant=False explicitly. The default value of use_reentrant will be updated to be False in the future. To maintain current behavior, pass use_reentrant=True. It is recommended that you use use_reentrant=False. Refer to docs for more details on the differences between the two variants.\n",
            "  warnings.warn(\n"
          ]
        },
        {
          "data": {
            "text/plain": [
              "TrainOutput(global_step=930, training_loss=2.702474581810736, metrics={'train_runtime': 890.2617, 'train_samples_per_second': 33.698, 'train_steps_per_second': 1.045, 'total_flos': 5.859490420327576e+18, 'train_loss': 2.702474581810736, 'epoch': 29.52})"
            ]
          },
          "execution_count": 98,
          "metadata": {},
          "output_type": "execute_result"
        }
      ],
      "source": [
        "trainer.train()"
      ]
    },
    {
      "cell_type": "code",
      "execution_count": 127,
      "metadata": {},
      "outputs": [
        {
          "name": "stderr",
          "output_type": "stream",
          "text": [
            "/home/lkk/miniconda3/envs/mycondapy310/lib/python3.10/site-packages/transformers/models/wav2vec2/processing_wav2vec2.py:155: UserWarning: `as_target_processor` is deprecated and will be removed in v5 of Transformers. You can process your labels by using the argument `text` of the regular `__call__` method (either in the same call as your audio inputs, or in a separate call.\n",
            "  warnings.warn(\n"
          ]
        },
        {
          "data": {
            "text/html": [
              "\n",
              "    <div>\n",
              "      \n",
              "      <progress value='13' max='13' style='width:300px; height:20px; vertical-align: middle;'></progress>\n",
              "      [13/13 00:01]\n",
              "    </div>\n",
              "    "
            ],
            "text/plain": [
              "<IPython.core.display.HTML object>"
            ]
          },
          "metadata": {},
          "output_type": "display_data"
        },
        {
          "data": {
            "text/plain": [
              "{'eval_loss': 1.3340829610824585,\n",
              " 'eval_wer': 0.5916666666666667,\n",
              " 'eval_runtime': 2.2799,\n",
              " 'eval_samples_per_second': 43.861,\n",
              " 'eval_steps_per_second': 5.702,\n",
              " 'epoch': 29.52}"
            ]
          },
          "execution_count": 127,
          "metadata": {},
          "output_type": "execute_result"
        }
      ],
      "source": [
        "trainer.evaluate()"
      ]
    },
    {
      "cell_type": "code",
      "execution_count": null,
      "metadata": {
        "colab": {
          "background_save": true,
          "base_uri": "https://localhost:8080/",
          "height": 311
        },
        "id": "9fRr9TG5pGBl",
        "outputId": "122ea040-7b24-452a-c7d4-7e72e1c46973"
      },
      "outputs": [
        {
          "name": "stderr",
          "output_type": "stream",
          "text": [
            "The following columns in the training set  don't have a corresponding argument in `Wav2Vec2ForCTC.forward` and have been ignored: input_length.\n",
            "***** Running training *****\n",
            "  Num examples = 3478\n",
            "  Num Epochs = 30\n",
            "  Instantaneous batch size per device = 16\n",
            "  Total train batch size (w. parallel, distributed & accumulation) = 32\n",
            "  Gradient Accumulation steps = 2\n",
            "  Total optimization steps = 3270\n",
            "/usr/local/lib/python3.7/dist-packages/transformers/feature_extraction_utils.py:158: UserWarning: Creating a tensor from a list of numpy.ndarrays is extremely slow. Please consider converting the list to a single numpy.ndarray with numpy.array() before converting to a tensor. (Triggered internally at  ../torch/csrc/utils/tensor_new.cpp:201.)\n",
            "  tensor = as_tensor(value)\n",
            "/usr/local/lib/python3.7/dist-packages/transformers/models/wav2vec2/modeling_wav2vec2.py:882: UserWarning: __floordiv__ is deprecated, and its behavior will change in a future version of pytorch. It currently rounds toward 0 (like the 'trunc' function NOT 'floor'). This results in incorrect rounding for negative values. To keep the current behavior, use torch.div(a, b, rounding_mode='trunc'), or for actual floor division, use torch.div(a, b, rounding_mode='floor').\n",
            "  return (input_length - kernel_size) // stride + 1\n"
          ]
        },
        {
          "data": {
            "text/html": [
              "\n",
              "    <div>\n",
              "      \n",
              "      <progress value='3270' max='3270' style='width:300px; height:20px; vertical-align: middle;'></progress>\n",
              "      [3270/3270 4:41:48, Epoch 30/30]\n",
              "    </div>\n",
              "    <table border=\"1\" class=\"dataframe\">\n",
              "  <thead>\n",
              "    <tr style=\"text-align: left;\">\n",
              "      <th>Step</th>\n",
              "      <th>Training Loss</th>\n",
              "      <th>Validation Loss</th>\n",
              "      <th>Wer</th>\n",
              "    </tr>\n",
              "  </thead>\n",
              "  <tbody>\n",
              "    <tr>\n",
              "      <td>400</td>\n",
              "      <td>3.765200</td>\n",
              "      <td>0.625533</td>\n",
              "      <td>0.693290</td>\n",
              "    </tr>\n",
              "    <tr>\n",
              "      <td>800</td>\n",
              "      <td>0.371600</td>\n",
              "      <td>0.405785</td>\n",
              "      <td>0.456337</td>\n",
              "    </tr>\n",
              "    <tr>\n",
              "      <td>1200</td>\n",
              "      <td>0.177900</td>\n",
              "      <td>0.412796</td>\n",
              "      <td>0.408028</td>\n",
              "    </tr>\n",
              "    <tr>\n",
              "      <td>1600</td>\n",
              "      <td>0.122600</td>\n",
              "      <td>0.399832</td>\n",
              "      <td>0.394137</td>\n",
              "    </tr>\n",
              "    <tr>\n",
              "      <td>2000</td>\n",
              "      <td>0.092700</td>\n",
              "      <td>0.408412</td>\n",
              "      <td>0.371259</td>\n",
              "    </tr>\n",
              "    <tr>\n",
              "      <td>2400</td>\n",
              "      <td>0.073700</td>\n",
              "      <td>0.394867</td>\n",
              "      <td>0.351956</td>\n",
              "    </tr>\n",
              "    <tr>\n",
              "      <td>2800</td>\n",
              "      <td>0.058100</td>\n",
              "      <td>0.369830</td>\n",
              "      <td>0.331120</td>\n",
              "    </tr>\n",
              "    <tr>\n",
              "      <td>3200</td>\n",
              "      <td>0.045300</td>\n",
              "      <td>0.359626</td>\n",
              "      <td>0.324175</td>\n",
              "    </tr>\n",
              "  </tbody>\n",
              "</table><p>"
            ],
            "text/plain": [
              "<IPython.core.display.HTML object>"
            ]
          },
          "metadata": {},
          "output_type": "display_data"
        },
        {
          "name": "stderr",
          "output_type": "stream",
          "text": [
            "The following columns in the evaluation set  don't have a corresponding argument in `Wav2Vec2ForCTC.forward` and have been ignored: input_length.\n",
            "***** Running Evaluation *****\n",
            "  Num examples = 1647\n",
            "  Batch size = 8\n",
            "Saving model checkpoint to wav2vec2-large-xls-r-300m-turkish-colab/checkpoint-400\n",
            "Configuration saved in wav2vec2-large-xls-r-300m-turkish-colab/checkpoint-400/config.json\n",
            "Model weights saved in wav2vec2-large-xls-r-300m-turkish-colab/checkpoint-400/pytorch_model.bin\n",
            "Configuration saved in wav2vec2-large-xls-r-300m-turkish-colab/checkpoint-400/preprocessor_config.json\n",
            "Configuration saved in wav2vec2-large-xls-r-300m-turkish-colab/preprocessor_config.json\n",
            "/usr/local/lib/python3.7/dist-packages/transformers/models/wav2vec2/modeling_wav2vec2.py:882: UserWarning: __floordiv__ is deprecated, and its behavior will change in a future version of pytorch. It currently rounds toward 0 (like the 'trunc' function NOT 'floor'). This results in incorrect rounding for negative values. To keep the current behavior, use torch.div(a, b, rounding_mode='trunc'), or for actual floor division, use torch.div(a, b, rounding_mode='floor').\n",
            "  return (input_length - kernel_size) // stride + 1\n",
            "The following columns in the evaluation set  don't have a corresponding argument in `Wav2Vec2ForCTC.forward` and have been ignored: input_length.\n",
            "***** Running Evaluation *****\n",
            "  Num examples = 1647\n",
            "  Batch size = 8\n",
            "Saving model checkpoint to wav2vec2-large-xls-r-300m-turkish-colab/checkpoint-800\n",
            "Configuration saved in wav2vec2-large-xls-r-300m-turkish-colab/checkpoint-800/config.json\n",
            "Model weights saved in wav2vec2-large-xls-r-300m-turkish-colab/checkpoint-800/pytorch_model.bin\n",
            "Configuration saved in wav2vec2-large-xls-r-300m-turkish-colab/checkpoint-800/preprocessor_config.json\n",
            "/usr/local/lib/python3.7/dist-packages/transformers/models/wav2vec2/modeling_wav2vec2.py:882: UserWarning: __floordiv__ is deprecated, and its behavior will change in a future version of pytorch. It currently rounds toward 0 (like the 'trunc' function NOT 'floor'). This results in incorrect rounding for negative values. To keep the current behavior, use torch.div(a, b, rounding_mode='trunc'), or for actual floor division, use torch.div(a, b, rounding_mode='floor').\n",
            "  return (input_length - kernel_size) // stride + 1\n",
            "The following columns in the evaluation set  don't have a corresponding argument in `Wav2Vec2ForCTC.forward` and have been ignored: input_length.\n",
            "***** Running Evaluation *****\n",
            "  Num examples = 1647\n",
            "  Batch size = 8\n",
            "Saving model checkpoint to wav2vec2-large-xls-r-300m-turkish-colab/checkpoint-1200\n",
            "Configuration saved in wav2vec2-large-xls-r-300m-turkish-colab/checkpoint-1200/config.json\n",
            "Model weights saved in wav2vec2-large-xls-r-300m-turkish-colab/checkpoint-1200/pytorch_model.bin\n",
            "Configuration saved in wav2vec2-large-xls-r-300m-turkish-colab/checkpoint-1200/preprocessor_config.json\n",
            "Deleting older checkpoint [wav2vec2-large-xls-r-300m-turkish-colab/checkpoint-400] due to args.save_total_limit\n",
            "/usr/local/lib/python3.7/dist-packages/transformers/models/wav2vec2/modeling_wav2vec2.py:882: UserWarning: __floordiv__ is deprecated, and its behavior will change in a future version of pytorch. It currently rounds toward 0 (like the 'trunc' function NOT 'floor'). This results in incorrect rounding for negative values. To keep the current behavior, use torch.div(a, b, rounding_mode='trunc'), or for actual floor division, use torch.div(a, b, rounding_mode='floor').\n",
            "  return (input_length - kernel_size) // stride + 1\n",
            "The following columns in the evaluation set  don't have a corresponding argument in `Wav2Vec2ForCTC.forward` and have been ignored: input_length.\n",
            "***** Running Evaluation *****\n",
            "  Num examples = 1647\n",
            "  Batch size = 8\n",
            "Saving model checkpoint to wav2vec2-large-xls-r-300m-turkish-colab/checkpoint-1600\n",
            "Configuration saved in wav2vec2-large-xls-r-300m-turkish-colab/checkpoint-1600/config.json\n",
            "Model weights saved in wav2vec2-large-xls-r-300m-turkish-colab/checkpoint-1600/pytorch_model.bin\n",
            "Configuration saved in wav2vec2-large-xls-r-300m-turkish-colab/checkpoint-1600/preprocessor_config.json\n",
            "Deleting older checkpoint [wav2vec2-large-xls-r-300m-turkish-colab/checkpoint-800] due to args.save_total_limit\n",
            "/usr/local/lib/python3.7/dist-packages/transformers/models/wav2vec2/modeling_wav2vec2.py:882: UserWarning: __floordiv__ is deprecated, and its behavior will change in a future version of pytorch. It currently rounds toward 0 (like the 'trunc' function NOT 'floor'). This results in incorrect rounding for negative values. To keep the current behavior, use torch.div(a, b, rounding_mode='trunc'), or for actual floor division, use torch.div(a, b, rounding_mode='floor').\n",
            "  return (input_length - kernel_size) // stride + 1\n",
            "The following columns in the evaluation set  don't have a corresponding argument in `Wav2Vec2ForCTC.forward` and have been ignored: input_length.\n",
            "***** Running Evaluation *****\n",
            "  Num examples = 1647\n",
            "  Batch size = 8\n",
            "Saving model checkpoint to wav2vec2-large-xls-r-300m-turkish-colab/checkpoint-2000\n",
            "Configuration saved in wav2vec2-large-xls-r-300m-turkish-colab/checkpoint-2000/config.json\n",
            "Model weights saved in wav2vec2-large-xls-r-300m-turkish-colab/checkpoint-2000/pytorch_model.bin\n",
            "Configuration saved in wav2vec2-large-xls-r-300m-turkish-colab/checkpoint-2000/preprocessor_config.json\n",
            "Deleting older checkpoint [wav2vec2-large-xls-r-300m-turkish-colab/checkpoint-1200] due to args.save_total_limit\n",
            "/usr/local/lib/python3.7/dist-packages/transformers/models/wav2vec2/modeling_wav2vec2.py:882: UserWarning: __floordiv__ is deprecated, and its behavior will change in a future version of pytorch. It currently rounds toward 0 (like the 'trunc' function NOT 'floor'). This results in incorrect rounding for negative values. To keep the current behavior, use torch.div(a, b, rounding_mode='trunc'), or for actual floor division, use torch.div(a, b, rounding_mode='floor').\n",
            "  return (input_length - kernel_size) // stride + 1\n",
            "The following columns in the evaluation set  don't have a corresponding argument in `Wav2Vec2ForCTC.forward` and have been ignored: input_length.\n",
            "***** Running Evaluation *****\n",
            "  Num examples = 1647\n",
            "  Batch size = 8\n",
            "Saving model checkpoint to wav2vec2-large-xls-r-300m-turkish-colab/checkpoint-2400\n",
            "Configuration saved in wav2vec2-large-xls-r-300m-turkish-colab/checkpoint-2400/config.json\n",
            "Model weights saved in wav2vec2-large-xls-r-300m-turkish-colab/checkpoint-2400/pytorch_model.bin\n",
            "Configuration saved in wav2vec2-large-xls-r-300m-turkish-colab/checkpoint-2400/preprocessor_config.json\n",
            "Deleting older checkpoint [wav2vec2-large-xls-r-300m-turkish-colab/checkpoint-1600] due to args.save_total_limit\n",
            "/usr/local/lib/python3.7/dist-packages/transformers/models/wav2vec2/modeling_wav2vec2.py:882: UserWarning: __floordiv__ is deprecated, and its behavior will change in a future version of pytorch. It currently rounds toward 0 (like the 'trunc' function NOT 'floor'). This results in incorrect rounding for negative values. To keep the current behavior, use torch.div(a, b, rounding_mode='trunc'), or for actual floor division, use torch.div(a, b, rounding_mode='floor').\n",
            "  return (input_length - kernel_size) // stride + 1\n",
            "The following columns in the evaluation set  don't have a corresponding argument in `Wav2Vec2ForCTC.forward` and have been ignored: input_length.\n",
            "***** Running Evaluation *****\n",
            "  Num examples = 1647\n",
            "  Batch size = 8\n",
            "Saving model checkpoint to wav2vec2-large-xls-r-300m-turkish-colab/checkpoint-2800\n",
            "Configuration saved in wav2vec2-large-xls-r-300m-turkish-colab/checkpoint-2800/config.json\n",
            "Model weights saved in wav2vec2-large-xls-r-300m-turkish-colab/checkpoint-2800/pytorch_model.bin\n",
            "Configuration saved in wav2vec2-large-xls-r-300m-turkish-colab/checkpoint-2800/preprocessor_config.json\n",
            "Deleting older checkpoint [wav2vec2-large-xls-r-300m-turkish-colab/checkpoint-2000] due to args.save_total_limit\n",
            "/usr/local/lib/python3.7/dist-packages/transformers/models/wav2vec2/modeling_wav2vec2.py:882: UserWarning: __floordiv__ is deprecated, and its behavior will change in a future version of pytorch. It currently rounds toward 0 (like the 'trunc' function NOT 'floor'). This results in incorrect rounding for negative values. To keep the current behavior, use torch.div(a, b, rounding_mode='trunc'), or for actual floor division, use torch.div(a, b, rounding_mode='floor').\n",
            "  return (input_length - kernel_size) // stride + 1\n",
            "The following columns in the evaluation set  don't have a corresponding argument in `Wav2Vec2ForCTC.forward` and have been ignored: input_length.\n",
            "***** Running Evaluation *****\n",
            "  Num examples = 1647\n",
            "  Batch size = 8\n",
            "Saving model checkpoint to wav2vec2-large-xls-r-300m-turkish-colab/checkpoint-3200\n",
            "Configuration saved in wav2vec2-large-xls-r-300m-turkish-colab/checkpoint-3200/config.json\n",
            "Model weights saved in wav2vec2-large-xls-r-300m-turkish-colab/checkpoint-3200/pytorch_model.bin\n",
            "Configuration saved in wav2vec2-large-xls-r-300m-turkish-colab/checkpoint-3200/preprocessor_config.json\n",
            "Deleting older checkpoint [wav2vec2-large-xls-r-300m-turkish-colab/checkpoint-2400] due to args.save_total_limit\n",
            "/usr/local/lib/python3.7/dist-packages/transformers/models/wav2vec2/modeling_wav2vec2.py:882: UserWarning: __floordiv__ is deprecated, and its behavior will change in a future version of pytorch. It currently rounds toward 0 (like the 'trunc' function NOT 'floor'). This results in incorrect rounding for negative values. To keep the current behavior, use torch.div(a, b, rounding_mode='trunc'), or for actual floor division, use torch.div(a, b, rounding_mode='floor').\n",
            "  return (input_length - kernel_size) // stride + 1\n",
            "\n",
            "\n",
            "Training completed. Do not forget to share your model on huggingface.co/models =)\n",
            "\n",
            "\n"
          ]
        },
        {
          "data": {
            "text/plain": [
              "TrainOutput(global_step=3270, training_loss=0.5767540113641582, metrics={'train_runtime': 16918.4457, 'train_samples_per_second': 6.167, 'train_steps_per_second': 0.193, 'total_flos': 1.2873093995838829e+19, 'train_loss': 0.5767540113641582, 'epoch': 30.0})"
            ]
          },
          "execution_count": null,
          "metadata": {},
          "output_type": "execute_result"
        }
      ],
      "source": [
        "trainer.train()"
      ]
    },
    {
      "cell_type": "markdown",
      "metadata": {
        "id": "a9q4mgMZplr_"
      },
      "source": [
        "The training loss and validation WER go down nicely."
      ]
    },
    {
      "cell_type": "markdown",
      "metadata": {
        "id": "4Ya7WEy0pd13"
      },
      "source": [
        "You can now upload the result of the training to the 🤗 Hub, just execute this instruction:"
      ]
    },
    {
      "cell_type": "code",
      "execution_count": null,
      "metadata": {
        "colab": {
          "background_save": true,
          "referenced_widgets": [
            "2d2f71d2c70d466cb9a0d3317fb3095e",
            "2e894a5b95cb489db8b27c6617fd9533"
          ]
        },
        "id": "ArG1Thf6NBWm",
        "outputId": "62ef1c3d-786c-4e25-f9c5-4020e71aa298"
      },
      "outputs": [
        {
          "name": "stderr",
          "output_type": "stream",
          "text": [
            "Saving model checkpoint to wav2vec2-large-xls-r-300m-turkish-colab\n",
            "Configuration saved in wav2vec2-large-xls-r-300m-turkish-colab/config.json\n",
            "Model weights saved in wav2vec2-large-xls-r-300m-turkish-colab/pytorch_model.bin\n",
            "Configuration saved in wav2vec2-large-xls-r-300m-turkish-colab/preprocessor_config.json\n",
            "Several commits (2) will be pushed upstream.\n",
            "The progress bars may be unreliable.\n"
          ]
        },
        {
          "data": {
            "application/vnd.jupyter.widget-view+json": {
              "model_id": "2d2f71d2c70d466cb9a0d3317fb3095e",
              "version_major": 2,
              "version_minor": 0
            },
            "text/plain": [
              "Upload file pytorch_model.bin:   0%|          | 3.35k/1.18G [00:00<?, ?B/s]"
            ]
          },
          "metadata": {},
          "output_type": "display_data"
        },
        {
          "data": {
            "application/vnd.jupyter.widget-view+json": {
              "model_id": "2e894a5b95cb489db8b27c6617fd9533",
              "version_major": 2,
              "version_minor": 0
            },
            "text/plain": [
              "Upload file runs/Nov12_14-33-48_c2d4142f9305/events.out.tfevents.1636727730.c2d4142f9305.1468.0:  41%|####1   …"
            ]
          },
          "metadata": {},
          "output_type": "display_data"
        },
        {
          "name": "stderr",
          "output_type": "stream",
          "text": [
            "To https://huggingface.co/patrickvonplaten/wav2vec2-large-xls-r-300m-turkish-colab\n",
            "   56ebe74..fe76946  main -> main\n",
            "\n",
            "Dropping the following result as it does not have all the necessary field:\n",
            "{'dataset': {'name': 'common_voice', 'type': 'common_voice', 'args': 'tr'}}\n",
            "To https://huggingface.co/patrickvonplaten/wav2vec2-large-xls-r-300m-turkish-colab\n",
            "   fe76946..5f0d67b  main -> main\n",
            "\n"
          ]
        },
        {
          "data": {
            "application/vnd.google.colaboratory.intrinsic+json": {
              "type": "string"
            },
            "text/plain": [
              "'https://huggingface.co/patrickvonplaten/wav2vec2-large-xls-r-300m-turkish-colab/commit/fe769461e4e2fb9534740e6c278a0cfabf268474'"
            ]
          },
          "execution_count": null,
          "metadata": {},
          "output_type": "execute_result"
        }
      ],
      "source": [
        "trainer.push_to_hub()"
      ]
    },
    {
      "cell_type": "markdown",
      "metadata": {
        "id": "RHIVc44_fY2N"
      },
      "source": [
        "You can now share this model with all your friends, family, favorite pets: they can all load it with the identifier \"your-username/the-name-you-picked\" so for instance:"
      ]
    },
    {
      "cell_type": "markdown",
      "metadata": {
        "id": "5lWWIKyBpx1h"
      },
      "source": [
        "```python\n",
        "from transformers import AutoModelForCTC, Wav2Vec2Processor\n",
        "\n",
        "model = AutoModelForCTC.from_pretrained(\"patrickvonplaten/wav2vec2-large-xls-r-300m-tr-colab\")\n",
        "processor = Wav2Vec2Processor.from_pretrained(\"patrickvonplaten/wav2vec2-large-xls-r-300m-tr-colab\")\n",
        "```"
      ]
    },
    {
      "cell_type": "markdown",
      "metadata": {
        "id": "pmi1cX0fRBit"
      },
      "source": [
        "For more examples of how XLS-R can be fine-tuned, please take a look at the [official speech recognition examples](https://github.com/huggingface/transformers/tree/master/examples/pytorch/speech-recognition#examples)."
      ]
    },
    {
      "cell_type": "markdown",
      "metadata": {
        "id": "L8b8Qkoy3KyS"
      },
      "source": [
        "### Evaluation\n",
        "\n",
        "As a final check, let's load the model and verify that it indeed has learned to transcribe Turkish speech.\n",
        "\n",
        "Let's first load the pretrained checkpoint."
      ]
    },
    {
      "cell_type": "code",
      "execution_count": null,
      "metadata": {
        "colab": {
          "background_save": true
        },
        "id": "R351I9IQp_9D",
        "outputId": "f2a2ee99-7db6-4962-e140-0107054102d3"
      },
      "outputs": [
        {
          "name": "stderr",
          "output_type": "stream",
          "text": [
            "loading configuration file wav2vec2-large-xls-r-300m-turkish-colab/config.json\n",
            "Model config Wav2Vec2Config {\n",
            "  \"_name_or_path\": \"facebook/wav2vec2-xls-r-300m\",\n",
            "  \"activation_dropout\": 0.0,\n",
            "  \"apply_spec_augment\": true,\n",
            "  \"architectures\": [\n",
            "    \"Wav2Vec2ForCTC\"\n",
            "  ],\n",
            "  \"attention_dropout\": 0.0,\n",
            "  \"bos_token_id\": 1,\n",
            "  \"classifier_proj_size\": 256,\n",
            "  \"codevector_dim\": 768,\n",
            "  \"contrastive_logits_temperature\": 0.1,\n",
            "  \"conv_bias\": true,\n",
            "  \"conv_dim\": [\n",
            "    512,\n",
            "    512,\n",
            "    512,\n",
            "    512,\n",
            "    512,\n",
            "    512,\n",
            "    512\n",
            "  ],\n",
            "  \"conv_kernel\": [\n",
            "    10,\n",
            "    3,\n",
            "    3,\n",
            "    3,\n",
            "    3,\n",
            "    2,\n",
            "    2\n",
            "  ],\n",
            "  \"conv_stride\": [\n",
            "    5,\n",
            "    2,\n",
            "    2,\n",
            "    2,\n",
            "    2,\n",
            "    2,\n",
            "    2\n",
            "  ],\n",
            "  \"ctc_loss_reduction\": \"mean\",\n",
            "  \"ctc_zero_infinity\": false,\n",
            "  \"diversity_loss_weight\": 0.1,\n",
            "  \"do_stable_layer_norm\": true,\n",
            "  \"eos_token_id\": 2,\n",
            "  \"feat_extract_activation\": \"gelu\",\n",
            "  \"feat_extract_dropout\": 0.0,\n",
            "  \"feat_extract_norm\": \"layer\",\n",
            "  \"feat_proj_dropout\": 0.0,\n",
            "  \"feat_quantizer_dropout\": 0.0,\n",
            "  \"final_dropout\": 0.0,\n",
            "  \"gradient_checkpointing\": false,\n",
            "  \"hidden_act\": \"gelu\",\n",
            "  \"hidden_dropout\": 0.0,\n",
            "  \"hidden_size\": 1024,\n",
            "  \"initializer_range\": 0.02,\n",
            "  \"intermediate_size\": 4096,\n",
            "  \"layer_norm_eps\": 1e-05,\n",
            "  \"layerdrop\": 0.0,\n",
            "  \"mask_feature_length\": 10,\n",
            "  \"mask_feature_prob\": 0.0,\n",
            "  \"mask_time_length\": 10,\n",
            "  \"mask_time_prob\": 0.05,\n",
            "  \"model_type\": \"wav2vec2\",\n",
            "  \"num_attention_heads\": 16,\n",
            "  \"num_codevector_groups\": 2,\n",
            "  \"num_codevectors_per_group\": 320,\n",
            "  \"num_conv_pos_embedding_groups\": 16,\n",
            "  \"num_conv_pos_embeddings\": 128,\n",
            "  \"num_feat_extract_layers\": 7,\n",
            "  \"num_hidden_layers\": 24,\n",
            "  \"num_negatives\": 100,\n",
            "  \"pad_token_id\": 36,\n",
            "  \"proj_codevector_dim\": 768,\n",
            "  \"torch_dtype\": \"float32\",\n",
            "  \"transformers_version\": \"4.11.3\",\n",
            "  \"use_weighted_layer_sum\": false,\n",
            "  \"vocab_size\": 39\n",
            "}\n",
            "\n",
            "loading weights file wav2vec2-large-xls-r-300m-turkish-colab/pytorch_model.bin\n",
            "All model checkpoint weights were used when initializing Wav2Vec2ForCTC.\n",
            "\n",
            "All the weights of Wav2Vec2ForCTC were initialized from the model checkpoint at wav2vec2-large-xls-r-300m-turkish-colab.\n",
            "If your task is similar to the task the model of the checkpoint was trained on, you can already use Wav2Vec2ForCTC for predictions without further training.\n",
            "loading feature extractor configuration file wav2vec2-large-xls-r-300m-turkish-colab/preprocessor_config.json\n",
            "Feature extractor Wav2Vec2FeatureExtractor {\n",
            "  \"do_normalize\": true,\n",
            "  \"feature_extractor_type\": \"Wav2Vec2FeatureExtractor\",\n",
            "  \"feature_size\": 1,\n",
            "  \"padding_side\": \"right\",\n",
            "  \"padding_value\": 0.0,\n",
            "  \"return_attention_mask\": true,\n",
            "  \"sampling_rate\": 16000\n",
            "}\n",
            "\n",
            "Didn't find file wav2vec2-large-xls-r-300m-turkish-colab/tokenizer.json. We won't load it.\n",
            "loading file wav2vec2-large-xls-r-300m-turkish-colab/vocab.json\n",
            "loading file wav2vec2-large-xls-r-300m-turkish-colab/tokenizer_config.json\n",
            "loading file wav2vec2-large-xls-r-300m-turkish-colab/added_tokens.json\n",
            "loading file wav2vec2-large-xls-r-300m-turkish-colab/special_tokens_map.json\n",
            "loading file None\n",
            "Adding <s> to the vocabulary\n",
            "Adding </s> to the vocabulary\n"
          ]
        }
      ],
      "source": [
        "model = Wav2Vec2ForCTC.from_pretrained(repo_name).to(\"cuda\")\n",
        "processor = Wav2Vec2Processor.from_pretrained(repo_name)"
      ]
    },
    {
      "cell_type": "code",
      "execution_count": 99,
      "metadata": {},
      "outputs": [
        {
          "data": {
            "text/plain": [
              "Wav2Vec2ForCTC(\n",
              "  (wav2vec2): Wav2Vec2Model(\n",
              "    (feature_extractor): Wav2Vec2FeatureEncoder(\n",
              "      (conv_layers): ModuleList(\n",
              "        (0): Wav2Vec2LayerNormConvLayer(\n",
              "          (conv): Conv1d(1, 512, kernel_size=(10,), stride=(5,))\n",
              "          (layer_norm): LayerNorm((512,), eps=1e-05, elementwise_affine=True)\n",
              "          (activation): GELUActivation()\n",
              "        )\n",
              "        (1-4): 4 x Wav2Vec2LayerNormConvLayer(\n",
              "          (conv): Conv1d(512, 512, kernel_size=(3,), stride=(2,))\n",
              "          (layer_norm): LayerNorm((512,), eps=1e-05, elementwise_affine=True)\n",
              "          (activation): GELUActivation()\n",
              "        )\n",
              "        (5-6): 2 x Wav2Vec2LayerNormConvLayer(\n",
              "          (conv): Conv1d(512, 512, kernel_size=(2,), stride=(2,))\n",
              "          (layer_norm): LayerNorm((512,), eps=1e-05, elementwise_affine=True)\n",
              "          (activation): GELUActivation()\n",
              "        )\n",
              "      )\n",
              "    )\n",
              "    (feature_projection): Wav2Vec2FeatureProjection(\n",
              "      (layer_norm): LayerNorm((512,), eps=1e-05, elementwise_affine=True)\n",
              "      (projection): Linear(in_features=512, out_features=1024, bias=True)\n",
              "      (dropout): Dropout(p=0.1, inplace=False)\n",
              "    )\n",
              "    (encoder): Wav2Vec2EncoderStableLayerNorm(\n",
              "      (pos_conv_embed): Wav2Vec2PositionalConvEmbedding(\n",
              "        (conv): ParametrizedConv1d(\n",
              "          1024, 1024, kernel_size=(128,), stride=(1,), padding=(64,), groups=16\n",
              "          (parametrizations): ModuleDict(\n",
              "            (weight): ParametrizationList(\n",
              "              (0): _WeightNorm()\n",
              "            )\n",
              "          )\n",
              "        )\n",
              "        (padding): Wav2Vec2SamePadLayer()\n",
              "        (activation): GELUActivation()\n",
              "      )\n",
              "      (layer_norm): LayerNorm((1024,), eps=1e-05, elementwise_affine=True)\n",
              "      (dropout): Dropout(p=0.1, inplace=False)\n",
              "      (layers): ModuleList(\n",
              "        (0-23): 24 x Wav2Vec2EncoderLayerStableLayerNorm(\n",
              "          (attention): Wav2Vec2Attention(\n",
              "            (k_proj): Linear(in_features=1024, out_features=1024, bias=True)\n",
              "            (v_proj): Linear(in_features=1024, out_features=1024, bias=True)\n",
              "            (q_proj): Linear(in_features=1024, out_features=1024, bias=True)\n",
              "            (out_proj): Linear(in_features=1024, out_features=1024, bias=True)\n",
              "          )\n",
              "          (dropout): Dropout(p=0.1, inplace=False)\n",
              "          (layer_norm): LayerNorm((1024,), eps=1e-05, elementwise_affine=True)\n",
              "          (feed_forward): Wav2Vec2FeedForward(\n",
              "            (intermediate_dropout): Dropout(p=0.0, inplace=False)\n",
              "            (intermediate_dense): Linear(in_features=1024, out_features=4096, bias=True)\n",
              "            (intermediate_act_fn): GELUActivation()\n",
              "            (output_dense): Linear(in_features=4096, out_features=1024, bias=True)\n",
              "            (output_dropout): Dropout(p=0.1, inplace=False)\n",
              "          )\n",
              "          (final_layer_norm): LayerNorm((1024,), eps=1e-05, elementwise_affine=True)\n",
              "        )\n",
              "      )\n",
              "    )\n",
              "  )\n",
              "  (dropout): Dropout(p=0.0, inplace=False)\n",
              "  (lm_head): Linear(in_features=1024, out_features=33, bias=True)\n",
              ")"
            ]
          },
          "execution_count": 99,
          "metadata": {},
          "output_type": "execute_result"
        }
      ],
      "source": [
        "model"
      ]
    },
    {
      "cell_type": "code",
      "execution_count": 100,
      "metadata": {},
      "outputs": [
        {
          "data": {
            "text/plain": [
              "Wav2Vec2Processor:\n",
              "- feature_extractor: Wav2Vec2FeatureExtractor {\n",
              "  \"do_normalize\": true,\n",
              "  \"feature_extractor_type\": \"Wav2Vec2FeatureExtractor\",\n",
              "  \"feature_size\": 1,\n",
              "  \"padding_side\": \"right\",\n",
              "  \"padding_value\": 0.0,\n",
              "  \"return_attention_mask\": true,\n",
              "  \"sampling_rate\": 16000\n",
              "}\n",
              "\n",
              "- tokenizer: Wav2Vec2CTCTokenizer(name_or_path='./', vocab_size=31, model_max_length=1000000000000000019884624838656, is_fast=False, padding_side='right', truncation_side='right', special_tokens={'bos_token': '<s>', 'eos_token': '</s>', 'unk_token': '[UNK]', 'pad_token': '[PAD]', 'additional_special_tokens': [AddedToken(\"<s>\", rstrip=False, lstrip=False, single_word=False, normalized=True), AddedToken(\"</s>\", rstrip=False, lstrip=False, single_word=False, normalized=True)]}, clean_up_tokenization_spaces=True)"
            ]
          },
          "execution_count": 100,
          "metadata": {},
          "output_type": "execute_result"
        }
      ],
      "source": [
        "processor"
      ]
    },
    {
      "cell_type": "code",
      "execution_count": 101,
      "metadata": {},
      "outputs": [
        {
          "data": {
            "text/plain": [
              "{'input_values': [1.9871007680194452e-05,\n",
              "  1.9876821170328185e-05,\n",
              "  1.987294490390923e-05,\n",
              "  1.9871007680194452e-05,\n",
              "  1.98671332327649e-05,\n",
              "  1.9851631805067882e-05,\n",
              "  1.9876821170328185e-05,\n",
              "  1.987488394661341e-05,\n",
              "  1.9865196009050123e-05,\n",
              "  1.984678783628624e-05,\n",
              "  1.9871007680194452e-05,\n",
              "  1.9868100935127586e-05,\n",
              "  1.987294490390923e-05,\n",
              "  1.987294490390923e-05,\n",
              "  1.9863256966345944e-05,\n",
              "  1.9876821170328185e-05,\n",
              "  1.98923207790358e-05,\n",
              "  1.985938251891639e-05,\n",
              "  1.987294490390923e-05,\n",
              "  1.9876821170328185e-05,\n",
              "  1.9900071492884308e-05,\n",
              "  1.9869070456479676e-05,\n",
              "  1.9888446331606247e-05,\n",
              "  1.9898134269169532e-05,\n",
              "  1.9894258002750576e-05,\n",
              "  1.9882632841472514e-05,\n",
              "  1.988650910789147e-05,\n",
              "  1.989329030038789e-05,\n",
              "  1.9906852685380727e-05,\n",
              "  1.9891836927854456e-05,\n",
              "  1.9888446331606247e-05,\n",
              "  1.9891353076673113e-05,\n",
              "  1.9891353076673113e-05,\n",
              "  1.9897164747817442e-05,\n",
              "  1.9908789909095503e-05,\n",
              "  1.9907822206732817e-05,\n",
              "  1.9899101971532218e-05,\n",
              "  1.9884571884176694e-05,\n",
              "  1.9891353076673113e-05,\n",
              "  1.988117946893908e-05,\n",
              "  1.9897164747817442e-05,\n",
              "  1.9876821170328185e-05,\n",
              "  1.9880695617757738e-05,\n",
              "  1.9901041014236398e-05,\n",
              "  1.9904431610484608e-05,\n",
              "  1.9884571884176694e-05,\n",
              "  1.9882632841472514e-05,\n",
              "  1.991169665416237e-05,\n",
              "  1.9903462089132518e-05,\n",
              "  1.9838553271256387e-05,\n",
              "  1.9856475773849525e-05,\n",
              "  1.9942697690567002e-05,\n",
              "  1.9945362510043196e-05,\n",
              "  1.9861805412801914e-05,\n",
              "  1.990455166378524e-05,\n",
              "  1.996425271499902e-05,\n",
              "  2.0007606508443132e-05,\n",
              "  1.996885475818999e-05,\n",
              "  1.9871007680194452e-05,\n",
              "  1.9914603399229236e-05,\n",
              "  2.005895112233702e-05,\n",
              "  2.0026012862217613e-05,\n",
              "  1.982160029001534e-05,\n",
              "  1.9761535440920852e-05,\n",
              "  1.9971277652075514e-05,\n",
              "  2.0034247427247465e-05,\n",
              "  1.9838553271256387e-05,\n",
              "  1.990491546166595e-05,\n",
              "  1.992332181544043e-05,\n",
              "  1.984872687899042e-05,\n",
              "  1.9709221305674873e-05,\n",
              "  1.971212805074174e-05,\n",
              "  1.9805131159955636e-05,\n",
              "  1.965981391549576e-05,\n",
              "  1.9630750102805905e-05,\n",
              "  1.9772192899836227e-05,\n",
              "  1.9915572920581326e-05,\n",
              "  1.9845820133923553e-05,\n",
              "  1.9644312487798743e-05,\n",
              "  2.0097702872590162e-05,\n",
              "  2.0097702872590162e-05,\n",
              "  1.947380769706797e-05,\n",
              "  1.958618486241903e-05,\n",
              "  2.0427089111763053e-05,\n",
              "  2.053171738225501e-05,\n",
              "  1.978381806111429e-05,\n",
              "  1.993107252928894e-05,\n",
              "  2.0399964341777377e-05,\n",
              "  2.0446464986889623e-05,\n",
              "  2.0310835679993033e-05,\n",
              "  1.9721815988305025e-05,\n",
              "  1.9690814951900393e-05,\n",
              "  2.0833978851442225e-05,\n",
              "  2.0783601939911023e-05,\n",
              "  1.9249049728387035e-05,\n",
              "  1.8962289686896838e-05,\n",
              "  2.0795227101189084e-05,\n",
              "  2.0303084966144525e-05,\n",
              "  1.850114858825691e-05,\n",
              "  1.913667074404657e-05,\n",
              "  1.9996949049527757e-05,\n",
              "  1.9857445295201614e-05,\n",
              "  1.8342268958804198e-05,\n",
              "  1.8361643014941365e-05,\n",
              "  1.9686938685481437e-05,\n",
              "  1.847402199928183e-05,\n",
              "  1.8388769603916444e-05,\n",
              "  1.9380804587854072e-05,\n",
              "  2.0946357835782692e-05,\n",
              "  2.0795227101189084e-05,\n",
              "  1.9314926248625852e-05,\n",
              "  2.2469284886028618e-05,\n",
              "  2.1996518626110628e-05,\n",
              "  1.7817186744650826e-05,\n",
              "  1.9289738702354953e-05,\n",
              "  2.4409757315879688e-05,\n",
              "  2.5827086574281566e-05,\n",
              "  2.0360728740342893e-05,\n",
              "  1.7913096598931588e-05,\n",
              "  2.296191087225452e-05,\n",
              "  2.451632281008642e-05,\n",
              "  2.3583384972880594e-05,\n",
              "  2.0107390810153447e-05,\n",
              "  1.6908468751353212e-05,\n",
              "  2.3798455003998242e-05,\n",
              "  2.5848399673122913e-05,\n",
              "  1.5517296560574323e-05,\n",
              "  1.3986618796479888e-05,\n",
              "  2.4840866899467073e-05,\n",
              "  2.367057641095016e-05,\n",
              "  1.415324913978111e-05,\n",
              "  2.0097702872590162e-05,\n",
              "  2.2484784494736232e-05,\n",
              "  1.595131107023917e-05,\n",
              "  1.086713655240601e-05,\n",
              "  1.1324402294121683e-05,\n",
              "  1.9097918993793428e-05,\n",
              "  9.549591595714446e-06,\n",
              "  8.425802661804482e-06,\n",
              "  2.3352815333055332e-05,\n",
              "  2.0756475350935943e-05,\n",
              "  8.185545084415935e-06,\n",
              "  -8.125139743242471e-07,\n",
              "  2.2329779312713072e-05,\n",
              "  3.761330299312249e-05,\n",
              "  8.47230421641143e-06,\n",
              "  7.4415193012100644e-06,\n",
              "  3.100232788710855e-05,\n",
              "  2.2942051145946607e-05,\n",
              "  7.798031219863333e-06,\n",
              "  1.8121385437552817e-05,\n",
              "  1.7144851881312206e-05,\n",
              "  1.3982743439555634e-05,\n",
              "  2.5484137950115837e-05,\n",
              "  1.7158414266305044e-05,\n",
              "  2.891750591516029e-05,\n",
              "  5.074225555290468e-05,\n",
              "  4.6611363359261304e-05,\n",
              "  2.985528772114776e-05,\n",
              "  2.355432116019074e-05,\n",
              "  5.1604471082100645e-05,\n",
              "  3.712503894348629e-05,\n",
              "  1.2227308616274968e-05,\n",
              "  3.568542524590157e-05,\n",
              "  4.744839316117577e-05,\n",
              "  4.5956465328345075e-05,\n",
              "  1.4688017472508363e-05,\n",
              "  1.7456799469073303e-05,\n",
              "  4.966012420482002e-05,\n",
              "  1.980319393624086e-05,\n",
              "  1.0340118933527265e-05,\n",
              "  3.203892629244365e-05,\n",
              "  4.700953286373988e-05,\n",
              "  4.2205338104395196e-05,\n",
              "  1.2747545042657293e-05,\n",
              "  2.7909971322515048e-05,\n",
              "  6.181060598464683e-05,\n",
              "  6.123998900875449e-05,\n",
              "  5.936539309914224e-05,\n",
              "  5.2315557695692405e-05,\n",
              "  9.021604455483612e-06,\n",
              "  4.786568752024323e-06,\n",
              "  4.4417796743800864e-05,\n",
              "  7.418317545671016e-05,\n",
              "  9.649885760154575e-05,\n",
              "  1.1324887054797728e-05,\n",
              "  -6.430802022805437e-05,\n",
              "  -1.277408046007622e-05,\n",
              "  2.7985051929135807e-05,\n",
              "  6.851894431747496e-05,\n",
              "  6.860709981992841e-05,\n",
              "  5.1538110710680485e-05,\n",
              "  0.00010720833233790472,\n",
              "  0.00013327774649951607,\n",
              "  9.344815771328285e-05,\n",
              "  3.0714600143255666e-05,\n",
              "  4.68138387077488e-05,\n",
              "  9.026376937981695e-05,\n",
              "  7.373632251983508e-05,\n",
              "  8.332727884408087e-05,\n",
              "  6.261081580305472e-05,\n",
              "  1.3757016859017313e-05,\n",
              "  1.3110354302625638e-05,\n",
              "  2.8501171982497908e-05,\n",
              "  5.090186095912941e-05,\n",
              "  8.768340921960771e-05,\n",
              "  9.199268242809922e-05,\n",
              "  4.024306690553203e-05,\n",
              "  6.727525942551438e-06,\n",
              "  -3.2076117349788547e-05,\n",
              "  -2.2275906303548254e-05,\n",
              "  4.821470065508038e-05,\n",
              "  2.2980802896199748e-05,\n",
              "  -3.904870027326979e-06,\n",
              "  -7.944696335471235e-06,\n",
              "  -2.5438983357162215e-05,\n",
              "  -2.011842661886476e-05,\n",
              "  4.3762888708442915e-06,\n",
              "  6.603740621358156e-05,\n",
              "  5.1895105571020395e-05,\n",
              "  6.939908053027466e-05,\n",
              "  0.00010175644274568185,\n",
              "  6.367857849909342e-07,\n",
              "  3.413730883039534e-05,\n",
              "  0.00010764082981040701,\n",
              "  2.8390488296281546e-05,\n",
              "  9.479838809056673e-06,\n",
              "  5.0040856876876205e-05,\n",
              "  2.0664600697273272e-07,\n",
              "  -4.448526306077838e-05,\n",
              "  -1.8516058844397776e-05,\n",
              "  -7.705381722189486e-05,\n",
              "  -9.171344572678208e-05,\n",
              "  -3.200345963705331e-05,\n",
              "  -7.915026071714237e-05,\n",
              "  -3.549689063220285e-05,\n",
              "  8.535106462659314e-05,\n",
              "  6.526819197461009e-05,\n",
              "  1.6288197457470233e-06,\n",
              "  4.7497800551354885e-05,\n",
              "  7.948411803226918e-05,\n",
              "  1.5076499948918354e-05,\n",
              "  1.340244216407882e-05,\n",
              "  -3.144931542919949e-05,\n",
              "  -9.690708975540474e-05,\n",
              "  -4.627060843631625e-05,\n",
              "  7.347062819462735e-06,\n",
              "  4.980641097063199e-05,\n",
              "  1.193473599414574e-05,\n",
              "  1.2238683666510042e-06,\n",
              "  6.0076479712734e-05,\n",
              "  3.249134897487238e-05,\n",
              "  6.907841452630237e-05,\n",
              "  0.0001405058428645134,\n",
              "  9.761974069988355e-05,\n",
              "  2.6075096684508026e-05,\n",
              "  4.626260124496184e-05,\n",
              "  4.071728471899405e-05,\n",
              "  -3.990485492977314e-05,\n",
              "  3.1300711270887405e-05,\n",
              "  5.956205859547481e-05,\n",
              "  -4.925167377223261e-05,\n",
              "  -4.762024400406517e-05,\n",
              "  7.108257705112919e-06,\n",
              "  3.924085831386037e-05,\n",
              "  5.567530024563894e-05,\n",
              "  3.9025788282742724e-05,\n",
              "  -4.816276486963034e-05,\n",
              "  -4.18036688643042e-05,\n",
              "  5.279607648844831e-05,\n",
              "  -2.66790266323369e-05,\n",
              "  -5.9788162616314366e-05,\n",
              "  -2.951587248389842e-06,\n",
              "  -4.700603676610626e-05,\n",
              "  -5.6378044973826036e-05,\n",
              "  4.136055940762162e-05,\n",
              "  0.00011073318455601111,\n",
              "  6.432459485949948e-05,\n",
              "  8.957883983384818e-05,\n",
              "  9.793168283067644e-05,\n",
              "  2.6412231818540022e-05,\n",
              "  8.415171032538638e-05,\n",
              "  0.00012365869770292193,\n",
              "  0.00011273372365394607,\n",
              "  2.7899313863599673e-05,\n",
              "  -7.730860670562834e-05,\n",
              "  -4.4060936488676816e-05,\n",
              "  -5.367223275243305e-05,\n",
              "  -2.4927465346991085e-05,\n",
              "  5.2860013965982944e-05,\n",
              "  4.886837814410683e-06,\n",
              "  -1.5558363884338178e-05,\n",
              "  0.00011304276995360851,\n",
              "  0.00017065728025045246,\n",
              "  3.5502325772540644e-05,\n",
              "  2.9845599783584476e-05,\n",
              "  3.617272523115389e-05,\n",
              "  -9.552463598083705e-05,\n",
              "  -7.25596328265965e-05,\n",
              "  -6.51368172839284e-05,\n",
              "  -0.0001349289232166484,\n",
              "  -8.54512327350676e-05,\n",
              "  -6.279526860453188e-05,\n",
              "  -0.00014533752982970327,\n",
              "  -7.128955621737987e-05,\n",
              "  4.306561459088698e-05,\n",
              "  -9.463916649110615e-05,\n",
              "  -8.222711767302826e-05,\n",
              "  4.128693035454489e-05,\n",
              "  1.468414302507881e-05,\n",
              "  8.613771933596581e-05,\n",
              "  0.00010686193127185106,\n",
              "  4.0035261918092147e-05,\n",
              "  -6.4295190895791166e-06,\n",
              "  -3.327450394863263e-05,\n",
              "  -3.563252175808884e-05,\n",
              "  -7.081679359544069e-05,\n",
              "  3.5964185371994972e-06,\n",
              "  1.6259384210570715e-05,\n",
              "  -9.647016850067303e-05,\n",
              "  -0.00014712590200360864,\n",
              "  -0.0002009979943977669,\n",
              "  -0.0001522023230791092,\n",
              "  -3.272616959293373e-05,\n",
              "  3.016117261722684e-06,\n",
              "  -1.8285489204572514e-05,\n",
              "  -5.8145105867879465e-05,\n",
              "  -0.00013564775872509927,\n",
              "  -0.00017560424748808146,\n",
              "  -9.55207651713863e-05,\n",
              "  -6.903810572111979e-05,\n",
              "  -6.749217391188722e-06,\n",
              "  4.1015671740751714e-05,\n",
              "  -0.00010957974154734984,\n",
              "  -0.00016098725609481335,\n",
              "  -2.865146961994469e-05,\n",
              "  0.0001190686016343534,\n",
              "  9.519777813693509e-05,\n",
              "  5.276507363305427e-05,\n",
              "  0.0001434896985301748,\n",
              "  0.00015988925588317215,\n",
              "  0.0001849381224019453,\n",
              "  4.930433078698115e-06,\n",
              "  -0.00024109399237204343,\n",
              "  -0.00010016317537520081,\n",
              "  4.701437501353212e-05,\n",
              "  0.00011809981515398249,\n",
              "  0.0001119306034524925,\n",
              "  -4.3601732613751665e-05,\n",
              "  -7.019289478193969e-05,\n",
              "  -1.5638772310921922e-05,\n",
              "  3.049080987693742e-05,\n",
              "  0.00010139024379896,\n",
              "  9.295795462094247e-05,\n",
              "  -2.1451471184263937e-05,\n",
              "  -3.8223046431085095e-05,\n",
              "  3.557498348527588e-05,\n",
              "  5.622169192065485e-05,\n",
              "  2.2167023416841403e-05,\n",
              "  -6.503897020593286e-05,\n",
              "  -7.2684852057136595e-06,\n",
              "  4.707637708634138e-05,\n",
              "  -7.171194738475606e-05,\n",
              "  -5.528138353838585e-05,\n",
              "  4.395664745970862e-06,\n",
              "  5.8329766034148633e-05,\n",
              "  4.767677637573797e-06,\n",
              "  -6.744929851265624e-05,\n",
              "  5.7422985264565796e-05,\n",
              "  5.7694243878358975e-05,\n",
              "  8.755188900977373e-06,\n",
              "  1.78617519850377e-05,\n",
              "  8.387076377402991e-05,\n",
              "  0.0001874821464298293,\n",
              "  0.0001235424424521625,\n",
              "  0.0001137170402216725,\n",
              "  0.0001268963678739965,\n",
              "  1.9369177607586607e-05,\n",
              "  9.270994632970542e-05,\n",
              "  7.904622179921716e-05,\n",
              "  -5.764934030594304e-06,\n",
              "  8.314611477544531e-05,\n",
              "  0.00010683092841645703,\n",
              "  -6.956512515898794e-05,\n",
              "  -1.704932037682738e-05,\n",
              "  0.00011284513311693445,\n",
              "  -1.1856643141072709e-05,\n",
              "  -0.00012138339661760256,\n",
              "  -0.00017924688290804625,\n",
              "  -7.340925367316231e-05,\n",
              "  -2.8194202968734317e-05,\n",
              "  -7.615284994244576e-05,\n",
              "  -2.586912341939751e-05,\n",
              "  -3.755652505788021e-05,\n",
              "  -0.00014179758727550507,\n",
              "  -0.00022477193851955235,\n",
              "  -0.0002596326230559498,\n",
              "  -7.052615546854213e-05,\n",
              "  -0.00011843829997815192,\n",
              "  -0.00014244861085899174,\n",
              "  -2.7837690140586346e-05,\n",
              "  -1.3577201571024489e-05,\n",
              "  -3.2317344448529184e-05,\n",
              "  -6.81855744915083e-05,\n",
              "  -4.167966471868567e-05,\n",
              "  -0.00013809296069666743,\n",
              "  -0.00015170243568718433,\n",
              "  -7.925295358290896e-05,\n",
              "  4.188370076008141e-05,\n",
              "  3.4311691706534475e-05,\n",
              "  -8.72124801389873e-05,\n",
              "  -0.0002852782781701535,\n",
              "  -0.0001331172970822081,\n",
              "  7.410155376419425e-05,\n",
              "  0.00013679734547622502,\n",
              "  -0.00010249987826682627,\n",
              "  -0.00037109016557224095,\n",
              "  -0.0005060426774434745,\n",
              "  -0.00032305208151228726,\n",
              "  -0.00025571195874363184,\n",
              "  -0.000530548975802958,\n",
              "  -0.0006494516273960471,\n",
              "  -0.0004935220931656659,\n",
              "  1.2662291737797204e-05,\n",
              "  0.0002377920172875747,\n",
              "  4.1623581637395546e-05,\n",
              "  -0.0005333666922524571,\n",
              "  -0.0007647155434824526,\n",
              "  -0.0008579647983424366,\n",
              "  -0.000859540537931025,\n",
              "  -0.0011355028254911304,\n",
              "  -0.0010794674744829535,\n",
              "  -0.001421639695763588,\n",
              "  -0.0010149362497031689,\n",
              "  -0.000640995625872165,\n",
              "  -0.0009241985389962792,\n",
              "  -0.0014270119136199355,\n",
              "  -0.0018761858809739351,\n",
              "  -0.001569391810335219,\n",
              "  -0.0013415779685601592,\n",
              "  -0.0009429492056369781,\n",
              "  -0.0014026026474311948,\n",
              "  -0.0019787552300840616,\n",
              "  -0.002568438183516264,\n",
              "  -0.0020341852214187384,\n",
              "  -0.0016919947229325771,\n",
              "  -0.0011853971518576145,\n",
              "  -0.001883127260953188,\n",
              "  -0.002265258226543665,\n",
              "  -0.0016701812855899334,\n",
              "  -0.001817859709262848,\n",
              "  -0.001780733815394342,\n",
              "  -0.0016650308389216661,\n",
              "  -0.001557396026328206,\n",
              "  -0.0017491161124780774,\n",
              "  -0.0013459024485200644,\n",
              "  -0.0016566884005442262,\n",
              "  -0.0020749324467033148,\n",
              "  -0.0023612547665834427,\n",
              "  -0.0019125588005408645,\n",
              "  -0.0023198137059807777,\n",
              "  -0.002976920921355486,\n",
              "  -0.002838698448613286,\n",
              "  -0.002629272174090147,\n",
              "  -0.0023003765381872654,\n",
              "  -0.0021915587130934,\n",
              "  -0.0023685824126005173,\n",
              "  -0.0026155973318964243,\n",
              "  -0.0020135436207056046,\n",
              "  -0.0016220887191593647,\n",
              "  -0.0020318066235631704,\n",
              "  -0.00242966553196311,\n",
              "  -0.0025687478482723236,\n",
              "  -0.0014498236123472452,\n",
              "  0.00010327355994377285,\n",
              "  -0.00013569038128480315,\n",
              "  -0.0007234404911287129,\n",
              "  0.00016718516417313367,\n",
              "  0.0011331831337884068,\n",
              "  0.0009163326467387378,\n",
              "  0.0002360908401897177,\n",
              "  -0.0004573467595037073,\n",
              "  0.0007566568092443049,\n",
              "  0.00183133187238127,\n",
              "  0.0013188484590500593,\n",
              "  0.0007863616337999701,\n",
              "  0.000977607211098075,\n",
              "  0.002217134227976203,\n",
              "  0.0031997861806303263,\n",
              "  0.0021757627837359905,\n",
              "  0.0009523200569674373,\n",
              "  0.000214557207073085,\n",
              "  -0.0004042545333504677,\n",
              "  0.0009369071922264993,\n",
              "  0.0003543201892171055,\n",
              "  3.3852487831609324e-05,\n",
              "  0.00036931451177224517,\n",
              "  0.00013335428957361728,\n",
              "  0.001024458440952003,\n",
              "  0.0007265833555720747,\n",
              "  0.00012769731984008104,\n",
              "  0.0002628921065479517,\n",
              "  4.930554860038683e-05,\n",
              "  -0.0010613480117172003,\n",
              "  -0.001610302715562284,\n",
              "  -0.002058834070339799,\n",
              "  -0.0011474222410470247,\n",
              "  -0.0005396197084337473,\n",
              "  7.26813159417361e-05,\n",
              "  0.0007621996919624507,\n",
              "  0.0010743323946371675,\n",
              "  0.0005273749120533466,\n",
              "  -0.0006265011616051197,\n",
              "  -0.00043032062239944935,\n",
              "  -5.795935066998936e-06,\n",
              "  0.000934045878238976,\n",
              "  0.00028446121723391116,\n",
              "  0.0005313691799528897,\n",
              "  0.00027885971940122545,\n",
              "  0.0002024556597461924,\n",
              "  -0.00012407274334691465,\n",
              "  -0.0008220180752687156,\n",
              "  -0.0009329466847702861,\n",
              "  -0.0012756198411807418,\n",
              "  -0.0017088394379243255,\n",
              "  -0.0017569375922903419,\n",
              "  -0.0021378109231591225,\n",
              "  -0.002185306278988719,\n",
              "  -0.0016076015308499336,\n",
              "  -0.0013943781377747655,\n",
              "  -0.0009310071473009884,\n",
              "  -0.0017922748811542988,\n",
              "  -0.0010149929439648986,\n",
              "  -0.0015249139396473765,\n",
              "  -0.0012199680786579847,\n",
              "  -0.0012130452087149024,\n",
              "  -0.0030649984255433083,\n",
              "  -0.0038320771418511868,\n",
              "  -0.0032576157245785,\n",
              "  -0.0021286741830408573,\n",
              "  -0.0001513507595518604,\n",
              "  4.2441235564183444e-05,\n",
              "  5.859715020051226e-05,\n",
              "  -0.0006652786396443844,\n",
              "  -0.0008017123909667134,\n",
              "  0.0004953527241013944,\n",
              "  -0.0005213988479226828,\n",
              "  0.0005572938243858516,\n",
              "  0.0017065041465684772,\n",
              "  0.002970439847558737,\n",
              "  0.002618402475491166,\n",
              "  0.0019597504287958145,\n",
              "  0.0016920131165534258,\n",
              "  0.001791417016647756,\n",
              "  0.0019933658186346292,\n",
              "  0.0033903541043400764,\n",
              "  0.004144742619246244,\n",
              "  0.004381443839520216,\n",
              "  0.002976231276988983,\n",
              "  0.0030218239407986403,\n",
              "  0.0035157392267137766,\n",
              "  0.0020215045660734177,\n",
              "  0.002832410391420126,\n",
              "  0.0031354371458292007,\n",
              "  0.004671002272516489,\n",
              "  0.004642305430024862,\n",
              "  0.0033337620552629232,\n",
              "  0.0014514339854940772,\n",
              "  -0.00037329705082811415,\n",
              "  -9.55798604991287e-05,\n",
              "  0.0017438826616853476,\n",
              "  0.0012935292907059193,\n",
              "  0.0020215418189764023,\n",
              "  0.001457382459193468,\n",
              "  0.0012055599363520741,\n",
              "  0.001743170665577054,\n",
              "  0.0014979168772697449,\n",
              "  0.0013734069652855396,\n",
              "  0.0004073043819516897,\n",
              "  0.0004725010658148676,\n",
              "  -0.00033762550447136164,\n",
              "  -0.00106404151301831,\n",
              "  -0.0013959718635305762,\n",
              "  -0.001228448818437755,\n",
              "  -0.0018254363676533103,\n",
              "  -0.0012479504803195596,\n",
              "  -0.001164784305728972,\n",
              "  -0.0001366204087389633,\n",
              "  -0.00041689714998938143,\n",
              "  0.000496425200253725,\n",
              "  0.001192925963550806,\n",
              "  0.000457057700259611,\n",
              "  -0.0005156394327059388,\n",
              "  -0.001034314394928515,\n",
              "  0.0008084392757155001,\n",
              "  0.0021986626088619232,\n",
              "  0.003381457645446062,\n",
              "  0.0028660765383392572,\n",
              "  0.002836276777088642,\n",
              "  0.0009304207051172853,\n",
              "  -0.0005427033174782991,\n",
              "  -0.0011634106049314141,\n",
              "  -0.0011224271729588509,\n",
              "  -0.0001816843287087977,\n",
              "  -0.00029878696659579873,\n",
              "  -0.00038093593320809305,\n",
              "  0.0007165017304942012,\n",
              "  0.0005911566549912095,\n",
              "  0.00041543878614902496,\n",
              "  0.0013150237500667572,\n",
              "  -7.333949906751513e-05,\n",
              "  0.0019471392733976245,\n",
              "  0.001350020058453083,\n",
              "  -0.0014823301462456584,\n",
              "  -0.0017097888048738241,\n",
              "  -0.0019178562797605991,\n",
              "  0.0010532778687775135,\n",
              "  0.0039703575894236565,\n",
              "  0.004350175149738789,\n",
              "  0.0035029160790145397,\n",
              "  0.0036972693633288145,\n",
              "  0.0058209546841681,\n",
              "  0.008054868318140507,\n",
              "  0.006377858109772205,\n",
              "  0.004465239588171244,\n",
              "  0.004812662955373526,\n",
              "  0.007553269155323505,\n",
              "  0.01021585613489151,\n",
              "  0.008586256764829159,\n",
              "  0.008014516904950142,\n",
              "  0.01119944266974926,\n",
              "  0.012953795492649078,\n",
              "  0.010577093809843063,\n",
              "  0.00870303250849247,\n",
              "  0.00691511994227767,\n",
              "  0.00662561459466815,\n",
              "  0.00840402115136385,\n",
              "  0.007585953921079636,\n",
              "  0.005653479602187872,\n",
              "  0.005278904922306538,\n",
              "  0.006139831617474556,\n",
              "  0.006389800924807787,\n",
              "  0.005395178683102131,\n",
              "  0.0036852448247373104,\n",
              "  0.0013273039367049932,\n",
              "  0.0031118104234337807,\n",
              "  0.00346857076510787,\n",
              "  0.0023197876289486885,\n",
              "  0.0016285181045532227,\n",
              "  0.0032190275378525257,\n",
              "  0.00435094628483057,\n",
              "  0.0032892217859625816,\n",
              "  0.004686540924012661,\n",
              "  0.005453336518257856,\n",
              "  0.004799020476639271,\n",
              "  0.005976068787276745,\n",
              "  0.0020757936872541904,\n",
              "  -0.01058118138462305,\n",
              "  -0.012147161178290844,\n",
              "  -0.013316924683749676,\n",
              "  -0.018923962488770485,\n",
              "  -0.027314677834510803,\n",
              "  -0.033275704830884933,\n",
              "  -0.034854527562856674,\n",
              "  -0.032999858260154724,\n",
              "  -0.03187312185764313,\n",
              "  -0.03602590784430504,\n",
              "  -0.03703337535262108,\n",
              "  -0.037441153079271317,\n",
              "  -0.03839798644185066,\n",
              "  -0.03968384489417076,\n",
              "  -0.03740042820572853,\n",
              "  -0.041238971054553986,\n",
              "  -0.04370196536183357,\n",
              "  -0.045314110815525055,\n",
              "  -0.046963170170784,\n",
              "  -0.04527974873781204,\n",
              "  -0.042566727846860886,\n",
              "  -0.042103953659534454,\n",
              "  -0.038511134684085846,\n",
              "  -0.02908238209784031,\n",
              "  -0.023428497835993767,\n",
              "  -0.02138346992433071,\n",
              "  -0.024334587156772614,\n",
              "  -0.024731077253818512,\n",
              "  -0.025829048827290535,\n",
              "  -0.031302984803915024,\n",
              "  -0.03418033942580223,\n",
              "  -0.030829481780529022,\n",
              "  -0.023701241239905357,\n",
              "  -0.021982301026582718,\n",
              "  -0.022198934108018875,\n",
              "  -0.013876492157578468,\n",
              "  -0.004465356469154358,\n",
              "  0.0033132031094282866,\n",
              "  0.008051433600485325,\n",
              "  0.009054478257894516,\n",
              "  0.011796682141721249,\n",
              "  0.01422924641519785,\n",
              "  0.00914737954735756,\n",
              "  -0.00036356903729029,\n",
              "  -0.010824615135788918,\n",
              "  -0.011189728043973446,\n",
              "  -0.0071350689977407455,\n",
              "  0.0003838735865429044,\n",
              "  0.012557988055050373,\n",
              "  0.017634358257055283,\n",
              "  0.02124851755797863,\n",
              "  0.020017648115754128,\n",
              "  0.02079172618687153,\n",
              "  0.020934373140335083,\n",
              "  0.01907932758331299,\n",
              "  0.017490161582827568,\n",
              "  0.015097066760063171,\n",
              "  0.009120085276663303,\n",
              "  0.0049889725632965565,\n",
              "  0.0042099179700016975,\n",
              "  0.004559704102575779,\n",
              "  -0.0010965310502797365,\n",
              "  -0.013747693970799446,\n",
              "  -0.017075415700674057,\n",
              "  -0.01795993745326996,\n",
              "  -0.019757844507694244,\n",
              "  -0.030982108786702156,\n",
              "  -0.0458768755197525,\n",
              "  -0.05589177832007408,\n",
              "  -0.06430280953645706,\n",
              "  -0.06816612929105759,\n",
              "  -0.07125309109687805,\n",
              "  -0.07369806617498398,\n",
              "  -0.06758313626050949,\n",
              "  -0.05841110274195671,\n",
              "  -0.06038571521639824,\n",
              "  -0.06127842143177986,\n",
              "  -0.06560666859149933,\n",
              "  -0.07031464576721191,\n",
              "  -0.0704546570777893,\n",
              "  -0.07353772968053818,\n",
              "  -0.07437759637832642,\n",
              "  -0.07299786061048508,\n",
              "  -0.06854543089866638,\n",
              "  -0.06697617471218109,\n",
              "  -0.06461306661367416,\n",
              "  -0.058474570512771606,\n",
              "  -0.049491483718156815,\n",
              "  -0.04689464718103409,\n",
              "  -0.04159319028258324,\n",
              "  -0.03801529482007027,\n",
              "  -0.035663310438394547,\n",
              "  -0.03324980288743973,\n",
              "  -0.037415266036987305,\n",
              "  -0.03191213682293892,\n",
              "  -0.02660440467298031,\n",
              "  -0.027360916137695312,\n",
              "  -0.02878464013338089,\n",
              "  -0.02249874919652939,\n",
              "  -0.012554996646940708,\n",
              "  -0.0018093548715114594,\n",
              "  0.010437553748488426,\n",
              "  0.018786314874887466,\n",
              "  0.02224903739988804,\n",
              "  0.02563665807247162,\n",
              "  0.024541370570659637,\n",
              "  0.02700164169073105,\n",
              "  0.031464919447898865,\n",
              "  0.03409609943628311,\n",
              "  0.047516241669654846,\n",
              "  0.06171002611517906,\n",
              "  0.06688766926527023,\n",
              "  0.06937476992607117,\n",
              "  0.06465902179479599,\n",
              "  0.0711081475019455,\n",
              "  0.0900808647274971,\n",
              "  0.0909106582403183,\n",
              "  0.08178086578845978,\n",
              "  0.07339536398649216,\n",
              "  0.06646156311035156,\n",
              "  0.06388996541500092,\n",
              "  0.0567227303981781,\n",
              "  0.05378006771206856,\n",
              "  0.07289507985115051,\n",
              "  0.08003794401884079,\n",
              "  0.08321113139390945,\n",
              "  0.07704472541809082,\n",
              "  0.06638189405202866,\n",
              "  0.06331939995288849,\n",
              "  0.056571800261735916,\n",
              "  0.044740427285432816,\n",
              "  0.03125930204987526,\n",
              "  0.022857919335365295,\n",
              "  0.013522679917514324,\n",
              "  0.005878506228327751,\n",
              "  0.005173177924007177,\n",
              "  0.007782049011439085,\n",
              "  -0.004193154163658619,\n",
              "  -0.007620868738740683,\n",
              "  -0.023243695497512817,\n",
              "  -0.029867736622691154,\n",
              "  -0.02095196768641472,\n",
              "  -0.017838405445218086,\n",
              "  -0.011533405631780624,\n",
              "  -0.010044761933386326,\n",
              "  -0.014378593303263187,\n",
              "  -0.02392943575978279,\n",
              "  -0.03404669836163521,\n",
              "  -0.026799211278557777,\n",
              "  -0.012010738253593445,\n",
              "  -0.0074979038909077644,\n",
              "  0.004800613969564438,\n",
              "  0.013342002406716347,\n",
              "  0.020234713330864906,\n",
              "  0.026917582377791405,\n",
              "  0.02887616492807865,\n",
              "  0.02361356094479561,\n",
              "  0.03378995507955551,\n",
              "  0.04854991286993027,\n",
              "  0.05203251168131828,\n",
              "  0.054780229926109314,\n",
              "  0.06064782291650772,\n",
              "  0.0647478699684143,\n",
              "  0.07034710794687271,\n",
              "  0.0755932554602623,\n",
              "  0.07486110180616379,\n",
              "  0.06837763637304306,\n",
              "  0.061148278415203094,\n",
              "  0.054481394588947296,\n",
              "  0.05126521363854408,\n",
              "  0.04228920117020607,\n",
              "  0.018386922776699066,\n",
              "  0.0046739825047552586,\n",
              "  -0.009252522140741348,\n",
              "  -0.011500781401991844,\n",
              "  -0.016830135136842728,\n",
              "  -0.028826553374528885,\n",
              "  -0.03660555183887482,\n",
              "  -0.03827647119760513,\n",
              "  -0.04129371792078018,\n",
              "  -0.0501016229391098,\n",
              "  -0.08724792301654816,\n",
              "  -0.12636469304561615,\n",
              "  -0.14424258470535278,\n",
              "  -0.15803909301757812,\n",
              "  -0.1573271006345749,\n",
              "  -0.1729474514722824,\n",
              "  -0.19894073903560638,\n",
              "  -0.21244430541992188,\n",
              "  -0.21035295724868774,\n",
              "  -0.21747297048568726,\n",
              "  -0.22567543387413025,\n",
              "  -0.23722587525844574,\n",
              "  -0.2527931332588196,\n",
              "  -0.25984981656074524,\n",
              "  -0.2558051645755768,\n",
              "  -0.2586679756641388,\n",
              "  -0.2650839686393738,\n",
              "  -0.27472442388534546,\n",
              "  -0.287720263004303,\n",
              "  -0.28793850541114807,\n",
              "  -0.2854868173599243,\n",
              "  -0.2758657932281494,\n",
              "  -0.2611391544342041,\n",
              "  -0.25575724244117737,\n",
              "  -0.27103492617607117,\n",
              "  -0.2794129550457001,\n",
              "  -0.2812364995479584,\n",
              "  -0.2763140797615051,\n",
              "  -0.2689463794231415,\n",
              "  -0.2762732207775116,\n",
              "  -0.27969399094581604,\n",
              "  -0.26874053478240967,\n",
              "  -0.272430419921875,\n",
              "  -0.27951526641845703,\n",
              "  -0.27495086193084717,\n",
              "  -0.26433640718460083,\n",
              "  -0.24889037013053894,\n",
              "  -0.23581819236278534,\n",
              "  -0.23303015530109406,\n",
              "  -0.22488486766815186,\n",
              "  -0.20635321736335754,\n",
              "  -0.18541312217712402,\n",
              "  -0.15488232672214508,\n",
              "  -0.1341177523136139,\n",
              "  -0.11328217387199402,\n",
              "  -0.08671363443136215,\n",
              "  -0.05064931884407997,\n",
              "  -0.015934810042381287,\n",
              "  0.020801793783903122,\n",
              "  0.05991346016526222,\n",
              "  0.10268711298704147,\n",
              "  0.15339593589305878,\n",
              "  0.19685856997966766,\n",
              "  0.2307186722755432,\n",
              "  0.2632990777492523,\n",
              "  0.2892645299434662,\n",
              "  0.3121275007724762,\n",
              "  0.3435281813144684,\n",
              "  0.36826997995376587,\n",
              "  0.39330819249153137,\n",
              "  0.41941702365875244,\n",
              "  0.4504171907901764,\n",
              "  0.48188936710357666,\n",
              "  0.506225049495697,\n",
              "  0.5147456526756287,\n",
              "  0.518253743648529,\n",
              "  0.5224383473396301,\n",
              "  0.5203130841255188,\n",
              "  0.5187642574310303,\n",
              "  0.5145847797393799,\n",
              "  0.49914059042930603,\n",
              "  0.48035892844200134,\n",
              "  0.45923560857772827,\n",
              "  0.43046435713768005,\n",
              "  0.4112527668476105,\n",
              "  0.3895089626312256,\n",
              "  0.36989328265190125,\n",
              "  0.35326501727104187,\n",
              "  0.3255783021450043,\n",
              "  0.3006666600704193,\n",
              "  0.2701358199119568,\n",
              "  0.23559832572937012,\n",
              "  0.21310120820999146,\n",
              "  0.18939408659934998,\n",
              "  0.15939776599407196,\n",
              "  0.12744645774364471,\n",
              "  0.09795139729976654,\n",
              "  0.06740397214889526,\n",
              "  0.036973852664232254,\n",
              "  0.002749539678916335,\n",
              "  -0.033107683062553406,\n",
              "  -0.06574074178934097,\n",
              "  -0.10775449872016907,\n",
              "  -0.15131650865077972,\n",
              "  -0.19456997513771057,\n",
              "  -0.2335900515317917,\n",
              "  -0.26706916093826294,\n",
              "  -0.30209189653396606,\n",
              "  -0.3356330096721649,\n",
              "  -0.3650587499141693,\n",
              "  -0.38836395740509033,\n",
              "  -0.4162081778049469,\n",
              "  -0.4505482017993927,\n",
              "  -0.4822111129760742,\n",
              "  -0.5155393481254578,\n",
              "  -0.539977490901947,\n",
              "  -0.5644629597663879,\n",
              "  -0.5926416516304016,\n",
              "  -0.6103677153587341,\n",
              "  -0.6284804940223694,\n",
              "  -0.6308848261833191,\n",
              "  -0.6180633902549744,\n",
              "  -0.6068230867385864,\n",
              "  -0.5845407843589783,\n",
              "  -0.5560322999954224,\n",
              "  -0.5278276205062866,\n",
              "  -0.4975632131099701,\n",
              "  -0.47116872668266296,\n",
              "  -0.43668437004089355,\n",
              "  -0.3986886143684387,\n",
              "  -0.3654344081878662,\n",
              "  -0.3228556215763092,\n",
              "  -0.2737347483634949,\n",
              "  -0.21762537956237793,\n",
              "  -0.16623333096504211,\n",
              "  -0.12414850294589996,\n",
              "  -0.07817498594522476,\n",
              "  -0.027979539707303047,\n",
              "  0.02674180641770363,\n",
              "  0.07307422161102295,\n",
              "  0.11012085527181625,\n",
              "  0.14180104434490204,\n",
              "  0.16982223093509674,\n",
              "  0.195820614695549,\n",
              "  0.20416395366191864,\n",
              "  0.2023787945508957,\n",
              "  0.20668211579322815,\n",
              "  0.21722359955310822,\n",
              "  0.22213564813137054,\n",
              "  0.2121734619140625,\n",
              "  0.1923941820859909,\n",
              "  0.17215877771377563,\n",
              "  0.15883812308311462,\n",
              "  0.13694354891777039,\n",
              "  0.10968059301376343,\n",
              "  0.0876728966832161,\n",
              "  0.06372183561325073,\n",
              "  0.04564451798796654,\n",
              "  0.02900005504488945,\n",
              "  0.016686223447322845,\n",
              "  0.01334486622363329,\n",
              "  0.013333224691450596,\n",
              "  0.017280567437410355,\n",
              "  0.0276077501475811,\n",
              "  0.05251658335328102,\n",
              "  0.0809875875711441,\n",
              "  0.10667366534471512,\n",
              "  0.1320205181837082,\n",
              "  0.15394224226474762,\n",
              "  0.18610072135925293,\n",
              "  0.2239566296339035,\n",
              "  0.25935378670692444,\n",
              "  ...],\n",
              " 'input_length': 100800,\n",
              " 'labels': [10,\n",
              "  15,\n",
              "  5,\n",
              "  0,\n",
              "  11,\n",
              "  5,\n",
              "  1,\n",
              "  20,\n",
              "  15,\n",
              "  14,\n",
              "  0,\n",
              "  4,\n",
              "  9,\n",
              "  19,\n",
              "  1,\n",
              "  16,\n",
              "  16,\n",
              "  18,\n",
              "  15,\n",
              "  22,\n",
              "  5,\n",
              "  4,\n",
              "  0,\n",
              "  15,\n",
              "  6,\n",
              "  0,\n",
              "  6,\n",
              "  9,\n",
              "  12,\n",
              "  13,\n",
              "  19,\n",
              "  0,\n",
              "  1,\n",
              "  14,\n",
              "  4,\n",
              "  0,\n",
              "  2,\n",
              "  21,\n",
              "  19,\n",
              "  20,\n",
              "  5,\n",
              "  18,\n",
              "  0,\n",
              "  1,\n",
              "  12,\n",
              "  19,\n",
              "  15,\n",
              "  0,\n",
              "  8,\n",
              "  1,\n",
              "  4,\n",
              "  0,\n",
              "  18,\n",
              "  5,\n",
              "  19,\n",
              "  5,\n",
              "  18,\n",
              "  22,\n",
              "  1,\n",
              "  20,\n",
              "  9,\n",
              "  15,\n",
              "  14,\n",
              "  19,\n",
              "  0,\n",
              "  1,\n",
              "  2,\n",
              "  15,\n",
              "  21,\n",
              "  20,\n",
              "  0,\n",
              "  20,\n",
              "  8,\n",
              "  5,\n",
              "  0,\n",
              "  13,\n",
              "  5,\n",
              "  4,\n",
              "  9,\n",
              "  21,\n",
              "  13]}"
            ]
          },
          "execution_count": 101,
          "metadata": {},
          "output_type": "execute_result"
        }
      ],
      "source": [
        "onesample=test_dataset[0]\n",
        "onesample"
      ]
    },
    {
      "cell_type": "code",
      "execution_count": 117,
      "metadata": {},
      "outputs": [
        {
          "data": {
            "text/plain": [
              "[10,\n",
              " 15,\n",
              " 5,\n",
              " 0,\n",
              " 11,\n",
              " 5,\n",
              " 1,\n",
              " 20,\n",
              " 15,\n",
              " 14,\n",
              " 0,\n",
              " 4,\n",
              " 9,\n",
              " 19,\n",
              " 1,\n",
              " 16,\n",
              " 16,\n",
              " 18,\n",
              " 15,\n",
              " 22,\n",
              " 5,\n",
              " 4,\n",
              " 0,\n",
              " 15,\n",
              " 6,\n",
              " 0,\n",
              " 6,\n",
              " 9,\n",
              " 12,\n",
              " 13,\n",
              " 19,\n",
              " 0,\n",
              " 1,\n",
              " 14,\n",
              " 4,\n",
              " 0,\n",
              " 2,\n",
              " 21,\n",
              " 19,\n",
              " 20,\n",
              " 5,\n",
              " 18,\n",
              " 0,\n",
              " 1,\n",
              " 12,\n",
              " 19,\n",
              " 15,\n",
              " 0,\n",
              " 8,\n",
              " 1,\n",
              " 4,\n",
              " 0,\n",
              " 18,\n",
              " 5,\n",
              " 19,\n",
              " 5,\n",
              " 18,\n",
              " 22,\n",
              " 1,\n",
              " 20,\n",
              " 9,\n",
              " 15,\n",
              " 14,\n",
              " 19,\n",
              " 0,\n",
              " 1,\n",
              " 2,\n",
              " 15,\n",
              " 21,\n",
              " 20,\n",
              " 0,\n",
              " 20,\n",
              " 8,\n",
              " 5,\n",
              " 0,\n",
              " 13,\n",
              " 5,\n",
              " 4,\n",
              " 9,\n",
              " 21,\n",
              " 13]"
            ]
          },
          "execution_count": 117,
          "metadata": {},
          "output_type": "execute_result"
        }
      ],
      "source": [
        "onesample['labels']"
      ]
    },
    {
      "cell_type": "code",
      "execution_count": 103,
      "metadata": {},
      "outputs": [
        {
          "data": {
            "text/plain": [
              "100800"
            ]
          },
          "execution_count": 103,
          "metadata": {},
          "output_type": "execute_result"
        }
      ],
      "source": [
        "len(onesample[\"input_values\"]) #list"
      ]
    },
    {
      "cell_type": "code",
      "execution_count": 104,
      "metadata": {},
      "outputs": [
        {
          "name": "stderr",
          "output_type": "stream",
          "text": [
            "It is strongly recommended to pass the ``sampling_rate`` argument to this function. Failing to do so can result in silent errors that might be hard to debug.\n"
          ]
        }
      ],
      "source": [
        "input_dict = processor(onesample[\"input_values\"], return_tensors=\"pt\", padding=True)"
      ]
    },
    {
      "cell_type": "code",
      "execution_count": 106,
      "metadata": {},
      "outputs": [
        {
          "data": {
            "text/plain": [
              "torch.Size([1, 100800])"
            ]
          },
          "execution_count": 106,
          "metadata": {},
          "output_type": "execute_result"
        }
      ],
      "source": [
        "input_dict.input_values.shape"
      ]
    },
    {
      "cell_type": "code",
      "execution_count": 107,
      "metadata": {},
      "outputs": [],
      "source": [
        "model=model.cuda()"
      ]
    },
    {
      "cell_type": "markdown",
      "metadata": {
        "id": "jD7TZ1YS3S_K"
      },
      "source": [
        "\n",
        "Now, we will just take the first example of the test set, run it through the model and take the `argmax(...)` of the logits to retrieve the predicted token ids."
      ]
    },
    {
      "cell_type": "code",
      "execution_count": 108,
      "metadata": {
        "colab": {
          "background_save": true
        },
        "id": "pax07TnL3WZn",
        "outputId": "867787ff-0cb7-41e9-f926-96f7b53e7134"
      },
      "outputs": [
        {
          "name": "stderr",
          "output_type": "stream",
          "text": [
            "/home/lkk/miniconda3/envs/mycondapy310/lib/python3.10/site-packages/torch/utils/checkpoint.py:429: UserWarning: torch.utils.checkpoint: please pass in use_reentrant=True or use_reentrant=False explicitly. The default value of use_reentrant will be updated to be False in the future. To maintain current behavior, pass use_reentrant=True. It is recommended that you use use_reentrant=False. Refer to docs for more details on the differences between the two variants.\n",
            "  warnings.warn(\n"
          ]
        }
      ],
      "source": [
        "logits = model(input_dict.input_values.to(\"cuda\")).logits"
      ]
    },
    {
      "cell_type": "code",
      "execution_count": 109,
      "metadata": {},
      "outputs": [
        {
          "data": {
            "text/plain": [
              "torch.Size([1, 314, 33])"
            ]
          },
          "execution_count": 109,
          "metadata": {},
          "output_type": "execute_result"
        }
      ],
      "source": [
        "logits.shape"
      ]
    },
    {
      "cell_type": "code",
      "execution_count": 110,
      "metadata": {},
      "outputs": [
        {
          "data": {
            "text/plain": [
              "torch.Size([1, 314])"
            ]
          },
          "execution_count": 110,
          "metadata": {},
          "output_type": "execute_result"
        }
      ],
      "source": [
        "pred_ids = torch.argmax(logits, dim=-1)\n",
        "pred_ids.shape"
      ]
    },
    {
      "cell_type": "code",
      "execution_count": 111,
      "metadata": {},
      "outputs": [],
      "source": [
        "pred_id=pred_ids[0]"
      ]
    },
    {
      "cell_type": "code",
      "execution_count": 112,
      "metadata": {},
      "outputs": [
        {
          "data": {
            "text/plain": [
              "torch.Size([314])"
            ]
          },
          "execution_count": 112,
          "metadata": {},
          "output_type": "execute_result"
        }
      ],
      "source": [
        "pred_id.shape"
      ]
    },
    {
      "cell_type": "code",
      "execution_count": 116,
      "metadata": {},
      "outputs": [
        {
          "data": {
            "text/plain": [
              "['[PAD]',\n",
              " '[PAD]',\n",
              " '[PAD]',\n",
              " '[PAD]',\n",
              " '[PAD]',\n",
              " '[PAD]',\n",
              " '[PAD]',\n",
              " '[PAD]',\n",
              " '[PAD]',\n",
              " '[PAD]',\n",
              " '[PAD]',\n",
              " '[PAD]',\n",
              " '[PAD]',\n",
              " '[PAD]',\n",
              " '[PAD]',\n",
              " '[PAD]',\n",
              " '[PAD]',\n",
              " '[PAD]',\n",
              " '[PAD]',\n",
              " '[PAD]',\n",
              " '[PAD]',\n",
              " '[PAD]',\n",
              " '[PAD]',\n",
              " '[PAD]',\n",
              " '[PAD]',\n",
              " '[PAD]',\n",
              " '[PAD]',\n",
              " '[PAD]',\n",
              " '[PAD]',\n",
              " '[PAD]',\n",
              " '[PAD]',\n",
              " '[PAD]',\n",
              " '[PAD]',\n",
              " '[PAD]',\n",
              " '[PAD]',\n",
              " '[PAD]',\n",
              " '[PAD]',\n",
              " '[PAD]',\n",
              " 'j',\n",
              " '[PAD]',\n",
              " '[PAD]',\n",
              " '[PAD]',\n",
              " '[PAD]',\n",
              " 'o',\n",
              " 'o',\n",
              " 'o',\n",
              " 'l',\n",
              " 'l',\n",
              " 'l',\n",
              " '[PAD]',\n",
              " '[PAD]',\n",
              " '[PAD]',\n",
              " '[PAD]',\n",
              " 'c',\n",
              " '[PAD]',\n",
              " '[PAD]',\n",
              " '[PAD]',\n",
              " '[PAD]',\n",
              " 'a',\n",
              " 'a',\n",
              " '[PAD]',\n",
              " '[PAD]',\n",
              " 't',\n",
              " 'e',\n",
              " 's',\n",
              " 's',\n",
              " '',\n",
              " '[PAD]',\n",
              " '[PAD]',\n",
              " 'o',\n",
              " 'o',\n",
              " 'n',\n",
              " '[PAD]',\n",
              " '',\n",
              " '[PAD]',\n",
              " 'd',\n",
              " '[PAD]',\n",
              " 'i',\n",
              " 's',\n",
              " 's',\n",
              " '[PAD]',\n",
              " '[PAD]',\n",
              " '[PAD]',\n",
              " '[PAD]',\n",
              " 'a',\n",
              " 'p',\n",
              " '[PAD]',\n",
              " '[PAD]',\n",
              " 'p',\n",
              " 'p',\n",
              " '[PAD]',\n",
              " 'r',\n",
              " 'r',\n",
              " '[PAD]',\n",
              " '[PAD]',\n",
              " '[PAD]',\n",
              " 'o',\n",
              " 'o',\n",
              " 'o',\n",
              " '[PAD]',\n",
              " '[PAD]',\n",
              " 'v',\n",
              " 'e',\n",
              " 'e',\n",
              " 'd',\n",
              " '',\n",
              " '',\n",
              " '[PAD]',\n",
              " '[PAD]',\n",
              " 'o',\n",
              " 'o',\n",
              " 'f',\n",
              " '',\n",
              " '',\n",
              " '[PAD]',\n",
              " '[PAD]',\n",
              " '[PAD]',\n",
              " 'f',\n",
              " 'f',\n",
              " '[PAD]',\n",
              " '[PAD]',\n",
              " 'i',\n",
              " 'i',\n",
              " 'i',\n",
              " 'l',\n",
              " 'r',\n",
              " '[PAD]',\n",
              " '[PAD]',\n",
              " '[PAD]',\n",
              " 'm',\n",
              " 'm',\n",
              " '[PAD]',\n",
              " '[PAD]',\n",
              " 's',\n",
              " 's',\n",
              " '',\n",
              " '',\n",
              " '[PAD]',\n",
              " '[PAD]',\n",
              " '[PAD]',\n",
              " '[PAD]',\n",
              " 'a',\n",
              " 'a',\n",
              " 'n',\n",
              " 'n',\n",
              " 'd',\n",
              " 'd',\n",
              " '',\n",
              " '[PAD]',\n",
              " 'b',\n",
              " '[PAD]',\n",
              " '[PAD]',\n",
              " '[PAD]',\n",
              " 'u',\n",
              " '[PAD]',\n",
              " '[PAD]',\n",
              " 's',\n",
              " '[PAD]',\n",
              " '[PAD]',\n",
              " '[PAD]',\n",
              " 't',\n",
              " '[PAD]',\n",
              " '[PAD]',\n",
              " 'e',\n",
              " 'e',\n",
              " 'r',\n",
              " 'r',\n",
              " '',\n",
              " '',\n",
              " '[PAD]',\n",
              " 'a',\n",
              " 'a',\n",
              " 'l',\n",
              " 'l',\n",
              " '[PAD]',\n",
              " '[PAD]',\n",
              " 's',\n",
              " '[PAD]',\n",
              " '[PAD]',\n",
              " 'o',\n",
              " 'o',\n",
              " '',\n",
              " '',\n",
              " '',\n",
              " 'h',\n",
              " 'h',\n",
              " '[PAD]',\n",
              " '[PAD]',\n",
              " '[PAD]',\n",
              " 'a',\n",
              " 'a',\n",
              " '[PAD]',\n",
              " 'd',\n",
              " 'd',\n",
              " '',\n",
              " 'r',\n",
              " 'r',\n",
              " '[PAD]',\n",
              " 'e',\n",
              " '[PAD]',\n",
              " '[PAD]',\n",
              " '[PAD]',\n",
              " '[PAD]',\n",
              " '[PAD]',\n",
              " '[PAD]',\n",
              " 'e',\n",
              " 'r',\n",
              " 'r',\n",
              " '[PAD]',\n",
              " '[PAD]',\n",
              " '[PAD]',\n",
              " 'v',\n",
              " '[PAD]',\n",
              " '[PAD]',\n",
              " '[PAD]',\n",
              " 'a',\n",
              " 'a',\n",
              " '[PAD]',\n",
              " '[PAD]',\n",
              " 't',\n",
              " 't',\n",
              " 'i',\n",
              " 'i',\n",
              " '[PAD]',\n",
              " 'o',\n",
              " 'o',\n",
              " 'n',\n",
              " '[PAD]',\n",
              " '[PAD]',\n",
              " '[PAD]',\n",
              " '',\n",
              " '',\n",
              " '[PAD]',\n",
              " '[PAD]',\n",
              " '[PAD]',\n",
              " '[PAD]',\n",
              " '[PAD]',\n",
              " '[PAD]',\n",
              " '[PAD]',\n",
              " '[PAD]',\n",
              " '[PAD]',\n",
              " 'o',\n",
              " 'u',\n",
              " 'f',\n",
              " 'f',\n",
              " '',\n",
              " '',\n",
              " 't',\n",
              " 'h',\n",
              " 'e',\n",
              " 'e',\n",
              " '',\n",
              " '[PAD]',\n",
              " 'm',\n",
              " '[PAD]',\n",
              " '[PAD]',\n",
              " 'e',\n",
              " 'e',\n",
              " 'e',\n",
              " 'e',\n",
              " '[PAD]',\n",
              " '[PAD]',\n",
              " '[PAD]',\n",
              " 'd',\n",
              " 'i',\n",
              " 'i',\n",
              " '[PAD]',\n",
              " '[PAD]',\n",
              " 'n',\n",
              " 'n',\n",
              " '[PAD]',\n",
              " '[PAD]',\n",
              " '[PAD]',\n",
              " '[PAD]',\n",
              " '[PAD]',\n",
              " '[PAD]',\n",
              " '[PAD]',\n",
              " '[PAD]',\n",
              " '[PAD]',\n",
              " '[PAD]',\n",
              " '[PAD]',\n",
              " '[PAD]',\n",
              " '[PAD]',\n",
              " '[PAD]',\n",
              " '[PAD]',\n",
              " '[PAD]',\n",
              " '[PAD]',\n",
              " '[PAD]',\n",
              " '[PAD]',\n",
              " '[PAD]',\n",
              " '[PAD]',\n",
              " '[PAD]',\n",
              " '[PAD]',\n",
              " '[PAD]',\n",
              " '[PAD]',\n",
              " '[PAD]',\n",
              " '[PAD]',\n",
              " '[PAD]',\n",
              " '[PAD]',\n",
              " '[PAD]',\n",
              " '[PAD]',\n",
              " '[PAD]',\n",
              " '[PAD]',\n",
              " '[PAD]',\n",
              " '[PAD]',\n",
              " '[PAD]',\n",
              " '[PAD]',\n",
              " '[PAD]',\n",
              " '[PAD]',\n",
              " '[PAD]',\n",
              " '[PAD]',\n",
              " '[PAD]',\n",
              " '[PAD]',\n",
              " '[PAD]']"
            ]
          },
          "execution_count": 116,
          "metadata": {},
          "output_type": "execute_result"
        }
      ],
      "source": [
        "predicted_sentence = processor.batch_decode(pred_id)\n",
        "predicted_sentence"
      ]
    },
    {
      "cell_type": "code",
      "execution_count": 115,
      "metadata": {},
      "outputs": [
        {
          "data": {
            "text/plain": [
              "['jolcates on disapproved of filrms and buster also had reervation ouf the medin']"
            ]
          },
          "execution_count": 115,
          "metadata": {},
          "output_type": "execute_result"
        }
      ],
      "source": [
        "predicted_sentence = processor.batch_decode(pred_ids)\n",
        "predicted_sentence"
      ]
    },
    {
      "cell_type": "code",
      "execution_count": 121,
      "metadata": {},
      "outputs": [
        {
          "data": {
            "text/plain": [
              "81"
            ]
          },
          "execution_count": 121,
          "metadata": {},
          "output_type": "execute_result"
        }
      ],
      "source": [
        "len(onesample['labels'])"
      ]
    },
    {
      "cell_type": "code",
      "execution_count": 126,
      "metadata": {},
      "outputs": [
        {
          "data": {
            "text/plain": [
              "['joe keaton disapproved of films and buster also had reservations about the medium']"
            ]
          },
          "execution_count": 126,
          "metadata": {},
          "output_type": "execute_result"
        }
      ],
      "source": [
        "label_str=processor.batch_decode([onesample['labels']],group_tokens=False)\n",
        "label_str"
      ]
    },
    {
      "cell_type": "code",
      "execution_count": 123,
      "metadata": {},
      "outputs": [
        {
          "data": {
            "text/plain": [
              "['j',\n",
              " 'o',\n",
              " 'e',\n",
              " '',\n",
              " 'k',\n",
              " 'e',\n",
              " 'a',\n",
              " 't',\n",
              " 'o',\n",
              " 'n',\n",
              " '',\n",
              " 'd',\n",
              " 'i',\n",
              " 's',\n",
              " 'a',\n",
              " 'p',\n",
              " 'p',\n",
              " 'r',\n",
              " 'o',\n",
              " 'v',\n",
              " 'e',\n",
              " 'd',\n",
              " '',\n",
              " 'o',\n",
              " 'f',\n",
              " '',\n",
              " 'f',\n",
              " 'i',\n",
              " 'l',\n",
              " 'm',\n",
              " 's',\n",
              " '',\n",
              " 'a',\n",
              " 'n',\n",
              " 'd',\n",
              " '',\n",
              " 'b',\n",
              " 'u',\n",
              " 's',\n",
              " 't',\n",
              " 'e',\n",
              " 'r',\n",
              " '',\n",
              " 'a',\n",
              " 'l',\n",
              " 's',\n",
              " 'o',\n",
              " '',\n",
              " 'h',\n",
              " 'a',\n",
              " 'd',\n",
              " '',\n",
              " 'r',\n",
              " 'e',\n",
              " 's',\n",
              " 'e',\n",
              " 'r',\n",
              " 'v',\n",
              " 'a',\n",
              " 't',\n",
              " 'i',\n",
              " 'o',\n",
              " 'n',\n",
              " 's',\n",
              " '',\n",
              " 'a',\n",
              " 'b',\n",
              " 'o',\n",
              " 'u',\n",
              " 't',\n",
              " '',\n",
              " 't',\n",
              " 'h',\n",
              " 'e',\n",
              " '',\n",
              " 'm',\n",
              " 'e',\n",
              " 'd',\n",
              " 'i',\n",
              " 'u',\n",
              " 'm']"
            ]
          },
          "execution_count": 123,
          "metadata": {},
          "output_type": "execute_result"
        }
      ],
      "source": [
        "label_str=processor.batch_decode(onesample['labels'],group_tokens=False)\n",
        "label_str"
      ]
    },
    {
      "cell_type": "code",
      "execution_count": 124,
      "metadata": {},
      "outputs": [
        {
          "data": {
            "text/plain": [
              "'joe keaton disapproved of films and buster also had reservations about the medium'"
            ]
          },
          "execution_count": 124,
          "metadata": {},
          "output_type": "execute_result"
        }
      ],
      "source": [
        "label_str=processor.decode(onesample['labels'],group_tokens=False)\n",
        "label_str"
      ]
    },
    {
      "cell_type": "code",
      "execution_count": 125,
      "metadata": {},
      "outputs": [
        {
          "data": {
            "text/plain": [
              "'joe keaton disapproved of films and buster also had reservations about the medium'"
            ]
          },
          "execution_count": 125,
          "metadata": {},
          "output_type": "execute_result"
        }
      ],
      "source": [
        "label_str=processor.tokenizer.decode(onesample['labels'],group_tokens=False)\n",
        "label_str"
      ]
    },
    {
      "cell_type": "markdown",
      "metadata": {
        "id": "7nkzSQu53Zs2"
      },
      "source": [
        "We adapted `common_voice_test` quite a bit so that the dataset instance does not contain the original sentence label anymore. Thus, we re-use the original dataset to get the label of the first example."
      ]
    },
    {
      "cell_type": "code",
      "execution_count": null,
      "metadata": {
        "colab": {
          "background_save": true,
          "referenced_widgets": [
            "54097a6c744849128d7cc3da8aad6609",
            "b8827ecbec9e44f09216f62c1ee12840",
            "8728bb32478240b7abe576375b01e640",
            "19b8a530352a423794395979e6415bea",
            "5fc8ec04870e4bb7b63b20844c355ab6"
          ]
        },
        "id": "fe2AE-2xqKHx",
        "outputId": "1d8321b3-4f41-4d71-e74e-f33f32a7b261"
      },
      "outputs": [
        {
          "name": "stderr",
          "output_type": "stream",
          "text": [
            "Using custom data configuration tr-ad9f7b76efa9f3a0\n"
          ]
        },
        {
          "name": "stdout",
          "output_type": "stream",
          "text": [
            "Downloading and preparing dataset common_voice/tr (download: 592.09 MiB, generated: 2.89 MiB, post-processed: Unknown size, total: 594.98 MiB) to /root/.cache/huggingface/datasets/common_voice/tr-ad9f7b76efa9f3a0/6.1.0/f7a9d973839b7706e9e281c19b7e512f31badf3c0fdbd21c671f3c4bf9acf3b9...\n"
          ]
        },
        {
          "data": {
            "application/vnd.jupyter.widget-view+json": {
              "model_id": "54097a6c744849128d7cc3da8aad6609",
              "version_major": 2,
              "version_minor": 0
            },
            "text/plain": [
              "0 examples [00:00, ? examples/s]"
            ]
          },
          "metadata": {},
          "output_type": "display_data"
        },
        {
          "data": {
            "application/vnd.jupyter.widget-view+json": {
              "model_id": "b8827ecbec9e44f09216f62c1ee12840",
              "version_major": 2,
              "version_minor": 0
            },
            "text/plain": [
              "0 examples [00:00, ? examples/s]"
            ]
          },
          "metadata": {},
          "output_type": "display_data"
        },
        {
          "data": {
            "application/vnd.jupyter.widget-view+json": {
              "model_id": "8728bb32478240b7abe576375b01e640",
              "version_major": 2,
              "version_minor": 0
            },
            "text/plain": [
              "0 examples [00:00, ? examples/s]"
            ]
          },
          "metadata": {},
          "output_type": "display_data"
        },
        {
          "data": {
            "application/vnd.jupyter.widget-view+json": {
              "model_id": "19b8a530352a423794395979e6415bea",
              "version_major": 2,
              "version_minor": 0
            },
            "text/plain": [
              "0 examples [00:00, ? examples/s]"
            ]
          },
          "metadata": {},
          "output_type": "display_data"
        },
        {
          "data": {
            "application/vnd.jupyter.widget-view+json": {
              "model_id": "5fc8ec04870e4bb7b63b20844c355ab6",
              "version_major": 2,
              "version_minor": 0
            },
            "text/plain": [
              "0 examples [00:00, ? examples/s]"
            ]
          },
          "metadata": {},
          "output_type": "display_data"
        },
        {
          "name": "stdout",
          "output_type": "stream",
          "text": [
            "Dataset common_voice downloaded and prepared to /root/.cache/huggingface/datasets/common_voice/tr-ad9f7b76efa9f3a0/6.1.0/f7a9d973839b7706e9e281c19b7e512f31badf3c0fdbd21c671f3c4bf9acf3b9. Subsequent calls will reuse this data.\n"
          ]
        }
      ],
      "source": [
        "common_voice_test_transcription = load_dataset(\"common_voice\", \"tr\", data_dir=\"./cv-corpus-6.1-2020-12-11\", split=\"test\")"
      ]
    },
    {
      "cell_type": "markdown",
      "metadata": {
        "id": "epu8kCQZ3h70"
      },
      "source": [
        "\n",
        "Finally, we can decode the example."
      ]
    },
    {
      "cell_type": "code",
      "execution_count": null,
      "metadata": {
        "colab": {
          "background_save": true
        },
        "id": "K4xWqmk_qMn0",
        "outputId": "d9e40b3c-f02a-48a1-d081-6d7e8b37dcaf"
      },
      "outputs": [
        {
          "name": "stdout",
          "output_type": "stream",
          "text": [
            "Prediction:\n",
            "ha ta küçük şeyleri için bir büyük biş şeylir koğoluyor ve yeneküçük şeyler için bir birmizi incilkiyoruz\n",
            "\n",
            "Reference:\n",
            "hayatta küçük şeyleri kovalıyor ve yine küçük şeyler için birbirimizi incitiyoruz.\n"
          ]
        }
      ],
      "source": [
        "print(\"Prediction:\")\n",
        "print(processor.decode(pred_ids))\n",
        "\n",
        "print(\"\\nReference:\")\n",
        "print(common_voice_test_transcription[0][\"sentence\"].lower())"
      ]
    },
    {
      "cell_type": "markdown",
      "metadata": {
        "id": "HwhyoMml3oOT"
      },
      "source": [
        "Alright! The transcription can definitely be recognized from our prediction, but it is not perfect yet. Training the model a bit longer, spending more time on the data preprocessing, and especially using a language model for decoding would certainly improve the model's overall performance.\n",
        "\n",
        "For a demonstration model on a low-resource language, the results are quite acceptable however 🤗."
      ]
    }
  ],
  "metadata": {
    "accelerator": "GPU",
    "colab": {
      "machine_shape": "hm",
      "name": "Copy of Fine-Tune XLS-R on Common Voice.ipynb",
      "provenance": [],
      "toc_visible": true
    },
    "kernelspec": {
      "display_name": "mycondapy310",
      "language": "python",
      "name": "mycondapy310"
    },
    "language_info": {
      "codemirror_mode": {
        "name": "ipython",
        "version": 3
      },
      "file_extension": ".py",
      "mimetype": "text/x-python",
      "name": "python",
      "nbconvert_exporter": "python",
      "pygments_lexer": "ipython3",
      "version": "3.10.13"
    },
    "widgets": {
      "application/vnd.jupyter.widget-state+json": {
        "012b09b271a842d0a7f1cd1260654c82": {
          "model_module": "@jupyter-widgets/controls",
          "model_module_version": "1.5.0",
          "model_name": "HBoxModel",
          "state": {
            "_dom_classes": [],
            "_model_module": "@jupyter-widgets/controls",
            "_model_module_version": "1.5.0",
            "_model_name": "HBoxModel",
            "_view_count": null,
            "_view_module": "@jupyter-widgets/controls",
            "_view_module_version": "1.5.0",
            "_view_name": "HBoxView",
            "box_style": "",
            "children": [
              "IPY_MODEL_6a40faf77bf445308534e7acada6bf0d",
              "IPY_MODEL_a62ff1ee03dc47c9834b43720df991ea",
              "IPY_MODEL_03d00b443bfd445d9286f64fd8556031"
            ],
            "layout": "IPY_MODEL_557063bf861648f7aefacf71aa53ea9b"
          }
        },
        "02016dcc44994c15b69e7f2c4dd0d9c4": {
          "model_module": "@jupyter-widgets/controls",
          "model_module_version": "1.5.0",
          "model_name": "DescriptionStyleModel",
          "state": {
            "_model_module": "@jupyter-widgets/controls",
            "_model_module_version": "1.5.0",
            "_model_name": "DescriptionStyleModel",
            "_view_count": null,
            "_view_module": "@jupyter-widgets/base",
            "_view_module_version": "1.2.0",
            "_view_name": "StyleView",
            "description_width": ""
          }
        },
        "0204a7bc668746a68f6e5e5632753c1c": {
          "model_module": "@jupyter-widgets/controls",
          "model_module_version": "1.5.0",
          "model_name": "HTMLModel",
          "state": {
            "_dom_classes": [],
            "_model_module": "@jupyter-widgets/controls",
            "_model_module_version": "1.5.0",
            "_model_name": "HTMLModel",
            "_view_count": null,
            "_view_module": "@jupyter-widgets/controls",
            "_view_module_version": "1.5.0",
            "_view_name": "HTMLView",
            "description": "",
            "description_tooltip": null,
            "layout": "IPY_MODEL_d3b5f5a0d35642e0b606ac63c38f88fa",
            "placeholder": "​",
            "style": "IPY_MODEL_7ce84a97d72848c0967f732734afdd68",
            "value": " 4.55k/? [00:00&lt;00:00, 87.8kB/s]"
          }
        },
        "02519344818c40d0b961c5ea210a5c62": {
          "model_module": "@jupyter-widgets/base",
          "model_module_version": "1.2.0",
          "model_name": "LayoutModel",
          "state": {
            "_model_module": "@jupyter-widgets/base",
            "_model_module_version": "1.2.0",
            "_model_name": "LayoutModel",
            "_view_count": null,
            "_view_module": "@jupyter-widgets/base",
            "_view_module_version": "1.2.0",
            "_view_name": "LayoutView",
            "align_content": null,
            "align_items": null,
            "align_self": null,
            "border": null,
            "bottom": null,
            "display": null,
            "flex": null,
            "flex_flow": null,
            "grid_area": null,
            "grid_auto_columns": null,
            "grid_auto_flow": null,
            "grid_auto_rows": null,
            "grid_column": null,
            "grid_gap": null,
            "grid_row": null,
            "grid_template_areas": null,
            "grid_template_columns": null,
            "grid_template_rows": null,
            "height": null,
            "justify_content": null,
            "justify_items": null,
            "left": null,
            "margin": null,
            "max_height": null,
            "max_width": null,
            "min_height": null,
            "min_width": null,
            "object_fit": null,
            "object_position": null,
            "order": null,
            "overflow": null,
            "overflow_x": null,
            "overflow_y": null,
            "padding": null,
            "right": null,
            "top": null,
            "visibility": null,
            "width": null
          }
        },
        "03d00b443bfd445d9286f64fd8556031": {
          "model_module": "@jupyter-widgets/controls",
          "model_module_version": "1.5.0",
          "model_name": "HTMLModel",
          "state": {
            "_dom_classes": [],
            "_model_module": "@jupyter-widgets/controls",
            "_model_module_version": "1.5.0",
            "_model_name": "HTMLModel",
            "_view_count": null,
            "_view_module": "@jupyter-widgets/controls",
            "_view_module_version": "1.5.0",
            "_view_name": "HTMLView",
            "description": "",
            "description_tooltip": null,
            "layout": "IPY_MODEL_716dc4ab4fe74abab49f3c0f009357f5",
            "placeholder": "​",
            "style": "IPY_MODEL_8a669878b8354867944e577860910001",
            "value": " 3478/3478 [00:39&lt;00:00, 86.00ex/s]"
          }
        },
        "059588e34a88476eb6bbc1860ddc27ef": {
          "model_module": "@jupyter-widgets/controls",
          "model_module_version": "1.5.0",
          "model_name": "DescriptionStyleModel",
          "state": {
            "_model_module": "@jupyter-widgets/controls",
            "_model_module_version": "1.5.0",
            "_model_name": "DescriptionStyleModel",
            "_view_count": null,
            "_view_module": "@jupyter-widgets/base",
            "_view_module_version": "1.2.0",
            "_view_name": "StyleView",
            "description_width": ""
          }
        },
        "093927de0d86406290365759e88fd4e7": {
          "model_module": "@jupyter-widgets/controls",
          "model_module_version": "1.5.0",
          "model_name": "HBoxModel",
          "state": {
            "_dom_classes": [],
            "_model_module": "@jupyter-widgets/controls",
            "_model_module_version": "1.5.0",
            "_model_name": "HBoxModel",
            "_view_count": null,
            "_view_module": "@jupyter-widgets/controls",
            "_view_module_version": "1.5.0",
            "_view_name": "HBoxView",
            "box_style": "",
            "children": [
              "IPY_MODEL_f6e777f3a1684a7da3efc63281553b5e",
              "IPY_MODEL_609781a3f55d4d3dbf0b3640972755fa",
              "IPY_MODEL_8783792878a64402981a416989924348"
            ],
            "layout": "IPY_MODEL_92e295e353624110880cff6835b9e119"
          }
        },
        "0a7c2124936345febe50288a476a12a6": {
          "model_module": "@jupyter-widgets/controls",
          "model_module_version": "1.5.0",
          "model_name": "HTMLModel",
          "state": {
            "_dom_classes": [],
            "_model_module": "@jupyter-widgets/controls",
            "_model_module_version": "1.5.0",
            "_model_name": "HTMLModel",
            "_view_count": null,
            "_view_module": "@jupyter-widgets/controls",
            "_view_module_version": "1.5.0",
            "_view_name": "HTMLView",
            "description": "",
            "description_tooltip": null,
            "layout": "IPY_MODEL_f28c64f34f9540b6b6bdc765c84e2307",
            "placeholder": "​",
            "style": "IPY_MODEL_02016dcc44994c15b69e7f2c4dd0d9c4",
            "value": "100%"
          }
        },
        "0c01a04a8a924740af301c5c53a51315": {
          "model_module": "@jupyter-widgets/base",
          "model_module_version": "1.2.0",
          "model_name": "LayoutModel",
          "state": {
            "_model_module": "@jupyter-widgets/base",
            "_model_module_version": "1.2.0",
            "_model_name": "LayoutModel",
            "_view_count": null,
            "_view_module": "@jupyter-widgets/base",
            "_view_module_version": "1.2.0",
            "_view_name": "LayoutView",
            "align_content": null,
            "align_items": null,
            "align_self": null,
            "border": null,
            "bottom": null,
            "display": null,
            "flex": null,
            "flex_flow": null,
            "grid_area": null,
            "grid_auto_columns": null,
            "grid_auto_flow": null,
            "grid_auto_rows": null,
            "grid_column": null,
            "grid_gap": null,
            "grid_row": null,
            "grid_template_areas": null,
            "grid_template_columns": null,
            "grid_template_rows": null,
            "height": null,
            "justify_content": null,
            "justify_items": null,
            "left": null,
            "margin": null,
            "max_height": null,
            "max_width": null,
            "min_height": null,
            "min_width": null,
            "object_fit": null,
            "object_position": null,
            "order": null,
            "overflow": null,
            "overflow_x": null,
            "overflow_y": null,
            "padding": null,
            "right": null,
            "top": null,
            "visibility": null,
            "width": null
          }
        },
        "136f973d9623421eb38e09c73c6b6810": {
          "model_module": "@jupyter-widgets/controls",
          "model_module_version": "1.5.0",
          "model_name": "DescriptionStyleModel",
          "state": {
            "_model_module": "@jupyter-widgets/controls",
            "_model_module_version": "1.5.0",
            "_model_name": "DescriptionStyleModel",
            "_view_count": null,
            "_view_module": "@jupyter-widgets/base",
            "_view_module_version": "1.2.0",
            "_view_name": "StyleView",
            "description_width": ""
          }
        },
        "15f8964842df434ca0dee00d7dc1bd9a": {
          "model_module": "@jupyter-widgets/controls",
          "model_module_version": "1.5.0",
          "model_name": "DescriptionStyleModel",
          "state": {
            "_model_module": "@jupyter-widgets/controls",
            "_model_module_version": "1.5.0",
            "_model_name": "DescriptionStyleModel",
            "_view_count": null,
            "_view_module": "@jupyter-widgets/base",
            "_view_module_version": "1.2.0",
            "_view_name": "StyleView",
            "description_width": ""
          }
        },
        "1ca82f9af3ae423096661a1ffd8a165f": {
          "model_module": "@jupyter-widgets/controls",
          "model_module_version": "1.5.0",
          "model_name": "HBoxModel",
          "state": {
            "_dom_classes": [],
            "_model_module": "@jupyter-widgets/controls",
            "_model_module_version": "1.5.0",
            "_model_name": "HBoxModel",
            "_view_count": null,
            "_view_module": "@jupyter-widgets/controls",
            "_view_module_version": "1.5.0",
            "_view_name": "HBoxView",
            "box_style": "",
            "children": [
              "IPY_MODEL_ce429683f48349c083e5fc3253a897d7",
              "IPY_MODEL_acc35dfdfca542828d1bb02cbde15dfe",
              "IPY_MODEL_aa92ff120d9c4dd68ae941d7a1f33a81"
            ],
            "layout": "IPY_MODEL_731a283141f642b9ab5bf9f7053381d2"
          }
        },
        "1cdac9cda666466ca1e09f32661d40ed": {
          "model_module": "@jupyter-widgets/controls",
          "model_module_version": "1.5.0",
          "model_name": "DescriptionStyleModel",
          "state": {
            "_model_module": "@jupyter-widgets/controls",
            "_model_module_version": "1.5.0",
            "_model_name": "DescriptionStyleModel",
            "_view_count": null,
            "_view_module": "@jupyter-widgets/base",
            "_view_module_version": "1.2.0",
            "_view_name": "StyleView",
            "description_width": ""
          }
        },
        "21af0f39c0ce40a5846b980f98481940": {
          "model_module": "@jupyter-widgets/base",
          "model_module_version": "1.2.0",
          "model_name": "LayoutModel",
          "state": {
            "_model_module": "@jupyter-widgets/base",
            "_model_module_version": "1.2.0",
            "_model_name": "LayoutModel",
            "_view_count": null,
            "_view_module": "@jupyter-widgets/base",
            "_view_module_version": "1.2.0",
            "_view_name": "LayoutView",
            "align_content": null,
            "align_items": null,
            "align_self": null,
            "border": null,
            "bottom": null,
            "display": null,
            "flex": null,
            "flex_flow": null,
            "grid_area": null,
            "grid_auto_columns": null,
            "grid_auto_flow": null,
            "grid_auto_rows": null,
            "grid_column": null,
            "grid_gap": null,
            "grid_row": null,
            "grid_template_areas": null,
            "grid_template_columns": null,
            "grid_template_rows": null,
            "height": null,
            "justify_content": null,
            "justify_items": null,
            "left": null,
            "margin": null,
            "max_height": null,
            "max_width": null,
            "min_height": null,
            "min_width": null,
            "object_fit": null,
            "object_position": null,
            "order": null,
            "overflow": null,
            "overflow_x": null,
            "overflow_y": null,
            "padding": null,
            "right": null,
            "top": null,
            "visibility": null,
            "width": null
          }
        },
        "26bf8a70fe5449a99ca1b06430b2fc8f": {
          "model_module": "@jupyter-widgets/controls",
          "model_module_version": "1.5.0",
          "model_name": "HTMLModel",
          "state": {
            "_dom_classes": [],
            "_model_module": "@jupyter-widgets/controls",
            "_model_module_version": "1.5.0",
            "_model_name": "HTMLModel",
            "_view_count": null,
            "_view_module": "@jupyter-widgets/controls",
            "_view_module_version": "1.5.0",
            "_view_name": "HTMLView",
            "description": "",
            "description_tooltip": null,
            "layout": "IPY_MODEL_0c01a04a8a924740af301c5c53a51315",
            "placeholder": "​",
            "style": "IPY_MODEL_15f8964842df434ca0dee00d7dc1bd9a",
            "value": "<center>\n<img src=https://huggingface.co/front/assets/huggingface_logo-noborder.svg alt='Hugging Face'>\n<br>\n<b>The AI community building the future</b>\n<br>\nImmediately click login after typing your password or it might be stored in plain text in this notebook file.\n</center>"
          }
        },
        "2b7e52a9be904663ae74226691de6ebd": {
          "model_module": "@jupyter-widgets/base",
          "model_module_version": "1.2.0",
          "model_name": "LayoutModel",
          "state": {
            "_model_module": "@jupyter-widgets/base",
            "_model_module_version": "1.2.0",
            "_model_name": "LayoutModel",
            "_view_count": null,
            "_view_module": "@jupyter-widgets/base",
            "_view_module_version": "1.2.0",
            "_view_name": "LayoutView",
            "align_content": null,
            "align_items": null,
            "align_self": null,
            "border": null,
            "bottom": null,
            "display": null,
            "flex": null,
            "flex_flow": null,
            "grid_area": null,
            "grid_auto_columns": null,
            "grid_auto_flow": null,
            "grid_auto_rows": null,
            "grid_column": null,
            "grid_gap": null,
            "grid_row": null,
            "grid_template_areas": null,
            "grid_template_columns": null,
            "grid_template_rows": null,
            "height": null,
            "justify_content": null,
            "justify_items": null,
            "left": null,
            "margin": null,
            "max_height": null,
            "max_width": null,
            "min_height": null,
            "min_width": null,
            "object_fit": null,
            "object_position": null,
            "order": null,
            "overflow": null,
            "overflow_x": null,
            "overflow_y": null,
            "padding": null,
            "right": null,
            "top": null,
            "visibility": null,
            "width": null
          }
        },
        "2d2b8b8d5774494aa73d872e9a4c10d9": {
          "model_module": "@jupyter-widgets/controls",
          "model_module_version": "1.5.0",
          "model_name": "FloatProgressModel",
          "state": {
            "_dom_classes": [],
            "_model_module": "@jupyter-widgets/controls",
            "_model_module_version": "1.5.0",
            "_model_name": "FloatProgressModel",
            "_view_count": null,
            "_view_module": "@jupyter-widgets/controls",
            "_view_module_version": "1.5.0",
            "_view_name": "ProgressView",
            "bar_style": "success",
            "description": "",
            "description_tooltip": null,
            "layout": "IPY_MODEL_3ec9917890f4452883bcaeac444d056c",
            "max": 1269737156,
            "min": 0,
            "orientation": "horizontal",
            "style": "IPY_MODEL_e9531fcd48b74929bfdb45cd3f3315e7",
            "value": 1269737156
          }
        },
        "2d4eb3e5acc348948299c506db83ca90": {
          "model_module": "@jupyter-widgets/controls",
          "model_module_version": "1.5.0",
          "model_name": "ButtonModel",
          "state": {
            "_dom_classes": [],
            "_model_module": "@jupyter-widgets/controls",
            "_model_module_version": "1.5.0",
            "_model_name": "ButtonModel",
            "_view_count": null,
            "_view_module": "@jupyter-widgets/controls",
            "_view_module_version": "1.5.0",
            "_view_name": "ButtonView",
            "button_style": "",
            "description": "Login",
            "disabled": false,
            "icon": "",
            "layout": "IPY_MODEL_d11d94912b26401a860c80eba767907a",
            "style": "IPY_MODEL_6dd7aa6b17b34d18ba46d834ffd559bc",
            "tooltip": ""
          }
        },
        "349c9e8b2a8846c1bff5a03d2a28066a": {
          "model_module": "@jupyter-widgets/base",
          "model_module_version": "1.2.0",
          "model_name": "LayoutModel",
          "state": {
            "_model_module": "@jupyter-widgets/base",
            "_model_module_version": "1.2.0",
            "_model_name": "LayoutModel",
            "_view_count": null,
            "_view_module": "@jupyter-widgets/base",
            "_view_module_version": "1.2.0",
            "_view_name": "LayoutView",
            "align_content": null,
            "align_items": null,
            "align_self": null,
            "border": null,
            "bottom": null,
            "display": null,
            "flex": null,
            "flex_flow": null,
            "grid_area": null,
            "grid_auto_columns": null,
            "grid_auto_flow": null,
            "grid_auto_rows": null,
            "grid_column": null,
            "grid_gap": null,
            "grid_row": null,
            "grid_template_areas": null,
            "grid_template_columns": null,
            "grid_template_rows": null,
            "height": null,
            "justify_content": null,
            "justify_items": null,
            "left": null,
            "margin": null,
            "max_height": null,
            "max_width": null,
            "min_height": null,
            "min_width": null,
            "object_fit": null,
            "object_position": null,
            "order": null,
            "overflow": null,
            "overflow_x": null,
            "overflow_y": null,
            "padding": null,
            "right": null,
            "top": null,
            "visibility": null,
            "width": null
          }
        },
        "367c85905a024248bce6c620b822b2ee": {
          "model_module": "@jupyter-widgets/controls",
          "model_module_version": "1.5.0",
          "model_name": "HBoxModel",
          "state": {
            "_dom_classes": [],
            "_model_module": "@jupyter-widgets/controls",
            "_model_module_version": "1.5.0",
            "_model_name": "HBoxModel",
            "_view_count": null,
            "_view_module": "@jupyter-widgets/controls",
            "_view_module_version": "1.5.0",
            "_view_name": "HBoxView",
            "box_style": "",
            "children": [
              "IPY_MODEL_7ea310732a56432da1a095a8d30edc1c",
              "IPY_MODEL_2d2b8b8d5774494aa73d872e9a4c10d9",
              "IPY_MODEL_f4af6a0756e241e49e5d325f1bdb18b4"
            ],
            "layout": "IPY_MODEL_2b7e52a9be904663ae74226691de6ebd"
          }
        },
        "379128a308ab43ee9e785e234bb94049": {
          "model_module": "@jupyter-widgets/controls",
          "model_module_version": "1.5.0",
          "model_name": "HTMLModel",
          "state": {
            "_dom_classes": [],
            "_model_module": "@jupyter-widgets/controls",
            "_model_module_version": "1.5.0",
            "_model_name": "HTMLModel",
            "_view_count": null,
            "_view_module": "@jupyter-widgets/controls",
            "_view_module_version": "1.5.0",
            "_view_name": "HTMLView",
            "description": "",
            "description_tooltip": null,
            "layout": "IPY_MODEL_c0919f3c8d594911815ce63273f7fe51",
            "placeholder": "​",
            "style": "IPY_MODEL_69f2a9e473534148b96b2e9bd639a087",
            "value": "Downloading: "
          }
        },
        "384228b409cb4bb0bbd77ef259b9a568": {
          "model_module": "@jupyter-widgets/base",
          "model_module_version": "1.2.0",
          "model_name": "LayoutModel",
          "state": {
            "_model_module": "@jupyter-widgets/base",
            "_model_module_version": "1.2.0",
            "_model_name": "LayoutModel",
            "_view_count": null,
            "_view_module": "@jupyter-widgets/base",
            "_view_module_version": "1.2.0",
            "_view_name": "LayoutView",
            "align_content": null,
            "align_items": "center",
            "align_self": null,
            "border": null,
            "bottom": null,
            "display": "flex",
            "flex": null,
            "flex_flow": "column",
            "grid_area": null,
            "grid_auto_columns": null,
            "grid_auto_flow": null,
            "grid_auto_rows": null,
            "grid_column": null,
            "grid_gap": null,
            "grid_row": null,
            "grid_template_areas": null,
            "grid_template_columns": null,
            "grid_template_rows": null,
            "height": null,
            "justify_content": null,
            "justify_items": null,
            "left": null,
            "margin": null,
            "max_height": null,
            "max_width": null,
            "min_height": null,
            "min_width": null,
            "object_fit": null,
            "object_position": null,
            "order": null,
            "overflow": null,
            "overflow_x": null,
            "overflow_y": null,
            "padding": null,
            "right": null,
            "top": null,
            "visibility": null,
            "width": "50%"
          }
        },
        "3aa317d2b42e4674b38dafa87b5599c5": {
          "model_module": "@jupyter-widgets/controls",
          "model_module_version": "1.5.0",
          "model_name": "HBoxModel",
          "state": {
            "_dom_classes": [],
            "_model_module": "@jupyter-widgets/controls",
            "_model_module_version": "1.5.0",
            "_model_name": "HBoxModel",
            "_view_count": null,
            "_view_module": "@jupyter-widgets/controls",
            "_view_module_version": "1.5.0",
            "_view_name": "HBoxView",
            "box_style": "",
            "children": [
              "IPY_MODEL_0a7c2124936345febe50288a476a12a6",
              "IPY_MODEL_bdcf9380af5d4601b9b2de84b06ecb40",
              "IPY_MODEL_b9c5532ffabb44078de8a6f76a4b8be6"
            ],
            "layout": "IPY_MODEL_7732bb1317f940faa455f992f4fd2b26"
          }
        },
        "3ec9917890f4452883bcaeac444d056c": {
          "model_module": "@jupyter-widgets/base",
          "model_module_version": "1.2.0",
          "model_name": "LayoutModel",
          "state": {
            "_model_module": "@jupyter-widgets/base",
            "_model_module_version": "1.2.0",
            "_model_name": "LayoutModel",
            "_view_count": null,
            "_view_module": "@jupyter-widgets/base",
            "_view_module_version": "1.2.0",
            "_view_name": "LayoutView",
            "align_content": null,
            "align_items": null,
            "align_self": null,
            "border": null,
            "bottom": null,
            "display": null,
            "flex": null,
            "flex_flow": null,
            "grid_area": null,
            "grid_auto_columns": null,
            "grid_auto_flow": null,
            "grid_auto_rows": null,
            "grid_column": null,
            "grid_gap": null,
            "grid_row": null,
            "grid_template_areas": null,
            "grid_template_columns": null,
            "grid_template_rows": null,
            "height": null,
            "justify_content": null,
            "justify_items": null,
            "left": null,
            "margin": null,
            "max_height": null,
            "max_width": null,
            "min_height": null,
            "min_width": null,
            "object_fit": null,
            "object_position": null,
            "order": null,
            "overflow": null,
            "overflow_x": null,
            "overflow_y": null,
            "padding": null,
            "right": null,
            "top": null,
            "visibility": null,
            "width": null
          }
        },
        "3f0c587f7b764d96837c8e16254aab12": {
          "model_module": "@jupyter-widgets/controls",
          "model_module_version": "1.5.0",
          "model_name": "ProgressStyleModel",
          "state": {
            "_model_module": "@jupyter-widgets/controls",
            "_model_module_version": "1.5.0",
            "_model_name": "ProgressStyleModel",
            "_view_count": null,
            "_view_module": "@jupyter-widgets/base",
            "_view_module_version": "1.2.0",
            "_view_name": "StyleView",
            "bar_color": null,
            "description_width": ""
          }
        },
        "4246da00789f44e2abce952906bde6f1": {
          "model_module": "@jupyter-widgets/base",
          "model_module_version": "1.2.0",
          "model_name": "LayoutModel",
          "state": {
            "_model_module": "@jupyter-widgets/base",
            "_model_module_version": "1.2.0",
            "_model_name": "LayoutModel",
            "_view_count": null,
            "_view_module": "@jupyter-widgets/base",
            "_view_module_version": "1.2.0",
            "_view_name": "LayoutView",
            "align_content": null,
            "align_items": null,
            "align_self": null,
            "border": null,
            "bottom": null,
            "display": null,
            "flex": null,
            "flex_flow": null,
            "grid_area": null,
            "grid_auto_columns": null,
            "grid_auto_flow": null,
            "grid_auto_rows": null,
            "grid_column": null,
            "grid_gap": null,
            "grid_row": null,
            "grid_template_areas": null,
            "grid_template_columns": null,
            "grid_template_rows": null,
            "height": null,
            "justify_content": null,
            "justify_items": null,
            "left": null,
            "margin": null,
            "max_height": null,
            "max_width": null,
            "min_height": null,
            "min_width": null,
            "object_fit": null,
            "object_position": null,
            "order": null,
            "overflow": null,
            "overflow_x": null,
            "overflow_y": null,
            "padding": null,
            "right": null,
            "top": null,
            "visibility": null,
            "width": null
          }
        },
        "46c8681bd36f419495d33b06c96311ed": {
          "model_module": "@jupyter-widgets/controls",
          "model_module_version": "1.5.0",
          "model_name": "DescriptionStyleModel",
          "state": {
            "_model_module": "@jupyter-widgets/controls",
            "_model_module_version": "1.5.0",
            "_model_name": "DescriptionStyleModel",
            "_view_count": null,
            "_view_module": "@jupyter-widgets/base",
            "_view_module_version": "1.2.0",
            "_view_name": "StyleView",
            "description_width": ""
          }
        },
        "49f98244a8634be9b2305bb87731e765": {
          "model_module": "@jupyter-widgets/controls",
          "model_module_version": "1.5.0",
          "model_name": "TextModel",
          "state": {
            "_dom_classes": [],
            "_model_module": "@jupyter-widgets/controls",
            "_model_module_version": "1.5.0",
            "_model_name": "TextModel",
            "_view_count": null,
            "_view_module": "@jupyter-widgets/controls",
            "_view_module_version": "1.5.0",
            "_view_name": "TextView",
            "continuous_update": true,
            "description": "Username:",
            "description_tooltip": null,
            "disabled": false,
            "layout": "IPY_MODEL_4bf1f9d3031e4877aa6ef704e9a227d7",
            "placeholder": "​",
            "style": "IPY_MODEL_bfb6a1e47f6e4f74af4db7e71227ef3e",
            "value": ""
          }
        },
        "4bf1f9d3031e4877aa6ef704e9a227d7": {
          "model_module": "@jupyter-widgets/base",
          "model_module_version": "1.2.0",
          "model_name": "LayoutModel",
          "state": {
            "_model_module": "@jupyter-widgets/base",
            "_model_module_version": "1.2.0",
            "_model_name": "LayoutModel",
            "_view_count": null,
            "_view_module": "@jupyter-widgets/base",
            "_view_module_version": "1.2.0",
            "_view_name": "LayoutView",
            "align_content": null,
            "align_items": null,
            "align_self": null,
            "border": null,
            "bottom": null,
            "display": null,
            "flex": null,
            "flex_flow": null,
            "grid_area": null,
            "grid_auto_columns": null,
            "grid_auto_flow": null,
            "grid_auto_rows": null,
            "grid_column": null,
            "grid_gap": null,
            "grid_row": null,
            "grid_template_areas": null,
            "grid_template_columns": null,
            "grid_template_rows": null,
            "height": null,
            "justify_content": null,
            "justify_items": null,
            "left": null,
            "margin": null,
            "max_height": null,
            "max_width": null,
            "min_height": null,
            "min_width": null,
            "object_fit": null,
            "object_position": null,
            "order": null,
            "overflow": null,
            "overflow_x": null,
            "overflow_y": null,
            "padding": null,
            "right": null,
            "top": null,
            "visibility": null,
            "width": null
          }
        },
        "4c3e043e600641538a479df6ad389784": {
          "model_module": "@jupyter-widgets/base",
          "model_module_version": "1.2.0",
          "model_name": "LayoutModel",
          "state": {
            "_model_module": "@jupyter-widgets/base",
            "_model_module_version": "1.2.0",
            "_model_name": "LayoutModel",
            "_view_count": null,
            "_view_module": "@jupyter-widgets/base",
            "_view_module_version": "1.2.0",
            "_view_name": "LayoutView",
            "align_content": null,
            "align_items": null,
            "align_self": null,
            "border": null,
            "bottom": null,
            "display": null,
            "flex": null,
            "flex_flow": null,
            "grid_area": null,
            "grid_auto_columns": null,
            "grid_auto_flow": null,
            "grid_auto_rows": null,
            "grid_column": null,
            "grid_gap": null,
            "grid_row": null,
            "grid_template_areas": null,
            "grid_template_columns": null,
            "grid_template_rows": null,
            "height": null,
            "justify_content": null,
            "justify_items": null,
            "left": null,
            "margin": null,
            "max_height": null,
            "max_width": null,
            "min_height": null,
            "min_width": null,
            "object_fit": null,
            "object_position": null,
            "order": null,
            "overflow": null,
            "overflow_x": null,
            "overflow_y": null,
            "padding": null,
            "right": null,
            "top": null,
            "visibility": null,
            "width": null
          }
        },
        "4f81e460906a428f9f74a0aa469ba63f": {
          "model_module": "@jupyter-widgets/controls",
          "model_module_version": "1.5.0",
          "model_name": "DescriptionStyleModel",
          "state": {
            "_model_module": "@jupyter-widgets/controls",
            "_model_module_version": "1.5.0",
            "_model_name": "DescriptionStyleModel",
            "_view_count": null,
            "_view_module": "@jupyter-widgets/base",
            "_view_module_version": "1.2.0",
            "_view_name": "StyleView",
            "description_width": ""
          }
        },
        "557063bf861648f7aefacf71aa53ea9b": {
          "model_module": "@jupyter-widgets/base",
          "model_module_version": "1.2.0",
          "model_name": "LayoutModel",
          "state": {
            "_model_module": "@jupyter-widgets/base",
            "_model_module_version": "1.2.0",
            "_model_name": "LayoutModel",
            "_view_count": null,
            "_view_module": "@jupyter-widgets/base",
            "_view_module_version": "1.2.0",
            "_view_name": "LayoutView",
            "align_content": null,
            "align_items": null,
            "align_self": null,
            "border": null,
            "bottom": null,
            "display": null,
            "flex": null,
            "flex_flow": null,
            "grid_area": null,
            "grid_auto_columns": null,
            "grid_auto_flow": null,
            "grid_auto_rows": null,
            "grid_column": null,
            "grid_gap": null,
            "grid_row": null,
            "grid_template_areas": null,
            "grid_template_columns": null,
            "grid_template_rows": null,
            "height": null,
            "justify_content": null,
            "justify_items": null,
            "left": null,
            "margin": null,
            "max_height": null,
            "max_width": null,
            "min_height": null,
            "min_width": null,
            "object_fit": null,
            "object_position": null,
            "order": null,
            "overflow": null,
            "overflow_x": null,
            "overflow_y": null,
            "padding": null,
            "right": null,
            "top": null,
            "visibility": null,
            "width": null
          }
        },
        "5ba2a38c71e64253a4fd39cf7d3b3326": {
          "model_module": "@jupyter-widgets/controls",
          "model_module_version": "1.5.0",
          "model_name": "ProgressStyleModel",
          "state": {
            "_model_module": "@jupyter-widgets/controls",
            "_model_module_version": "1.5.0",
            "_model_name": "ProgressStyleModel",
            "_view_count": null,
            "_view_module": "@jupyter-widgets/base",
            "_view_module_version": "1.2.0",
            "_view_name": "StyleView",
            "bar_color": null,
            "description_width": ""
          }
        },
        "5cd8c74ba2e845d498afdc1c25009767": {
          "model_module": "@jupyter-widgets/base",
          "model_module_version": "1.2.0",
          "model_name": "LayoutModel",
          "state": {
            "_model_module": "@jupyter-widgets/base",
            "_model_module_version": "1.2.0",
            "_model_name": "LayoutModel",
            "_view_count": null,
            "_view_module": "@jupyter-widgets/base",
            "_view_module_version": "1.2.0",
            "_view_name": "LayoutView",
            "align_content": null,
            "align_items": null,
            "align_self": null,
            "border": null,
            "bottom": null,
            "display": null,
            "flex": null,
            "flex_flow": null,
            "grid_area": null,
            "grid_auto_columns": null,
            "grid_auto_flow": null,
            "grid_auto_rows": null,
            "grid_column": null,
            "grid_gap": null,
            "grid_row": null,
            "grid_template_areas": null,
            "grid_template_columns": null,
            "grid_template_rows": null,
            "height": null,
            "justify_content": null,
            "justify_items": null,
            "left": null,
            "margin": null,
            "max_height": null,
            "max_width": null,
            "min_height": null,
            "min_width": null,
            "object_fit": null,
            "object_position": null,
            "order": null,
            "overflow": null,
            "overflow_x": null,
            "overflow_y": null,
            "padding": null,
            "right": null,
            "top": null,
            "visibility": null,
            "width": null
          }
        },
        "5cff6b2dd6944c59b8c2f205db5f49bf": {
          "model_module": "@jupyter-widgets/base",
          "model_module_version": "1.2.0",
          "model_name": "LayoutModel",
          "state": {
            "_model_module": "@jupyter-widgets/base",
            "_model_module_version": "1.2.0",
            "_model_name": "LayoutModel",
            "_view_count": null,
            "_view_module": "@jupyter-widgets/base",
            "_view_module_version": "1.2.0",
            "_view_name": "LayoutView",
            "align_content": null,
            "align_items": null,
            "align_self": null,
            "border": null,
            "bottom": null,
            "display": null,
            "flex": null,
            "flex_flow": null,
            "grid_area": null,
            "grid_auto_columns": null,
            "grid_auto_flow": null,
            "grid_auto_rows": null,
            "grid_column": null,
            "grid_gap": null,
            "grid_row": null,
            "grid_template_areas": null,
            "grid_template_columns": null,
            "grid_template_rows": null,
            "height": null,
            "justify_content": null,
            "justify_items": null,
            "left": null,
            "margin": null,
            "max_height": null,
            "max_width": null,
            "min_height": null,
            "min_width": null,
            "object_fit": null,
            "object_position": null,
            "order": null,
            "overflow": null,
            "overflow_x": null,
            "overflow_y": null,
            "padding": null,
            "right": null,
            "top": null,
            "visibility": null,
            "width": null
          }
        },
        "609781a3f55d4d3dbf0b3640972755fa": {
          "model_module": "@jupyter-widgets/controls",
          "model_module_version": "1.5.0",
          "model_name": "FloatProgressModel",
          "state": {
            "_dom_classes": [],
            "_model_module": "@jupyter-widgets/controls",
            "_model_module_version": "1.5.0",
            "_model_name": "FloatProgressModel",
            "_view_count": null,
            "_view_module": "@jupyter-widgets/controls",
            "_view_module_version": "1.5.0",
            "_view_name": "ProgressView",
            "bar_style": "success",
            "description": "",
            "description_tooltip": null,
            "layout": "IPY_MODEL_a5777207c788498fb4ac4900af91d7cf",
            "max": 1,
            "min": 0,
            "orientation": "horizontal",
            "style": "IPY_MODEL_890ff54dc35e460b9108e2690966fafe",
            "value": 1
          }
        },
        "6323e35581be4b338a904266a5e85005": {
          "model_module": "@jupyter-widgets/base",
          "model_module_version": "1.2.0",
          "model_name": "LayoutModel",
          "state": {
            "_model_module": "@jupyter-widgets/base",
            "_model_module_version": "1.2.0",
            "_model_name": "LayoutModel",
            "_view_count": null,
            "_view_module": "@jupyter-widgets/base",
            "_view_module_version": "1.2.0",
            "_view_name": "LayoutView",
            "align_content": null,
            "align_items": null,
            "align_self": null,
            "border": null,
            "bottom": null,
            "display": null,
            "flex": null,
            "flex_flow": null,
            "grid_area": null,
            "grid_auto_columns": null,
            "grid_auto_flow": null,
            "grid_auto_rows": null,
            "grid_column": null,
            "grid_gap": null,
            "grid_row": null,
            "grid_template_areas": null,
            "grid_template_columns": null,
            "grid_template_rows": null,
            "height": null,
            "justify_content": null,
            "justify_items": null,
            "left": null,
            "margin": null,
            "max_height": null,
            "max_width": null,
            "min_height": null,
            "min_width": null,
            "object_fit": null,
            "object_position": null,
            "order": null,
            "overflow": null,
            "overflow_x": null,
            "overflow_y": null,
            "padding": null,
            "right": null,
            "top": null,
            "visibility": null,
            "width": null
          }
        },
        "69f2a9e473534148b96b2e9bd639a087": {
          "model_module": "@jupyter-widgets/controls",
          "model_module_version": "1.5.0",
          "model_name": "DescriptionStyleModel",
          "state": {
            "_model_module": "@jupyter-widgets/controls",
            "_model_module_version": "1.5.0",
            "_model_name": "DescriptionStyleModel",
            "_view_count": null,
            "_view_module": "@jupyter-widgets/base",
            "_view_module_version": "1.2.0",
            "_view_name": "StyleView",
            "description_width": ""
          }
        },
        "6a40faf77bf445308534e7acada6bf0d": {
          "model_module": "@jupyter-widgets/controls",
          "model_module_version": "1.5.0",
          "model_name": "HTMLModel",
          "state": {
            "_dom_classes": [],
            "_model_module": "@jupyter-widgets/controls",
            "_model_module_version": "1.5.0",
            "_model_name": "HTMLModel",
            "_view_count": null,
            "_view_module": "@jupyter-widgets/controls",
            "_view_module_version": "1.5.0",
            "_view_name": "HTMLView",
            "description": "",
            "description_tooltip": null,
            "layout": "IPY_MODEL_21af0f39c0ce40a5846b980f98481940",
            "placeholder": "​",
            "style": "IPY_MODEL_f6e0ea791e5a44abb5d5891bb3e254ad",
            "value": "100%"
          }
        },
        "6ae3b3139e6641fc9e62ae5744349add": {
          "model_module": "@jupyter-widgets/base",
          "model_module_version": "1.2.0",
          "model_name": "LayoutModel",
          "state": {
            "_model_module": "@jupyter-widgets/base",
            "_model_module_version": "1.2.0",
            "_model_name": "LayoutModel",
            "_view_count": null,
            "_view_module": "@jupyter-widgets/base",
            "_view_module_version": "1.2.0",
            "_view_name": "LayoutView",
            "align_content": null,
            "align_items": null,
            "align_self": null,
            "border": null,
            "bottom": null,
            "display": null,
            "flex": null,
            "flex_flow": null,
            "grid_area": null,
            "grid_auto_columns": null,
            "grid_auto_flow": null,
            "grid_auto_rows": null,
            "grid_column": null,
            "grid_gap": null,
            "grid_row": null,
            "grid_template_areas": null,
            "grid_template_columns": null,
            "grid_template_rows": null,
            "height": null,
            "justify_content": null,
            "justify_items": null,
            "left": null,
            "margin": null,
            "max_height": null,
            "max_width": null,
            "min_height": null,
            "min_width": null,
            "object_fit": null,
            "object_position": null,
            "order": null,
            "overflow": null,
            "overflow_x": null,
            "overflow_y": null,
            "padding": null,
            "right": null,
            "top": null,
            "visibility": null,
            "width": null
          }
        },
        "6da7072e7f634a3aa2927fca1bcf38c0": {
          "model_module": "@jupyter-widgets/controls",
          "model_module_version": "1.5.0",
          "model_name": "ProgressStyleModel",
          "state": {
            "_model_module": "@jupyter-widgets/controls",
            "_model_module_version": "1.5.0",
            "_model_name": "ProgressStyleModel",
            "_view_count": null,
            "_view_module": "@jupyter-widgets/base",
            "_view_module_version": "1.2.0",
            "_view_name": "StyleView",
            "bar_color": null,
            "description_width": ""
          }
        },
        "6dd7aa6b17b34d18ba46d834ffd559bc": {
          "model_module": "@jupyter-widgets/controls",
          "model_module_version": "1.5.0",
          "model_name": "ButtonStyleModel",
          "state": {
            "_model_module": "@jupyter-widgets/controls",
            "_model_module_version": "1.5.0",
            "_model_name": "ButtonStyleModel",
            "_view_count": null,
            "_view_module": "@jupyter-widgets/base",
            "_view_module_version": "1.2.0",
            "_view_name": "StyleView",
            "button_color": null,
            "font_weight": ""
          }
        },
        "6ec3c80319fb45f3b6f7715049c9bce0": {
          "model_module": "@jupyter-widgets/base",
          "model_module_version": "1.2.0",
          "model_name": "LayoutModel",
          "state": {
            "_model_module": "@jupyter-widgets/base",
            "_model_module_version": "1.2.0",
            "_model_name": "LayoutModel",
            "_view_count": null,
            "_view_module": "@jupyter-widgets/base",
            "_view_module_version": "1.2.0",
            "_view_name": "LayoutView",
            "align_content": null,
            "align_items": null,
            "align_self": null,
            "border": null,
            "bottom": null,
            "display": null,
            "flex": null,
            "flex_flow": null,
            "grid_area": null,
            "grid_auto_columns": null,
            "grid_auto_flow": null,
            "grid_auto_rows": null,
            "grid_column": null,
            "grid_gap": null,
            "grid_row": null,
            "grid_template_areas": null,
            "grid_template_columns": null,
            "grid_template_rows": null,
            "height": null,
            "justify_content": null,
            "justify_items": null,
            "left": null,
            "margin": null,
            "max_height": null,
            "max_width": null,
            "min_height": null,
            "min_width": null,
            "object_fit": null,
            "object_position": null,
            "order": null,
            "overflow": null,
            "overflow_x": null,
            "overflow_y": null,
            "padding": null,
            "right": null,
            "top": null,
            "visibility": null,
            "width": null
          }
        },
        "716dc4ab4fe74abab49f3c0f009357f5": {
          "model_module": "@jupyter-widgets/base",
          "model_module_version": "1.2.0",
          "model_name": "LayoutModel",
          "state": {
            "_model_module": "@jupyter-widgets/base",
            "_model_module_version": "1.2.0",
            "_model_name": "LayoutModel",
            "_view_count": null,
            "_view_module": "@jupyter-widgets/base",
            "_view_module_version": "1.2.0",
            "_view_name": "LayoutView",
            "align_content": null,
            "align_items": null,
            "align_self": null,
            "border": null,
            "bottom": null,
            "display": null,
            "flex": null,
            "flex_flow": null,
            "grid_area": null,
            "grid_auto_columns": null,
            "grid_auto_flow": null,
            "grid_auto_rows": null,
            "grid_column": null,
            "grid_gap": null,
            "grid_row": null,
            "grid_template_areas": null,
            "grid_template_columns": null,
            "grid_template_rows": null,
            "height": null,
            "justify_content": null,
            "justify_items": null,
            "left": null,
            "margin": null,
            "max_height": null,
            "max_width": null,
            "min_height": null,
            "min_width": null,
            "object_fit": null,
            "object_position": null,
            "order": null,
            "overflow": null,
            "overflow_x": null,
            "overflow_y": null,
            "padding": null,
            "right": null,
            "top": null,
            "visibility": null,
            "width": null
          }
        },
        "731a283141f642b9ab5bf9f7053381d2": {
          "model_module": "@jupyter-widgets/base",
          "model_module_version": "1.2.0",
          "model_name": "LayoutModel",
          "state": {
            "_model_module": "@jupyter-widgets/base",
            "_model_module_version": "1.2.0",
            "_model_name": "LayoutModel",
            "_view_count": null,
            "_view_module": "@jupyter-widgets/base",
            "_view_module_version": "1.2.0",
            "_view_name": "LayoutView",
            "align_content": null,
            "align_items": null,
            "align_self": null,
            "border": null,
            "bottom": null,
            "display": null,
            "flex": null,
            "flex_flow": null,
            "grid_area": null,
            "grid_auto_columns": null,
            "grid_auto_flow": null,
            "grid_auto_rows": null,
            "grid_column": null,
            "grid_gap": null,
            "grid_row": null,
            "grid_template_areas": null,
            "grid_template_columns": null,
            "grid_template_rows": null,
            "height": null,
            "justify_content": null,
            "justify_items": null,
            "left": null,
            "margin": null,
            "max_height": null,
            "max_width": null,
            "min_height": null,
            "min_width": null,
            "object_fit": null,
            "object_position": null,
            "order": null,
            "overflow": null,
            "overflow_x": null,
            "overflow_y": null,
            "padding": null,
            "right": null,
            "top": null,
            "visibility": null,
            "width": null
          }
        },
        "75b26f4a95d24e9d8939d1f7b376eb51": {
          "model_module": "@jupyter-widgets/controls",
          "model_module_version": "1.5.0",
          "model_name": "HTMLModel",
          "state": {
            "_dom_classes": [],
            "_model_module": "@jupyter-widgets/controls",
            "_model_module_version": "1.5.0",
            "_model_name": "HTMLModel",
            "_view_count": null,
            "_view_module": "@jupyter-widgets/controls",
            "_view_module_version": "1.5.0",
            "_view_name": "HTMLView",
            "description": "",
            "description_tooltip": null,
            "layout": "IPY_MODEL_02519344818c40d0b961c5ea210a5c62",
            "placeholder": "​",
            "style": "IPY_MODEL_e575e46791b24f449b8afcb773e46dcc",
            "value": "100%"
          }
        },
        "771530ea22364f1ea8963e2d542fcf49": {
          "model_module": "@jupyter-widgets/base",
          "model_module_version": "1.2.0",
          "model_name": "LayoutModel",
          "state": {
            "_model_module": "@jupyter-widgets/base",
            "_model_module_version": "1.2.0",
            "_model_name": "LayoutModel",
            "_view_count": null,
            "_view_module": "@jupyter-widgets/base",
            "_view_module_version": "1.2.0",
            "_view_name": "LayoutView",
            "align_content": null,
            "align_items": null,
            "align_self": null,
            "border": null,
            "bottom": null,
            "display": null,
            "flex": null,
            "flex_flow": null,
            "grid_area": null,
            "grid_auto_columns": null,
            "grid_auto_flow": null,
            "grid_auto_rows": null,
            "grid_column": null,
            "grid_gap": null,
            "grid_row": null,
            "grid_template_areas": null,
            "grid_template_columns": null,
            "grid_template_rows": null,
            "height": null,
            "justify_content": null,
            "justify_items": null,
            "left": null,
            "margin": null,
            "max_height": null,
            "max_width": null,
            "min_height": null,
            "min_width": null,
            "object_fit": null,
            "object_position": null,
            "order": null,
            "overflow": null,
            "overflow_x": null,
            "overflow_y": null,
            "padding": null,
            "right": null,
            "top": null,
            "visibility": null,
            "width": null
          }
        },
        "7732bb1317f940faa455f992f4fd2b26": {
          "model_module": "@jupyter-widgets/base",
          "model_module_version": "1.2.0",
          "model_name": "LayoutModel",
          "state": {
            "_model_module": "@jupyter-widgets/base",
            "_model_module_version": "1.2.0",
            "_model_name": "LayoutModel",
            "_view_count": null,
            "_view_module": "@jupyter-widgets/base",
            "_view_module_version": "1.2.0",
            "_view_name": "LayoutView",
            "align_content": null,
            "align_items": null,
            "align_self": null,
            "border": null,
            "bottom": null,
            "display": null,
            "flex": null,
            "flex_flow": null,
            "grid_area": null,
            "grid_auto_columns": null,
            "grid_auto_flow": null,
            "grid_auto_rows": null,
            "grid_column": null,
            "grid_gap": null,
            "grid_row": null,
            "grid_template_areas": null,
            "grid_template_columns": null,
            "grid_template_rows": null,
            "height": null,
            "justify_content": null,
            "justify_items": null,
            "left": null,
            "margin": null,
            "max_height": null,
            "max_width": null,
            "min_height": null,
            "min_width": null,
            "object_fit": null,
            "object_position": null,
            "order": null,
            "overflow": null,
            "overflow_x": null,
            "overflow_y": null,
            "padding": null,
            "right": null,
            "top": null,
            "visibility": null,
            "width": null
          }
        },
        "7c81059d35534b799623afe872095cac": {
          "model_module": "@jupyter-widgets/controls",
          "model_module_version": "1.5.0",
          "model_name": "HBoxModel",
          "state": {
            "_dom_classes": [],
            "_model_module": "@jupyter-widgets/controls",
            "_model_module_version": "1.5.0",
            "_model_name": "HBoxModel",
            "_view_count": null,
            "_view_module": "@jupyter-widgets/controls",
            "_view_module_version": "1.5.0",
            "_view_name": "HBoxView",
            "box_style": "",
            "children": [
              "IPY_MODEL_379128a308ab43ee9e785e234bb94049",
              "IPY_MODEL_ff8e746cf8ef4f988617b8d4c0dd3c9c",
              "IPY_MODEL_0204a7bc668746a68f6e5e5632753c1c"
            ],
            "layout": "IPY_MODEL_84361b363998428a87b9e50b6625cca9"
          }
        },
        "7ce84a97d72848c0967f732734afdd68": {
          "model_module": "@jupyter-widgets/controls",
          "model_module_version": "1.5.0",
          "model_name": "DescriptionStyleModel",
          "state": {
            "_model_module": "@jupyter-widgets/controls",
            "_model_module_version": "1.5.0",
            "_model_name": "DescriptionStyleModel",
            "_view_count": null,
            "_view_module": "@jupyter-widgets/base",
            "_view_module_version": "1.2.0",
            "_view_name": "StyleView",
            "description_width": ""
          }
        },
        "7ea310732a56432da1a095a8d30edc1c": {
          "model_module": "@jupyter-widgets/controls",
          "model_module_version": "1.5.0",
          "model_name": "HTMLModel",
          "state": {
            "_dom_classes": [],
            "_model_module": "@jupyter-widgets/controls",
            "_model_module_version": "1.5.0",
            "_model_name": "HTMLModel",
            "_view_count": null,
            "_view_module": "@jupyter-widgets/controls",
            "_view_module_version": "1.5.0",
            "_view_name": "HTMLView",
            "description": "",
            "description_tooltip": null,
            "layout": "IPY_MODEL_771530ea22364f1ea8963e2d542fcf49",
            "placeholder": "​",
            "style": "IPY_MODEL_1cdac9cda666466ca1e09f32661d40ed",
            "value": "Downloading: 100%"
          }
        },
        "84361b363998428a87b9e50b6625cca9": {
          "model_module": "@jupyter-widgets/base",
          "model_module_version": "1.2.0",
          "model_name": "LayoutModel",
          "state": {
            "_model_module": "@jupyter-widgets/base",
            "_model_module_version": "1.2.0",
            "_model_name": "LayoutModel",
            "_view_count": null,
            "_view_module": "@jupyter-widgets/base",
            "_view_module_version": "1.2.0",
            "_view_name": "LayoutView",
            "align_content": null,
            "align_items": null,
            "align_self": null,
            "border": null,
            "bottom": null,
            "display": null,
            "flex": null,
            "flex_flow": null,
            "grid_area": null,
            "grid_auto_columns": null,
            "grid_auto_flow": null,
            "grid_auto_rows": null,
            "grid_column": null,
            "grid_gap": null,
            "grid_row": null,
            "grid_template_areas": null,
            "grid_template_columns": null,
            "grid_template_rows": null,
            "height": null,
            "justify_content": null,
            "justify_items": null,
            "left": null,
            "margin": null,
            "max_height": null,
            "max_width": null,
            "min_height": null,
            "min_width": null,
            "object_fit": null,
            "object_position": null,
            "order": null,
            "overflow": null,
            "overflow_x": null,
            "overflow_y": null,
            "padding": null,
            "right": null,
            "top": null,
            "visibility": null,
            "width": null
          }
        },
        "8541f8f949ea49b7a1335aaf31ca4f81": {
          "model_module": "@jupyter-widgets/base",
          "model_module_version": "1.2.0",
          "model_name": "LayoutModel",
          "state": {
            "_model_module": "@jupyter-widgets/base",
            "_model_module_version": "1.2.0",
            "_model_name": "LayoutModel",
            "_view_count": null,
            "_view_module": "@jupyter-widgets/base",
            "_view_module_version": "1.2.0",
            "_view_name": "LayoutView",
            "align_content": null,
            "align_items": null,
            "align_self": null,
            "border": null,
            "bottom": null,
            "display": null,
            "flex": null,
            "flex_flow": null,
            "grid_area": null,
            "grid_auto_columns": null,
            "grid_auto_flow": null,
            "grid_auto_rows": null,
            "grid_column": null,
            "grid_gap": null,
            "grid_row": null,
            "grid_template_areas": null,
            "grid_template_columns": null,
            "grid_template_rows": null,
            "height": null,
            "justify_content": null,
            "justify_items": null,
            "left": null,
            "margin": null,
            "max_height": null,
            "max_width": null,
            "min_height": null,
            "min_width": null,
            "object_fit": null,
            "object_position": null,
            "order": null,
            "overflow": null,
            "overflow_x": null,
            "overflow_y": null,
            "padding": null,
            "right": null,
            "top": null,
            "visibility": null,
            "width": null
          }
        },
        "8783792878a64402981a416989924348": {
          "model_module": "@jupyter-widgets/controls",
          "model_module_version": "1.5.0",
          "model_name": "HTMLModel",
          "state": {
            "_dom_classes": [],
            "_model_module": "@jupyter-widgets/controls",
            "_model_module_version": "1.5.0",
            "_model_name": "HTMLModel",
            "_view_count": null,
            "_view_module": "@jupyter-widgets/controls",
            "_view_module_version": "1.5.0",
            "_view_name": "HTMLView",
            "description": "",
            "description_tooltip": null,
            "layout": "IPY_MODEL_cc70741031664fa89bfe8e8e672c5b2b",
            "placeholder": "​",
            "style": "IPY_MODEL_46c8681bd36f419495d33b06c96311ed",
            "value": " 1/1 [00:00&lt;00:00, 18.54ba/s]"
          }
        },
        "890ff54dc35e460b9108e2690966fafe": {
          "model_module": "@jupyter-widgets/controls",
          "model_module_version": "1.5.0",
          "model_name": "ProgressStyleModel",
          "state": {
            "_model_module": "@jupyter-widgets/controls",
            "_model_module_version": "1.5.0",
            "_model_name": "ProgressStyleModel",
            "_view_count": null,
            "_view_module": "@jupyter-widgets/base",
            "_view_module_version": "1.2.0",
            "_view_name": "StyleView",
            "bar_color": null,
            "description_width": ""
          }
        },
        "8a669878b8354867944e577860910001": {
          "model_module": "@jupyter-widgets/controls",
          "model_module_version": "1.5.0",
          "model_name": "DescriptionStyleModel",
          "state": {
            "_model_module": "@jupyter-widgets/controls",
            "_model_module_version": "1.5.0",
            "_model_name": "DescriptionStyleModel",
            "_view_count": null,
            "_view_module": "@jupyter-widgets/base",
            "_view_module_version": "1.2.0",
            "_view_name": "StyleView",
            "description_width": ""
          }
        },
        "92c30a7c6102443cad2f6f03211c32e0": {
          "model_module": "@jupyter-widgets/controls",
          "model_module_version": "1.5.0",
          "model_name": "ProgressStyleModel",
          "state": {
            "_model_module": "@jupyter-widgets/controls",
            "_model_module_version": "1.5.0",
            "_model_name": "ProgressStyleModel",
            "_view_count": null,
            "_view_module": "@jupyter-widgets/base",
            "_view_module_version": "1.2.0",
            "_view_name": "StyleView",
            "bar_color": null,
            "description_width": ""
          }
        },
        "92e295e353624110880cff6835b9e119": {
          "model_module": "@jupyter-widgets/base",
          "model_module_version": "1.2.0",
          "model_name": "LayoutModel",
          "state": {
            "_model_module": "@jupyter-widgets/base",
            "_model_module_version": "1.2.0",
            "_model_name": "LayoutModel",
            "_view_count": null,
            "_view_module": "@jupyter-widgets/base",
            "_view_module_version": "1.2.0",
            "_view_name": "LayoutView",
            "align_content": null,
            "align_items": null,
            "align_self": null,
            "border": null,
            "bottom": null,
            "display": null,
            "flex": null,
            "flex_flow": null,
            "grid_area": null,
            "grid_auto_columns": null,
            "grid_auto_flow": null,
            "grid_auto_rows": null,
            "grid_column": null,
            "grid_gap": null,
            "grid_row": null,
            "grid_template_areas": null,
            "grid_template_columns": null,
            "grid_template_rows": null,
            "height": null,
            "justify_content": null,
            "justify_items": null,
            "left": null,
            "margin": null,
            "max_height": null,
            "max_width": null,
            "min_height": null,
            "min_width": null,
            "object_fit": null,
            "object_position": null,
            "order": null,
            "overflow": null,
            "overflow_x": null,
            "overflow_y": null,
            "padding": null,
            "right": null,
            "top": null,
            "visibility": null,
            "width": null
          }
        },
        "a1419cc920324f62be58d6e48a82e275": {
          "model_module": "@jupyter-widgets/controls",
          "model_module_version": "1.5.0",
          "model_name": "HTMLModel",
          "state": {
            "_dom_classes": [],
            "_model_module": "@jupyter-widgets/controls",
            "_model_module_version": "1.5.0",
            "_model_name": "HTMLModel",
            "_view_count": null,
            "_view_module": "@jupyter-widgets/controls",
            "_view_module_version": "1.5.0",
            "_view_name": "HTMLView",
            "description": "",
            "description_tooltip": null,
            "layout": "IPY_MODEL_bc11f833cc9c441b9a58d69ea792fa9c",
            "placeholder": "​",
            "style": "IPY_MODEL_4f81e460906a428f9f74a0aa469ba63f",
            "value": " 1/1 [00:00&lt;00:00, 12.65ba/s]"
          }
        },
        "a28d3e82e04646b79c89f93cf40ee596": {
          "model_module": "@jupyter-widgets/controls",
          "model_module_version": "1.5.0",
          "model_name": "PasswordModel",
          "state": {
            "_dom_classes": [],
            "_model_module": "@jupyter-widgets/controls",
            "_model_module_version": "1.5.0",
            "_model_name": "PasswordModel",
            "_view_count": null,
            "_view_module": "@jupyter-widgets/controls",
            "_view_module_version": "1.5.0",
            "_view_name": "PasswordView",
            "continuous_update": true,
            "description": "Password:",
            "description_tooltip": null,
            "disabled": false,
            "layout": "IPY_MODEL_8541f8f949ea49b7a1335aaf31ca4f81",
            "placeholder": "​",
            "style": "IPY_MODEL_c237b5686d3e48aeb226c87aa703f63d",
            "value": ""
          }
        },
        "a5777207c788498fb4ac4900af91d7cf": {
          "model_module": "@jupyter-widgets/base",
          "model_module_version": "1.2.0",
          "model_name": "LayoutModel",
          "state": {
            "_model_module": "@jupyter-widgets/base",
            "_model_module_version": "1.2.0",
            "_model_name": "LayoutModel",
            "_view_count": null,
            "_view_module": "@jupyter-widgets/base",
            "_view_module_version": "1.2.0",
            "_view_name": "LayoutView",
            "align_content": null,
            "align_items": null,
            "align_self": null,
            "border": null,
            "bottom": null,
            "display": null,
            "flex": null,
            "flex_flow": null,
            "grid_area": null,
            "grid_auto_columns": null,
            "grid_auto_flow": null,
            "grid_auto_rows": null,
            "grid_column": null,
            "grid_gap": null,
            "grid_row": null,
            "grid_template_areas": null,
            "grid_template_columns": null,
            "grid_template_rows": null,
            "height": null,
            "justify_content": null,
            "justify_items": null,
            "left": null,
            "margin": null,
            "max_height": null,
            "max_width": null,
            "min_height": null,
            "min_width": null,
            "object_fit": null,
            "object_position": null,
            "order": null,
            "overflow": null,
            "overflow_x": null,
            "overflow_y": null,
            "padding": null,
            "right": null,
            "top": null,
            "visibility": null,
            "width": null
          }
        },
        "a5e2e1fe3ab94cc6ae1a73cc1ab6f9a8": {
          "model_module": "@jupyter-widgets/controls",
          "model_module_version": "1.5.0",
          "model_name": "DescriptionStyleModel",
          "state": {
            "_model_module": "@jupyter-widgets/controls",
            "_model_module_version": "1.5.0",
            "_model_name": "DescriptionStyleModel",
            "_view_count": null,
            "_view_module": "@jupyter-widgets/base",
            "_view_module_version": "1.2.0",
            "_view_name": "StyleView",
            "description_width": ""
          }
        },
        "a62ff1ee03dc47c9834b43720df991ea": {
          "model_module": "@jupyter-widgets/controls",
          "model_module_version": "1.5.0",
          "model_name": "FloatProgressModel",
          "state": {
            "_dom_classes": [],
            "_model_module": "@jupyter-widgets/controls",
            "_model_module_version": "1.5.0",
            "_model_name": "FloatProgressModel",
            "_view_count": null,
            "_view_module": "@jupyter-widgets/controls",
            "_view_module_version": "1.5.0",
            "_view_name": "ProgressView",
            "bar_style": "success",
            "description": "",
            "description_tooltip": null,
            "layout": "IPY_MODEL_6323e35581be4b338a904266a5e85005",
            "max": 3478,
            "min": 0,
            "orientation": "horizontal",
            "style": "IPY_MODEL_6da7072e7f634a3aa2927fca1bcf38c0",
            "value": 3478
          }
        },
        "aa92ff120d9c4dd68ae941d7a1f33a81": {
          "model_module": "@jupyter-widgets/controls",
          "model_module_version": "1.5.0",
          "model_name": "HTMLModel",
          "state": {
            "_dom_classes": [],
            "_model_module": "@jupyter-widgets/controls",
            "_model_module_version": "1.5.0",
            "_model_name": "HTMLModel",
            "_view_count": null,
            "_view_module": "@jupyter-widgets/controls",
            "_view_module_version": "1.5.0",
            "_view_name": "HTMLView",
            "description": "",
            "description_tooltip": null,
            "layout": "IPY_MODEL_ad95ae421231492e814238bde2ecb551",
            "placeholder": "​",
            "style": "IPY_MODEL_136f973d9623421eb38e09c73c6b6810",
            "value": " 1.53k/1.53k [00:00&lt;00:00, 36.6kB/s]"
          }
        },
        "acc35dfdfca542828d1bb02cbde15dfe": {
          "model_module": "@jupyter-widgets/controls",
          "model_module_version": "1.5.0",
          "model_name": "FloatProgressModel",
          "state": {
            "_dom_classes": [],
            "_model_module": "@jupyter-widgets/controls",
            "_model_module_version": "1.5.0",
            "_model_name": "FloatProgressModel",
            "_view_count": null,
            "_view_module": "@jupyter-widgets/controls",
            "_view_module_version": "1.5.0",
            "_view_name": "ProgressView",
            "bar_style": "success",
            "description": "",
            "description_tooltip": null,
            "layout": "IPY_MODEL_6ae3b3139e6641fc9e62ae5744349add",
            "max": 1568,
            "min": 0,
            "orientation": "horizontal",
            "style": "IPY_MODEL_92c30a7c6102443cad2f6f03211c32e0",
            "value": 1568
          }
        },
        "ad95ae421231492e814238bde2ecb551": {
          "model_module": "@jupyter-widgets/base",
          "model_module_version": "1.2.0",
          "model_name": "LayoutModel",
          "state": {
            "_model_module": "@jupyter-widgets/base",
            "_model_module_version": "1.2.0",
            "_model_name": "LayoutModel",
            "_view_count": null,
            "_view_module": "@jupyter-widgets/base",
            "_view_module_version": "1.2.0",
            "_view_name": "LayoutView",
            "align_content": null,
            "align_items": null,
            "align_self": null,
            "border": null,
            "bottom": null,
            "display": null,
            "flex": null,
            "flex_flow": null,
            "grid_area": null,
            "grid_auto_columns": null,
            "grid_auto_flow": null,
            "grid_auto_rows": null,
            "grid_column": null,
            "grid_gap": null,
            "grid_row": null,
            "grid_template_areas": null,
            "grid_template_columns": null,
            "grid_template_rows": null,
            "height": null,
            "justify_content": null,
            "justify_items": null,
            "left": null,
            "margin": null,
            "max_height": null,
            "max_width": null,
            "min_height": null,
            "min_width": null,
            "object_fit": null,
            "object_position": null,
            "order": null,
            "overflow": null,
            "overflow_x": null,
            "overflow_y": null,
            "padding": null,
            "right": null,
            "top": null,
            "visibility": null,
            "width": null
          }
        },
        "b896566369e3403091e357af18648740": {
          "model_module": "@jupyter-widgets/controls",
          "model_module_version": "1.5.0",
          "model_name": "VBoxModel",
          "state": {
            "_dom_classes": [],
            "_model_module": "@jupyter-widgets/controls",
            "_model_module_version": "1.5.0",
            "_model_name": "VBoxModel",
            "_view_count": null,
            "_view_module": "@jupyter-widgets/controls",
            "_view_module_version": "1.5.0",
            "_view_name": "VBoxView",
            "box_style": "",
            "children": [
              "IPY_MODEL_26bf8a70fe5449a99ca1b06430b2fc8f",
              "IPY_MODEL_dd5d9b3f70ee4a0dabe18e87ab38145c",
              "IPY_MODEL_2d4eb3e5acc348948299c506db83ca90"
            ],
            "layout": "IPY_MODEL_384228b409cb4bb0bbd77ef259b9a568"
          }
        },
        "b9c5532ffabb44078de8a6f76a4b8be6": {
          "model_module": "@jupyter-widgets/controls",
          "model_module_version": "1.5.0",
          "model_name": "HTMLModel",
          "state": {
            "_dom_classes": [],
            "_model_module": "@jupyter-widgets/controls",
            "_model_module_version": "1.5.0",
            "_model_name": "HTMLModel",
            "_view_count": null,
            "_view_module": "@jupyter-widgets/controls",
            "_view_module_version": "1.5.0",
            "_view_name": "HTMLView",
            "description": "",
            "description_tooltip": null,
            "layout": "IPY_MODEL_fe156fa95ee9410daff8f7c9a8b0d3a3",
            "placeholder": "​",
            "style": "IPY_MODEL_a5e2e1fe3ab94cc6ae1a73cc1ab6f9a8",
            "value": " 1647/1647 [00:20&lt;00:00, 89.86ex/s]"
          }
        },
        "bbfc45e0cf5644f6bc24118fa9c6c098": {
          "model_module": "@jupyter-widgets/base",
          "model_module_version": "1.2.0",
          "model_name": "LayoutModel",
          "state": {
            "_model_module": "@jupyter-widgets/base",
            "_model_module_version": "1.2.0",
            "_model_name": "LayoutModel",
            "_view_count": null,
            "_view_module": "@jupyter-widgets/base",
            "_view_module_version": "1.2.0",
            "_view_name": "LayoutView",
            "align_content": null,
            "align_items": null,
            "align_self": null,
            "border": null,
            "bottom": null,
            "display": null,
            "flex": null,
            "flex_flow": null,
            "grid_area": null,
            "grid_auto_columns": null,
            "grid_auto_flow": null,
            "grid_auto_rows": null,
            "grid_column": null,
            "grid_gap": null,
            "grid_row": null,
            "grid_template_areas": null,
            "grid_template_columns": null,
            "grid_template_rows": null,
            "height": null,
            "justify_content": null,
            "justify_items": null,
            "left": null,
            "margin": null,
            "max_height": null,
            "max_width": null,
            "min_height": null,
            "min_width": null,
            "object_fit": null,
            "object_position": null,
            "order": null,
            "overflow": null,
            "overflow_x": null,
            "overflow_y": null,
            "padding": null,
            "right": null,
            "top": null,
            "visibility": null,
            "width": null
          }
        },
        "bc11f833cc9c441b9a58d69ea792fa9c": {
          "model_module": "@jupyter-widgets/base",
          "model_module_version": "1.2.0",
          "model_name": "LayoutModel",
          "state": {
            "_model_module": "@jupyter-widgets/base",
            "_model_module_version": "1.2.0",
            "_model_name": "LayoutModel",
            "_view_count": null,
            "_view_module": "@jupyter-widgets/base",
            "_view_module_version": "1.2.0",
            "_view_name": "LayoutView",
            "align_content": null,
            "align_items": null,
            "align_self": null,
            "border": null,
            "bottom": null,
            "display": null,
            "flex": null,
            "flex_flow": null,
            "grid_area": null,
            "grid_auto_columns": null,
            "grid_auto_flow": null,
            "grid_auto_rows": null,
            "grid_column": null,
            "grid_gap": null,
            "grid_row": null,
            "grid_template_areas": null,
            "grid_template_columns": null,
            "grid_template_rows": null,
            "height": null,
            "justify_content": null,
            "justify_items": null,
            "left": null,
            "margin": null,
            "max_height": null,
            "max_width": null,
            "min_height": null,
            "min_width": null,
            "object_fit": null,
            "object_position": null,
            "order": null,
            "overflow": null,
            "overflow_x": null,
            "overflow_y": null,
            "padding": null,
            "right": null,
            "top": null,
            "visibility": null,
            "width": null
          }
        },
        "bdcf9380af5d4601b9b2de84b06ecb40": {
          "model_module": "@jupyter-widgets/controls",
          "model_module_version": "1.5.0",
          "model_name": "FloatProgressModel",
          "state": {
            "_dom_classes": [],
            "_model_module": "@jupyter-widgets/controls",
            "_model_module_version": "1.5.0",
            "_model_name": "FloatProgressModel",
            "_view_count": null,
            "_view_module": "@jupyter-widgets/controls",
            "_view_module_version": "1.5.0",
            "_view_name": "ProgressView",
            "bar_style": "success",
            "description": "",
            "description_tooltip": null,
            "layout": "IPY_MODEL_bbfc45e0cf5644f6bc24118fa9c6c098",
            "max": 1647,
            "min": 0,
            "orientation": "horizontal",
            "style": "IPY_MODEL_eca458b185ae4570b1ec1e77389c871e",
            "value": 1647
          }
        },
        "bfb6a1e47f6e4f74af4db7e71227ef3e": {
          "model_module": "@jupyter-widgets/controls",
          "model_module_version": "1.5.0",
          "model_name": "DescriptionStyleModel",
          "state": {
            "_model_module": "@jupyter-widgets/controls",
            "_model_module_version": "1.5.0",
            "_model_name": "DescriptionStyleModel",
            "_view_count": null,
            "_view_module": "@jupyter-widgets/base",
            "_view_module_version": "1.2.0",
            "_view_name": "StyleView",
            "description_width": ""
          }
        },
        "c0919f3c8d594911815ce63273f7fe51": {
          "model_module": "@jupyter-widgets/base",
          "model_module_version": "1.2.0",
          "model_name": "LayoutModel",
          "state": {
            "_model_module": "@jupyter-widgets/base",
            "_model_module_version": "1.2.0",
            "_model_name": "LayoutModel",
            "_view_count": null,
            "_view_module": "@jupyter-widgets/base",
            "_view_module_version": "1.2.0",
            "_view_name": "LayoutView",
            "align_content": null,
            "align_items": null,
            "align_self": null,
            "border": null,
            "bottom": null,
            "display": null,
            "flex": null,
            "flex_flow": null,
            "grid_area": null,
            "grid_auto_columns": null,
            "grid_auto_flow": null,
            "grid_auto_rows": null,
            "grid_column": null,
            "grid_gap": null,
            "grid_row": null,
            "grid_template_areas": null,
            "grid_template_columns": null,
            "grid_template_rows": null,
            "height": null,
            "justify_content": null,
            "justify_items": null,
            "left": null,
            "margin": null,
            "max_height": null,
            "max_width": null,
            "min_height": null,
            "min_width": null,
            "object_fit": null,
            "object_position": null,
            "order": null,
            "overflow": null,
            "overflow_x": null,
            "overflow_y": null,
            "padding": null,
            "right": null,
            "top": null,
            "visibility": null,
            "width": null
          }
        },
        "c237b5686d3e48aeb226c87aa703f63d": {
          "model_module": "@jupyter-widgets/controls",
          "model_module_version": "1.5.0",
          "model_name": "DescriptionStyleModel",
          "state": {
            "_model_module": "@jupyter-widgets/controls",
            "_model_module_version": "1.5.0",
            "_model_name": "DescriptionStyleModel",
            "_view_count": null,
            "_view_module": "@jupyter-widgets/base",
            "_view_module_version": "1.2.0",
            "_view_name": "StyleView",
            "description_width": ""
          }
        },
        "cc70741031664fa89bfe8e8e672c5b2b": {
          "model_module": "@jupyter-widgets/base",
          "model_module_version": "1.2.0",
          "model_name": "LayoutModel",
          "state": {
            "_model_module": "@jupyter-widgets/base",
            "_model_module_version": "1.2.0",
            "_model_name": "LayoutModel",
            "_view_count": null,
            "_view_module": "@jupyter-widgets/base",
            "_view_module_version": "1.2.0",
            "_view_name": "LayoutView",
            "align_content": null,
            "align_items": null,
            "align_self": null,
            "border": null,
            "bottom": null,
            "display": null,
            "flex": null,
            "flex_flow": null,
            "grid_area": null,
            "grid_auto_columns": null,
            "grid_auto_flow": null,
            "grid_auto_rows": null,
            "grid_column": null,
            "grid_gap": null,
            "grid_row": null,
            "grid_template_areas": null,
            "grid_template_columns": null,
            "grid_template_rows": null,
            "height": null,
            "justify_content": null,
            "justify_items": null,
            "left": null,
            "margin": null,
            "max_height": null,
            "max_width": null,
            "min_height": null,
            "min_width": null,
            "object_fit": null,
            "object_position": null,
            "order": null,
            "overflow": null,
            "overflow_x": null,
            "overflow_y": null,
            "padding": null,
            "right": null,
            "top": null,
            "visibility": null,
            "width": null
          }
        },
        "ce429683f48349c083e5fc3253a897d7": {
          "model_module": "@jupyter-widgets/controls",
          "model_module_version": "1.5.0",
          "model_name": "HTMLModel",
          "state": {
            "_dom_classes": [],
            "_model_module": "@jupyter-widgets/controls",
            "_model_module_version": "1.5.0",
            "_model_name": "HTMLModel",
            "_view_count": null,
            "_view_module": "@jupyter-widgets/controls",
            "_view_module_version": "1.5.0",
            "_view_name": "HTMLView",
            "description": "",
            "description_tooltip": null,
            "layout": "IPY_MODEL_4246da00789f44e2abce952906bde6f1",
            "placeholder": "​",
            "style": "IPY_MODEL_059588e34a88476eb6bbc1860ddc27ef",
            "value": "Downloading: 100%"
          }
        },
        "d11d94912b26401a860c80eba767907a": {
          "model_module": "@jupyter-widgets/base",
          "model_module_version": "1.2.0",
          "model_name": "LayoutModel",
          "state": {
            "_model_module": "@jupyter-widgets/base",
            "_model_module_version": "1.2.0",
            "_model_name": "LayoutModel",
            "_view_count": null,
            "_view_module": "@jupyter-widgets/base",
            "_view_module_version": "1.2.0",
            "_view_name": "LayoutView",
            "align_content": null,
            "align_items": null,
            "align_self": null,
            "border": null,
            "bottom": null,
            "display": null,
            "flex": null,
            "flex_flow": null,
            "grid_area": null,
            "grid_auto_columns": null,
            "grid_auto_flow": null,
            "grid_auto_rows": null,
            "grid_column": null,
            "grid_gap": null,
            "grid_row": null,
            "grid_template_areas": null,
            "grid_template_columns": null,
            "grid_template_rows": null,
            "height": null,
            "justify_content": null,
            "justify_items": null,
            "left": null,
            "margin": null,
            "max_height": null,
            "max_width": null,
            "min_height": null,
            "min_width": null,
            "object_fit": null,
            "object_position": null,
            "order": null,
            "overflow": null,
            "overflow_x": null,
            "overflow_y": null,
            "padding": null,
            "right": null,
            "top": null,
            "visibility": null,
            "width": null
          }
        },
        "d3b5f5a0d35642e0b606ac63c38f88fa": {
          "model_module": "@jupyter-widgets/base",
          "model_module_version": "1.2.0",
          "model_name": "LayoutModel",
          "state": {
            "_model_module": "@jupyter-widgets/base",
            "_model_module_version": "1.2.0",
            "_model_name": "LayoutModel",
            "_view_count": null,
            "_view_module": "@jupyter-widgets/base",
            "_view_module_version": "1.2.0",
            "_view_name": "LayoutView",
            "align_content": null,
            "align_items": null,
            "align_self": null,
            "border": null,
            "bottom": null,
            "display": null,
            "flex": null,
            "flex_flow": null,
            "grid_area": null,
            "grid_auto_columns": null,
            "grid_auto_flow": null,
            "grid_auto_rows": null,
            "grid_column": null,
            "grid_gap": null,
            "grid_row": null,
            "grid_template_areas": null,
            "grid_template_columns": null,
            "grid_template_rows": null,
            "height": null,
            "justify_content": null,
            "justify_items": null,
            "left": null,
            "margin": null,
            "max_height": null,
            "max_width": null,
            "min_height": null,
            "min_width": null,
            "object_fit": null,
            "object_position": null,
            "order": null,
            "overflow": null,
            "overflow_x": null,
            "overflow_y": null,
            "padding": null,
            "right": null,
            "top": null,
            "visibility": null,
            "width": null
          }
        },
        "db7a9c27eabb4ba391bfb9d819d7a36e": {
          "model_module": "@jupyter-widgets/base",
          "model_module_version": "1.2.0",
          "model_name": "LayoutModel",
          "state": {
            "_model_module": "@jupyter-widgets/base",
            "_model_module_version": "1.2.0",
            "_model_name": "LayoutModel",
            "_view_count": null,
            "_view_module": "@jupyter-widgets/base",
            "_view_module_version": "1.2.0",
            "_view_name": "LayoutView",
            "align_content": null,
            "align_items": null,
            "align_self": null,
            "border": null,
            "bottom": null,
            "display": null,
            "flex": null,
            "flex_flow": null,
            "grid_area": null,
            "grid_auto_columns": null,
            "grid_auto_flow": null,
            "grid_auto_rows": null,
            "grid_column": null,
            "grid_gap": null,
            "grid_row": null,
            "grid_template_areas": null,
            "grid_template_columns": null,
            "grid_template_rows": null,
            "height": null,
            "justify_content": null,
            "justify_items": null,
            "left": null,
            "margin": null,
            "max_height": null,
            "max_width": null,
            "min_height": null,
            "min_width": null,
            "object_fit": null,
            "object_position": null,
            "order": null,
            "overflow": null,
            "overflow_x": null,
            "overflow_y": null,
            "padding": null,
            "right": null,
            "top": null,
            "visibility": null,
            "width": null
          }
        },
        "dd5d9b3f70ee4a0dabe18e87ab38145c": {
          "model_module": "@jupyter-widgets/controls",
          "model_module_version": "1.5.0",
          "model_name": "HBoxModel",
          "state": {
            "_dom_classes": [],
            "_model_module": "@jupyter-widgets/controls",
            "_model_module_version": "1.5.0",
            "_model_name": "HBoxModel",
            "_view_count": null,
            "_view_module": "@jupyter-widgets/controls",
            "_view_module_version": "1.5.0",
            "_view_name": "HBoxView",
            "box_style": "",
            "children": [
              "IPY_MODEL_49f98244a8634be9b2305bb87731e765",
              "IPY_MODEL_a28d3e82e04646b79c89f93cf40ee596"
            ],
            "layout": "IPY_MODEL_4c3e043e600641538a479df6ad389784"
          }
        },
        "de1e5c31eacf4fa59cfa51926354acca": {
          "model_module": "@jupyter-widgets/controls",
          "model_module_version": "1.5.0",
          "model_name": "DescriptionStyleModel",
          "state": {
            "_model_module": "@jupyter-widgets/controls",
            "_model_module_version": "1.5.0",
            "_model_name": "DescriptionStyleModel",
            "_view_count": null,
            "_view_module": "@jupyter-widgets/base",
            "_view_module_version": "1.2.0",
            "_view_name": "StyleView",
            "description_width": ""
          }
        },
        "e575e46791b24f449b8afcb773e46dcc": {
          "model_module": "@jupyter-widgets/controls",
          "model_module_version": "1.5.0",
          "model_name": "DescriptionStyleModel",
          "state": {
            "_model_module": "@jupyter-widgets/controls",
            "_model_module_version": "1.5.0",
            "_model_name": "DescriptionStyleModel",
            "_view_count": null,
            "_view_module": "@jupyter-widgets/base",
            "_view_module_version": "1.2.0",
            "_view_name": "StyleView",
            "description_width": ""
          }
        },
        "e78238c96d6a4152bf40f5d7a81e5495": {
          "model_module": "@jupyter-widgets/controls",
          "model_module_version": "1.5.0",
          "model_name": "HBoxModel",
          "state": {
            "_dom_classes": [],
            "_model_module": "@jupyter-widgets/controls",
            "_model_module_version": "1.5.0",
            "_model_name": "HBoxModel",
            "_view_count": null,
            "_view_module": "@jupyter-widgets/controls",
            "_view_module_version": "1.5.0",
            "_view_name": "HBoxView",
            "box_style": "",
            "children": [
              "IPY_MODEL_75b26f4a95d24e9d8939d1f7b376eb51",
              "IPY_MODEL_f58af0561fc242238cfd0163f0ad5e5f",
              "IPY_MODEL_a1419cc920324f62be58d6e48a82e275"
            ],
            "layout": "IPY_MODEL_6ec3c80319fb45f3b6f7715049c9bce0"
          }
        },
        "e9531fcd48b74929bfdb45cd3f3315e7": {
          "model_module": "@jupyter-widgets/controls",
          "model_module_version": "1.5.0",
          "model_name": "ProgressStyleModel",
          "state": {
            "_model_module": "@jupyter-widgets/controls",
            "_model_module_version": "1.5.0",
            "_model_name": "ProgressStyleModel",
            "_view_count": null,
            "_view_module": "@jupyter-widgets/base",
            "_view_module_version": "1.2.0",
            "_view_name": "StyleView",
            "bar_color": null,
            "description_width": ""
          }
        },
        "eca458b185ae4570b1ec1e77389c871e": {
          "model_module": "@jupyter-widgets/controls",
          "model_module_version": "1.5.0",
          "model_name": "ProgressStyleModel",
          "state": {
            "_model_module": "@jupyter-widgets/controls",
            "_model_module_version": "1.5.0",
            "_model_name": "ProgressStyleModel",
            "_view_count": null,
            "_view_module": "@jupyter-widgets/base",
            "_view_module_version": "1.2.0",
            "_view_name": "StyleView",
            "bar_color": null,
            "description_width": ""
          }
        },
        "f28c64f34f9540b6b6bdc765c84e2307": {
          "model_module": "@jupyter-widgets/base",
          "model_module_version": "1.2.0",
          "model_name": "LayoutModel",
          "state": {
            "_model_module": "@jupyter-widgets/base",
            "_model_module_version": "1.2.0",
            "_model_name": "LayoutModel",
            "_view_count": null,
            "_view_module": "@jupyter-widgets/base",
            "_view_module_version": "1.2.0",
            "_view_name": "LayoutView",
            "align_content": null,
            "align_items": null,
            "align_self": null,
            "border": null,
            "bottom": null,
            "display": null,
            "flex": null,
            "flex_flow": null,
            "grid_area": null,
            "grid_auto_columns": null,
            "grid_auto_flow": null,
            "grid_auto_rows": null,
            "grid_column": null,
            "grid_gap": null,
            "grid_row": null,
            "grid_template_areas": null,
            "grid_template_columns": null,
            "grid_template_rows": null,
            "height": null,
            "justify_content": null,
            "justify_items": null,
            "left": null,
            "margin": null,
            "max_height": null,
            "max_width": null,
            "min_height": null,
            "min_width": null,
            "object_fit": null,
            "object_position": null,
            "order": null,
            "overflow": null,
            "overflow_x": null,
            "overflow_y": null,
            "padding": null,
            "right": null,
            "top": null,
            "visibility": null,
            "width": null
          }
        },
        "f4af6a0756e241e49e5d325f1bdb18b4": {
          "model_module": "@jupyter-widgets/controls",
          "model_module_version": "1.5.0",
          "model_name": "HTMLModel",
          "state": {
            "_dom_classes": [],
            "_model_module": "@jupyter-widgets/controls",
            "_model_module_version": "1.5.0",
            "_model_name": "HTMLModel",
            "_view_count": null,
            "_view_module": "@jupyter-widgets/controls",
            "_view_module_version": "1.5.0",
            "_view_name": "HTMLView",
            "description": "",
            "description_tooltip": null,
            "layout": "IPY_MODEL_349c9e8b2a8846c1bff5a03d2a28066a",
            "placeholder": "​",
            "style": "IPY_MODEL_de1e5c31eacf4fa59cfa51926354acca",
            "value": " 1.18G/1.18G [00:39&lt;00:00, 35.4MB/s]"
          }
        },
        "f58af0561fc242238cfd0163f0ad5e5f": {
          "model_module": "@jupyter-widgets/controls",
          "model_module_version": "1.5.0",
          "model_name": "FloatProgressModel",
          "state": {
            "_dom_classes": [],
            "_model_module": "@jupyter-widgets/controls",
            "_model_module_version": "1.5.0",
            "_model_name": "FloatProgressModel",
            "_view_count": null,
            "_view_module": "@jupyter-widgets/controls",
            "_view_module_version": "1.5.0",
            "_view_name": "ProgressView",
            "bar_style": "success",
            "description": "",
            "description_tooltip": null,
            "layout": "IPY_MODEL_5cff6b2dd6944c59b8c2f205db5f49bf",
            "max": 1,
            "min": 0,
            "orientation": "horizontal",
            "style": "IPY_MODEL_5ba2a38c71e64253a4fd39cf7d3b3326",
            "value": 1
          }
        },
        "f6e0ea791e5a44abb5d5891bb3e254ad": {
          "model_module": "@jupyter-widgets/controls",
          "model_module_version": "1.5.0",
          "model_name": "DescriptionStyleModel",
          "state": {
            "_model_module": "@jupyter-widgets/controls",
            "_model_module_version": "1.5.0",
            "_model_name": "DescriptionStyleModel",
            "_view_count": null,
            "_view_module": "@jupyter-widgets/base",
            "_view_module_version": "1.2.0",
            "_view_name": "StyleView",
            "description_width": ""
          }
        },
        "f6e777f3a1684a7da3efc63281553b5e": {
          "model_module": "@jupyter-widgets/controls",
          "model_module_version": "1.5.0",
          "model_name": "HTMLModel",
          "state": {
            "_dom_classes": [],
            "_model_module": "@jupyter-widgets/controls",
            "_model_module_version": "1.5.0",
            "_model_name": "HTMLModel",
            "_view_count": null,
            "_view_module": "@jupyter-widgets/controls",
            "_view_module_version": "1.5.0",
            "_view_name": "HTMLView",
            "description": "",
            "description_tooltip": null,
            "layout": "IPY_MODEL_db7a9c27eabb4ba391bfb9d819d7a36e",
            "placeholder": "​",
            "style": "IPY_MODEL_fd2ba2bf4b2946078a0761b773626b64",
            "value": "100%"
          }
        },
        "fd2ba2bf4b2946078a0761b773626b64": {
          "model_module": "@jupyter-widgets/controls",
          "model_module_version": "1.5.0",
          "model_name": "DescriptionStyleModel",
          "state": {
            "_model_module": "@jupyter-widgets/controls",
            "_model_module_version": "1.5.0",
            "_model_name": "DescriptionStyleModel",
            "_view_count": null,
            "_view_module": "@jupyter-widgets/base",
            "_view_module_version": "1.2.0",
            "_view_name": "StyleView",
            "description_width": ""
          }
        },
        "fe156fa95ee9410daff8f7c9a8b0d3a3": {
          "model_module": "@jupyter-widgets/base",
          "model_module_version": "1.2.0",
          "model_name": "LayoutModel",
          "state": {
            "_model_module": "@jupyter-widgets/base",
            "_model_module_version": "1.2.0",
            "_model_name": "LayoutModel",
            "_view_count": null,
            "_view_module": "@jupyter-widgets/base",
            "_view_module_version": "1.2.0",
            "_view_name": "LayoutView",
            "align_content": null,
            "align_items": null,
            "align_self": null,
            "border": null,
            "bottom": null,
            "display": null,
            "flex": null,
            "flex_flow": null,
            "grid_area": null,
            "grid_auto_columns": null,
            "grid_auto_flow": null,
            "grid_auto_rows": null,
            "grid_column": null,
            "grid_gap": null,
            "grid_row": null,
            "grid_template_areas": null,
            "grid_template_columns": null,
            "grid_template_rows": null,
            "height": null,
            "justify_content": null,
            "justify_items": null,
            "left": null,
            "margin": null,
            "max_height": null,
            "max_width": null,
            "min_height": null,
            "min_width": null,
            "object_fit": null,
            "object_position": null,
            "order": null,
            "overflow": null,
            "overflow_x": null,
            "overflow_y": null,
            "padding": null,
            "right": null,
            "top": null,
            "visibility": null,
            "width": null
          }
        },
        "ff8e746cf8ef4f988617b8d4c0dd3c9c": {
          "model_module": "@jupyter-widgets/controls",
          "model_module_version": "1.5.0",
          "model_name": "FloatProgressModel",
          "state": {
            "_dom_classes": [],
            "_model_module": "@jupyter-widgets/controls",
            "_model_module_version": "1.5.0",
            "_model_name": "FloatProgressModel",
            "_view_count": null,
            "_view_module": "@jupyter-widgets/controls",
            "_view_module_version": "1.5.0",
            "_view_name": "ProgressView",
            "bar_style": "success",
            "description": "",
            "description_tooltip": null,
            "layout": "IPY_MODEL_5cd8c74ba2e845d498afdc1c25009767",
            "max": 1947,
            "min": 0,
            "orientation": "horizontal",
            "style": "IPY_MODEL_3f0c587f7b764d96837c8e16254aab12",
            "value": 1947
          }
        }
      }
    }
  },
  "nbformat": 4,
  "nbformat_minor": 0
}
