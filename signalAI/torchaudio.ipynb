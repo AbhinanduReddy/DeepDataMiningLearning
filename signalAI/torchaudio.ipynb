{
  "cells": [
    {
      "cell_type": "markdown",
      "metadata": {},
      "source": [
        "\n",
        "# Audio I/O\n",
        "\n",
        "``torchaudio`` integrates ``libsox`` and provides a rich set of audio I/O.\n"
      ]
    },
    {
      "cell_type": "code",
      "execution_count": 1,
      "metadata": {
        "collapsed": false
      },
      "outputs": [
        {
          "name": "stdout",
          "output_type": "stream",
          "text": [
            "2.0.1\n",
            "2.0.2\n"
          ]
        }
      ],
      "source": [
        "# When running this tutorial in Google Colab, install the required packages\n",
        "# with the following.\n",
        "# !pip install torchaudio boto3\n",
        "\n",
        "import torch\n",
        "import torchaudio\n",
        "\n",
        "print(torch.__version__)\n",
        "print(torchaudio.__version__)"
      ]
    },
    {
      "cell_type": "markdown",
      "metadata": {},
      "source": [
        "## Preparing data and utility functions (skip this section)\n",
        "\n",
        "\n"
      ]
    },
    {
      "cell_type": "code",
      "execution_count": 2,
      "metadata": {
        "collapsed": false
      },
      "outputs": [],
      "source": [
        "# @title Prepare data and utility functions. {display-mode: \"form\"}\n",
        "# @markdown\n",
        "# @markdown You do not need to look into this cell.\n",
        "# @markdown Just execute once and you are good to go.\n",
        "# @markdown\n",
        "# @markdown In this tutorial, we will use a speech data from [VOiCES dataset](https://iqtlabs.github.io/voices/),\n",
        "# @markdown which is licensed under Creative Commos BY 4.0.\n",
        "\n",
        "\n",
        "import io\n",
        "import os\n",
        "import tarfile\n",
        "\n",
        "import boto3 #pip install boto3\n",
        "import matplotlib.pyplot as plt\n",
        "import requests\n",
        "from botocore import UNSIGNED\n",
        "from botocore.config import Config\n",
        "from IPython.display import Audio, display\n",
        "\n",
        "\n",
        "_SAMPLE_DIR = \"data\"\n",
        "SAMPLE_WAV_URL = \"https://pytorch-tutorial-assets.s3.amazonaws.com/steam-train-whistle-daniel_simon.wav\"\n",
        "SAMPLE_WAV_PATH = os.path.join(_SAMPLE_DIR, \"steam.wav\")\n",
        "\n",
        "SAMPLE_MP3_URL = \"https://pytorch-tutorial-assets.s3.amazonaws.com/steam-train-whistle-daniel_simon.mp3\"\n",
        "SAMPLE_MP3_PATH = os.path.join(_SAMPLE_DIR, \"steam.mp3\")\n",
        "\n",
        "SAMPLE_GSM_URL = \"https://pytorch-tutorial-assets.s3.amazonaws.com/steam-train-whistle-daniel_simon.gsm\"\n",
        "SAMPLE_GSM_PATH = os.path.join(_SAMPLE_DIR, \"steam.gsm\")\n",
        "\n",
        "SAMPLE_WAV_SPEECH_URL = \"https://pytorch-tutorial-assets.s3.amazonaws.com/VOiCES_devkit/source-16k/train/sp0307/Lab41-SRI-VOiCES-src-sp0307-ch127535-sg0042.wav\"  # noqa: E501\n",
        "SAMPLE_WAV_SPEECH_PATH = os.path.join(_SAMPLE_DIR, \"speech.wav\")\n",
        "\n",
        "SAMPLE_TAR_URL = \"https://pytorch-tutorial-assets.s3.amazonaws.com/VOiCES_devkit.tar.gz\"\n",
        "SAMPLE_TAR_PATH = os.path.join(_SAMPLE_DIR, \"sample.tar.gz\")\n",
        "SAMPLE_TAR_ITEM = \"VOiCES_devkit/source-16k/train/sp0307/Lab41-SRI-VOiCES-src-sp0307-ch127535-sg0042.wav\"\n",
        "\n",
        "S3_BUCKET = \"pytorch-tutorial-assets\"\n",
        "S3_KEY = \"VOiCES_devkit/source-16k/train/sp0307/Lab41-SRI-VOiCES-src-sp0307-ch127535-sg0042.wav\"\n",
        "\n",
        "\n",
        "def _fetch_data():\n",
        "    os.makedirs(_SAMPLE_DIR, exist_ok=True)\n",
        "    uri = [\n",
        "        (SAMPLE_WAV_URL, SAMPLE_WAV_PATH),\n",
        "        (SAMPLE_MP3_URL, SAMPLE_MP3_PATH),\n",
        "        (SAMPLE_GSM_URL, SAMPLE_GSM_PATH),\n",
        "        (SAMPLE_WAV_SPEECH_URL, SAMPLE_WAV_SPEECH_PATH),\n",
        "        (SAMPLE_TAR_URL, SAMPLE_TAR_PATH),\n",
        "    ]\n",
        "    for url, path in uri:\n",
        "        with open(path, \"wb\") as file_:\n",
        "            file_.write(requests.get(url).content)\n",
        "\n",
        "\n",
        "_fetch_data()\n",
        "\n",
        "\n",
        "def print_stats(waveform, sample_rate=None, src=None):\n",
        "    if src:\n",
        "        print(\"-\" * 10)\n",
        "        print(\"Source:\", src)\n",
        "        print(\"-\" * 10)\n",
        "    if sample_rate:\n",
        "        print(\"Sample Rate:\", sample_rate)\n",
        "    print(\"Shape:\", tuple(waveform.shape))\n",
        "    print(\"Dtype:\", waveform.dtype)\n",
        "    print(f\" - Max:     {waveform.max().item():6.3f}\")\n",
        "    print(f\" - Min:     {waveform.min().item():6.3f}\")\n",
        "    print(f\" - Mean:    {waveform.mean().item():6.3f}\")\n",
        "    print(f\" - Std Dev: {waveform.std().item():6.3f}\")\n",
        "    print()\n",
        "    print(waveform)\n",
        "    print()\n",
        "\n",
        "\n",
        "def plot_waveform(waveform, sample_rate, title=\"Waveform\", xlim=None, ylim=None):\n",
        "    waveform = waveform.numpy()\n",
        "\n",
        "    num_channels, num_frames = waveform.shape\n",
        "    time_axis = torch.arange(0, num_frames) / sample_rate\n",
        "\n",
        "    figure, axes = plt.subplots(num_channels, 1)\n",
        "    if num_channels == 1:\n",
        "        axes = [axes]\n",
        "    for c in range(num_channels):\n",
        "        axes[c].plot(time_axis, waveform[c], linewidth=1)\n",
        "        axes[c].grid(True)\n",
        "        if num_channels > 1:\n",
        "            axes[c].set_ylabel(f\"Channel {c+1}\")\n",
        "        if xlim:\n",
        "            axes[c].set_xlim(xlim)\n",
        "        if ylim:\n",
        "            axes[c].set_ylim(ylim)\n",
        "    figure.suptitle(title)\n",
        "    plt.show(block=False)\n",
        "\n",
        "\n",
        "def plot_specgram(waveform, sample_rate, title=\"Spectrogram\", xlim=None):\n",
        "    waveform = waveform.numpy()\n",
        "\n",
        "    num_channels, num_frames = waveform.shape\n",
        "\n",
        "    figure, axes = plt.subplots(num_channels, 1)\n",
        "    if num_channels == 1:\n",
        "        axes = [axes]\n",
        "    for c in range(num_channels):\n",
        "        axes[c].specgram(waveform[c], Fs=sample_rate)\n",
        "        if num_channels > 1:\n",
        "            axes[c].set_ylabel(f\"Channel {c+1}\")\n",
        "        if xlim:\n",
        "            axes[c].set_xlim(xlim)\n",
        "    figure.suptitle(title)\n",
        "    plt.show(block=False)\n",
        "\n",
        "\n",
        "def play_audio(waveform, sample_rate):\n",
        "    waveform = waveform.numpy()\n",
        "\n",
        "    num_channels, num_frames = waveform.shape\n",
        "    if num_channels == 1:\n",
        "        display(Audio(waveform[0], rate=sample_rate))\n",
        "    elif num_channels == 2:\n",
        "        display(Audio((waveform[0], waveform[1]), rate=sample_rate))\n",
        "    else:\n",
        "        raise ValueError(\"Waveform with more than 2 channels are not supported.\")\n",
        "\n",
        "\n",
        "def _get_sample(path, resample=None):\n",
        "    effects = [[\"remix\", \"1\"]]\n",
        "    if resample:\n",
        "        effects.extend(\n",
        "            [\n",
        "                [\"lowpass\", f\"{resample // 2}\"],\n",
        "                [\"rate\", f\"{resample}\"],\n",
        "            ]\n",
        "        )\n",
        "    return torchaudio.sox_effects.apply_effects_file(path, effects=effects)\n",
        "\n",
        "\n",
        "def get_sample(*, resample=None):\n",
        "    return _get_sample(SAMPLE_WAV_PATH, resample=resample)\n",
        "\n",
        "\n",
        "def inspect_file(path):\n",
        "    print(\"-\" * 10)\n",
        "    print(\"Source:\", path)\n",
        "    print(\"-\" * 10)\n",
        "    print(f\" - File size: {os.path.getsize(path)} bytes\")\n",
        "    print(f\" - {torchaudio.info(path)}\")"
      ]
    },
    {
      "cell_type": "markdown",
      "metadata": {},
      "source": [
        "## Querying audio metadata\n",
        "\n",
        "Function :py:func:`torchaudio.info` fetches audio metadata.\n",
        "You can provide a path-like object or file-like object.\n",
        "\n",
        "\n"
      ]
    },
    {
      "cell_type": "code",
      "execution_count": 4,
      "metadata": {},
      "outputs": [
        {
          "data": {
            "text/plain": [
              "'data\\\\steam.wav'"
            ]
          },
          "execution_count": 4,
          "metadata": {},
          "output_type": "execute_result"
        }
      ],
      "source": [
        "SAMPLE_WAV_PATH"
      ]
    },
    {
      "cell_type": "code",
      "execution_count": 3,
      "metadata": {
        "collapsed": false
      },
      "outputs": [
        {
          "name": "stdout",
          "output_type": "stream",
          "text": [
            "AudioMetaData(sample_rate=44100, num_frames=109368, num_channels=2, bits_per_sample=16, encoding=PCM_S)\n"
          ]
        }
      ],
      "source": [
        "metadata = torchaudio.info(SAMPLE_WAV_PATH)\n",
        "print(metadata)"
      ]
    },
    {
      "cell_type": "markdown",
      "metadata": {},
      "source": [
        "Where\n",
        "\n",
        "-  ``sample_rate`` is the sampling rate of the audio\n",
        "-  ``num_channels`` is the number of channels\n",
        "-  ``num_frames`` is the number of frames per channel\n",
        "-  ``bits_per_sample`` is bit depth\n",
        "-  ``encoding`` is the sample coding format\n",
        "\n",
        "``encoding`` can take on one of the following values:\n",
        "\n",
        "-  ``\"PCM_S\"``: Signed integer linear PCM\n",
        "-  ``\"PCM_U\"``: Unsigned integer linear PCM\n",
        "-  ``\"PCM_F\"``: Floating point linear PCM\n",
        "-  ``\"FLAC\"``: Flac, `Free Lossless Audio\n",
        "   Codec <https://xiph.org/flac/>`__\n",
        "-  ``\"ULAW\"``: Mu-law,\n",
        "   [`wikipedia <https://en.wikipedia.org/wiki/%CE%9C-law_algorithm>`__]\n",
        "-  ``\"ALAW\"``: A-law\n",
        "   [`wikipedia <https://en.wikipedia.org/wiki/A-law_algorithm>`__]\n",
        "-  ``\"MP3\"`` : MP3, MPEG-1 Audio Layer III\n",
        "-  ``\"VORBIS\"``: OGG Vorbis [`xiph.org <https://xiph.org/vorbis/>`__]\n",
        "-  ``\"AMR_NB\"``: Adaptive Multi-Rate\n",
        "   [`wikipedia <https://en.wikipedia.org/wiki/Adaptive_Multi-Rate_audio_codec>`__]\n",
        "-  ``\"AMR_WB\"``: Adaptive Multi-Rate Wideband\n",
        "   [`wikipedia <https://en.wikipedia.org/wiki/Adaptive_Multi-Rate_Wideband>`__]\n",
        "-  ``\"OPUS\"``: Opus [`opus-codec.org <https://opus-codec.org/>`__]\n",
        "-  ``\"GSM\"``: GSM-FR\n",
        "   [`wikipedia <https://en.wikipedia.org/wiki/Full_Rate>`__]\n",
        "-  ``\"UNKNOWN\"`` None of above\n",
        "\n",
        "\n"
      ]
    },
    {
      "cell_type": "markdown",
      "metadata": {},
      "source": [
        "**Note**\n",
        "\n",
        "-  ``bits_per_sample`` can be ``0`` for formats with compression and/or\n",
        "   variable bit rate (such as MP3).\n",
        "-  ``num_frames`` can be ``0`` for GSM-FR format.\n",
        "\n",
        "\n"
      ]
    },
    {
      "cell_type": "code",
      "execution_count": 5,
      "metadata": {
        "collapsed": false
      },
      "outputs": [
        {
          "name": "stdout",
          "output_type": "stream",
          "text": [
            "AudioMetaData(sample_rate=44100, num_frames=110846, num_channels=2, bits_per_sample=0, encoding=UNKNOWN)\n",
            "AudioMetaData(sample_rate=8000, num_frames=39680, num_channels=1, bits_per_sample=0, encoding=UNKNOWN)\n"
          ]
        },
        {
          "name": "stderr",
          "output_type": "stream",
          "text": [
            "c:\\Users\\lkk68\\.conda\\envs\\mycondapy39\\lib\\site-packages\\torchaudio\\backend\\soundfile_backend.py:71: UserWarning: The MPEG_LAYER_III subtype is unknown to TorchAudio. As a result, the bits_per_sample attribute will be set to 0. If you are seeing this warning, please report by opening an issue on github (after checking for existing/closed ones). You may otherwise ignore this warning.\n",
            "  warnings.warn(\n"
          ]
        }
      ],
      "source": [
        "metadata = torchaudio.info(SAMPLE_MP3_PATH)\n",
        "print(metadata)\n",
        "\n",
        "metadata = torchaudio.info(SAMPLE_GSM_PATH)\n",
        "print(metadata)"
      ]
    },
    {
      "cell_type": "markdown",
      "metadata": {},
      "source": [
        "### Querying file-like object\n",
        "\n",
        ":py:func:`torchaudio.info` works on file-like objects.\n",
        "\n",
        "\n"
      ]
    },
    {
      "cell_type": "code",
      "execution_count": 6,
      "metadata": {
        "collapsed": false
      },
      "outputs": [
        {
          "name": "stdout",
          "output_type": "stream",
          "text": [
            "Source: https://pytorch-tutorial-assets.s3.amazonaws.com/steam-train-whistle-daniel_simon.wav\n"
          ]
        },
        {
          "name": "stderr",
          "output_type": "stream",
          "text": [
            "Exception ignored from cffi callback <function SoundFile._init_virtual_io.<locals>.vio_get_filelen at 0x00000208CB60C5E0>:\n",
            "Traceback (most recent call last):\n",
            "  File \"c:\\Users\\lkk68\\.conda\\envs\\mycondapy39\\lib\\site-packages\\soundfile.py\", line 1231, in vio_get_filelen\n",
            "    file.seek(0, SEEK_END)\n",
            "io.UnsupportedOperation: seek\n"
          ]
        },
        {
          "ename": "LibsndfileError",
          "evalue": "Error opening <urllib3.response.HTTPResponse object at 0x00000208C9E6F280>: Error in WAV file. No 'data' chunk marker.",
          "output_type": "error",
          "traceback": [
            "\u001b[1;31m---------------------------------------------------------------------------\u001b[0m",
            "\u001b[1;31mLibsndfileError\u001b[0m                           Traceback (most recent call last)",
            "\u001b[1;32md:\\GitHub\\DeepDataMiningLearning\\signalAI\\torchaudio.ipynb Cell 12\u001b[0m line \u001b[0;36m3\n\u001b[0;32m      <a href='vscode-notebook-cell:/d%3A/GitHub/DeepDataMiningLearning/signalAI/torchaudio.ipynb#X13sZmlsZQ%3D%3D?line=0'>1</a>\u001b[0m \u001b[39mprint\u001b[39m(\u001b[39m\"\u001b[39m\u001b[39mSource:\u001b[39m\u001b[39m\"\u001b[39m, SAMPLE_WAV_URL)\n\u001b[0;32m      <a href='vscode-notebook-cell:/d%3A/GitHub/DeepDataMiningLearning/signalAI/torchaudio.ipynb#X13sZmlsZQ%3D%3D?line=1'>2</a>\u001b[0m \u001b[39mwith\u001b[39;00m requests\u001b[39m.\u001b[39mget(SAMPLE_WAV_URL, stream\u001b[39m=\u001b[39m\u001b[39mTrue\u001b[39;00m) \u001b[39mas\u001b[39;00m response:\n\u001b[1;32m----> <a href='vscode-notebook-cell:/d%3A/GitHub/DeepDataMiningLearning/signalAI/torchaudio.ipynb#X13sZmlsZQ%3D%3D?line=2'>3</a>\u001b[0m     metadata \u001b[39m=\u001b[39m torchaudio\u001b[39m.\u001b[39;49minfo(response\u001b[39m.\u001b[39;49mraw)\n\u001b[0;32m      <a href='vscode-notebook-cell:/d%3A/GitHub/DeepDataMiningLearning/signalAI/torchaudio.ipynb#X13sZmlsZQ%3D%3D?line=3'>4</a>\u001b[0m \u001b[39mprint\u001b[39m(metadata)\n",
            "File \u001b[1;32mc:\\Users\\lkk68\\.conda\\envs\\mycondapy39\\lib\\site-packages\\torchaudio\\backend\\soundfile_backend.py:119\u001b[0m, in \u001b[0;36minfo\u001b[1;34m(filepath, format)\u001b[0m\n\u001b[0;32m    100\u001b[0m \u001b[39m@_requires_soundfile\u001b[39m\n\u001b[0;32m    101\u001b[0m \u001b[39mdef\u001b[39;00m \u001b[39minfo\u001b[39m(filepath: \u001b[39mstr\u001b[39m, \u001b[39mformat\u001b[39m: Optional[\u001b[39mstr\u001b[39m] \u001b[39m=\u001b[39m \u001b[39mNone\u001b[39;00m) \u001b[39m-\u001b[39m\u001b[39m>\u001b[39m AudioMetaData:\n\u001b[0;32m    102\u001b[0m \u001b[39m    \u001b[39m\u001b[39m\"\"\"Get signal information of an audio file.\u001b[39;00m\n\u001b[0;32m    103\u001b[0m \n\u001b[0;32m    104\u001b[0m \u001b[39m    Note:\u001b[39;00m\n\u001b[1;32m   (...)\u001b[0m\n\u001b[0;32m    117\u001b[0m \n\u001b[0;32m    118\u001b[0m \u001b[39m    \"\"\"\u001b[39;00m\n\u001b[1;32m--> 119\u001b[0m     sinfo \u001b[39m=\u001b[39m soundfile\u001b[39m.\u001b[39;49minfo(filepath)\n\u001b[0;32m    120\u001b[0m     \u001b[39mreturn\u001b[39;00m AudioMetaData(\n\u001b[0;32m    121\u001b[0m         sinfo\u001b[39m.\u001b[39msamplerate,\n\u001b[0;32m    122\u001b[0m         sinfo\u001b[39m.\u001b[39mframes,\n\u001b[1;32m   (...)\u001b[0m\n\u001b[0;32m    125\u001b[0m         encoding\u001b[39m=\u001b[39m_get_encoding(sinfo\u001b[39m.\u001b[39mformat, sinfo\u001b[39m.\u001b[39msubtype),\n\u001b[0;32m    126\u001b[0m     )\n",
            "File \u001b[1;32mc:\\Users\\lkk68\\.conda\\envs\\mycondapy39\\lib\\site-packages\\soundfile.py:467\u001b[0m, in \u001b[0;36minfo\u001b[1;34m(file, verbose)\u001b[0m\n\u001b[0;32m    459\u001b[0m \u001b[39mdef\u001b[39;00m \u001b[39minfo\u001b[39m(file, verbose\u001b[39m=\u001b[39m\u001b[39mFalse\u001b[39;00m):\n\u001b[0;32m    460\u001b[0m \u001b[39m    \u001b[39m\u001b[39m\"\"\"Returns an object with information about a `SoundFile`.\u001b[39;00m\n\u001b[0;32m    461\u001b[0m \n\u001b[0;32m    462\u001b[0m \u001b[39m    Parameters\u001b[39;00m\n\u001b[1;32m   (...)\u001b[0m\n\u001b[0;32m    465\u001b[0m \u001b[39m        Whether to print additional information.\u001b[39;00m\n\u001b[0;32m    466\u001b[0m \u001b[39m    \"\"\"\u001b[39;00m\n\u001b[1;32m--> 467\u001b[0m     \u001b[39mreturn\u001b[39;00m _SoundFileInfo(file, verbose)\n",
            "File \u001b[1;32mc:\\Users\\lkk68\\.conda\\envs\\mycondapy39\\lib\\site-packages\\soundfile.py:412\u001b[0m, in \u001b[0;36m_SoundFileInfo.__init__\u001b[1;34m(self, file, verbose)\u001b[0m\n\u001b[0;32m    410\u001b[0m \u001b[39mdef\u001b[39;00m \u001b[39m__init__\u001b[39m(\u001b[39mself\u001b[39m, file, verbose):\n\u001b[0;32m    411\u001b[0m     \u001b[39mself\u001b[39m\u001b[39m.\u001b[39mverbose \u001b[39m=\u001b[39m verbose\n\u001b[1;32m--> 412\u001b[0m     \u001b[39mwith\u001b[39;00m SoundFile(file) \u001b[39mas\u001b[39;00m f:\n\u001b[0;32m    413\u001b[0m         \u001b[39mself\u001b[39m\u001b[39m.\u001b[39mname \u001b[39m=\u001b[39m f\u001b[39m.\u001b[39mname\n\u001b[0;32m    414\u001b[0m         \u001b[39mself\u001b[39m\u001b[39m.\u001b[39msamplerate \u001b[39m=\u001b[39m f\u001b[39m.\u001b[39msamplerate\n",
            "File \u001b[1;32mc:\\Users\\lkk68\\.conda\\envs\\mycondapy39\\lib\\site-packages\\soundfile.py:658\u001b[0m, in \u001b[0;36mSoundFile.__init__\u001b[1;34m(self, file, mode, samplerate, channels, subtype, endian, format, closefd)\u001b[0m\n\u001b[0;32m    655\u001b[0m \u001b[39mself\u001b[39m\u001b[39m.\u001b[39m_mode \u001b[39m=\u001b[39m mode\n\u001b[0;32m    656\u001b[0m \u001b[39mself\u001b[39m\u001b[39m.\u001b[39m_info \u001b[39m=\u001b[39m _create_info_struct(file, mode, samplerate, channels,\n\u001b[0;32m    657\u001b[0m                                  \u001b[39mformat\u001b[39m, subtype, endian)\n\u001b[1;32m--> 658\u001b[0m \u001b[39mself\u001b[39m\u001b[39m.\u001b[39m_file \u001b[39m=\u001b[39m \u001b[39mself\u001b[39;49m\u001b[39m.\u001b[39;49m_open(file, mode_int, closefd)\n\u001b[0;32m    659\u001b[0m \u001b[39mif\u001b[39;00m \u001b[39mset\u001b[39m(mode)\u001b[39m.\u001b[39missuperset(\u001b[39m'\u001b[39m\u001b[39mr+\u001b[39m\u001b[39m'\u001b[39m) \u001b[39mand\u001b[39;00m \u001b[39mself\u001b[39m\u001b[39m.\u001b[39mseekable():\n\u001b[0;32m    660\u001b[0m     \u001b[39m# Move write position to 0 (like in Python file objects)\u001b[39;00m\n\u001b[0;32m    661\u001b[0m     \u001b[39mself\u001b[39m\u001b[39m.\u001b[39mseek(\u001b[39m0\u001b[39m)\n",
            "File \u001b[1;32mc:\\Users\\lkk68\\.conda\\envs\\mycondapy39\\lib\\site-packages\\soundfile.py:1216\u001b[0m, in \u001b[0;36mSoundFile._open\u001b[1;34m(self, file, mode_int, closefd)\u001b[0m\n\u001b[0;32m   1213\u001b[0m \u001b[39mif\u001b[39;00m file_ptr \u001b[39m==\u001b[39m _ffi\u001b[39m.\u001b[39mNULL:\n\u001b[0;32m   1214\u001b[0m     \u001b[39m# get the actual error code\u001b[39;00m\n\u001b[0;32m   1215\u001b[0m     err \u001b[39m=\u001b[39m _snd\u001b[39m.\u001b[39msf_error(file_ptr)\n\u001b[1;32m-> 1216\u001b[0m     \u001b[39mraise\u001b[39;00m LibsndfileError(err, prefix\u001b[39m=\u001b[39m\u001b[39m\"\u001b[39m\u001b[39mError opening \u001b[39m\u001b[39m{0!r}\u001b[39;00m\u001b[39m: \u001b[39m\u001b[39m\"\u001b[39m\u001b[39m.\u001b[39mformat(\u001b[39mself\u001b[39m\u001b[39m.\u001b[39mname))\n\u001b[0;32m   1217\u001b[0m \u001b[39mif\u001b[39;00m mode_int \u001b[39m==\u001b[39m _snd\u001b[39m.\u001b[39mSFM_WRITE:\n\u001b[0;32m   1218\u001b[0m     \u001b[39m# Due to a bug in libsndfile version <= 1.0.25, frames != 0\u001b[39;00m\n\u001b[0;32m   1219\u001b[0m     \u001b[39m# when opening a named pipe in SFM_WRITE mode.\u001b[39;00m\n\u001b[0;32m   1220\u001b[0m     \u001b[39m# See http://github.com/erikd/libsndfile/issues/77.\u001b[39;00m\n\u001b[0;32m   1221\u001b[0m     \u001b[39mself\u001b[39m\u001b[39m.\u001b[39m_info\u001b[39m.\u001b[39mframes \u001b[39m=\u001b[39m \u001b[39m0\u001b[39m\n",
            "\u001b[1;31mLibsndfileError\u001b[0m: Error opening <urllib3.response.HTTPResponse object at 0x00000208C9E6F280>: Error in WAV file. No 'data' chunk marker."
          ]
        }
      ],
      "source": [
        "print(\"Source:\", SAMPLE_WAV_URL)\n",
        "with requests.get(SAMPLE_WAV_URL, stream=True) as response:\n",
        "    metadata = torchaudio.info(response.raw)\n",
        "print(metadata)"
      ]
    },
    {
      "cell_type": "markdown",
      "metadata": {},
      "source": [
        "**Note** When passing a file-like object, ``info`` does not read\n",
        "all of the underlying data; rather, it reads only a portion\n",
        "of the data from the beginning.\n",
        "Therefore, for a given audio format, it may not be able to retrieve the\n",
        "correct metadata, including the format itself.\n",
        "The following example illustrates this.\n",
        "\n",
        "-  Use argument ``format`` to specify the audio format of the input.\n",
        "-  The returned metadata has ``num_frames = 0``\n",
        "\n",
        "\n"
      ]
    },
    {
      "cell_type": "code",
      "execution_count": 7,
      "metadata": {
        "collapsed": false
      },
      "outputs": [
        {
          "name": "stdout",
          "output_type": "stream",
          "text": [
            "Source: https://pytorch-tutorial-assets.s3.amazonaws.com/steam-train-whistle-daniel_simon.mp3\n"
          ]
        },
        {
          "name": "stderr",
          "output_type": "stream",
          "text": [
            "Exception ignored from cffi callback <function SoundFile._init_virtual_io.<locals>.vio_get_filelen at 0x00000208BEFC65E0>:\n",
            "Traceback (most recent call last):\n",
            "  File \"c:\\Users\\lkk68\\.conda\\envs\\mycondapy39\\lib\\site-packages\\soundfile.py\", line 1231, in vio_get_filelen\n",
            "    file.seek(0, SEEK_END)\n",
            "io.UnsupportedOperation: seek\n",
            "Exception ignored from cffi callback <function SoundFile._init_virtual_io.<locals>.vio_seek at 0x00000208CB60C670>:\n",
            "Traceback (most recent call last):\n",
            "  File \"c:\\Users\\lkk68\\.conda\\envs\\mycondapy39\\lib\\site-packages\\soundfile.py\", line 1238, in vio_seek\n",
            "    file.seek(offset, whence)\n",
            "io.UnsupportedOperation: seek\n",
            "Exception ignored from cffi callback <function SoundFile._init_virtual_io.<locals>.vio_seek at 0x00000208CB60C670>:\n",
            "Traceback (most recent call last):\n",
            "  File \"c:\\Users\\lkk68\\.conda\\envs\\mycondapy39\\lib\\site-packages\\soundfile.py\", line 1238, in vio_seek\n",
            "    file.seek(offset, whence)\n",
            "io.UnsupportedOperation: seek\n",
            "Exception ignored from cffi callback <function SoundFile._init_virtual_io.<locals>.vio_seek at 0x00000208CB60C670>:\n",
            "Traceback (most recent call last):\n",
            "  File \"c:\\Users\\lkk68\\.conda\\envs\\mycondapy39\\lib\\site-packages\\soundfile.py\", line 1238, in vio_seek\n",
            "    file.seek(offset, whence)\n",
            "io.UnsupportedOperation: seek\n",
            "Exception ignored from cffi callback <function SoundFile._init_virtual_io.<locals>.vio_seek at 0x00000208CB60C670>:\n",
            "Traceback (most recent call last):\n",
            "  File \"c:\\Users\\lkk68\\.conda\\envs\\mycondapy39\\lib\\site-packages\\soundfile.py\", line 1238, in vio_seek\n",
            "    file.seek(offset, whence)\n",
            "io.UnsupportedOperation: seek\n",
            "Exception ignored from cffi callback <function SoundFile._init_virtual_io.<locals>.vio_seek at 0x00000208CB60C670>:\n",
            "Traceback (most recent call last):\n",
            "  File \"c:\\Users\\lkk68\\.conda\\envs\\mycondapy39\\lib\\site-packages\\soundfile.py\", line 1238, in vio_seek\n",
            "    file.seek(offset, whence)\n",
            "io.UnsupportedOperation: seek\n"
          ]
        },
        {
          "ename": "LibsndfileError",
          "evalue": "Error opening <urllib3.response.HTTPResponse object at 0x00000208C9E7C6A0>: File does not exist or is not a regular file (possibly a pipe?).",
          "output_type": "error",
          "traceback": [
            "\u001b[1;31m---------------------------------------------------------------------------\u001b[0m",
            "\u001b[1;31mLibsndfileError\u001b[0m                           Traceback (most recent call last)",
            "\u001b[1;32md:\\GitHub\\DeepDataMiningLearning\\signalAI\\torchaudio.ipynb Cell 14\u001b[0m line \u001b[0;36m3\n\u001b[0;32m      <a href='vscode-notebook-cell:/d%3A/GitHub/DeepDataMiningLearning/signalAI/torchaudio.ipynb#X15sZmlsZQ%3D%3D?line=0'>1</a>\u001b[0m \u001b[39mprint\u001b[39m(\u001b[39m\"\u001b[39m\u001b[39mSource:\u001b[39m\u001b[39m\"\u001b[39m, SAMPLE_MP3_URL)\n\u001b[0;32m      <a href='vscode-notebook-cell:/d%3A/GitHub/DeepDataMiningLearning/signalAI/torchaudio.ipynb#X15sZmlsZQ%3D%3D?line=1'>2</a>\u001b[0m \u001b[39mwith\u001b[39;00m requests\u001b[39m.\u001b[39mget(SAMPLE_MP3_URL, stream\u001b[39m=\u001b[39m\u001b[39mTrue\u001b[39;00m) \u001b[39mas\u001b[39;00m response:\n\u001b[1;32m----> <a href='vscode-notebook-cell:/d%3A/GitHub/DeepDataMiningLearning/signalAI/torchaudio.ipynb#X15sZmlsZQ%3D%3D?line=2'>3</a>\u001b[0m     metadata \u001b[39m=\u001b[39m torchaudio\u001b[39m.\u001b[39;49minfo(response\u001b[39m.\u001b[39;49mraw, \u001b[39mformat\u001b[39;49m\u001b[39m=\u001b[39;49m\u001b[39m\"\u001b[39;49m\u001b[39mmp3\u001b[39;49m\u001b[39m\"\u001b[39;49m)\n\u001b[0;32m      <a href='vscode-notebook-cell:/d%3A/GitHub/DeepDataMiningLearning/signalAI/torchaudio.ipynb#X15sZmlsZQ%3D%3D?line=4'>5</a>\u001b[0m     \u001b[39mprint\u001b[39m(\u001b[39mf\u001b[39m\u001b[39m\"\u001b[39m\u001b[39mFetched \u001b[39m\u001b[39m{\u001b[39;00mresponse\u001b[39m.\u001b[39mraw\u001b[39m.\u001b[39mtell()\u001b[39m}\u001b[39;00m\u001b[39m bytes.\u001b[39m\u001b[39m\"\u001b[39m)\n\u001b[0;32m      <a href='vscode-notebook-cell:/d%3A/GitHub/DeepDataMiningLearning/signalAI/torchaudio.ipynb#X15sZmlsZQ%3D%3D?line=5'>6</a>\u001b[0m \u001b[39mprint\u001b[39m(metadata)\n",
            "File \u001b[1;32mc:\\Users\\lkk68\\.conda\\envs\\mycondapy39\\lib\\site-packages\\torchaudio\\backend\\soundfile_backend.py:119\u001b[0m, in \u001b[0;36minfo\u001b[1;34m(filepath, format)\u001b[0m\n\u001b[0;32m    100\u001b[0m \u001b[39m@_requires_soundfile\u001b[39m\n\u001b[0;32m    101\u001b[0m \u001b[39mdef\u001b[39;00m \u001b[39minfo\u001b[39m(filepath: \u001b[39mstr\u001b[39m, \u001b[39mformat\u001b[39m: Optional[\u001b[39mstr\u001b[39m] \u001b[39m=\u001b[39m \u001b[39mNone\u001b[39;00m) \u001b[39m-\u001b[39m\u001b[39m>\u001b[39m AudioMetaData:\n\u001b[0;32m    102\u001b[0m \u001b[39m    \u001b[39m\u001b[39m\"\"\"Get signal information of an audio file.\u001b[39;00m\n\u001b[0;32m    103\u001b[0m \n\u001b[0;32m    104\u001b[0m \u001b[39m    Note:\u001b[39;00m\n\u001b[1;32m   (...)\u001b[0m\n\u001b[0;32m    117\u001b[0m \n\u001b[0;32m    118\u001b[0m \u001b[39m    \"\"\"\u001b[39;00m\n\u001b[1;32m--> 119\u001b[0m     sinfo \u001b[39m=\u001b[39m soundfile\u001b[39m.\u001b[39;49minfo(filepath)\n\u001b[0;32m    120\u001b[0m     \u001b[39mreturn\u001b[39;00m AudioMetaData(\n\u001b[0;32m    121\u001b[0m         sinfo\u001b[39m.\u001b[39msamplerate,\n\u001b[0;32m    122\u001b[0m         sinfo\u001b[39m.\u001b[39mframes,\n\u001b[1;32m   (...)\u001b[0m\n\u001b[0;32m    125\u001b[0m         encoding\u001b[39m=\u001b[39m_get_encoding(sinfo\u001b[39m.\u001b[39mformat, sinfo\u001b[39m.\u001b[39msubtype),\n\u001b[0;32m    126\u001b[0m     )\n",
            "File \u001b[1;32mc:\\Users\\lkk68\\.conda\\envs\\mycondapy39\\lib\\site-packages\\soundfile.py:467\u001b[0m, in \u001b[0;36minfo\u001b[1;34m(file, verbose)\u001b[0m\n\u001b[0;32m    459\u001b[0m \u001b[39mdef\u001b[39;00m \u001b[39minfo\u001b[39m(file, verbose\u001b[39m=\u001b[39m\u001b[39mFalse\u001b[39;00m):\n\u001b[0;32m    460\u001b[0m \u001b[39m    \u001b[39m\u001b[39m\"\"\"Returns an object with information about a `SoundFile`.\u001b[39;00m\n\u001b[0;32m    461\u001b[0m \n\u001b[0;32m    462\u001b[0m \u001b[39m    Parameters\u001b[39;00m\n\u001b[1;32m   (...)\u001b[0m\n\u001b[0;32m    465\u001b[0m \u001b[39m        Whether to print additional information.\u001b[39;00m\n\u001b[0;32m    466\u001b[0m \u001b[39m    \"\"\"\u001b[39;00m\n\u001b[1;32m--> 467\u001b[0m     \u001b[39mreturn\u001b[39;00m _SoundFileInfo(file, verbose)\n",
            "File \u001b[1;32mc:\\Users\\lkk68\\.conda\\envs\\mycondapy39\\lib\\site-packages\\soundfile.py:412\u001b[0m, in \u001b[0;36m_SoundFileInfo.__init__\u001b[1;34m(self, file, verbose)\u001b[0m\n\u001b[0;32m    410\u001b[0m \u001b[39mdef\u001b[39;00m \u001b[39m__init__\u001b[39m(\u001b[39mself\u001b[39m, file, verbose):\n\u001b[0;32m    411\u001b[0m     \u001b[39mself\u001b[39m\u001b[39m.\u001b[39mverbose \u001b[39m=\u001b[39m verbose\n\u001b[1;32m--> 412\u001b[0m     \u001b[39mwith\u001b[39;00m SoundFile(file) \u001b[39mas\u001b[39;00m f:\n\u001b[0;32m    413\u001b[0m         \u001b[39mself\u001b[39m\u001b[39m.\u001b[39mname \u001b[39m=\u001b[39m f\u001b[39m.\u001b[39mname\n\u001b[0;32m    414\u001b[0m         \u001b[39mself\u001b[39m\u001b[39m.\u001b[39msamplerate \u001b[39m=\u001b[39m f\u001b[39m.\u001b[39msamplerate\n",
            "File \u001b[1;32mc:\\Users\\lkk68\\.conda\\envs\\mycondapy39\\lib\\site-packages\\soundfile.py:658\u001b[0m, in \u001b[0;36mSoundFile.__init__\u001b[1;34m(self, file, mode, samplerate, channels, subtype, endian, format, closefd)\u001b[0m\n\u001b[0;32m    655\u001b[0m \u001b[39mself\u001b[39m\u001b[39m.\u001b[39m_mode \u001b[39m=\u001b[39m mode\n\u001b[0;32m    656\u001b[0m \u001b[39mself\u001b[39m\u001b[39m.\u001b[39m_info \u001b[39m=\u001b[39m _create_info_struct(file, mode, samplerate, channels,\n\u001b[0;32m    657\u001b[0m                                  \u001b[39mformat\u001b[39m, subtype, endian)\n\u001b[1;32m--> 658\u001b[0m \u001b[39mself\u001b[39m\u001b[39m.\u001b[39m_file \u001b[39m=\u001b[39m \u001b[39mself\u001b[39;49m\u001b[39m.\u001b[39;49m_open(file, mode_int, closefd)\n\u001b[0;32m    659\u001b[0m \u001b[39mif\u001b[39;00m \u001b[39mset\u001b[39m(mode)\u001b[39m.\u001b[39missuperset(\u001b[39m'\u001b[39m\u001b[39mr+\u001b[39m\u001b[39m'\u001b[39m) \u001b[39mand\u001b[39;00m \u001b[39mself\u001b[39m\u001b[39m.\u001b[39mseekable():\n\u001b[0;32m    660\u001b[0m     \u001b[39m# Move write position to 0 (like in Python file objects)\u001b[39;00m\n\u001b[0;32m    661\u001b[0m     \u001b[39mself\u001b[39m\u001b[39m.\u001b[39mseek(\u001b[39m0\u001b[39m)\n",
            "File \u001b[1;32mc:\\Users\\lkk68\\.conda\\envs\\mycondapy39\\lib\\site-packages\\soundfile.py:1216\u001b[0m, in \u001b[0;36mSoundFile._open\u001b[1;34m(self, file, mode_int, closefd)\u001b[0m\n\u001b[0;32m   1213\u001b[0m \u001b[39mif\u001b[39;00m file_ptr \u001b[39m==\u001b[39m _ffi\u001b[39m.\u001b[39mNULL:\n\u001b[0;32m   1214\u001b[0m     \u001b[39m# get the actual error code\u001b[39;00m\n\u001b[0;32m   1215\u001b[0m     err \u001b[39m=\u001b[39m _snd\u001b[39m.\u001b[39msf_error(file_ptr)\n\u001b[1;32m-> 1216\u001b[0m     \u001b[39mraise\u001b[39;00m LibsndfileError(err, prefix\u001b[39m=\u001b[39m\u001b[39m\"\u001b[39m\u001b[39mError opening \u001b[39m\u001b[39m{0!r}\u001b[39;00m\u001b[39m: \u001b[39m\u001b[39m\"\u001b[39m\u001b[39m.\u001b[39mformat(\u001b[39mself\u001b[39m\u001b[39m.\u001b[39mname))\n\u001b[0;32m   1217\u001b[0m \u001b[39mif\u001b[39;00m mode_int \u001b[39m==\u001b[39m _snd\u001b[39m.\u001b[39mSFM_WRITE:\n\u001b[0;32m   1218\u001b[0m     \u001b[39m# Due to a bug in libsndfile version <= 1.0.25, frames != 0\u001b[39;00m\n\u001b[0;32m   1219\u001b[0m     \u001b[39m# when opening a named pipe in SFM_WRITE mode.\u001b[39;00m\n\u001b[0;32m   1220\u001b[0m     \u001b[39m# See http://github.com/erikd/libsndfile/issues/77.\u001b[39;00m\n\u001b[0;32m   1221\u001b[0m     \u001b[39mself\u001b[39m\u001b[39m.\u001b[39m_info\u001b[39m.\u001b[39mframes \u001b[39m=\u001b[39m \u001b[39m0\u001b[39m\n",
            "\u001b[1;31mLibsndfileError\u001b[0m: Error opening <urllib3.response.HTTPResponse object at 0x00000208C9E7C6A0>: File does not exist or is not a regular file (possibly a pipe?)."
          ]
        }
      ],
      "source": [
        "print(\"Source:\", SAMPLE_MP3_URL)\n",
        "with requests.get(SAMPLE_MP3_URL, stream=True) as response:\n",
        "    metadata = torchaudio.info(response.raw, format=\"mp3\")\n",
        "\n",
        "    print(f\"Fetched {response.raw.tell()} bytes.\")\n",
        "print(metadata)"
      ]
    },
    {
      "cell_type": "markdown",
      "metadata": {},
      "source": [
        "## Loading audio data into Tensor\n",
        "\n",
        "To load audio data, you can use :py:func:`torchaudio.load`.\n",
        "\n",
        "This function accepts a path-like object or file-like object as input.\n",
        "\n",
        "The returned value is a tuple of waveform (``Tensor``) and sample rate\n",
        "(``int``).\n",
        "\n",
        "By default, the resulting tensor object has ``dtype=torch.float32`` and\n",
        "its value range is normalized within ``[-1.0, 1.0]``.\n",
        "\n",
        "For the list of supported format, please refer to `the torchaudio\n",
        "documentation <https://pytorch.org/audio>`__.\n",
        "\n",
        "\n"
      ]
    },
    {
      "cell_type": "code",
      "execution_count": 8,
      "metadata": {},
      "outputs": [
        {
          "data": {
            "text/plain": [
              "'data\\\\speech.wav'"
            ]
          },
          "execution_count": 8,
          "metadata": {},
          "output_type": "execute_result"
        }
      ],
      "source": [
        "SAMPLE_WAV_SPEECH_PATH"
      ]
    },
    {
      "cell_type": "code",
      "execution_count": 9,
      "metadata": {
        "collapsed": false
      },
      "outputs": [
        {
          "name": "stdout",
          "output_type": "stream",
          "text": [
            "Sample Rate: 16000\n",
            "Shape: (1, 54400)\n",
            "Dtype: torch.float32\n",
            " - Max:      0.668\n",
            " - Min:     -1.000\n",
            " - Mean:     0.000\n",
            " - Std Dev:  0.122\n",
            "\n",
            "tensor([[0.0183, 0.0180, 0.0180,  ..., 0.0018, 0.0019, 0.0032]])\n",
            "\n"
          ]
        },
        {
          "ename": "",
          "evalue": "",
          "output_type": "error",
          "traceback": [
            "\u001b[1;31mThe Kernel crashed while executing code in the the current cell or a previous cell. Please review the code in the cell(s) to identify a possible cause of the failure. Click <a href='https://aka.ms/vscodeJupyterKernelCrash'>here</a> for more info. View Jupyter <a href='command:jupyter.viewOutput'>log</a> for further details."
          ]
        }
      ],
      "source": [
        "waveform, sample_rate = torchaudio.load(SAMPLE_WAV_SPEECH_PATH)\n",
        "\n",
        "print_stats(waveform, sample_rate=sample_rate)\n",
        "plot_waveform(waveform, sample_rate)\n",
        "plot_specgram(waveform, sample_rate)\n",
        "play_audio(waveform, sample_rate)"
      ]
    },
    {
      "cell_type": "markdown",
      "metadata": {},
      "source": [
        "### Loading from file-like object\n",
        "\n",
        "``torchaudio``\\ ’s I/O functions now support file-like objects. This\n",
        "allows for fetching and decoding audio data from locations\n",
        "within and beyond the local file system.\n",
        "The following examples illustrate this.\n",
        "\n",
        "\n"
      ]
    },
    {
      "cell_type": "code",
      "execution_count": null,
      "metadata": {
        "collapsed": false
      },
      "outputs": [],
      "source": [
        "# Load audio data as HTTP request\n",
        "with requests.get(SAMPLE_WAV_SPEECH_URL, stream=True) as response:\n",
        "    waveform, sample_rate = torchaudio.load(response.raw)\n",
        "plot_specgram(waveform, sample_rate, title=\"HTTP datasource\")\n",
        "\n",
        "# Load audio from tar file\n",
        "with tarfile.open(SAMPLE_TAR_PATH, mode=\"r\") as tarfile_:\n",
        "    fileobj = tarfile_.extractfile(SAMPLE_TAR_ITEM)\n",
        "    waveform, sample_rate = torchaudio.load(fileobj)\n",
        "plot_specgram(waveform, sample_rate, title=\"TAR file\")\n",
        "\n",
        "# Load audio from S3\n",
        "client = boto3.client(\"s3\", config=Config(signature_version=UNSIGNED))\n",
        "response = client.get_object(Bucket=S3_BUCKET, Key=S3_KEY)\n",
        "waveform, sample_rate = torchaudio.load(response[\"Body\"])\n",
        "plot_specgram(waveform, sample_rate, title=\"From S3\")"
      ]
    },
    {
      "cell_type": "markdown",
      "metadata": {},
      "source": [
        "### Tips on slicing\n",
        "\n",
        "Providing ``num_frames`` and ``frame_offset`` arguments restricts\n",
        "decoding to the corresponding segment of the input.\n",
        "\n",
        "The same result can be achieved using vanilla Tensor slicing,\n",
        "(i.e. ``waveform[:, frame_offset:frame_offset+num_frames]``). However,\n",
        "providing ``num_frames`` and ``frame_offset`` arguments is more\n",
        "efficient.\n",
        "\n",
        "This is because the function will end data acquisition and decoding\n",
        "once it finishes decoding the requested frames. This is advantageous\n",
        "when the audio data are transferred via network as the data transfer will\n",
        "stop as soon as the necessary amount of data is fetched.\n",
        "\n",
        "The following example illustrates this.\n",
        "\n",
        "\n"
      ]
    },
    {
      "cell_type": "code",
      "execution_count": null,
      "metadata": {
        "collapsed": false
      },
      "outputs": [],
      "source": [
        "# Illustration of two different decoding methods.\n",
        "# The first one will fetch all the data and decode them, while\n",
        "# the second one will stop fetching data once it completes decoding.\n",
        "# The resulting waveforms are identical.\n",
        "\n",
        "frame_offset, num_frames = 16000, 16000  # Fetch and decode the 1 - 2 seconds\n",
        "\n",
        "print(\"Fetching all the data...\")\n",
        "with requests.get(SAMPLE_WAV_SPEECH_URL, stream=True) as response:\n",
        "    waveform1, sample_rate1 = torchaudio.load(response.raw)\n",
        "    waveform1 = waveform1[:, frame_offset : frame_offset + num_frames]\n",
        "    print(f\" - Fetched {response.raw.tell()} bytes\")\n",
        "\n",
        "print(\"Fetching until the requested frames are available...\")\n",
        "with requests.get(SAMPLE_WAV_SPEECH_URL, stream=True) as response:\n",
        "    waveform2, sample_rate2 = torchaudio.load(response.raw, frame_offset=frame_offset, num_frames=num_frames)\n",
        "    print(f\" - Fetched {response.raw.tell()} bytes\")\n",
        "\n",
        "print(\"Checking the resulting waveform ... \", end=\"\")\n",
        "assert (waveform1 == waveform2).all()\n",
        "print(\"matched!\")"
      ]
    },
    {
      "cell_type": "markdown",
      "metadata": {},
      "source": [
        "## Saving audio to file\n",
        "\n",
        "To save audio data in formats interpretable by common applications,\n",
        "you can use :py:func:`torchaudio.save`.\n",
        "\n",
        "This function accepts a path-like object or file-like object.\n",
        "\n",
        "When passing a file-like object, you also need to provide argument ``format``\n",
        "so that the function knows which format it should use. In the\n",
        "case of a path-like object, the function will infer the format from\n",
        "the extension. If you are saving to a file without an extension, you need\n",
        "to provide argument ``format``.\n",
        "\n",
        "When saving WAV-formatted data, the default encoding for ``float32`` Tensor\n",
        "is 32-bit floating-point PCM. You can provide arguments ``encoding`` and\n",
        "``bits_per_sample`` to change this behavior. For example, to save data\n",
        "in 16-bit signed integer PCM, you can do the following.\n",
        "\n",
        "**Note** Saving data in encodings with lower bit depth reduces the\n",
        "resulting file size but also precision.\n",
        "\n",
        "\n"
      ]
    },
    {
      "cell_type": "code",
      "execution_count": null,
      "metadata": {
        "collapsed": false
      },
      "outputs": [],
      "source": [
        "waveform, sample_rate = get_sample()\n",
        "print_stats(waveform, sample_rate=sample_rate)\n",
        "\n",
        "# Save without any encoding option.\n",
        "# The function will pick up the encoding which\n",
        "# the provided data fit\n",
        "path = f\"{_SAMPLE_DIR}/save_example_default.wav\"\n",
        "torchaudio.save(path, waveform, sample_rate)\n",
        "inspect_file(path)\n",
        "\n",
        "# Save as 16-bit signed integer Linear PCM\n",
        "# The resulting file occupies half the storage but loses precision\n",
        "path = f\"{_SAMPLE_DIR}/save_example_PCM_S16.wav\"\n",
        "torchaudio.save(path, waveform, sample_rate, encoding=\"PCM_S\", bits_per_sample=16)\n",
        "inspect_file(path)"
      ]
    },
    {
      "cell_type": "markdown",
      "metadata": {},
      "source": [
        ":py:func`torchaudio.save` can also handle other formats.\n",
        "To name a few:\n",
        "\n",
        "\n"
      ]
    },
    {
      "cell_type": "code",
      "execution_count": null,
      "metadata": {
        "collapsed": false
      },
      "outputs": [],
      "source": [
        "waveform, sample_rate = get_sample(resample=8000)\n",
        "\n",
        "formats = [\n",
        "    \"mp3\",\n",
        "    \"flac\",\n",
        "    \"vorbis\",\n",
        "    \"sph\",\n",
        "    \"amb\",\n",
        "    \"amr-nb\",\n",
        "    \"gsm\",\n",
        "]\n",
        "\n",
        "for format in formats:\n",
        "    path = f\"{_SAMPLE_DIR}/save_example.{format}\"\n",
        "    torchaudio.save(path, waveform, sample_rate, format=format)\n",
        "    inspect_file(path)"
      ]
    },
    {
      "cell_type": "markdown",
      "metadata": {},
      "source": [
        "### Saving to file-like object\n",
        "\n",
        "Similar to the other I/O functions, you can save audio to file-like\n",
        "objects. When saving to a file-like object, argument ``format`` is\n",
        "required.\n",
        "\n",
        "\n"
      ]
    },
    {
      "cell_type": "code",
      "execution_count": null,
      "metadata": {
        "collapsed": false
      },
      "outputs": [],
      "source": [
        "waveform, sample_rate = get_sample()\n",
        "\n",
        "# Saving to bytes buffer\n",
        "buffer_ = io.BytesIO()\n",
        "torchaudio.save(buffer_, waveform, sample_rate, format=\"wav\")\n",
        "\n",
        "buffer_.seek(0)\n",
        "print(buffer_.read(16))"
      ]
    }
  ],
  "metadata": {
    "kernelspec": {
      "display_name": "Python 3",
      "language": "python",
      "name": "python3"
    },
    "language_info": {
      "codemirror_mode": {
        "name": "ipython",
        "version": 3
      },
      "file_extension": ".py",
      "mimetype": "text/x-python",
      "name": "python",
      "nbconvert_exporter": "python",
      "pygments_lexer": "ipython3",
      "version": "3.9.18"
    }
  },
  "nbformat": 4,
  "nbformat_minor": 0
}
